{
 "cells": [
  {
   "cell_type": "markdown",
   "metadata": {},
   "source": [
    "EcoForest 0.8\n",
    "\n",
    "> **0.7的精华版，0.8是一个里程碑，将在其基础上做最后的修改**\n",
    "\n",
    "- 数据地址：UCI\n",
    "  - Letter: https://archive.ics.uci.edu/ml/datasets/letter+recognition\n",
    "- 数据特点：\n",
    "  - 非常不均衡、缺失值严重、二分类\n",
    "- 包含内容：\n",
    "  1. 数据获取\n",
    "  2. 模型应用\n",
    "  3. 结果分析"
   ]
  },
  {
   "cell_type": "code",
   "execution_count": 1,
   "metadata": {},
   "outputs": [],
   "source": [
    "import os\n",
    "import numpy as np\n",
    "import pandas as pd\n",
    "import time\n",
    "import os.path as osp"
   ]
  },
  {
   "cell_type": "code",
   "execution_count": 2,
   "metadata": {},
   "outputs": [
    {
     "data": {
      "text/plain": [
       "20"
      ]
     },
     "execution_count": 2,
     "metadata": {},
     "output_type": "execute_result"
    }
   ],
   "source": [
    "import gc \n",
    "# del a\n",
    "gc.collect()"
   ]
  },
  {
   "cell_type": "markdown",
   "metadata": {},
   "source": [
    "# Stage-1：获取数据"
   ]
  },
  {
   "cell_type": "code",
   "execution_count": 3,
   "metadata": {},
   "outputs": [
    {
     "data": {
      "text/plain": [
       "<module 'DataHelper' from 'C:\\\\Users\\\\dxeec\\\\Desktop\\\\EcoForest-master\\\\DataHelper.py'>"
      ]
     },
     "execution_count": 3,
     "metadata": {},
     "output_type": "execute_result"
    }
   ],
   "source": [
    "import DataHelper\n",
    "import importlib\n",
    "from collections import Counter\n",
    "importlib.reload(DataHelper)"
   ]
  },
  {
   "cell_type": "code",
   "execution_count": 4,
   "metadata": {},
   "outputs": [],
   "source": [
    "# X_train,y_train, X_sub, y_sub = DataHelper.get_driver_data()\n",
    "# X_train,y_train, X_sub, y_sub = DataHelper.get_yeast_data()"
   ]
  },
  {
   "cell_type": "code",
   "execution_count": 5,
   "metadata": {},
   "outputs": [
    {
     "name": "stdout",
     "output_type": "stream",
     "text": [
      "X.shape: (16000, 16) y.shape: (16000,)\n",
      "X.shape: (4000, 16) y.shape: (4000,)\n"
     ]
    }
   ],
   "source": [
    "X_train,y_train, X_sub, y_sub = DataHelper.get_letter_data()"
   ]
  },
  {
   "cell_type": "code",
   "execution_count": 6,
   "metadata": {
    "scrolled": true
   },
   "outputs": [
    {
     "data": {
      "text/plain": [
       "Counter({19: 645,\n",
       "         8: 590,\n",
       "         3: 638,\n",
       "         13: 617,\n",
       "         6: 609,\n",
       "         18: 587,\n",
       "         1: 630,\n",
       "         0: 633,\n",
       "         9: 599,\n",
       "         12: 648,\n",
       "         23: 628,\n",
       "         14: 614,\n",
       "         17: 597,\n",
       "         5: 622,\n",
       "         2: 594,\n",
       "         7: 583,\n",
       "         22: 613,\n",
       "         11: 604,\n",
       "         15: 635,\n",
       "         4: 616,\n",
       "         21: 628,\n",
       "         24: 641,\n",
       "         16: 615,\n",
       "         20: 645,\n",
       "         10: 593,\n",
       "         25: 576})"
      ]
     },
     "execution_count": 6,
     "metadata": {},
     "output_type": "execute_result"
    }
   ],
   "source": [
    "Counter(y_train)"
   ]
  },
  {
   "cell_type": "code",
   "execution_count": 7,
   "metadata": {
    "scrolled": true
   },
   "outputs": [
    {
     "data": {
      "text/plain": [
       "Counter({20: 168,\n",
       "         13: 166,\n",
       "         21: 136,\n",
       "         8: 165,\n",
       "         7: 151,\n",
       "         4: 152,\n",
       "         24: 145,\n",
       "         6: 164,\n",
       "         1: 136,\n",
       "         11: 157,\n",
       "         12: 144,\n",
       "         3: 167,\n",
       "         17: 161,\n",
       "         15: 168,\n",
       "         22: 139,\n",
       "         16: 168,\n",
       "         9: 148,\n",
       "         2: 142,\n",
       "         19: 151,\n",
       "         0: 156,\n",
       "         10: 146,\n",
       "         18: 161,\n",
       "         14: 139,\n",
       "         5: 153,\n",
       "         25: 158,\n",
       "         23: 159})"
      ]
     },
     "execution_count": 7,
     "metadata": {},
     "output_type": "execute_result"
    }
   ],
   "source": [
    "Counter(y_sub)"
   ]
  },
  {
   "cell_type": "markdown",
   "metadata": {},
   "source": [
    "# Stage-2：模型应用"
   ]
  },
  {
   "cell_type": "code",
   "execution_count": 8,
   "metadata": {},
   "outputs": [
    {
     "data": {
      "text/plain": [
       "<module 'ModelUtils' from 'C:\\\\Users\\\\dxeec\\\\Desktop\\\\EcoForest-master\\\\ModelUtils.py'>"
      ]
     },
     "execution_count": 8,
     "metadata": {},
     "output_type": "execute_result"
    }
   ],
   "source": [
    "import ModelUtils\n",
    "import importlib\n",
    "from collections import Counter\n",
    "importlib.reload(ModelUtils)"
   ]
  },
  {
   "cell_type": "code",
   "execution_count": 9,
   "metadata": {},
   "outputs": [],
   "source": [
    "from sklearn import metrics\n",
    "def acc_metrix_mult(a, p):\n",
    "#     print(p)\n",
    "    return \"acc\", metrics.accuracy_score(a, p)"
   ]
  },
  {
   "cell_type": "markdown",
   "metadata": {},
   "source": [
    "# DT, RF, GDBT, XGB 算法"
   ]
  },
  {
   "cell_type": "code",
   "execution_count": 10,
   "metadata": {},
   "outputs": [
    {
     "ename": "ValueError",
     "evalue": "Classification metrics can't handle a mix of multiclass and multilabel-indicator targets",
     "output_type": "error",
     "traceback": [
      "\u001b[1;31m---------------------------------------------------------------------------\u001b[0m",
      "\u001b[1;31mValueError\u001b[0m                                Traceback (most recent call last)",
      "\u001b[1;32m<ipython-input-10-f5d06d3aa05b>\u001b[0m in \u001b[0;36m<module>\u001b[1;34m\u001b[0m\n\u001b[1;32m----> 1\u001b[1;33m \u001b[0mModelUtils\u001b[0m\u001b[1;33m.\u001b[0m\u001b[0mdecision_tree\u001b[0m\u001b[1;33m(\u001b[0m\u001b[0mX_train\u001b[0m\u001b[1;33m,\u001b[0m \u001b[0my_train\u001b[0m\u001b[1;33m,\u001b[0m \u001b[0mX_sub\u001b[0m\u001b[1;33m,\u001b[0m \u001b[0my_sub\u001b[0m\u001b[1;33m,\u001b[0m \u001b[0mfeval\u001b[0m\u001b[1;33m=\u001b[0m\u001b[0macc_metrix_mult\u001b[0m\u001b[1;33m)\u001b[0m\u001b[1;33m\u001b[0m\u001b[1;33m\u001b[0m\u001b[0m\n\u001b[0m",
      "\u001b[1;32m~\\Desktop\\EcoForest-master\\ModelUtils.py\u001b[0m in \u001b[0;36mdecision_tree\u001b[1;34m(X_train, y_train, X_sub, y_sub, feval)\u001b[0m\n\u001b[0;32m     46\u001b[0m \u001b[1;33m\u001b[0m\u001b[0m\n\u001b[0;32m     47\u001b[0m     \u001b[0mp_train\u001b[0m \u001b[1;33m=\u001b[0m \u001b[0mclf\u001b[0m\u001b[1;33m.\u001b[0m\u001b[0mpredict_proba\u001b[0m\u001b[1;33m(\u001b[0m\u001b[0mX_train\u001b[0m\u001b[1;33m)\u001b[0m\u001b[1;33m\u001b[0m\u001b[1;33m\u001b[0m\u001b[0m\n\u001b[1;32m---> 48\u001b[1;33m     \u001b[0mprint\u001b[0m\u001b[1;33m(\u001b[0m\u001b[1;34m\"train\"\u001b[0m\u001b[1;33m,\u001b[0m \u001b[0mfeval\u001b[0m\u001b[1;33m(\u001b[0m\u001b[0my_train\u001b[0m\u001b[1;33m,\u001b[0m \u001b[0mp_train\u001b[0m\u001b[1;33m)\u001b[0m\u001b[1;33m)\u001b[0m\u001b[1;33m\u001b[0m\u001b[1;33m\u001b[0m\u001b[0m\n\u001b[0m\u001b[0;32m     49\u001b[0m     \u001b[0mp_train\u001b[0m \u001b[1;33m=\u001b[0m \u001b[0mclf\u001b[0m\u001b[1;33m.\u001b[0m\u001b[0mpredict_proba\u001b[0m\u001b[1;33m(\u001b[0m\u001b[0mX_sub\u001b[0m\u001b[1;33m)\u001b[0m\u001b[1;33m\u001b[0m\u001b[1;33m\u001b[0m\u001b[0m\n\u001b[0;32m     50\u001b[0m     \u001b[0mprint\u001b[0m\u001b[1;33m(\u001b[0m\u001b[1;34m\"test\"\u001b[0m\u001b[1;33m,\u001b[0m \u001b[0mfeval\u001b[0m\u001b[1;33m(\u001b[0m\u001b[0my_sub\u001b[0m\u001b[1;33m,\u001b[0m \u001b[0mp_train\u001b[0m\u001b[1;33m)\u001b[0m\u001b[1;33m)\u001b[0m\u001b[1;33m\u001b[0m\u001b[1;33m\u001b[0m\u001b[0m\n",
      "\u001b[1;32m<ipython-input-9-dd98c68187b1>\u001b[0m in \u001b[0;36macc_metrix_mult\u001b[1;34m(a, p)\u001b[0m\n\u001b[0;32m      2\u001b[0m \u001b[1;32mdef\u001b[0m \u001b[0macc_metrix_mult\u001b[0m\u001b[1;33m(\u001b[0m\u001b[0ma\u001b[0m\u001b[1;33m,\u001b[0m \u001b[0mp\u001b[0m\u001b[1;33m)\u001b[0m\u001b[1;33m:\u001b[0m\u001b[1;33m\u001b[0m\u001b[1;33m\u001b[0m\u001b[0m\n\u001b[0;32m      3\u001b[0m \u001b[1;31m#     print(p)\u001b[0m\u001b[1;33m\u001b[0m\u001b[1;33m\u001b[0m\u001b[1;33m\u001b[0m\u001b[0m\n\u001b[1;32m----> 4\u001b[1;33m     \u001b[1;32mreturn\u001b[0m \u001b[1;34m\"acc\"\u001b[0m\u001b[1;33m,\u001b[0m \u001b[0mmetrics\u001b[0m\u001b[1;33m.\u001b[0m\u001b[0maccuracy_score\u001b[0m\u001b[1;33m(\u001b[0m\u001b[0ma\u001b[0m\u001b[1;33m,\u001b[0m \u001b[0mp\u001b[0m\u001b[1;33m)\u001b[0m\u001b[1;33m\u001b[0m\u001b[1;33m\u001b[0m\u001b[0m\n\u001b[0m",
      "\u001b[1;32m~\\Anaconda3\\lib\\site-packages\\sklearn\\metrics\\classification.py\u001b[0m in \u001b[0;36maccuracy_score\u001b[1;34m(y_true, y_pred, normalize, sample_weight)\u001b[0m\n\u001b[0;32m    174\u001b[0m \u001b[1;33m\u001b[0m\u001b[0m\n\u001b[0;32m    175\u001b[0m     \u001b[1;31m# Compute accuracy for each possible representation\u001b[0m\u001b[1;33m\u001b[0m\u001b[1;33m\u001b[0m\u001b[1;33m\u001b[0m\u001b[0m\n\u001b[1;32m--> 176\u001b[1;33m     \u001b[0my_type\u001b[0m\u001b[1;33m,\u001b[0m \u001b[0my_true\u001b[0m\u001b[1;33m,\u001b[0m \u001b[0my_pred\u001b[0m \u001b[1;33m=\u001b[0m \u001b[0m_check_targets\u001b[0m\u001b[1;33m(\u001b[0m\u001b[0my_true\u001b[0m\u001b[1;33m,\u001b[0m \u001b[0my_pred\u001b[0m\u001b[1;33m)\u001b[0m\u001b[1;33m\u001b[0m\u001b[1;33m\u001b[0m\u001b[0m\n\u001b[0m\u001b[0;32m    177\u001b[0m     \u001b[0mcheck_consistent_length\u001b[0m\u001b[1;33m(\u001b[0m\u001b[0my_true\u001b[0m\u001b[1;33m,\u001b[0m \u001b[0my_pred\u001b[0m\u001b[1;33m,\u001b[0m \u001b[0msample_weight\u001b[0m\u001b[1;33m)\u001b[0m\u001b[1;33m\u001b[0m\u001b[1;33m\u001b[0m\u001b[0m\n\u001b[0;32m    178\u001b[0m     \u001b[1;32mif\u001b[0m \u001b[0my_type\u001b[0m\u001b[1;33m.\u001b[0m\u001b[0mstartswith\u001b[0m\u001b[1;33m(\u001b[0m\u001b[1;34m'multilabel'\u001b[0m\u001b[1;33m)\u001b[0m\u001b[1;33m:\u001b[0m\u001b[1;33m\u001b[0m\u001b[1;33m\u001b[0m\u001b[0m\n",
      "\u001b[1;32m~\\Anaconda3\\lib\\site-packages\\sklearn\\metrics\\classification.py\u001b[0m in \u001b[0;36m_check_targets\u001b[1;34m(y_true, y_pred)\u001b[0m\n\u001b[0;32m     79\u001b[0m     \u001b[1;32mif\u001b[0m \u001b[0mlen\u001b[0m\u001b[1;33m(\u001b[0m\u001b[0my_type\u001b[0m\u001b[1;33m)\u001b[0m \u001b[1;33m>\u001b[0m \u001b[1;36m1\u001b[0m\u001b[1;33m:\u001b[0m\u001b[1;33m\u001b[0m\u001b[1;33m\u001b[0m\u001b[0m\n\u001b[0;32m     80\u001b[0m         raise ValueError(\"Classification metrics can't handle a mix of {0} \"\n\u001b[1;32m---> 81\u001b[1;33m                          \"and {1} targets\".format(type_true, type_pred))\n\u001b[0m\u001b[0;32m     82\u001b[0m \u001b[1;33m\u001b[0m\u001b[0m\n\u001b[0;32m     83\u001b[0m     \u001b[1;31m# We can't have more than one value on y_type => The set is no more needed\u001b[0m\u001b[1;33m\u001b[0m\u001b[1;33m\u001b[0m\u001b[1;33m\u001b[0m\u001b[0m\n",
      "\u001b[1;31mValueError\u001b[0m: Classification metrics can't handle a mix of multiclass and multilabel-indicator targets"
     ]
    }
   ],
   "source": [
    "ModelUtils.decision_tree(X_train, y_train, X_sub, y_sub, feval=acc_metrix_mult)"
   ]
  },
  {
   "cell_type": "code",
   "execution_count": 11,
   "metadata": {},
   "outputs": [
    {
     "name": "stdout",
     "output_type": "stream",
     "text": [
      "start train: 2019-08-18 20:53:51.409947\n",
      "start test: 2019-08-18 20:53:54.901327\n",
      "end test: 2019-08-18 20:53:55.310663\n"
     ]
    },
    {
     "ename": "ValueError",
     "evalue": "Classification metrics can't handle a mix of multiclass and continuous-multioutput targets",
     "output_type": "error",
     "traceback": [
      "\u001b[1;31m---------------------------------------------------------------------------\u001b[0m",
      "\u001b[1;31mValueError\u001b[0m                                Traceback (most recent call last)",
      "\u001b[1;32m<ipython-input-11-a252e53e9ee5>\u001b[0m in \u001b[0;36m<module>\u001b[1;34m\u001b[0m\n\u001b[1;32m----> 1\u001b[1;33m \u001b[0mModelUtils\u001b[0m\u001b[1;33m.\u001b[0m\u001b[0mrandom_forest\u001b[0m\u001b[1;33m(\u001b[0m\u001b[0mX_train\u001b[0m\u001b[1;33m,\u001b[0m \u001b[0my_train\u001b[0m\u001b[1;33m,\u001b[0m \u001b[0mX_sub\u001b[0m\u001b[1;33m,\u001b[0m \u001b[0my_sub\u001b[0m\u001b[1;33m,\u001b[0m \u001b[0mn_estimators\u001b[0m\u001b[1;33m=\u001b[0m\u001b[1;36m1000\u001b[0m\u001b[1;33m,\u001b[0m \u001b[0mfeval\u001b[0m\u001b[1;33m=\u001b[0m\u001b[0macc_metrix_mult\u001b[0m\u001b[1;33m)\u001b[0m\u001b[1;33m\u001b[0m\u001b[1;33m\u001b[0m\u001b[0m\n\u001b[0m",
      "\u001b[1;32m~\\Desktop\\EcoForest-master\\ModelUtils.py\u001b[0m in \u001b[0;36mrandom_forest\u001b[1;34m(X_train, y_train, X_sub, y_sub, n_estimators, feval, max_depth, min_samples_leaf, min_samples_split, max_features)\u001b[0m\n\u001b[0;32m     74\u001b[0m     \u001b[0mprint\u001b[0m\u001b[1;33m(\u001b[0m\u001b[1;34m\"end test:\"\u001b[0m\u001b[1;33m,\u001b[0m \u001b[0mtm\u001b[0m\u001b[1;33m)\u001b[0m\u001b[1;33m\u001b[0m\u001b[1;33m\u001b[0m\u001b[0m\n\u001b[0;32m     75\u001b[0m \u001b[1;33m\u001b[0m\u001b[0m\n\u001b[1;32m---> 76\u001b[1;33m     \u001b[0mprint\u001b[0m\u001b[1;33m(\u001b[0m\u001b[1;34m\"test\"\u001b[0m\u001b[1;33m,\u001b[0m \u001b[0mfeval\u001b[0m\u001b[1;33m(\u001b[0m\u001b[0my_sub\u001b[0m\u001b[1;33m,\u001b[0m \u001b[0mp_train\u001b[0m\u001b[1;33m)\u001b[0m\u001b[1;33m)\u001b[0m\u001b[1;33m\u001b[0m\u001b[1;33m\u001b[0m\u001b[0m\n\u001b[0m\u001b[0;32m     77\u001b[0m     \u001b[0mp_train\u001b[0m \u001b[1;33m=\u001b[0m \u001b[0mrf\u001b[0m\u001b[1;33m.\u001b[0m\u001b[0mpredict_proba\u001b[0m\u001b[1;33m(\u001b[0m\u001b[0mX_train\u001b[0m\u001b[1;33m)\u001b[0m\u001b[1;33m\u001b[0m\u001b[1;33m\u001b[0m\u001b[0m\n\u001b[0;32m     78\u001b[0m     \u001b[0mprint\u001b[0m\u001b[1;33m(\u001b[0m\u001b[1;34m\"train\"\u001b[0m\u001b[1;33m,\u001b[0m \u001b[0mfeval\u001b[0m\u001b[1;33m(\u001b[0m\u001b[0my_train\u001b[0m\u001b[1;33m,\u001b[0m \u001b[0mp_train\u001b[0m\u001b[1;33m)\u001b[0m\u001b[1;33m)\u001b[0m\u001b[1;33m\u001b[0m\u001b[1;33m\u001b[0m\u001b[0m\n",
      "\u001b[1;32m<ipython-input-9-dd98c68187b1>\u001b[0m in \u001b[0;36macc_metrix_mult\u001b[1;34m(a, p)\u001b[0m\n\u001b[0;32m      2\u001b[0m \u001b[1;32mdef\u001b[0m \u001b[0macc_metrix_mult\u001b[0m\u001b[1;33m(\u001b[0m\u001b[0ma\u001b[0m\u001b[1;33m,\u001b[0m \u001b[0mp\u001b[0m\u001b[1;33m)\u001b[0m\u001b[1;33m:\u001b[0m\u001b[1;33m\u001b[0m\u001b[1;33m\u001b[0m\u001b[0m\n\u001b[0;32m      3\u001b[0m \u001b[1;31m#     print(p)\u001b[0m\u001b[1;33m\u001b[0m\u001b[1;33m\u001b[0m\u001b[1;33m\u001b[0m\u001b[0m\n\u001b[1;32m----> 4\u001b[1;33m     \u001b[1;32mreturn\u001b[0m \u001b[1;34m\"acc\"\u001b[0m\u001b[1;33m,\u001b[0m \u001b[0mmetrics\u001b[0m\u001b[1;33m.\u001b[0m\u001b[0maccuracy_score\u001b[0m\u001b[1;33m(\u001b[0m\u001b[0ma\u001b[0m\u001b[1;33m,\u001b[0m \u001b[0mp\u001b[0m\u001b[1;33m)\u001b[0m\u001b[1;33m\u001b[0m\u001b[1;33m\u001b[0m\u001b[0m\n\u001b[0m",
      "\u001b[1;32m~\\Anaconda3\\lib\\site-packages\\sklearn\\metrics\\classification.py\u001b[0m in \u001b[0;36maccuracy_score\u001b[1;34m(y_true, y_pred, normalize, sample_weight)\u001b[0m\n\u001b[0;32m    174\u001b[0m \u001b[1;33m\u001b[0m\u001b[0m\n\u001b[0;32m    175\u001b[0m     \u001b[1;31m# Compute accuracy for each possible representation\u001b[0m\u001b[1;33m\u001b[0m\u001b[1;33m\u001b[0m\u001b[1;33m\u001b[0m\u001b[0m\n\u001b[1;32m--> 176\u001b[1;33m     \u001b[0my_type\u001b[0m\u001b[1;33m,\u001b[0m \u001b[0my_true\u001b[0m\u001b[1;33m,\u001b[0m \u001b[0my_pred\u001b[0m \u001b[1;33m=\u001b[0m \u001b[0m_check_targets\u001b[0m\u001b[1;33m(\u001b[0m\u001b[0my_true\u001b[0m\u001b[1;33m,\u001b[0m \u001b[0my_pred\u001b[0m\u001b[1;33m)\u001b[0m\u001b[1;33m\u001b[0m\u001b[1;33m\u001b[0m\u001b[0m\n\u001b[0m\u001b[0;32m    177\u001b[0m     \u001b[0mcheck_consistent_length\u001b[0m\u001b[1;33m(\u001b[0m\u001b[0my_true\u001b[0m\u001b[1;33m,\u001b[0m \u001b[0my_pred\u001b[0m\u001b[1;33m,\u001b[0m \u001b[0msample_weight\u001b[0m\u001b[1;33m)\u001b[0m\u001b[1;33m\u001b[0m\u001b[1;33m\u001b[0m\u001b[0m\n\u001b[0;32m    178\u001b[0m     \u001b[1;32mif\u001b[0m \u001b[0my_type\u001b[0m\u001b[1;33m.\u001b[0m\u001b[0mstartswith\u001b[0m\u001b[1;33m(\u001b[0m\u001b[1;34m'multilabel'\u001b[0m\u001b[1;33m)\u001b[0m\u001b[1;33m:\u001b[0m\u001b[1;33m\u001b[0m\u001b[1;33m\u001b[0m\u001b[0m\n",
      "\u001b[1;32m~\\Anaconda3\\lib\\site-packages\\sklearn\\metrics\\classification.py\u001b[0m in \u001b[0;36m_check_targets\u001b[1;34m(y_true, y_pred)\u001b[0m\n\u001b[0;32m     79\u001b[0m     \u001b[1;32mif\u001b[0m \u001b[0mlen\u001b[0m\u001b[1;33m(\u001b[0m\u001b[0my_type\u001b[0m\u001b[1;33m)\u001b[0m \u001b[1;33m>\u001b[0m \u001b[1;36m1\u001b[0m\u001b[1;33m:\u001b[0m\u001b[1;33m\u001b[0m\u001b[1;33m\u001b[0m\u001b[0m\n\u001b[0;32m     80\u001b[0m         raise ValueError(\"Classification metrics can't handle a mix of {0} \"\n\u001b[1;32m---> 81\u001b[1;33m                          \"and {1} targets\".format(type_true, type_pred))\n\u001b[0m\u001b[0;32m     82\u001b[0m \u001b[1;33m\u001b[0m\u001b[0m\n\u001b[0;32m     83\u001b[0m     \u001b[1;31m# We can't have more than one value on y_type => The set is no more needed\u001b[0m\u001b[1;33m\u001b[0m\u001b[1;33m\u001b[0m\u001b[1;33m\u001b[0m\u001b[0m\n",
      "\u001b[1;31mValueError\u001b[0m: Classification metrics can't handle a mix of multiclass and continuous-multioutput targets"
     ]
    }
   ],
   "source": [
    "ModelUtils.random_forest(X_train, y_train, X_sub, y_sub, n_estimators=1000, feval=acc_metrix_mult)"
   ]
  },
  {
   "cell_type": "code",
   "execution_count": 12,
   "metadata": {},
   "outputs": [
    {
     "name": "stdout",
     "output_type": "stream",
     "text": [
      "train ('acc', 0.99275000000000002)\n",
      "test ('acc', 0.9425)\n"
     ]
    },
    {
     "data": {
      "text/plain": [
       "GradientBoostingClassifier(criterion='friedman_mse', init=None,\n",
       "              learning_rate=0.1, loss='deviance', max_depth=3,\n",
       "              max_features=None, max_leaf_nodes=None,\n",
       "              min_impurity_decrease=0.0, min_impurity_split=None,\n",
       "              min_samples_leaf=1, min_samples_split=2,\n",
       "              min_weight_fraction_leaf=0.0, n_estimators=200,\n",
       "              presort='auto', random_state=None, subsample=1.0, verbose=0,\n",
       "              warm_start=False)"
      ]
     },
     "execution_count": 12,
     "metadata": {},
     "output_type": "execute_result"
    }
   ],
   "source": [
    "ModelUtils.gdbt_model(X_train, y_train, X_sub, y_sub, n_estimators=200, feval=acc_metrix_mult)"
   ]
  },
  {
   "cell_type": "code",
   "execution_count": 9,
   "metadata": {},
   "outputs": [
    {
     "name": "stdout",
     "output_type": "stream",
     "text": [
      "{'objective': 'multi:softmax', 'num_class': 26}\n",
      "[0]\ttrain-acc:0.8155\tvalid-acc:0.7735\n",
      "Multiple eval metrics have been passed: 'valid-acc' will be used for early stopping.\n",
      "\n",
      "Will train until valid-acc hasn't improved in 500 rounds.\n",
      "[100]\ttrain-acc:1\tvalid-acc:0.9605\n",
      "[200]\ttrain-acc:1\tvalid-acc:0.96175\n",
      "[300]\ttrain-acc:1\tvalid-acc:0.96225\n",
      "[400]\ttrain-acc:1\tvalid-acc:0.9625\n",
      "[500]\ttrain-acc:1\tvalid-acc:0.9625\n",
      "[600]\ttrain-acc:1\tvalid-acc:0.96275\n",
      "[700]\ttrain-acc:1\tvalid-acc:0.963\n",
      "[800]\ttrain-acc:1\tvalid-acc:0.96325\n",
      "[900]\ttrain-acc:1\tvalid-acc:0.96325\n",
      "[1000]\ttrain-acc:1\tvalid-acc:0.96275\n",
      "[1100]\ttrain-acc:1\tvalid-acc:0.963\n",
      "[1200]\ttrain-acc:1\tvalid-acc:0.963\n",
      "[1300]\ttrain-acc:1\tvalid-acc:0.9635\n",
      "[1400]\ttrain-acc:1\tvalid-acc:0.96325\n",
      "Stopping. Best iteration:\n",
      "[924]\ttrain-acc:1\tvalid-acc:0.96375\n",
      "\n",
      "train ('acc', 1.0)\n",
      "test ('acc', 0.96325000000000005)\n"
     ]
    },
    {
     "data": {
      "text/plain": [
       "<xgboost.core.Booster at 0x291d0a73c18>"
      ]
     },
     "execution_count": 9,
     "metadata": {},
     "output_type": "execute_result"
    }
   ],
   "source": [
    "ModelUtils.xgb_model(X_train, y_train, X_sub, y_sub, num_class=26, feval=acc_metrix_mult)"
   ]
  },
  {
   "cell_type": "markdown",
   "metadata": {},
   "source": [
    "# BaseLine"
   ]
  },
  {
   "cell_type": "code",
   "execution_count": 17,
   "metadata": {},
   "outputs": [
    {
     "name": "stdout",
     "output_type": "stream",
     "text": [
      "X_train.shape, y_train.shape:(16000, 16)(16000,)\n",
      "X_valid.shape, y_valid.shape:(4000, 16)(4000,)\n",
      "    cross_score: 0.87621\n",
      "    test score ('acc', 0.96425000000000005)\n",
      "train kflod pred: ('acc', 0.96425000000000005)\n",
      "train pred ('acc', 1.0)\n",
      "test pred ('acc', 0.96425000000000005)\n"
     ]
    },
    {
     "data": {
      "text/plain": [
       "RandomForestClassifier(bootstrap=True, class_weight=None, criterion='gini',\n",
       "            max_depth=None, max_features='auto', max_leaf_nodes=None,\n",
       "            min_impurity_decrease=0.0, min_impurity_split=None,\n",
       "            min_samples_leaf=1, min_samples_split=2,\n",
       "            min_weight_fraction_leaf=0.0, n_estimators=200, n_jobs=-1,\n",
       "            oob_score=False, random_state=1024, verbose=0,\n",
       "            warm_start=False)"
      ]
     },
     "execution_count": 17,
     "metadata": {},
     "output_type": "execute_result"
    }
   ],
   "source": [
    "ModelUtils.baseline_1_flod(X_train, y_train, X_sub, y_sub, num_class=26, feval=acc_metrix_mult)"
   ]
  },
  {
   "cell_type": "code",
   "execution_count": 27,
   "metadata": {},
   "outputs": [
    {
     "data": {
      "text/plain": [
       "2347"
      ]
     },
     "execution_count": 27,
     "metadata": {},
     "output_type": "execute_result"
    }
   ],
   "source": [
    "gc.collect()"
   ]
  },
  {
   "cell_type": "code",
   "execution_count": 28,
   "metadata": {},
   "outputs": [
    {
     "name": "stdout",
     "output_type": "stream",
     "text": [
      "X_train.shape, y_train.shape:(12789, 16)(12789,)\n",
      "X_valid.shape, y_valid.shape:(3211, 16)(3211,)\n",
      "    cross_score: 0.87447\n",
      "    test score ('acc', 0.96125000000000005)\n",
      "X_train.shape, y_train.shape:(12795, 16)(12795,)\n",
      "X_valid.shape, y_valid.shape:(3205, 16)(3205,)\n",
      "    cross_score: 0.87454\n",
      "    test score ('acc', 0.96375)\n",
      "X_train.shape, y_train.shape:(12800, 16)(12800,)\n",
      "X_valid.shape, y_valid.shape:(3200, 16)(3200,)\n",
      "    cross_score: 0.87401\n",
      "    test score ('acc', 0.96099999999999997)\n",
      "X_train.shape, y_train.shape:(12804, 16)(12804,)\n",
      "X_valid.shape, y_valid.shape:(3196, 16)(3196,)\n",
      "    cross_score: 0.86548\n",
      "    test score ('acc', 0.96074999999999999)\n",
      "X_train.shape, y_train.shape:(12812, 16)(12812,)\n",
      "X_valid.shape, y_valid.shape:(3188, 16)(3188,)\n",
      "    cross_score: 0.86694\n",
      "    test score ('acc', 0.96225000000000005)\n",
      "train kflod pred: ('acc', 0.96012500000000001)\n",
      "train pred ('acc', 1.0)\n",
      "test pred ('acc', 0.96699999999999997)\n",
      "lr train ('acc', 0.96118749999999997)\n",
      "lr test ('acc', 0.96599999999999997)\n",
      "lr coef_ -0.196299284288\n"
     ]
    },
    {
     "data": {
      "text/plain": [
       "[RandomForestClassifier(bootstrap=True, class_weight=None, criterion='gini',\n",
       "             max_depth=None, max_features='auto', max_leaf_nodes=None,\n",
       "             min_impurity_decrease=0.0, min_impurity_split=None,\n",
       "             min_samples_leaf=1, min_samples_split=2,\n",
       "             min_weight_fraction_leaf=0.0, n_estimators=200, n_jobs=-1,\n",
       "             oob_score=False, random_state=1023, verbose=0,\n",
       "             warm_start=False),\n",
       " RandomForestClassifier(bootstrap=True, class_weight=None, criterion='gini',\n",
       "             max_depth=None, max_features='auto', max_leaf_nodes=None,\n",
       "             min_impurity_decrease=0.0, min_impurity_split=None,\n",
       "             min_samples_leaf=1, min_samples_split=2,\n",
       "             min_weight_fraction_leaf=0.0, n_estimators=200, n_jobs=-1,\n",
       "             oob_score=False, random_state=1023, verbose=0,\n",
       "             warm_start=False),\n",
       " RandomForestClassifier(bootstrap=True, class_weight=None, criterion='gini',\n",
       "             max_depth=None, max_features='auto', max_leaf_nodes=None,\n",
       "             min_impurity_decrease=0.0, min_impurity_split=None,\n",
       "             min_samples_leaf=1, min_samples_split=2,\n",
       "             min_weight_fraction_leaf=0.0, n_estimators=200, n_jobs=-1,\n",
       "             oob_score=False, random_state=1023, verbose=0,\n",
       "             warm_start=False),\n",
       " RandomForestClassifier(bootstrap=True, class_weight=None, criterion='gini',\n",
       "             max_depth=None, max_features='auto', max_leaf_nodes=None,\n",
       "             min_impurity_decrease=0.0, min_impurity_split=None,\n",
       "             min_samples_leaf=1, min_samples_split=2,\n",
       "             min_weight_fraction_leaf=0.0, n_estimators=200, n_jobs=-1,\n",
       "             oob_score=False, random_state=1023, verbose=0,\n",
       "             warm_start=False),\n",
       " RandomForestClassifier(bootstrap=True, class_weight=None, criterion='gini',\n",
       "             max_depth=None, max_features='auto', max_leaf_nodes=None,\n",
       "             min_impurity_decrease=0.0, min_impurity_split=None,\n",
       "             min_samples_leaf=1, min_samples_split=2,\n",
       "             min_weight_fraction_leaf=0.0, n_estimators=200, n_jobs=-1,\n",
       "             oob_score=False, random_state=1023, verbose=0,\n",
       "             warm_start=False)]"
      ]
     },
     "execution_count": 28,
     "metadata": {},
     "output_type": "execute_result"
    }
   ],
   "source": [
    "ModelUtils.baseline_model(X_train, y_train, X_sub, y_sub, num_class=26, feval=acc_metrix_mult)"
   ]
  },
  {
   "cell_type": "markdown",
   "metadata": {},
   "source": [
    "# Stage-3：EcoForest"
   ]
  },
  {
   "cell_type": "code",
   "execution_count": 12,
   "metadata": {},
   "outputs": [],
   "source": [
    "import EnhancedForest_multiclass\n",
    "import EnhancedForest_producer\n",
    "import DecomposerForest\n",
    "import LogUtils\n",
    "import AlgorithmUtils\n",
    "import importlib\n",
    "importlib.reload(DecomposerForest)\n",
    "importlib.reload(LogUtils)\n",
    "importlib.reload(EnhancedForest_multiclass)\n",
    "importlib.reload(EnhancedForest_producer)\n",
    "importlib.reload(AlgorithmUtils)\n",
    "np.seterr(divide='ignore', invalid='ignore')\n",
    "import warnings\n",
    "warnings.filterwarnings(\"ignore\", category=DeprecationWarning) \n",
    "warnings.filterwarnings(\"ignore\", category=RuntimeWarning) "
   ]
  },
  {
   "cell_type": "code",
   "execution_count": 29,
   "metadata": {
    "scrolled": true
   },
   "outputs": [
    {
     "name": "stdout",
     "output_type": "stream",
     "text": [
      "\n",
      "2018-01-30 13:53:40 layer: 1\n",
      "all data ('acc', 1.0)\n",
      "train loss ('acc', 1.0)\n",
      "pass train loss (0, 0)\n",
      "pass train loss now (0, 1)\n",
      "vaild loss ('acc', 0.95487500000000003)\n",
      "pass vaild loss (0, 0)\n",
      "pass vaild loss now (0, 1)\n",
      "test loss ('acc', 0.96299999999999997)\n",
      "pass test loss (0, 0)\n",
      "pass test loss now (0, 1)\n",
      "1 [p:0/np:0] \n",
      "\n",
      "2018-01-30 13:55:40 layer: 2\n",
      "all data ('acc', 1.0)\n",
      "[p:0/1:0|n:16000/1:613] \n",
      "train loss ('acc', 1.0)\n",
      "pass train loss (0, 0)\n",
      "pass train loss now (0, 1)\n",
      "vaild loss ('acc', 0.955125)\n",
      "pass vaild loss (0, 0)\n",
      "pass vaild loss now (0, 1)\n",
      "test loss ('acc', 0.96325000000000005)\n",
      "pass test loss (0, 0)\n",
      "pass test loss now (0, 1)\n",
      "2 [p:0/np:4000] \n",
      "\n",
      "2018-01-30 14:00:34 layer: 3\n",
      "all data ('acc', 1.0)\n",
      "[p:0/1:0|n:16000/1:613] \n",
      "train loss ('acc', 1.0)\n",
      "pass train loss (0, 0)\n",
      "pass train loss now (0, 1)\n",
      "vaild loss ('acc', 0.95506250000000004)\n",
      "pass vaild loss (0, 0)\n",
      "pass vaild loss now (0, 1)\n",
      "test loss ('acc', 0.96250000000000002)\n",
      "pass test loss (0, 0)\n",
      "pass test loss now (0, 1)\n",
      "not pass\n",
      "\n",
      "2018-01-30 14:06:57 layer: 4\n",
      "all data ('acc', 1.0)\n",
      "[p:0/1:0|n:16000/1:613] \n",
      "train loss ('acc', 1.0)\n",
      "pass train loss (0, 0)\n",
      "pass train loss now (0, 1)\n",
      "vaild loss ('acc', 0.95474999999999999)\n",
      "pass vaild loss (0, 0)\n",
      "pass vaild loss now (0, 1)\n",
      "test loss ('acc', 0.96274999999999999)\n",
      "pass test loss (0, 0)\n",
      "pass test loss now (0, 1)\n",
      "not pass\n",
      "\n",
      "2018-01-30 14:14:52 layer: 5\n",
      "all data ('acc', 1.0)\n"
     ]
    },
    {
     "ename": "KeyboardInterrupt",
     "evalue": "",
     "output_type": "error",
     "traceback": [
      "\u001b[1;31m---------------------------------------------------------------------------\u001b[0m",
      "\u001b[1;31mKeyboardInterrupt\u001b[0m                         Traceback (most recent call last)",
      "\u001b[1;32m<ipython-input-29-1c26d8d632d2>\u001b[0m in \u001b[0;36m<module>\u001b[1;34m()\u001b[0m\n\u001b[0;32m      1\u001b[0m \u001b[0mdecoForest\u001b[0m \u001b[1;33m=\u001b[0m \u001b[0mDecomposerForest\u001b[0m\u001b[1;33m.\u001b[0m\u001b[0mDecomposerForest\u001b[0m\u001b[1;33m(\u001b[0m\u001b[0mX_train\u001b[0m\u001b[1;33m,\u001b[0m \u001b[0my_train\u001b[0m\u001b[1;33m,\u001b[0m \u001b[0mX_sub\u001b[0m\u001b[1;33m,\u001b[0m \u001b[0my_sub\u001b[0m\u001b[1;33m,\u001b[0m \u001b[0mnum_class\u001b[0m\u001b[1;33m=\u001b[0m\u001b[1;36m26\u001b[0m\u001b[1;33m,\u001b[0m \u001b[0mflag\u001b[0m\u001b[1;33m=\u001b[0m\u001b[1;34m\"letter\"\u001b[0m\u001b[1;33m,\u001b[0m \u001b[0misLRStacker\u001b[0m\u001b[1;33m=\u001b[0m\u001b[1;32mFalse\u001b[0m\u001b[1;33m)\u001b[0m\u001b[1;33m\u001b[0m\u001b[0m\n\u001b[0;32m      2\u001b[0m \u001b[0mdecoForest\u001b[0m\u001b[1;33m.\u001b[0m\u001b[0mset_parameter\u001b[0m\u001b[1;33m(\u001b[0m\u001b[0mcriterion\u001b[0m\u001b[1;33m=\u001b[0m\u001b[1;34m\"gini\"\u001b[0m\u001b[1;33m,\u001b[0m \u001b[0mdropout\u001b[0m\u001b[1;33m=\u001b[0m\u001b[1;32mNone\u001b[0m\u001b[1;33m,\u001b[0m \u001b[0mmin_samples_leaf\u001b[0m\u001b[1;33m=\u001b[0m\u001b[1;36m1\u001b[0m\u001b[1;33m)\u001b[0m\u001b[1;33m\u001b[0m\u001b[0m\n\u001b[1;32m----> 3\u001b[1;33m \u001b[0mdecoForest\u001b[0m\u001b[1;33m.\u001b[0m\u001b[0mfit\u001b[0m\u001b[1;33m(\u001b[0m\u001b[0mn_estimators\u001b[0m\u001b[1;33m=\u001b[0m\u001b[1;36m1500\u001b[0m\u001b[1;33m,\u001b[0m \u001b[0mkfold\u001b[0m\u001b[1;33m=\u001b[0m\u001b[1;36m3\u001b[0m\u001b[1;33m,\u001b[0m \u001b[0mfeval\u001b[0m\u001b[1;33m=\u001b[0m\u001b[0macc_metrix_mult\u001b[0m\u001b[1;33m)\u001b[0m\u001b[1;33m\u001b[0m\u001b[0m\n\u001b[0m",
      "\u001b[1;32mC:\\github_workspace\\ecoForest\\DecomposerForest.py\u001b[0m in \u001b[0;36mfit\u001b[1;34m(self, n_estimators, kfold, feval)\u001b[0m\n\u001b[0;32m    231\u001b[0m             \u001b[0my\u001b[0m \u001b[1;33m=\u001b[0m \u001b[0my_train_np\u001b[0m\u001b[1;33m\u001b[0m\u001b[0m\n\u001b[0;32m    232\u001b[0m \u001b[1;33m\u001b[0m\u001b[0m\n\u001b[1;32m--> 233\u001b[1;33m             \u001b[0mstatus_fit\u001b[0m \u001b[1;33m=\u001b[0m \u001b[0mself\u001b[0m\u001b[1;33m.\u001b[0m\u001b[0m_fit_layer\u001b[0m\u001b[1;33m(\u001b[0m\u001b[0mX\u001b[0m\u001b[1;33m,\u001b[0m \u001b[0my\u001b[0m\u001b[1;33m,\u001b[0m \u001b[0misFirst\u001b[0m\u001b[1;33m,\u001b[0m \u001b[0mlayer\u001b[0m\u001b[1;33m)\u001b[0m\u001b[1;33m\u001b[0m\u001b[0m\n\u001b[0m\u001b[0;32m    234\u001b[0m             \u001b[1;32mif\u001b[0m \u001b[0mstatus_fit\u001b[0m \u001b[1;33m==\u001b[0m \u001b[0mSTATUS_FIT\u001b[0m\u001b[1;33m.\u001b[0m\u001b[0mSTATUS_BREAK\u001b[0m\u001b[1;33m:\u001b[0m\u001b[1;33m\u001b[0m\u001b[0m\n\u001b[0;32m    235\u001b[0m                 \u001b[0mprint\u001b[0m\u001b[1;33m(\u001b[0m\u001b[1;34m\"STATUS_BREAK\"\u001b[0m\u001b[1;33m)\u001b[0m\u001b[1;33m\u001b[0m\u001b[0m\n",
      "\u001b[1;32mC:\\github_workspace\\ecoForest\\DecomposerForest.py\u001b[0m in \u001b[0;36m_fit_layer\u001b[1;34m(self, X, y, isFirst, layer)\u001b[0m\n\u001b[0;32m    157\u001b[0m                                             \u001b[0mmax_depth\u001b[0m\u001b[1;33m=\u001b[0m\u001b[0mself\u001b[0m\u001b[1;33m.\u001b[0m\u001b[0mmax_depth\u001b[0m\u001b[1;33m,\u001b[0m \u001b[0mmin_samples_leaf\u001b[0m\u001b[1;33m=\u001b[0m\u001b[0mself\u001b[0m\u001b[1;33m.\u001b[0m\u001b[0mmin_samples_leaf\u001b[0m\u001b[1;33m,\u001b[0m\u001b[0;31m\\\u001b[0m\u001b[1;33m\u001b[0m\u001b[0m\n\u001b[0;32m    158\u001b[0m                                           \u001b[0misFirst\u001b[0m\u001b[1;33m=\u001b[0m\u001b[0misFirst\u001b[0m\u001b[1;33m,\u001b[0m \u001b[0mnum_class\u001b[0m\u001b[1;33m=\u001b[0m\u001b[0mself\u001b[0m\u001b[1;33m.\u001b[0m\u001b[0mnum_class\u001b[0m\u001b[1;33m,\u001b[0m \u001b[0mkfold\u001b[0m\u001b[1;33m=\u001b[0m\u001b[0mself\u001b[0m\u001b[1;33m.\u001b[0m\u001b[0mkfold\u001b[0m\u001b[1;33m,\u001b[0m\u001b[0;31m \u001b[0m\u001b[0;31m\\\u001b[0m\u001b[1;33m\u001b[0m\u001b[0m\n\u001b[1;32m--> 159\u001b[1;33m                                           \u001b[0mn_estimators\u001b[0m\u001b[1;33m=\u001b[0m\u001b[0mself\u001b[0m\u001b[1;33m.\u001b[0m\u001b[0mn_estimators\u001b[0m\u001b[0;31m\\\u001b[0m\u001b[1;33m\u001b[0m\u001b[0m\n\u001b[0m\u001b[0;32m    160\u001b[0m                                          )\n\u001b[0;32m    161\u001b[0m         \u001b[0mlayer_loss\u001b[0m \u001b[1;33m=\u001b[0m \u001b[0mself\u001b[0m\u001b[1;33m.\u001b[0m\u001b[0m_get_loss\u001b[0m\u001b[1;33m(\u001b[0m\u001b[1;33m)\u001b[0m\u001b[1;33m\u001b[0m\u001b[0m\n",
      "\u001b[1;32mC:\\github_workspace\\ecoForest\\EnhancedForest_multiclass.py\u001b[0m in \u001b[0;36mTrainModelLayer\u001b[1;34m(self, X, y, X_test, all_data_mask, y_test, real_y, verbose, feval, max_depth, random_state, min_samples_leaf, criterion, dropout, isFirst, num_class, kfold, n_estimators)\u001b[0m\n\u001b[0;32m    227\u001b[0m             \u001b[0my_test\u001b[0m\u001b[1;33m[\u001b[0m\u001b[1;33m:\u001b[0m\u001b[1;33m]\u001b[0m \u001b[1;33m=\u001b[0m \u001b[0mp_test\u001b[0m\u001b[1;33m[\u001b[0m\u001b[1;33m:\u001b[0m\u001b[1;33m]\u001b[0m\u001b[1;33m\u001b[0m\u001b[0m\n\u001b[0;32m    228\u001b[0m             \u001b[1;32mreturn\u001b[0m \u001b[0mself\u001b[0m\u001b[1;33m.\u001b[0m\u001b[0mestimator\u001b[0m\u001b[1;33m,\u001b[0m \u001b[0mnp\u001b[0m\u001b[1;33m.\u001b[0m\u001b[0marray\u001b[0m\u001b[1;33m(\u001b[0m\u001b[1;33m[\u001b[0m\u001b[1;32mFalse\u001b[0m\u001b[1;33m]\u001b[0m\u001b[1;33m*\u001b[0m\u001b[0mlen\u001b[0m\u001b[1;33m(\u001b[0m\u001b[0mX_test\u001b[0m\u001b[1;33m)\u001b[0m\u001b[1;33m)\u001b[0m\u001b[1;33m,\u001b[0m \u001b[0mall_data_mask\u001b[0m\u001b[1;33m,\u001b[0m \u001b[0mp_test\u001b[0m\u001b[1;33m\u001b[0m\u001b[0m\n\u001b[1;32m--> 229\u001b[1;33m         \u001b[0mself\u001b[0m\u001b[1;33m.\u001b[0m\u001b[0mthreshold_imp\u001b[0m \u001b[1;33m=\u001b[0m \u001b[0mAlgorithmUtils\u001b[0m\u001b[1;33m.\u001b[0m\u001b[0mget_threshold_of_impurity\u001b[0m\u001b[1;33m(\u001b[0m\u001b[0mself\u001b[0m\u001b[1;33m.\u001b[0m\u001b[0mestimator\u001b[0m\u001b[1;33m,\u001b[0m \u001b[0mself\u001b[0m\u001b[1;33m.\u001b[0m\u001b[0mloger\u001b[0m\u001b[1;33m)\u001b[0m\u001b[1;33m\u001b[0m\u001b[0m\n\u001b[0m\u001b[0;32m    230\u001b[0m         \u001b[0mself\u001b[0m\u001b[1;33m.\u001b[0m\u001b[0mDataSplit\u001b[0m\u001b[1;33m(\u001b[0m\u001b[0mX\u001b[0m\u001b[1;33m,\u001b[0m \u001b[0my\u001b[0m\u001b[1;33m,\u001b[0m \u001b[0mdropout\u001b[0m\u001b[1;33m,\u001b[0m \u001b[0mverbose\u001b[0m\u001b[1;33m)\u001b[0m\u001b[1;33m\u001b[0m\u001b[0m\n\u001b[0;32m    231\u001b[0m \u001b[1;33m\u001b[0m\u001b[0m\n",
      "\u001b[1;32mC:\\github_workspace\\ecoForest\\AlgorithmUtils.py\u001b[0m in \u001b[0;36mget_threshold_of_impurity\u001b[1;34m(estimators, loger)\u001b[0m\n\u001b[0;32m    160\u001b[0m             \u001b[1;31m# impurity = estimator.tree_.impurity\u001b[0m\u001b[1;33m\u001b[0m\u001b[1;33m\u001b[0m\u001b[0m\n\u001b[0;32m    161\u001b[0m             \u001b[0mimpurity\u001b[0m \u001b[1;33m=\u001b[0m \u001b[0m_get_leaf_node_impurity\u001b[0m\u001b[1;33m(\u001b[0m\u001b[0mtree\u001b[0m\u001b[1;33m)\u001b[0m\u001b[1;33m\u001b[0m\u001b[0m\n\u001b[1;32m--> 162\u001b[1;33m             \u001b[0mimpurity_list\u001b[0m \u001b[1;33m=\u001b[0m \u001b[0mnp\u001b[0m\u001b[1;33m.\u001b[0m\u001b[0mhstack\u001b[0m\u001b[1;33m(\u001b[0m\u001b[1;33m(\u001b[0m\u001b[0mimpurity_list\u001b[0m\u001b[1;33m,\u001b[0m \u001b[0mimpurity\u001b[0m\u001b[1;33m)\u001b[0m\u001b[1;33m)\u001b[0m\u001b[1;33m\u001b[0m\u001b[0m\n\u001b[0m\u001b[0;32m    163\u001b[0m \u001b[1;33m\u001b[0m\u001b[0m\n\u001b[0;32m    164\u001b[0m             \u001b[1;31m# dot_data = sklearn_tree.export_graphviz(tree, out_file=None,\u001b[0m\u001b[1;33m\u001b[0m\u001b[1;33m\u001b[0m\u001b[0m\n",
      "\u001b[1;32mc:\\program files\\python36\\lib\\site-packages\\numpy\\core\\shape_base.py\u001b[0m in \u001b[0;36mhstack\u001b[1;34m(tup)\u001b[0m\n\u001b[0;32m    289\u001b[0m     \u001b[1;31m# As a special case, dimension 0 of 1-dimensional arrays is \"horizontal\"\u001b[0m\u001b[1;33m\u001b[0m\u001b[1;33m\u001b[0m\u001b[0m\n\u001b[0;32m    290\u001b[0m     \u001b[1;32mif\u001b[0m \u001b[0marrs\u001b[0m \u001b[1;32mand\u001b[0m \u001b[0marrs\u001b[0m\u001b[1;33m[\u001b[0m\u001b[1;36m0\u001b[0m\u001b[1;33m]\u001b[0m\u001b[1;33m.\u001b[0m\u001b[0mndim\u001b[0m \u001b[1;33m==\u001b[0m \u001b[1;36m1\u001b[0m\u001b[1;33m:\u001b[0m\u001b[1;33m\u001b[0m\u001b[0m\n\u001b[1;32m--> 291\u001b[1;33m         \u001b[1;32mreturn\u001b[0m \u001b[0m_nx\u001b[0m\u001b[1;33m.\u001b[0m\u001b[0mconcatenate\u001b[0m\u001b[1;33m(\u001b[0m\u001b[0marrs\u001b[0m\u001b[1;33m,\u001b[0m \u001b[1;36m0\u001b[0m\u001b[1;33m)\u001b[0m\u001b[1;33m\u001b[0m\u001b[0m\n\u001b[0m\u001b[0;32m    292\u001b[0m     \u001b[1;32melse\u001b[0m\u001b[1;33m:\u001b[0m\u001b[1;33m\u001b[0m\u001b[0m\n\u001b[0;32m    293\u001b[0m         \u001b[1;32mreturn\u001b[0m \u001b[0m_nx\u001b[0m\u001b[1;33m.\u001b[0m\u001b[0mconcatenate\u001b[0m\u001b[1;33m(\u001b[0m\u001b[0marrs\u001b[0m\u001b[1;33m,\u001b[0m \u001b[1;36m1\u001b[0m\u001b[1;33m)\u001b[0m\u001b[1;33m\u001b[0m\u001b[0m\n",
      "\u001b[1;31mKeyboardInterrupt\u001b[0m: "
     ]
    }
   ],
   "source": [
    "decoForest = DecomposerForest.DecomposerForest(X_train, y_train, X_sub, y_sub, num_class=26, flag=\"letter\", isLRStacker=False)\n",
    "decoForest.set_parameter(criterion=\"gini\", dropout=None, min_samples_leaf=1)\n",
    "decoForest.fit(n_estimators=1500, kfold=3, feval=acc_metrix_mult)"
   ]
  },
  {
   "cell_type": "code",
   "execution_count": 24,
   "metadata": {},
   "outputs": [
    {
     "data": {
      "text/plain": [
       "(0.95725000000000005,\n",
       " [(0, 0.95725000000000005),\n",
       "  (1, 0.95599999999999996),\n",
       "  (2, 0.95599999999999996),\n",
       "  (3, 0.95625000000000004),\n",
       "  (4, 0.95650000000000002),\n",
       "  (5, 0.95650000000000002),\n",
       "  (6, 0.95650000000000002),\n",
       "  (7, 0.95725000000000005),\n",
       "  (8, 0.95650000000000002),\n",
       "  (9, 0.95625000000000004)])"
      ]
     },
     "execution_count": 24,
     "metadata": {},
     "output_type": "execute_result"
    }
   ],
   "source": [
    "np.max(np.array(decoForest.test_loss_lt)),list(enumerate(decoForest.test_loss_lt) )"
   ]
  },
  {
   "cell_type": "code",
   "execution_count": 10,
   "metadata": {},
   "outputs": [
    {
     "data": {
      "image/png": "[encoded data removed]",
      "text/plain": [
       "<matplotlib.figure.Figure at 0x26672f14cf8>"
      ]
     },
     "metadata": {},
     "output_type": "display_data"
    }
   ],
   "source": [
    "import matplotlib.pyplot as plt\n",
    "\n",
    "plt.figure(figsize=(10,10))\n",
    "x = range(len(decoForest.train_loss_lt))\n",
    "\n",
    "plt.subplot(221)\n",
    "plt.plot(x[1:],decoForest.pass_train_loss_lt[1:], label=\"train-pass\", color=\"blue\")\n",
    "plt.plot(x[1:],decoForest.pass_vaild_loss_lt[1:], label=\"vaild-pass\", color=\"green\")\n",
    "plt.plot(x[1:],decoForest.pass_test_loss_lt[1:], label=\"test-pass\", color=\"red\")\n",
    "plt.legend()\n",
    "plt.subplot(222)\n",
    "plt.plot(x[1:],decoForest.pass_train_loss_lt_now[1:], label=\"train-pass-now\", color=\"blue\")\n",
    "plt.plot(x[1:],decoForest.pass_vaild_loss_lt_now[1:], label=\"vaild-pass-now\", color=\"green\")\n",
    "plt.plot(x[1:],decoForest.pass_test_loss_lt_now[1:], label=\"test-pass-now\", color=\"red\")\n",
    "plt.legend()\n",
    "plt.subplot(223)\n",
    "plt.plot(x,decoForest.train_loss_lt, label=\"train-loss\", color=\"blue\")\n",
    "plt.plot(x,decoForest.vaild_loss_lt, label=\"vaild-loss\", color=\"green\")\n",
    "plt.plot(x,decoForest.test_loss_lt, label=\"test-loss\", color=\"red\")\n",
    "plt.legend()\n",
    "plt.subplot(224)\n",
    "plt.plot(x,decoForest.pass_data_rate_lt[:], label=\"data-pass-rate\")\n",
    "plt.legend()\n",
    "\n",
    "plt.show()"
   ]
  },
  {
   "cell_type": "code",
   "execution_count": null,
   "metadata": {
    "collapsed": true
   },
   "outputs": [],
   "source": []
  },
  {
   "cell_type": "code",
   "execution_count": null,
   "metadata": {
    "collapsed": true
   },
   "outputs": [],
   "source": []
  },
  {
   "cell_type": "code",
   "execution_count": 256,
   "metadata": {
    "collapsed": true
   },
   "outputs": [],
   "source": [
    "pass_train_x_list = decoForest.enhancedDTree.pass_data_x_list\n",
    "pass_train_y_list = decoForest.enhancedDTree.pass_data_y_list\n",
    "pass_test_x_list = decoForest.enhancedDTree.pass_data_test_list\n",
    "pass_test_y_list = decoForest.enhancedDTree.pass_real_test_list"
   ]
  },
  {
   "cell_type": "code",
   "execution_count": 257,
   "metadata": {
    "collapsed": true
   },
   "outputs": [
    {
     "name": "stdout",
     "output_type": "stream",
     "text": [
      "decision_tree\n",
      "train ('acc', 1.0)\n",
      "test ('acc', 0.97777777777777775)\n",
      "random_forest\n",
      "train ('acc', 1.0)\n",
      "test ('acc', 0.97777777777777775)\n",
      "baseline_1_flod\n",
      "X_train.shape, y_train.shape:(667, 16)(667,)\n",
      "X_valid.shape, y_valid.shape:(180, 16)(180,)\n"
     ]
    },
    {
     "name": "stderr",
     "output_type": "stream",
     "text": [
      "c:\\program files\\python36\\lib\\site-packages\\sklearn\\model_selection\\_split.py:597: Warning: The least populated class in y has only 1 members, which is too few. The minimum number of members in any class cannot be less than n_splits=3.\n",
      "  % (min_groups, self.n_splits)), Warning)\n"
     ]
    },
    {
     "name": "stdout",
     "output_type": "stream",
     "text": [
      "    cross_score: 0.96707\n",
      "    test score ('acc', 0.97777777777777775)\n",
      "train kflod pred: ('acc', 0.97777777777777775)\n",
      "train pred ('acc', 1.0)\n",
      "test pred ('acc', 0.97777777777777775)\n",
      "baseline_model\n",
      "--rxz: delete data 550\n",
      "--rxz: delete data 551\n",
      "--rxz: delete data 551\n",
      "X_train.shape, y_train.shape:(530, 16)(530,)\n",
      "X_valid.shape, y_valid.shape:(134, 16)(134,)\n"
     ]
    },
    {
     "name": "stderr",
     "output_type": "stream",
     "text": [
      "c:\\program files\\python36\\lib\\site-packages\\sklearn\\model_selection\\_split.py:597: Warning: The least populated class in y has only 2 members, which is too few. The minimum number of members in any class cannot be less than n_splits=5.\n",
      "  % (min_groups, self.n_splits)), Warning)\n",
      "c:\\program files\\python36\\lib\\site-packages\\sklearn\\model_selection\\_split.py:597: Warning: The least populated class in y has only 2 members, which is too few. The minimum number of members in any class cannot be less than n_splits=3.\n",
      "  % (min_groups, self.n_splits)), Warning)\n"
     ]
    },
    {
     "name": "stdout",
     "output_type": "stream",
     "text": [
      "    cross_score: 0.95504\n",
      "    test score ('acc', 0.96666666666666667)\n",
      "X_train.shape, y_train.shape:(531, 16)(531,)\n",
      "X_valid.shape, y_valid.shape:(133, 16)(133,)\n"
     ]
    },
    {
     "name": "stderr",
     "output_type": "stream",
     "text": [
      "c:\\program files\\python36\\lib\\site-packages\\sklearn\\model_selection\\_split.py:597: Warning: The least populated class in y has only 2 members, which is too few. The minimum number of members in any class cannot be less than n_splits=3.\n",
      "  % (min_groups, self.n_splits)), Warning)\n"
     ]
    },
    {
     "name": "stdout",
     "output_type": "stream",
     "text": [
      "    cross_score: 0.97163\n",
      "    test score ('acc', 0.96666666666666667)\n",
      "X_train.shape, y_train.shape:(530, 16)(530,)\n",
      "X_valid.shape, y_valid.shape:(134, 16)(134,)\n"
     ]
    },
    {
     "name": "stderr",
     "output_type": "stream",
     "text": [
      "c:\\program files\\python36\\lib\\site-packages\\sklearn\\model_selection\\_split.py:597: Warning: The least populated class in y has only 1 members, which is too few. The minimum number of members in any class cannot be less than n_splits=3.\n",
      "  % (min_groups, self.n_splits)), Warning)\n"
     ]
    },
    {
     "name": "stdout",
     "output_type": "stream",
     "text": [
      "    cross_score: 0.96409\n",
      "    test score ('acc', 0.97222222222222221)\n",
      "X_train.shape, y_train.shape:(531, 16)(531,)\n",
      "X_valid.shape, y_valid.shape:(133, 16)(133,)\n"
     ]
    },
    {
     "name": "stderr",
     "output_type": "stream",
     "text": [
      "c:\\program files\\python36\\lib\\site-packages\\sklearn\\model_selection\\_split.py:597: Warning: The least populated class in y has only 1 members, which is too few. The minimum number of members in any class cannot be less than n_splits=3.\n",
      "  % (min_groups, self.n_splits)), Warning)\n"
     ]
    },
    {
     "name": "stdout",
     "output_type": "stream",
     "text": [
      "    cross_score: 0.94403\n",
      "    test score ('acc', 0.96666666666666667)\n",
      "X_train.shape, y_train.shape:(534, 16)(534,)\n",
      "X_valid.shape, y_valid.shape:(130, 16)(130,)\n"
     ]
    },
    {
     "name": "stderr",
     "output_type": "stream",
     "text": [
      "c:\\program files\\python36\\lib\\site-packages\\sklearn\\model_selection\\_split.py:597: Warning: The least populated class in y has only 1 members, which is too few. The minimum number of members in any class cannot be less than n_splits=3.\n",
      "  % (min_groups, self.n_splits)), Warning)\n"
     ]
    },
    {
     "name": "stdout",
     "output_type": "stream",
     "text": [
      "    cross_score: 0.94898\n",
      "    test score ('acc', 0.97222222222222221)\n",
      "train kflod pred: ('acc', 0.98493975903614461)\n",
      "train pred ('acc', 1.0)\n",
      "test pred ('acc', 0.97222222222222221)\n",
      "lr train ('acc', 0.9743975903614458)\n",
      "lr test ('acc', 0.96666666666666667)\n",
      "lr coef_ -0.246673830905\n"
     ]
    }
   ],
   "source": [
    "producerForest = EnhancedForest_producer.Producer(pass_train_x_list, pass_train_y_list, pass_test_x_list, pass_test_y_list)\n",
    "producerForest.prodect(26, acc_metrix_mult)"
   ]
  },
  {
   "cell_type": "code",
   "execution_count": 161,
   "metadata": {},
   "outputs": [
    {
     "data": {
      "text/plain": [
       "(319, 16)"
      ]
     },
     "execution_count": 161,
     "metadata": {},
     "output_type": "execute_result"
    }
   ],
   "source": [
    "producerForest.train_x.shape"
   ]
  },
  {
   "cell_type": "code",
   "execution_count": 217,
   "metadata": {},
   "outputs": [
    {
     "data": {
      "text/plain": [
       "Counter({0: 239, 3: 1, 8: 7, 9: 8, 11: 64})"
      ]
     },
     "execution_count": 217,
     "metadata": {},
     "output_type": "execute_result"
    }
   ],
   "source": [
    "Counter(producerForest.train_y)"
   ]
  },
  {
   "cell_type": "code",
   "execution_count": 231,
   "metadata": {},
   "outputs": [
    {
     "data": {
      "text/plain": [
       "array([239,  64,   8,   7,   1])"
      ]
     },
     "execution_count": 231,
     "metadata": {},
     "output_type": "execute_result"
    }
   ],
   "source": [
    "tmp = np.array(list(Counter(producerForest.train_y).values()))\n",
    "tmp"
   ]
  },
  {
   "cell_type": "code",
   "execution_count": 232,
   "metadata": {},
   "outputs": [
    {
     "data": {
      "text/plain": [
       "array([ 0, 11,  9,  8,  3])"
      ]
     },
     "execution_count": 232,
     "metadata": {},
     "output_type": "execute_result"
    }
   ],
   "source": [
    "tmp2 = np.array(list(Counter(producerForest.train_y).keys()))\n",
    "tmp2"
   ]
  },
  {
   "cell_type": "code",
   "execution_count": 233,
   "metadata": {},
   "outputs": [
    {
     "data": {
      "text/plain": [
       "False"
      ]
     },
     "execution_count": 233,
     "metadata": {},
     "output_type": "execute_result"
    }
   ],
   "source": [
    "len(np.where(tmp == 1)[0]) == 0"
   ]
  },
  {
   "cell_type": "code",
   "execution_count": 234,
   "metadata": {},
   "outputs": [
    {
     "data": {
      "text/plain": [
       "array([3])"
      ]
     },
     "execution_count": 234,
     "metadata": {},
     "output_type": "execute_result"
    }
   ],
   "source": [
    "index_tmp = np.where(tmp == 1)[0]\n",
    "tmp2[index_tmp]"
   ]
  },
  {
   "cell_type": "code",
   "execution_count": 239,
   "metadata": {},
   "outputs": [
    {
     "data": {
      "text/plain": [
       "105"
      ]
     },
     "execution_count": 239,
     "metadata": {},
     "output_type": "execute_result"
    }
   ],
   "source": [
    "np.where(producerForest.train_y == 3)[0][0]"
   ]
  },
  {
   "cell_type": "code",
   "execution_count": 236,
   "metadata": {},
   "outputs": [
    {
     "data": {
      "text/plain": [
       "3"
      ]
     },
     "execution_count": 236,
     "metadata": {},
     "output_type": "execute_result"
    }
   ],
   "source": [
    "producerForest.train_y[105]"
   ]
  },
  {
   "cell_type": "code",
   "execution_count": 237,
   "metadata": {},
   "outputs": [
    {
     "data": {
      "text/plain": [
       "array([  2.,   4.,   3.,   3.,   2.,   9.,   6.,   3.,   5.,  10.,   4.,\n",
       "         6.,   3.,   7.,   2.,   8.], dtype=float32)"
      ]
     },
     "execution_count": 237,
     "metadata": {},
     "output_type": "execute_result"
    }
   ],
   "source": [
    "producerForest.train_x[105]"
   ]
  },
  {
   "cell_type": "code",
   "execution_count": null,
   "metadata": {
    "collapsed": true
   },
   "outputs": [],
   "source": []
  },
  {
   "cell_type": "code",
   "execution_count": 196,
   "metadata": {},
   "outputs": [
    {
     "data": {
      "text/plain": [
       "(319,)"
      ]
     },
     "execution_count": 196,
     "metadata": {},
     "output_type": "execute_result"
    }
   ],
   "source": [
    "producerForest.train_y.shape"
   ]
  },
  {
   "cell_type": "code",
   "execution_count": null,
   "metadata": {
    "collapsed": true
   },
   "outputs": [],
   "source": []
  },
  {
   "cell_type": "code",
   "execution_count": 249,
   "metadata": {
    "collapsed": true
   },
   "outputs": [
    {
     "name": "stdout",
     "output_type": "stream",
     "text": [
      "X_train.shape, y_train.shape:(319, 16)(319,)\n",
      "X_train.shape, y_train.shape:(318, 16)(318,)\n",
      "[0, 3, 8, 9, 11]\n",
      "X_train.shape, y_train.shape:(287, 16)(287,)\n",
      "X_valid.shape, y_valid.shape:(31, 16)(31,)\n",
      "4\n"
     ]
    },
    {
     "name": "stderr",
     "output_type": "stream",
     "text": [
      "c:\\program files\\python36\\lib\\site-packages\\sklearn\\model_selection\\_split.py:597: Warning: The least populated class in y has only 7 members, which is too few. The minimum number of members in any class cannot be less than n_splits=10.\n",
      "  % (min_groups, self.n_splits)), Warning)\n"
     ]
    },
    {
     "name": "stdout",
     "output_type": "stream",
     "text": [
      "    cross_score: 1.00000\n",
      "    test score 0.975609756098\n",
      "(31,) (31, 4) (31, 4)\n",
      "X_train.shape, y_train.shape:(286, 16)(286,)\n",
      "X_valid.shape, y_valid.shape:(32, 16)(32,)\n",
      "4\n"
     ]
    },
    {
     "name": "stderr",
     "output_type": "stream",
     "text": [
      "c:\\program files\\python36\\lib\\site-packages\\sklearn\\model_selection\\_split.py:597: Warning: The least populated class in y has only 1 members, which is too few. The minimum number of members in any class cannot be less than n_splits=3.\n",
      "  % (min_groups, self.n_splits)), Warning)\n"
     ]
    },
    {
     "name": "stdout",
     "output_type": "stream",
     "text": [
      "    cross_score: 0.97222\n",
      "    test score 0.975609756098\n",
      "(32,) (32, 4) (32, 4)\n",
      "X_train.shape, y_train.shape:(285, 16)(285,)\n",
      "X_valid.shape, y_valid.shape:(33, 16)(33,)\n",
      "4\n"
     ]
    },
    {
     "name": "stderr",
     "output_type": "stream",
     "text": [
      "c:\\program files\\python36\\lib\\site-packages\\sklearn\\model_selection\\_split.py:597: Warning: The least populated class in y has only 1 members, which is too few. The minimum number of members in any class cannot be less than n_splits=3.\n",
      "  % (min_groups, self.n_splits)), Warning)\n"
     ]
    },
    {
     "name": "stdout",
     "output_type": "stream",
     "text": [
      "    cross_score: 0.94872\n",
      "    test score 0.975609756098\n",
      "(33,) (33, 4) (33, 4)\n",
      "X_train.shape, y_train.shape:(285, 16)(285,)\n",
      "X_valid.shape, y_valid.shape:(33, 16)(33,)\n",
      "4\n"
     ]
    },
    {
     "name": "stderr",
     "output_type": "stream",
     "text": [
      "c:\\program files\\python36\\lib\\site-packages\\sklearn\\model_selection\\_split.py:597: Warning: The least populated class in y has only 1 members, which is too few. The minimum number of members in any class cannot be less than n_splits=3.\n",
      "  % (min_groups, self.n_splits)), Warning)\n"
     ]
    },
    {
     "name": "stdout",
     "output_type": "stream",
     "text": [
      "    cross_score: 0.94872\n",
      "    test score 0.975609756098\n",
      "(33,) (33, 4) (33, 4)\n",
      "X_train.shape, y_train.shape:(286, 16)(286,)\n",
      "X_valid.shape, y_valid.shape:(32, 16)(32,)\n",
      "4\n"
     ]
    },
    {
     "name": "stderr",
     "output_type": "stream",
     "text": [
      "c:\\program files\\python36\\lib\\site-packages\\sklearn\\model_selection\\_split.py:597: Warning: The least populated class in y has only 1 members, which is too few. The minimum number of members in any class cannot be less than n_splits=3.\n",
      "  % (min_groups, self.n_splits)), Warning)\n"
     ]
    },
    {
     "name": "stdout",
     "output_type": "stream",
     "text": [
      "    cross_score: 0.91111\n",
      "    test score 0.975609756098\n",
      "(32,) (32, 4) (32, 4)\n",
      "X_train.shape, y_train.shape:(288, 16)(288,)\n",
      "X_valid.shape, y_valid.shape:(30, 16)(30,)\n",
      "4\n",
      "    cross_score: 0.96667\n",
      "    test score 0.975609756098\n",
      "(30,) (30, 4) (30, 4)\n",
      "X_train.shape, y_train.shape:(286, 16)(286,)\n",
      "X_valid.shape, y_valid.shape:(32, 16)(32,)\n",
      "4\n"
     ]
    },
    {
     "name": "stderr",
     "output_type": "stream",
     "text": [
      "c:\\program files\\python36\\lib\\site-packages\\sklearn\\model_selection\\_split.py:597: Warning: The least populated class in y has only 1 members, which is too few. The minimum number of members in any class cannot be less than n_splits=3.\n",
      "  % (min_groups, self.n_splits)), Warning)\n"
     ]
    },
    {
     "name": "stdout",
     "output_type": "stream",
     "text": [
      "    cross_score: 0.94444\n",
      "    test score 0.975609756098\n",
      "(32,) (32, 4) (32, 4)\n",
      "X_train.shape, y_train.shape:(286, 16)(286,)\n",
      "X_valid.shape, y_valid.shape:(32, 16)(32,)\n",
      "4\n"
     ]
    },
    {
     "name": "stderr",
     "output_type": "stream",
     "text": [
      "c:\\program files\\python36\\lib\\site-packages\\sklearn\\model_selection\\_split.py:597: Warning: The least populated class in y has only 1 members, which is too few. The minimum number of members in any class cannot be less than n_splits=3.\n",
      "  % (min_groups, self.n_splits)), Warning)\n"
     ]
    },
    {
     "name": "stdout",
     "output_type": "stream",
     "text": [
      "    cross_score: 0.94444\n",
      "    test score 0.975609756098\n",
      "(32,) (32, 4) (32, 4)\n",
      "X_train.shape, y_train.shape:(286, 16)(286,)\n",
      "X_valid.shape, y_valid.shape:(32, 16)(32,)\n",
      "4\n"
     ]
    },
    {
     "name": "stderr",
     "output_type": "stream",
     "text": [
      "c:\\program files\\python36\\lib\\site-packages\\sklearn\\model_selection\\_split.py:597: Warning: The least populated class in y has only 1 members, which is too few. The minimum number of members in any class cannot be less than n_splits=3.\n",
      "  % (min_groups, self.n_splits)), Warning)\n"
     ]
    },
    {
     "name": "stdout",
     "output_type": "stream",
     "text": [
      "    cross_score: 0.94444\n",
      "    test score 0.975609756098\n",
      "(32,) (32, 4) (32, 4)\n",
      "X_train.shape, y_train.shape:(287, 16)(287,)\n",
      "X_valid.shape, y_valid.shape:(31, 16)(31,)\n",
      "4\n"
     ]
    },
    {
     "name": "stderr",
     "output_type": "stream",
     "text": [
      "c:\\program files\\python36\\lib\\site-packages\\sklearn\\model_selection\\_split.py:597: Warning: The least populated class in y has only 1 members, which is too few. The minimum number of members in any class cannot be less than n_splits=3.\n",
      "  % (min_groups, self.n_splits)), Warning)\n"
     ]
    },
    {
     "name": "stdout",
     "output_type": "stream",
     "text": [
      "    cross_score: 0.91111\n",
      "    test score 0.975609756098\n",
      "(31,) (31, 4) (31, 4)\n",
      "train kflod pred: 0.996855345912\n",
      "train pred 1.0\n",
      "test pred 0.975609756098\n",
      "lr train 0.993710691824\n",
      "lr test 0.975609756098\n",
      "lr coef_ -0.338712920728\n"
     ]
    },
    {
     "data": {
      "text/plain": [
       "[RandomForestClassifier(bootstrap=True, class_weight=None, criterion='entropy',\n",
       "             max_depth=None, max_features='auto', max_leaf_nodes=None,\n",
       "             min_impurity_decrease=0.0, min_impurity_split=None,\n",
       "             min_samples_leaf=1, min_samples_split=2,\n",
       "             min_weight_fraction_leaf=0.0, n_estimators=200, n_jobs=-1,\n",
       "             oob_score=False, random_state=1023, verbose=0,\n",
       "             warm_start=False),\n",
       " RandomForestClassifier(bootstrap=True, class_weight=None, criterion='entropy',\n",
       "             max_depth=None, max_features='auto', max_leaf_nodes=None,\n",
       "             min_impurity_decrease=0.0, min_impurity_split=None,\n",
       "             min_samples_leaf=1, min_samples_split=2,\n",
       "             min_weight_fraction_leaf=0.0, n_estimators=200, n_jobs=-1,\n",
       "             oob_score=False, random_state=1023, verbose=0,\n",
       "             warm_start=False),\n",
       " RandomForestClassifier(bootstrap=True, class_weight=None, criterion='entropy',\n",
       "             max_depth=None, max_features='auto', max_leaf_nodes=None,\n",
       "             min_impurity_decrease=0.0, min_impurity_split=None,\n",
       "             min_samples_leaf=1, min_samples_split=2,\n",
       "             min_weight_fraction_leaf=0.0, n_estimators=200, n_jobs=-1,\n",
       "             oob_score=False, random_state=1023, verbose=0,\n",
       "             warm_start=False),\n",
       " RandomForestClassifier(bootstrap=True, class_weight=None, criterion='entropy',\n",
       "             max_depth=None, max_features='auto', max_leaf_nodes=None,\n",
       "             min_impurity_decrease=0.0, min_impurity_split=None,\n",
       "             min_samples_leaf=1, min_samples_split=2,\n",
       "             min_weight_fraction_leaf=0.0, n_estimators=200, n_jobs=-1,\n",
       "             oob_score=False, random_state=1023, verbose=0,\n",
       "             warm_start=False),\n",
       " RandomForestClassifier(bootstrap=True, class_weight=None, criterion='entropy',\n",
       "             max_depth=None, max_features='auto', max_leaf_nodes=None,\n",
       "             min_impurity_decrease=0.0, min_impurity_split=None,\n",
       "             min_samples_leaf=1, min_samples_split=2,\n",
       "             min_weight_fraction_leaf=0.0, n_estimators=200, n_jobs=-1,\n",
       "             oob_score=False, random_state=1023, verbose=0,\n",
       "             warm_start=False),\n",
       " RandomForestClassifier(bootstrap=True, class_weight=None, criterion='entropy',\n",
       "             max_depth=None, max_features='auto', max_leaf_nodes=None,\n",
       "             min_impurity_decrease=0.0, min_impurity_split=None,\n",
       "             min_samples_leaf=1, min_samples_split=2,\n",
       "             min_weight_fraction_leaf=0.0, n_estimators=200, n_jobs=-1,\n",
       "             oob_score=False, random_state=1023, verbose=0,\n",
       "             warm_start=False),\n",
       " RandomForestClassifier(bootstrap=True, class_weight=None, criterion='entropy',\n",
       "             max_depth=None, max_features='auto', max_leaf_nodes=None,\n",
       "             min_impurity_decrease=0.0, min_impurity_split=None,\n",
       "             min_samples_leaf=1, min_samples_split=2,\n",
       "             min_weight_fraction_leaf=0.0, n_estimators=200, n_jobs=-1,\n",
       "             oob_score=False, random_state=1023, verbose=0,\n",
       "             warm_start=False),\n",
       " RandomForestClassifier(bootstrap=True, class_weight=None, criterion='entropy',\n",
       "             max_depth=None, max_features='auto', max_leaf_nodes=None,\n",
       "             min_impurity_decrease=0.0, min_impurity_split=None,\n",
       "             min_samples_leaf=1, min_samples_split=2,\n",
       "             min_weight_fraction_leaf=0.0, n_estimators=200, n_jobs=-1,\n",
       "             oob_score=False, random_state=1023, verbose=0,\n",
       "             warm_start=False),\n",
       " RandomForestClassifier(bootstrap=True, class_weight=None, criterion='entropy',\n",
       "             max_depth=None, max_features='auto', max_leaf_nodes=None,\n",
       "             min_impurity_decrease=0.0, min_impurity_split=None,\n",
       "             min_samples_leaf=1, min_samples_split=2,\n",
       "             min_weight_fraction_leaf=0.0, n_estimators=200, n_jobs=-1,\n",
       "             oob_score=False, random_state=1023, verbose=0,\n",
       "             warm_start=False),\n",
       " RandomForestClassifier(bootstrap=True, class_weight=None, criterion='entropy',\n",
       "             max_depth=None, max_features='auto', max_leaf_nodes=None,\n",
       "             min_impurity_decrease=0.0, min_impurity_split=None,\n",
       "             min_samples_leaf=1, min_samples_split=2,\n",
       "             min_weight_fraction_leaf=0.0, n_estimators=200, n_jobs=-1,\n",
       "             oob_score=False, random_state=1023, verbose=0,\n",
       "             warm_start=False)]"
      ]
     },
     "execution_count": 249,
     "metadata": {},
     "output_type": "execute_result"
    }
   ],
   "source": [
    "baseline_model(producerForest.train_x, producerForest.train_y, producerForest.test_x, producerForest.test_y, num_class=26)"
   ]
  },
  {
   "cell_type": "code",
   "execution_count": 179,
   "metadata": {
    "collapsed": true
   },
   "outputs": [],
   "source": [
    "a = [0, 3, 8, 9, 11]\n",
    "b = [0, 11, 8, 9]"
   ]
  },
  {
   "cell_type": "code",
   "execution_count": 180,
   "metadata": {},
   "outputs": [
    {
     "data": {
      "text/plain": [
       "[0, 4, 2, 3]"
      ]
     },
     "execution_count": 180,
     "metadata": {},
     "output_type": "execute_result"
    }
   ],
   "source": [
    "[a.index(i) for i in b]"
   ]
  },
  {
   "cell_type": "code",
   "execution_count": 121,
   "metadata": {
    "collapsed": true
   },
   "outputs": [],
   "source": [
    "x_index = list(test_index)"
   ]
  },
  {
   "cell_type": "code",
   "execution_count": 127,
   "metadata": {
    "collapsed": true
   },
   "outputs": [
    {
     "data": {
      "text/plain": [
       "[5,\n",
       " 7,\n",
       " 23,\n",
       " 30,\n",
       " 35,\n",
       " 46,\n",
       " 48,\n",
       " 54,\n",
       " 58,\n",
       " 62,\n",
       " 65,\n",
       " 67,\n",
       " 73,\n",
       " 74,\n",
       " 85,\n",
       " 89,\n",
       " 95,\n",
       " 99,\n",
       " 101,\n",
       " 102,\n",
       " 106,\n",
       " 109,\n",
       " 113,\n",
       " 119,\n",
       " 125,\n",
       " 134,\n",
       " 135,\n",
       " 137,\n",
       " 139,\n",
       " 140,\n",
       " 141,\n",
       " 144,\n",
       " 148,\n",
       " 152,\n",
       " 157,\n",
       " 158,\n",
       " 165,\n",
       " 170,\n",
       " 184]"
      ]
     },
     "execution_count": 127,
     "metadata": {},
     "output_type": "execute_result"
    }
   ],
   "source": [
    "x_index"
   ]
  },
  {
   "cell_type": "code",
   "execution_count": 134,
   "metadata": {
    "collapsed": true
   },
   "outputs": [],
   "source": [
    "p_all_fold_prob[:, y_index][x_index] = y_pred_prob"
   ]
  },
  {
   "cell_type": "code",
   "execution_count": 248,
   "metadata": {
    "collapsed": true
   },
   "outputs": [],
   "source": [
    "from sklearn.ensemble import RandomForestClassifier\n",
    "from sklearn.model_selection import StratifiedKFold\n",
    "from sklearn.model_selection import cross_val_score\n",
    "from sklearn.linear_model import LogisticRegression\n",
    "from scipy import stats\n",
    "def baseline_model(X_train, y_train, X_sub, y_sub, num_class, feval=metrics.accuracy_score):\n",
    "    kfold = 10\n",
    "    X = X_train.copy()\n",
    "    y = y_train.copy()\n",
    "    X_test = X_sub.copy()\n",
    "    real_y = y_sub.copy()\n",
    "    max_depth = None\n",
    "    random_state = 1023\n",
    "    min_samples_leaf = 1\n",
    "    criterion = 'entropy'#'gini'\n",
    "    # criterion = 'gini'#'gini'\n",
    "    n_estimators = 200\n",
    "\n",
    "    sss = StratifiedKFold(n_splits=kfold, shuffle=True, random_state=9487)\n",
    "\n",
    "    print(\"X_train.shape, y_train.shape:\"+str(X.shape)+str(y.shape))\n",
    "    \n",
    "    \n",
    "    tmp1 = np.array(list(Counter(y_train).values()))\n",
    "    tmp2 = np.array(list(Counter(y_train).keys()))\n",
    "    index_tmp = np.where(tmp1 == 1)[0]\n",
    "    for i in index_tmp:\n",
    "        assert len(index_tmp) > 0\n",
    "        tmp2_index = i\n",
    "        data_key = tmp2[tmp2_index]\n",
    "        tmp_data_index = np.where(producerForest.train_y == data_key)[0][0]\n",
    "        X = np.delete(X, tmp_data_index, axis=0)\n",
    "        y = np.delete(y, tmp_data_index, axis=0)\n",
    "    print(\"X_train.shape, y_train.shape:\"+str(X.shape)+str(y.shape))\n",
    "        \n",
    "    p_all_fold = np.zeros(X.shape[0])\n",
    "    p_all_fold_prob = np.zeros((X.shape[0], len(set(y))))\n",
    "#     p_all_fold_prob = np.zeros((X.shape[0], num_class))\n",
    "    p_all_fold_prob_test = np.zeros((X_test.shape[0], len(set(y))))\n",
    "#     p_all_fold_prob_test = np.zeros((X_test.shape[0], num_class))\n",
    "    clf_folds = []\n",
    "    \n",
    "    ###### \n",
    "#     if len(set(y_train)) != num_class:\n",
    "    y_index = list(set(y_train))\n",
    "    y_index.sort()\n",
    "    print(y_index)\n",
    "        \n",
    "    \n",
    "    for i, (train_index, test_index) in enumerate(sss.split(X, y)):\n",
    "        X_train_bl, X_valid_bl = X[train_index], X[test_index]\n",
    "        y_train_bl, y_valid_bl = y[train_index], y[test_index]\n",
    "            \n",
    "        print(\"X_train.shape, y_train.shape:\"+str(X_train_bl.shape)+str(y_train_bl.shape))\n",
    "        print(\"X_valid.shape, y_valid.shape:\"+str(X_valid_bl.shape)+str(y_valid_bl.shape))\n",
    "            \n",
    "        clf = RandomForestClassifier(max_depth=max_depth, random_state=random_state, \n",
    "                                        min_samples_leaf=min_samples_leaf, n_estimators=n_estimators, n_jobs=-1,\n",
    "                                             #max_leaf_nodes=100,\n",
    "        #                                  n_estimators=2, n_jobs=8, oob_score=True, verbose=1, boostrap=False,\n",
    "                                         criterion=criterion)\n",
    "        print(len(set(y_train_bl)))\n",
    "        clf = clf.fit(X_train_bl, y_train_bl)\n",
    "        clf_folds.append(clf)\n",
    "        # print(clf)\n",
    "        \n",
    "        cross_score = cross_val_score(clf, X_valid_bl, y_valid_bl, cv=3)\n",
    "        print(\"    cross_score: %.5f\" % (cross_score.mean()))\n",
    "        print(\"    test score\", feval(real_y, clf.predict(X_test)))\n",
    "        \n",
    "        \n",
    "#         if len(set(y_train_bl)) < len(set(y_train)):\n",
    "#             tmp1 = np.array(list(Counter(y_train).values()))\n",
    "#             tmp2 = np.array(list(Counter(y_train).keys()))\n",
    "#             index_tmp = np.where(tmp1 == 1)[0]\n",
    "#             assert len(index_tmp) > 0\n",
    "#             add_x = []\n",
    "#             add_y = []\n",
    "#             for i in range(len(index_tmp) == 0):\n",
    "#                 data_key = tmp2[index_tmp]\n",
    "#                 tmp_data_index = np.where(producerForest.train_y == data_key)[0][0]\n",
    "#                 add_x.append(X_train[tmp_data_index])\n",
    "#                 add_y.append(y_train[tmp_data_index])\n",
    "                \n",
    "        \n",
    "        \n",
    "        if not num_class:\n",
    "            y_pred = clf.predict_proba(X_valid_bl)[:,1]\n",
    "        else:\n",
    "            y_pred = clf.predict(X_valid_bl)\n",
    "            y_pred_prob = clf.predict_proba(X_valid_bl)\n",
    "            y_pred_prob_test = clf.predict_proba(X_test)\n",
    "            \n",
    "#             if len(set(y_train_bl)) < len(set(y_train)):\n",
    "#                 y_index_fold = list(set(y_train_bl))\n",
    "#                 y_index_fold.sort()\n",
    "# #                 print(y_index, y_index_fold)\n",
    "#                 y_fold_index = [y_index.index(i) for i in y_index_fold]\n",
    "#             else:\n",
    "#                 y_fold_index = list(range(len(y_index)))\n",
    "                \n",
    "\n",
    "        p_all_fold[test_index] += y_pred\n",
    "#         p_all_fold_prob[:, y_index][test_index] += y_pred_prob\n",
    "#         p_all_fold_prob_test[:, y_index] += y_pred_prob_test/kfold\n",
    "#         p_all_fold_prob[:, y_fold_index][test_index] += y_pred_prob\n",
    "#         p_all_fold_prob_test[:, y_fold_index] += y_pred_prob_test/kfold\n",
    "        print(test_index.shape, y_pred_prob.shape, p_all_fold_prob[test_index, :].shape)\n",
    "        p_all_fold_prob[test_index, :] += y_pred_prob\n",
    "        p_all_fold_prob_test[:, :] += y_pred_prob_test/kfold\n",
    "    print(\"train kflod pred:\", feval(y, p_all_fold))\n",
    "\n",
    "    #### train pred\n",
    "    y_preds = np.zeros((X.shape[0], len(clf_folds)))\n",
    "    for i, clf in enumerate(clf_folds):\n",
    "        if not num_class:\n",
    "            y_pred = clf.predict_proba(X)[:,1]\n",
    "        else:\n",
    "            y_pred = clf.predict(X)\n",
    "        y_preds[:, i] = y_pred\n",
    "\n",
    "    if not num_class:\n",
    "        result = y_preds.mean(axis=1)\n",
    "    else:\n",
    "    #     print(y_preds)\n",
    "        m = stats.mode(y_preds, axis=1)\n",
    "        result = np.array([i[0] for i in m[0]])\n",
    "    print(\"train pred\", feval(y, result))\n",
    "\n",
    "    #### test pred\n",
    "    y_preds = np.zeros((X_test.shape[0], len(clf_folds)))\n",
    "    for i, clf in enumerate(clf_folds):\n",
    "        if not num_class:\n",
    "            y_pred = clf.predict_proba(X_test)[:,1]\n",
    "        else:\n",
    "            y_pred = clf.predict(X_test)\n",
    "        y_preds[:, i] = y_pred\n",
    "\n",
    "    if not num_class:\n",
    "        result = y_preds.mean(axis=1)\n",
    "    else:\n",
    "    #     print(y_preds)\n",
    "        m = stats.mode(y_preds, axis=1)\n",
    "        result = np.array([i[0] for i in m[0]])\n",
    "    # print(result)\n",
    "    print(\"test pred\", feval(real_y, result))\n",
    "\n",
    "    ### lr pred\n",
    "    log_model = LogisticRegression()\n",
    "    log_model.fit(p_all_fold_prob, y)\n",
    "    res = log_model.predict(p_all_fold_prob)\n",
    "    print(\"lr train\", feval(y, res))\n",
    "    res = log_model.predict(p_all_fold_prob_test)\n",
    "    print(\"lr test\", feval(real_y, res))\n",
    "    print(\"lr coef_\", np.mean(log_model.coef_))\n",
    "    return clf_folds"
   ]
  },
  {
   "cell_type": "code",
   "execution_count": null,
   "metadata": {
    "collapsed": true
   },
   "outputs": [],
   "source": []
  },
  {
   "cell_type": "code",
   "execution_count": null,
   "metadata": {
    "collapsed": true
   },
   "outputs": [],
   "source": []
  },
  {
   "cell_type": "code",
   "execution_count": null,
   "metadata": {
    "collapsed": true
   },
   "outputs": [],
   "source": []
  },
  {
   "cell_type": "code",
   "execution_count": 258,
   "metadata": {
    "collapsed": true
   },
   "outputs": [
    {
     "data": {
      "image/png": "[encoded data removed]",
      "text/plain": [
       "<matplotlib.figure.Figure at 0x2513fc9fc18>"
      ]
     },
     "metadata": {},
     "output_type": "display_data"
    }
   ],
   "source": [
    "import matplotlib.pyplot as plt\n",
    "\n",
    "plt.figure(figsize=(10,10))\n",
    "x = range(len(decoForest.train_loss_lt))\n",
    "\n",
    "plt.subplot(221)\n",
    "plt.plot(x[1:],decoForest.pass_train_loss_lt[1:], label=\"train-pass\", color=\"blue\")\n",
    "plt.plot(x[1:],decoForest.pass_vaild_loss_lt[1:], label=\"vaild-pass\", color=\"green\")\n",
    "plt.plot(x[1:],decoForest.pass_test_loss_lt[1:], label=\"test-pass\", color=\"red\")\n",
    "plt.legend()\n",
    "plt.subplot(222)\n",
    "plt.plot(x[1:],decoForest.pass_train_loss_lt_now[1:], label=\"train-pass-now\", color=\"blue\")\n",
    "plt.plot(x[1:],decoForest.pass_vaild_loss_lt_now[1:], label=\"vaild-pass-now\", color=\"green\")\n",
    "plt.plot(x[1:],decoForest.pass_test_loss_lt_now[1:], label=\"test-pass-now\", color=\"red\")\n",
    "plt.legend()\n",
    "plt.subplot(223)\n",
    "plt.plot(x,decoForest.train_loss_lt, label=\"train-loss\", color=\"blue\")\n",
    "plt.plot(x,decoForest.vaild_loss_lt, label=\"vaild-loss\", color=\"green\")\n",
    "plt.plot(x,decoForest.test_loss_lt, label=\"test-loss\", color=\"red\")\n",
    "plt.legend()\n",
    "plt.subplot(224)\n",
    "plt.plot(x,decoForest.pass_data_rate_lt[:], label=\"data-pass-rate\")\n",
    "plt.legend()\n",
    "\n",
    "plt.show()"
   ]
  },
  {
   "cell_type": "code",
   "execution_count": 299,
   "metadata": {},
   "outputs": [
    {
     "data": {
      "image/png": "[encoded data removed]",
      "text/plain": [
       "<matplotlib.figure.Figure at 0x1d5b25f97b8>"
      ]
     },
     "metadata": {},
     "output_type": "display_data"
    }
   ],
   "source": [
    "import matplotlib.pyplot as plt\n",
    "\n",
    "plt.figure(figsize=(10,10))\n",
    "x = range(len(decoForest.train_loss_lt))\n",
    "\n",
    "plt.subplot(221)\n",
    "plt.plot(x[1:],decoForest.pass_train_loss_lt[1:], label=\"train-pass\", color=\"blue\")\n",
    "plt.plot(x[1:],decoForest.pass_vaild_loss_lt[1:], label=\"vaild-pass\", color=\"green\")\n",
    "plt.plot(x[1:],decoForest.pass_test_loss_lt[1:], label=\"test-pass\", color=\"red\")\n",
    "plt.legend()\n",
    "plt.subplot(222)\n",
    "plt.plot(x[1:],decoForest.pass_train_loss_lt_now[1:], label=\"train-pass-now\", color=\"blue\")\n",
    "plt.plot(x[1:],decoForest.pass_vaild_loss_lt_now[1:], label=\"vaild-pass-now\", color=\"green\")\n",
    "plt.plot(x[1:],decoForest.pass_test_loss_lt_now[1:], label=\"test-pass-now\", color=\"red\")\n",
    "plt.legend()\n",
    "plt.subplot(223)\n",
    "# plt.plot(x,decoForest.train_loss_lt, label=\"train-loss\", color=\"blue\")\n",
    "plt.plot(x,decoForest.vaild_loss_lt, label=\"vaild-loss\", color=\"green\")\n",
    "plt.plot(x,decoForest.test_loss_lt, label=\"test-loss\", color=\"red\")\n",
    "plt.legend()\n",
    "plt.subplot(224)\n",
    "plt.plot(x,decoForest.pass_data_rate_lt[:], label=\"data-pass-rate\")\n",
    "plt.legend()\n",
    "\n",
    "plt.show()"
   ]
  },
  {
   "cell_type": "code",
   "execution_count": 17,
   "metadata": {},
   "outputs": [
    {
     "data": {
      "text/plain": [
       "(0.96475,\n",
       " [(0, 0.96475),\n",
       "  (1, 0.96274999999999999),\n",
       "  (2, 0.96475),\n",
       "  (3, 0.96299999999999997),\n",
       "  (4, 0.96375)])"
      ]
     },
     "execution_count": 17,
     "metadata": {},
     "output_type": "execute_result"
    }
   ],
   "source": [
    "# n=200, criterion=\"gini\", dropout=None\n",
    "np.max(np.array(decoForest.test_loss_lt)),list(enumerate(decoForest.test_loss_lt) )"
   ]
  },
  {
   "cell_type": "code",
   "execution_count": 300,
   "metadata": {
    "collapsed": true
   },
   "outputs": [
    {
     "data": {
      "text/plain": [
       "(0.96425000000000005,\n",
       " [(0, 0.96399999999999997),\n",
       "  (1, 0.96199999999999997),\n",
       "  (2, 0.96425000000000005),\n",
       "  (3, 0.96375),\n",
       "  (4, 0.96099999999999997),\n",
       "  (5, 0.96025000000000005),\n",
       "  (6, 0.96399999999999997),\n",
       "  (7, 0.96250000000000002),\n",
       "  (8, 0.96174999999999999),\n",
       "  (9, 0.96025000000000005),\n",
       "  (10, 0.96099999999999997),\n",
       "  (11, 0.95925000000000005),\n",
       "  (12, 0.96050000000000002),\n",
       "  (13, 0.96125000000000005),\n",
       "  (14, 0.95899999999999996),\n",
       "  (15, 0.95674999999999999),\n",
       "  (16, 0.95774999999999999),\n",
       "  (17, 0.95850000000000002),\n",
       "  (18, 0.95599999999999996),\n",
       "  (19, 0.95499999999999996),\n",
       "  (20, 0.95699999999999996),\n",
       "  (21, 0.95725000000000005),\n",
       "  (22, 0.95525000000000004),\n",
       "  (23, 0.95550000000000002),\n",
       "  (24, 0.95650000000000002),\n",
       "  (25, 0.95674999999999999),\n",
       "  (26, 0.95599999999999996),\n",
       "  (27, 0.95425000000000004),\n",
       "  (28, 0.95125000000000004),\n",
       "  (29, 0.95350000000000001),\n",
       "  (30, 0.95250000000000001),\n",
       "  (31, 0.95274999999999999),\n",
       "  (32, 0.95150000000000001),\n",
       "  (33, 0.95225000000000004),\n",
       "  (34, 0.95350000000000001),\n",
       "  (35, 0.94974999999999998),\n",
       "  (36, 0.94899999999999995),\n",
       "  (37, 0.95025000000000004)])"
      ]
     },
     "execution_count": 300,
     "metadata": {},
     "output_type": "execute_result"
    }
   ],
   "source": [
    "# n=50, criterion=\"gini\", dropout=0.8\n",
    "np.max(np.array(decoForest.test_loss_lt)),list(enumerate(decoForest.test_loss_lt) )"
   ]
  },
  {
   "cell_type": "code",
   "execution_count": 292,
   "metadata": {
    "collapsed": true
   },
   "outputs": [
    {
     "data": {
      "text/plain": [
       "(0.96525000000000005,\n",
       " [(0, 0.96399999999999997),\n",
       "  (1, 0.96199999999999997),\n",
       "  (2, 0.96299999999999997),\n",
       "  (3, 0.96399999999999997),\n",
       "  (4, 0.96250000000000002),\n",
       "  (5, 0.96250000000000002),\n",
       "  (6, 0.96475),\n",
       "  (7, 0.96199999999999997),\n",
       "  (8, 0.96299999999999997),\n",
       "  (9, 0.96425000000000005),\n",
       "  (10, 0.96375),\n",
       "  (11, 0.96499999999999997),\n",
       "  (12, 0.96325000000000005),\n",
       "  (13, 0.96174999999999999),\n",
       "  (14, 0.96399999999999997),\n",
       "  (15, 0.96174999999999999),\n",
       "  (16, 0.96399999999999997),\n",
       "  (17, 0.96274999999999999),\n",
       "  (18, 0.96250000000000002),\n",
       "  (19, 0.96499999999999997),\n",
       "  (20, 0.96199999999999997),\n",
       "  (21, 0.96375),\n",
       "  (22, 0.96499999999999997),\n",
       "  (23, 0.96274999999999999),\n",
       "  (24, 0.96274999999999999),\n",
       "  (25, 0.96525000000000005)])"
      ]
     },
     "execution_count": 292,
     "metadata": {},
     "output_type": "execute_result"
    }
   ],
   "source": [
    "# n=50, criterion=\"gini\", dropout=None lift&support\n",
    "np.max(np.array(decoForest.test_loss_lt)),list(enumerate(decoForest.test_loss_lt) )"
   ]
  },
  {
   "cell_type": "code",
   "execution_count": 279,
   "metadata": {
    "collapsed": true
   },
   "outputs": [
    {
     "data": {
      "text/plain": [
       "(0.96525000000000005,\n",
       " [(0, 0.96399999999999997),\n",
       "  (1, 0.96199999999999997),\n",
       "  (2, 0.96299999999999997),\n",
       "  (3, 0.96399999999999997),\n",
       "  (4, 0.96250000000000002),\n",
       "  (5, 0.96250000000000002),\n",
       "  (6, 0.96475),\n",
       "  (7, 0.96199999999999997),\n",
       "  (8, 0.96299999999999997),\n",
       "  (9, 0.96425000000000005),\n",
       "  (10, 0.96375),\n",
       "  (11, 0.96499999999999997),\n",
       "  (12, 0.96325000000000005),\n",
       "  (13, 0.96174999999999999),\n",
       "  (14, 0.96399999999999997),\n",
       "  (15, 0.96174999999999999),\n",
       "  (16, 0.96399999999999997),\n",
       "  (17, 0.96274999999999999),\n",
       "  (18, 0.96250000000000002),\n",
       "  (19, 0.96499999999999997),\n",
       "  (20, 0.96199999999999997),\n",
       "  (21, 0.96375),\n",
       "  (22, 0.96499999999999997),\n",
       "  (23, 0.96274999999999999),\n",
       "  (24, 0.96274999999999999),\n",
       "  (25, 0.96525000000000005)])"
      ]
     },
     "execution_count": 279,
     "metadata": {},
     "output_type": "execute_result"
    }
   ],
   "source": [
    "# n=50, criterion=\"gini\", dropout=None lift\n",
    "np.max(np.array(decoForest.test_loss_lt)),list(enumerate(decoForest.test_loss_lt) )"
   ]
  },
  {
   "cell_type": "code",
   "execution_count": 275,
   "metadata": {
    "collapsed": true
   },
   "outputs": [
    {
     "data": {
      "text/plain": [
       "(0.96525000000000005,\n",
       " [(0, 0.96399999999999997),\n",
       "  (1, 0.96199999999999997),\n",
       "  (2, 0.96299999999999997),\n",
       "  (3, 0.96399999999999997),\n",
       "  (4, 0.96250000000000002),\n",
       "  (5, 0.96250000000000002),\n",
       "  (6, 0.96475),\n",
       "  (7, 0.96199999999999997),\n",
       "  (8, 0.96299999999999997),\n",
       "  (9, 0.96425000000000005),\n",
       "  (10, 0.96375),\n",
       "  (11, 0.96499999999999997),\n",
       "  (12, 0.96325000000000005),\n",
       "  (13, 0.96174999999999999),\n",
       "  (14, 0.96399999999999997),\n",
       "  (15, 0.96174999999999999),\n",
       "  (16, 0.96399999999999997),\n",
       "  (17, 0.96274999999999999),\n",
       "  (18, 0.96250000000000002),\n",
       "  (19, 0.96499999999999997),\n",
       "  (20, 0.96199999999999997),\n",
       "  (21, 0.96375),\n",
       "  (22, 0.96499999999999997),\n",
       "  (23, 0.96274999999999999),\n",
       "  (24, 0.96274999999999999),\n",
       "  (25, 0.96525000000000005)])"
      ]
     },
     "execution_count": 275,
     "metadata": {},
     "output_type": "execute_result"
    }
   ],
   "source": [
    "# n=50, criterion=\"gini\", dropout=None\n",
    "np.max(np.array(decoForest.test_loss_lt)),list(enumerate(decoForest.test_loss_lt) )"
   ]
  },
  {
   "cell_type": "code",
   "execution_count": 272,
   "metadata": {},
   "outputs": [
    {
     "data": {
      "text/plain": [
       "(0.96475,\n",
       " [(0, 0.96475),\n",
       "  (1, 0.96375),\n",
       "  (2, 0.96425000000000005),\n",
       "  (3, 0.96475),\n",
       "  (4, 0.96475),\n",
       "  (5, 0.96475),\n",
       "  (6, 0.96399999999999997),\n",
       "  (7, 0.96274999999999999)])"
      ]
     },
     "execution_count": 272,
     "metadata": {},
     "output_type": "execute_result"
    }
   ],
   "source": [
    "# n=200, criterion=\"gini\", dropout=None\n",
    "np.max(np.array(decoForest.test_loss_lt)),list(enumerate(decoForest.test_loss_lt) )"
   ]
  },
  {
   "cell_type": "code",
   "execution_count": 246,
   "metadata": {},
   "outputs": [
    {
     "data": {
      "text/plain": [
       "(0.96525000000000005,\n",
       " [(0, 0.96475),\n",
       "  (1, 0.96375),\n",
       "  (2, 0.96399999999999997),\n",
       "  (3, 0.96475),\n",
       "  (4, 0.96375),\n",
       "  (5, 0.96250000000000002),\n",
       "  (6, 0.96525000000000005),\n",
       "  (7, 0.96375),\n",
       "  (8, 0.96325000000000005),\n",
       "  (9, 0.96325000000000005)])"
      ]
     },
     "execution_count": 246,
     "metadata": {},
     "output_type": "execute_result"
    }
   ],
   "source": [
    "# n=200, criterion=\"gini\", dropout=-1\n",
    "np.max(np.array(decoForest.test_loss_lt)),list(enumerate(decoForest.test_loss_lt) )"
   ]
  },
  {
   "cell_type": "code",
   "execution_count": 243,
   "metadata": {},
   "outputs": [
    {
     "data": {
      "text/plain": [
       "(0.96475,\n",
       " [(0, 0.96399999999999997),\n",
       "  (1, 0.96199999999999997),\n",
       "  (2, 0.96425000000000005),\n",
       "  (3, 0.96375),\n",
       "  (4, 0.96174999999999999),\n",
       "  (5, 0.96375),\n",
       "  (6, 0.96475),\n",
       "  (7, 0.96399999999999997),\n",
       "  (8, 0.96125000000000005),\n",
       "  (9, 0.96025000000000005),\n",
       "  (10, 0.96250000000000002),\n",
       "  (11, 0.96199999999999997)])"
      ]
     },
     "execution_count": 243,
     "metadata": {},
     "output_type": "execute_result"
    }
   ],
   "source": [
    "# n=50, criterion=\"gini\", dropout=-1\n",
    "np.max(np.array(decoForest.test_loss_lt)),list(enumerate(decoForest.test_loss_lt) )"
   ]
  },
  {
   "cell_type": "code",
   "execution_count": 106,
   "metadata": {},
   "outputs": [
    {
     "data": {
      "text/plain": [
       "(0.96475,\n",
       " [(0, 0.96475),\n",
       "  (1, 0.96274999999999999),\n",
       "  (2, 0.96475),\n",
       "  (3, 0.96299999999999997),\n",
       "  (4, 0.96375)])"
      ]
     },
     "execution_count": 106,
     "metadata": {},
     "output_type": "execute_result"
    }
   ],
   "source": [
    "# n=200, criterion=\"gini\", dropout=None\n",
    "np.max(np.array(decoForest.test_loss_lt)),list(enumerate(decoForest.test_loss_lt) )"
   ]
  },
  {
   "cell_type": "markdown",
   "metadata": {},
   "source": [
    "# Todo list\n",
    "- 树结构设计（完成）\n",
    "- 通过gini对数据分割（完成）\n",
    "- 全局测试集\n",
    "- 输出结果集\n",
    "- 打印信息增加pass data的比例\n",
    "- 防止过拟合\n",
    "- 对pass data的进一步处理\n",
    "- 先进行数据均衡化是不是更快一些"
   ]
  },
  {
   "cell_type": "code",
   "execution_count": null,
   "metadata": {
    "collapsed": true
   },
   "outputs": [],
   "source": []
  }
 ],
 "metadata": {
  "kernelspec": {
   "display_name": "Python 3",
   "language": "python",
   "name": "python3"
  },
  "language_info": {
   "codemirror_mode": {
    "name": "ipython",
    "version": 3
   },
   "file_extension": ".py",
   "mimetype": "text/x-python",
   "name": "python",
   "nbconvert_exporter": "python",
   "pygments_lexer": "ipython3",
   "version": "3.7.3"
  }
 },
 "nbformat": 4,
 "nbformat_minor": 2
}
