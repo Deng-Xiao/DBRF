{
 "cells": [
  {
   "cell_type": "code",
   "execution_count": 4,
   "metadata": {
    "collapsed": true
   },
   "outputs": [],
   "source": [
    "import pandas as pd"
   ]
  },
  {
   "cell_type": "code",
   "execution_count": 5,
   "metadata": {},
   "outputs": [
    {
     "data": {
      "text/html": [
       "<div>\n",
       "<style>\n",
       "    .dataframe thead tr:only-child th {\n",
       "        text-align: right;\n",
       "    }\n",
       "\n",
       "    .dataframe thead th {\n",
       "        text-align: left;\n",
       "    }\n",
       "\n",
       "    .dataframe tbody tr th {\n",
       "        vertical-align: top;\n",
       "    }\n",
       "</style>\n",
       "<table border=\"1\" class=\"dataframe\">\n",
       "  <thead>\n",
       "    <tr style=\"text-align: right;\">\n",
       "      <th></th>\n",
       "      <th>Time</th>\n",
       "      <th>V1</th>\n",
       "      <th>V2</th>\n",
       "      <th>V3</th>\n",
       "      <th>V4</th>\n",
       "      <th>V5</th>\n",
       "      <th>V6</th>\n",
       "      <th>V7</th>\n",
       "      <th>V8</th>\n",
       "      <th>V9</th>\n",
       "      <th>...</th>\n",
       "      <th>V21</th>\n",
       "      <th>V22</th>\n",
       "      <th>V23</th>\n",
       "      <th>V24</th>\n",
       "      <th>V25</th>\n",
       "      <th>V26</th>\n",
       "      <th>V27</th>\n",
       "      <th>V28</th>\n",
       "      <th>Amount</th>\n",
       "      <th>Class</th>\n",
       "    </tr>\n",
       "  </thead>\n",
       "  <tbody>\n",
       "    <tr>\n",
       "      <th>0</th>\n",
       "      <td>58629.0</td>\n",
       "      <td>1.139019</td>\n",
       "      <td>-0.101769</td>\n",
       "      <td>-0.314982</td>\n",
       "      <td>-0.164350</td>\n",
       "      <td>0.101287</td>\n",
       "      <td>-0.475595</td>\n",
       "      <td>0.374976</td>\n",
       "      <td>-0.188015</td>\n",
       "      <td>-0.403314</td>\n",
       "      <td>...</td>\n",
       "      <td>-0.381686</td>\n",
       "      <td>-1.353538</td>\n",
       "      <td>0.003406</td>\n",
       "      <td>-0.462444</td>\n",
       "      <td>0.173834</td>\n",
       "      <td>0.643981</td>\n",
       "      <td>-0.117927</td>\n",
       "      <td>0.002798</td>\n",
       "      <td>99.00</td>\n",
       "      <td>0</td>\n",
       "    </tr>\n",
       "    <tr>\n",
       "      <th>1</th>\n",
       "      <td>153871.0</td>\n",
       "      <td>-1.108319</td>\n",
       "      <td>-0.479091</td>\n",
       "      <td>-0.281801</td>\n",
       "      <td>3.834887</td>\n",
       "      <td>-2.023660</td>\n",
       "      <td>0.878587</td>\n",
       "      <td>2.494906</td>\n",
       "      <td>0.301339</td>\n",
       "      <td>-1.290925</td>\n",
       "      <td>...</td>\n",
       "      <td>0.291691</td>\n",
       "      <td>-0.428286</td>\n",
       "      <td>2.302506</td>\n",
       "      <td>0.248074</td>\n",
       "      <td>-2.318195</td>\n",
       "      <td>-0.836501</td>\n",
       "      <td>0.035182</td>\n",
       "      <td>0.377635</td>\n",
       "      <td>679.30</td>\n",
       "      <td>0</td>\n",
       "    </tr>\n",
       "    <tr>\n",
       "      <th>2</th>\n",
       "      <td>9729.0</td>\n",
       "      <td>-1.711793</td>\n",
       "      <td>1.044837</td>\n",
       "      <td>1.932781</td>\n",
       "      <td>-0.429021</td>\n",
       "      <td>-0.338586</td>\n",
       "      <td>0.389833</td>\n",
       "      <td>-0.259721</td>\n",
       "      <td>-0.805283</td>\n",
       "      <td>2.269503</td>\n",
       "      <td>...</td>\n",
       "      <td>0.709299</td>\n",
       "      <td>0.368781</td>\n",
       "      <td>-0.020931</td>\n",
       "      <td>0.237244</td>\n",
       "      <td>-0.333658</td>\n",
       "      <td>1.007750</td>\n",
       "      <td>-0.073077</td>\n",
       "      <td>0.224735</td>\n",
       "      <td>9.28</td>\n",
       "      <td>0</td>\n",
       "    </tr>\n",
       "    <tr>\n",
       "      <th>3</th>\n",
       "      <td>70345.0</td>\n",
       "      <td>1.364579</td>\n",
       "      <td>-0.145144</td>\n",
       "      <td>0.385800</td>\n",
       "      <td>-0.462098</td>\n",
       "      <td>-0.965326</td>\n",
       "      <td>-1.344922</td>\n",
       "      <td>-0.381015</td>\n",
       "      <td>-0.307561</td>\n",
       "      <td>-1.051317</td>\n",
       "      <td>...</td>\n",
       "      <td>-0.106377</td>\n",
       "      <td>-0.356193</td>\n",
       "      <td>0.135920</td>\n",
       "      <td>0.645943</td>\n",
       "      <td>0.237526</td>\n",
       "      <td>-0.505061</td>\n",
       "      <td>0.031222</td>\n",
       "      <td>0.051050</td>\n",
       "      <td>15.00</td>\n",
       "      <td>0</td>\n",
       "    </tr>\n",
       "    <tr>\n",
       "      <th>4</th>\n",
       "      <td>70014.0</td>\n",
       "      <td>0.852605</td>\n",
       "      <td>-0.709105</td>\n",
       "      <td>0.554433</td>\n",
       "      <td>1.164843</td>\n",
       "      <td>-0.591098</td>\n",
       "      <td>0.767108</td>\n",
       "      <td>-0.511294</td>\n",
       "      <td>0.297263</td>\n",
       "      <td>0.666478</td>\n",
       "      <td>...</td>\n",
       "      <td>0.197745</td>\n",
       "      <td>0.252608</td>\n",
       "      <td>-0.394173</td>\n",
       "      <td>-0.839627</td>\n",
       "      <td>0.530687</td>\n",
       "      <td>-0.203352</td>\n",
       "      <td>0.021558</td>\n",
       "      <td>0.043489</td>\n",
       "      <td>188.00</td>\n",
       "      <td>0</td>\n",
       "    </tr>\n",
       "  </tbody>\n",
       "</table>\n",
       "<p>5 rows × 31 columns</p>\n",
       "</div>"
      ],
      "text/plain": [
       "       Time        V1        V2        V3        V4        V5        V6  \\\n",
       "0   58629.0  1.139019 -0.101769 -0.314982 -0.164350  0.101287 -0.475595   \n",
       "1  153871.0 -1.108319 -0.479091 -0.281801  3.834887 -2.023660  0.878587   \n",
       "2    9729.0 -1.711793  1.044837  1.932781 -0.429021 -0.338586  0.389833   \n",
       "3   70345.0  1.364579 -0.145144  0.385800 -0.462098 -0.965326 -1.344922   \n",
       "4   70014.0  0.852605 -0.709105  0.554433  1.164843 -0.591098  0.767108   \n",
       "\n",
       "         V7        V8        V9  ...         V21       V22       V23  \\\n",
       "0  0.374976 -0.188015 -0.403314  ...   -0.381686 -1.353538  0.003406   \n",
       "1  2.494906  0.301339 -1.290925  ...    0.291691 -0.428286  2.302506   \n",
       "2 -0.259721 -0.805283  2.269503  ...    0.709299  0.368781 -0.020931   \n",
       "3 -0.381015 -0.307561 -1.051317  ...   -0.106377 -0.356193  0.135920   \n",
       "4 -0.511294  0.297263  0.666478  ...    0.197745  0.252608 -0.394173   \n",
       "\n",
       "        V24       V25       V26       V27       V28  Amount  Class  \n",
       "0 -0.462444  0.173834  0.643981 -0.117927  0.002798   99.00      0  \n",
       "1  0.248074 -2.318195 -0.836501  0.035182  0.377635  679.30      0  \n",
       "2  0.237244 -0.333658  1.007750 -0.073077  0.224735    9.28      0  \n",
       "3  0.645943  0.237526 -0.505061  0.031222  0.051050   15.00      0  \n",
       "4 -0.839627  0.530687 -0.203352  0.021558  0.043489  188.00      0  \n",
       "\n",
       "[5 rows x 31 columns]"
      ]
     },
     "execution_count": 5,
     "metadata": {},
     "output_type": "execute_result"
    }
   ],
   "source": [
    "df = pd.read_csv(\"./datasetes/credit/creditcard.csv\", low_memory=False)\n",
    "# df = pd.read_csv('creditcard.csv', low_memory=False)\n",
    "df = df.sample(frac=1).reset_index(drop=True)\n",
    "df.head()"
   ]
  },
  {
   "cell_type": "code",
   "execution_count": 6,
   "metadata": {},
   "outputs": [
    {
     "name": "stdout",
     "output_type": "stream",
     "text": [
      "We have 492 fraud data points and 284315 nonfraudulent data points.\n"
     ]
    }
   ],
   "source": [
    "frauds = df.loc[df['Class'] == 1]\n",
    "non_frauds = df.loc[df['Class'] == 0]\n",
    "print(\"We have\", len(frauds), \"fraud data points and\", len(non_frauds), \"nonfraudulent data points.\")"
   ]
  },
  {
   "cell_type": "code",
   "execution_count": 7,
   "metadata": {
    "collapsed": true
   },
   "outputs": [],
   "source": [
    "from sklearn import datasets, linear_model\n",
    "from sklearn.preprocessing import PolynomialFeatures\n",
    "from sklearn.model_selection import train_test_split"
   ]
  },
  {
   "cell_type": "code",
   "execution_count": 6,
   "metadata": {},
   "outputs": [
    {
     "data": {
      "text/plain": [
       "(492, 284315)"
      ]
     },
     "execution_count": 6,
     "metadata": {},
     "output_type": "execute_result"
    }
   ],
   "source": [
    "x1 = df.loc[df['Class'] == 1].shape[0]\n",
    "y1 = df.loc[df['Class'] == 0].shape[0]\n",
    "x1, y1"
   ]
  },
  {
   "cell_type": "code",
   "execution_count": 16,
   "metadata": {},
   "outputs": [
    {
     "name": "stdout",
     "output_type": "stream",
     "text": [
      "We have 492 fraud data points and 284315 nonfraudulent data points.\n",
      "X and y sizes, respectively: 284807 284807\n",
      "Train and test sizes, respectively: 185124 185124 | 99683 99683\n",
      "Total number of frauds: 492 0.001727485630620034\n",
      "Number of frauds on y_test: 182 0.0018257877471584924\n",
      "Number of frauds on y_train: 310 0.0016745532724012013\n"
     ]
    }
   ],
   "source": [
    "df = pd.read_csv(\"./datasetes/credit/creditcard.csv\", low_memory=False)\n",
    "# df = pd.read_csv('creditcard.csv', low_memory=False)\n",
    "df = df.sample(frac=1, random_state=1).reset_index(drop=True)\n",
    "df.head()\n",
    "frauds = df.loc[df['Class'] == 1]\n",
    "non_frauds = df.loc[df['Class'] == 0]\n",
    "print(\"We have\", len(frauds), \"fraud data points and\", len(non_frauds), \"nonfraudulent data points.\")\n",
    "\n",
    "X = df.iloc[:,:-1]\n",
    "y = df['Class']\n",
    "\n",
    "print(\"X and y sizes, respectively:\", len(X), len(y))\n",
    "\n",
    "X_train, X_test, y_train, y_test = train_test_split(X, y, test_size=0.35, random_state=500)\n",
    "print(\"Train and test sizes, respectively:\", len(X_train), len(y_train), \"|\", len(X_test), len(y_test))\n",
    "print(\"Total number of frauds:\", len(y.loc[df['Class'] == 1]), len(y.loc[df['Class'] == 1])/len(y))\n",
    "print(\"Number of frauds on y_test:\", len(y_test.loc[df['Class'] == 1]), len(y_test.loc[df['Class'] == 1]) / len(y_test))\n",
    "print(\"Number of frauds on y_train:\", len(y_train.loc[df['Class'] == 1]), len(y_train.loc[df['Class'] == 1])/len(y_train))\n",
    "\n",
    "X_train = X_train.values\n",
    "X_test = X_test.values\n",
    "y_train = y_train.values\n",
    "y_test = y_test.values"
   ]
  },
  {
   "cell_type": "code",
   "execution_count": 17,
   "metadata": {
    "collapsed": true
   },
   "outputs": [],
   "source": [
    "train_pd = pd.DataFrame(X_test, columns=['x'+str(i) for i in range(30)])\n",
    "train_pd['y'] = y_test\n",
    "train_pd.to_csv(\"./datasetes/credit/credit_test.csv\", index=False)"
   ]
  },
  {
   "cell_type": "code",
   "execution_count": 18,
   "metadata": {
    "collapsed": true
   },
   "outputs": [],
   "source": [
    "train_pd = pd.DataFrame(X_train, columns=['x'+str(i) for i in range(30)])\n",
    "train_pd['y'] = y_train\n",
    "train_pd.to_csv(\"./datasetes/credit/credit_train.csv\", index=False)"
   ]
  },
  {
   "cell_type": "code",
   "execution_count": null,
   "metadata": {
    "collapsed": true
   },
   "outputs": [],
   "source": []
  },
  {
   "cell_type": "code",
   "execution_count": 13,
   "metadata": {},
   "outputs": [
    {
     "data": {
      "image/png": "[encoded data removed]",
      "text/plain": [
       "<matplotlib.figure.Figure at 0x1bc9ae2feb8>"
      ]
     },
     "metadata": {},
     "output_type": "display_data"
    }
   ],
   "source": [
    "import numpy as np\n",
    "import matplotlib.pyplot as plt\n",
    "\n",
    "y1 = [0, 97821, 98103, 98240, 98347, 98375, 98410, 98434, 98456, 98467, 98482, 98493, 98504, 98515, 98521, 98532, 98533, 98534, 98536, 98545, 98552, 98552, 98557, 98570, 98572, 98576, 98583, 98584, 98590, 98591, 98598, 98599, 98602, 98604, 98604, 98609, 98612, 98614, 98614, 98614, 98617, 98618, 98620, 98623, 98625, 98628, 98629, 98630, 98630]\n",
    "y2 = [0, 25, 25, 25, 25, 25, 25, 25, 25, 25, 25, 25, 25, 25, 25, 25, 25, 25, 25, 25, 25, 25, 25, 25, 25, 25, 25, 25, 25, 25, 25, 25, 25, 25, 25, 25, 25, 25, 25, 25, 25, 25, 25, 25, 25, 25, 25, 25, 25]\n",
    "y3 = [99683, 1862, 1580, 1443, 1336, 1308, 1273, 1249, 1227, 1216, 1201, 1190, 1179, 1168, 1162, 1151, 1150, 1149, 1147, 1138, 1131, 1131, 1126, 1113, 1111, 1107, 1100, 1099, 1093, 1092, 1085, 1084, 1081, 1079, 1079, 1074, 1071, 1069, 1069, 1069, 1066, 1065, 1063, 1060, 1058, 1055, 1054, 1053, 1053]\n",
    "y4 = [316, 291, 291, 291, 291, 291, 291, 291, 291, 291, 291, 291, 291, 291, 291, 291, 291, 291, 291, 291, 291, 291, 291, 291, 291, 291, 291, 291, 291, 291, 291, 291, 291, 291, 291, 291, 291, 291, 291, 291, 291, 291, 291, 291, 291, 291, 291, 291, 291]\n",
    "# y1 = [i*100 / (99683+316) for i in y1]\n",
    "# y2 = [i*100 / (99683+316) for i in y2]\n",
    "# y3 = [i*100 / (99683+316) for i in y3]\n",
    "# y4 = [i*100 / (99683+316) for i in y4]\n",
    "y1 = [i*1 / (99683+316) for i in y1]\n",
    "y2 = [i*1 / (99683+316) for i in y2]\n",
    "y3 = [i*1 / (99683+316) for i in y3]\n",
    "y4 = [i*1 / (99683+316) for i in y4]\n",
    "x = list(range(0, len(y1)+1))\n",
    "\n",
    "y = np.vstack([y1, y2, y3, y4])\n",
    "\n",
    "labels = [\"neg-pass\", \"pos-pass\", \"neg\", \"pos\"]\n",
    "\n",
    "fig, ax = plt.subplots()\n",
    "# print(x[:10])\n",
    "ax.stackplot(x[:11], y1[:11], y2[:11], y3[:11], y4[:11], labels=labels)\n",
    "ax.legend(loc=4)\n",
    "# plt.ylim(99367-2000, 100000)\n",
    "# plt.ylim(95, 100)\n",
    "plt.ylim(0.95, 1)\n",
    "plt.xticks(range(11))\n",
    "plt.savefig(\"./logs/images/stack_plot-0421.pdf\", bbox_inches='tight')\n",
    "# plt.xlabel(\"iteration\")\n",
    "plt.ylabel(\"data distribution (%)\")\n",
    "plt.show()\n",
    "\n",
    "# fig, ax = plt.subplots()\n",
    "# ax.stackplot(x, y)\n",
    "# plt.show()"
   ]
  },
  {
   "cell_type": "code",
   "execution_count": null,
   "metadata": {
    "collapsed": true
   },
   "outputs": [],
   "source": [
    "##Stacked training data distribution in each iteration. The red and green areas indicate the proportion of the positive and negative cases of the retained data (hard examples) during each iteration, while the yellow and blue areas indicate the proportion of the positive and negative cases of the filtered data (easy examples) during each iteration."
   ]
  },
  {
   "cell_type": "code",
   "execution_count": null,
   "metadata": {
    "collapsed": true
   },
   "outputs": [],
   "source": []
  },
  {
   "cell_type": "code",
   "execution_count": 65,
   "metadata": {},
   "outputs": [
    {
     "data": {
      "image/png": "[encoded data removed]",
      "text/plain": [
       "<matplotlib.figure.Figure at 0x1b9b9276c50>"
      ]
     },
     "metadata": {},
     "output_type": "display_data"
    }
   ],
   "source": [
    "import numpy as np\n",
    "import matplotlib.pyplot as plt\n",
    "\n",
    "y1 = [0, 97821, 98103, 98240, 98347, 98375, 98410, 98434, 98456, 98467, 98482, 98493, 98504, 98515, 98521, 98532, 98533, 98534, 98536, 98545, 98552, 98552, 98557, 98570, 98572, 98576, 98583, 98584, 98590, 98591, 98598, 98599, 98602, 98604, 98604, 98609, 98612, 98614, 98614, 98614, 98617, 98618, 98620, 98623, 98625, 98628, 98629, 98630, 98630]\n",
    "y2 = [0, 25, 25, 25, 25, 25, 25, 25, 25, 25, 25, 25, 25, 25, 25, 25, 25, 25, 25, 25, 25, 25, 25, 25, 25, 25, 25, 25, 25, 25, 25, 25, 25, 25, 25, 25, 25, 25, 25, 25, 25, 25, 25, 25, 25, 25, 25, 25, 25]\n",
    "y3 = [99683, 1862, 1580, 1443, 1336, 1308, 1273, 1249, 1227, 1216, 1201, 1190, 1179, 1168, 1162, 1151, 1150, 1149, 1147, 1138, 1131, 1131, 1126, 1113, 1111, 1107, 1100, 1099, 1093, 1092, 1085, 1084, 1081, 1079, 1079, 1074, 1071, 1069, 1069, 1069, 1066, 1065, 1063, 1060, 1058, 1055, 1054, 1053, 1053]\n",
    "y4 = [316, 291, 291, 291, 291, 291, 291, 291, 291, 291, 291, 291, 291, 291, 291, 291, 291, 291, 291, 291, 291, 291, 291, 291, 291, 291, 291, 291, 291, 291, 291, 291, 291, 291, 291, 291, 291, 291, 291, 291, 291, 291, 291, 291, 291, 291, 291, 291, 291]\n",
    "x = list(range(len(y1)))\n",
    "\n",
    "y = np.vstack([y1, y2, y3, y4])\n",
    "\n",
    "labels = [\"neg-pass\", \"pos-pass\", \"neg\", \"pos\"]\n",
    "\n",
    "# fig, ax = plt.subplots()\n",
    "fig, (ax, ax2) = plt.subplots(2, 1, sharex=True)\n",
    "# plot the same data on both axes\n",
    "ax.stackplot(x, y1, y2, y3, y4, labels=labels)\n",
    "ax2.stackplot(x, y1, y2, y3, y4, labels=labels)\n",
    "# zoom-in / limit the view to different portions of the data\n",
    "ax2.set_ylim(0, 100000-97500)  # outliers only\n",
    "ax.set_ylim(97500, 100000)  # most of the data\n",
    "\n",
    "# hide the spines between ax and ax2\n",
    "ax.spines['bottom'].set_visible(False)\n",
    "ax2.spines['top'].set_visible(False)\n",
    "ax.xaxis.tick_top()\n",
    "ax.tick_params(labeltop='off')  # don't put tick labels at the top\n",
    "ax2.xaxis.tick_bottom()\n",
    "\n",
    "d = .015  # how big to make the diagonal lines in axes coordinates\n",
    "# arguments to pass plot, just so we don't keep repeating them\n",
    "kwargs = dict(transform=ax.transAxes, color='k', clip_on=False)\n",
    "ax.plot((-d, +d), (-d, +d), **kwargs)        # top-left diagonal\n",
    "ax.plot((1 - d, 1 + d), (-d, +d), **kwargs)  # top-right diagonal\n",
    "\n",
    "kwargs.update(transform=ax2.transAxes)  # switch to the bottom axes\n",
    "ax2.plot((-d, +d), (1 - d, 1 + d), **kwargs)  # bottom-left diagonal\n",
    "ax2.plot((1 - d, 1 + d), (1 - d, 1 + d), **kwargs)  # bottom-right diagonal\n",
    "\n",
    "# ax.stackplot(x, y1, y2, y3, y4, labels=labels)\n",
    "ax2.legend()\n",
    "# plt.ylim(99367-2000, 100000)\n",
    "plt.savefig(\"./logs/images/stack_plot_ax.pdf\", bbox_inches='tight')\n",
    "plt.show()\n",
    "\n",
    "# fig, ax = plt.subplots()\n",
    "# ax.stackplot(x, y)\n",
    "# plt.show()"
   ]
  },
  {
   "cell_type": "code",
   "execution_count": 48,
   "metadata": {},
   "outputs": [
    {
     "data": {
      "image/png": "[encoded data removed]",
      "text/plain": [
       "<matplotlib.figure.Figure at 0x1b9b94e3320>"
      ]
     },
     "metadata": {},
     "output_type": "display_data"
    }
   ],
   "source": [
    "\"\"\"\n",
    "Broken axis example, where the y-axis will have a portion cut out.\n",
    "\"\"\"\n",
    "import matplotlib.pyplot as plt\n",
    "import numpy as np\n",
    "\n",
    "\n",
    "# 30 points between 0 0.2] originally made using np.random.rand(30)*.2\n",
    "pts = np.array([\n",
    "    0.015, 0.166, 0.133, 0.159, 0.041, 0.024, 0.195, 0.039, 0.161, 0.018,\n",
    "    0.143, 0.056, 0.125, 0.096, 0.094, 0.051, 0.043, 0.021, 0.138, 0.075,\n",
    "    0.109, 0.195, 0.050, 0.074, 0.079, 0.155, 0.020, 0.010, 0.061, 0.008])\n",
    "\n",
    "# Now let's make two outlier points which are far away from everything.\n",
    "pts[[3, 14]] += .8\n",
    "\n",
    "# If we were to simply plot pts, we'd lose most of the interesting\n",
    "# details due to the outliers. So let's 'break' or 'cut-out' the y-axis\n",
    "# into two portions - use the top (ax) for the outliers, and the bottom\n",
    "# (ax2) for the details of the majority of our data\n",
    "f, (ax, ax2) = plt.subplots(2, 1, sharex=True)\n",
    "\n",
    "# plot the same data on both axes\n",
    "ax.plot(pts)\n",
    "ax2.plot(pts)\n",
    "\n",
    "# zoom-in / limit the view to different portions of the data\n",
    "ax.set_ylim(.78, 1.)  # outliers only\n",
    "ax2.set_ylim(0, .22)  # most of the data\n",
    "\n",
    "# hide the spines between ax and ax2\n",
    "ax.spines['bottom'].set_visible(False)\n",
    "ax2.spines['top'].set_visible(False)\n",
    "ax.xaxis.tick_top()\n",
    "ax.tick_params(labeltop='off')  # don't put tick labels at the top\n",
    "ax2.xaxis.tick_bottom()\n",
    "\n",
    "# This looks pretty good, and was fairly painless, but you can get that\n",
    "# cut-out diagonal lines look with just a bit more work. The important\n",
    "# thing to know here is that in axes coordinates, which are always\n",
    "# between 0-1, spine endpoints are at these locations (0,0), (0,1),\n",
    "# (1,0), and (1,1).  Thus, we just need to put the diagonals in the\n",
    "# appropriate corners of each of our axes, and so long as we use the\n",
    "# right transform and disable clipping.\n",
    "\n",
    "d = .015  # how big to make the diagonal lines in axes coordinates\n",
    "# arguments to pass plot, just so we don't keep repeating them\n",
    "kwargs = dict(transform=ax.transAxes, color='k', clip_on=False)\n",
    "ax.plot((-d, +d), (-d, +d), **kwargs)        # top-left diagonal\n",
    "ax.plot((1 - d, 1 + d), (-d, +d), **kwargs)  # top-right diagonal\n",
    "\n",
    "kwargs.update(transform=ax2.transAxes)  # switch to the bottom axes\n",
    "ax2.plot((-d, +d), (1 - d, 1 + d), **kwargs)  # bottom-left diagonal\n",
    "ax2.plot((1 - d, 1 + d), (1 - d, 1 + d), **kwargs)  # bottom-right diagonal\n",
    "\n",
    "# What's cool about this is that now if we vary the distance between\n",
    "# ax and ax2 via f.subplots_adjust(hspace=...) or plt.subplot_tool(),\n",
    "# the diagonal lines will move accordingly, and stay right at the tips\n",
    "# of the spines they are 'breaking'\n",
    "\n",
    "plt.show()"
   ]
  },
  {
   "cell_type": "code",
   "execution_count": null,
   "metadata": {
    "collapsed": true
   },
   "outputs": [],
   "source": []
  },
  {
   "cell_type": "code",
   "execution_count": null,
   "metadata": {
    "collapsed": true
   },
   "outputs": [],
   "source": []
  },
  {
   "cell_type": "code",
   "execution_count": 11,
   "metadata": {},
   "outputs": [
    {
     "data": {
      "text/plain": [
       "array([[   492,    492],\n",
       "       [284315, 284315]])"
      ]
     },
     "execution_count": 11,
     "metadata": {},
     "output_type": "execute_result"
    }
   ],
   "source": [
    "y"
   ]
  },
  {
   "cell_type": "code",
   "execution_count": null,
   "metadata": {
    "collapsed": true
   },
   "outputs": [],
   "source": []
  },
  {
   "cell_type": "code",
   "execution_count": 1,
   "metadata": {
    "collapsed": true
   },
   "outputs": [],
   "source": [
    "from sklearn import datasets, linear_model\n",
    "from sklearn.preprocessing import PolynomialFeatures\n",
    "from sklearn.model_selection import train_test_split"
   ]
  },
  {
   "cell_type": "code",
   "execution_count": 2,
   "metadata": {},
   "outputs": [
    {
     "ename": "NameError",
     "evalue": "name 'df' is not defined",
     "output_type": "error",
     "traceback": [
      "\u001b[1;31m---------------------------------------------------------------------------\u001b[0m",
      "\u001b[1;31mNameError\u001b[0m                                 Traceback (most recent call last)",
      "\u001b[1;32m<ipython-input-2-611d1148c1e1>\u001b[0m in \u001b[0;36m<module>\u001b[1;34m()\u001b[0m\n\u001b[1;32m----> 1\u001b[1;33m \u001b[0mX\u001b[0m \u001b[1;33m=\u001b[0m \u001b[0mdf\u001b[0m\u001b[1;33m.\u001b[0m\u001b[0miloc\u001b[0m\u001b[1;33m[\u001b[0m\u001b[1;33m:\u001b[0m\u001b[1;33m,\u001b[0m\u001b[1;33m:\u001b[0m\u001b[1;33m-\u001b[0m\u001b[1;36m1\u001b[0m\u001b[1;33m]\u001b[0m\u001b[1;33m\u001b[0m\u001b[0m\n\u001b[0m\u001b[0;32m      2\u001b[0m \u001b[0my\u001b[0m \u001b[1;33m=\u001b[0m \u001b[0mdf\u001b[0m\u001b[1;33m[\u001b[0m\u001b[1;34m'Class'\u001b[0m\u001b[1;33m]\u001b[0m\u001b[1;33m\u001b[0m\u001b[0m\n\u001b[0;32m      3\u001b[0m \u001b[1;33m\u001b[0m\u001b[0m\n\u001b[0;32m      4\u001b[0m \u001b[0mprint\u001b[0m\u001b[1;33m(\u001b[0m\u001b[1;34m\"X and y sizes, respectively:\"\u001b[0m\u001b[1;33m,\u001b[0m \u001b[0mlen\u001b[0m\u001b[1;33m(\u001b[0m\u001b[0mX\u001b[0m\u001b[1;33m)\u001b[0m\u001b[1;33m,\u001b[0m \u001b[0mlen\u001b[0m\u001b[1;33m(\u001b[0m\u001b[0my\u001b[0m\u001b[1;33m)\u001b[0m\u001b[1;33m)\u001b[0m\u001b[1;33m\u001b[0m\u001b[0m\n\u001b[0;32m      5\u001b[0m \u001b[1;33m\u001b[0m\u001b[0m\n",
      "\u001b[1;31mNameError\u001b[0m: name 'df' is not defined"
     ]
    }
   ],
   "source": [
    "X = df.iloc[:,:-1]\n",
    "y = df['Class']\n",
    "\n",
    "print(\"X and y sizes, respectively:\", len(X), len(y))\n",
    "\n",
    "X_train, X_test, y_train, y_test = train_test_split(X, y, test_size=0.35, random_state=500)\n",
    "print(\"Train and test sizes, respectively:\", len(X_train), len(y_train), \"|\", len(X_test), len(y_test))\n",
    "print(\"Total number of frauds:\", len(y.loc[df['Class'] == 1]), len(y.loc[df['Class'] == 1])/len(y))\n",
    "print(\"Number of frauds on y_test:\", len(y_test.loc[df['Class'] == 1]), len(y_test.loc[df['Class'] == 1]) / len(y_test))\n",
    "print(\"Number of frauds on y_train:\", len(y_train.loc[df['Class'] == 1]), len(y_train.loc[df['Class'] == 1])/len(y_train))"
   ]
  },
  {
   "cell_type": "code",
   "execution_count": 15,
   "metadata": {
    "collapsed": true
   },
   "outputs": [],
   "source": [
    "import numpy as np\n",
    "\n",
    "import EnhancedForest_multiclass\n",
    "import DecomposerForest\n",
    "import LogUtils\n",
    "import AlgorithmUtils\n",
    "import importlib\n",
    "importlib.reload(DecomposerForest)\n",
    "importlib.reload(LogUtils)\n",
    "importlib.reload(EnhancedForest_multiclass)\n",
    "importlib.reload(AlgorithmUtils)\n",
    "np.seterr(divide='ignore', invalid='ignore')\n",
    "import warnings\n",
    "warnings.filterwarnings(\"ignore\")"
   ]
  },
  {
   "cell_type": "code",
   "execution_count": 16,
   "metadata": {
    "collapsed": true
   },
   "outputs": [],
   "source": [
    "from sklearn import metrics\n",
    "def acc_metrix_mult(a, p):\n",
    "#     print(p)\n",
    "    return \"acc\", metrics.accuracy_score(a, p)"
   ]
  },
  {
   "cell_type": "code",
   "execution_count": 21,
   "metadata": {
    "collapsed": true
   },
   "outputs": [],
   "source": [
    "X_train = X_train.values\n",
    "X_test = X_test.values\n",
    "y_train = y_train.values\n",
    "y_test = y_test.values"
   ]
  },
  {
   "cell_type": "code",
   "execution_count": null,
   "metadata": {},
   "outputs": [
    {
     "name": "stdout",
     "output_type": "stream",
     "text": [
      "\n",
      "2018-01-27 15:02:50 layer: 1\n"
     ]
    }
   ],
   "source": [
    "decoForest = DecomposerForest.DecomposerForest(X_train, y_train, X_test, y_test, num_class=2, flag=\"creditcard\", isLRStacker=True)\n",
    "decoForest.set_parameter(criterion=\"gini\", dropout=0.8, min_samples_leaf=10)\n",
    "decoForest.fit(n_estimators=200, kfold=3, feval=acc_metrix_mult)"
   ]
  },
  {
   "cell_type": "code",
   "execution_count": 23,
   "metadata": {},
   "outputs": [
    {
     "data": {
      "text/plain": [
       "(0.99949840995957184,\n",
       " [(0, 0.99944825095552903),\n",
       "  (1, 0.99949840995957184),\n",
       "  (2, 0.99944825095552903),\n",
       "  (3, 0.99946831455714613),\n",
       "  (4, 0.99945828275633763),\n",
       "  (5, 0.99945828275633763),\n",
       "  (6, 0.99947834635795474),\n",
       "  (7, 0.99946831455714613),\n",
       "  (8, 0.99946831455714613),\n",
       "  (9, 0.99945828275633763),\n",
       "  (10, 0.99945828275633763),\n",
       "  (11, 0.99944825095552903),\n",
       "  (12, 0.99944825095552903),\n",
       "  (13, 0.99945828275633763),\n",
       "  (14, 0.99944825095552903),\n",
       "  (15, 0.99944825095552903),\n",
       "  (16, 0.99944825095552903),\n",
       "  (17, 0.99944825095552903),\n",
       "  (18, 0.99946831455714613),\n",
       "  (19, 0.99945828275633763),\n",
       "  (20, 0.99944825095552903)])"
      ]
     },
     "execution_count": 23,
     "metadata": {},
     "output_type": "execute_result"
    }
   ],
   "source": [
    "np.max(np.array(decoForest.test_loss_lt)),list(enumerate(decoForest.test_loss_lt) )"
   ]
  },
  {
   "cell_type": "code",
   "execution_count": 24,
   "metadata": {},
   "outputs": [
    {
     "data": {
      "image/png": "[encoded data removed]",
      "text/plain": [
       "<matplotlib.figure.Figure at 0x1d52b4b6f60>"
      ]
     },
     "metadata": {},
     "output_type": "display_data"
    }
   ],
   "source": [
    "import matplotlib.pyplot as plt\n",
    "\n",
    "plt.figure(figsize=(10,10))\n",
    "x = range(len(decoForest.train_loss_lt))\n",
    "\n",
    "plt.subplot(221)\n",
    "plt.plot(x[1:],decoForest.pass_train_loss_lt[1:], label=\"train-pass\", color=\"blue\")\n",
    "plt.plot(x[1:],decoForest.pass_vaild_loss_lt[1:], label=\"vaild-pass\", color=\"green\")\n",
    "plt.plot(x[1:],decoForest.pass_test_loss_lt[1:], label=\"test-pass\", color=\"red\")\n",
    "plt.legend()\n",
    "plt.subplot(222)\n",
    "plt.plot(x[1:],decoForest.pass_train_loss_lt_now[1:], label=\"train-pass-now\", color=\"blue\")\n",
    "plt.plot(x[1:],decoForest.pass_vaild_loss_lt_now[1:], label=\"vaild-pass-now\", color=\"green\")\n",
    "plt.plot(x[1:],decoForest.pass_test_loss_lt_now[1:], label=\"test-pass-now\", color=\"red\")\n",
    "plt.legend()\n",
    "plt.subplot(223)\n",
    "plt.plot(x,decoForest.train_loss_lt, label=\"train-loss\", color=\"blue\")\n",
    "plt.plot(x,decoForest.vaild_loss_lt, label=\"vaild-loss\", color=\"green\")\n",
    "plt.plot(x,decoForest.test_loss_lt, label=\"test-loss\", color=\"red\")\n",
    "plt.legend()\n",
    "plt.subplot(224)\n",
    "plt.plot(x,decoForest.pass_data_rate_lt[:], label=\"data-pass-rate\")\n",
    "plt.legend()\n",
    "\n",
    "plt.show()"
   ]
  },
  {
   "cell_type": "code",
   "execution_count": null,
   "metadata": {
    "collapsed": true
   },
   "outputs": [],
   "source": []
  }
 ],
 "metadata": {
  "kernelspec": {
   "display_name": "Python 3",
   "language": "python",
   "name": "python3"
  },
  "language_info": {
   "codemirror_mode": {
    "name": "ipython",
    "version": 3
   },
   "file_extension": ".py",
   "mimetype": "text/x-python",
   "name": "python",
   "nbconvert_exporter": "python",
   "pygments_lexer": "ipython3",
   "version": "3.6.1"
  }
 },
 "nbformat": 4,
 "nbformat_minor": 2
}
