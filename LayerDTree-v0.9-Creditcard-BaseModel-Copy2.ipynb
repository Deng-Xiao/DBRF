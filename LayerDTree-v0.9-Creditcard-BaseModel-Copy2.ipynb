{
 "cells": [
  {
   "cell_type": "code",
   "execution_count": 28,
   "metadata": {
    "collapsed": true
   },
   "outputs": [],
   "source": [
    "import pandas as pd\n",
    "import numpy as np"
   ]
  },
  {
   "cell_type": "code",
   "execution_count": 2,
   "metadata": {},
   "outputs": [
    {
     "data": {
      "text/html": [
       "<div>\n",
       "<style>\n",
       "    .dataframe thead tr:only-child th {\n",
       "        text-align: right;\n",
       "    }\n",
       "\n",
       "    .dataframe thead th {\n",
       "        text-align: left;\n",
       "    }\n",
       "\n",
       "    .dataframe tbody tr th {\n",
       "        vertical-align: top;\n",
       "    }\n",
       "</style>\n",
       "<table border=\"1\" class=\"dataframe\">\n",
       "  <thead>\n",
       "    <tr style=\"text-align: right;\">\n",
       "      <th></th>\n",
       "      <th>Time</th>\n",
       "      <th>V1</th>\n",
       "      <th>V2</th>\n",
       "      <th>V3</th>\n",
       "      <th>V4</th>\n",
       "      <th>V5</th>\n",
       "      <th>V6</th>\n",
       "      <th>V7</th>\n",
       "      <th>V8</th>\n",
       "      <th>V9</th>\n",
       "      <th>...</th>\n",
       "      <th>V21</th>\n",
       "      <th>V22</th>\n",
       "      <th>V23</th>\n",
       "      <th>V24</th>\n",
       "      <th>V25</th>\n",
       "      <th>V26</th>\n",
       "      <th>V27</th>\n",
       "      <th>V28</th>\n",
       "      <th>Amount</th>\n",
       "      <th>Class</th>\n",
       "    </tr>\n",
       "  </thead>\n",
       "  <tbody>\n",
       "    <tr>\n",
       "      <th>0</th>\n",
       "      <td>119907.0</td>\n",
       "      <td>-0.611712</td>\n",
       "      <td>-0.769705</td>\n",
       "      <td>-0.149759</td>\n",
       "      <td>-0.224877</td>\n",
       "      <td>2.028577</td>\n",
       "      <td>-2.019887</td>\n",
       "      <td>0.292491</td>\n",
       "      <td>-0.523020</td>\n",
       "      <td>0.358468</td>\n",
       "      <td>...</td>\n",
       "      <td>-0.075208</td>\n",
       "      <td>0.045536</td>\n",
       "      <td>0.380739</td>\n",
       "      <td>0.023440</td>\n",
       "      <td>-2.220686</td>\n",
       "      <td>-0.201146</td>\n",
       "      <td>0.066501</td>\n",
       "      <td>0.221180</td>\n",
       "      <td>1.79</td>\n",
       "      <td>0</td>\n",
       "    </tr>\n",
       "    <tr>\n",
       "      <th>1</th>\n",
       "      <td>78340.0</td>\n",
       "      <td>-0.814682</td>\n",
       "      <td>1.319219</td>\n",
       "      <td>1.329415</td>\n",
       "      <td>0.027273</td>\n",
       "      <td>-0.284871</td>\n",
       "      <td>-0.653985</td>\n",
       "      <td>0.321552</td>\n",
       "      <td>0.435975</td>\n",
       "      <td>-0.704298</td>\n",
       "      <td>...</td>\n",
       "      <td>-0.128619</td>\n",
       "      <td>-0.368565</td>\n",
       "      <td>0.090660</td>\n",
       "      <td>0.401147</td>\n",
       "      <td>-0.261034</td>\n",
       "      <td>0.080621</td>\n",
       "      <td>0.162427</td>\n",
       "      <td>0.059456</td>\n",
       "      <td>1.98</td>\n",
       "      <td>0</td>\n",
       "    </tr>\n",
       "    <tr>\n",
       "      <th>2</th>\n",
       "      <td>82382.0</td>\n",
       "      <td>-0.318193</td>\n",
       "      <td>1.118618</td>\n",
       "      <td>0.969864</td>\n",
       "      <td>-0.127052</td>\n",
       "      <td>0.569563</td>\n",
       "      <td>-0.532484</td>\n",
       "      <td>0.706252</td>\n",
       "      <td>-0.064966</td>\n",
       "      <td>-0.463271</td>\n",
       "      <td>...</td>\n",
       "      <td>-0.305402</td>\n",
       "      <td>-0.774704</td>\n",
       "      <td>-0.123884</td>\n",
       "      <td>-0.495687</td>\n",
       "      <td>-0.018148</td>\n",
       "      <td>0.121679</td>\n",
       "      <td>0.249050</td>\n",
       "      <td>0.092516</td>\n",
       "      <td>0.89</td>\n",
       "      <td>0</td>\n",
       "    </tr>\n",
       "    <tr>\n",
       "      <th>3</th>\n",
       "      <td>31717.0</td>\n",
       "      <td>-1.328271</td>\n",
       "      <td>1.018378</td>\n",
       "      <td>1.775426</td>\n",
       "      <td>-1.574193</td>\n",
       "      <td>-0.117696</td>\n",
       "      <td>-0.457733</td>\n",
       "      <td>0.681867</td>\n",
       "      <td>-0.031641</td>\n",
       "      <td>0.383872</td>\n",
       "      <td>...</td>\n",
       "      <td>-0.220815</td>\n",
       "      <td>-0.419013</td>\n",
       "      <td>-0.239197</td>\n",
       "      <td>0.009967</td>\n",
       "      <td>0.232829</td>\n",
       "      <td>0.814177</td>\n",
       "      <td>0.098797</td>\n",
       "      <td>-0.004273</td>\n",
       "      <td>15.98</td>\n",
       "      <td>0</td>\n",
       "    </tr>\n",
       "    <tr>\n",
       "      <th>4</th>\n",
       "      <td>80923.0</td>\n",
       "      <td>1.276712</td>\n",
       "      <td>0.617120</td>\n",
       "      <td>-0.578014</td>\n",
       "      <td>0.879173</td>\n",
       "      <td>0.061706</td>\n",
       "      <td>-1.472002</td>\n",
       "      <td>0.373692</td>\n",
       "      <td>-0.287204</td>\n",
       "      <td>-0.084482</td>\n",
       "      <td>...</td>\n",
       "      <td>-0.160161</td>\n",
       "      <td>-0.430404</td>\n",
       "      <td>-0.076738</td>\n",
       "      <td>0.258708</td>\n",
       "      <td>0.552170</td>\n",
       "      <td>0.370701</td>\n",
       "      <td>-0.034255</td>\n",
       "      <td>0.041709</td>\n",
       "      <td>0.76</td>\n",
       "      <td>0</td>\n",
       "    </tr>\n",
       "  </tbody>\n",
       "</table>\n",
       "<p>5 rows × 31 columns</p>\n",
       "</div>"
      ],
      "text/plain": [
       "       Time        V1        V2        V3        V4        V5        V6  \\\n",
       "0  119907.0 -0.611712 -0.769705 -0.149759 -0.224877  2.028577 -2.019887   \n",
       "1   78340.0 -0.814682  1.319219  1.329415  0.027273 -0.284871 -0.653985   \n",
       "2   82382.0 -0.318193  1.118618  0.969864 -0.127052  0.569563 -0.532484   \n",
       "3   31717.0 -1.328271  1.018378  1.775426 -1.574193 -0.117696 -0.457733   \n",
       "4   80923.0  1.276712  0.617120 -0.578014  0.879173  0.061706 -1.472002   \n",
       "\n",
       "         V7        V8        V9  ...         V21       V22       V23  \\\n",
       "0  0.292491 -0.523020  0.358468  ...   -0.075208  0.045536  0.380739   \n",
       "1  0.321552  0.435975 -0.704298  ...   -0.128619 -0.368565  0.090660   \n",
       "2  0.706252 -0.064966 -0.463271  ...   -0.305402 -0.774704 -0.123884   \n",
       "3  0.681867 -0.031641  0.383872  ...   -0.220815 -0.419013 -0.239197   \n",
       "4  0.373692 -0.287204 -0.084482  ...   -0.160161 -0.430404 -0.076738   \n",
       "\n",
       "        V24       V25       V26       V27       V28  Amount  Class  \n",
       "0  0.023440 -2.220686 -0.201146  0.066501  0.221180    1.79      0  \n",
       "1  0.401147 -0.261034  0.080621  0.162427  0.059456    1.98      0  \n",
       "2 -0.495687 -0.018148  0.121679  0.249050  0.092516    0.89      0  \n",
       "3  0.009967  0.232829  0.814177  0.098797 -0.004273   15.98      0  \n",
       "4  0.258708  0.552170  0.370701 -0.034255  0.041709    0.76      0  \n",
       "\n",
       "[5 rows x 31 columns]"
      ]
     },
     "execution_count": 2,
     "metadata": {},
     "output_type": "execute_result"
    }
   ],
   "source": [
    "df = pd.read_csv(\"./datasetes/credit/creditcard.csv\", low_memory=False)\n",
    "# df = pd.read_csv('creditcard.csv', low_memory=False)\n",
    "df = df.sample(frac=1, random_state=1).reset_index(drop=True)\n",
    "df.head()"
   ]
  },
  {
   "cell_type": "code",
   "execution_count": 3,
   "metadata": {},
   "outputs": [
    {
     "name": "stdout",
     "output_type": "stream",
     "text": [
      "We have 492 fraud data points and 284315 nonfraudulent data points.\n"
     ]
    }
   ],
   "source": [
    "frauds = df.loc[df['Class'] == 1]\n",
    "non_frauds = df.loc[df['Class'] == 0]\n",
    "print(\"We have\", len(frauds), \"fraud data points and\", len(non_frauds), \"nonfraudulent data points.\")"
   ]
  },
  {
   "cell_type": "code",
   "execution_count": 4,
   "metadata": {
    "collapsed": true
   },
   "outputs": [],
   "source": [
    "from sklearn import datasets, linear_model\n",
    "from sklearn.preprocessing import PolynomialFeatures\n",
    "from sklearn.model_selection import train_test_split"
   ]
  },
  {
   "cell_type": "code",
   "execution_count": 14,
   "metadata": {},
   "outputs": [
    {
     "name": "stdout",
     "output_type": "stream",
     "text": [
      "X and y sizes, respectively: 284807 284807\n",
      "Train and test sizes, respectively: 185124 185124 | 99683 99683\n",
      "Total number of frauds: 492 0.001727485630620034\n",
      "Number of frauds on y_test: 177 0.0017756287431156766\n",
      "Number of frauds on y_train: 315 0.0017015621961496078\n"
     ]
    }
   ],
   "source": [
    "X = df.iloc[:,:-1]\n",
    "y = df['Class']\n",
    "\n",
    "print(\"X and y sizes, respectively:\", len(X), len(y))\n",
    "\n",
    "X_train, X_test, y_train, y_test = train_test_split(X, y, test_size=0.35, random_state=None)\n",
    "print(\"Train and test sizes, respectively:\", len(X_train), len(y_train), \"|\", len(X_test), len(y_test))\n",
    "print(\"Total number of frauds:\", len(y.loc[df['Class'] == 1]), len(y.loc[df['Class'] == 1])/len(y))\n",
    "print(\"Number of frauds on y_test:\", len(y_test.loc[df['Class'] == 1]), len(y_test.loc[df['Class'] == 1]) / len(y_test))\n",
    "print(\"Number of frauds on y_train:\", len(y_train.loc[df['Class'] == 1]), len(y_train.loc[df['Class'] == 1])/len(y_train))\n",
    "\n",
    "X_train = X_train.values\n",
    "X_test = X_test.values\n",
    "y_train = y_train.values\n",
    "y_test = y_test.values"
   ]
  },
  {
   "cell_type": "code",
   "execution_count": 15,
   "metadata": {},
   "outputs": [
    {
     "data": {
      "text/plain": [
       "(array([  7.48430000e+04,   9.20057852e-01,  -4.63908476e-01,\n",
       "         -2.31959978e-02,  -7.41185170e-01,  -5.70499643e-01,\n",
       "         -1.16636608e+00,   4.75443642e-01,  -2.86845263e-01,\n",
       "          8.11187361e-01,  -1.10670389e+00,   5.94656279e-01,\n",
       "          1.26286266e+00,   5.34385763e-01,   4.82157079e-01,\n",
       "          1.69985497e+00,  -9.86426203e-01,   2.16923206e-01,\n",
       "         -1.16208258e+00,   2.72781835e-01,   2.12370635e-01,\n",
       "         -3.00178838e-01,  -1.13251565e+00,   9.58066169e-02,\n",
       "          3.75061428e-01,   2.14676063e-01,  -1.13629551e+00,\n",
       "          2.74778087e-02,   5.74272399e-02,   1.70150000e+02]), 0)"
      ]
     },
     "execution_count": 15,
     "metadata": {},
     "output_type": "execute_result"
    }
   ],
   "source": [
    "X_train[0], y_train[0]"
   ]
  },
  {
   "cell_type": "code",
   "execution_count": 16,
   "metadata": {},
   "outputs": [
    {
     "data": {
      "text/plain": [
       "(array([  3.25360000e+04,  -1.26114749e+00,  -5.80602935e-01,\n",
       "          1.26268088e+00,  -3.34954442e+00,   1.14976627e-01,\n",
       "         -1.71837611e+00,   9.31607499e-01,  -1.52589961e-01,\n",
       "          1.41034700e+00,  -2.66945443e+00,   2.34797256e-01,\n",
       "          1.46343951e+00,   3.35477672e-01,  -3.81444256e-02,\n",
       "          1.44364718e-01,  -1.20007116e+00,  -7.28258943e-03,\n",
       "         -9.37097969e-01,  -7.87402434e-01,   1.27134708e-01,\n",
       "          9.92921934e-02,   1.21770207e-01,   2.39888051e-01,\n",
       "          6.01294087e-01,   2.00520806e-01,  -1.25487555e+00,\n",
       "          9.17961830e-02,   1.45483588e-01,   1.17990000e+02]), 0)"
      ]
     },
     "execution_count": 16,
     "metadata": {},
     "output_type": "execute_result"
    }
   ],
   "source": [
    "X_test[0], y_test[0]"
   ]
  },
  {
   "cell_type": "code",
   "execution_count": 17,
   "metadata": {
    "collapsed": true
   },
   "outputs": [],
   "source": [
    "train_pd = pd.DataFrame(X_test, columns=['x'+str(i) for i in range(30)])\n",
    "train_pd['y'] = y_test\n",
    "train_pd.to_csv(\"./datasetes/credit/credit_test3.csv\", index=False)"
   ]
  },
  {
   "cell_type": "code",
   "execution_count": 18,
   "metadata": {
    "collapsed": true
   },
   "outputs": [],
   "source": [
    "train_pd = pd.DataFrame(X_train, columns=['x'+str(i) for i in range(30)])\n",
    "train_pd['y'] = y_train\n",
    "train_pd.to_csv(\"./datasetes/credit/credit_train3.csv\", index=False)"
   ]
  },
  {
   "cell_type": "code",
   "execution_count": null,
   "metadata": {
    "collapsed": true
   },
   "outputs": [],
   "source": []
  },
  {
   "cell_type": "code",
   "execution_count": null,
   "metadata": {
    "collapsed": true
   },
   "outputs": [],
   "source": []
  },
  {
   "cell_type": "code",
   "execution_count": 33,
   "metadata": {
    "collapsed": true
   },
   "outputs": [],
   "source": [
    "from sklearn import metrics\n",
    "\n",
    "def roc_metrix_mult(a, p, labels=[0,1]):\n",
    "# #     print(p)\n",
    "#     if len(set(a)) == 1:\n",
    "# #         return \"acc\", metrics.accuracy_score(a, p)\n",
    "#         return \"acc\", len(a) - len(np.where(a == p)[0])\n",
    "#     if type(p) == np.float64 or type(p) == float or type(p) == np.int64 or type(p) == int:\n",
    "    if len(p.shape) == 1:\n",
    "        print(type(p), p.shape)\n",
    "        return \"roc\", metrics.roc_auc_score(a, p)\n",
    "#     elif len(p[0]) == 2:\n",
    "    elif len(p.shape) == 2:\n",
    "        p = [i[1] for i in p]\n",
    "        return \"roc\", metrics.roc_auc_score(a, p)\n",
    "    else:\n",
    "        print(type(p), p.shape, \"error\")"
   ]
  },
  {
   "cell_type": "code",
   "execution_count": 63,
   "metadata": {},
   "outputs": [
    {
     "data": {
      "text/plain": [
       "<module 'ModelUtils' from 'C:\\\\github_workspace\\\\ecoForest\\\\ModelUtils.py'>"
      ]
     },
     "execution_count": 63,
     "metadata": {},
     "output_type": "execute_result"
    }
   ],
   "source": [
    "import ModelUtils\n",
    "import importlib\n",
    "from collections import Counter\n",
    "importlib.reload(ModelUtils)"
   ]
  },
  {
   "cell_type": "code",
   "execution_count": 50,
   "metadata": {},
   "outputs": [
    {
     "name": "stdout",
     "output_type": "stream",
     "text": [
      "train ('roc', 0.92575724898988376)\n",
      "test ('roc', 0.92009251692059335)\n",
      "Wall time: 5.3 s\n"
     ]
    },
    {
     "data": {
      "text/plain": [
       "MLPClassifier(activation='relu', alpha=0.0001, batch_size='auto', beta_1=0.9,\n",
       "       beta_2=0.999, early_stopping=False, epsilon=1e-08,\n",
       "       hidden_layer_sizes=(100,), learning_rate='constant',\n",
       "       learning_rate_init=0.001, max_iter=200, momentum=0.9,\n",
       "       nesterovs_momentum=True, power_t=0.5, random_state=None,\n",
       "       shuffle=True, solver='adam', tol=0.0001, validation_fraction=0.1,\n",
       "       verbose=False, warm_start=False)"
      ]
     },
     "execution_count": 50,
     "metadata": {},
     "output_type": "execute_result"
    }
   ],
   "source": [
    "%%time\n",
    "ModelUtils.mlp_classifier(X_train, y_train, X_test, y_test, feval=roc_metrix_mult)\\"
   ]
  },
  {
   "cell_type": "code",
   "execution_count": 51,
   "metadata": {},
   "outputs": [
    {
     "data": {
      "text/plain": [
       "(array([ 0.9028,  0.8786,  0.9361,  0.9182,  0.9201]),\n",
       " 0.019398618507512327,\n",
       " 0.91116000000000008,\n",
       " 0.93610000000000004,\n",
       " 0.87860000000000005)"
      ]
     },
     "execution_count": 51,
     "metadata": {},
     "output_type": "execute_result"
    }
   ],
   "source": [
    "test_1 = np.array([0.9028, 0.8786, 0.9361, 0.9182, 0.9201])\n",
    "test_1, np.std(test_1), np.average(test_1), np.max(test_1), np.min(test_1)"
   ]
  },
  {
   "cell_type": "code",
   "execution_count": 52,
   "metadata": {},
   "outputs": [
    {
     "data": {
      "text/plain": [
       "(array([ 5.3 ,  2.95,  5.09,  4.65,  5.3 ]),\n",
       " 0.88637238224123371,\n",
       " 4.6580000000000004,\n",
       " 5.2999999999999998,\n",
       " 2.9500000000000002)"
      ]
     },
     "execution_count": 52,
     "metadata": {},
     "output_type": "execute_result"
    }
   ],
   "source": [
    "test_1 = np.array([5.3, 2.95, 5.09, 4.65, 5.3])\n",
    "test_1, np.std(test_1), np.average(test_1), np.max(test_1), np.min(test_1)"
   ]
  },
  {
   "cell_type": "code",
   "execution_count": 27,
   "metadata": {},
   "outputs": [
    {
     "name": "stdout",
     "output_type": "stream",
     "text": [
      "train ('roc', 1.0)\n",
      "test ('roc', 0.86422588604656148)\n",
      "Wall time: 11.3 s\n"
     ]
    },
    {
     "data": {
      "text/plain": [
       "DecisionTreeClassifier(class_weight=None, criterion='gini', max_depth=None,\n",
       "            max_features=None, max_leaf_nodes=None,\n",
       "            min_impurity_decrease=0.0, min_impurity_split=None,\n",
       "            min_samples_leaf=1, min_samples_split=2,\n",
       "            min_weight_fraction_leaf=0.0, presort=False, random_state=None,\n",
       "            splitter='best')"
      ]
     },
     "execution_count": 27,
     "metadata": {},
     "output_type": "execute_result"
    }
   ],
   "source": [
    "%%time\n",
    "ModelUtils.decision_tree(X_train, y_train, X_test, y_test, feval=roc_metrix_mult)"
   ]
  },
  {
   "cell_type": "code",
   "execution_count": 29,
   "metadata": {},
   "outputs": [
    {
     "data": {
      "text/plain": [
       "(array([ 0.8671,  0.8529,  0.8557,  0.8699,  0.8529]),\n",
       " 0.0073113610224088913,\n",
       " 0.85969999999999991,\n",
       " 0.86990000000000001,\n",
       " 0.85289999999999999)"
      ]
     },
     "execution_count": 29,
     "metadata": {},
     "output_type": "execute_result"
    }
   ],
   "source": [
    "test_1 = np.array([0.8671, 0.8529, 0.8557, 0.8699, 0.8529])\n",
    "test_1, np.std(test_1), np.average(test_1), np.max(test_1), np.min(test_1)"
   ]
  },
  {
   "cell_type": "code",
   "execution_count": 31,
   "metadata": {},
   "outputs": [
    {
     "data": {
      "text/plain": [
       "(array([ 12.4,  12.6,  12.5,  12.4,  12.4]),\n",
       " 0.07999999999999971,\n",
       " 12.459999999999999,\n",
       " 12.6,\n",
       " 12.4)"
      ]
     },
     "execution_count": 31,
     "metadata": {},
     "output_type": "execute_result"
    }
   ],
   "source": [
    "test_1 = np.array([12.4, 12.6, 12.5, 12.4, 12.4])\n",
    "test_1, np.std(test_1), np.average(test_1), np.max(test_1), np.min(test_1)"
   ]
  },
  {
   "cell_type": "code",
   "execution_count": 39,
   "metadata": {},
   "outputs": [
    {
     "name": "stdout",
     "output_type": "stream",
     "text": [
      "train ('roc', 1.0)\n",
      "test ('roc', 0.95223108370037246)\n",
      "Wall time: 1min 1s\n"
     ]
    },
    {
     "data": {
      "text/plain": [
       "RandomForestClassifier(bootstrap=True, class_weight=None, criterion='gini',\n",
       "            max_depth=None, max_features='auto', max_leaf_nodes=None,\n",
       "            min_impurity_decrease=0.0, min_impurity_split=None,\n",
       "            min_samples_leaf=1, min_samples_split=2,\n",
       "            min_weight_fraction_leaf=0.0, n_estimators=200, n_jobs=-1,\n",
       "            oob_score=False, random_state=None, verbose=0,\n",
       "            warm_start=False)"
      ]
     },
     "execution_count": 39,
     "metadata": {},
     "output_type": "execute_result"
    }
   ],
   "source": [
    "%%time\n",
    "ModelUtils.random_forest(X_train, y_train, X_test, y_test, n_estimators=200, feval=roc_metrix_mult,\\\n",
    "                         max_depth=3, min_samples_leaf=1, min_samples_split=2)"
   ]
  },
  {
   "cell_type": "code",
   "execution_count": 40,
   "metadata": {},
   "outputs": [
    {
     "data": {
      "text/plain": [
       "(array([ 0.947 ,  0.9464,  0.9466,  0.9467,  0.9522]),\n",
       " 0.0022184679398179487,\n",
       " 0.94778000000000007,\n",
       " 0.95220000000000005,\n",
       " 0.94640000000000002)"
      ]
     },
     "execution_count": 40,
     "metadata": {},
     "output_type": "execute_result"
    }
   ],
   "source": [
    "test_1 = np.array([0.9470, 0.9464, 0.9466, 0.9467, 0.9522])\n",
    "test_1, np.std(test_1), np.average(test_1), np.max(test_1), np.min(test_1)"
   ]
  },
  {
   "cell_type": "code",
   "execution_count": 41,
   "metadata": {},
   "outputs": [
    {
     "data": {
      "text/plain": [
       "(array([ 64. ,  62. ,  61. ,  59.7,  61. ]),\n",
       " 1.4305243793798124,\n",
       " 61.539999999999999,\n",
       " 64.0,\n",
       " 59.700000000000003)"
      ]
     },
     "execution_count": 41,
     "metadata": {},
     "output_type": "execute_result"
    }
   ],
   "source": [
    "test_1 = np.array([1*60+4, 1*60+2, 1*60+1, 59.7, 1*60+1])\n",
    "test_1, np.std(test_1), np.average(test_1), np.max(test_1), np.min(test_1)"
   ]
  },
  {
   "cell_type": "code",
   "execution_count": 65,
   "metadata": {},
   "outputs": [
    {
     "name": "stdout",
     "output_type": "stream",
     "text": [
      "train ('roc', 0.77133022020933306)\n",
      "test ('roc', 0.72588777828007067)\n",
      "Wall time: 5min 3s\n"
     ]
    },
    {
     "data": {
      "text/plain": [
       "GradientBoostingClassifier(criterion='friedman_mse', init=None,\n",
       "              learning_rate=0.1, loss='deviance', max_depth=3,\n",
       "              max_features=None, max_leaf_nodes=None,\n",
       "              min_impurity_decrease=0.0, min_impurity_split=None,\n",
       "              min_samples_leaf=1, min_samples_split=2,\n",
       "              min_weight_fraction_leaf=0.0, n_estimators=200,\n",
       "              presort='auto', random_state=None, subsample=1.0, verbose=0,\n",
       "              warm_start=False)"
      ]
     },
     "execution_count": 65,
     "metadata": {},
     "output_type": "execute_result"
    }
   ],
   "source": [
    "%%time\n",
    "ModelUtils.gdbt_model(X_train, y_train, X_test, y_test, n_estimators=200, feval=roc_metrix_mult)"
   ]
  },
  {
   "cell_type": "code",
   "execution_count": null,
   "metadata": {
    "collapsed": true
   },
   "outputs": [],
   "source": [
    "train ('roc', 0.77133022020933306)\n",
    "test ('roc', 0.72588777828007067)\n",
    "Wall time: 2min 21s\n",
    "train ('roc', 0.77133022020933306)\n",
    "test ('roc', 0.72588777828007067)\n",
    "Wall time: 4min 17s\n",
    "train ('roc', 0.77133022020933306)\n",
    "test ('roc', 0.72588777828007067)\n",
    "Wall time: 4min 53s\n",
    "train ('roc', 0.77133022020933306)\n",
    "test ('roc', 0.72588777828007067)\n",
    "Wall time: 5min 46s\n",
    "    \n",
    "train ('roc', 0.94341163234037917)\n",
    "test ('roc', 0.94337596253657385)\n",
    "Wall time: 2min 30s\n",
    "train ('roc', 0.94341163234037917)\n",
    "test ('roc', 0.94338250617835739)\n",
    "Wall time: 2min 34s\n",
    "train ('roc', 0.94341163234037917)\n",
    "test ('roc', 0.94337596253657385)\n",
    "Wall time: 2min 25s\n",
    "    GradientBoostingClassifier(criterion='friedman_mse', init=None,\n",
    "              learning_rate=0.1, loss='deviance', max_depth=3,\n",
    "              max_features=None, max_leaf_nodes=None,\n",
    "              min_impurity_decrease=0.0, min_impurity_split=None,\n",
    "              min_samples_leaf=1, min_samples_split=2,\n",
    "              min_weight_fraction_leaf=0.0, n_estimators=200,\n",
    "              presort='auto', random_state=None, subsample=1.0, verbose=0,\n",
    "              warm_start=False)"
   ]
  },
  {
   "cell_type": "code",
   "execution_count": 67,
   "metadata": {},
   "outputs": [
    {
     "data": {
      "text/plain": [
       "(array([ 0.72578778,  0.72598778,  0.72588778,  0.72588778,  0.72588778]),\n",
       " 6.3245553203360611e-05,\n",
       " 0.72588777828007067,\n",
       " 0.72598777828007066,\n",
       " 0.72578777828007068)"
      ]
     },
     "execution_count": 67,
     "metadata": {},
     "output_type": "execute_result"
    }
   ],
   "source": [
    "test_1 = np.array([0.72578777828007067, 0.72598777828007067, 0.72588777828007067, 0.72588777828007067, 0.72588777828007067])\n",
    "test_1, np.std(test_1), np.average(test_1), np.max(test_1), np.min(test_1)"
   ]
  },
  {
   "cell_type": "code",
   "execution_count": 66,
   "metadata": {},
   "outputs": [
    {
     "data": {
      "text/plain": [
       "(array([143, 141, 144, 146, 134]),\n",
       " 4.1279534881100588,\n",
       " 141.59999999999999,\n",
       " 146,\n",
       " 134)"
      ]
     },
     "execution_count": 66,
     "metadata": {},
     "output_type": "execute_result"
    }
   ],
   "source": [
    "test_1 = np.array([2*60+23, 2*60+21, 2*60+24, 2*60+26, 2*60+14])\n",
    "test_1, np.std(test_1), np.average(test_1), np.max(test_1), np.min(test_1)"
   ]
  },
  {
   "cell_type": "code",
   "execution_count": 57,
   "metadata": {},
   "outputs": [
    {
     "name": "stdout",
     "output_type": "stream",
     "text": [
      "{'objective': 'binary:logistic'}\n",
      "before train\n",
      "[0]\ttrain-roc:0.912797\tvalid-roc:0.928431\n",
      "Multiple eval metrics have been passed: 'valid-roc' will be used for early stopping.\n",
      "\n",
      "Will train until valid-roc hasn't improved in 500 rounds.\n",
      "[100]\ttrain-roc:1\tvalid-roc:0.982731\n",
      "[200]\ttrain-roc:1\tvalid-roc:0.983351\n",
      "[300]\ttrain-roc:1\tvalid-roc:0.983429\n",
      "[400]\ttrain-roc:1\tvalid-roc:0.983811\n",
      "[500]\ttrain-roc:1\tvalid-roc:0.983761\n",
      "[600]\ttrain-roc:1\tvalid-roc:0.983886\n",
      "Stopping. Best iteration:\n",
      "[140]\ttrain-roc:1\tvalid-roc:0.984089\n",
      "\n",
      "<xgboost.core.Booster object at 0x000001FA9BAAABE0>\n",
      "[  2.07310165e-07   6.92067658e-07   8.01525175e-08 ...,   5.70674530e-09\n",
      "   1.43014036e-08   1.08651733e-07]\n",
      "train ('roc', 1.0)\n",
      "[  1.30800197e-06   1.85992417e-06   5.41658324e-07 ...,   8.89226897e-08\n",
      "   4.19001616e-08   2.68200750e-07]\n",
      "test ('roc', 0.9839087154792524)\n",
      "Wall time: 1min 58s\n"
     ]
    }
   ],
   "source": [
    "%%time\n",
    "def roc_metrix(a, p):\n",
    "    return \"roc\", metrics.roc_auc_score(a, p)\n",
    "ModelUtils.xgb_model(X_train, y_train, X_test, y_test, num_class=2, feval=roc_metrix)"
   ]
  },
  {
   "cell_type": "code",
   "execution_count": 50,
   "metadata": {},
   "outputs": [
    {
     "name": "stdout",
     "output_type": "stream",
     "text": [
      "X_train.shape, y_train.shape:(185124, 30)(185124,)\n",
      "X_valid.shape, y_valid.shape:(99683, 30)(99683,)\n",
      "    cross_score: 0.99932\n",
      "    test score ('roc', 0.96999061028819533)\n",
      "<class 'numpy.ndarray'> (99683,)\n",
      "train kflod pred: ('roc', 0.88732243676163836)\n",
      "<class 'numpy.ndarray'> (185124,)\n",
      "train pred ('roc', 0.88382768097794562)\n",
      "<class 'numpy.ndarray'> (99683,)\n",
      "test pred ('roc', 0.88732243676163836)\n"
     ]
    },
    {
     "data": {
      "text/plain": [
       "RandomForestClassifier(bootstrap=True, class_weight=None, criterion='gini',\n",
       "            max_depth=None, max_features='auto', max_leaf_nodes=None,\n",
       "            min_impurity_decrease=0.0, min_impurity_split=None,\n",
       "            min_samples_leaf=10, min_samples_split=2,\n",
       "            min_weight_fraction_leaf=0.0, n_estimators=200, n_jobs=-1,\n",
       "            oob_score=False, random_state=1024, verbose=0,\n",
       "            warm_start=False)"
      ]
     },
     "execution_count": 50,
     "metadata": {},
     "output_type": "execute_result"
    }
   ],
   "source": [
    "ModelUtils.baseline_1_flod(X_train, y_train, X_test, y_test, num_class=2, feval=roc_metrix_mult)"
   ]
  },
  {
   "cell_type": "code",
   "execution_count": 17,
   "metadata": {},
   "outputs": [
    {
     "name": "stdout",
     "output_type": "stream",
     "text": [
      "X_train.shape, y_train.shape:(185124, 30)(185124,)\n",
      "X_valid.shape, y_valid.shape:(99683, 30)(99683,)\n",
      "    cross_score: 0.99945\n",
      "    test score ('roc', 0.88434784199804484)\n",
      "train kflod pred: ('roc', 0.88434784199804484)\n",
      "train pred ('roc', 1.0)\n",
      "test pred ('roc', 0.88434784199804484)\n"
     ]
    },
    {
     "data": {
      "text/plain": [
       "RandomForestClassifier(bootstrap=True, class_weight=None, criterion='gini',\n",
       "            max_depth=None, max_features='auto', max_leaf_nodes=None,\n",
       "            min_impurity_decrease=0.0, min_impurity_split=None,\n",
       "            min_samples_leaf=1, min_samples_split=2,\n",
       "            min_weight_fraction_leaf=0.0, n_estimators=200, n_jobs=-1,\n",
       "            oob_score=False, random_state=1024, verbose=0,\n",
       "            warm_start=False)"
      ]
     },
     "execution_count": 17,
     "metadata": {},
     "output_type": "execute_result"
    }
   ],
   "source": [
    "ModelUtils.baseline_1_flod(X_train, y_train, X_test, y_test, num_class=2, feval=roc_metrix_mult)"
   ]
  },
  {
   "cell_type": "code",
   "execution_count": 54,
   "metadata": {},
   "outputs": [
    {
     "name": "stdout",
     "output_type": "stream",
     "text": [
      "X_train.shape, y_train.shape:(123415, 30)(123415,)\n",
      "X_valid.shape, y_valid.shape:(61709, 30)(61709,)\n",
      "    cross_score: 0.99938\n",
      "    test score ('roc', 0.9385198072447446)\n",
      "X_train.shape, y_train.shape:(123416, 30)(123416,)\n",
      "X_valid.shape, y_valid.shape:(61708, 30)(61708,)\n",
      "    cross_score: 0.99947\n",
      "    test score ('roc', 0.94676463023012292)\n",
      "X_train.shape, y_train.shape:(123417, 30)(123417,)\n",
      "X_valid.shape, y_valid.shape:(61707, 30)(61707,)\n",
      "    cross_score: 0.99922\n",
      "    test score ('roc', 0.94683779753276531)\n",
      "<class 'numpy.ndarray'> (185124,)\n",
      "train kflod pred: ('roc', 0.87090822263499801)\n",
      "[ 0.00666667  0.00666667  0.00666667 ...,  0.01333333  0.97333333\n",
      "  0.00666667]\n",
      "<class 'numpy.ndarray'> (99683,)\n",
      "test data ('roc', 0.95657020841692353)\n",
      "<class 'numpy.ndarray'> (185124,)\n",
      "train pred ('roc', 0.99999452806431022)\n",
      "[ 0.00666667  0.00666667  0.00666667 ...,  0.01333333  0.96666667\n",
      "  0.00666667]\n",
      "<class 'numpy.ndarray'> (99683,)\n",
      "test pred ('roc', 0.9565711747775244)\n",
      "train lr shape:  (185124, 2)\n",
      "<class 'numpy.ndarray'> (185124,)\n",
      "lr train ('roc', 0.85963142716809959)\n",
      "test lr shape:  (99683, 2)\n",
      "<class 'numpy.ndarray'> (99683,)\n",
      "lr test ('roc', 0.88184300649250746)\n",
      "lr coef_ -0.312863089934\n"
     ]
    },
    {
     "data": {
      "text/plain": [
       "[RandomForestClassifier(bootstrap=True, class_weight=None, criterion='gini',\n",
       "             max_depth=None, max_features='auto', max_leaf_nodes=None,\n",
       "             min_impurity_decrease=0.0, min_impurity_split=None,\n",
       "             min_samples_leaf=1, min_samples_split=2,\n",
       "             min_weight_fraction_leaf=0.0, n_estimators=50, n_jobs=-1,\n",
       "             oob_score=False, random_state=1, verbose=0, warm_start=False),\n",
       " RandomForestClassifier(bootstrap=True, class_weight=None, criterion='gini',\n",
       "             max_depth=None, max_features='auto', max_leaf_nodes=None,\n",
       "             min_impurity_decrease=0.0, min_impurity_split=None,\n",
       "             min_samples_leaf=1, min_samples_split=2,\n",
       "             min_weight_fraction_leaf=0.0, n_estimators=50, n_jobs=-1,\n",
       "             oob_score=False, random_state=1, verbose=0, warm_start=False),\n",
       " RandomForestClassifier(bootstrap=True, class_weight=None, criterion='gini',\n",
       "             max_depth=None, max_features='auto', max_leaf_nodes=None,\n",
       "             min_impurity_decrease=0.0, min_impurity_split=None,\n",
       "             min_samples_leaf=1, min_samples_split=2,\n",
       "             min_weight_fraction_leaf=0.0, n_estimators=50, n_jobs=-1,\n",
       "             oob_score=False, random_state=1, verbose=0, warm_start=False)]"
      ]
     },
     "execution_count": 54,
     "metadata": {},
     "output_type": "execute_result"
    }
   ],
   "source": [
    "ModelUtils.baseline_model(X_train, y_train, X_test, y_test, num_class=2, feval=roc_metrix_mult)"
   ]
  },
  {
   "cell_type": "code",
   "execution_count": 37,
   "metadata": {},
   "outputs": [
    {
     "name": "stdout",
     "output_type": "stream",
     "text": [
      "<class 'int'>\n"
     ]
    },
    {
     "data": {
      "text/plain": [
       "False"
      ]
     },
     "execution_count": 37,
     "metadata": {},
     "output_type": "execute_result"
    }
   ],
   "source": [
    "a = 6\n",
    "print(type(a))\n",
    "import numpy as np\n",
    "type(a) == np.int64"
   ]
  },
  {
   "cell_type": "code",
   "execution_count": 18,
   "metadata": {},
   "outputs": [
    {
     "name": "stdout",
     "output_type": "stream",
     "text": [
      "X_train.shape, y_train.shape:(148099, 30)(148099,)\n",
      "X_valid.shape, y_valid.shape:(37025, 30)(37025,)\n",
      "    cross_score: 0.99914\n",
      "    test score ('roc', 0.88722796616716715)\n",
      "X_train.shape, y_train.shape:(148099, 30)(148099,)\n",
      "X_valid.shape, y_valid.shape:(37025, 30)(37025,)\n",
      "    cross_score: 0.99927\n",
      "    test score ('roc', 0.89012818881885403)\n",
      "X_train.shape, y_train.shape:(148099, 30)(148099,)\n",
      "X_valid.shape, y_valid.shape:(37025, 30)(37025,)\n",
      "    cross_score: 0.99949\n",
      "    test score ('roc', 0.87857251979787665)\n",
      "X_train.shape, y_train.shape:(148099, 30)(148099,)\n",
      "X_valid.shape, y_valid.shape:(37025, 30)(37025,)\n",
      "    cross_score: 0.99935\n",
      "    test score ('roc', 0.88145264396699896)\n",
      "X_train.shape, y_train.shape:(148100, 30)(148100,)\n",
      "X_valid.shape, y_valid.shape:(37024, 30)(37024,)\n",
      "    cross_score: 0.99938\n",
      "    test score ('roc', 0.88146269320828119)\n",
      "train kflod pred: ('roc', 0.89650572971137332)\n",
      "train pred ('roc', 1.0)\n",
      "test pred ('roc', 0.88146269320828119)\n",
      "lr train ('roc', 0.8808425707381643)\n",
      "lr test ('roc', 0.86991707342858626)\n",
      "lr coef_ -0.391704894538\n"
     ]
    },
    {
     "data": {
      "text/plain": [
       "[RandomForestClassifier(bootstrap=True, class_weight=None, criterion='gini',\n",
       "             max_depth=None, max_features='auto', max_leaf_nodes=None,\n",
       "             min_impurity_decrease=0.0, min_impurity_split=None,\n",
       "             min_samples_leaf=1, min_samples_split=2,\n",
       "             min_weight_fraction_leaf=0.0, n_estimators=200, n_jobs=-1,\n",
       "             oob_score=False, random_state=1023, verbose=0,\n",
       "             warm_start=False),\n",
       " RandomForestClassifier(bootstrap=True, class_weight=None, criterion='gini',\n",
       "             max_depth=None, max_features='auto', max_leaf_nodes=None,\n",
       "             min_impurity_decrease=0.0, min_impurity_split=None,\n",
       "             min_samples_leaf=1, min_samples_split=2,\n",
       "             min_weight_fraction_leaf=0.0, n_estimators=200, n_jobs=-1,\n",
       "             oob_score=False, random_state=1023, verbose=0,\n",
       "             warm_start=False),\n",
       " RandomForestClassifier(bootstrap=True, class_weight=None, criterion='gini',\n",
       "             max_depth=None, max_features='auto', max_leaf_nodes=None,\n",
       "             min_impurity_decrease=0.0, min_impurity_split=None,\n",
       "             min_samples_leaf=1, min_samples_split=2,\n",
       "             min_weight_fraction_leaf=0.0, n_estimators=200, n_jobs=-1,\n",
       "             oob_score=False, random_state=1023, verbose=0,\n",
       "             warm_start=False),\n",
       " RandomForestClassifier(bootstrap=True, class_weight=None, criterion='gini',\n",
       "             max_depth=None, max_features='auto', max_leaf_nodes=None,\n",
       "             min_impurity_decrease=0.0, min_impurity_split=None,\n",
       "             min_samples_leaf=1, min_samples_split=2,\n",
       "             min_weight_fraction_leaf=0.0, n_estimators=200, n_jobs=-1,\n",
       "             oob_score=False, random_state=1023, verbose=0,\n",
       "             warm_start=False),\n",
       " RandomForestClassifier(bootstrap=True, class_weight=None, criterion='gini',\n",
       "             max_depth=None, max_features='auto', max_leaf_nodes=None,\n",
       "             min_impurity_decrease=0.0, min_impurity_split=None,\n",
       "             min_samples_leaf=1, min_samples_split=2,\n",
       "             min_weight_fraction_leaf=0.0, n_estimators=200, n_jobs=-1,\n",
       "             oob_score=False, random_state=1023, verbose=0,\n",
       "             warm_start=False)]"
      ]
     },
     "execution_count": 18,
     "metadata": {},
     "output_type": "execute_result"
    }
   ],
   "source": [
    "ModelUtils.baseline_model(X_train, y_train, X_test, y_test, num_class=2, feval=roc_metrix_mult)"
   ]
  },
  {
   "cell_type": "code",
   "execution_count": null,
   "metadata": {
    "collapsed": true
   },
   "outputs": [],
   "source": []
  },
  {
   "cell_type": "code",
   "execution_count": null,
   "metadata": {
    "collapsed": true
   },
   "outputs": [],
   "source": []
  },
  {
   "cell_type": "code",
   "execution_count": null,
   "metadata": {
    "collapsed": true
   },
   "outputs": [],
   "source": []
  },
  {
   "cell_type": "code",
   "execution_count": null,
   "metadata": {
    "collapsed": true
   },
   "outputs": [],
   "source": []
  }
 ],
 "metadata": {
  "kernelspec": {
   "display_name": "Python 3",
   "language": "python",
   "name": "python3"
  },
  "language_info": {
   "codemirror_mode": {
    "name": "ipython",
    "version": 3
   },
   "file_extension": ".py",
   "mimetype": "text/x-python",
   "name": "python",
   "nbconvert_exporter": "python",
   "pygments_lexer": "ipython3",
   "version": "3.7.3"
  }
 },
 "nbformat": 4,
 "nbformat_minor": 2
}
