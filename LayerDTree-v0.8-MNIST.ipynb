{
 "cells": [
  {
   "cell_type": "code",
   "execution_count": 1,
   "metadata": {
    "collapsed": true
   },
   "outputs": [],
   "source": [
    "import pandas as pd\n",
    "import numpy as np\n",
    "import os"
   ]
  },
  {
   "cell_type": "code",
   "execution_count": 2,
   "metadata": {},
   "outputs": [
    {
     "data": {
      "text/plain": [
       "['outputs.pkl',\n",
       " 'pool1-10x10-ets.npy',\n",
       " 'pool1-10x10-rf.npy',\n",
       " 'pool1-13x13-ets.npy',\n",
       " 'pool1-13x13-rf.npy',\n",
       " 'pool1-7x7-ets.npy',\n",
       " 'pool1-7x7-rf.npy',\n",
       " 'win1-10x10-ets.npy',\n",
       " 'win1-10x10-rf.npy',\n",
       " 'win1-13x13-ets.npy',\n",
       " 'win1-13x13-rf.npy',\n",
       " 'win1-7x7-ets.npy',\n",
       " 'win1-7x7-rf.npy']"
      ]
     },
     "execution_count": 2,
     "metadata": {},
     "output_type": "execute_result"
    }
   ],
   "source": [
    "os.listdir(\"./datasetes/gcforest_data/train/\")"
   ]
  },
  {
   "cell_type": "code",
   "execution_count": 8,
   "metadata": {
    "collapsed": true
   },
   "outputs": [
    {
     "ename": "TypeError",
     "evalue": "file must have 'read' and 'readline' attributes",
     "output_type": "error",
     "traceback": [
      "\u001b[1;31m---------------------------------------------------------------------------\u001b[0m",
      "\u001b[1;31mTypeError\u001b[0m                                 Traceback (most recent call last)",
      "\u001b[1;32m<ipython-input-8-b2b6fb8dfd50>\u001b[0m in \u001b[0;36m<module>\u001b[1;34m()\u001b[0m\n\u001b[0;32m      1\u001b[0m \u001b[1;32mimport\u001b[0m \u001b[0mpprint\u001b[0m\u001b[1;33m,\u001b[0m \u001b[0mpickle\u001b[0m\u001b[1;33m\u001b[0m\u001b[0m\n\u001b[1;32m----> 2\u001b[1;33m \u001b[0mpickle\u001b[0m\u001b[1;33m.\u001b[0m\u001b[0mload\u001b[0m\u001b[1;33m(\u001b[0m\u001b[1;34m\"./datasetes/gcforest_data/train/\"\u001b[0m\u001b[1;33m+\u001b[0m\u001b[1;34m'outputs.pkl'\u001b[0m\u001b[1;33m)\u001b[0m\u001b[1;33m\u001b[0m\u001b[0m\n\u001b[0m",
      "\u001b[1;31mTypeError\u001b[0m: file must have 'read' and 'readline' attributes"
     ]
    }
   ],
   "source": [
    "import pprint, pickle\n",
    "pickle.load(\"./datasetes/gcforest_data/train/\"+'outputs.pkl')"
   ]
  },
  {
   "cell_type": "code",
   "execution_count": 9,
   "metadata": {
    "collapsed": true
   },
   "outputs": [
    {
     "ename": "UnsupportedOperation",
     "evalue": "read",
     "output_type": "error",
     "traceback": [
      "\u001b[1;31m--------------------------------------------------------------------------\u001b[0m",
      "\u001b[1;31mUnsupportedOperation\u001b[0m                      Traceback (most recent call last)",
      "\u001b[1;32m<ipython-input-9-08b202d0a740>\u001b[0m in \u001b[0;36m<module>\u001b[1;34m()\u001b[0m\n\u001b[0;32m      1\u001b[0m \u001b[0moutput\u001b[0m \u001b[1;33m=\u001b[0m \u001b[0mopen\u001b[0m\u001b[1;33m(\u001b[0m\u001b[1;34m\"./datasetes/gcforest_data/train/\"\u001b[0m\u001b[1;33m+\u001b[0m\u001b[1;34m'outputs.pkl'\u001b[0m\u001b[1;33m,\u001b[0m \u001b[1;34m'wb'\u001b[0m\u001b[1;33m)\u001b[0m\u001b[1;33m\u001b[0m\u001b[0m\n\u001b[1;32m----> 2\u001b[1;33m \u001b[0mpickle\u001b[0m\u001b[1;33m.\u001b[0m\u001b[0mload\u001b[0m\u001b[1;33m(\u001b[0m\u001b[0moutput\u001b[0m\u001b[1;33m)\u001b[0m\u001b[1;33m\u001b[0m\u001b[0m\n\u001b[0m",
      "\u001b[1;31mUnsupportedOperation\u001b[0m: read"
     ]
    }
   ],
   "source": [
    "output = open(\"./datasetes/gcforest_data/train/\"+'outputs.pkl', 'wb')\n",
    "pickle.load(output)"
   ]
  },
  {
   "cell_type": "code",
   "execution_count": 22,
   "metadata": {},
   "outputs": [],
   "source": [
    "\n",
    "# read python dict back from the file\n",
    "# pkl_file = open(\"./datasetes/gcforest_data/train/outputs.pkl\", 'r')\n",
    "# mydict2 = pickle.load(pkl_file)\n",
    "# pkl_file.close()\n",
    "\n",
    "data_path = \"./datasetes/gcforest_data/test/outputs.pkl\"\n",
    "with open(data_path, 'rb') as f:\n",
    "    datas = pickle.load(f, encoding=\"iso-8859-1\")"
   ]
  },
  {
   "cell_type": "code",
   "execution_count": 25,
   "metadata": {},
   "outputs": [
    {
     "data": {
      "text/plain": [
       "dict_keys(['pool1/7x7/rf', 'pool1/13x13/rf', 'pool1/10x10/rf', 'pool1/13x13/ets', 'pool1/10x10/ets', 'pool1/7x7/ets', 'y'])"
      ]
     },
     "execution_count": 25,
     "metadata": {},
     "output_type": "execute_result"
    }
   ],
   "source": [
    "datas.keys()"
   ]
  },
  {
   "cell_type": "code",
   "execution_count": 26,
   "metadata": {},
   "outputs": [
    {
     "data": {
      "text/plain": [
       "array([7, 2, 1, ..., 4, 5, 6], dtype=uint8)"
      ]
     },
     "execution_count": 26,
     "metadata": {},
     "output_type": "execute_result"
    }
   ],
   "source": [
    "datas['y']"
   ]
  },
  {
   "cell_type": "code",
   "execution_count": 6,
   "metadata": {},
   "outputs": [
    {
     "data": {
      "text/plain": [
       "(60000, 10, 11, 11)"
      ]
     },
     "execution_count": 6,
     "metadata": {},
     "output_type": "execute_result"
    }
   ],
   "source": [
    "np.load(\"./datasetes/gcforest_data/train/\"+'win1-7x7-ets.npy').shape"
   ]
  },
  {
   "cell_type": "code",
   "execution_count": 27,
   "metadata": {},
   "outputs": [
    {
     "data": {
      "text/plain": [
       "(60000, 10, 6, 6)"
      ]
     },
     "execution_count": 27,
     "metadata": {},
     "output_type": "execute_result"
    }
   ],
   "source": [
    "win1 = np.load(\"./datasetes/gcforest_data/train/\"+'pool1-7x7-ets.npy')\n",
    "win1.shape"
   ]
  },
  {
   "cell_type": "code",
   "execution_count": 33,
   "metadata": {},
   "outputs": [
    {
     "data": {
      "text/plain": [
       "(60000, 360)"
      ]
     },
     "execution_count": 33,
     "metadata": {},
     "output_type": "execute_result"
    }
   ],
   "source": [
    "win1_o = win1.reshape((60000, -1))\n",
    "win1_o.shape"
   ]
  },
  {
   "cell_type": "code",
   "execution_count": 34,
   "metadata": {},
   "outputs": [
    {
     "data": {
      "text/plain": [
       "((60000, 10, 5, 5), (60000, 250))"
      ]
     },
     "execution_count": 34,
     "metadata": {},
     "output_type": "execute_result"
    }
   ],
   "source": [
    "win2 = np.load(\"./datasetes/gcforest_data/train/\"+'pool1-10x10-ets.npy')\n",
    "win2_o = win2.reshape((60000, -1))\n",
    "win2.shape, win2_o.shape"
   ]
  },
  {
   "cell_type": "code",
   "execution_count": 35,
   "metadata": {},
   "outputs": [
    {
     "data": {
      "text/plain": [
       "((60000, 10, 4, 4), (60000, 160))"
      ]
     },
     "execution_count": 35,
     "metadata": {},
     "output_type": "execute_result"
    }
   ],
   "source": [
    "win3 = np.load(\"./datasetes/gcforest_data/train/\"+'pool1-13x13-ets.npy')\n",
    "win3_o = win3.reshape((60000, -1))\n",
    "win3.shape, win3_o.shape"
   ]
  },
  {
   "cell_type": "code",
   "execution_count": 10,
   "metadata": {},
   "outputs": [
    {
     "data": {
      "text/plain": [
       "(60000, 10, 10, 10)"
      ]
     },
     "execution_count": 10,
     "metadata": {},
     "output_type": "execute_result"
    }
   ],
   "source": [
    "np.load(\"./datasetes/gcforest_data/train/\"+'win1-10x10-ets.npy').shape"
   ]
  },
  {
   "cell_type": "code",
   "execution_count": 13,
   "metadata": {},
   "outputs": [
    {
     "data": {
      "text/plain": [
       "(60000, 10, 5, 5)"
      ]
     },
     "execution_count": 13,
     "metadata": {},
     "output_type": "execute_result"
    }
   ],
   "source": [
    "np.load(\"./datasetes/gcforest_data/train/\"+'pool1-10x10-ets.npy').shape"
   ]
  },
  {
   "cell_type": "code",
   "execution_count": 11,
   "metadata": {},
   "outputs": [
    {
     "data": {
      "text/plain": [
       "(60000, 10, 8, 8)"
      ]
     },
     "execution_count": 11,
     "metadata": {},
     "output_type": "execute_result"
    }
   ],
   "source": [
    "np.load(\"./datasetes/gcforest_data/train/\"+'win1-13x13-ets.npy').shape"
   ]
  },
  {
   "cell_type": "code",
   "execution_count": 14,
   "metadata": {},
   "outputs": [
    {
     "data": {
      "text/plain": [
       "(60000, 10, 4, 4)"
      ]
     },
     "execution_count": 14,
     "metadata": {},
     "output_type": "execute_result"
    }
   ],
   "source": [
    "np.load(\"./datasetes/gcforest_data/train/\"+'pool1-13x13-ets.npy').shape"
   ]
  },
  {
   "cell_type": "code",
   "execution_count": 8,
   "metadata": {},
   "outputs": [
    {
     "data": {
      "text/plain": [
       "(10000, 10, 11, 11)"
      ]
     },
     "execution_count": 8,
     "metadata": {},
     "output_type": "execute_result"
    }
   ],
   "source": [
    "np.load(\"./datasetes/gcforest_data/test/\"+'win1-7x7-ets.npy').shape"
   ]
  },
  {
   "cell_type": "code",
   "execution_count": 7,
   "metadata": {},
   "outputs": [
    {
     "data": {
      "text/plain": [
       "(60000, 10, 11, 11)"
      ]
     },
     "execution_count": 7,
     "metadata": {},
     "output_type": "execute_result"
    }
   ],
   "source": [
    "np.load(\"./datasetes/gcforest_data/train/\"+'win1-7x7-rf.npy').shape"
   ]
  },
  {
   "cell_type": "code",
   "execution_count": 9,
   "metadata": {},
   "outputs": [
    {
     "data": {
      "text/plain": [
       "(10000, 10, 11, 11)"
      ]
     },
     "execution_count": 9,
     "metadata": {},
     "output_type": "execute_result"
    }
   ],
   "source": [
    "np.load(\"./datasetes/gcforest_data/test/\"+'win1-7x7-rf.npy').shape"
   ]
  },
  {
   "cell_type": "code",
   "execution_count": 10,
   "metadata": {},
   "outputs": [
    {
     "name": "stderr",
     "output_type": "stream",
     "text": [
      "Using TensorFlow backend.\n"
     ]
    }
   ],
   "source": [
    "from keras.datasets import mnist\n",
    "(X_train, y_train), (X_test, y_test) = mnist.load_data()"
   ]
  },
  {
   "cell_type": "code",
   "execution_count": 12,
   "metadata": {},
   "outputs": [
    {
     "data": {
      "text/plain": [
       "(60000, 28, 28)"
      ]
     },
     "execution_count": 12,
     "metadata": {},
     "output_type": "execute_result"
    }
   ],
   "source": [
    "X_train.shape"
   ]
  },
  {
   "cell_type": "code",
   "execution_count": 13,
   "metadata": {},
   "outputs": [
    {
     "data": {
      "text/plain": [
       "(60000,)"
      ]
     },
     "execution_count": 13,
     "metadata": {},
     "output_type": "execute_result"
    }
   ],
   "source": [
    "y_train.shape"
   ]
  },
  {
   "cell_type": "code",
   "execution_count": 16,
   "metadata": {},
   "outputs": [
    {
     "data": {
      "text/plain": [
       "(60000, 7, 7)"
      ]
     },
     "execution_count": 16,
     "metadata": {},
     "output_type": "execute_result"
    }
   ],
   "source": [
    "X_train[:, :7,:7].shape"
   ]
  },
  {
   "cell_type": "code",
   "execution_count": 44,
   "metadata": {
    "collapsed": true
   },
   "outputs": [
    {
     "name": "stdout",
     "output_type": "stream",
     "text": [
      "0 7 0 7\n",
      "0 7 2 9\n",
      "0 7 4 11\n",
      "0 7 6 13\n",
      "0 7 8 15\n",
      "0 7 10 17\n",
      "0 7 12 19\n",
      "0 7 14 21\n",
      "2 9 0 7\n",
      "2 9 2 9\n",
      "2 9 4 11\n",
      "2 9 6 13\n",
      "2 9 8 15\n",
      "2 9 10 17\n",
      "2 9 12 19\n",
      "2 9 14 21\n",
      "4 11 0 7\n",
      "4 11 2 9\n",
      "4 11 4 11\n",
      "4 11 6 13\n",
      "4 11 8 15\n",
      "4 11 10 17\n",
      "4 11 12 19\n",
      "4 11 14 21\n",
      "6 13 0 7\n",
      "6 13 2 9\n",
      "6 13 4 11\n",
      "6 13 6 13\n",
      "6 13 8 15\n",
      "6 13 10 17\n",
      "6 13 12 19\n",
      "6 13 14 21\n",
      "8 15 0 7\n",
      "8 15 2 9\n",
      "8 15 4 11\n",
      "8 15 6 13\n",
      "8 15 8 15\n",
      "8 15 10 17\n",
      "8 15 12 19\n",
      "8 15 14 21\n",
      "10 17 0 7\n",
      "10 17 2 9\n",
      "10 17 4 11\n",
      "10 17 6 13\n",
      "10 17 8 15\n",
      "10 17 10 17\n",
      "10 17 12 19\n",
      "10 17 14 21\n",
      "12 19 0 7\n",
      "12 19 2 9\n",
      "12 19 4 11\n",
      "12 19 6 13\n",
      "12 19 8 15\n",
      "12 19 10 17\n",
      "12 19 12 19\n",
      "12 19 14 21\n",
      "14 21 0 7\n",
      "14 21 2 9\n",
      "14 21 4 11\n",
      "14 21 6 13\n",
      "14 21 8 15\n",
      "14 21 10 17\n",
      "14 21 12 19\n",
      "14 21 14 21\n"
     ]
    }
   ],
   "source": [
    "windows_size = 13\n",
    "step = 2\n",
    "win_7x7 = np.array([])\n",
    "counter = 0\n",
    "for i in range(0, 28-windows_size+1, 2):\n",
    "    for j in range(0, 28-windows_size+1, 2):\n",
    "        print(i, i+7, j, j+7)\n",
    "        counter += 1\n",
    "#         win_7x7.append(X_train[:, i:i+7, j:j+7])\n",
    "#         win_7x7 = np.append(X_train[:, i:i+7, j:j+7], win_7x7)\n"
   ]
  },
  {
   "cell_type": "code",
   "execution_count": 45,
   "metadata": {},
   "outputs": [
    {
     "data": {
      "text/plain": [
       "64"
      ]
     },
     "execution_count": 45,
     "metadata": {},
     "output_type": "execute_result"
    }
   ],
   "source": [
    "counter"
   ]
  },
  {
   "cell_type": "code",
   "execution_count": 34,
   "metadata": {},
   "outputs": [
    {
     "data": {
      "text/plain": [
       "(82320000,)"
      ]
     },
     "execution_count": 34,
     "metadata": {},
     "output_type": "execute_result"
    }
   ],
   "source": [
    "win_7x7.shape"
   ]
  },
  {
   "cell_type": "code",
   "execution_count": 28,
   "metadata": {},
   "outputs": [
    {
     "data": {
      "text/plain": [
       "0"
      ]
     },
     "execution_count": 28,
     "metadata": {},
     "output_type": "execute_result"
    }
   ],
   "source": [
    "len(win_7x7)"
   ]
  },
  {
   "cell_type": "code",
   "execution_count": 19,
   "metadata": {
    "collapsed": true
   },
   "outputs": [
    {
     "name": "stdout",
     "output_type": "stream",
     "text": [
      "0\n",
      "2\n",
      "4\n",
      "6\n",
      "8\n",
      "10\n",
      "12\n",
      "14\n",
      "16\n",
      "18\n",
      "20\n",
      "22\n",
      "24\n",
      "26\n"
     ]
    }
   ],
   "source": [
    "for i in range(0, 28, 2):\n",
    "    print(i)"
   ]
  },
  {
   "cell_type": "code",
   "execution_count": null,
   "metadata": {
    "collapsed": true
   },
   "outputs": [],
   "source": []
  }
 ],
 "metadata": {
  "kernelspec": {
   "display_name": "Python 3",
   "language": "python",
   "name": "python3"
  },
  "language_info": {
   "codemirror_mode": {
    "name": "ipython",
    "version": 3
   },
   "file_extension": ".py",
   "mimetype": "text/x-python",
   "name": "python",
   "nbconvert_exporter": "python",
   "pygments_lexer": "ipython3",
   "version": "3.6.1"
  }
 },
 "nbformat": 4,
 "nbformat_minor": 2
}
