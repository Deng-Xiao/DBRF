{
 "cells": [
  {
   "cell_type": "markdown",
   "metadata": {},
   "source": [
    "本文主要以kaggle一次二分类竞赛数据为例，深入研究改进forest\n",
    "\n",
    "LayerDTree是LayerForest的精简版，是对Forest进一步探索的基础\n",
    "\n",
    "- 数据地址：https://www.kaggle.com/c/porto-seguro-safe-driver-prediction\n",
    "- 数据特点：\n",
    "  - 非常不均衡、缺失值严重、二分类\n",
    "- 包含内容：\n",
    "  1. 数据获取\n",
    "  2. 模型应用\n",
    "  3. 结果分析"
   ]
  },
  {
   "cell_type": "markdown",
   "metadata": {},
   "source": [
    "# Stage-1：获取数据"
   ]
  },
  {
   "cell_type": "code",
   "execution_count": 4,
   "metadata": {
    "collapsed": true
   },
   "outputs": [],
   "source": [
    "import os\n",
    "import numpy as np\n",
    "import pandas as pd\n",
    "import time\n",
    "import os.path as osp"
   ]
  },
  {
   "cell_type": "code",
   "execution_count": 5,
   "metadata": {},
   "outputs": [
    {
     "data": {
      "text/plain": [
       "<module 'DataHelper' from 'C:\\\\github_workspace\\\\ecoForest\\\\DataHelper.py'>"
      ]
     },
     "execution_count": 5,
     "metadata": {},
     "output_type": "execute_result"
    }
   ],
   "source": [
    "import DataHelper\n",
    "import importlib\n",
    "importlib.reload(DataHelper)"
   ]
  },
  {
   "cell_type": "code",
   "execution_count": 6,
   "metadata": {},
   "outputs": [
    {
     "name": "stdout",
     "output_type": "stream",
     "text": [
      "X.shape: (32561, 14) y.shape: (32561,)\n",
      "X.shape: (16281, 14) y.shape: (16281,)\n"
     ]
    }
   ],
   "source": [
    "X_train,y_train, X_sub, y_sub = DataHelper.get_adult_data()"
   ]
  },
  {
   "cell_type": "code",
   "execution_count": 7,
   "metadata": {},
   "outputs": [],
   "source": [
    "# X_train,y_train, X_sub, y_sub = DataHelper.get_letter_data()"
   ]
  },
  {
   "cell_type": "markdown",
   "metadata": {},
   "source": [
    "# Stage-2：模型应用"
   ]
  },
  {
   "cell_type": "code",
   "execution_count": null,
   "metadata": {
    "collapsed": true
   },
   "outputs": [],
   "source": []
  },
  {
   "cell_type": "code",
   "execution_count": 8,
   "metadata": {
    "collapsed": true
   },
   "outputs": [],
   "source": [
    "from sklearn import tree\n",
    "from sklearn.tree import DecisionTreeClassifier\n",
    "from sklearn.model_selection import StratifiedShuffleSplit\n",
    "import ForestUtils\n",
    "import time\n",
    "import random\n",
    "from sklearn import metrics"
   ]
  },
  {
   "cell_type": "code",
   "execution_count": 9,
   "metadata": {
    "collapsed": true
   },
   "outputs": [],
   "source": [
    "import EnhancedDTree\n",
    "import EnhancedForest\n",
    "import importlib"
   ]
  },
  {
   "cell_type": "code",
   "execution_count": 10,
   "metadata": {
    "collapsed": true
   },
   "outputs": [],
   "source": [
    "from sklearn.ensemble import RandomForestClassifier, RandomForestRegressor"
   ]
  },
  {
   "cell_type": "code",
   "execution_count": null,
   "metadata": {
    "collapsed": true
   },
   "outputs": [],
   "source": []
  },
  {
   "cell_type": "code",
   "execution_count": 11,
   "metadata": {
    "collapsed": true
   },
   "outputs": [],
   "source": [
    "def acc_prob(y_sub, p_train):\n",
    "    threshold = [x*0.01 for x in range(30,71,1)]\n",
    "    result = []\n",
    "    for i in range(len(threshold)):\n",
    "        test_y_acc_index = np.where(p_train > threshold[i])[0]\n",
    "        test_y_acc = np.array([0] * len(p_train))\n",
    "        test_y_acc[test_y_acc_index] = 1\n",
    "        tmp = metrics.accuracy_score(y_sub, test_y_acc)\n",
    "        result.append(tmp)\n",
    "    result = np.array(result)\n",
    "    return np.max(result)"
   ]
  },
  {
   "cell_type": "markdown",
   "metadata": {},
   "source": [
    "# 决策树算法"
   ]
  },
  {
   "cell_type": "code",
   "execution_count": 10,
   "metadata": {},
   "outputs": [
    {
     "data": {
      "text/plain": [
       "DecisionTreeClassifier(class_weight=None, criterion='gini', max_depth=None,\n",
       "            max_features=None, max_leaf_nodes=None,\n",
       "            min_impurity_decrease=0.0, min_impurity_split=None,\n",
       "            min_samples_leaf=1, min_samples_split=2,\n",
       "            min_weight_fraction_leaf=0.0, presort=False, random_state=None,\n",
       "            splitter='best')"
      ]
     },
     "execution_count": 10,
     "metadata": {},
     "output_type": "execute_result"
    }
   ],
   "source": [
    "clf = DecisionTreeClassifier()\n",
    "clf"
   ]
  },
  {
   "cell_type": "code",
   "execution_count": 23,
   "metadata": {
    "collapsed": true
   },
   "outputs": [],
   "source": [
    "clf = clf.fit(X_train, y_train)"
   ]
  },
  {
   "cell_type": "code",
   "execution_count": 24,
   "metadata": {},
   "outputs": [
    {
     "name": "stdout",
     "output_type": "stream",
     "text": [
      "data auc 0.745391543044\n",
      "data log 6.4025092895\n",
      "data acc 0.814630550949\n"
     ]
    }
   ],
   "source": [
    "p_train = clf.predict_proba(X_sub)\n",
    "p_train = [item[1] for item in p_train]\n",
    "p_train = np.array(p_train)\n",
    "print(\"data auc\", metrics.roc_auc_score(y_sub, p_train))\n",
    "print(\"data log\", metrics.log_loss(y_sub, p_train)) \n",
    "print(\"data acc\", acc_prob(y_sub, p_train))"
   ]
  },
  {
   "cell_type": "code",
   "execution_count": 25,
   "metadata": {},
   "outputs": [
    {
     "name": "stdout",
     "output_type": "stream",
     "text": [
      "data auc 0.814630550949\n"
     ]
    }
   ],
   "source": [
    "p_train = clf.predict(X_sub)\n",
    "print(\"data auc\", metrics.accuracy_score(y_sub, p_train))"
   ]
  },
  {
   "cell_type": "markdown",
   "metadata": {},
   "source": [
    "# 随机森林算法"
   ]
  },
  {
   "cell_type": "code",
   "execution_count": 26,
   "metadata": {
    "collapsed": true
   },
   "outputs": [],
   "source": [
    "# rf = RandomForestClassifier(n_estimators=50, max_depth=10, n_jobs=4, random_state=1024, verbose=True, min_samples_leaf=10)\n",
    "# rf"
   ]
  },
  {
   "cell_type": "code",
   "execution_count": 27,
   "metadata": {},
   "outputs": [
    {
     "data": {
      "text/plain": [
       "RandomForestClassifier(bootstrap=True, class_weight=None, criterion='gini',\n",
       "            max_depth=None, max_features='auto', max_leaf_nodes=None,\n",
       "            min_impurity_decrease=0.0, min_impurity_split=None,\n",
       "            min_samples_leaf=1, min_samples_split=2,\n",
       "            min_weight_fraction_leaf=0.0, n_estimators=10, n_jobs=1,\n",
       "            oob_score=False, random_state=None, verbose=0,\n",
       "            warm_start=False)"
      ]
     },
     "execution_count": 27,
     "metadata": {},
     "output_type": "execute_result"
    }
   ],
   "source": [
    "rf = RandomForestClassifier()\n",
    "rf"
   ]
  },
  {
   "cell_type": "code",
   "execution_count": 28,
   "metadata": {},
   "outputs": [
    {
     "data": {
      "text/plain": [
       "RandomForestClassifier(bootstrap=True, class_weight=None, criterion='gini',\n",
       "            max_depth=None, max_features='auto', max_leaf_nodes=None,\n",
       "            min_impurity_decrease=0.0, min_impurity_split=None,\n",
       "            min_samples_leaf=1, min_samples_split=2,\n",
       "            min_weight_fraction_leaf=0.0, n_estimators=10, n_jobs=1,\n",
       "            oob_score=False, random_state=None, verbose=0,\n",
       "            warm_start=False)"
      ]
     },
     "execution_count": 28,
     "metadata": {},
     "output_type": "execute_result"
    }
   ],
   "source": [
    "rf.fit(X_train, y_train)"
   ]
  },
  {
   "cell_type": "code",
   "execution_count": 29,
   "metadata": {},
   "outputs": [
    {
     "name": "stdout",
     "output_type": "stream",
     "text": [
      "data auc 0.88161776652\n",
      "data log 0.858700589533\n",
      "data acc 0.84792088938\n"
     ]
    }
   ],
   "source": [
    "p_train = rf.predict_proba(X_sub)\n",
    "p_train = [item[1] for item in p_train]\n",
    "p_train = np.array(p_train)\n",
    "print(\"data auc\", metrics.roc_auc_score(y_sub, p_train))\n",
    "print(\"data log\", metrics.log_loss(y_sub, p_train))\n",
    "print(\"data acc\", acc_prob(y_sub, p_train))"
   ]
  },
  {
   "cell_type": "code",
   "execution_count": 30,
   "metadata": {},
   "outputs": [
    {
     "name": "stdout",
     "output_type": "stream",
     "text": [
      "data acc 0.847859468092\n",
      "data log 5.25478872274\n"
     ]
    }
   ],
   "source": [
    "p_train = rf.predict(X_sub)\n",
    "print(\"data acc\", metrics.accuracy_score(y_sub, p_train))\n",
    "print(\"data log\", metrics.log_loss(y_sub, p_train)) "
   ]
  },
  {
   "cell_type": "markdown",
   "metadata": {},
   "source": [
    "# XGB算法"
   ]
  },
  {
   "cell_type": "code",
   "execution_count": 31,
   "metadata": {},
   "outputs": [
    {
     "name": "stderr",
     "output_type": "stream",
     "text": [
      "c:\\program files\\python36\\lib\\site-packages\\sklearn\\cross_validation.py:41: DeprecationWarning: This module was deprecated in version 0.18 in favor of the model_selection module into which all the refactored classes and functions are moved. Also note that the interface of the new CV iterators are different from that of this module. This module will be removed in 0.20.\n",
      "  \"This module will be removed in 0.20.\", DeprecationWarning)\n"
     ]
    }
   ],
   "source": [
    "import xgboost as xgb"
   ]
  },
  {
   "cell_type": "code",
   "execution_count": 32,
   "metadata": {
    "collapsed": true
   },
   "outputs": [],
   "source": [
    "params = {\n",
    "    'objective': 'binary:logistic',\n",
    "#     'silent': True,\n",
    "    \n",
    "#     'max_depth': 4,\n",
    "#     'eta': 0.020,\n",
    "#     'gamma': 0.65,\n",
    "    \n",
    "#     'colsample_bytree': 0.8,\n",
    "#     'subsample': 0.6,\n",
    "    \n",
    "#     'num_boost_round' : 700,\n",
    "#     'min_child_weight': 10.0,\n",
    "#     'max_delta_step': 1.8,\n",
    "}"
   ]
  },
  {
   "cell_type": "code",
   "execution_count": 59,
   "metadata": {
    "collapsed": true
   },
   "outputs": [],
   "source": [
    "# Define the gini metric - from https://www.kaggle.com/c/ClaimPredictionChallenge/discussion/703#5897\n",
    "def ginic(actual, pred):\n",
    "    actual = np.asarray(actual) #In case, someone passes Series or list\n",
    "    n = len(actual)\n",
    "    a_s = actual[np.argsort(pred)]\n",
    "    a_c = a_s.cumsum()\n",
    "    giniSum = a_c.sum() / a_s.sum() - (n + 1) / 2.0\n",
    "    return giniSum / n\n",
    "\n",
    "def gini_normalized(a, p):\n",
    "#     if p.ndim == 2:#Required for sklearn wrapper\n",
    "#         p = p[:,1] #If proba array contains proba for both 0 and 1 classes, just pick class 1\n",
    "    return ginic(a, p) / ginic(a, a)\n",
    "\n",
    "# Create an XGBoost-compatible metric from Gini\n",
    "def gini_xgb(preds, dtrain):\n",
    "    labels = dtrain.get_label()\n",
    "    gini_score = gini_normalized(labels, preds)\n",
    "    return 'gini', gini_score"
   ]
  },
  {
   "cell_type": "code",
   "execution_count": 34,
   "metadata": {
    "collapsed": true
   },
   "outputs": [],
   "source": [
    "sss = StratifiedShuffleSplit(n_splits=1, test_size=0.15, random_state=9487)\n",
    "split_obj = tuple(sss.split(X_train, y_train))\n",
    "train_index, test_index = split_obj[0]\n",
    "X_1, X_2 = X_train[train_index], X_train[test_index]\n",
    "y_1, y_2 = y_train[train_index], y_train[test_index]"
   ]
  },
  {
   "cell_type": "code",
   "execution_count": 60,
   "metadata": {},
   "outputs": [
    {
     "name": "stdout",
     "output_type": "stream",
     "text": [
      "[0]\ttrain-gini:0.794988\tvalid-gini:0.787557\n",
      "Multiple eval metrics have been passed: 'valid-gini' will be used for early stopping.\n",
      "\n",
      "Will train until valid-gini hasn't improved in 100 rounds.\n",
      "[100]\ttrain-gini:0.923187\tvalid-gini:0.852141\n",
      "Stopping. Best iteration:\n",
      "[54]\ttrain-gini:0.900821\tvalid-gini:0.854853\n",
      "\n"
     ]
    }
   ],
   "source": [
    "# d_train = xgb.DMatrix(X_1, y_1)\n",
    "# d_valid = xgb.DMatrix(X_2, y_2)\n",
    "d_train = xgb.DMatrix(X_train, y_train)\n",
    "d_valid = xgb.DMatrix(X_sub, y_sub)\n",
    "watchlist = [(d_train, 'train'), (d_valid, 'valid')]\n",
    "\n",
    "mdl = xgb.train(params, d_train, \n",
    "                    num_boost_round=1600, evals=watchlist, early_stopping_rounds=100, \n",
    "                    feval=gini_xgb, \n",
    "                maximize=True, verbose_eval=100)"
   ]
  },
  {
   "cell_type": "code",
   "execution_count": 36,
   "metadata": {},
   "outputs": [
    {
     "name": "stdout",
     "output_type": "stream",
     "text": [
      "data auc 0.923257433715\n",
      "data log 0.286904550439\n",
      "data acc 0.86929549782\n"
     ]
    }
   ],
   "source": [
    "d_test = xgb.DMatrix(X_sub)\n",
    "p_train = mdl.predict(d_test)\n",
    "print(\"data auc\", metrics.roc_auc_score(y_sub, p_train))\n",
    "print(\"data log\", metrics.log_loss(y_sub, p_train))\n",
    "print(\"data acc\", acc_prob(y_sub, p_train))"
   ]
  },
  {
   "cell_type": "code",
   "execution_count": 37,
   "metadata": {
    "collapsed": true
   },
   "outputs": [
    {
     "name": "stdout",
     "output_type": "stream",
     "text": [
      "data acc 0.86929549782\n"
     ]
    },
    {
     "ename": "ValueError",
     "evalue": "Classification metrics can't handle a mix of binary and continuous targets",
     "output_type": "error",
     "traceback": [
      "\u001b[1;31m---------------------------------------------------------------------------\u001b[0m",
      "\u001b[1;31mValueError\u001b[0m                                Traceback (most recent call last)",
      "\u001b[1;32m<ipython-input-37-bd7d1732585a>\u001b[0m in \u001b[0;36m<module>\u001b[1;34m()\u001b[0m\n\u001b[0;32m      4\u001b[0m \u001b[1;31m# print(\"data log\", metrics.log_loss(y_sub, p_train))\u001b[0m\u001b[1;33m\u001b[0m\u001b[1;33m\u001b[0m\u001b[0m\n\u001b[0;32m      5\u001b[0m \u001b[0mprint\u001b[0m\u001b[1;33m(\u001b[0m\u001b[1;34m\"data acc\"\u001b[0m\u001b[1;33m,\u001b[0m \u001b[0macc_prob\u001b[0m\u001b[1;33m(\u001b[0m\u001b[0my_sub\u001b[0m\u001b[1;33m,\u001b[0m \u001b[0mp_train\u001b[0m\u001b[1;33m)\u001b[0m\u001b[1;33m)\u001b[0m\u001b[1;33m\u001b[0m\u001b[0m\n\u001b[1;32m----> 6\u001b[1;33m \u001b[0mprint\u001b[0m\u001b[1;33m(\u001b[0m\u001b[1;34m\"data acc\"\u001b[0m\u001b[1;33m,\u001b[0m \u001b[0mmetrics\u001b[0m\u001b[1;33m.\u001b[0m\u001b[0maccuracy_score\u001b[0m\u001b[1;33m(\u001b[0m\u001b[0my_sub\u001b[0m\u001b[1;33m,\u001b[0m \u001b[0mp_train\u001b[0m\u001b[1;33m)\u001b[0m\u001b[1;33m)\u001b[0m\u001b[1;33m\u001b[0m\u001b[0m\n\u001b[0m",
      "\u001b[1;32mc:\\program files\\python36\\lib\\site-packages\\sklearn\\metrics\\classification.py\u001b[0m in \u001b[0;36maccuracy_score\u001b[1;34m(y_true, y_pred, normalize, sample_weight)\u001b[0m\n\u001b[0;32m    174\u001b[0m \u001b[1;33m\u001b[0m\u001b[0m\n\u001b[0;32m    175\u001b[0m     \u001b[1;31m# Compute accuracy for each possible representation\u001b[0m\u001b[1;33m\u001b[0m\u001b[1;33m\u001b[0m\u001b[0m\n\u001b[1;32m--> 176\u001b[1;33m     \u001b[0my_type\u001b[0m\u001b[1;33m,\u001b[0m \u001b[0my_true\u001b[0m\u001b[1;33m,\u001b[0m \u001b[0my_pred\u001b[0m \u001b[1;33m=\u001b[0m \u001b[0m_check_targets\u001b[0m\u001b[1;33m(\u001b[0m\u001b[0my_true\u001b[0m\u001b[1;33m,\u001b[0m \u001b[0my_pred\u001b[0m\u001b[1;33m)\u001b[0m\u001b[1;33m\u001b[0m\u001b[0m\n\u001b[0m\u001b[0;32m    177\u001b[0m     \u001b[1;32mif\u001b[0m \u001b[0my_type\u001b[0m\u001b[1;33m.\u001b[0m\u001b[0mstartswith\u001b[0m\u001b[1;33m(\u001b[0m\u001b[1;34m'multilabel'\u001b[0m\u001b[1;33m)\u001b[0m\u001b[1;33m:\u001b[0m\u001b[1;33m\u001b[0m\u001b[0m\n\u001b[0;32m    178\u001b[0m         \u001b[0mdiffering_labels\u001b[0m \u001b[1;33m=\u001b[0m \u001b[0mcount_nonzero\u001b[0m\u001b[1;33m(\u001b[0m\u001b[0my_true\u001b[0m \u001b[1;33m-\u001b[0m \u001b[0my_pred\u001b[0m\u001b[1;33m,\u001b[0m \u001b[0maxis\u001b[0m\u001b[1;33m=\u001b[0m\u001b[1;36m1\u001b[0m\u001b[1;33m)\u001b[0m\u001b[1;33m\u001b[0m\u001b[0m\n",
      "\u001b[1;32mc:\\program files\\python36\\lib\\site-packages\\sklearn\\metrics\\classification.py\u001b[0m in \u001b[0;36m_check_targets\u001b[1;34m(y_true, y_pred)\u001b[0m\n\u001b[0;32m     79\u001b[0m     \u001b[1;32mif\u001b[0m \u001b[0mlen\u001b[0m\u001b[1;33m(\u001b[0m\u001b[0my_type\u001b[0m\u001b[1;33m)\u001b[0m \u001b[1;33m>\u001b[0m \u001b[1;36m1\u001b[0m\u001b[1;33m:\u001b[0m\u001b[1;33m\u001b[0m\u001b[0m\n\u001b[0;32m     80\u001b[0m         raise ValueError(\"Classification metrics can't handle a mix of {0} \"\n\u001b[1;32m---> 81\u001b[1;33m                          \"and {1} targets\".format(type_true, type_pred))\n\u001b[0m\u001b[0;32m     82\u001b[0m \u001b[1;33m\u001b[0m\u001b[0m\n\u001b[0;32m     83\u001b[0m     \u001b[1;31m# We can't have more than one value on y_type => The set is no more needed\u001b[0m\u001b[1;33m\u001b[0m\u001b[1;33m\u001b[0m\u001b[0m\n",
      "\u001b[1;31mValueError\u001b[0m: Classification metrics can't handle a mix of binary and continuous targets"
     ]
    }
   ],
   "source": [
    "d_test = xgb.DMatrix(X_sub)\n",
    "p_train = mdl.predict(d_test)\n",
    "# print(\"data auc\", metrics.roc_auc_score(y_sub, p_train))\n",
    "# print(\"data log\", metrics.log_loss(y_sub, p_train))\n",
    "print(\"data acc\", acc_prob(y_sub, p_train))\n",
    "print(\"data acc\", metrics.accuracy_score(y_sub, p_train))"
   ]
  },
  {
   "cell_type": "code",
   "execution_count": 38,
   "metadata": {},
   "outputs": [
    {
     "data": {
      "text/plain": [
       "0.86757570173822252"
      ]
     },
     "execution_count": 38,
     "metadata": {},
     "output_type": "execute_result"
    }
   ],
   "source": [
    "test_y_acc_index = np.where(p_train > 0.5)[0]\n",
    "test_y_acc = np.array([0] * len(p_train))\n",
    "test_y_acc[test_y_acc_index] = 1\n",
    "metrics.accuracy_score(y_sub, test_y_acc)"
   ]
  },
  {
   "cell_type": "markdown",
   "metadata": {},
   "source": [
    "# GDBT算法"
   ]
  },
  {
   "cell_type": "code",
   "execution_count": 39,
   "metadata": {
    "collapsed": true
   },
   "outputs": [],
   "source": [
    "from sklearn.ensemble import GradientBoostingClassifier"
   ]
  },
  {
   "cell_type": "code",
   "execution_count": 40,
   "metadata": {},
   "outputs": [
    {
     "data": {
      "text/plain": [
       "GradientBoostingClassifier(criterion='friedman_mse', init=None,\n",
       "              learning_rate=0.1, loss='deviance', max_depth=3,\n",
       "              max_features=None, max_leaf_nodes=None,\n",
       "              min_impurity_decrease=0.0, min_impurity_split=None,\n",
       "              min_samples_leaf=1, min_samples_split=2,\n",
       "              min_weight_fraction_leaf=0.0, n_estimators=100,\n",
       "              presort='auto', random_state=None, subsample=1.0, verbose=0,\n",
       "              warm_start=False)"
      ]
     },
     "execution_count": 40,
     "metadata": {},
     "output_type": "execute_result"
    }
   ],
   "source": [
    "gdbt = GradientBoostingClassifier()\n",
    "gdbt"
   ]
  },
  {
   "cell_type": "code",
   "execution_count": 41,
   "metadata": {},
   "outputs": [
    {
     "data": {
      "text/plain": [
       "GradientBoostingClassifier(criterion='friedman_mse', init=None,\n",
       "              learning_rate=0.1, loss='deviance', max_depth=3,\n",
       "              max_features=None, max_leaf_nodes=None,\n",
       "              min_impurity_decrease=0.0, min_impurity_split=None,\n",
       "              min_samples_leaf=1, min_samples_split=2,\n",
       "              min_weight_fraction_leaf=0.0, n_estimators=100,\n",
       "              presort='auto', random_state=None, subsample=1.0, verbose=0,\n",
       "              warm_start=False)"
      ]
     },
     "execution_count": 41,
     "metadata": {},
     "output_type": "execute_result"
    }
   ],
   "source": [
    "gdbt.fit(X_train, y_train)"
   ]
  },
  {
   "cell_type": "code",
   "execution_count": 42,
   "metadata": {},
   "outputs": [
    {
     "name": "stdout",
     "output_type": "stream",
     "text": [
      "data auc 0.921379650522\n",
      "data log 0.290379478168\n",
      "data acc 0.870032553283\n"
     ]
    }
   ],
   "source": [
    "p_train = gdbt.predict_proba(X_sub)\n",
    "p_train = [item[1] for item in p_train]\n",
    "p_train = np.array(p_train)\n",
    "print(\"data auc\", metrics.roc_auc_score(y_sub, p_train))\n",
    "print(\"data log\", metrics.log_loss(y_sub, p_train))\n",
    "print(\"data acc\", acc_prob(y_sub, p_train))"
   ]
  },
  {
   "cell_type": "code",
   "execution_count": 43,
   "metadata": {},
   "outputs": [
    {
     "name": "stdout",
     "output_type": "stream",
     "text": [
      "data acc 0.869111233954\n",
      "data log 4.52076787981\n"
     ]
    }
   ],
   "source": [
    "p_train = gdbt.predict(X_sub)\n",
    "print(\"data acc\", metrics.accuracy_score(y_sub, p_train))\n",
    "print(\"data log\", metrics.log_loss(y_sub, p_train)) "
   ]
  },
  {
   "cell_type": "markdown",
   "metadata": {},
   "source": [
    "# BaseLine"
   ]
  },
  {
   "cell_type": "code",
   "execution_count": 44,
   "metadata": {
    "collapsed": true
   },
   "outputs": [],
   "source": [
    "def acc_metrix_mult(a, p):\n",
    "#     print(p)\n",
    "    return \"acc:\", metrics.accuracy_score(a, p)"
   ]
  },
  {
   "cell_type": "code",
   "execution_count": 45,
   "metadata": {
    "collapsed": true
   },
   "outputs": [],
   "source": [
    "from sklearn.model_selection import StratifiedShuffleSplit\n",
    "from sklearn.model_selection import StratifiedKFold\n",
    "from sklearn.model_selection import cross_val_score\n",
    "from scipy import stats"
   ]
  },
  {
   "cell_type": "code",
   "execution_count": 46,
   "metadata": {
    "collapsed": true
   },
   "outputs": [],
   "source": [
    "kfold = 3\n",
    "X = X_train.copy()\n",
    "y = y_train.copy()\n",
    "X_test = X_sub.copy()\n",
    "real_y = y_sub.copy()\n",
    "max_depth = None\n",
    "random_state = None\n",
    "min_samples_leaf = 1\n",
    "criterion = 'entropy'#'gini'\n",
    "num_class = 2\n",
    "feval = acc_metrix_mult\n",
    "n_estimators = 200"
   ]
  },
  {
   "cell_type": "code",
   "execution_count": 47,
   "metadata": {},
   "outputs": [
    {
     "name": "stdout",
     "output_type": "stream",
     "text": [
      "X_train.shape, y_train.shape:(21707, 14)(21707,)\n",
      "X_valid.shape, y_valid.shape:(10854, 14)(10854,)\n",
      "RandomForestClassifier(bootstrap=True, class_weight=None, criterion='entropy',\n",
      "            max_depth=None, max_features='auto', max_leaf_nodes=None,\n",
      "            min_impurity_decrease=0.0, min_impurity_split=None,\n",
      "            min_samples_leaf=1, min_samples_split=2,\n",
      "            min_weight_fraction_leaf=0.0, n_estimators=200, n_jobs=-1,\n",
      "            oob_score=False, random_state=None, verbose=0,\n",
      "            warm_start=False)\n",
      "    test score ('acc:', 0.85424728210797862)\n",
      "X_train.shape, y_train.shape:(21707, 14)(21707,)\n",
      "X_valid.shape, y_valid.shape:(10854, 14)(10854,)\n",
      "RandomForestClassifier(bootstrap=True, class_weight=None, criterion='entropy',\n",
      "            max_depth=None, max_features='auto', max_leaf_nodes=None,\n",
      "            min_impurity_decrease=0.0, min_impurity_split=None,\n",
      "            min_samples_leaf=1, min_samples_split=2,\n",
      "            min_weight_fraction_leaf=0.0, n_estimators=200, n_jobs=-1,\n",
      "            oob_score=False, random_state=None, verbose=0,\n",
      "            warm_start=False)\n",
      "    test score ('acc:', 0.85295743504698729)\n",
      "X_train.shape, y_train.shape:(21708, 14)(21708,)\n",
      "X_valid.shape, y_valid.shape:(10853, 14)(10853,)\n",
      "RandomForestClassifier(bootstrap=True, class_weight=None, criterion='entropy',\n",
      "            max_depth=None, max_features='auto', max_leaf_nodes=None,\n",
      "            min_impurity_decrease=0.0, min_impurity_split=None,\n",
      "            min_samples_leaf=1, min_samples_split=2,\n",
      "            min_weight_fraction_leaf=0.0, n_estimators=200, n_jobs=-1,\n",
      "            oob_score=False, random_state=None, verbose=0,\n",
      "            warm_start=False)\n",
      "    test score ('acc:', 0.8571955039616731)\n"
     ]
    },
    {
     "data": {
      "text/plain": [
       "('acc:', 0.85854242805810632)"
      ]
     },
     "execution_count": 47,
     "metadata": {},
     "output_type": "execute_result"
    }
   ],
   "source": [
    "sss = StratifiedKFold(n_splits=kfold, shuffle=True, random_state=9487)\n",
    "\n",
    "p_all_fold = np.zeros(X.shape[0])\n",
    "clf_folds = []\n",
    "for i, (train_index, test_index) in enumerate(sss.split(X, y)):\n",
    "    X_train_bl, X_valid_bl = X[train_index], X[test_index]\n",
    "    y_train_bl, y_valid_bl = y[train_index], y[test_index]\n",
    "        \n",
    "    print(\"X_train.shape, y_train.shape:\"+str(X_train_bl.shape)+str(y_train_bl.shape))\n",
    "    print(\"X_valid.shape, y_valid.shape:\"+str(X_valid_bl.shape)+str(y_valid_bl.shape))\n",
    "        \n",
    "    clf = RandomForestClassifier(max_depth=max_depth, random_state=random_state, \n",
    "                                    min_samples_leaf=min_samples_leaf, n_estimators=n_estimators, n_jobs=-1,\n",
    "                                         #max_leaf_nodes=100,\n",
    "    #                                  n_estimators=2, n_jobs=8, oob_score=True, verbose=1, boostrap=False,\n",
    "                                     criterion=criterion)\n",
    "    clf = clf.fit(X_train_bl, y_train_bl)\n",
    "    clf_folds.append(clf)\n",
    "    print(clf)\n",
    "    \n",
    "#     cross_score = cross_val_score(clf, X_valid, y_valid, cv=3)\n",
    "#     print(\"    cross_score: %.5f\" % (cross_score.mean()))\n",
    "    print(\"    test score\", feval(real_y, clf.predict(X_test)))\n",
    "    \n",
    "    \n",
    "    if not num_class:\n",
    "        y_pred = clf.predict_proba(X_valid_bl)[:,1]\n",
    "    else:\n",
    "        y_pred = clf.predict(X_valid_bl)\n",
    "\n",
    "    p_all_fold[test_index] += y_pred\n",
    "feval(y, p_all_fold)"
   ]
  },
  {
   "cell_type": "code",
   "execution_count": 48,
   "metadata": {},
   "outputs": [
    {
     "name": "stdout",
     "output_type": "stream",
     "text": [
      "[[ 0.  0.  0.]\n",
      " [ 0.  0.  0.]\n",
      " [ 1.  0.  0.]\n",
      " ..., \n",
      " [ 1.  1.  1.]\n",
      " [ 0.  0.  0.]\n",
      " [ 1.  1.  1.]]\n",
      "[ 0.  0.  0. ...,  1.  0.  1.]\n"
     ]
    },
    {
     "data": {
      "text/plain": [
       "('acc:', 0.85670413365272402)"
      ]
     },
     "execution_count": 48,
     "metadata": {},
     "output_type": "execute_result"
    }
   ],
   "source": [
    "y_preds = np.zeros((X_test.shape[0], len(clf_folds)))\n",
    "for i, clf in enumerate(clf_folds):\n",
    "    if not num_class:\n",
    "        y_pred = clf.predict_proba(X_test)[:,1]\n",
    "    else:\n",
    "        y_pred = clf.predict(X_test)\n",
    "    y_preds[:, i] = y_pred\n",
    "\n",
    "if not num_class:\n",
    "    result = y_preds.mean(axis=1)\n",
    "else:\n",
    "    print(y_preds)\n",
    "    m = stats.mode(y_preds, axis=1)\n",
    "    result = np.array([i[0] for i in m[0]])\n",
    "print(result)\n",
    "feval(real_y, result)"
   ]
  },
  {
   "cell_type": "code",
   "execution_count": 49,
   "metadata": {},
   "outputs": [
    {
     "name": "stdout",
     "output_type": "stream",
     "text": [
      "[[ 0.  0.  0.]\n",
      " [ 0.  0.  0.]\n",
      " [ 0.  0.  0.]\n",
      " ..., \n",
      " [ 0.  0.  0.]\n",
      " [ 0.  0.  0.]\n",
      " [ 1.  1.  1.]]\n",
      "[ 0.  0.  0. ...,  0.  0.  1.]\n"
     ]
    },
    {
     "data": {
      "text/plain": [
       "('acc:', 0.99996928841251809)"
      ]
     },
     "execution_count": 49,
     "metadata": {},
     "output_type": "execute_result"
    }
   ],
   "source": [
    "y_preds = np.zeros((X.shape[0], len(clf_folds)))\n",
    "for i, clf in enumerate(clf_folds):\n",
    "    if not num_class:\n",
    "        y_pred = clf.predict_proba(X)[:,1]\n",
    "    else:\n",
    "        y_pred = clf.predict(X)\n",
    "    y_preds[:, i] = y_pred\n",
    "\n",
    "if not num_class:\n",
    "    result = y_preds.mean(axis=1)\n",
    "else:\n",
    "    print(y_preds)\n",
    "    m = stats.mode(y_preds, axis=1)\n",
    "    result = np.array([i[0] for i in m[0]])\n",
    "print(result)\n",
    "feval(y, result)"
   ]
  },
  {
   "cell_type": "markdown",
   "metadata": {},
   "source": [
    "# layerDTree算法"
   ]
  },
  {
   "cell_type": "code",
   "execution_count": 1,
   "metadata": {
    "collapsed": true
   },
   "outputs": [],
   "source": [
    "import datetime\n",
    "import time"
   ]
  },
  {
   "cell_type": "code",
   "execution_count": 2,
   "metadata": {
    "collapsed": true
   },
   "outputs": [],
   "source": [
    "def acc_metrix(a, p):\n",
    "    return \"acc:\", acc_prob(a, p)\n",
    "def mse_metrix(a, p):\n",
    "    return \"mse:\", metrics.mean_squared_error(a,p,labels=labels)\n",
    "def log_loss_metrix(a, p, labels=[0,1]):\n",
    "    return \"log:\", metrics.log_loss(a,p,labels=labels)"
   ]
  },
  {
   "cell_type": "code",
   "execution_count": 12,
   "metadata": {},
   "outputs": [
    {
     "data": {
      "text/plain": [
       "{'divide': 'warn', 'invalid': 'warn', 'over': 'warn', 'under': 'ignore'}"
      ]
     },
     "execution_count": 12,
     "metadata": {},
     "output_type": "execute_result"
    }
   ],
   "source": [
    "np.seterr(divide='ignore', invalid='ignore')"
   ]
  },
  {
   "cell_type": "code",
   "execution_count": null,
   "metadata": {
    "collapsed": true
   },
   "outputs": [],
   "source": []
  },
  {
   "cell_type": "code",
   "execution_count": 13,
   "metadata": {},
   "outputs": [
    {
     "data": {
      "text/plain": [
       "<module 'EnhancedForest' from 'C:\\\\github_workspace\\\\ecoForest\\\\EnhancedForest.py'>"
      ]
     },
     "execution_count": 13,
     "metadata": {},
     "output_type": "execute_result"
    }
   ],
   "source": [
    "importlib.reload(EnhancedForest)"
   ]
  },
  {
   "cell_type": "code",
   "execution_count": 20,
   "metadata": {},
   "outputs": [
    {
     "name": "stdout",
     "output_type": "stream",
     "text": [
      "\n",
      "layer: 1\n",
      "1 [p:0/np:0] \n",
      "train loss ('acc:', 0.86554467000399249)\n",
      "pass train loss (0, 0)\n",
      "pass train loss now (0, 0)\n",
      "vaild loss ('acc:', 0.85989373790731238)\n",
      "pass vaild loss (0, 0)\n",
      "pass vaild loss now (0, 0)\n",
      "test loss ('acc:', 0.86198636447392663)\n",
      "pass test loss (0, 0)\n",
      "pass test loss now (0, 0)\n",
      "2018-01-30 20:37:36\n",
      "best test loss: 0.307442894875\n",
      "\n",
      "layer: 2\n",
      "[p:4789/1:3|n:27772/1:7838] 2 [p:2396/np:13885] \n",
      "train loss ('acc:', 0.86671171032830685)\n",
      "pass train loss ('acc:', 0.99937356441845893)\n",
      "pass train loss now ('acc:', 0.99937356441845893)\n",
      "vaild loss ('acc:', 0.86017014219465004)\n",
      "pass vaild loss ('acc:', 0.99937356441845893)\n",
      "pass vaild loss now ('acc:', 0.99937356441845893)\n",
      "test loss ('acc:', 0.86192494318530799)\n",
      "pass test loss ('acc:', 0.9958263772954925)\n",
      "pass test loss now ('acc:', 0.9958263772954925)\n",
      "2018-01-30 20:37:40\n",
      "best test loss: 0.307631273735\n",
      "rxz: 4789 32561\n",
      "\n",
      "layer: 3\n",
      "[p:1268/1:1|n:26504/1:7837] 3 [p:618/np:13267] \n",
      "train loss ('acc:', 0.86674242191578887)\n",
      "pass train loss ('acc:', 0.99933960706620439)\n",
      "pass train loss now ('acc:', 0.99921135646687698)\n",
      "vaild loss ('acc:', 0.85989373790731238)\n",
      "pass vaild loss ('acc:', 0.99933960706620439)\n",
      "pass vaild loss now ('acc:', 0.99921135646687698)\n",
      "test loss ('acc:', 0.86346047540077386)\n",
      "pass test loss ('acc:', 0.99568679495686796)\n",
      "pass test loss now ('acc:', 0.99514563106796117)\n",
      "2018-01-30 20:37:43\n",
      "best test loss: 0.30660744336\n",
      "rxz: 1268 32561\n",
      "\n",
      "layer: 4\n",
      "[p:409/1:0|n:26095/1:7837] 4 [p:182/np:13085] \n",
      "train loss ('acc:', 0.8657289395288843)\n",
      "pass train loss ('acc:', 0.99938137952366224)\n",
      "pass train loss now ('acc:', 1.0)\n",
      "vaild loss ('acc:', 0.85989373790731238)\n",
      "pass vaild loss ('acc:', 0.99938137952366224)\n",
      "pass vaild loss now ('acc:', 1.0)\n",
      "test loss ('acc:', 0.86223204962840116)\n",
      "pass test loss ('acc:', 0.99530663329161451)\n",
      "pass test loss now ('acc:', 0.98901098901098905)\n",
      "2018-01-30 20:37:46\n",
      "best test loss: 0.306748390269\n",
      "rxz: 409 32561\n",
      "\n",
      "layer: 5\n",
      "[p:337/1:0|n:25758/1:7837] 5 [p:162/np:12923] \n",
      "train loss ('acc:', 0.86612819016614973)\n",
      "pass train loss ('acc:', 0.99941202410701158)\n",
      "pass train loss now ('acc:', 1.0)\n",
      "vaild loss ('acc:', 0.86026227695709589)\n",
      "pass vaild loss ('acc:', 0.99941202410701158)\n",
      "pass vaild loss now ('acc:', 1.0)\n",
      "test loss ('acc:', 0.86333763282353659)\n",
      "pass test loss ('acc:', 0.99553305539011316)\n",
      "pass test loss now ('acc:', 1.0)\n",
      "2018-01-30 20:37:49\n",
      "best test loss: 0.307029895104\n",
      "rxz: 337 32561\n",
      "\n",
      "layer: 6\n",
      "[p:422/1:2|n:25336/1:7835] 6 [p:221/np:12702] \n",
      "train loss ('acc:', 0.8668038450907527)\n",
      "pass train loss ('acc:', 0.99916955017301035)\n",
      "pass train loss now ('acc:', 0.99526066350710896)\n",
      "vaild loss ('acc:', 0.86032370013205983)\n",
      "pass vaild loss ('acc:', 0.99916955017301035)\n",
      "pass vaild loss now ('acc:', 0.99526066350710896)\n",
      "test loss ('acc:', 0.86235489220563843)\n",
      "pass test loss ('acc:', 0.99580888516345345)\n",
      "pass test loss now ('acc:', 1.0)\n",
      "2018-01-30 20:37:53\n",
      "best test loss: 0.307200370738\n",
      "rxz: 422 32561\n",
      "\n",
      "layer: 7\n",
      "[p:289/1:3|n:25047/1:7832] \n",
      "layer: 8\n",
      "[p:337/1:19|n:24999/1:7816] \n",
      "layer: 9\n",
      "[p:274/1:45|n:25062/1:7790] \n",
      "layer: 10\n",
      "[p:308/1:2|n:25028/1:7833] 10 [p:148/np:12554] \n",
      "train loss ('acc:', 0.86615890175363164)\n",
      "pass train loss ('acc:', 0.99893800610646488)\n",
      "pass train loss now ('acc:', 0.99350649350649356)\n",
      "vaild loss ('acc:', 0.86066152759436132)\n",
      "pass vaild loss ('acc:', 0.99893800610646488)\n",
      "pass vaild loss now ('acc:', 0.99350649350649356)\n",
      "test loss ('acc:', 0.86358331797801113)\n",
      "pass test loss ('acc:', 0.9946337536892943)\n",
      "pass test loss now ('acc:', 0.96621621621621623)\n",
      "2018-01-30 20:38:08\n",
      "best test loss: 0.307006148936\n",
      "rxz: 308 32561\n",
      "\n",
      "layer: 11\n",
      "[p:280/1:1|n:24748/1:7832] \n",
      "layer: 12\n",
      "[p:358/1:2|n:24670/1:7831] 12 [p:175/np:12379] \n",
      "train loss ('acc:', 0.86631245969104143)\n",
      "pass train loss ('acc:', 0.99885946014446836)\n",
      "pass train loss now ('acc:', 0.9972067039106145)\n",
      "vaild loss ('acc:', 0.86032370013205983)\n",
      "pass vaild loss ('acc:', 0.99885946014446836)\n",
      "pass vaild loss now ('acc:', 0.9972067039106145)\n",
      "test loss ('acc:', 0.86284626251458751)\n",
      "pass test loss ('acc:', 0.99461814454126085)\n",
      "pass test loss now ('acc:', 0.99428571428571433)\n",
      "2018-01-30 20:38:15\n",
      "best test loss: 0.307184160569\n",
      "rxz: 358 32561\n",
      "\n",
      "layer: 13\n",
      "[p:410/1:81|n:24260/1:7750] \n",
      "layer: 14\n",
      "[p:375/1:22|n:24295/1:7809] \n",
      "layer: 15\n",
      "[p:373/1:1|n:24297/1:7830] \n",
      "layer: 16\n",
      "[p:390/1:80|n:24280/1:7751] 16 [p:197/np:12182] \n",
      "train loss ('acc:', 0.86729523049046409)\n",
      "pass train loss ('acc:', 0.99843014128728413)\n",
      "pass train loss now ('acc:', 0.98974358974358978)\n",
      "vaild loss ('acc:', 0.86013943060716813)\n",
      "pass vaild loss ('acc:', 0.99843014128728413)\n",
      "pass vaild loss now ('acc:', 0.98974358974358978)\n",
      "test loss ('acc:', 0.86315336895768069)\n",
      "pass test loss ('acc:', 0.99365698950963655)\n",
      "pass test loss now ('acc:', 0.97461928934010156)\n",
      "2018-01-30 20:38:30\n",
      "best test loss: 0.307174860327\n",
      "rxz: 390 32561\n",
      "\n",
      "layer: 17\n",
      "[p:297/1:0|n:23983/1:7751] \n",
      "layer: 18\n",
      "[p:292/1:12|n:23988/1:7739] \n",
      "layer: 19\n",
      "[p:244/1:0|n:24036/1:7751] \n",
      "layer: 20\n",
      "[p:402/1:32|n:23878/1:7719] \n",
      "layer: 21\n",
      "[p:381/1:11|n:23899/1:7740] \n",
      "layer: 22\n",
      "[p:363/1:3|n:23917/1:7748] \n",
      "layer: 23\n",
      "[p:302/1:1|n:23978/1:7750] 23 [p:120/np:12062] \n",
      "train loss ('acc:', 0.86655815239089706)\n",
      "pass train loss ('acc:', 0.99836886869392982)\n",
      "pass train loss now ('acc:', 0.99668874172185429)\n",
      "vaild loss ('acc:', 0.86017014219465004)\n",
      "pass vaild loss ('acc:', 0.99836886869392982)\n",
      "pass vaild loss now ('acc:', 0.99668874172185429)\n",
      "test loss ('acc:', 0.8624777347828757)\n",
      "pass test loss ('acc:', 0.99360037923678601)\n",
      "pass test loss now ('acc:', 0.9916666666666667)\n",
      "2018-01-30 20:38:56\n",
      "best test loss: 0.308488385744\n",
      "rxz: 302 32561\n",
      "\n",
      "layer: 24\n",
      "[p:261/1:5|n:23717/1:7745] \n",
      "layer: 25\n",
      "[p:303/1:55|n:23675/1:7695] 25 [p:167/np:11895] \n",
      "train loss ('acc:', 0.86625103651607749)\n",
      "pass train loss ('acc:', 0.99831195138419981)\n",
      "pass train loss now ('acc:', 0.99669966996699666)\n",
      "vaild loss ('acc:', 0.86026227695709589)\n",
      "pass vaild loss ('acc:', 0.99831195138419981)\n",
      "pass vaild loss now ('acc:', 0.99669966996699666)\n",
      "test loss ('acc:', 0.86321479024629932)\n",
      "pass test loss ('acc:', 0.99384404924760605)\n",
      "pass test loss now ('acc:', 1.0)\n",
      "2018-01-30 20:39:04\n",
      "best test loss: 0.307342476412\n",
      "rxz: 303 32561\n",
      "\n",
      "layer: 26\n",
      "[p:257/1:130|n:23418/1:7565] \n",
      "layer: 27\n",
      "[p:254/1:2|n:23421/1:7693] 27 [p:137/np:11758] \n",
      "train loss ('acc:', 0.86717238414053621)\n",
      "pass train loss ('acc:', 0.99814004376367615)\n",
      "pass train loss now ('acc:', 0.99212598425196852)\n",
      "vaild loss ('acc:', 0.86017014219465004)\n",
      "pass vaild loss ('acc:', 0.99814004376367615)\n",
      "pass vaild loss now ('acc:', 0.99212598425196852)\n",
      "test loss ('acc:', 0.86266199864873161)\n",
      "pass test loss ('acc:', 0.9935883263320805)\n",
      "pass test loss now ('acc:', 0.98540145985401462)\n",
      "2018-01-30 20:39:12\n",
      "best test loss: 0.308865586842\n",
      "rxz: 254 32561\n",
      "\n",
      "layer: 28\n",
      "[p:311/1:83|n:23110/1:7610] \n",
      "layer: 29\n",
      "[p:342/1:44|n:23079/1:7649] 29 [p:165/np:11593] \n",
      "train loss ('acc:', 0.86640459445348728)\n",
      "pass train loss ('acc:', 0.99789074035013714)\n",
      "pass train loss now ('acc:', 0.99122807017543857)\n",
      "vaild loss ('acc:', 0.86072295076932526)\n",
      "pass vaild loss ('acc:', 0.99789074035013714)\n",
      "pass vaild loss now ('acc:', 0.99122807017543857)\n",
      "test loss ('acc:', 0.8637061605552484)\n",
      "pass test loss ('acc:', 0.99381399317406138)\n",
      "pass test loss now ('acc:', 1.0)\n",
      "2018-01-30 20:39:19\n",
      "best test loss: 0.307011971005\n",
      "rxz: 342 32561\n",
      "\n",
      "layer: 30\n",
      "[p:274/1:14|n:22805/1:7635] \n",
      "layer: 31\n",
      "[p:313/1:71|n:22766/1:7578] 31 [p:146/np:11447] \n",
      "train loss ('acc:', 0.86615890175363164)\n",
      "pass train loss ('acc:', 0.99785604900459413)\n",
      "pass train loss now ('acc:', 0.99680511182108622)\n",
      "vaild loss ('acc:', 0.86109148981910877)\n",
      "pass vaild loss ('acc:', 0.99785604900459413)\n",
      "pass vaild loss now ('acc:', 0.99680511182108622)\n",
      "test loss ('acc:', 0.86284626251458751)\n",
      "pass test loss ('acc:', 0.99400082747207286)\n",
      "pass test loss now ('acc:', 1.0)\n",
      "2018-01-30 20:39:27\n",
      "best test loss: 0.308827318805\n",
      "rxz: 313 32561\n",
      "\n",
      "layer: 32\n",
      "[p:289/1:8|n:22477/1:7570] 32 [p:135/np:11312] \n",
      "train loss ('acc:', 0.86625103651607749)\n",
      "pass train loss ('acc:', 0.99752082506941686)\n",
      "pass train loss now ('acc:', 0.98615916955017302)\n",
      "vaild loss ('acc:', 0.85992444949479441)\n",
      "pass vaild loss ('acc:', 0.99752082506941686)\n",
      "pass vaild loss now ('acc:', 0.98615916955017302)\n",
      "test loss ('acc:', 0.86161783674221482)\n",
      "pass test loss ('acc:', 0.99376132018514796)\n",
      "pass test loss now ('acc:', 0.98518518518518516)\n",
      "2018-01-30 20:39:31\n",
      "best test loss: 0.308705762854\n",
      "rxz: 289 32561\n",
      "\n",
      "layer: 33\n"
     ]
    },
    {
     "name": "stdout",
     "output_type": "stream",
     "text": [
      "[p:320/1:166|n:22157/1:7404] 33 [p:147/np:11165] \n",
      "train loss ('acc:', 0.86671171032830685)\n",
      "pass train loss ('acc:', 0.99721261053440979)\n",
      "pass train loss now ('acc:', 0.98750000000000004)\n",
      "vaild loss ('acc:', 0.86081508553177111)\n",
      "pass vaild loss ('acc:', 0.99721261053440979)\n",
      "pass vaild loss now ('acc:', 0.98750000000000004)\n",
      "test loss ('acc:', 0.86419753086419748)\n",
      "pass test loss ('acc:', 0.99296325254104767)\n",
      "pass test loss now ('acc:', 0.96598639455782309)\n",
      "2018-01-30 20:39:34\n",
      "best test loss: 0.308405432824\n",
      "rxz: 320 32561\n",
      "\n",
      "layer: 34\n",
      "[p:285/1:53|n:21872/1:7351] \n",
      "layer: 35\n",
      "[p:343/1:77|n:21814/1:7327] \n",
      "layer: 36\n",
      "[p:279/1:105|n:21878/1:7299] \n",
      "layer: 37\n",
      "[p:249/1:60|n:21908/1:7344] \n",
      "layer: 38\n",
      "[p:290/1:100|n:21867/1:7304] \n",
      "layer: 39\n",
      "[p:222/1:27|n:21935/1:7377] \n",
      "layer: 40\n",
      "[p:301/1:45|n:21856/1:7359] \n",
      "layer: 41\n",
      "[p:268/1:48|n:21889/1:7356] \n",
      "layer: 42\n",
      "[p:226/1:52|n:21931/1:7352] \n",
      "layer: 43\n",
      "[p:297/1:101|n:21860/1:7303] \n",
      "layer: 44\n",
      "[p:263/1:84|n:21894/1:7320] \n",
      "layer: 45\n",
      "[p:335/1:38|n:21822/1:7366] \n",
      "layer: 46\n",
      "[p:369/1:85|n:21788/1:7319] \n",
      "layer: 47\n",
      "[p:247/1:22|n:21910/1:7382] \n",
      "layer: 48\n",
      "[p:376/1:176|n:21781/1:7228] \n",
      "layer: 49\n",
      "[p:232/1:42|n:21925/1:7362] \n",
      "layer: 50\n",
      "[p:317/1:110|n:21840/1:7294] 50 [p:153/np:11012] \n",
      "train loss ('acc:', 0.86671171032830685)\n",
      "pass train loss ('acc:', 0.99710847868668973)\n",
      "pass train loss now ('acc:', 0.99369085173501581)\n",
      "vaild loss ('acc:', 0.86017014219465004)\n",
      "pass vaild loss ('acc:', 0.99710847868668973)\n",
      "pass vaild loss now ('acc:', 0.99369085173501581)\n",
      "test loss ('acc:', 0.86303052638044342)\n",
      "pass test loss ('acc:', 0.99278800531410138)\n",
      "pass test loss now ('acc:', 0.98692810457516345)\n",
      "2018-01-30 20:40:40\n",
      "best test loss: 0.30877139553\n",
      "rxz: 317 32561\n",
      "\n",
      "layer: 51\n",
      "[p:299/1:76|n:21541/1:7218] 51 [p:135/np:10877] \n",
      "train loss ('acc:', 0.86652744080341515)\n",
      "pass train loss ('acc:', 0.99664246823956448)\n",
      "pass train loss now ('acc:', 0.97993311036789299)\n",
      "vaild loss ('acc:', 0.86035441171954175)\n",
      "pass vaild loss ('acc:', 0.99664246823956448)\n",
      "pass vaild loss now ('acc:', 0.97993311036789299)\n",
      "test loss ('acc:', 0.86241631349425707)\n",
      "pass test loss ('acc:', 0.99278312361213916)\n",
      "pass test loss now ('acc:', 0.99259259259259258)\n",
      "2018-01-30 20:40:44\n",
      "best test loss: 0.309074596745\n",
      "rxz: 299 32561\n",
      "\n",
      "layer: 52\n",
      "[p:284/1:25|n:21257/1:7193] \n",
      "layer: 53\n",
      "[p:384/1:207|n:21157/1:7011] \n",
      "layer: 54\n",
      "[p:253/1:60|n:21288/1:7158] \n",
      "layer: 55\n",
      "[p:242/1:65|n:21299/1:7153] 55 [p:102/np:10775] \n",
      "train loss ('acc:', 0.86668099874082494)\n",
      "pass train loss ('acc:', 0.99653702717101755)\n",
      "pass train loss now ('acc:', 0.99173553719008267)\n",
      "vaild loss ('acc:', 0.86121433616903653)\n",
      "pass vaild loss ('acc:', 0.99653702717101755)\n",
      "pass vaild loss now ('acc:', 0.99173553719008267)\n",
      "test loss ('acc:', 0.8635218966893925)\n",
      "pass test loss ('acc:', 0.99273519796585541)\n",
      "pass test loss now ('acc:', 0.99019607843137258)\n",
      "2018-01-30 20:40:59\n",
      "best test loss: 0.308615694536\n",
      "rxz: 242 32561\n",
      "\n",
      "layer: 56\n",
      "[p:366/1:99|n:20933/1:7054] \n",
      "layer: 57\n",
      "[p:392/1:96|n:20907/1:7057] \n",
      "layer: 58\n",
      "[p:408/1:136|n:20891/1:7017] 58 [p:202/np:10573] \n",
      "train loss ('acc:', 0.86698811461564451)\n",
      "pass train loss ('acc:', 0.99648671808054845)\n",
      "pass train loss now ('acc:', 0.99509803921568629)\n",
      "vaild loss ('acc:', 0.86032370013205983)\n",
      "pass vaild loss ('acc:', 0.99648671808054845)\n",
      "pass vaild loss now ('acc:', 0.99509803921568629)\n",
      "test loss ('acc:', 0.86364473926662977)\n",
      "pass test loss ('acc:', 0.99264190609670633)\n",
      "pass test loss now ('acc:', 0.99009900990099009)\n",
      "2018-01-30 20:41:10\n",
      "best test loss: 0.309666525457\n",
      "rxz: 408 32561\n",
      "\n",
      "layer: 59\n",
      "[p:232/1:45|n:20659/1:6972] 59 [p:135/np:10438] \n",
      "train loss ('acc:', 0.8675102116028377)\n",
      "pass train loss ('acc:', 0.99630314232902029)\n",
      "pass train loss now ('acc:', 0.98706896551724133)\n",
      "vaild loss ('acc:', 0.86041583489450568)\n",
      "pass vaild loss ('acc:', 0.99630314232902029)\n",
      "pass vaild loss now ('acc:', 0.98706896551724133)\n",
      "test loss ('acc:', 0.86303052638044342)\n",
      "pass test loss ('acc:', 0.99264076672941981)\n",
      "pass test loss now ('acc:', 0.99259259259259258)\n",
      "2018-01-30 20:41:14\n",
      "best test loss: 0.309519159266\n",
      "rxz: 232 32561\n",
      "\n",
      "layer: 60\n",
      "[p:572/1:41|n:20087/1:6931] \n",
      "layer: 61\n",
      "[p:254/1:94|n:20405/1:6878] \n",
      "layer: 62\n",
      "[p:233/1:27|n:20426/1:6945] \n",
      "layer: 63\n",
      "[p:260/1:47|n:20399/1:6925] \n",
      "layer: 64\n",
      "[p:228/1:47|n:20431/1:6925] \n",
      "layer: 65\n",
      "[p:304/1:49|n:20355/1:6923] 65 [p:159/np:10279] \n",
      "train loss ('acc:', 0.86720309572801824)\n",
      "pass train loss ('acc:', 0.99623136162543013)\n",
      "pass train loss now ('acc:', 0.99342105263157898)\n",
      "vaild loss ('acc:', 0.86075366235680717)\n",
      "pass vaild loss ('acc:', 0.99623136162543013)\n",
      "pass vaild loss now ('acc:', 0.99342105263157898)\n",
      "test loss ('acc:', 0.86266199864873161)\n",
      "pass test loss ('acc:', 0.99250249916694433)\n",
      "pass test loss now ('acc:', 0.98742138364779874)\n",
      "2018-01-30 20:41:37\n",
      "best test loss: 0.310495826357\n",
      "rxz: 304 32561\n",
      "\n",
      "layer: 66\n",
      "[p:344/1:60|n:20011/1:6863] 66 [p:189/np:10090] \n",
      "train loss ('acc:', 0.86677313350327079)\n",
      "pass train loss ('acc:', 0.99593625498007965)\n",
      "pass train loss now ('acc:', 0.98546511627906974)\n",
      "vaild loss ('acc:', 0.86084579711925313)\n",
      "pass vaild loss ('acc:', 0.99593625498007965)\n",
      "pass vaild loss now ('acc:', 0.98546511627906974)\n",
      "test loss ('acc:', 0.86358331797801113)\n",
      "pass test loss ('acc:', 0.99192376029720564)\n",
      "pass test loss now ('acc:', 0.97354497354497349)\n",
      "2018-01-30 20:41:41\n",
      "best test loss: 0.310348716423\n",
      "rxz: 344 32561\n",
      "\n",
      "layer: 67\n",
      "[p:296/1:26|n:19715/1:6837] 67 [p:145/np:9945] \n",
      "train loss ('acc:', 0.86631245969104143)\n",
      "pass train loss ('acc:', 0.99587420208625255)\n",
      "pass train loss now ('acc:', 0.9932432432432432)\n",
      "vaild loss ('acc:', 0.86099935505666292)\n",
      "pass vaild loss ('acc:', 0.99587420208625255)\n",
      "pass vaild loss now ('acc:', 0.9932432432432432)\n",
      "test loss ('acc:', 0.8635218966893925)\n",
      "pass test loss ('acc:', 0.99116161616161613)\n",
      "pass test loss now ('acc:', 0.95862068965517244)\n",
      "2018-01-30 20:41:44\n",
      "best test loss: 0.310106384041\n",
      "rxz: 296 32561\n",
      "\n",
      "layer: 68\n",
      "[p:274/1:130|n:19441/1:6707] 68 [p:127/np:9818] \n",
      "train loss ('acc:', 0.86692669144068057)\n",
      "pass train loss ('acc:', 0.99580792682926833)\n",
      "pass train loss now ('acc:', 0.99270072992700731)\n",
      "vaild loss ('acc:', 0.86066152759436132)\n",
      "pass vaild loss ('acc:', 0.99580792682926833)\n",
      "pass vaild loss now ('acc:', 0.99270072992700731)\n",
      "test loss ('acc:', 0.86413610957557885)\n",
      "pass test loss ('acc:', 0.99102583939347055)\n",
      "pass test loss now ('acc:', 0.98425196850393704)\n",
      "2018-01-30 20:41:48\n",
      "best test loss: 0.310663582994\n",
      "rxz: 274 32561\n",
      "\n",
      "layer: 69\n",
      "[p:280/1:74|n:19161/1:6633] 69 [p:146/np:9672] \n",
      "train loss ('acc:', 0.86704953779060845)\n",
      "pass train loss ('acc:', 0.99537313432835817)\n",
      "pass train loss now ('acc:', 0.97499999999999998)\n",
      "vaild loss ('acc:', 0.85958662203249281)\n",
      "pass vaild loss ('acc:', 0.99537313432835817)\n",
      "pass vaild loss now ('acc:', 0.97499999999999998)\n",
      "test loss ('acc:', 0.86198636447392663)\n",
      "pass test loss ('acc:', 0.98986230897261307)\n",
      "pass test loss now ('acc:', 0.93835616438356162)\n",
      "2018-01-30 20:41:52\n",
      "best test loss: 0.31177726983\n",
      "rxz: 280 32561\n",
      "\n",
      "layer: 70\n",
      "[p:324/1:118|n:18837/1:6515] 70 [p:167/np:9505] \n",
      "train loss ('acc:', 0.86683455667823472)\n",
      "pass train loss ('acc:', 0.99519090644127073)\n",
      "pass train loss now ('acc:', 0.98765432098765427)\n",
      "vaild loss ('acc:', 0.86078437394428919)\n",
      "pass vaild loss ('acc:', 0.99519090644127073)\n",
      "pass vaild loss now ('acc:', 0.98765432098765427)\n",
      "test loss ('acc:', 0.86223204962840116)\n",
      "pass test loss ('acc:', 0.98966942148760328)\n",
      "pass test loss now ('acc:', 0.98203592814371254)\n",
      "2018-01-30 20:41:56\n",
      "best test loss: 0.312551510151\n",
      "rxz: 324 32561\n",
      "\n",
      "layer: 71\n",
      "[p:271/1:30|n:18566/1:6485] 71 [p:127/np:9378] \n",
      "train loss ('acc:', 0.86695740302816249)\n",
      "pass train loss ('acc:', 0.99506966773847805)\n",
      "pass train loss now ('acc:', 0.98892988929889303)\n",
      "vaild loss ('acc:', 0.85927950615767335)\n",
      "pass vaild loss ('acc:', 0.99506966773847805)\n",
      "pass vaild loss now ('acc:', 0.98892988929889303)\n",
      "test loss ('acc:', 0.86223204962840116)\n",
      "pass test loss ('acc:', 0.9892800231783283)\n",
      "pass test loss now ('acc:', 0.96850393700787396)\n",
      "2018-01-30 20:41:59\n",
      "best test loss: 0.3129713649\n",
      "rxz: 271 32561\n",
      "\n",
      "layer: 72\n",
      "[p:256/1:100|n:18310/1:6385] 72 [p:143/np:9235] \n",
      "train loss ('acc:', 0.86677313350327079)\n",
      "pass train loss ('acc:', 0.9947372114237597)\n",
      "pass train loss now ('acc:', 0.9765625)\n",
      "vaild loss ('acc:', 0.85943306409508302)\n",
      "pass vaild loss ('acc:', 0.9947372114237597)\n",
      "pass vaild loss now ('acc:', 0.9765625)\n",
      "test loss ('acc:', 0.86284626251458751)\n",
      "pass test loss ('acc:', 0.98907181379506104)\n",
      "pass test loss now ('acc:', 0.97902097902097907)\n",
      "2018-01-30 20:42:03\n",
      "best test loss: 0.313335065674\n",
      "rxz: 256 32561\n",
      "\n",
      "layer: 73\n"
     ]
    },
    {
     "name": "stdout",
     "output_type": "stream",
     "text": [
      "[p:199/1:29|n:18111/1:6356] 73 [p:105/np:9130] \n",
      "train loss ('acc:', 0.86818586652744079)\n",
      "pass train loss ('acc:', 0.99432525951557094)\n",
      "pass train loss now ('acc:', 0.96482412060301503)\n",
      "vaild loss ('acc:', 0.86035441171954175)\n",
      "pass vaild loss ('acc:', 0.99432525951557094)\n",
      "pass vaild loss now ('acc:', 0.96482412060301503)\n",
      "test loss ('acc:', 0.86303052638044342)\n",
      "pass test loss ('acc:', 0.98853307229758081)\n",
      "pass test loss now ('acc:', 0.95238095238095233)\n",
      "2018-01-30 20:42:07\n",
      "best test loss: 0.313646230317\n",
      "rxz: 199 32561\n",
      "\n",
      "layer: 74\n",
      "[p:274/1:34|n:17837/1:6322] 74 [p:125/np:9005] \n",
      "train loss ('acc:', 0.86787875065262121)\n",
      "pass train loss ('acc:', 0.99395544688943227)\n",
      "pass train loss now ('acc:', 0.97445255474452552)\n",
      "vaild loss ('acc:', 0.86066152759436132)\n",
      "pass vaild loss ('acc:', 0.99395544688943227)\n",
      "pass vaild loss now ('acc:', 0.97445255474452552)\n",
      "test loss ('acc:', 0.86364473926662977)\n",
      "pass test loss ('acc:', 0.98763056624518963)\n",
      "pass test loss now ('acc:', 0.93600000000000005)\n",
      "2018-01-30 20:42:10\n",
      "best test loss: 0.31416130057\n",
      "rxz: 274 32561\n",
      "\n",
      "layer: 75\n",
      "[p:203/1:32|n:17634/1:6290] \n",
      "layer: 76\n",
      "[p:259/1:16|n:17578/1:6306] \n",
      "layer: 77\n",
      "[p:399/1:42|n:17438/1:6280] 77 [p:181/np:8824] \n",
      "train loss ('acc:', 0.86806302017751302)\n",
      "pass train loss ('acc:', 0.99325530648680815)\n",
      "pass train loss now ('acc:', 0.96741854636591473)\n",
      "vaild loss ('acc:', 0.86035441171954175)\n",
      "pass vaild loss ('acc:', 0.99325530648680815)\n",
      "pass vaild loss now ('acc:', 0.96741854636591473)\n",
      "test loss ('acc:', 0.86278484122596888)\n",
      "pass test loss ('acc:', 0.98645567922757138)\n",
      "pass test loss now ('acc:', 0.94475138121546964)\n",
      "2018-01-30 20:42:21\n",
      "best test loss: 0.314909760354\n",
      "rxz: 399 32561\n",
      "\n",
      "layer: 78\n",
      "[p:236/1:24|n:17202/1:6256] \n",
      "layer: 79\n",
      "[p:281/1:13|n:17157/1:6267] \n",
      "layer: 80\n",
      "[p:314/1:67|n:17124/1:6213] 80 [p:147/np:8677] \n",
      "train loss ('acc:', 0.86809373176499494)\n",
      "pass train loss ('acc:', 0.99280948370797439)\n",
      "pass train loss now ('acc:', 0.9713375796178344)\n",
      "vaild loss ('acc:', 0.86044654648198771)\n",
      "pass vaild loss ('acc:', 0.99274470428192008)\n",
      "pass vaild loss now ('acc:', 0.96815286624203822)\n",
      "test loss ('acc:', 0.86364473926662977)\n",
      "pass test loss ('acc:', 0.98592845870594426)\n",
      "pass test loss now ('acc:', 0.95918367346938771)\n",
      "2018-01-30 20:42:32\n",
      "best test loss: 0.315070849552\n",
      "rxz: 314 32561\n",
      "\n",
      "layer: 81\n",
      "[p:194/1:16|n:16930/1:6197] 81 [p:89/np:8588] \n",
      "train loss ('acc:', 0.86840084763981451)\n",
      "pass train loss ('acc:', 0.99219499712110548)\n",
      "pass train loss now ('acc:', 0.94329896907216493)\n",
      "vaild loss ('acc:', 0.86127575934400047)\n",
      "pass vaild loss ('acc:', 0.99213102168767198)\n",
      "pass vaild loss now ('acc:', 0.94329896907216493)\n",
      "test loss ('acc:', 0.86346047540077386)\n",
      "pass test loss ('acc:', 0.98531132198102167)\n",
      "pass test loss now ('acc:', 0.93258426966292129)\n",
      "2018-01-30 20:42:36\n",
      "best test loss: 0.314999737752\n",
      "rxz: 194 32561\n",
      "\n",
      "layer: 82\n",
      "[p:222/1:20|n:16708/1:6177] \n",
      "layer: 83\n",
      "[p:265/1:37|n:16665/1:6160] \n",
      "layer: 84\n",
      "[p:203/1:10|n:16727/1:6187] \n",
      "layer: 85\n",
      "[p:284/1:13|n:16646/1:6184] \n",
      "layer: 86\n",
      "[p:181/1:17|n:16749/1:6180] 86 [p:76/np:8512] \n",
      "train loss ('acc:', 0.86867725192715206)\n",
      "pass train loss ('acc:', 0.99184163926132052)\n",
      "pass train loss now ('acc:', 0.96132596685082872)\n",
      "vaild loss ('acc:', 0.86060010441939749)\n",
      "pass vaild loss ('acc:', 0.99177839615481911)\n",
      "pass vaild loss now ('acc:', 0.96132596685082872)\n",
      "test loss ('acc:', 0.86407468828696021)\n",
      "pass test loss ('acc:', 0.98506886343158706)\n",
      "pass test loss now ('acc:', 0.97368421052631582)\n",
      "2018-01-30 20:42:53\n",
      "best test loss: 0.315510563651\n",
      "rxz: 181 32561\n",
      "\n",
      "layer: 87\n",
      "[p:243/1:34|n:16506/1:6146] \n",
      "layer: 88\n",
      "[p:256/1:26|n:16493/1:6154] \n",
      "layer: 89\n",
      "[p:217/1:37|n:16532/1:6143] \n",
      "layer: 90\n",
      "[p:188/1:15|n:16561/1:6165] \n",
      "layer: 91\n",
      "[p:245/1:22|n:16504/1:6158] \n",
      "layer: 92\n",
      "[p:340/1:39|n:16409/1:6141] \n",
      "layer: 93\n",
      "[p:256/1:54|n:16493/1:6126] \n",
      "layer: 94\n",
      "[p:171/1:26|n:16578/1:6154] \n",
      "layer: 95\n",
      "[p:211/1:37|n:16538/1:6143] 95 [p:114/np:8398] \n",
      "train loss ('acc:', 0.86763305795276557)\n",
      "pass train loss ('acc:', 0.99132497035511458)\n",
      "pass train loss now ('acc:', 0.95260663507109)\n",
      "vaild loss ('acc:', 0.86078437394428919)\n",
      "pass vaild loss ('acc:', 0.99120014978468451)\n",
      "pass vaild loss now ('acc:', 0.95260663507109)\n",
      "test loss ('acc:', 0.8624777347828757)\n",
      "pass test loss ('acc:', 0.98414309273119371)\n",
      "pass test loss now ('acc:', 0.92982456140350878)\n",
      "2018-01-30 20:43:26\n",
      "best test loss: 0.316074475758\n",
      "rxz: 211 32561\n",
      "\n",
      "layer: 96\n",
      "[p:176/1:20|n:16362/1:6123] 96 [p:90/np:8308] \n",
      "train loss ('acc:', 0.86757163477780164)\n",
      "pass train loss ('acc:', 0.99061670473486019)\n",
      "pass train loss now ('acc:', 0.92613636363636365)\n",
      "vaild loss ('acc:', 0.86099935505666292)\n",
      "pass vaild loss ('acc:', 0.99049324032347674)\n",
      "pass vaild loss now ('acc:', 0.92613636363636365)\n",
      "test loss ('acc:', 0.86260057736011297)\n",
      "pass test loss ('acc:', 0.98419666374012293)\n",
      "pass test loss now ('acc:', 0.98888888888888893)\n",
      "2018-01-30 20:43:30\n",
      "best test loss: 0.316481418084\n",
      "rxz: 176 32561\n",
      "\n",
      "layer: 97\n",
      "[p:338/1:44|n:16024/1:6079] 97 [p:158/np:8150] \n",
      "train loss ('acc:', 0.86809373176499494)\n",
      "pass train loss ('acc:', 0.98935719900828445)\n",
      "pass train loss now ('acc:', 0.92899408284023666)\n",
      "vaild loss ('acc:', 0.86032370013205983)\n",
      "pass vaild loss ('acc:', 0.98917578762774383)\n",
      "pass vaild loss now ('acc:', 0.92899408284023666)\n",
      "test loss ('acc:', 0.86241631349425707)\n",
      "pass test loss ('acc:', 0.98179805681957943)\n",
      "pass test loss now ('acc:', 0.86708860759493667)\n",
      "2018-01-30 20:43:34\n",
      "best test loss: 0.317169806697\n",
      "rxz: 338 32561\n",
      "\n",
      "layer: 98\n",
      "[p:182/1:23|n:15842/1:6056] 98 [p:100/np:8050] \n",
      "train loss ('acc:', 0.8690765025644176)\n",
      "pass train loss ('acc:', 0.98881512052156229)\n",
      "pass train loss now ('acc:', 0.94505494505494503)\n",
      "vaild loss ('acc:', 0.86136789410644632)\n",
      "pass vaild loss ('acc:', 0.98857587176266526)\n",
      "pass vaild loss now ('acc:', 0.94505494505494503)\n",
      "test loss ('acc:', 0.86327621153491796)\n",
      "pass test loss ('acc:', 0.98129024419876076)\n",
      "pass test loss now ('acc:', 0.94999999999999996)\n",
      "2018-01-30 20:43:37\n",
      "best test loss: 0.317626798262\n",
      "rxz: 182 32561\n",
      "\n",
      "layer: 99\n",
      "[p:187/1:107|n:15655/1:5949] \n",
      "layer: 100\n",
      "[p:174/1:20|n:15668/1:6036] 100 [p:100/np:7950] \n",
      "train loss ('acc:', 0.86923006050182738)\n",
      "pass train loss ('acc:', 0.98851595335345999)\n",
      "pass train loss now ('acc:', 0.95977011494252873)\n",
      "vaild loss ('acc:', 0.86127575934400047)\n",
      "pass vaild loss ('acc:', 0.98827916888652101)\n",
      "pass vaild loss now ('acc:', 0.95977011494252873)\n",
      "test loss ('acc:', 0.86413610957557885)\n",
      "pass test loss ('acc:', 0.98103468971311969)\n",
      "pass test loss now ('acc:', 0.95999999999999996)\n",
      "2018-01-30 20:43:44\n",
      "best test loss: 0.317626350744\n",
      "rxz: 174 32561\n",
      "\n",
      "layer: 101\n",
      "[p:182/1:29|n:15486/1:6007] "
     ]
    }
   ],
   "source": [
    "# 统计信息\n",
    "train_loss_lt = []\n",
    "pass_train_loss_lt = []\n",
    "pass_train_loss_lt_now = []\n",
    "vaild_loss_lt = []\n",
    "pass_vaild_loss_lt = []\n",
    "pass_vaild_loss_lt_now = []\n",
    "test_loss_lt = []\n",
    "pass_test_loss_lt = []\n",
    "pass_test_loss_lt_now = []\n",
    "pass_data_rate_lt = []\n",
    "pass_data_rate_test_lt = []\n",
    "\n",
    "# 数据\n",
    "X = X_train.copy()\n",
    "y = y_train.copy()\n",
    "\n",
    "X_test = X_sub.copy()\n",
    "test_y = np.array(([0.0] * len(X_test)))\n",
    "all_data_mask = np.array([False] * len(X_test))\n",
    "data_mask = np.array([False] * len(X_test))\n",
    "real_y = y_sub.copy()\n",
    "\n",
    "# 不均衡数据进行layer\n",
    "X_train_np = X\n",
    "y_train_np = y\n",
    "maxlayer = 100\n",
    "layer = 0\n",
    "\n",
    "# 不降低不更新\n",
    "last_train_loss = 0\n",
    "last_vaild_loss = 0\n",
    "\n",
    "enhancedDTree = EnhancedForest.EnhancedForest(len(X_train), len(X_test))\n",
    "counter = 0\n",
    "early_stop = 0\n",
    "early_stop_up = 0\n",
    "\n",
    "while 1:\n",
    "    layer += 1\n",
    "    print()\n",
    "    print(\"layer:\", layer)\n",
    "    X = X_train_np\n",
    "    y = y_train_np\n",
    "    if layer == 1: isFirst = True\n",
    "    else: isFirst = False\n",
    "        \n",
    "    clf, data_mask, all_false_data_index, p_test = \\\n",
    "        enhancedDTree.TrainModelLayer(X, y, X_test, all_data_mask, test_y, real_y, verbose=False, \\\n",
    "                                      feval=log_loss_metrix, dropout=0.8, criterion='gini', random_state=layer, \\\n",
    "                                      isFirst=isFirst, min_samples_leaf=10\\\n",
    "                                     )\n",
    "    feval=acc_metrix\n",
    "    train_loss = enhancedDTree.getTrainLoss(feval)\n",
    "    pass_train_loss = enhancedDTree.getPassTrainLoss(feval)\n",
    "    pass_train_loss_now = enhancedDTree.getPassTrainLossNow(feval)\n",
    "    vaild_loss = enhancedDTree.getVaildLoss(feval)\n",
    "    pass_vaild_loss = enhancedDTree.getPassVaildLoss(feval)\n",
    "    pass_vaild_loss_now = enhancedDTree.getPassVaildLossNow(feval)\n",
    "    test_loss = enhancedDTree.getTestLoss(feval)\n",
    "    pass_test_loss = enhancedDTree.getPassTestLoss(feval)\n",
    "    pass_test_loss_now = enhancedDTree.getPassTestLossNow(feval)\n",
    "    \n",
    "    if train_loss[1] < last_train_loss and vaild_loss[1] < last_vaild_loss: \n",
    "#     if vaild_loss[1] < last_vaild_loss: \n",
    "        if not isFirst: enhancedDTree.remove_last_items()\n",
    "#         early_stop_up += 1\n",
    "        if layer > maxlayer or early_stop > 5 or early_stop_up > 15:\n",
    "            break\n",
    "        continue\n",
    "        \n",
    "    last_train_loss = train_loss[1]\n",
    "    last_vaild_loss = vaild_loss[1]\n",
    "    \n",
    "    X_train_np = enhancedDTree.X_train_np\n",
    "    y_train_np = enhancedDTree.y_train_np\n",
    "    \n",
    "    # 打印信息\n",
    "    pass_data_id = data_mask[data_mask==True]\n",
    "#     all_false_data_index = np.where(all_data_mask == False)[0]\n",
    "    X_test_np = X_test[all_false_data_index]\n",
    "    print(\"%d [p:%d/np:%d] \" % (layer, len(pass_data_id), len(X_test_np) - len(pass_data_id)))#, end=\"\")\n",
    "    if len(pass_data_id) == 0: early_stop += 1\n",
    "        \n",
    "    print(\"train loss\", train_loss)\n",
    "    print(\"pass train loss\", pass_train_loss)\n",
    "    print(\"pass train loss now\", pass_train_loss_now)\n",
    "    print(\"vaild loss\", vaild_loss)\n",
    "    print(\"pass vaild loss\", pass_vaild_loss)\n",
    "    print(\"pass vaild loss now\", pass_vaild_loss_now)\n",
    "    print(\"test loss\", test_loss)\n",
    "    print(\"pass test loss\", pass_test_loss)\n",
    "    print(\"pass test loss now\", pass_test_loss_now)\n",
    "    \n",
    "    ts = time.time()\n",
    "    tm = datetime.datetime.fromtimestamp(ts).strftime('%Y-%m-%d %H:%M:%S')\n",
    "    print(tm)\n",
    "    \n",
    "    \n",
    "#     tmp_all_data_mask = all_false_data_index[~data_mask]\n",
    "#     test_y[tmp_all_data_mask] = p_test[~data_mask]\n",
    "    tmp_test_loss = metrics.log_loss(y_sub, test_y)\n",
    "#     tmp_test_loss = metrics.accuracy_score(y_sub, test_y)\n",
    "    best_test_y = test_y.copy()\n",
    "    print(\"best test loss:\", tmp_test_loss)\n",
    "    \n",
    "    train_loss_lt.append(train_loss[1])\n",
    "    pass_train_loss_lt.append(pass_train_loss[1])\n",
    "    pass_train_loss_lt_now.append(pass_train_loss_now[1])\n",
    "    vaild_loss_lt.append(vaild_loss[1])\n",
    "    pass_vaild_loss_lt.append(pass_vaild_loss[1])\n",
    "    pass_vaild_loss_lt_now.append(pass_vaild_loss_now[1])\n",
    "    test_loss_lt.append(test_loss[1])\n",
    "    pass_test_loss_lt.append(pass_test_loss[1])\n",
    "    pass_test_loss_lt_now.append(pass_test_loss_now[1])\n",
    "    if len(pass_data_rate_lt) == 0:\n",
    "        pass_data_rate_lt.append(len(data_mask[data_mask==True])/len(X_test))\n",
    "        pass_data_rate_test_lt.append(0)\n",
    "    else:\n",
    "        pass_data_rate_lt.append(pass_data_rate_lt[-1]+len(data_mask[data_mask==True])/len(X_test))\n",
    "        pass_data_rate_test_lt.append(pass_data_rate_test_lt[-1]+len(enhancedDTree.pass_data_y_list[-1])/len(X_train))\n",
    "        print(\"rxz:\",len(enhancedDTree.pass_data_y_list[-1]),len(X_train) )\n",
    "    # 打印信息结束\n",
    "    \n",
    "#     if X_train_np.shape[0] < 10 or layer > maxlayer or y_train_np[y_train_np==1].shape[0] <= 10 or early_stop > 5:\n",
    "    if layer > maxlayer or early_stop > 5:\n",
    "        break\n",
    "        \n",
    "    all_data_mask[~all_data_mask] = data_mask"
   ]
  },
  {
   "cell_type": "code",
   "execution_count": 21,
   "metadata": {},
   "outputs": [
    {
     "data": {
      "text/plain": [
       "0.5117007554818503"
      ]
     },
     "execution_count": 21,
     "metadata": {},
     "output_type": "execute_result"
    }
   ],
   "source": [
    "pass_data_rate_lt[-1]"
   ]
  },
  {
   "cell_type": "code",
   "execution_count": null,
   "metadata": {
    "collapsed": true
   },
   "outputs": [],
   "source": []
  },
  {
   "cell_type": "code",
   "execution_count": 51,
   "metadata": {},
   "outputs": [
    {
     "name": "stdout",
     "output_type": "stream",
     "text": [
      "[0.86554467000399249, 0.86671171032830685, 0.86658886397837909, 0.86760234636528366, 0.86640459445348728]\n",
      "[0.85989373790731238, 0.86017014219465004, 0.86103006664414483, 0.86035441171954175, 0.86041583489450568]\n",
      "[0.86198636447392663, 0.86192494318530799, 0.86303052638044342, 0.86278484122596888, 0.86272341993735024]\n"
     ]
    }
   ],
   "source": [
    "print(train_loss_lt[:5])\n",
    "print(vaild_loss_lt[:5])\n",
    "print(test_loss_lt[:5])"
   ]
  },
  {
   "cell_type": "code",
   "execution_count": null,
   "metadata": {
    "collapsed": true
   },
   "outputs": [],
   "source": []
  },
  {
   "cell_type": "code",
   "execution_count": 44,
   "metadata": {
    "collapsed": true
   },
   "outputs": [
    {
     "data": {
      "text/plain": [
       "array([ 0.00283108,  0.32640947,  0.32864129, ...,  0.72223536,\n",
       "        0.42878477,  0.67823454])"
      ]
     },
     "execution_count": 44,
     "metadata": {},
     "output_type": "execute_result"
    }
   ],
   "source": [
    "test_y"
   ]
  },
  {
   "cell_type": "code",
   "execution_count": 45,
   "metadata": {},
   "outputs": [
    {
     "name": "stdout",
     "output_type": "stream",
     "text": [
      "data auc 0.913599035316\n",
      "data auc 0.913340154032\n",
      "data log 0.308247311112\n",
      "data log 0.308879008128\n",
      "data acc 0.861863521897\n",
      "data acc 0.862661998649\n"
     ]
    },
    {
     "data": {
      "text/plain": [
       "0.86389042442110431"
      ]
     },
     "execution_count": 45,
     "metadata": {},
     "output_type": "execute_result"
    }
   ],
   "source": [
    "# 0123\n",
    "print(\"data auc\", metrics.roc_auc_score(y_sub, test_y))\n",
    "print(\"data auc\", metrics.roc_auc_score(y_sub, best_test_y))\n",
    "print(\"data log\", metrics.log_loss(y_sub, test_y))\n",
    "print(\"data log\", metrics.log_loss(y_sub, best_test_y))\n",
    "print(\"data acc\", acc_prob(y_sub, test_y))\n",
    "print(\"data acc\", acc_prob(y_sub, best_test_y))\n",
    "np.max(np.array(test_loss_lt))"
   ]
  },
  {
   "cell_type": "code",
   "execution_count": 46,
   "metadata": {},
   "outputs": [
    {
     "name": "stdout",
     "output_type": "stream",
     "text": [
      "data auc 0.913599035316\n",
      "data auc 0.913340154032\n",
      "data log 0.308247311112\n",
      "data log 0.308879008128\n",
      "data acc 0.861863521897\n",
      "data acc 0.862661998649\n"
     ]
    }
   ],
   "source": [
    "# acc_metrix 100 get_data_mask_of_ests\n",
    "print(\"data auc\", metrics.roc_auc_score(y_sub, test_y))\n",
    "print(\"data auc\", metrics.roc_auc_score(y_sub, best_test_y))\n",
    "print(\"data log\", metrics.log_loss(y_sub, test_y))\n",
    "print(\"data log\", metrics.log_loss(y_sub, best_test_y))\n",
    "print(\"data acc\", acc_prob(y_sub, test_y))\n",
    "print(\"data acc\", acc_prob(y_sub, best_test_y))"
   ]
  },
  {
   "cell_type": "code",
   "execution_count": 173,
   "metadata": {},
   "outputs": [
    {
     "name": "stdout",
     "output_type": "stream",
     "text": [
      "data auc 0.913904053549\n",
      "data auc 0.914122830293\n",
      "data log 0.307015790075\n",
      "data log 0.306779828927\n",
      "data acc 0.862416313494\n",
      "data acc 0.861003623856\n"
     ]
    }
   ],
   "source": [
    "# acc_metrix 100 right\n",
    "print(\"data auc\", metrics.roc_auc_score(y_sub, test_y))\n",
    "print(\"data auc\", metrics.roc_auc_score(y_sub, best_test_y))\n",
    "print(\"data log\", metrics.log_loss(y_sub, test_y))\n",
    "print(\"data log\", metrics.log_loss(y_sub, best_test_y))\n",
    "print(\"data acc\", acc_prob(y_sub, test_y))\n",
    "print(\"data acc\", acc_prob(y_sub, best_test_y))"
   ]
  },
  {
   "cell_type": "code",
   "execution_count": 164,
   "metadata": {},
   "outputs": [
    {
     "name": "stdout",
     "output_type": "stream",
     "text": [
      "data auc 0.914001826659\n",
      "data auc 0.913972375542\n",
      "data log 0.306830883696\n",
      "data log 0.306505943699\n",
      "data acc 0.861617836742\n",
      "data acc 0.861065045145\n"
     ]
    }
   ],
   "source": [
    "# acc_metrix 100\n",
    "print(\"data auc\", metrics.roc_auc_score(y_sub, test_y))\n",
    "print(\"data auc\", metrics.roc_auc_score(y_sub, best_test_y))\n",
    "print(\"data log\", metrics.log_loss(y_sub, test_y))\n",
    "print(\"data log\", metrics.log_loss(y_sub, best_test_y))\n",
    "print(\"data acc\", acc_prob(y_sub, test_y))\n",
    "print(\"data acc\", acc_prob(y_sub, best_test_y))"
   ]
  },
  {
   "cell_type": "code",
   "execution_count": 162,
   "metadata": {},
   "outputs": [
    {
     "name": "stdout",
     "output_type": "stream",
     "text": [
      "data auc 0.914404921191\n",
      "data auc 0.91454616528\n",
      "data log 0.30602236627\n",
      "data log 0.305093805995\n",
      "data acc 0.862539156071\n",
      "data acc 0.862477734783\n"
     ]
    }
   ],
   "source": [
    "# log_loss_metrix 500\n",
    "print(\"data auc\", metrics.roc_auc_score(y_sub, test_y))\n",
    "print(\"data auc\", metrics.roc_auc_score(y_sub, best_test_y))\n",
    "print(\"data log\", metrics.log_loss(y_sub, test_y))\n",
    "print(\"data log\", metrics.log_loss(y_sub, best_test_y))\n",
    "print(\"data acc\", acc_prob(y_sub, test_y))\n",
    "print(\"data acc\", acc_prob(y_sub, best_test_y))"
   ]
  },
  {
   "cell_type": "code",
   "execution_count": 160,
   "metadata": {},
   "outputs": [
    {
     "name": "stdout",
     "output_type": "stream",
     "text": [
      "data auc 0.913834654713\n",
      "data auc 0.914520321062\n",
      "data log 0.306926614716\n",
      "data log 0.305296907346\n",
      "data acc 0.861494994165\n",
      "data acc 0.863091947669\n"
     ]
    }
   ],
   "source": [
    "# log_loss_metrix 100\n",
    "print(\"data auc\", metrics.roc_auc_score(y_sub, test_y))\n",
    "print(\"data auc\", metrics.roc_auc_score(y_sub, best_test_y))\n",
    "print(\"data log\", metrics.log_loss(y_sub, test_y))\n",
    "print(\"data log\", metrics.log_loss(y_sub, best_test_y))\n",
    "print(\"data acc\", acc_prob(y_sub, test_y))\n",
    "print(\"data acc\", acc_prob(y_sub, best_test_y))"
   ]
  },
  {
   "cell_type": "code",
   "execution_count": 18,
   "metadata": {},
   "outputs": [
    {
     "data": {
      "image/png": "[encoded data removed]",
      "text/plain": [
       "<matplotlib.figure.Figure at 0x1baeeb14668>"
      ]
     },
     "metadata": {},
     "output_type": "display_data"
    }
   ],
   "source": [
    "# 0123\n",
    "import matplotlib.pyplot as plt\n",
    "\n",
    "plt.figure(figsize=(10,10))\n",
    "x = range(len(train_loss_lt))\n",
    "\n",
    "plt.subplot(221)\n",
    "plt.plot(x[1:],pass_train_loss_lt[1:], label=\"train-pass\", color=\"blue\")\n",
    "plt.plot(x[1:],pass_vaild_loss_lt[1:], label=\"vaild-pass\", color=\"green\")\n",
    "plt.plot(x[1:],pass_test_loss_lt[1:], label=\"test-pass\", color=\"red\")\n",
    "plt.legend()\n",
    "plt.subplot(222)\n",
    "plt.plot(x[1:],pass_train_loss_lt_now[1:], label=\"train-pass-now\", color=\"blue\")\n",
    "plt.plot(x[1:],pass_vaild_loss_lt_now[1:], label=\"vaild-pass-now\", color=\"green\")\n",
    "plt.plot(x[1:],pass_test_loss_lt_now[1:], label=\"test-pass-now\", color=\"red\")\n",
    "plt.legend()\n",
    "plt.subplot(223)\n",
    "plt.plot(x,train_loss_lt, label=\"train-loss\", color=\"blue\")\n",
    "plt.plot(x,vaild_loss_lt, label=\"vaild-loss\", color=\"green\")\n",
    "plt.plot(x,test_loss_lt, label=\"test-loss\", color=\"red\")\n",
    "plt.legend()\n",
    "plt.subplot(224)\n",
    "plt.plot(x,pass_data_rate_lt[:], label=\"data-pass-rate\")\n",
    "plt.plot(x,pass_data_rate_test_lt[:], label=\"data-pass-rate\")\n",
    "plt.legend()\n",
    "\n",
    "plt.show()"
   ]
  },
  {
   "cell_type": "code",
   "execution_count": 53,
   "metadata": {},
   "outputs": [
    {
     "data": {
      "image/png": "[encoded data removed]",
      "text/plain": [
       "<matplotlib.figure.Figure at 0x263ecf2d898>"
      ]
     },
     "metadata": {},
     "output_type": "display_data"
    }
   ],
   "source": [
    "# 0130\n",
    "import matplotlib.pyplot as plt\n",
    "\n",
    "plt.figure(figsize=(10,10))\n",
    "x = range(len(train_loss_lt))\n",
    "\n",
    "plt.subplot(221)\n",
    "plt.plot(x[1:],pass_train_loss_lt[1:], label=\"train-pass\", color=\"blue\")\n",
    "plt.plot(x[1:],pass_vaild_loss_lt[1:], label=\"vaild-pass\", color=\"green\")\n",
    "plt.plot(x[1:],pass_test_loss_lt[1:], label=\"test-pass\", color=\"red\")\n",
    "plt.legend()\n",
    "plt.subplot(222)\n",
    "plt.plot(x[1:],pass_train_loss_lt_now[1:], label=\"train-pass-now\", color=\"blue\")\n",
    "plt.plot(x[1:],pass_vaild_loss_lt_now[1:], label=\"vaild-pass-now\", color=\"green\")\n",
    "plt.plot(x[1:],pass_test_loss_lt_now[1:], label=\"test-pass-now\", color=\"red\")\n",
    "plt.legend()\n",
    "plt.subplot(223)\n",
    "plt.plot(x,train_loss_lt, label=\"train-loss\", color=\"blue\")\n",
    "plt.plot(x,vaild_loss_lt, label=\"vaild-loss\", color=\"green\")\n",
    "plt.plot(x,test_loss_lt, label=\"test-loss\", color=\"red\")\n",
    "plt.legend()\n",
    "plt.subplot(224)\n",
    "plt.plot(x,pass_data_rate_lt[:], label=\"data-pass-rate\")\n",
    "plt.legend()\n",
    "\n",
    "plt.show()"
   ]
  },
  {
   "cell_type": "code",
   "execution_count": 54,
   "metadata": {},
   "outputs": [
    {
     "data": {
      "text/plain": [
       "[0.0,\n",
       " 0.22007247712057,\n",
       " 0.2553282967876666,\n",
       " 0.26828818868619864,\n",
       " 0.2712364105398931,\n",
       " 0.275290215588723,\n",
       " 0.2802039186782138,\n",
       " 0.2821079786253915,\n",
       " 0.2868374178490264,\n",
       " 0.2886186352189668,\n",
       " 0.28996990356857677,\n",
       " 0.29119832934094947,\n",
       " 0.2926724402677967,\n",
       " 0.29310238928812715,\n",
       " 0.2940851299060253,\n",
       " 0.2949450279466862,\n",
       " 0.29611203243044026,\n",
       " 0.2979546710889993,\n",
       " 0.2986303052638043,\n",
       " 0.2991216755727534,\n",
       " 0.2995516245930838,\n",
       " 0.3003501013451261,\n",
       " 0.3009028929426938,\n",
       " 0.3010871568085497,\n",
       " 0.30188563356059195,\n",
       " 0.3024998464467783,\n",
       " 0.30256126773539693,\n",
       " 0.30274553160125284,\n",
       " 0.30311405933296465,\n",
       " 0.30329832319882055,\n",
       " 0.30366685093053236,\n",
       " 0.30397395737362554,\n",
       " 0.3040967999508628]"
      ]
     },
     "execution_count": 54,
     "metadata": {},
     "output_type": "execute_result"
    }
   ],
   "source": [
    "pass_data_rate_lt"
   ]
  },
  {
   "cell_type": "code",
   "execution_count": 19,
   "metadata": {},
   "outputs": [
    {
     "data": {
      "text/plain": [
       "[0,\n",
       " 0.22078560240778847,\n",
       " 0.2552440035625442,\n",
       " 0.26731365744295327,\n",
       " 0.2701698350787753,\n",
       " 0.273916648751574,\n",
       " 0.2787690795737232,\n",
       " 0.2814102760971715,\n",
       " 0.2861091489819109,\n",
       " 0.2879518442308283,\n",
       " 0.2892417309050705,\n",
       " 0.29013236694204725,\n",
       " 0.29120727250391576,\n",
       " 0.2920979085408925,\n",
       " 0.2928964098154234,\n",
       " 0.2941248733147017,\n",
       " 0.29489266300175065,\n",
       " 0.2970117625380057,\n",
       " 0.2979638217499464,\n",
       " 0.29848591873713964,\n",
       " 0.2992537084241886,\n",
       " 0.3005128835109488,\n",
       " 0.30085071097325033,\n",
       " 0.30112711526058794,\n",
       " 0.3015877890728173,\n",
       " 0.3018949049476369,\n",
       " 0.3022327324099384,\n",
       " 0.3026934062221678,\n",
       " 0.30278554098461363,\n",
       " 0.3029698105095054,\n",
       " 0.30349190749669863,\n",
       " 0.3036454654341084,\n",
       " 0.303921869721446]"
      ]
     },
     "execution_count": 19,
     "metadata": {},
     "output_type": "execute_result"
    }
   ],
   "source": [
    "pass_data_rate_test_lt"
   ]
  },
  {
   "cell_type": "code",
   "execution_count": 204,
   "metadata": {},
   "outputs": [
    {
     "data": {
      "image/png": "[encoded data removed]",
      "text/plain": [
       "<matplotlib.figure.Figure at 0x1e2d372b8d0>"
      ]
     },
     "metadata": {},
     "output_type": "display_data"
    }
   ],
   "source": [
    "import matplotlib.pyplot as plt\n",
    "\n",
    "plt.figure(figsize=(10,10))\n",
    "x = range(len(train_loss_lt))\n",
    "\n",
    "plt.subplot(221)\n",
    "plt.plot(x[1:],pass_train_loss_lt[1:], label=\"train-pass\", color=\"blue\")\n",
    "plt.plot(x[1:],pass_vaild_loss_lt[1:], label=\"vaild-pass\", color=\"green\")\n",
    "plt.plot(x[1:],pass_test_loss_lt[1:], label=\"test-pass\", color=\"red\")\n",
    "plt.legend()\n",
    "plt.subplot(222)\n",
    "plt.plot(x[1:],pass_train_loss_lt_now[1:], label=\"train-pass-now\", color=\"blue\")\n",
    "plt.plot(x[1:],pass_vaild_loss_lt_now[1:], label=\"vaild-pass-now\", color=\"green\")\n",
    "plt.plot(x[1:],pass_test_loss_lt_now[1:], label=\"test-pass-now\", color=\"red\")\n",
    "plt.legend()\n",
    "plt.subplot(223)\n",
    "plt.plot(x,train_loss_lt, label=\"train-loss\", color=\"blue\")\n",
    "plt.plot(x,vaild_loss_lt, label=\"vaild-loss\", color=\"green\")\n",
    "plt.plot(x,test_loss_lt, label=\"test-loss\", color=\"red\")\n",
    "plt.legend()\n",
    "plt.subplot(224)\n",
    "plt.plot(x,pass_data_rate_lt[:], label=\"data-pass-rate\")\n",
    "plt.legend()\n",
    "\n",
    "plt.show()"
   ]
  },
  {
   "cell_type": "code",
   "execution_count": 201,
   "metadata": {
    "collapsed": true
   },
   "outputs": [
    {
     "data": {
      "text/plain": [
       "[0.99928977272727271,\n",
       " 0.99489795918367352,\n",
       " 1.0,\n",
       " 1.0,\n",
       " 1.0,\n",
       " 0.98958333333333337,\n",
       " 0.99212598425196852,\n",
       " 0.99270072992700731,\n",
       " 1.0,\n",
       " 0.90909090909090906,\n",
       " 1.0,\n",
       " 1.0,\n",
       " 1.0,\n",
       " 1.0,\n",
       " 1.0,\n",
       " 1.0,\n",
       " 1.0,\n",
       " 1.0,\n",
       " 1.0,\n",
       " 1.0,\n",
       " 1.0,\n",
       " 0.94999999999999996,\n",
       " 1.0]"
      ]
     },
     "execution_count": 201,
     "metadata": {},
     "output_type": "execute_result"
    }
   ],
   "source": [
    "pass_test_loss_lt_now[1:]"
   ]
  },
  {
   "cell_type": "code",
   "execution_count": 145,
   "metadata": {},
   "outputs": [
    {
     "name": "stdout",
     "output_type": "stream",
     "text": [
      "data auc 0.913834654713\n",
      "data log 0.306926614716\n",
      "data acc 0.861494994165\n"
     ]
    }
   ],
   "source": [
    "print(\"data auc\", metrics.roc_auc_score(y_sub, test_y))\n",
    "print(\"data log\", metrics.log_loss(y_sub, test_y))\n",
    "print(\"data acc\", acc_prob(y_sub, test_y))"
   ]
  },
  {
   "cell_type": "markdown",
   "metadata": {},
   "source": [
    "# Todo list\n",
    "- 树结构设计（完成）\n",
    "- 通过gini对数据分割（完成）\n",
    "- 全局测试集\n",
    "- 输出结果集\n",
    "- 打印信息增加pass data的比例\n",
    "- 防止过拟合\n",
    "- 对pass data的进一步处理\n",
    "- 先进行数据均衡化是不是更快一些"
   ]
  },
  {
   "cell_type": "code",
   "execution_count": null,
   "metadata": {
    "collapsed": true
   },
   "outputs": [],
   "source": []
  }
 ],
 "metadata": {
  "kernelspec": {
   "display_name": "Python 3",
   "language": "python",
   "name": "python3"
  },
  "language_info": {
   "codemirror_mode": {
    "name": "ipython",
    "version": 3
   },
   "file_extension": ".py",
   "mimetype": "text/x-python",
   "name": "python",
   "nbconvert_exporter": "python",
   "pygments_lexer": "ipython3",
   "version": "3.6.1"
  }
 },
 "nbformat": 4,
 "nbformat_minor": 2
}
