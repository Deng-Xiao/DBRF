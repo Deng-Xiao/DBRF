{
 "cells": [
  {
   "cell_type": "markdown",
   "metadata": {},
   "source": [
    "本文主要以kaggle一次二分类竞赛数据为例，深入研究改进forest\n",
    "\n",
    "LayerDTree是LayerForest的精简版，是对Forest进一步探索的基础\n",
    "\n",
    "- 数据地址：https://www.kaggle.com/c/porto-seguro-safe-driver-prediction\n",
    "- 数据特点：\n",
    "  - 非常不均衡、缺失值严重、二分类\n",
    "- 包含内容：\n",
    "  1. 数据获取\n",
    "  2. 模型应用\n",
    "  3. 结果分析"
   ]
  },
  {
   "cell_type": "markdown",
   "metadata": {},
   "source": [
    "# Stage-1：获取数据"
   ]
  },
  {
   "cell_type": "code",
   "execution_count": 1,
   "metadata": {
    "collapsed": true
   },
   "outputs": [],
   "source": [
    "import os\n",
    "import numpy as np\n",
    "import pandas as pd\n",
    "import time\n",
    "import os.path as osp"
   ]
  },
  {
   "cell_type": "code",
   "execution_count": 2,
   "metadata": {},
   "outputs": [
    {
     "data": {
      "text/plain": [
       "<module 'DataHelper' from 'C:\\\\github_workspace\\\\ecoForest\\\\DataHelper.py'>"
      ]
     },
     "execution_count": 2,
     "metadata": {},
     "output_type": "execute_result"
    }
   ],
   "source": [
    "import DataHelper\n",
    "import importlib\n",
    "importlib.reload(DataHelper)"
   ]
  },
  {
   "cell_type": "code",
   "execution_count": 3,
   "metadata": {},
   "outputs": [
    {
     "name": "stdout",
     "output_type": "stream",
     "text": [
      "X.shape: (32561, 14) y.shape: (32561,)\n",
      "X.shape: (16281, 14) y.shape: (16281,)\n"
     ]
    }
   ],
   "source": [
    "X_train,y_train, X_sub, y_sub = DataHelper.get_driver_data()"
   ]
  },
  {
   "cell_type": "code",
   "execution_count": 223,
   "metadata": {},
   "outputs": [
    {
     "name": "stdout",
     "output_type": "stream",
     "text": [
      "X.shape: (16000, 16) y.shape: (16000,)\n",
      "X.shape: (4000, 16) y.shape: (4000,)\n"
     ]
    }
   ],
   "source": [
    "X_train,y_train, X_sub, y_sub = DataHelper.get_letter_data()"
   ]
  },
  {
   "cell_type": "code",
   "execution_count": 21,
   "metadata": {},
   "outputs": [
    {
     "name": "stdout",
     "output_type": "stream",
     "text": [
      "X.shape: (1038, 8) y.shape: (1038,)\n",
      "X.shape: (446, 8) y.shape: (446,)\n"
     ]
    },
    {
     "name": "stderr",
     "output_type": "stream",
     "text": [
      "c:\\program files\\python36\\lib\\site-packages\\sklearn\\model_selection\\_split.py:2010: FutureWarning: From version 0.21, test_size will always complement train_size unless both are specified.\n",
      "  FutureWarning)\n"
     ]
    }
   ],
   "source": [
    "X_train,y_train, X_sub, y_sub = DataHelper.get_yeast_data()"
   ]
  },
  {
   "cell_type": "code",
   "execution_count": 22,
   "metadata": {},
   "outputs": [
    {
     "data": {
      "text/plain": [
       "array([1, 0, 1, 0, 1, 0, 1, 1, 1, 1, 1, 3, 3, 0, 1, 2, 1, 0, 8, 0, 0, 2, 0,\n",
       "       5, 3, 6, 1, 2, 0, 8, 0, 1, 1, 2, 1, 1, 5, 0, 3, 1, 0, 0, 0, 1, 1, 0,\n",
       "       0, 0, 1, 1])"
      ]
     },
     "execution_count": 22,
     "metadata": {},
     "output_type": "execute_result"
    }
   ],
   "source": [
    "y_sub[:50]"
   ]
  },
  {
   "cell_type": "code",
   "execution_count": 23,
   "metadata": {
    "collapsed": true
   },
   "outputs": [],
   "source": [
    "from collections import Counter"
   ]
  },
  {
   "cell_type": "code",
   "execution_count": 24,
   "metadata": {},
   "outputs": [
    {
     "data": {
      "text/plain": [
       "Counter({0: 324,\n",
       "         1: 300,\n",
       "         2: 171,\n",
       "         3: 114,\n",
       "         4: 36,\n",
       "         5: 31,\n",
       "         6: 24,\n",
       "         7: 21,\n",
       "         8: 14,\n",
       "         9: 3})"
      ]
     },
     "execution_count": 24,
     "metadata": {},
     "output_type": "execute_result"
    }
   ],
   "source": [
    "Counter(y_train)"
   ]
  },
  {
   "cell_type": "code",
   "execution_count": 25,
   "metadata": {},
   "outputs": [
    {
     "data": {
      "text/plain": [
       "Counter({0: 139, 1: 129, 2: 73, 3: 49, 4: 15, 5: 13, 6: 11, 7: 9, 8: 6, 9: 2})"
      ]
     },
     "execution_count": 25,
     "metadata": {},
     "output_type": "execute_result"
    }
   ],
   "source": [
    "Counter(y_sub)"
   ]
  },
  {
   "cell_type": "markdown",
   "metadata": {},
   "source": [
    "# Stage-2：模型应用"
   ]
  },
  {
   "cell_type": "code",
   "execution_count": 9,
   "metadata": {
    "collapsed": true
   },
   "outputs": [],
   "source": [
    "from sklearn import tree\n",
    "from sklearn.tree import DecisionTreeClassifier\n",
    "from sklearn.model_selection import StratifiedShuffleSplit\n",
    "import ForestUtils\n",
    "import time\n",
    "import random\n",
    "from sklearn import metrics"
   ]
  },
  {
   "cell_type": "code",
   "execution_count": 10,
   "metadata": {
    "collapsed": true
   },
   "outputs": [],
   "source": [
    "import EnhancedDTree\n",
    "import EnhancedForest\n",
    "import importlib"
   ]
  },
  {
   "cell_type": "code",
   "execution_count": 11,
   "metadata": {
    "collapsed": true
   },
   "outputs": [],
   "source": [
    "from sklearn.ensemble import RandomForestClassifier, RandomForestRegressor"
   ]
  },
  {
   "cell_type": "code",
   "execution_count": null,
   "metadata": {
    "collapsed": true
   },
   "outputs": [],
   "source": []
  },
  {
   "cell_type": "code",
   "execution_count": 17,
   "metadata": {
    "collapsed": true
   },
   "outputs": [],
   "source": [
    "# def acc_prob(y_sub, p_train):\n",
    "#     threshold = [x*0.01 for x in range(30,71,1)]\n",
    "#     result = []\n",
    "#     for i in range(len(threshold)):\n",
    "#         test_y_acc_index = np.where(p_train > threshold[i])[0]\n",
    "#         test_y_acc = np.array([0] * len(p_train))\n",
    "#         test_y_acc[test_y_acc_index] = 1\n",
    "#         tmp = metrics.accuracy_score(y_sub, test_y_acc)\n",
    "#         result.append(tmp)\n",
    "#     result = np.array(result)\n",
    "#     return np.max(result)"
   ]
  },
  {
   "cell_type": "markdown",
   "metadata": {},
   "source": [
    "# 决策树算法"
   ]
  },
  {
   "cell_type": "code",
   "execution_count": 12,
   "metadata": {},
   "outputs": [
    {
     "data": {
      "text/plain": [
       "DecisionTreeClassifier(class_weight=None, criterion='gini', max_depth=None,\n",
       "            max_features=None, max_leaf_nodes=None,\n",
       "            min_impurity_decrease=0.0, min_impurity_split=None,\n",
       "            min_samples_leaf=1, min_samples_split=2,\n",
       "            min_weight_fraction_leaf=0.0, presort=False, random_state=None,\n",
       "            splitter='best')"
      ]
     },
     "execution_count": 12,
     "metadata": {},
     "output_type": "execute_result"
    }
   ],
   "source": [
    "clf = DecisionTreeClassifier()\n",
    "clf"
   ]
  },
  {
   "cell_type": "code",
   "execution_count": 13,
   "metadata": {
    "collapsed": true
   },
   "outputs": [],
   "source": [
    "clf = clf.fit(X_train, y_train)"
   ]
  },
  {
   "cell_type": "code",
   "execution_count": 14,
   "metadata": {
    "collapsed": true
   },
   "outputs": [],
   "source": [
    "# p_train = clf.predict_proba(X_sub)\n",
    "# p_train = [item[1] for item in p_train]\n",
    "# p_train = np.array(p_train)\n",
    "# print(\"data auc\", metrics.roc_auc_score(y_sub, p_train))\n",
    "# print(\"data log\", metrics.log_loss(y_sub, p_train)) \n",
    "# print(\"data acc\", acc_prob(y_sub, p_train))"
   ]
  },
  {
   "cell_type": "code",
   "execution_count": 15,
   "metadata": {},
   "outputs": [
    {
     "name": "stdout",
     "output_type": "stream",
     "text": [
      "data auc 0.504484304933\n"
     ]
    }
   ],
   "source": [
    "p_train = clf.predict(X_sub)\n",
    "print(\"data auc\", metrics.accuracy_score(y_sub, p_train))"
   ]
  },
  {
   "cell_type": "markdown",
   "metadata": {},
   "source": [
    "# 随机森林算法"
   ]
  },
  {
   "cell_type": "code",
   "execution_count": 16,
   "metadata": {
    "collapsed": true
   },
   "outputs": [],
   "source": [
    "# rf = RandomForestClassifier(n_estimators=50, max_depth=10, n_jobs=4, random_state=1024, verbose=True, min_samples_leaf=10)\n",
    "# rf"
   ]
  },
  {
   "cell_type": "code",
   "execution_count": 33,
   "metadata": {},
   "outputs": [
    {
     "data": {
      "text/plain": [
       "RandomForestClassifier(bootstrap=True, class_weight=None, criterion='gini',\n",
       "            max_depth=None, max_features='auto', max_leaf_nodes=None,\n",
       "            min_impurity_decrease=0.0, min_impurity_split=None,\n",
       "            min_samples_leaf=1, min_samples_split=2,\n",
       "            min_weight_fraction_leaf=0.0, n_estimators=200, n_jobs=1,\n",
       "            oob_score=False, random_state=1023, verbose=0,\n",
       "            warm_start=False)"
      ]
     },
     "execution_count": 33,
     "metadata": {},
     "output_type": "execute_result"
    }
   ],
   "source": [
    "rf = RandomForestClassifier(n_estimators=200, random_state=1023)\n",
    "rf"
   ]
  },
  {
   "cell_type": "code",
   "execution_count": 34,
   "metadata": {},
   "outputs": [
    {
     "data": {
      "text/plain": [
       "RandomForestClassifier(bootstrap=True, class_weight=None, criterion='gini',\n",
       "            max_depth=None, max_features='auto', max_leaf_nodes=None,\n",
       "            min_impurity_decrease=0.0, min_impurity_split=None,\n",
       "            min_samples_leaf=1, min_samples_split=2,\n",
       "            min_weight_fraction_leaf=0.0, n_estimators=200, n_jobs=1,\n",
       "            oob_score=False, random_state=1023, verbose=0,\n",
       "            warm_start=False)"
      ]
     },
     "execution_count": 34,
     "metadata": {},
     "output_type": "execute_result"
    }
   ],
   "source": [
    "rf.fit(X_train, y_train)"
   ]
  },
  {
   "cell_type": "code",
   "execution_count": 35,
   "metadata": {
    "collapsed": true
   },
   "outputs": [],
   "source": [
    "# p_train = rf.predict_proba(X_sub)\n",
    "# p_train = [item[1] for item in p_train]\n",
    "# p_train = np.array(p_train)\n",
    "# print(\"data auc\", metrics.roc_auc_score(y_sub, p_train))\n",
    "# print(\"data log\", metrics.log_loss(y_sub, p_train))\n",
    "# print(\"data acc\", acc_prob(y_sub, p_train))"
   ]
  },
  {
   "cell_type": "code",
   "execution_count": 36,
   "metadata": {},
   "outputs": [
    {
     "name": "stdout",
     "output_type": "stream",
     "text": [
      "data acc 0.632286995516\n"
     ]
    }
   ],
   "source": [
    "p_train = rf.predict(X_sub)\n",
    "print(\"data acc\", metrics.accuracy_score(y_sub, p_train))\n",
    "# print(\"data log\", metrics.log_loss(y_sub, p_train)) "
   ]
  },
  {
   "cell_type": "code",
   "execution_count": 27,
   "metadata": {},
   "outputs": [
    {
     "name": "stdout",
     "output_type": "stream",
     "text": [
      "data acc 1.0\n"
     ]
    }
   ],
   "source": [
    "p_train = rf.predict(X_train)\n",
    "print(\"data acc\", metrics.accuracy_score(y_train, p_train))\n",
    "# print(\"data log\", metrics.log_loss(y_sub, p_train)) "
   ]
  },
  {
   "cell_type": "markdown",
   "metadata": {},
   "source": [
    "# XGB算法"
   ]
  },
  {
   "cell_type": "code",
   "execution_count": 28,
   "metadata": {},
   "outputs": [
    {
     "name": "stderr",
     "output_type": "stream",
     "text": [
      "c:\\program files\\python36\\lib\\site-packages\\sklearn\\cross_validation.py:41: DeprecationWarning: This module was deprecated in version 0.18 in favor of the model_selection module into which all the refactored classes and functions are moved. Also note that the interface of the new CV iterators are different from that of this module. This module will be removed in 0.20.\n",
      "  \"This module will be removed in 0.20.\", DeprecationWarning)\n"
     ]
    }
   ],
   "source": [
    "import xgboost as xgb"
   ]
  },
  {
   "cell_type": "code",
   "execution_count": 30,
   "metadata": {
    "collapsed": true
   },
   "outputs": [],
   "source": [
    "params = {\n",
    "#     'objective': 'binary:logistic',\n",
    "    'objective':'multi:softmax',\n",
    "#     'objective':'multi:softprob',\n",
    "    'num_class':10\n",
    "#     'silent': True,\n",
    "    \n",
    "#     'max_depth': 4,\n",
    "#     'eta': 0.020,\n",
    "#     'gamma': 0.65,\n",
    "    \n",
    "#     'colsample_bytree': 0.8,\n",
    "#     'subsample': 0.6,\n",
    "    \n",
    "#     'num_boost_round' : 700,\n",
    "#     'min_child_weight': 10.0,\n",
    "#     'max_delta_step': 1.8,\n",
    "}"
   ]
  },
  {
   "cell_type": "code",
   "execution_count": 31,
   "metadata": {
    "collapsed": true
   },
   "outputs": [],
   "source": [
    "# Define the gini metric - from https://www.kaggle.com/c/ClaimPredictionChallenge/discussion/703#5897\n",
    "def ginic(actual, pred):\n",
    "    actual = np.asarray(actual) #In case, someone passes Series or list\n",
    "    n = len(actual)\n",
    "    a_s = actual[np.argsort(pred)]\n",
    "    a_c = a_s.cumsum()\n",
    "    giniSum = a_c.sum() / a_s.sum() - (n + 1) / 2.0\n",
    "    return giniSum / n\n",
    "\n",
    "def gini_normalized(a, p):\n",
    "#     if p.ndim == 2:#Required for sklearn wrapper\n",
    "#         p = p[:,1] #If proba array contains proba for both 0 and 1 classes, just pick class 1\n",
    "    return ginic(a, p) / ginic(a, a)\n",
    "\n",
    "# Create an XGBoost-compatible metric from Gini\n",
    "def gini_xgb(preds, dtrain):\n",
    "    labels = dtrain.get_label()\n",
    "    gini_score = gini_normalized(labels, preds)\n",
    "    return 'gini', gini_score\n",
    "\n",
    "def acc_xgb(preds, dtrain):\n",
    "    labels = dtrain.get_label()\n",
    "    acc_score = metrics.accuracy_score(labels, preds)\n",
    "    return 'acc', acc_score"
   ]
  },
  {
   "cell_type": "code",
   "execution_count": 32,
   "metadata": {
    "collapsed": true
   },
   "outputs": [],
   "source": [
    "sss = StratifiedShuffleSplit(n_splits=1, test_size=0.15, random_state=9487)\n",
    "split_obj = tuple(sss.split(X_train, y_train))\n",
    "train_index, test_index = split_obj[0]\n",
    "X_1, X_2 = X_train[train_index], X_train[test_index]\n",
    "y_1, y_2 = y_train[train_index], y_train[test_index]"
   ]
  },
  {
   "cell_type": "code",
   "execution_count": 33,
   "metadata": {},
   "outputs": [
    {
     "name": "stdout",
     "output_type": "stream",
     "text": [
      "[0]\ttrain-acc:0.660998\tvalid-acc:0.551282\n",
      "Multiple eval metrics have been passed: 'valid-acc' will be used for early stopping.\n",
      "\n",
      "Will train until valid-acc hasn't improved in 500 rounds.\n",
      "[100]\ttrain-acc:1\tvalid-acc:0.525641\n",
      "[200]\ttrain-acc:1\tvalid-acc:0.49359\n",
      "[300]\ttrain-acc:1\tvalid-acc:0.474359\n",
      "[400]\ttrain-acc:1\tvalid-acc:0.487179\n",
      "[500]\ttrain-acc:1\tvalid-acc:0.49359\n",
      "Stopping. Best iteration:\n",
      "[17]\ttrain-acc:0.901361\tvalid-acc:0.583333\n",
      "\n"
     ]
    }
   ],
   "source": [
    "d_train = xgb.DMatrix(X_1, y_1)\n",
    "d_valid = xgb.DMatrix(X_2, y_2)\n",
    "watchlist = [(d_train, 'train'), (d_valid, 'valid')]\n",
    "\n",
    "mdl = xgb.train(params, d_train, \n",
    "                    num_boost_round=1600, evals=watchlist, early_stopping_rounds=500,\n",
    "                    feval=acc_xgb,  maximize=True, \n",
    "                verbose_eval=100)"
   ]
  },
  {
   "cell_type": "code",
   "execution_count": 34,
   "metadata": {
    "collapsed": true
   },
   "outputs": [],
   "source": [
    "# d_test = xgb.DMatrix(X_sub)\n",
    "# p_train = mdl.predict(d_test)\n",
    "# print(\"data auc\", metrics.roc_auc_score(y_sub, p_train))\n",
    "# print(\"data log\", metrics.log_loss(y_sub, p_train))\n",
    "# print(\"data acc\", acc_prob(y_sub, p_train))"
   ]
  },
  {
   "cell_type": "code",
   "execution_count": 37,
   "metadata": {},
   "outputs": [
    {
     "name": "stdout",
     "output_type": "stream",
     "text": [
      "data acc 0.582959641256\n"
     ]
    }
   ],
   "source": [
    "d_test = xgb.DMatrix(X_sub)\n",
    "p_train = mdl.predict(d_test)\n",
    "# print(\"data auc\", metrics.roc_auc_score(y_sub, p_train))\n",
    "# print(\"data log\", metrics.log_loss(y_sub, p_train))\n",
    "# print(\"data acc\", acc_prob(y_sub, p_train))\n",
    "print(\"data acc\", metrics.accuracy_score(y_sub, p_train))"
   ]
  },
  {
   "cell_type": "code",
   "execution_count": 50,
   "metadata": {},
   "outputs": [
    {
     "data": {
      "text/plain": [
       "array([ 20.,  13.,  21., ...,  19.,  18.,   0.], dtype=float32)"
      ]
     },
     "execution_count": 50,
     "metadata": {},
     "output_type": "execute_result"
    }
   ],
   "source": [
    "p_train"
   ]
  },
  {
   "cell_type": "code",
   "execution_count": 285,
   "metadata": {},
   "outputs": [
    {
     "data": {
      "text/plain": [
       "0.86757570173822252"
      ]
     },
     "execution_count": 285,
     "metadata": {},
     "output_type": "execute_result"
    }
   ],
   "source": [
    "test_y_acc_index = np.where(p_train > 0.5)[0]\n",
    "test_y_acc = np.array([0] * len(p_train))\n",
    "test_y_acc[test_y_acc_index] = 1\n",
    "metrics.accuracy_score(y_sub, test_y_acc)"
   ]
  },
  {
   "cell_type": "markdown",
   "metadata": {},
   "source": [
    "# GDBT算法"
   ]
  },
  {
   "cell_type": "code",
   "execution_count": 38,
   "metadata": {
    "collapsed": true
   },
   "outputs": [],
   "source": [
    "from sklearn.ensemble import GradientBoostingClassifier"
   ]
  },
  {
   "cell_type": "code",
   "execution_count": 39,
   "metadata": {},
   "outputs": [
    {
     "data": {
      "text/plain": [
       "GradientBoostingClassifier(criterion='friedman_mse', init=None,\n",
       "              learning_rate=0.1, loss='deviance', max_depth=3,\n",
       "              max_features=None, max_leaf_nodes=None,\n",
       "              min_impurity_decrease=0.0, min_impurity_split=None,\n",
       "              min_samples_leaf=1, min_samples_split=2,\n",
       "              min_weight_fraction_leaf=0.0, n_estimators=100,\n",
       "              presort='auto', random_state=None, subsample=1.0, verbose=0,\n",
       "              warm_start=False)"
      ]
     },
     "execution_count": 39,
     "metadata": {},
     "output_type": "execute_result"
    }
   ],
   "source": [
    "gdbt = GradientBoostingClassifier(n_estimators=100)\n",
    "gdbt"
   ]
  },
  {
   "cell_type": "code",
   "execution_count": 40,
   "metadata": {},
   "outputs": [
    {
     "data": {
      "text/plain": [
       "GradientBoostingClassifier(criterion='friedman_mse', init=None,\n",
       "              learning_rate=0.1, loss='deviance', max_depth=3,\n",
       "              max_features=None, max_leaf_nodes=None,\n",
       "              min_impurity_decrease=0.0, min_impurity_split=None,\n",
       "              min_samples_leaf=1, min_samples_split=2,\n",
       "              min_weight_fraction_leaf=0.0, n_estimators=100,\n",
       "              presort='auto', random_state=None, subsample=1.0, verbose=0,\n",
       "              warm_start=False)"
      ]
     },
     "execution_count": 40,
     "metadata": {},
     "output_type": "execute_result"
    }
   ],
   "source": [
    "gdbt.fit(X_train, y_train)"
   ]
  },
  {
   "cell_type": "code",
   "execution_count": 41,
   "metadata": {
    "collapsed": true
   },
   "outputs": [],
   "source": [
    "# p_train = gdbt.predict_proba(X_sub)\n",
    "# p_train = [item[1] for item in p_train]\n",
    "# p_train = np.array(p_train)\n",
    "# print(\"data auc\", metrics.roc_auc_score(y_sub, p_train))\n",
    "# print(\"data log\", metrics.log_loss(y_sub, p_train))\n",
    "# print(\"data acc\", acc_prob(y_sub, p_train))"
   ]
  },
  {
   "cell_type": "code",
   "execution_count": 42,
   "metadata": {},
   "outputs": [
    {
     "name": "stdout",
     "output_type": "stream",
     "text": [
      "data acc 0.609865470852\n"
     ]
    }
   ],
   "source": [
    "p_train = gdbt.predict(X_sub)\n",
    "print(\"data acc\", metrics.accuracy_score(y_sub, p_train))\n",
    "# print(\"data log\", metrics.log_loss(y_sub, p_train)) "
   ]
  },
  {
   "cell_type": "code",
   "execution_count": 44,
   "metadata": {},
   "outputs": [
    {
     "name": "stdout",
     "output_type": "stream",
     "text": [
      "data acc 0.876685934489\n"
     ]
    }
   ],
   "source": [
    "p_train = gdbt.predict(X_train)\n",
    "print(\"data acc\", metrics.accuracy_score(y_train, p_train))\n",
    "# print(\"data log\", metrics.log_loss(y_sub, p_train)) "
   ]
  },
  {
   "cell_type": "markdown",
   "metadata": {},
   "source": [
    "# BaseLine"
   ]
  },
  {
   "cell_type": "code",
   "execution_count": 81,
   "metadata": {
    "collapsed": true
   },
   "outputs": [],
   "source": [
    "from sklearn.model_selection import StratifiedShuffleSplit\n",
    "from sklearn.model_selection import StratifiedKFold\n",
    "from sklearn.model_selection import cross_val_score\n",
    "from scipy import stats\n",
    "from sklearn.linear_model import LogisticRegression"
   ]
  },
  {
   "cell_type": "code",
   "execution_count": 38,
   "metadata": {
    "collapsed": true
   },
   "outputs": [],
   "source": [
    "def acc_metrix_mult(a, p):\n",
    "#     print(p)\n",
    "    return \"acc:\", metrics.accuracy_score(a, p)"
   ]
  },
  {
   "cell_type": "code",
   "execution_count": null,
   "metadata": {
    "collapsed": true
   },
   "outputs": [],
   "source": [
    "RandomForestClassifier(bootstrap=True, class_weight=None, criterion='gini',\n",
    "            max_depth=None, max_features='auto', max_leaf_nodes=None,\n",
    "            min_impurity_decrease=0.0, min_impurity_split=None,\n",
    "            min_samples_leaf=1, min_samples_split=2,\n",
    "            min_weight_fraction_leaf=0.0, n_estimators=200, n_jobs=1,\n",
    "            oob_score=False, random_state=None, verbose=0,\n",
    "            warm_start=False)\n",
    "RandomForestClassifier(bootstrap=True, class_weight=None, criterion='gini',\n",
    "            max_depth=None, max_features='auto', max_leaf_nodes=None,\n",
    "            min_impurity_decrease=0.0, min_impurity_split=None,\n",
    "            min_samples_leaf=1, min_samples_split=2,\n",
    "            min_weight_fraction_leaf=0.0, n_estimators=200, n_jobs=-1,\n",
    "            oob_score=False, random_state=None, verbose=0,\n",
    "            warm_start=False)"
   ]
  },
  {
   "cell_type": "code",
   "execution_count": 49,
   "metadata": {
    "collapsed": true
   },
   "outputs": [],
   "source": [
    "kfold = 5\n",
    "X = X_train.copy()\n",
    "y = y_train.copy()\n",
    "X_test = X_sub.copy()\n",
    "real_y = y_sub.copy()\n",
    "max_depth = None\n",
    "random_state = 1023\n",
    "min_samples_leaf = 1\n",
    "criterion = 'entropy'#'gini'\n",
    "# criterion = 'gini'#'gini'\n",
    "num_class = 10\n",
    "feval = acc_metrix_mult\n",
    "n_estimators = 200"
   ]
  },
  {
   "cell_type": "code",
   "execution_count": 82,
   "metadata": {},
   "outputs": [
    {
     "name": "stderr",
     "output_type": "stream",
     "text": [
      "c:\\program files\\python36\\lib\\site-packages\\sklearn\\model_selection\\_split.py:597: Warning: The least populated class in y has only 3 members, which is too few. The minimum number of members in any class cannot be less than n_splits=5.\n",
      "  % (min_groups, self.n_splits)), Warning)\n"
     ]
    },
    {
     "name": "stdout",
     "output_type": "stream",
     "text": [
      "X_train.shape, y_train.shape:(827, 8)(827,)\n",
      "X_valid.shape, y_valid.shape:(211, 8)(211,)\n",
      "RandomForestClassifier(bootstrap=True, class_weight=None, criterion='entropy',\n",
      "            max_depth=None, max_features='auto', max_leaf_nodes=None,\n",
      "            min_impurity_decrease=0.0, min_impurity_split=None,\n",
      "            min_samples_leaf=1, min_samples_split=2,\n",
      "            min_weight_fraction_leaf=0.0, n_estimators=200, n_jobs=-1,\n",
      "            oob_score=False, random_state=1023, verbose=0,\n",
      "            warm_start=False)\n",
      "    test score ('acc:', 0.62331838565022424)\n",
      "X_train.shape, y_train.shape:(831, 8)(831,)\n",
      "X_valid.shape, y_valid.shape:(207, 8)(207,)\n",
      "RandomForestClassifier(bootstrap=True, class_weight=None, criterion='entropy',\n",
      "            max_depth=None, max_features='auto', max_leaf_nodes=None,\n",
      "            min_impurity_decrease=0.0, min_impurity_split=None,\n",
      "            min_samples_leaf=1, min_samples_split=2,\n",
      "            min_weight_fraction_leaf=0.0, n_estimators=200, n_jobs=-1,\n",
      "            oob_score=False, random_state=1023, verbose=0,\n",
      "            warm_start=False)\n",
      "    test score ('acc:', 0.60538116591928248)\n",
      "X_train.shape, y_train.shape:(830, 8)(830,)\n",
      "X_valid.shape, y_valid.shape:(208, 8)(208,)\n",
      "RandomForestClassifier(bootstrap=True, class_weight=None, criterion='entropy',\n",
      "            max_depth=None, max_features='auto', max_leaf_nodes=None,\n",
      "            min_impurity_decrease=0.0, min_impurity_split=None,\n",
      "            min_samples_leaf=1, min_samples_split=2,\n",
      "            min_weight_fraction_leaf=0.0, n_estimators=200, n_jobs=-1,\n",
      "            oob_score=False, random_state=1023, verbose=0,\n",
      "            warm_start=False)\n",
      "    test score ('acc:', 0.60313901345291476)\n",
      "X_train.shape, y_train.shape:(830, 8)(830,)\n",
      "X_valid.shape, y_valid.shape:(208, 8)(208,)\n",
      "RandomForestClassifier(bootstrap=True, class_weight=None, criterion='entropy',\n",
      "            max_depth=None, max_features='auto', max_leaf_nodes=None,\n",
      "            min_impurity_decrease=0.0, min_impurity_split=None,\n",
      "            min_samples_leaf=1, min_samples_split=2,\n",
      "            min_weight_fraction_leaf=0.0, n_estimators=200, n_jobs=-1,\n",
      "            oob_score=False, random_state=1023, verbose=0,\n",
      "            warm_start=False)\n",
      "    test score ('acc:', 0.5964125560538116)\n",
      "X_train.shape, y_train.shape:(834, 8)(834,)\n",
      "X_valid.shape, y_valid.shape:(204, 8)(204,)\n",
      "RandomForestClassifier(bootstrap=True, class_weight=None, criterion='entropy',\n",
      "            max_depth=None, max_features='auto', max_leaf_nodes=None,\n",
      "            min_impurity_decrease=0.0, min_impurity_split=None,\n",
      "            min_samples_leaf=1, min_samples_split=2,\n",
      "            min_weight_fraction_leaf=0.0, n_estimators=200, n_jobs=-1,\n",
      "            oob_score=False, random_state=1023, verbose=0,\n",
      "            warm_start=False)\n",
      "    test score ('acc:', 0.6076233183856502)\n",
      "train kflod pred: ('acc:', 0.61078998073217727)\n",
      "lr train ('acc:', 0.60982658959537572)\n",
      "lr test ('acc:', 0.62780269058295968)\n",
      "lr coef_ -0.25167530604\n",
      "test pred ('acc:', 0.62331838565022424)\n",
      "train pred ('acc:', 1.0)\n"
     ]
    }
   ],
   "source": [
    "sss = StratifiedKFold(n_splits=kfold, shuffle=True, random_state=9487)\n",
    "\n",
    "p_all_fold = np.zeros(X.shape[0])\n",
    "p_all_fold_prob = np.zeros((X.shape[0], num_class))\n",
    "p_all_fold_prob_test = np.zeros((X_test.shape[0], num_class))\n",
    "clf_folds = []\n",
    "for i, (train_index, test_index) in enumerate(sss.split(X, y)):\n",
    "    X_train_bl, X_valid_bl = X[train_index], X[test_index]\n",
    "    y_train_bl, y_valid_bl = y[train_index], y[test_index]\n",
    "        \n",
    "    print(\"X_train.shape, y_train.shape:\"+str(X_train_bl.shape)+str(y_train_bl.shape))\n",
    "    print(\"X_valid.shape, y_valid.shape:\"+str(X_valid_bl.shape)+str(y_valid_bl.shape))\n",
    "        \n",
    "    clf = RandomForestClassifier(max_depth=max_depth, random_state=random_state, \n",
    "                                    min_samples_leaf=min_samples_leaf, n_estimators=n_estimators, n_jobs=-1,\n",
    "                                         #max_leaf_nodes=100,\n",
    "    #                                  n_estimators=2, n_jobs=8, oob_score=True, verbose=1, boostrap=False,\n",
    "                                     criterion=criterion)\n",
    "    clf = clf.fit(X_train_bl, y_train_bl)\n",
    "    clf_folds.append(clf)\n",
    "    print(clf)\n",
    "    \n",
    "#     cross_score = cross_val_score(clf, X_valid, y_valid, cv=3)\n",
    "#     print(\"    cross_score: %.5f\" % (cross_score.mean()))\n",
    "    print(\"    test score\", feval(real_y, clf.predict(X_test)))\n",
    "    \n",
    "    \n",
    "    if not num_class:\n",
    "        y_pred = clf.predict_proba(X_valid_bl)[:,1]\n",
    "    else:\n",
    "        y_pred = clf.predict(X_valid_bl)\n",
    "        y_pred_prob = clf.predict_proba(X_valid_bl)\n",
    "        y_pred_prob_test = clf.predict_proba(X_test)\n",
    "\n",
    "    p_all_fold[test_index] += y_pred\n",
    "    p_all_fold_prob[test_index] += y_pred_prob\n",
    "    p_all_fold_prob_test[:, :] += y_pred_prob_test/kfold\n",
    "print(\"train kflod pred:\", feval(y, p_all_fold))\n",
    "\n",
    "### lr pred\n",
    "log_model = LogisticRegression()\n",
    "log_model.fit(p_all_fold_prob, y)\n",
    "res = log_model.predict(p_all_fold_prob)\n",
    "print(\"lr train\", feval(y, res))\n",
    "res = log_model.predict(p_all_fold_prob_test)\n",
    "print(\"lr test\", feval(real_y, res))\n",
    "print(\"lr coef_\", np.mean(log_model.coef_))\n",
    "\n",
    "#### test pred\n",
    "y_preds = np.zeros((X_test.shape[0], len(clf_folds)))\n",
    "for i, clf in enumerate(clf_folds):\n",
    "    if not num_class:\n",
    "        y_pred = clf.predict_proba(X_test)[:,1]\n",
    "    else:\n",
    "        y_pred = clf.predict(X_test)\n",
    "    y_preds[:, i] = y_pred\n",
    "\n",
    "if not num_class:\n",
    "    result = y_preds.mean(axis=1)\n",
    "else:\n",
    "#     print(y_preds)\n",
    "    m = stats.mode(y_preds, axis=1)\n",
    "    result = np.array([i[0] for i in m[0]])\n",
    "# print(result)\n",
    "print(\"test pred\", feval(real_y, result))\n",
    "\n",
    "#### train pred\n",
    "y_preds = np.zeros((X.shape[0], len(clf_folds)))\n",
    "for i, clf in enumerate(clf_folds):\n",
    "    if not num_class:\n",
    "        y_pred = clf.predict_proba(X)[:,1]\n",
    "    else:\n",
    "        y_pred = clf.predict(X)\n",
    "    y_preds[:, i] = y_pred\n",
    "\n",
    "if not num_class:\n",
    "    result = y_preds.mean(axis=1)\n",
    "else:\n",
    "#     print(y_preds)\n",
    "    m = stats.mode(y_preds, axis=1)\n",
    "    result = np.array([i[0] for i in m[0]])\n",
    "print(\"train pred\", feval(y, result))"
   ]
  },
  {
   "cell_type": "code",
   "execution_count": 50,
   "metadata": {
    "collapsed": true
   },
   "outputs": [
    {
     "name": "stderr",
     "output_type": "stream",
     "text": [
      "c:\\program files\\python36\\lib\\site-packages\\sklearn\\model_selection\\_split.py:597: Warning: The least populated class in y has only 3 members, which is too few. The minimum number of members in any class cannot be less than n_splits=5.\n",
      "  % (min_groups, self.n_splits)), Warning)\n"
     ]
    },
    {
     "name": "stdout",
     "output_type": "stream",
     "text": [
      "X_train.shape, y_train.shape:(827, 8)(827,)\n",
      "X_valid.shape, y_valid.shape:(211, 8)(211,)\n",
      "RandomForestClassifier(bootstrap=True, class_weight=None, criterion='entropy',\n",
      "            max_depth=None, max_features='auto', max_leaf_nodes=None,\n",
      "            min_impurity_decrease=0.0, min_impurity_split=None,\n",
      "            min_samples_leaf=1, min_samples_split=2,\n",
      "            min_weight_fraction_leaf=0.0, n_estimators=200, n_jobs=-1,\n",
      "            oob_score=False, random_state=1023, verbose=0,\n",
      "            warm_start=False)\n",
      "    test score ('acc:', 0.62331838565022424)\n",
      "X_train.shape, y_train.shape:(831, 8)(831,)\n",
      "X_valid.shape, y_valid.shape:(207, 8)(207,)\n",
      "RandomForestClassifier(bootstrap=True, class_weight=None, criterion='entropy',\n",
      "            max_depth=None, max_features='auto', max_leaf_nodes=None,\n",
      "            min_impurity_decrease=0.0, min_impurity_split=None,\n",
      "            min_samples_leaf=1, min_samples_split=2,\n",
      "            min_weight_fraction_leaf=0.0, n_estimators=200, n_jobs=-1,\n",
      "            oob_score=False, random_state=1023, verbose=0,\n",
      "            warm_start=False)\n",
      "    test score ('acc:', 0.60538116591928248)\n",
      "X_train.shape, y_train.shape:(830, 8)(830,)\n",
      "X_valid.shape, y_valid.shape:(208, 8)(208,)\n",
      "RandomForestClassifier(bootstrap=True, class_weight=None, criterion='entropy',\n",
      "            max_depth=None, max_features='auto', max_leaf_nodes=None,\n",
      "            min_impurity_decrease=0.0, min_impurity_split=None,\n",
      "            min_samples_leaf=1, min_samples_split=2,\n",
      "            min_weight_fraction_leaf=0.0, n_estimators=200, n_jobs=-1,\n",
      "            oob_score=False, random_state=1023, verbose=0,\n",
      "            warm_start=False)\n",
      "    test score ('acc:', 0.60313901345291476)\n",
      "X_train.shape, y_train.shape:(830, 8)(830,)\n",
      "X_valid.shape, y_valid.shape:(208, 8)(208,)\n",
      "RandomForestClassifier(bootstrap=True, class_weight=None, criterion='entropy',\n",
      "            max_depth=None, max_features='auto', max_leaf_nodes=None,\n",
      "            min_impurity_decrease=0.0, min_impurity_split=None,\n",
      "            min_samples_leaf=1, min_samples_split=2,\n",
      "            min_weight_fraction_leaf=0.0, n_estimators=200, n_jobs=-1,\n",
      "            oob_score=False, random_state=1023, verbose=0,\n",
      "            warm_start=False)\n",
      "    test score ('acc:', 0.5964125560538116)\n",
      "X_train.shape, y_train.shape:(834, 8)(834,)\n",
      "X_valid.shape, y_valid.shape:(204, 8)(204,)\n",
      "RandomForestClassifier(bootstrap=True, class_weight=None, criterion='entropy',\n",
      "            max_depth=None, max_features='auto', max_leaf_nodes=None,\n",
      "            min_impurity_decrease=0.0, min_impurity_split=None,\n",
      "            min_samples_leaf=1, min_samples_split=2,\n",
      "            min_weight_fraction_leaf=0.0, n_estimators=200, n_jobs=-1,\n",
      "            oob_score=False, random_state=1023, verbose=0,\n",
      "            warm_start=False)\n",
      "    test score ('acc:', 0.6076233183856502)\n",
      "train kflod pred: ('acc:', 0.61078998073217727)\n",
      "test pred ('acc:', 0.62331838565022424)\n",
      "train pred ('acc:', 1.0)\n"
     ]
    }
   ],
   "source": [
    "sss = StratifiedKFold(n_splits=kfold, shuffle=True, random_state=9487)\n",
    "\n",
    "p_all_fold = np.zeros(X.shape[0])\n",
    "clf_folds = []\n",
    "for i, (train_index, test_index) in enumerate(sss.split(X, y)):\n",
    "    X_train_bl, X_valid_bl = X[train_index], X[test_index]\n",
    "    y_train_bl, y_valid_bl = y[train_index], y[test_index]\n",
    "        \n",
    "    print(\"X_train.shape, y_train.shape:\"+str(X_train_bl.shape)+str(y_train_bl.shape))\n",
    "    print(\"X_valid.shape, y_valid.shape:\"+str(X_valid_bl.shape)+str(y_valid_bl.shape))\n",
    "        \n",
    "    clf = RandomForestClassifier(max_depth=max_depth, random_state=random_state, \n",
    "                                    min_samples_leaf=min_samples_leaf, n_estimators=n_estimators, n_jobs=-1,\n",
    "                                         #max_leaf_nodes=100,\n",
    "    #                                  n_estimators=2, n_jobs=8, oob_score=True, verbose=1, boostrap=False,\n",
    "                                     criterion=criterion)\n",
    "    clf = clf.fit(X_train_bl, y_train_bl)\n",
    "    clf_folds.append(clf)\n",
    "    print(clf)\n",
    "    \n",
    "#     cross_score = cross_val_score(clf, X_valid, y_valid, cv=3)\n",
    "#     print(\"    cross_score: %.5f\" % (cross_score.mean()))\n",
    "    print(\"    test score\", feval(real_y, clf.predict(X_test)))\n",
    "    \n",
    "    \n",
    "    if not num_class:\n",
    "        y_pred = clf.predict_proba(X_valid_bl)[:,1]\n",
    "    else:\n",
    "        y_pred = clf.predict(X_valid_bl)\n",
    "\n",
    "    p_all_fold[test_index] += y_pred\n",
    "print(\"train kflod pred:\", feval(y, p_all_fold))\n",
    "\n",
    "#### test pred\n",
    "y_preds = np.zeros((X_test.shape[0], len(clf_folds)))\n",
    "for i, clf in enumerate(clf_folds):\n",
    "    if not num_class:\n",
    "        y_pred = clf.predict_proba(X_test)[:,1]\n",
    "    else:\n",
    "        y_pred = clf.predict(X_test)\n",
    "    y_preds[:, i] = y_pred\n",
    "\n",
    "if not num_class:\n",
    "    result = y_preds.mean(axis=1)\n",
    "else:\n",
    "#     print(y_preds)\n",
    "    m = stats.mode(y_preds, axis=1)\n",
    "    result = np.array([i[0] for i in m[0]])\n",
    "# print(result)\n",
    "print(\"test pred\", feval(real_y, result))\n",
    "\n",
    "#### train pred\n",
    "y_preds = np.zeros((X.shape[0], len(clf_folds)))\n",
    "for i, clf in enumerate(clf_folds):\n",
    "    if not num_class:\n",
    "        y_pred = clf.predict_proba(X)[:,1]\n",
    "    else:\n",
    "        y_pred = clf.predict(X)\n",
    "    y_preds[:, i] = y_pred\n",
    "\n",
    "if not num_class:\n",
    "    result = y_preds.mean(axis=1)\n",
    "else:\n",
    "#     print(y_preds)\n",
    "    m = stats.mode(y_preds, axis=1)\n",
    "    result = np.array([i[0] for i in m[0]])\n",
    "print(\"train pred\", feval(y, result))"
   ]
  },
  {
   "cell_type": "markdown",
   "metadata": {},
   "source": [
    "# layerDTree算法"
   ]
  },
  {
   "cell_type": "code",
   "execution_count": 83,
   "metadata": {
    "collapsed": true
   },
   "outputs": [],
   "source": [
    "def acc_metrix(a, p):\n",
    "    return \"acc:\", acc_prob(a, p)\n",
    "def mse_metrix(a, p):\n",
    "    return \"mse:\", metrics.mean_squared_error(a,p,labels=labels)\n",
    "def log_loss_metrix(a, p, labels=[0,1]):\n",
    "    return \"log:\", metrics.log_loss(a,p,labels=labels)\n",
    "def acc_metrix_mult(a, p):\n",
    "#     print(p)\n",
    "    return \"acc:\", metrics.accuracy_score(a, p)"
   ]
  },
  {
   "cell_type": "code",
   "execution_count": 63,
   "metadata": {},
   "outputs": [
    {
     "data": {
      "text/plain": [
       "{'divide': 'warn', 'invalid': 'warn', 'over': 'warn', 'under': 'ignore'}"
      ]
     },
     "execution_count": 63,
     "metadata": {},
     "output_type": "execute_result"
    }
   ],
   "source": [
    "np.seterr(divide='ignore', invalid='ignore')"
   ]
  },
  {
   "cell_type": "code",
   "execution_count": null,
   "metadata": {
    "collapsed": true
   },
   "outputs": [],
   "source": []
  },
  {
   "cell_type": "code",
   "execution_count": 51,
   "metadata": {
    "collapsed": true
   },
   "outputs": [],
   "source": [
    "import EnhancedForest_multiclass"
   ]
  },
  {
   "cell_type": "code",
   "execution_count": 69,
   "metadata": {},
   "outputs": [
    {
     "data": {
      "text/plain": [
       "<module 'EnhancedForest_multiclass' from 'C:\\\\github_workspace\\\\ecoForest\\\\EnhancedForest_multiclass.py'>"
      ]
     },
     "execution_count": 69,
     "metadata": {},
     "output_type": "execute_result"
    }
   ],
   "source": [
    "importlib.reload(EnhancedForest_multiclass)"
   ]
  },
  {
   "cell_type": "code",
   "execution_count": 79,
   "metadata": {
    "scrolled": false
   },
   "outputs": [
    {
     "name": "stdout",
     "output_type": "stream",
     "text": [
      "\n",
      "layer: 1 early_stop: 0 last_is_early_stop: False early_stop_up: 0\n"
     ]
    },
    {
     "name": "stderr",
     "output_type": "stream",
     "text": [
      "c:\\program files\\python36\\lib\\site-packages\\sklearn\\model_selection\\_split.py:597: Warning: The least populated class in y has only 3 members, which is too few. The minimum number of members in any class cannot be less than n_splits=20.\n",
      "  % (min_groups, self.n_splits)), Warning)\n"
     ]
    },
    {
     "name": "stdout",
     "output_type": "stream",
     "text": [
      "1 [p:0/np:0] \n",
      "train loss ('acc:', 0.97013487475915217)\n",
      "pass train loss (0, 0)\n",
      "pass train loss now (0, 0)\n",
      "vaild loss ('acc:', 0.60500963391136797)\n",
      "pass vaild loss (0, 0)\n",
      "pass vaild loss now (0, 0)\n",
      "test loss ('acc:', 0.62780269058295968)\n",
      "pass test loss (0, 0)\n",
      "pass test loss now (0, 0)\n",
      "best test loss: ('acc:', 0.62780269058295968)\n",
      "\n",
      "layer: 2 early_stop: 1 last_is_early_stop: True early_stop_up: 0\n"
     ]
    },
    {
     "name": "stderr",
     "output_type": "stream",
     "text": [
      "c:\\program files\\python36\\lib\\site-packages\\sklearn\\model_selection\\_split.py:597: Warning: The least populated class in y has only 3 members, which is too few. The minimum number of members in any class cannot be less than n_splits=20.\n",
      "  % (min_groups, self.n_splits)), Warning)\n"
     ]
    },
    {
     "name": "stdout",
     "output_type": "stream",
     "text": [
      "[p:0/1:0|n:1038/1:300] 2 [p:0/np:446] \n",
      "train loss ('acc:', 0.97013487475915217)\n",
      "pass train loss (0, 0)\n",
      "pass train loss now (0, 0)\n",
      "vaild loss ('acc:', 0.60308285163776498)\n",
      "pass vaild loss (0, 0)\n",
      "pass vaild loss now (0, 0)\n",
      "test loss ('acc:', 0.62107623318385652)\n",
      "pass test loss (0, 0)\n",
      "pass test loss now (0, 0)\n",
      "best test loss: ('acc:', 0.62107623318385652)\n",
      "\n",
      "layer: 3 early_stop: 2 last_is_early_stop: True early_stop_up: 0\n"
     ]
    },
    {
     "name": "stderr",
     "output_type": "stream",
     "text": [
      "c:\\program files\\python36\\lib\\site-packages\\sklearn\\model_selection\\_split.py:597: Warning: The least populated class in y has only 3 members, which is too few. The minimum number of members in any class cannot be less than n_splits=20.\n",
      "  % (min_groups, self.n_splits)), Warning)\n"
     ]
    },
    {
     "name": "stdout",
     "output_type": "stream",
     "text": [
      "[p:0/1:0|n:1038/1:300] 3 [p:0/np:446] \n",
      "train loss ('acc:', 0.97109826589595372)\n",
      "pass train loss (0, 0)\n",
      "pass train loss now (0, 0)\n",
      "vaild loss ('acc:', 0.61078998073217727)\n",
      "pass vaild loss (0, 0)\n",
      "pass vaild loss now (0, 0)\n",
      "test loss ('acc:', 0.62780269058295968)\n",
      "pass test loss (0, 0)\n",
      "pass test loss now (0, 0)\n",
      "best test loss: ('acc:', 0.62780269058295968)\n",
      "\n",
      "layer: 4 early_stop: 3 last_is_early_stop: True early_stop_up: 0\n"
     ]
    },
    {
     "name": "stderr",
     "output_type": "stream",
     "text": [
      "c:\\program files\\python36\\lib\\site-packages\\sklearn\\model_selection\\_split.py:597: Warning: The least populated class in y has only 3 members, which is too few. The minimum number of members in any class cannot be less than n_splits=20.\n",
      "  % (min_groups, self.n_splits)), Warning)\n"
     ]
    },
    {
     "name": "stdout",
     "output_type": "stream",
     "text": [
      "[p:0/1:0|n:1038/1:300] 4 [p:0/np:446] \n",
      "train loss ('acc:', 0.97109826589595372)\n",
      "pass train loss (0, 0)\n",
      "pass train loss now (0, 0)\n",
      "vaild loss ('acc:', 0.61368015414258192)\n",
      "pass vaild loss (0, 0)\n",
      "pass vaild loss now (0, 0)\n",
      "test loss ('acc:', 0.63228699551569512)\n",
      "pass test loss (0, 0)\n",
      "pass test loss now (0, 0)\n",
      "best test loss: ('acc:', 0.63228699551569512)\n",
      "\n",
      "layer: 5 early_stop: 4 last_is_early_stop: True early_stop_up: 0\n"
     ]
    },
    {
     "name": "stderr",
     "output_type": "stream",
     "text": [
      "c:\\program files\\python36\\lib\\site-packages\\sklearn\\model_selection\\_split.py:597: Warning: The least populated class in y has only 3 members, which is too few. The minimum number of members in any class cannot be less than n_splits=20.\n",
      "  % (min_groups, self.n_splits)), Warning)\n"
     ]
    },
    {
     "name": "stdout",
     "output_type": "stream",
     "text": [
      "[p:0/1:0|n:1038/1:300] 5 [p:0/np:446] \n",
      "train loss ('acc:', 0.97109826589595372)\n",
      "pass train loss (0, 0)\n",
      "pass train loss now (0, 0)\n",
      "vaild loss ('acc:', 0.60404624277456642)\n",
      "pass vaild loss (0, 0)\n",
      "pass vaild loss now (0, 0)\n",
      "test loss ('acc:', 0.62780269058295968)\n",
      "pass test loss (0, 0)\n",
      "pass test loss now (0, 0)\n",
      "best test loss: ('acc:', 0.62780269058295968)\n",
      "\n",
      "layer: 6 early_stop: 5 last_is_early_stop: True early_stop_up: 0\n"
     ]
    },
    {
     "name": "stderr",
     "output_type": "stream",
     "text": [
      "c:\\program files\\python36\\lib\\site-packages\\sklearn\\model_selection\\_split.py:597: Warning: The least populated class in y has only 3 members, which is too few. The minimum number of members in any class cannot be less than n_splits=20.\n",
      "  % (min_groups, self.n_splits)), Warning)\n"
     ]
    },
    {
     "name": "stdout",
     "output_type": "stream",
     "text": [
      "[p:0/1:0|n:1038/1:300] 6 [p:0/np:446] \n",
      "train loss ('acc:', 0.97109826589595372)\n",
      "pass train loss (0, 0)\n",
      "pass train loss now (0, 0)\n",
      "vaild loss ('acc:', 0.60115606936416188)\n",
      "pass vaild loss (0, 0)\n",
      "pass vaild loss now (0, 0)\n",
      "test loss ('acc:', 0.62331838565022424)\n",
      "pass test loss (0, 0)\n",
      "pass test loss now (0, 0)\n",
      "best test loss: ('acc:', 0.62331838565022424)\n",
      "\n",
      "layer: 7 early_stop: 6 last_is_early_stop: True early_stop_up: 0\n"
     ]
    },
    {
     "name": "stderr",
     "output_type": "stream",
     "text": [
      "c:\\program files\\python36\\lib\\site-packages\\sklearn\\model_selection\\_split.py:597: Warning: The least populated class in y has only 3 members, which is too few. The minimum number of members in any class cannot be less than n_splits=20.\n",
      "  % (min_groups, self.n_splits)), Warning)\n"
     ]
    },
    {
     "name": "stdout",
     "output_type": "stream",
     "text": [
      "[p:0/1:0|n:1038/1:300] 7 [p:0/np:446] \n",
      "train loss ('acc:', 0.97109826589595372)\n",
      "pass train loss (0, 0)\n",
      "pass train loss now (0, 0)\n",
      "vaild loss ('acc:', 0.61175337186897882)\n",
      "pass vaild loss (0, 0)\n",
      "pass vaild loss now (0, 0)\n",
      "test loss ('acc:', 0.62107623318385652)\n",
      "pass test loss (0, 0)\n",
      "pass test loss now (0, 0)\n",
      "best test loss: ('acc:', 0.62107623318385652)\n",
      "\n",
      "layer: 8 early_stop: 7 last_is_early_stop: True early_stop_up: 0\n"
     ]
    },
    {
     "name": "stderr",
     "output_type": "stream",
     "text": [
      "c:\\program files\\python36\\lib\\site-packages\\sklearn\\model_selection\\_split.py:597: Warning: The least populated class in y has only 3 members, which is too few. The minimum number of members in any class cannot be less than n_splits=20.\n",
      "  % (min_groups, self.n_splits)), Warning)\n"
     ]
    },
    {
     "name": "stdout",
     "output_type": "stream",
     "text": [
      "[p:0/1:0|n:1038/1:300] 8 [p:0/np:446] \n",
      "train loss ('acc:', 0.97109826589595372)\n",
      "pass train loss (0, 0)\n",
      "pass train loss now (0, 0)\n",
      "vaild loss ('acc:', 0.61271676300578037)\n",
      "pass vaild loss (0, 0)\n",
      "pass vaild loss now (0, 0)\n",
      "test loss ('acc:', 0.6188340807174888)\n",
      "pass test loss (0, 0)\n",
      "pass test loss now (0, 0)\n",
      "best test loss: ('acc:', 0.6188340807174888)\n",
      "\n",
      "layer: 9 early_stop: 8 last_is_early_stop: True early_stop_up: 0\n"
     ]
    },
    {
     "name": "stderr",
     "output_type": "stream",
     "text": [
      "c:\\program files\\python36\\lib\\site-packages\\sklearn\\model_selection\\_split.py:597: Warning: The least populated class in y has only 3 members, which is too few. The minimum number of members in any class cannot be less than n_splits=20.\n",
      "  % (min_groups, self.n_splits)), Warning)\n"
     ]
    },
    {
     "name": "stdout",
     "output_type": "stream",
     "text": [
      "[p:0/1:0|n:1038/1:300] "
     ]
    }
   ],
   "source": [
    "# 统计信息\n",
    "train_loss_lt = []\n",
    "pass_train_loss_lt = []\n",
    "pass_train_loss_lt_now = []\n",
    "vaild_loss_lt = []\n",
    "pass_vaild_loss_lt = []\n",
    "pass_vaild_loss_lt_now = []\n",
    "test_loss_lt = []\n",
    "pass_test_loss_lt = []\n",
    "pass_test_loss_lt_now = []\n",
    "pass_data_rate_lt = []\n",
    "\n",
    "# 数据\n",
    "X = X_train.copy()\n",
    "y = y_train.copy()\n",
    "\n",
    "X_test = X_sub.copy()\n",
    "test_y = np.array(([0.0] * len(X_test)))\n",
    "all_data_mask = np.array([False] * len(X_test))\n",
    "data_mask = np.array([False] * len(X_test))\n",
    "real_y = y_sub.copy()\n",
    "\n",
    "# 不均衡数据进行layer\n",
    "X_train_np = X\n",
    "y_train_np = y\n",
    "maxlayer = 100\n",
    "layer = 0\n",
    "\n",
    "# 不降低不更新\n",
    "last_train_loss = 0\n",
    "last_vaild_loss = 0\n",
    "\n",
    "enhancedDTree = EnhancedForest_multiclass.EnhancedForest(len(X_train), len(X_test), isLRStacker=True)\n",
    "counter = 0\n",
    "early_stop = 0\n",
    "last_is_early_stop = False\n",
    "early_stop_up = 0\n",
    "\n",
    "while 1:\n",
    "    layer += 1\n",
    "    print()\n",
    "    print(\"layer:\", layer, \"early_stop:\", early_stop, \"last_is_early_stop:\", last_is_early_stop, \"early_stop_up:\", early_stop_up)\n",
    "    X = X_train_np\n",
    "    y = y_train_np\n",
    "    if layer == 1: isFirst = True\n",
    "    else: isFirst = False\n",
    "        \n",
    "    feval=acc_metrix_mult\n",
    "    clf, data_mask, all_false_data_index, p_test = \\\n",
    "        enhancedDTree.TrainModelLayer(X, y, X_test, all_data_mask, test_y, real_y, verbose=False, \\\n",
    "                                      feval=feval, dropout=None, criterion='entropy', random_state=layer, \\\n",
    "                                        max_depth = None, min_samples_leaf = 1,\\\n",
    "                                      isFirst=isFirst, num_class=10, kfold=20\\\n",
    "                                     )\n",
    "    train_loss = enhancedDTree.getTrainLoss(feval)\n",
    "    pass_train_loss = enhancedDTree.getPassTrainLoss(feval)\n",
    "    pass_train_loss_now = enhancedDTree.getPassTrainLossNow(feval)\n",
    "    vaild_loss = enhancedDTree.getVaildLoss(feval)\n",
    "    pass_vaild_loss = enhancedDTree.getPassVaildLoss(feval)\n",
    "    pass_vaild_loss_now = enhancedDTree.getPassVaildLossNow(feval)\n",
    "    test_loss = enhancedDTree.getTestLoss(feval)\n",
    "    pass_test_loss = enhancedDTree.getPassTestLoss(feval)\n",
    "    pass_test_loss_now = enhancedDTree.getPassTestLossNow(feval)\n",
    "    \n",
    "    if train_loss[1] < last_train_loss and vaild_loss[1] < last_vaild_loss: \n",
    "#     if vaild_loss[1] < last_vaild_loss: \n",
    "        if not isFirst: enhancedDTree.remove_last_items()\n",
    "#         early_stop_up += 1\n",
    "        if layer > maxlayer or early_stop > 5 or early_stop_up > 15:\n",
    "            break\n",
    "        continue\n",
    "        \n",
    "    last_train_loss = train_loss[1]\n",
    "    last_vaild_loss = vaild_loss[1]\n",
    "    \n",
    "    X_train_np = enhancedDTree.X_train_np\n",
    "    y_train_np = enhancedDTree.y_train_np\n",
    "    \n",
    "    # 打印信息\n",
    "    pass_data_id = data_mask[data_mask==True]\n",
    "#     all_false_data_index = np.where(all_data_mask == False)[0]\n",
    "    X_test_np = X_test[all_false_data_index]\n",
    "    print(\"%d [p:%d/np:%d] \" % (layer, len(pass_data_id), len(X_test_np) - len(pass_data_id)))#, end=\"\")\n",
    "    if len(pass_data_id) == 0: \n",
    "        if not last_is_early_stop: early_stop = 0\n",
    "        early_stop += 1\n",
    "        last_is_early_stop = True\n",
    "    else:\n",
    "        last_is_early_stop = False\n",
    "        \n",
    "    print(\"train loss\", train_loss)\n",
    "    print(\"pass train loss\", pass_train_loss)\n",
    "    print(\"pass train loss now\", pass_train_loss_now)\n",
    "    print(\"vaild loss\", vaild_loss)\n",
    "    print(\"pass vaild loss\", pass_vaild_loss)\n",
    "    print(\"pass vaild loss now\", pass_vaild_loss_now)\n",
    "    print(\"test loss\", test_loss)\n",
    "    print(\"pass test loss\", pass_test_loss)\n",
    "    print(\"pass test loss now\", pass_test_loss_now)\n",
    "    \n",
    "#     tmp_all_data_mask = all_false_data_index[~data_mask]\n",
    "#     test_y[tmp_all_data_mask] = p_test[~data_mask]\n",
    "    tmp_test_loss = feval(y_sub, test_y)\n",
    "    best_test_y = test_y.copy()\n",
    "    print(\"best test loss:\", tmp_test_loss)\n",
    "    \n",
    "    train_loss_lt.append(train_loss[1])\n",
    "    pass_train_loss_lt.append(pass_train_loss[1])\n",
    "    pass_train_loss_lt_now.append(pass_train_loss_now[1])\n",
    "    vaild_loss_lt.append(vaild_loss[1])\n",
    "    pass_vaild_loss_lt.append(pass_vaild_loss[1])\n",
    "    pass_vaild_loss_lt_now.append(pass_vaild_loss_now[1])\n",
    "    test_loss_lt.append(test_loss[1])\n",
    "    pass_test_loss_lt.append(pass_test_loss[1])\n",
    "    pass_test_loss_lt_now.append(pass_test_loss_now[1])\n",
    "    if len(pass_data_rate_lt) == 0:\n",
    "        pass_data_rate_lt.append(len(data_mask[data_mask==True])/len(X_test))\n",
    "    else:\n",
    "        pass_data_rate_lt.append(pass_data_rate_lt[-1]+len(data_mask[data_mask==True])/len(X_test))\n",
    "    # 打印信息结束\n",
    "    \n",
    "#     if X_train_np.shape[0] < 10 or layer > maxlayer or y_train_np[y_train_np==1].shape[0] <= 10 or early_stop > 5:\n",
    "    if layer > maxlayer or early_stop > 20:\n",
    "        break\n",
    "        \n",
    "    all_data_mask[~all_data_mask] = data_mask"
   ]
  },
  {
   "cell_type": "code",
   "execution_count": 65,
   "metadata": {},
   "outputs": [
    {
     "name": "stdout",
     "output_type": "stream",
     "text": [
      "data acc ('acc:', 0.6188340807174888)\n",
      "data acc ('acc:', 0.6188340807174888)\n"
     ]
    }
   ],
   "source": [
    "# \n",
    "print(\"data acc\", acc_metrix_mult(y_sub, test_y))\n",
    "print(\"data acc\", acc_metrix_mult(y_sub, best_test_y))"
   ]
  },
  {
   "cell_type": "code",
   "execution_count": 80,
   "metadata": {},
   "outputs": [
    {
     "data": {
      "image/png": "[encoded data removed]",
      "text/plain": [
       "<matplotlib.figure.Figure at 0x28a58a497f0>"
      ]
     },
     "metadata": {},
     "output_type": "display_data"
    }
   ],
   "source": [
    "# Yeast-VaildSplit-100-ACC-TrainVaild-FreqScore-smartearlystop-20fold-lr.png\n",
    "import matplotlib.pyplot as plt\n",
    "\n",
    "plt.figure(figsize=(10,10))\n",
    "x = range(len(train_loss_lt))\n",
    "\n",
    "plt.subplot(221)\n",
    "plt.plot(x[1:],pass_train_loss_lt[1:], label=\"train-pass\", color=\"blue\")\n",
    "plt.plot(x[1:],pass_vaild_loss_lt[1:], label=\"vaild-pass\", color=\"green\")\n",
    "plt.plot(x[1:],pass_test_loss_lt[1:], label=\"test-pass\", color=\"red\")\n",
    "plt.legend()\n",
    "plt.subplot(222)\n",
    "plt.plot(x[1:],pass_train_loss_lt_now[1:], label=\"train-pass-now\", color=\"blue\")\n",
    "plt.plot(x[1:],pass_vaild_loss_lt_now[1:], label=\"vaild-pass-now\", color=\"green\")\n",
    "plt.plot(x[1:],pass_test_loss_lt_now[1:], label=\"test-pass-now\", color=\"red\")\n",
    "plt.legend()\n",
    "plt.subplot(223)\n",
    "# plt.plot(x,train_loss_lt, label=\"train-loss\", color=\"blue\")\n",
    "plt.plot(x,vaild_loss_lt, label=\"vaild-loss\", color=\"green\")\n",
    "plt.plot(x,test_loss_lt, label=\"test-loss\", color=\"red\")\n",
    "plt.legend()\n",
    "plt.subplot(224)\n",
    "plt.plot(x,pass_data_rate_lt[:], label=\"data-pass-rate\")\n",
    "plt.legend()\n",
    "\n",
    "plt.show()"
   ]
  },
  {
   "cell_type": "code",
   "execution_count": 78,
   "metadata": {},
   "outputs": [
    {
     "data": {
      "image/png": "[encoded data removed]",
      "text/plain": [
       "<matplotlib.figure.Figure at 0x28a58af1a20>"
      ]
     },
     "metadata": {},
     "output_type": "display_data"
    }
   ],
   "source": [
    "# Yeast-VaildSplit-100-ACC-TrainVaild-FreqScore-smartearlystop-20fold.png\n",
    "import matplotlib.pyplot as plt\n",
    "\n",
    "plt.figure(figsize=(10,10))\n",
    "x = range(len(train_loss_lt))\n",
    "\n",
    "plt.subplot(221)\n",
    "plt.plot(x[1:],pass_train_loss_lt[1:], label=\"train-pass\", color=\"blue\")\n",
    "plt.plot(x[1:],pass_vaild_loss_lt[1:], label=\"vaild-pass\", color=\"green\")\n",
    "plt.plot(x[1:],pass_test_loss_lt[1:], label=\"test-pass\", color=\"red\")\n",
    "plt.legend()\n",
    "plt.subplot(222)\n",
    "plt.plot(x[1:],pass_train_loss_lt_now[1:], label=\"train-pass-now\", color=\"blue\")\n",
    "plt.plot(x[1:],pass_vaild_loss_lt_now[1:], label=\"vaild-pass-now\", color=\"green\")\n",
    "plt.plot(x[1:],pass_test_loss_lt_now[1:], label=\"test-pass-now\", color=\"red\")\n",
    "plt.legend()\n",
    "plt.subplot(223)\n",
    "# plt.plot(x,train_loss_lt, label=\"train-loss\", color=\"blue\")\n",
    "plt.plot(x,vaild_loss_lt, label=\"vaild-loss\", color=\"green\")\n",
    "plt.plot(x,test_loss_lt, label=\"test-loss\", color=\"red\")\n",
    "plt.legend()\n",
    "plt.subplot(224)\n",
    "plt.plot(x,pass_data_rate_lt[:], label=\"data-pass-rate\")\n",
    "plt.legend()\n",
    "\n",
    "plt.show()"
   ]
  },
  {
   "cell_type": "code",
   "execution_count": 76,
   "metadata": {},
   "outputs": [
    {
     "data": {
      "image/png": "[encoded data removed]",
      "text/plain": [
       "<matplotlib.figure.Figure at 0x28a421a9ba8>"
      ]
     },
     "metadata": {},
     "output_type": "display_data"
    }
   ],
   "source": [
    "import matplotlib.pyplot as plt\n",
    "\n",
    "plt.figure(figsize=(10,10))\n",
    "x = range(len(train_loss_lt))\n",
    "\n",
    "plt.subplot(221)\n",
    "plt.plot(x[1:],pass_train_loss_lt[1:], label=\"train-pass\", color=\"blue\")\n",
    "plt.plot(x[1:],pass_vaild_loss_lt[1:], label=\"vaild-pass\", color=\"green\")\n",
    "plt.plot(x[1:],pass_test_loss_lt[1:], label=\"test-pass\", color=\"red\")\n",
    "plt.legend()\n",
    "plt.subplot(222)\n",
    "plt.plot(x[1:],pass_train_loss_lt_now[1:], label=\"train-pass-now\", color=\"blue\")\n",
    "plt.plot(x[1:],pass_vaild_loss_lt_now[1:], label=\"vaild-pass-now\", color=\"green\")\n",
    "plt.plot(x[1:],pass_test_loss_lt_now[1:], label=\"test-pass-now\", color=\"red\")\n",
    "plt.legend()\n",
    "plt.subplot(223)\n",
    "# plt.plot(x,train_loss_lt, label=\"train-loss\", color=\"blue\")\n",
    "plt.plot(x,vaild_loss_lt, label=\"vaild-loss\", color=\"green\")\n",
    "plt.plot(x,test_loss_lt, label=\"test-loss\", color=\"red\")\n",
    "plt.legend()\n",
    "plt.subplot(224)\n",
    "plt.plot(x,pass_data_rate_lt[:], label=\"data-pass-rate\")\n",
    "plt.legend()\n",
    "\n",
    "plt.show()"
   ]
  },
  {
   "cell_type": "code",
   "execution_count": 74,
   "metadata": {},
   "outputs": [
    {
     "data": {
      "image/png": "[encoded data removed]",
      "text/plain": [
       "<matplotlib.figure.Figure at 0x28a581b84a8>"
      ]
     },
     "metadata": {},
     "output_type": "display_data"
    }
   ],
   "source": [
    "import matplotlib.pyplot as plt\n",
    "\n",
    "plt.figure(figsize=(10,10))\n",
    "x = range(len(train_loss_lt))\n",
    "\n",
    "plt.subplot(221)\n",
    "plt.plot(x[1:],pass_train_loss_lt[1:], label=\"train-pass\", color=\"blue\")\n",
    "plt.plot(x[1:],pass_vaild_loss_lt[1:], label=\"vaild-pass\", color=\"green\")\n",
    "plt.plot(x[1:],pass_test_loss_lt[1:], label=\"test-pass\", color=\"red\")\n",
    "plt.legend()\n",
    "plt.subplot(222)\n",
    "plt.plot(x[1:],pass_train_loss_lt_now[1:], label=\"train-pass-now\", color=\"blue\")\n",
    "plt.plot(x[1:],pass_vaild_loss_lt_now[1:], label=\"vaild-pass-now\", color=\"green\")\n",
    "plt.plot(x[1:],pass_test_loss_lt_now[1:], label=\"test-pass-now\", color=\"red\")\n",
    "plt.legend()\n",
    "plt.subplot(223)\n",
    "# plt.plot(x,train_loss_lt, label=\"train-loss\", color=\"blue\")\n",
    "plt.plot(x,vaild_loss_lt, label=\"vaild-loss\", color=\"green\")\n",
    "plt.plot(x,test_loss_lt, label=\"test-loss\", color=\"red\")\n",
    "plt.legend()\n",
    "plt.subplot(224)\n",
    "plt.plot(x,pass_data_rate_lt[:], label=\"data-pass-rate\")\n",
    "plt.legend()\n",
    "\n",
    "plt.show()"
   ]
  },
  {
   "cell_type": "code",
   "execution_count": 68,
   "metadata": {},
   "outputs": [
    {
     "data": {
      "image/png": "[encoded data removed]",
      "text/plain": [
       "<matplotlib.figure.Figure at 0x28a58bbabe0>"
      ]
     },
     "metadata": {},
     "output_type": "display_data"
    }
   ],
   "source": [
    "import matplotlib.pyplot as plt\n",
    "\n",
    "plt.figure(figsize=(10,10))\n",
    "x = range(len(train_loss_lt))\n",
    "\n",
    "plt.subplot(221)\n",
    "plt.plot(x[1:],pass_train_loss_lt[1:], label=\"train-pass\", color=\"blue\")\n",
    "plt.plot(x[1:],pass_vaild_loss_lt[1:], label=\"vaild-pass\", color=\"green\")\n",
    "plt.plot(x[1:],pass_test_loss_lt[1:], label=\"test-pass\", color=\"red\")\n",
    "plt.legend()\n",
    "plt.subplot(222)\n",
    "plt.plot(x[1:],pass_train_loss_lt_now[1:], label=\"train-pass-now\", color=\"blue\")\n",
    "plt.plot(x[1:],pass_vaild_loss_lt_now[1:], label=\"vaild-pass-now\", color=\"green\")\n",
    "plt.plot(x[1:],pass_test_loss_lt_now[1:], label=\"test-pass-now\", color=\"red\")\n",
    "plt.legend()\n",
    "plt.subplot(223)\n",
    "# plt.plot(x,train_loss_lt, label=\"train-loss\", color=\"blue\")\n",
    "plt.plot(x,vaild_loss_lt, label=\"vaild-loss\", color=\"green\")\n",
    "plt.plot(x,test_loss_lt, label=\"test-loss\", color=\"red\")\n",
    "plt.legend()\n",
    "plt.subplot(224)\n",
    "plt.plot(x,pass_data_rate_lt[:], label=\"data-pass-rate\")\n",
    "plt.legend()\n",
    "\n",
    "plt.show()"
   ]
  },
  {
   "cell_type": "code",
   "execution_count": 66,
   "metadata": {},
   "outputs": [
    {
     "data": {
      "image/png": "[encoded data removed]",
      "text/plain": [
       "<matplotlib.figure.Figure at 0x28a0a1ca278>"
      ]
     },
     "metadata": {},
     "output_type": "display_data"
    }
   ],
   "source": [
    "import matplotlib.pyplot as plt\n",
    "\n",
    "plt.figure(figsize=(10,10))\n",
    "x = range(len(train_loss_lt))\n",
    "\n",
    "plt.subplot(221)\n",
    "plt.plot(x[1:],pass_train_loss_lt[1:], label=\"train-pass\", color=\"blue\")\n",
    "plt.plot(x[1:],pass_vaild_loss_lt[1:], label=\"vaild-pass\", color=\"green\")\n",
    "plt.plot(x[1:],pass_test_loss_lt[1:], label=\"test-pass\", color=\"red\")\n",
    "plt.legend()\n",
    "plt.subplot(222)\n",
    "plt.plot(x[1:],pass_train_loss_lt_now[1:], label=\"train-pass-now\", color=\"blue\")\n",
    "plt.plot(x[1:],pass_vaild_loss_lt_now[1:], label=\"vaild-pass-now\", color=\"green\")\n",
    "plt.plot(x[1:],pass_test_loss_lt_now[1:], label=\"test-pass-now\", color=\"red\")\n",
    "plt.legend()\n",
    "plt.subplot(223)\n",
    "# plt.plot(x,train_loss_lt, label=\"train-loss\", color=\"blue\")\n",
    "plt.plot(x,vaild_loss_lt, label=\"vaild-loss\", color=\"green\")\n",
    "plt.plot(x,test_loss_lt, label=\"test-loss\", color=\"red\")\n",
    "plt.legend()\n",
    "plt.subplot(224)\n",
    "plt.plot(x,pass_data_rate_lt[:], label=\"data-pass-rate\")\n",
    "plt.legend()\n",
    "\n",
    "plt.show()"
   ]
  },
  {
   "cell_type": "code",
   "execution_count": 147,
   "metadata": {},
   "outputs": [
    {
     "data": {
      "image/png": "[encoded data removed]",
      "text/plain": [
       "<matplotlib.figure.Figure at 0x2b4d1ebd7f0>"
      ]
     },
     "metadata": {},
     "output_type": "display_data"
    }
   ],
   "source": [
    "import matplotlib.pyplot as plt\n",
    "\n",
    "plt.figure(figsize=(10,10))\n",
    "x = range(len(train_loss_lt))\n",
    "\n",
    "plt.subplot(221)\n",
    "plt.plot(x[1:],pass_train_loss_lt[1:], label=\"train-pass\", color=\"blue\")\n",
    "plt.plot(x[1:],pass_vaild_loss_lt[1:], label=\"vaild-pass\", color=\"green\")\n",
    "plt.plot(x[1:],pass_test_loss_lt[1:], label=\"test-pass\", color=\"red\")\n",
    "plt.legend()\n",
    "plt.subplot(222)\n",
    "plt.plot(x[1:],pass_train_loss_lt_now[1:], label=\"train-pass-now\", color=\"blue\")\n",
    "plt.plot(x[1:],pass_vaild_loss_lt_now[1:], label=\"vaild-pass-now\", color=\"green\")\n",
    "plt.plot(x[1:],pass_test_loss_lt_now[1:], label=\"test-pass-now\", color=\"red\")\n",
    "plt.legend()\n",
    "plt.subplot(223)\n",
    "# plt.plot(x,train_loss_lt, label=\"train-loss\", color=\"blue\")\n",
    "plt.plot(x,vaild_loss_lt, label=\"vaild-loss\", color=\"green\")\n",
    "plt.plot(x,test_loss_lt, label=\"test-loss\", color=\"red\")\n",
    "plt.legend()\n",
    "plt.subplot(224)\n",
    "plt.plot(x,pass_data_rate_lt[:], label=\"data-pass-rate\")\n",
    "plt.legend()\n",
    "\n",
    "plt.show()"
   ]
  },
  {
   "cell_type": "code",
   "execution_count": 148,
   "metadata": {},
   "outputs": [
    {
     "data": {
      "text/plain": [
       "0.63452914798206284"
      ]
     },
     "execution_count": 148,
     "metadata": {},
     "output_type": "execute_result"
    }
   ],
   "source": [
    "np.max(np.array(test_loss_lt))"
   ]
  },
  {
   "cell_type": "code",
   "execution_count": 113,
   "metadata": {
    "collapsed": true
   },
   "outputs": [
    {
     "data": {
      "text/plain": [
       "[(0, 0.62556053811659196),\n",
       " (1, 0.60538116591928248),\n",
       " (2, 0.62780269058295968),\n",
       " (3, 0.60986547085201792),\n",
       " (4, 0.61434977578475336),\n",
       " (5, 0.62556053811659196),\n",
       " (6, 0.62331838565022424),\n",
       " (7, 0.6188340807174888),\n",
       " (8, 0.60986547085201792),\n",
       " (9, 0.63452914798206284),\n",
       " (10, 0.61434977578475336),\n",
       " (11, 0.61659192825112108),\n",
       " (12, 0.61434977578475336),\n",
       " (13, 0.62780269058295968),\n",
       " (14, 0.61659192825112108),\n",
       " (15, 0.6188340807174888),\n",
       " (16, 0.62556053811659196),\n",
       " (17, 0.62107623318385652),\n",
       " (18, 0.60986547085201792),\n",
       " (19, 0.61434977578475336),\n",
       " (20, 0.6188340807174888)]"
      ]
     },
     "execution_count": 113,
     "metadata": {},
     "output_type": "execute_result"
    }
   ],
   "source": [
    "list(enumerate(test_loss_lt) )"
   ]
  },
  {
   "cell_type": "code",
   "execution_count": 91,
   "metadata": {},
   "outputs": [
    {
     "data": {
      "image/png": "[encoded data removed]",
      "text/plain": [
       "<matplotlib.figure.Figure at 0x2b4c6240320>"
      ]
     },
     "metadata": {},
     "output_type": "display_data"
    }
   ],
   "source": [
    "import matplotlib.pyplot as plt\n",
    "\n",
    "plt.figure(figsize=(10,10))\n",
    "x = range(len(train_loss_lt))\n",
    "\n",
    "plt.subplot(221)\n",
    "plt.plot(x[1:],pass_train_loss_lt[1:], label=\"train-pass\", color=\"blue\")\n",
    "plt.plot(x[1:],pass_vaild_loss_lt[1:], label=\"vaild-pass\", color=\"green\")\n",
    "plt.plot(x[1:],pass_test_loss_lt[1:], label=\"test-pass\", color=\"red\")\n",
    "plt.legend()\n",
    "plt.subplot(222)\n",
    "plt.plot(x[1:],pass_train_loss_lt_now[1:], label=\"train-pass-now\", color=\"blue\")\n",
    "plt.plot(x[1:],pass_vaild_loss_lt_now[1:], label=\"vaild-pass-now\", color=\"green\")\n",
    "plt.plot(x[1:],pass_test_loss_lt_now[1:], label=\"test-pass-now\", color=\"red\")\n",
    "plt.legend()\n",
    "plt.subplot(223)\n",
    "plt.plot(x,train_loss_lt, label=\"train-loss\", color=\"blue\")\n",
    "plt.plot(x,vaild_loss_lt, label=\"vaild-loss\", color=\"green\")\n",
    "plt.plot(x,test_loss_lt, label=\"test-loss\", color=\"red\")\n",
    "plt.legend()\n",
    "plt.subplot(224)\n",
    "plt.plot(x,pass_data_rate_lt[:], label=\"data-pass-rate\")\n",
    "plt.legend()\n",
    "\n",
    "plt.show()"
   ]
  },
  {
   "cell_type": "markdown",
   "metadata": {},
   "source": [
    "# Todo list\n",
    "- 树结构设计（完成）\n",
    "- 通过gini对数据分割（完成）\n",
    "- 全局测试集\n",
    "- 输出结果集\n",
    "- 打印信息增加pass data的比例\n",
    "- 防止过拟合\n",
    "- 对pass data的进一步处理\n",
    "- 先进行数据均衡化是不是更快一些"
   ]
  },
  {
   "cell_type": "code",
   "execution_count": null,
   "metadata": {
    "collapsed": true
   },
   "outputs": [],
   "source": []
  }
 ],
 "metadata": {
  "kernelspec": {
   "display_name": "Python 3",
   "language": "python",
   "name": "python3"
  },
  "language_info": {
   "codemirror_mode": {
    "name": "ipython",
    "version": 3
   },
   "file_extension": ".py",
   "mimetype": "text/x-python",
   "name": "python",
   "nbconvert_exporter": "python",
   "pygments_lexer": "ipython3",
   "version": "3.6.1"
  }
 },
 "nbformat": 4,
 "nbformat_minor": 2
}
