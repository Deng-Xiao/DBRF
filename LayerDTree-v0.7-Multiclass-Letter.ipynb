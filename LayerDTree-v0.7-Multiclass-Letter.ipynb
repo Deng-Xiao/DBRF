{
 "cells": [
  {
   "cell_type": "markdown",
   "metadata": {},
   "source": [
    "本文主要以kaggle一次二分类竞赛数据为例，深入研究改进forest\n",
    "\n",
    "LayerDTree是LayerForest的精简版，是对Forest进一步探索的基础\n",
    "\n",
    "- 数据地址：https://www.kaggle.com/c/porto-seguro-safe-driver-prediction\n",
    "- 数据特点：\n",
    "  - 非常不均衡、缺失值严重、二分类\n",
    "- 包含内容：\n",
    "  1. 数据获取\n",
    "  2. 模型应用\n",
    "  3. 结果分析"
   ]
  },
  {
   "cell_type": "markdown",
   "metadata": {},
   "source": [
    "# Stage-1：获取数据"
   ]
  },
  {
   "cell_type": "code",
   "execution_count": 1,
   "metadata": {
    "collapsed": true
   },
   "outputs": [],
   "source": [
    "import os\n",
    "import numpy as np\n",
    "import pandas as pd\n",
    "import time\n",
    "import os.path as osp"
   ]
  },
  {
   "cell_type": "code",
   "execution_count": 6,
   "metadata": {},
   "outputs": [
    {
     "data": {
      "text/plain": [
       "<module 'DataHelper' from 'C:\\\\github_workspace\\\\ecoForest\\\\DataHelper.py'>"
      ]
     },
     "execution_count": 6,
     "metadata": {},
     "output_type": "execute_result"
    }
   ],
   "source": [
    "import DataHelper\n",
    "import importlib\n",
    "importlib.reload(DataHelper)"
   ]
  },
  {
   "cell_type": "code",
   "execution_count": 258,
   "metadata": {},
   "outputs": [
    {
     "name": "stdout",
     "output_type": "stream",
     "text": [
      "X.shape: (32561, 14) y.shape: (32561,)\n",
      "X.shape: (16281, 14) y.shape: (16281,)\n"
     ]
    }
   ],
   "source": [
    "X_train,y_train, X_sub, y_sub = DataHelper.get_driver_data()"
   ]
  },
  {
   "cell_type": "code",
   "execution_count": 7,
   "metadata": {},
   "outputs": [
    {
     "name": "stdout",
     "output_type": "stream",
     "text": [
      "X.shape: (16000, 16) y.shape: (16000,)\n",
      "X.shape: (4000, 16) y.shape: (4000,)\n"
     ]
    }
   ],
   "source": [
    "X_train,y_train, X_sub, y_sub = DataHelper.get_letter_data()"
   ]
  },
  {
   "cell_type": "code",
   "execution_count": 8,
   "metadata": {},
   "outputs": [
    {
     "data": {
      "text/plain": [
       "array([20, 13, 21,  8, 13,  7,  4, 24,  6,  4, 13,  1,  6, 11,  4,  6, 12,\n",
       "        3, 24, 17, 15,  3,  4, 22,  3, 16, 17,  6, 24, 17,  3,  9,  2,  8,\n",
       "       19,  2, 13, 12,  1,  7, 17, 16,  0,  6, 16,  7, 10,  6,  0,  0])"
      ]
     },
     "execution_count": 8,
     "metadata": {},
     "output_type": "execute_result"
    }
   ],
   "source": [
    "y_sub[:50]"
   ]
  },
  {
   "cell_type": "code",
   "execution_count": 4,
   "metadata": {},
   "outputs": [
    {
     "data": {
      "text/plain": [
       "array([20, 13, 21,  8, 13,  7,  4, 24,  6,  4, 13,  1,  6, 11,  4,  6, 12,\n",
       "        3, 24, 17, 15,  3,  4, 22,  3, 16, 17,  6, 24, 17,  3,  9,  2,  8,\n",
       "       19,  2, 13, 12,  1,  7, 17, 16,  0,  6, 16,  7, 10,  6,  0,  0])"
      ]
     },
     "execution_count": 4,
     "metadata": {},
     "output_type": "execute_result"
    }
   ],
   "source": [
    "y_sub[:50]"
   ]
  },
  {
   "cell_type": "markdown",
   "metadata": {},
   "source": [
    "# Stage-2：模型应用"
   ]
  },
  {
   "cell_type": "code",
   "execution_count": 9,
   "metadata": {
    "collapsed": true
   },
   "outputs": [],
   "source": [
    "from sklearn import tree\n",
    "from sklearn.tree import DecisionTreeClassifier\n",
    "from sklearn.model_selection import StratifiedShuffleSplit\n",
    "import ForestUtils\n",
    "import time\n",
    "import random\n",
    "from sklearn import metrics"
   ]
  },
  {
   "cell_type": "code",
   "execution_count": 10,
   "metadata": {
    "collapsed": true
   },
   "outputs": [],
   "source": [
    "import EnhancedDTree\n",
    "import EnhancedForest\n",
    "import importlib"
   ]
  },
  {
   "cell_type": "code",
   "execution_count": 11,
   "metadata": {
    "collapsed": true
   },
   "outputs": [],
   "source": [
    "from sklearn.ensemble import RandomForestClassifier, RandomForestRegressor"
   ]
  },
  {
   "cell_type": "code",
   "execution_count": null,
   "metadata": {
    "collapsed": true
   },
   "outputs": [],
   "source": []
  },
  {
   "cell_type": "code",
   "execution_count": 12,
   "metadata": {
    "collapsed": true
   },
   "outputs": [],
   "source": [
    "def acc_prob(y_sub, p_train):\n",
    "    threshold = [x*0.01 for x in range(30,71,1)]\n",
    "    result = []\n",
    "    for i in range(len(threshold)):\n",
    "        test_y_acc_index = np.where(p_train > threshold[i])[0]\n",
    "        test_y_acc = np.array([0] * len(p_train))\n",
    "        test_y_acc[test_y_acc_index] = 1\n",
    "        tmp = metrics.accuracy_score(y_sub, test_y_acc)\n",
    "        result.append(tmp)\n",
    "    result = np.array(result)\n",
    "    return np.max(result)"
   ]
  },
  {
   "cell_type": "markdown",
   "metadata": {},
   "source": [
    "# 决策树算法"
   ]
  },
  {
   "cell_type": "code",
   "execution_count": 13,
   "metadata": {},
   "outputs": [
    {
     "data": {
      "text/plain": [
       "DecisionTreeClassifier(class_weight=None, criterion='gini', max_depth=None,\n",
       "            max_features=None, max_leaf_nodes=None,\n",
       "            min_impurity_decrease=0.0, min_impurity_split=None,\n",
       "            min_samples_leaf=1, min_samples_split=2,\n",
       "            min_weight_fraction_leaf=0.0, presort=False, random_state=None,\n",
       "            splitter='best')"
      ]
     },
     "execution_count": 13,
     "metadata": {},
     "output_type": "execute_result"
    }
   ],
   "source": [
    "clf = DecisionTreeClassifier()\n",
    "clf"
   ]
  },
  {
   "cell_type": "code",
   "execution_count": 10,
   "metadata": {
    "collapsed": true
   },
   "outputs": [],
   "source": [
    "clf = clf.fit(X_train, y_train)"
   ]
  },
  {
   "cell_type": "code",
   "execution_count": 11,
   "metadata": {
    "collapsed": true
   },
   "outputs": [],
   "source": [
    "# p_train = clf.predict_proba(X_sub)\n",
    "# p_train = [item[1] for item in p_train]\n",
    "# p_train = np.array(p_train)\n",
    "# print(\"data auc\", metrics.roc_auc_score(y_sub, p_train))\n",
    "# print(\"data log\", metrics.log_loss(y_sub, p_train)) \n",
    "# print(\"data acc\", acc_prob(y_sub, p_train))"
   ]
  },
  {
   "cell_type": "code",
   "execution_count": 12,
   "metadata": {},
   "outputs": [
    {
     "name": "stdout",
     "output_type": "stream",
     "text": [
      "data auc 0.8785\n"
     ]
    }
   ],
   "source": [
    "p_train = clf.predict(X_sub)\n",
    "print(\"data auc\", metrics.accuracy_score(y_sub, p_train))"
   ]
  },
  {
   "cell_type": "markdown",
   "metadata": {},
   "source": [
    "# 随机森林算法"
   ]
  },
  {
   "cell_type": "code",
   "execution_count": 13,
   "metadata": {
    "collapsed": true
   },
   "outputs": [],
   "source": [
    "# rf = RandomForestClassifier(n_estimators=50, max_depth=10, n_jobs=4, random_state=1024, verbose=True, min_samples_leaf=10)\n",
    "# rf"
   ]
  },
  {
   "cell_type": "code",
   "execution_count": 14,
   "metadata": {},
   "outputs": [
    {
     "data": {
      "text/plain": [
       "RandomForestClassifier(bootstrap=True, class_weight=None, criterion='gini',\n",
       "            max_depth=None, max_features='auto', max_leaf_nodes=None,\n",
       "            min_impurity_decrease=0.0, min_impurity_split=None,\n",
       "            min_samples_leaf=1, min_samples_split=2,\n",
       "            min_weight_fraction_leaf=0.0, n_estimators=200, n_jobs=1,\n",
       "            oob_score=False, random_state=None, verbose=0,\n",
       "            warm_start=False)"
      ]
     },
     "execution_count": 14,
     "metadata": {},
     "output_type": "execute_result"
    }
   ],
   "source": [
    "rf = RandomForestClassifier(n_estimators=200)\n",
    "rf"
   ]
  },
  {
   "cell_type": "code",
   "execution_count": 15,
   "metadata": {},
   "outputs": [
    {
     "data": {
      "text/plain": [
       "RandomForestClassifier(bootstrap=True, class_weight=None, criterion='gini',\n",
       "            max_depth=None, max_features='auto', max_leaf_nodes=None,\n",
       "            min_impurity_decrease=0.0, min_impurity_split=None,\n",
       "            min_samples_leaf=1, min_samples_split=2,\n",
       "            min_weight_fraction_leaf=0.0, n_estimators=200, n_jobs=1,\n",
       "            oob_score=False, random_state=None, verbose=0,\n",
       "            warm_start=False)"
      ]
     },
     "execution_count": 15,
     "metadata": {},
     "output_type": "execute_result"
    }
   ],
   "source": [
    "rf.fit(X_train, y_train)"
   ]
  },
  {
   "cell_type": "code",
   "execution_count": 16,
   "metadata": {
    "collapsed": true
   },
   "outputs": [],
   "source": [
    "# p_train = rf.predict_proba(X_sub)\n",
    "# p_train = [item[1] for item in p_train]\n",
    "# p_train = np.array(p_train)\n",
    "# print(\"data auc\", metrics.roc_auc_score(y_sub, p_train))\n",
    "# print(\"data log\", metrics.log_loss(y_sub, p_train))\n",
    "# print(\"data acc\", acc_prob(y_sub, p_train))"
   ]
  },
  {
   "cell_type": "code",
   "execution_count": 17,
   "metadata": {},
   "outputs": [
    {
     "name": "stdout",
     "output_type": "stream",
     "text": [
      "data acc 0.96575\n"
     ]
    }
   ],
   "source": [
    "p_train = rf.predict(X_sub)\n",
    "print(\"data acc\", metrics.accuracy_score(y_sub, p_train))\n",
    "# print(\"data log\", metrics.log_loss(y_sub, p_train)) "
   ]
  },
  {
   "cell_type": "code",
   "execution_count": 18,
   "metadata": {},
   "outputs": [
    {
     "name": "stdout",
     "output_type": "stream",
     "text": [
      "data acc 1.0\n"
     ]
    }
   ],
   "source": [
    "p_train = rf.predict(X_train)\n",
    "print(\"data acc\", metrics.accuracy_score(y_train, p_train))\n",
    "# print(\"data log\", metrics.log_loss(y_sub, p_train)) "
   ]
  },
  {
   "cell_type": "markdown",
   "metadata": {},
   "source": [
    "# XGB算法"
   ]
  },
  {
   "cell_type": "code",
   "execution_count": 23,
   "metadata": {},
   "outputs": [
    {
     "name": "stderr",
     "output_type": "stream",
     "text": [
      "c:\\program files\\python36\\lib\\site-packages\\sklearn\\cross_validation.py:41: DeprecationWarning: This module was deprecated in version 0.18 in favor of the model_selection module into which all the refactored classes and functions are moved. Also note that the interface of the new CV iterators are different from that of this module. This module will be removed in 0.20.\n",
      "  \"This module will be removed in 0.20.\", DeprecationWarning)\n"
     ]
    }
   ],
   "source": [
    "import xgboost as xgb"
   ]
  },
  {
   "cell_type": "code",
   "execution_count": 24,
   "metadata": {
    "collapsed": true
   },
   "outputs": [],
   "source": [
    "params = {\n",
    "#     'objective': 'binary:logistic',\n",
    "    'objective':'multi:softmax',\n",
    "#     'objective':'multi:softprob',\n",
    "    'num_class':26\n",
    "#     'silent': True,\n",
    "    \n",
    "#     'max_depth': 4,\n",
    "#     'eta': 0.020,\n",
    "#     'gamma': 0.65,\n",
    "    \n",
    "#     'colsample_bytree': 0.8,\n",
    "#     'subsample': 0.6,\n",
    "    \n",
    "#     'num_boost_round' : 700,\n",
    "#     'min_child_weight': 10.0,\n",
    "#     'max_delta_step': 1.8,\n",
    "}"
   ]
  },
  {
   "cell_type": "code",
   "execution_count": 25,
   "metadata": {
    "collapsed": true
   },
   "outputs": [],
   "source": [
    "# Define the gini metric - from https://www.kaggle.com/c/ClaimPredictionChallenge/discussion/703#5897\n",
    "def ginic(actual, pred):\n",
    "    actual = np.asarray(actual) #In case, someone passes Series or list\n",
    "    n = len(actual)\n",
    "    a_s = actual[np.argsort(pred)]\n",
    "    a_c = a_s.cumsum()\n",
    "    giniSum = a_c.sum() / a_s.sum() - (n + 1) / 2.0\n",
    "    return giniSum / n\n",
    "\n",
    "def gini_normalized(a, p):\n",
    "#     if p.ndim == 2:#Required for sklearn wrapper\n",
    "#         p = p[:,1] #If proba array contains proba for both 0 and 1 classes, just pick class 1\n",
    "    return ginic(a, p) / ginic(a, a)\n",
    "\n",
    "# Create an XGBoost-compatible metric from Gini\n",
    "def gini_xgb(preds, dtrain):\n",
    "    labels = dtrain.get_label()\n",
    "    gini_score = gini_normalized(labels, preds)\n",
    "    return 'gini', gini_score\n",
    "\n",
    "def acc_xgb(preds, dtrain):\n",
    "    labels = dtrain.get_label()\n",
    "    acc_score = metrics.accuracy_score(labels, preds)\n",
    "    return 'acc', acc_score"
   ]
  },
  {
   "cell_type": "code",
   "execution_count": 26,
   "metadata": {
    "collapsed": true
   },
   "outputs": [],
   "source": [
    "sss = StratifiedShuffleSplit(n_splits=1, test_size=0.15, random_state=9487)\n",
    "split_obj = tuple(sss.split(X_train, y_train))\n",
    "train_index, test_index = split_obj[0]\n",
    "X_1, X_2 = X_train[train_index], X_train[test_index]\n",
    "y_1, y_2 = y_train[train_index], y_train[test_index]"
   ]
  },
  {
   "cell_type": "code",
   "execution_count": 27,
   "metadata": {},
   "outputs": [
    {
     "name": "stdout",
     "output_type": "stream",
     "text": [
      "[0]\ttrain-acc:0.819118\tvalid-acc:0.78375\n",
      "Multiple eval metrics have been passed: 'valid-acc' will be used for early stopping.\n",
      "\n",
      "Will train until valid-acc hasn't improved in 500 rounds.\n",
      "[100]\ttrain-acc:1\tvalid-acc:0.958333\n",
      "[200]\ttrain-acc:1\tvalid-acc:0.959583\n",
      "[300]\ttrain-acc:1\tvalid-acc:0.960417\n",
      "[400]\ttrain-acc:1\tvalid-acc:0.96\n",
      "[500]\ttrain-acc:1\tvalid-acc:0.960833\n",
      "[600]\ttrain-acc:1\tvalid-acc:0.96125\n",
      "[700]\ttrain-acc:1\tvalid-acc:0.962083\n",
      "[800]\ttrain-acc:1\tvalid-acc:0.962083\n",
      "[900]\ttrain-acc:1\tvalid-acc:0.962083\n",
      "[1000]\ttrain-acc:1\tvalid-acc:0.9625\n",
      "[1100]\ttrain-acc:1\tvalid-acc:0.962083\n",
      "[1200]\ttrain-acc:1\tvalid-acc:0.9625\n",
      "Stopping. Best iteration:\n",
      "[705]\ttrain-acc:1\tvalid-acc:0.9625\n",
      "\n"
     ]
    }
   ],
   "source": [
    "d_train = xgb.DMatrix(X_1, y_1)\n",
    "d_valid = xgb.DMatrix(X_2, y_2)\n",
    "watchlist = [(d_train, 'train'), (d_valid, 'valid')]\n",
    "\n",
    "mdl = xgb.train(params, d_train, \n",
    "                    num_boost_round=1600, evals=watchlist, early_stopping_rounds=500,\n",
    "                    feval=acc_xgb,  maximize=True, \n",
    "                verbose_eval=100)"
   ]
  },
  {
   "cell_type": "code",
   "execution_count": 28,
   "metadata": {
    "collapsed": true
   },
   "outputs": [],
   "source": [
    "# d_test = xgb.DMatrix(X_sub)\n",
    "# p_train = mdl.predict(d_test)\n",
    "# print(\"data auc\", metrics.roc_auc_score(y_sub, p_train))\n",
    "# print(\"data log\", metrics.log_loss(y_sub, p_train))\n",
    "# print(\"data acc\", acc_prob(y_sub, p_train))"
   ]
  },
  {
   "cell_type": "code",
   "execution_count": 183,
   "metadata": {},
   "outputs": [
    {
     "name": "stdout",
     "output_type": "stream",
     "text": [
      "data acc 0.072\n",
      "data acc 0.9565\n"
     ]
    }
   ],
   "source": [
    "d_test = xgb.DMatrix(X_sub)\n",
    "p_train = mdl.predict(d_test)\n",
    "# print(\"data auc\", metrics.roc_auc_score(y_sub, p_train))\n",
    "# print(\"data log\", metrics.log_loss(y_sub, p_train))\n",
    "print(\"data acc\", acc_prob(y_sub, p_train))\n",
    "print(\"data acc\", metrics.accuracy_score(y_sub, p_train))"
   ]
  },
  {
   "cell_type": "code",
   "execution_count": 31,
   "metadata": {},
   "outputs": [
    {
     "data": {
      "text/plain": [
       "array([ 20.,  13.,  21., ...,  19.,  18.,   0.], dtype=float32)"
      ]
     },
     "execution_count": 31,
     "metadata": {},
     "output_type": "execute_result"
    }
   ],
   "source": [
    "p_train"
   ]
  },
  {
   "cell_type": "code",
   "execution_count": 32,
   "metadata": {},
   "outputs": [
    {
     "data": {
      "text/plain": [
       "0.071999999999999995"
      ]
     },
     "execution_count": 32,
     "metadata": {},
     "output_type": "execute_result"
    }
   ],
   "source": [
    "test_y_acc_index = np.where(p_train > 0.5)[0]\n",
    "test_y_acc = np.array([0] * len(p_train))\n",
    "test_y_acc[test_y_acc_index] = 1\n",
    "metrics.accuracy_score(y_sub, test_y_acc)"
   ]
  },
  {
   "cell_type": "markdown",
   "metadata": {},
   "source": [
    "# GDBT算法"
   ]
  },
  {
   "cell_type": "code",
   "execution_count": 59,
   "metadata": {
    "collapsed": true
   },
   "outputs": [],
   "source": [
    "from sklearn.ensemble import GradientBoostingClassifier"
   ]
  },
  {
   "cell_type": "code",
   "execution_count": 86,
   "metadata": {},
   "outputs": [
    {
     "data": {
      "text/plain": [
       "GradientBoostingClassifier(criterion='friedman_mse', init=None,\n",
       "              learning_rate=0.1, loss='deviance', max_depth=3,\n",
       "              max_features=None, max_leaf_nodes=None,\n",
       "              min_impurity_decrease=0.0, min_impurity_split=None,\n",
       "              min_samples_leaf=1, min_samples_split=2,\n",
       "              min_weight_fraction_leaf=0.0, n_estimators=100,\n",
       "              presort='auto', random_state=None, subsample=1.0, verbose=0,\n",
       "              warm_start=False)"
      ]
     },
     "execution_count": 86,
     "metadata": {},
     "output_type": "execute_result"
    }
   ],
   "source": [
    "gdbt = GradientBoostingClassifier(n_estimators=100)\n",
    "gdbt"
   ]
  },
  {
   "cell_type": "code",
   "execution_count": 87,
   "metadata": {},
   "outputs": [
    {
     "data": {
      "text/plain": [
       "GradientBoostingClassifier(criterion='friedman_mse', init=None,\n",
       "              learning_rate=0.1, loss='deviance', max_depth=3,\n",
       "              max_features=None, max_leaf_nodes=None,\n",
       "              min_impurity_decrease=0.0, min_impurity_split=None,\n",
       "              min_samples_leaf=1, min_samples_split=2,\n",
       "              min_weight_fraction_leaf=0.0, n_estimators=100,\n",
       "              presort='auto', random_state=None, subsample=1.0, verbose=0,\n",
       "              warm_start=False)"
      ]
     },
     "execution_count": 87,
     "metadata": {},
     "output_type": "execute_result"
    }
   ],
   "source": [
    "gdbt.fit(X_train, y_train)"
   ]
  },
  {
   "cell_type": "code",
   "execution_count": 84,
   "metadata": {
    "collapsed": true
   },
   "outputs": [],
   "source": [
    "# p_train = gdbt.predict_proba(X_sub)\n",
    "# p_train = [item[1] for item in p_train]\n",
    "# p_train = np.array(p_train)\n",
    "# print(\"data auc\", metrics.roc_auc_score(y_sub, p_train))\n",
    "# print(\"data log\", metrics.log_loss(y_sub, p_train))\n",
    "# print(\"data acc\", acc_prob(y_sub, p_train))"
   ]
  },
  {
   "cell_type": "code",
   "execution_count": 88,
   "metadata": {},
   "outputs": [
    {
     "name": "stdout",
     "output_type": "stream",
     "text": [
      "data acc 0.91175\n"
     ]
    }
   ],
   "source": [
    "p_train = gdbt.predict(X_sub)\n",
    "print(\"data acc\", metrics.accuracy_score(y_sub, p_train))\n",
    "# print(\"data log\", metrics.log_loss(y_sub, p_train)) "
   ]
  },
  {
   "cell_type": "code",
   "execution_count": 85,
   "metadata": {},
   "outputs": [
    {
     "name": "stdout",
     "output_type": "stream",
     "text": [
      "data acc 0.94225\n"
     ]
    }
   ],
   "source": [
    "p_train = gdbt.predict(X_sub)\n",
    "print(\"data acc\", metrics.accuracy_score(y_sub, p_train))\n",
    "# print(\"data log\", metrics.log_loss(y_sub, p_train)) "
   ]
  },
  {
   "cell_type": "markdown",
   "metadata": {},
   "source": [
    "# BaseLine"
   ]
  },
  {
   "cell_type": "code",
   "execution_count": 35,
   "metadata": {
    "collapsed": true
   },
   "outputs": [],
   "source": [
    "def acc_metrix(a, p):\n",
    "    return \"acc:\", acc_prob(a, p)\n",
    "def mse_metrix(a, p):\n",
    "    return \"mse:\", metrics.mean_squared_error(a,p,labels=labels)\n",
    "def log_loss_metrix(a, p, labels=[0,1]):\n",
    "    return \"log:\", metrics.log_loss(a,p,labels=labels)\n",
    "def acc_metrix_mult(a, p):\n",
    "#     print(p)\n",
    "    return \"acc:\", metrics.accuracy_score(a, p)"
   ]
  },
  {
   "cell_type": "code",
   "execution_count": 61,
   "metadata": {
    "collapsed": true
   },
   "outputs": [],
   "source": [
    "from sklearn.model_selection import StratifiedShuffleSplit\n",
    "from sklearn.model_selection import StratifiedKFold\n",
    "from sklearn.model_selection import cross_val_score\n",
    "from scipy import stats\n",
    "from sklearn.linear_model import LogisticRegression"
   ]
  },
  {
   "cell_type": "code",
   "execution_count": null,
   "metadata": {
    "collapsed": true
   },
   "outputs": [],
   "source": [
    "RandomForestClassifier(bootstrap=True, class_weight=None, criterion='gini',\n",
    "            max_depth=None, max_features='auto', max_leaf_nodes=None,\n",
    "            min_impurity_decrease=0.0, min_impurity_split=None,\n",
    "            min_samples_leaf=1, min_samples_split=2,\n",
    "            min_weight_fraction_leaf=0.0, n_estimators=200, n_jobs=1,\n",
    "            oob_score=False, random_state=None, verbose=0,\n",
    "            warm_start=False)\n",
    "RandomForestClassifier(bootstrap=True, class_weight=None, criterion='gini',\n",
    "            max_depth=None, max_features='auto', max_leaf_nodes=None,\n",
    "            min_impurity_decrease=0.0, min_impurity_split=None,\n",
    "            min_samples_leaf=1, min_samples_split=2,\n",
    "            min_weight_fraction_leaf=0.0, n_estimators=200, n_jobs=-1,\n",
    "            oob_score=False, random_state=None, verbose=0,\n",
    "            warm_start=False)"
   ]
  },
  {
   "cell_type": "code",
   "execution_count": 163,
   "metadata": {
    "collapsed": true
   },
   "outputs": [],
   "source": [
    "kfold = 5\n",
    "X = X_train.copy()\n",
    "y = y_train.copy()\n",
    "X_test = X_sub.copy()\n",
    "real_y = y_sub.copy()\n",
    "max_depth = None\n",
    "random_state = 1023\n",
    "min_samples_leaf = 1\n",
    "# criterion = 'entropy'#'gini'\n",
    "criterion = 'gini'#'gini'\n",
    "num_class = 26\n",
    "feval = acc_metrix_mult\n",
    "n_estimators = 200"
   ]
  },
  {
   "cell_type": "markdown",
   "metadata": {},
   "source": [
    "## LR+K-Flod"
   ]
  },
  {
   "cell_type": "code",
   "execution_count": 172,
   "metadata": {
    "scrolled": false
   },
   "outputs": [
    {
     "name": "stdout",
     "output_type": "stream",
     "text": [
      "X_train.shape, y_train.shape:(12791, 16)(12791,)\n",
      "X_valid.shape, y_valid.shape:(3209, 16)(3209,)\n",
      "RandomForestClassifier(bootstrap=True, class_weight=None, criterion='gini',\n",
      "            max_depth=None, max_features='auto', max_leaf_nodes=None,\n",
      "            min_impurity_decrease=0.0, min_impurity_split=None,\n",
      "            min_samples_leaf=1, min_samples_split=2,\n",
      "            min_weight_fraction_leaf=0.0, n_estimators=200, n_jobs=-1,\n",
      "            oob_score=False, random_state=1023, verbose=0,\n",
      "            warm_start=False)\n",
      "    cross_score: 0.87160\n",
      "    test score ('acc:', 0.95650000000000002)\n",
      "X_train.shape, y_train.shape:(12794, 16)(12794,)\n",
      "X_valid.shape, y_valid.shape:(3206, 16)(3206,)\n",
      "RandomForestClassifier(bootstrap=True, class_weight=None, criterion='gini',\n",
      "            max_depth=None, max_features='auto', max_leaf_nodes=None,\n",
      "            min_impurity_decrease=0.0, min_impurity_split=None,\n",
      "            min_samples_leaf=1, min_samples_split=2,\n",
      "            min_weight_fraction_leaf=0.0, n_estimators=200, n_jobs=-1,\n",
      "            oob_score=False, random_state=1023, verbose=0,\n",
      "            warm_start=False)\n",
      "    cross_score: 0.87399\n",
      "    test score ('acc:', 0.95650000000000002)\n",
      "X_train.shape, y_train.shape:(12798, 16)(12798,)\n",
      "X_valid.shape, y_valid.shape:(3202, 16)(3202,)\n",
      "RandomForestClassifier(bootstrap=True, class_weight=None, criterion='gini',\n",
      "            max_depth=None, max_features='auto', max_leaf_nodes=None,\n",
      "            min_impurity_decrease=0.0, min_impurity_split=None,\n",
      "            min_samples_leaf=1, min_samples_split=2,\n",
      "            min_weight_fraction_leaf=0.0, n_estimators=200, n_jobs=-1,\n",
      "            oob_score=False, random_state=1023, verbose=0,\n",
      "            warm_start=False)\n",
      "    cross_score: 0.88386\n",
      "    test score ('acc:', 0.95950000000000002)\n",
      "X_train.shape, y_train.shape:(12806, 16)(12806,)\n",
      "X_valid.shape, y_valid.shape:(3194, 16)(3194,)\n",
      "RandomForestClassifier(bootstrap=True, class_weight=None, criterion='gini',\n",
      "            max_depth=None, max_features='auto', max_leaf_nodes=None,\n",
      "            min_impurity_decrease=0.0, min_impurity_split=None,\n",
      "            min_samples_leaf=1, min_samples_split=2,\n",
      "            min_weight_fraction_leaf=0.0, n_estimators=200, n_jobs=-1,\n",
      "            oob_score=False, random_state=1023, verbose=0,\n",
      "            warm_start=False)\n",
      "    cross_score: 0.87171\n",
      "    test score ('acc:', 0.95650000000000002)\n",
      "X_train.shape, y_train.shape:(12811, 16)(12811,)\n",
      "X_valid.shape, y_valid.shape:(3189, 16)(3189,)\n",
      "RandomForestClassifier(bootstrap=True, class_weight=None, criterion='gini',\n",
      "            max_depth=None, max_features='auto', max_leaf_nodes=None,\n",
      "            min_impurity_decrease=0.0, min_impurity_split=None,\n",
      "            min_samples_leaf=1, min_samples_split=2,\n",
      "            min_weight_fraction_leaf=0.0, n_estimators=200, n_jobs=-1,\n",
      "            oob_score=False, random_state=1023, verbose=0,\n",
      "            warm_start=False)\n",
      "    cross_score: 0.87453\n",
      "    test score ('acc:', 0.95925000000000005)\n",
      "train kflod pred: ('acc:', 0.95968750000000003)\n",
      "lr train ('acc:', 0.96056249999999999)\n",
      "lr test ('acc:', 0.96475)\n",
      "lr coef_ -0.196256354981\n",
      "test pred ('acc:', 0.96274999999999999)\n",
      "train pred ('acc:', 1.0)\n"
     ]
    }
   ],
   "source": [
    "sss = StratifiedKFold(n_splits=kfold, shuffle=True, random_state=9487)\n",
    "\n",
    "p_all_fold = np.zeros(X.shape[0])\n",
    "p_all_fold_prob = np.zeros((X.shape[0], num_class))\n",
    "p_all_fold_prob_test = np.zeros((X_test.shape[0], num_class))\n",
    "clf_folds = []\n",
    "for i, (train_index, test_index) in enumerate(sss.split(X, y)):\n",
    "    X_train_bl, X_valid_bl = X[train_index], X[test_index]\n",
    "    y_train_bl, y_valid_bl = y[train_index], y[test_index]\n",
    "        \n",
    "    print(\"X_train.shape, y_train.shape:\"+str(X_train_bl.shape)+str(y_train_bl.shape))\n",
    "    print(\"X_valid.shape, y_valid.shape:\"+str(X_valid_bl.shape)+str(y_valid_bl.shape))\n",
    "        \n",
    "    clf = RandomForestClassifier(max_depth=max_depth, random_state=random_state, \n",
    "                                    min_samples_leaf=min_samples_leaf, n_estimators=n_estimators, n_jobs=-1,\n",
    "                                         #max_leaf_nodes=100,\n",
    "    #                                  n_estimators=2, n_jobs=8, oob_score=True, verbose=1, boostrap=False,\n",
    "                                     criterion=criterion)\n",
    "    clf = clf.fit(X_train_bl, y_train_bl)\n",
    "    clf_folds.append(clf)\n",
    "    print(clf)\n",
    "    \n",
    "    cross_score = cross_val_score(clf, X_valid_bl, y_valid_bl, cv=3)\n",
    "    print(\"    cross_score: %.5f\" % (cross_score.mean()))\n",
    "    print(\"    test score\", feval(real_y, clf.predict(X_test)))\n",
    "    \n",
    "    \n",
    "    if not num_class:\n",
    "        y_pred = clf.predict_proba(X_valid_bl)[:,1]\n",
    "    else:\n",
    "        y_pred = clf.predict(X_valid_bl)\n",
    "        y_pred_prob = clf.predict_proba(X_valid_bl)\n",
    "        y_pred_prob_test = clf.predict_proba(X_test)\n",
    "\n",
    "    p_all_fold[test_index] += y_pred\n",
    "    p_all_fold_prob[test_index] += y_pred_prob\n",
    "    p_all_fold_prob_test[:, :] += y_pred_prob_test/kfold\n",
    "print(\"train kflod pred:\", feval(y, p_all_fold))\n",
    "\n",
    "### lr pred\n",
    "log_model = LogisticRegression()\n",
    "log_model.fit(p_all_fold_prob, y)\n",
    "res = log_model.predict(p_all_fold_prob)\n",
    "print(\"lr train\", feval(y, res))\n",
    "res = log_model.predict(p_all_fold_prob_test)\n",
    "print(\"lr test\", feval(real_y, res))\n",
    "print(\"lr coef_\", np.mean(log_model.coef_))\n",
    "\n",
    "#### test pred\n",
    "y_preds = np.zeros((X_test.shape[0], len(clf_folds)))\n",
    "for i, clf in enumerate(clf_folds):\n",
    "    if not num_class:\n",
    "        y_pred = clf.predict_proba(X_test)[:,1]\n",
    "    else:\n",
    "        y_pred = clf.predict(X_test)\n",
    "    y_preds[:, i] = y_pred\n",
    "\n",
    "if not num_class:\n",
    "    result = y_preds.mean(axis=1)\n",
    "else:\n",
    "#     print(y_preds)\n",
    "    m = stats.mode(y_preds, axis=1)\n",
    "    result = np.array([i[0] for i in m[0]])\n",
    "# print(result)\n",
    "print(\"test pred\", feval(real_y, result))\n",
    "\n",
    "#### train pred\n",
    "y_preds = np.zeros((X.shape[0], len(clf_folds)))\n",
    "for i, clf in enumerate(clf_folds):\n",
    "    if not num_class:\n",
    "        y_pred = clf.predict_proba(X)[:,1]\n",
    "    else:\n",
    "        y_pred = clf.predict(X)\n",
    "    y_preds[:, i] = y_pred\n",
    "\n",
    "if not num_class:\n",
    "    result = y_preds.mean(axis=1)\n",
    "else:\n",
    "#     print(y_preds)\n",
    "    m = stats.mode(y_preds, axis=1)\n",
    "    result = np.array([i[0] for i in m[0]])\n",
    "print(\"train pred\", feval(y, result))"
   ]
  },
  {
   "cell_type": "markdown",
   "metadata": {},
   "source": [
    "## 1-Flod"
   ]
  },
  {
   "cell_type": "code",
   "execution_count": 165,
   "metadata": {},
   "outputs": [
    {
     "name": "stdout",
     "output_type": "stream",
     "text": [
      "X_train.shape, y_train.shape:(16000, 16)(16000,)\n",
      "X_valid.shape, y_valid.shape:(16000, 16)(16000,)\n",
      "RandomForestClassifier(bootstrap=True, class_weight=None, criterion='gini',\n",
      "            max_depth=None, max_features='auto', max_leaf_nodes=None,\n",
      "            min_impurity_decrease=0.0, min_impurity_split=None,\n",
      "            min_samples_leaf=1, min_samples_split=2,\n",
      "            min_weight_fraction_leaf=0.0, n_estimators=200, n_jobs=-1,\n",
      "            oob_score=False, random_state=1023, verbose=0,\n",
      "            warm_start=False)\n",
      "    test score ('acc:', 0.96625000000000005)\n",
      "train kflod pred: ('acc:', 1.0)\n",
      "test pred ('acc:', 0.96625000000000005)\n",
      "train pred ('acc:', 1.0)\n"
     ]
    }
   ],
   "source": [
    "p_all_fold = np.zeros(X.shape[0])\n",
    "clf_folds = []\n",
    "if 1 == 1:\n",
    "    test_index = np.array(range(len(y)))\n",
    "    X_train_bl, X_valid_bl = X.copy(), X.copy()\n",
    "    y_train_bl, y_valid_bl = y.copy(), y.copy()\n",
    "        \n",
    "    print(\"X_train.shape, y_train.shape:\"+str(X_train_bl.shape)+str(y_train_bl.shape))\n",
    "    print(\"X_valid.shape, y_valid.shape:\"+str(X_valid_bl.shape)+str(y_valid_bl.shape))\n",
    "        \n",
    "    clf = RandomForestClassifier(max_depth=max_depth, random_state=random_state, \n",
    "                                    min_samples_leaf=min_samples_leaf, n_estimators=n_estimators, n_jobs=-1,\n",
    "                                         #max_leaf_nodes=100,\n",
    "    #                                  n_estimators=2, n_jobs=8, oob_score=True, verbose=1, boostrap=False,\n",
    "                                     criterion=criterion)\n",
    "    clf = clf.fit(X_train_bl, y_train_bl)\n",
    "    clf_folds.append(clf)\n",
    "    print(clf)\n",
    "    \n",
    "#     cross_score = cross_val_score(clf, X_valid, y_valid, cv=3)\n",
    "#     print(\"    cross_score: %.5f\" % (cross_score.mean()))\n",
    "    print(\"    test score\", feval(real_y, clf.predict(X_test)))\n",
    "    \n",
    "    \n",
    "    if not num_class:\n",
    "        y_pred = clf.predict_proba(X_valid_bl)[:,1]\n",
    "    else:\n",
    "        y_pred = clf.predict(X_valid_bl)\n",
    "\n",
    "    p_all_fold[test_index] += y_pred\n",
    "print(\"train kflod pred:\", feval(y, p_all_fold))\n",
    "\n",
    "#### test pred\n",
    "y_preds = np.zeros((X_test.shape[0], len(clf_folds)))\n",
    "for i, clf in enumerate(clf_folds):\n",
    "    if not num_class:\n",
    "        y_pred = clf.predict_proba(X_test)[:,1]\n",
    "    else:\n",
    "        y_pred = clf.predict(X_test)\n",
    "    y_preds[:, i] = y_pred\n",
    "\n",
    "if not num_class:\n",
    "    result = y_preds.mean(axis=1)\n",
    "else:\n",
    "#     print(y_preds)\n",
    "    m = stats.mode(y_preds, axis=1)\n",
    "    result = np.array([i[0] for i in m[0]])\n",
    "# print(result)\n",
    "print(\"test pred\", feval(real_y, result))\n",
    "\n",
    "#### train pred\n",
    "y_preds = np.zeros((X.shape[0], len(clf_folds)))\n",
    "for i, clf in enumerate(clf_folds):\n",
    "    if not num_class:\n",
    "        y_pred = clf.predict_proba(X)[:,1]\n",
    "    else:\n",
    "        y_pred = clf.predict(X)\n",
    "    y_preds[:, i] = y_pred\n",
    "\n",
    "if not num_class:\n",
    "    result = y_preds.mean(axis=1)\n",
    "else:\n",
    "#     print(y_preds)\n",
    "    m = stats.mode(y_preds, axis=1)\n",
    "    result = np.array([i[0] for i in m[0]])\n",
    "print(\"train pred\", feval(y, result))"
   ]
  },
  {
   "cell_type": "markdown",
   "metadata": {},
   "source": [
    "# layerDTree算法"
   ]
  },
  {
   "cell_type": "code",
   "execution_count": 120,
   "metadata": {
    "collapsed": true
   },
   "outputs": [],
   "source": [
    "def acc_metrix(a, p):\n",
    "    return \"acc:\", acc_prob(a, p)\n",
    "def mse_metrix(a, p):\n",
    "    return \"mse:\", metrics.mean_squared_error(a,p,labels=labels)\n",
    "def log_loss_metrix(a, p, labels=[0,1]):\n",
    "    return \"log:\", metrics.log_loss(a,p,labels=labels)\n",
    "def acc_metrix_mult(a, p):\n",
    "#     print(p)\n",
    "    return \"acc:\", metrics.accuracy_score(a, p)"
   ]
  },
  {
   "cell_type": "code",
   "execution_count": 121,
   "metadata": {},
   "outputs": [
    {
     "data": {
      "text/plain": [
       "{'divide': 'warn', 'invalid': 'warn', 'over': 'warn', 'under': 'ignore'}"
      ]
     },
     "execution_count": 121,
     "metadata": {},
     "output_type": "execute_result"
    }
   ],
   "source": [
    "np.seterr(divide='ignore', invalid='ignore')"
   ]
  },
  {
   "cell_type": "code",
   "execution_count": null,
   "metadata": {
    "collapsed": true
   },
   "outputs": [],
   "source": []
  },
  {
   "cell_type": "code",
   "execution_count": 137,
   "metadata": {
    "collapsed": true
   },
   "outputs": [],
   "source": [
    "import EnhancedForest_multiclass"
   ]
  },
  {
   "cell_type": "code",
   "execution_count": 173,
   "metadata": {},
   "outputs": [
    {
     "data": {
      "text/plain": [
       "<module 'EnhancedForest_multiclass' from 'C:\\\\github_workspace\\\\ecoForest\\\\EnhancedForest_multiclass.py'>"
      ]
     },
     "execution_count": 173,
     "metadata": {},
     "output_type": "execute_result"
    }
   ],
   "source": [
    "importlib.reload(EnhancedForest_multiclass)"
   ]
  },
  {
   "cell_type": "code",
   "execution_count": 182,
   "metadata": {
    "scrolled": false
   },
   "outputs": [
    {
     "name": "stdout",
     "output_type": "stream",
     "text": [
      "\n",
      "layer: 1\n",
      "train_loss: 1.0 last_train_loss: 0 False\n",
      "vaild_loss: 0.9596875 last_vaild_loss: 0 False\n",
      "test_loss: 0.96475\n",
      "1 [p:0/np:0] \n",
      "train loss ('acc:', 1.0)\n",
      "pass train loss (0, 0)\n",
      "pass train loss now (0, 0)\n",
      "vaild loss ('acc:', 0.95968750000000003)\n",
      "pass vaild loss (0, 0)\n",
      "pass vaild loss now (0, 0)\n",
      "test loss ('acc:', 0.96475)\n",
      "pass test loss (0, 0)\n",
      "pass test loss now (0, 0)\n",
      "best test loss: ('acc:', 0.96475)\n",
      "\n",
      "layer: 2\n",
      "[p:54/1:0|n:15946/1:630] train_loss: 1.0 last_train_loss: 1.0 True\n",
      "vaild_loss: 0.9589375 last_vaild_loss: 0.9596875 True\n",
      "test_loss: 0.96375\n",
      "\n",
      "layer: 3\n",
      "[p:0/1:0|n:16000/1:630] train_loss: 1.0 last_train_loss: 1.0 True\n",
      "vaild_loss: 0.95925 last_vaild_loss: 0.9596875 True\n",
      "test_loss: 0.9635\n",
      "\n",
      "layer: 4\n",
      "[p:1/1:0|n:15999/1:630] train_loss: 1.0 last_train_loss: 1.0 True\n",
      "vaild_loss: 0.959125 last_vaild_loss: 0.9596875 True\n",
      "test_loss: 0.963\n",
      "\n",
      "layer: 5\n",
      "[p:2/1:0|n:15998/1:630] train_loss: 1.0 last_train_loss: 1.0 True\n",
      "vaild_loss: 0.959875 last_vaild_loss: 0.9596875 False\n",
      "test_loss: 0.96275\n",
      "5 [p:1/np:3999] \n",
      "train loss ('acc:', 1.0)\n",
      "pass train loss ('acc:', 1.0)\n",
      "pass train loss now ('acc:', 1.0)\n",
      "vaild loss ('acc:', 0.95987500000000003)\n",
      "pass vaild loss ('acc:', 1.0)\n",
      "pass vaild loss now ('acc:', 1.0)\n",
      "test loss ('acc:', 0.96274999999999999)\n",
      "pass test loss ('acc:', 1.0)\n",
      "pass test loss now ('acc:', 1.0)\n",
      "best test loss: ('acc:', 0.96274999999999999)\n",
      "\n",
      "layer: 6\n",
      "[p:8/1:0|n:15990/1:630] train_loss: 1.0 last_train_loss: 1.0 True\n",
      "vaild_loss: 0.9585625 last_vaild_loss: 0.959875 True\n",
      "test_loss: 0.963\n",
      "\n",
      "layer: 7\n",
      "[p:26/1:0|n:15972/1:630] train_loss: 1.0 last_train_loss: 1.0 True\n",
      "vaild_loss: 0.959375 last_vaild_loss: 0.959875 True\n",
      "test_loss: 0.9625\n",
      "\n",
      "layer: 8\n",
      "[p:0/1:0|n:15998/1:630] train_loss: 1.0 last_train_loss: 1.0 True\n",
      "vaild_loss: 0.958875 last_vaild_loss: 0.959875 True\n",
      "test_loss: 0.964\n",
      "\n",
      "layer: 9\n",
      "[p:97/1:0|n:15901/1:630] train_loss: 1.0 last_train_loss: 1.0 True\n",
      "vaild_loss: 0.9588125 last_vaild_loss: 0.959875 True\n",
      "test_loss: 0.9635\n",
      "\n",
      "layer: 10\n",
      "[p:45/1:0|n:15953/1:630] train_loss: 1.0 last_train_loss: 1.0 True\n",
      "vaild_loss: 0.95875 last_vaild_loss: 0.959875 True\n",
      "test_loss: 0.9635\n",
      "\n",
      "layer: 11\n",
      "[p:9/1:0|n:15989/1:630] train_loss: 1.0 last_train_loss: 1.0 True\n",
      "vaild_loss: 0.959375 last_vaild_loss: 0.959875 True\n",
      "test_loss: 0.96475\n",
      "\n",
      "layer: 12\n",
      "[p:16/1:0|n:15982/1:630] train_loss: 1.0 last_train_loss: 1.0 True\n",
      "vaild_loss: 0.959 last_vaild_loss: 0.959875 True\n",
      "test_loss: 0.96475\n",
      "\n",
      "layer: 13\n",
      "[p:0/1:0|n:15998/1:630] train_loss: 1.0 last_train_loss: 1.0 True\n",
      "vaild_loss: 0.9595625 last_vaild_loss: 0.959875 True\n",
      "test_loss: 0.9635\n",
      "\n",
      "layer: 14\n",
      "[p:9/1:0|n:15989/1:630] train_loss: 1.0 last_train_loss: 1.0 True\n",
      "vaild_loss: 0.958625 last_vaild_loss: 0.959875 True\n",
      "test_loss: 0.96375\n",
      "\n",
      "layer: 15\n",
      "[p:9/1:0|n:15989/1:630] train_loss: 1.0 last_train_loss: 1.0 True\n",
      "vaild_loss: 0.9586875 last_vaild_loss: 0.959875 True\n",
      "test_loss: 0.9645\n",
      "\n",
      "layer: 16\n",
      "[p:2/1:0|n:15996/1:630] train_loss: 1.0 last_train_loss: 1.0 True\n",
      "vaild_loss: 0.9593125 last_vaild_loss: 0.959875 True\n",
      "test_loss: 0.9645\n",
      "\n",
      "layer: 17\n",
      "[p:0/1:0|n:15998/1:630] train_loss: 1.0 last_train_loss: 1.0 True\n",
      "vaild_loss: 0.9594375 last_vaild_loss: 0.959875 True\n",
      "test_loss: 0.96375\n",
      "\n",
      "layer: 18\n",
      "[p:34/1:0|n:15964/1:630] train_loss: 1.0 last_train_loss: 1.0 True\n",
      "vaild_loss: 0.9583125 last_vaild_loss: 0.959875 True\n",
      "test_loss: 0.96225\n",
      "\n",
      "layer: 19\n",
      "[p:0/1:0|n:15998/1:630] train_loss: 1.0 last_train_loss: 1.0 True\n",
      "vaild_loss: 0.9595 last_vaild_loss: 0.959875 True\n",
      "test_loss: 0.96475\n",
      "\n",
      "layer: 20\n",
      "[p:56/1:0|n:15942/1:630] train_loss: 1.0 last_train_loss: 1.0 True\n",
      "vaild_loss: 0.960125 last_vaild_loss: 0.959875 False\n",
      "test_loss: 0.96475\n",
      "20 [p:12/np:3987] \n",
      "train loss ('acc:', 1.0)\n",
      "pass train loss ('acc:', 1.0)\n",
      "pass train loss now ('acc:', 1.0)\n",
      "vaild loss ('acc:', 0.96012500000000001)\n",
      "pass vaild loss ('acc:', 1.0)\n",
      "pass vaild loss now ('acc:', 1.0)\n",
      "test loss ('acc:', 0.96475)\n",
      "pass test loss ('acc:', 1.0)\n",
      "pass test loss now ('acc:', 1.0)\n",
      "best test loss: ('acc:', 0.96475)\n",
      "\n",
      "layer: 21\n",
      "[p:0/1:0|n:15942/1:630] train_loss: 1.0 last_train_loss: 1.0 True\n",
      "vaild_loss: 0.959 last_vaild_loss: 0.960125 True\n",
      "test_loss: 0.964\n",
      "\n",
      "layer: 22\n",
      "[p:0/1:0|n:15942/1:630] train_loss: 1.0 last_train_loss: 1.0 True\n",
      "vaild_loss: 0.9594375 last_vaild_loss: 0.960125 True\n",
      "test_loss: 0.965\n",
      "\n",
      "layer: 23\n",
      "[p:9/1:0|n:15933/1:630] train_loss: 1.0 last_train_loss: 1.0 True\n",
      "vaild_loss: 0.9581875 last_vaild_loss: 0.960125 True\n",
      "test_loss: 0.96325\n",
      "\n",
      "layer: 24\n",
      "[p:7/1:0|n:15935/1:630] train_loss: 1.0 last_train_loss: 1.0 True\n",
      "vaild_loss: 0.958 last_vaild_loss: 0.960125 True\n",
      "test_loss: 0.964\n",
      "\n",
      "layer: 25\n",
      "[p:64/1:0|n:15878/1:630] train_loss: 1.0 last_train_loss: 1.0 True\n",
      "vaild_loss: 0.958875 last_vaild_loss: 0.960125 True\n",
      "test_loss: 0.964\n",
      "\n",
      "layer: 26\n",
      "[p:0/1:0|n:15942/1:630] train_loss: 1.0 last_train_loss: 1.0 True\n",
      "vaild_loss: 0.9598125 last_vaild_loss: 0.960125 True\n",
      "test_loss: 0.9625\n",
      "\n",
      "layer: 27\n",
      "[p:22/1:0|n:15920/1:630] train_loss: 1.0 last_train_loss: 1.0 True\n",
      "vaild_loss: 0.959375 last_vaild_loss: 0.960125 True\n",
      "test_loss: 0.96425\n",
      "\n",
      "layer: 28\n",
      "[p:45/1:0|n:15897/1:630] train_loss: 1.0 last_train_loss: 1.0 True\n",
      "vaild_loss: 0.9583125 last_vaild_loss: 0.960125 True\n",
      "test_loss: 0.96375\n",
      "\n",
      "layer: 29\n",
      "[p:0/1:0|n:15942/1:630] train_loss: 1.0 last_train_loss: 1.0 True\n",
      "vaild_loss: 0.959875 last_vaild_loss: 0.960125 True\n",
      "test_loss: 0.96325\n",
      "\n",
      "layer: 30\n",
      "[p:0/1:0|n:15942/1:630] train_loss: 1.0 last_train_loss: 1.0 True\n",
      "vaild_loss: 0.9596875 last_vaild_loss: 0.960125 True\n",
      "test_loss: 0.96275\n",
      "\n",
      "layer: 31\n",
      "[p:22/1:0|n:15920/1:630] train_loss: 1.0 last_train_loss: 1.0 True\n",
      "vaild_loss: 0.9599375 last_vaild_loss: 0.960125 True\n",
      "test_loss: 0.96475\n",
      "\n",
      "layer: 32\n",
      "[p:0/1:0|n:15942/1:630] train_loss: 1.0 last_train_loss: 1.0 True\n",
      "vaild_loss: 0.9580625 last_vaild_loss: 0.960125 True\n",
      "test_loss: 0.9635\n",
      "\n",
      "layer: 33\n",
      "[p:0/1:0|n:15942/1:630] train_loss: 1.0 last_train_loss: 1.0 True\n",
      "vaild_loss: 0.958375 last_vaild_loss: 0.960125 True\n",
      "test_loss: 0.964\n",
      "\n",
      "layer: 34\n",
      "[p:25/1:0|n:15917/1:630] train_loss: 1.0 last_train_loss: 1.0 True\n",
      "vaild_loss: 0.9593125 last_vaild_loss: 0.960125 True\n",
      "test_loss: 0.964\n",
      "\n",
      "layer: 35\n",
      "[p:5/1:0|n:15937/1:630] train_loss: 1.0 last_train_loss: 1.0 True\n",
      "vaild_loss: 0.959125 last_vaild_loss: 0.960125 True\n",
      "test_loss: 0.96225\n",
      "\n",
      "layer: 36\n",
      "[p:20/1:0|n:15922/1:630] train_loss: 1.0 last_train_loss: 1.0 True\n",
      "vaild_loss: 0.95775 last_vaild_loss: 0.960125 True\n",
      "test_loss: 0.96325\n",
      "\n",
      "layer: 37\n",
      "[p:8/1:0|n:15934/1:630] train_loss: 1.0 last_train_loss: 1.0 True\n",
      "vaild_loss: 0.958625 last_vaild_loss: 0.960125 True\n",
      "test_loss: 0.964\n",
      "\n",
      "layer: 38\n",
      "[p:6/1:0|n:15936/1:630] train_loss: 1.0 last_train_loss: 1.0 True\n",
      "vaild_loss: 0.95925 last_vaild_loss: 0.960125 True\n",
      "test_loss: 0.964\n",
      "\n",
      "layer: 39\n",
      "[p:0/1:0|n:15942/1:630] train_loss: 1.0 last_train_loss: 1.0 True\n",
      "vaild_loss: 0.9594375 last_vaild_loss: 0.960125 True\n",
      "test_loss: 0.96375\n",
      "\n",
      "layer: 40\n",
      "[p:0/1:0|n:15942/1:630] train_loss: 1.0 last_train_loss: 1.0 True\n",
      "vaild_loss: 0.9588125 last_vaild_loss: 0.960125 True\n",
      "test_loss: 0.963\n",
      "\n",
      "layer: 41\n",
      "[p:6/1:0|n:15936/1:630] train_loss: 1.0 last_train_loss: 1.0 True\n",
      "vaild_loss: 0.958375 last_vaild_loss: 0.960125 True\n",
      "test_loss: 0.9645\n",
      "\n",
      "layer: 42\n",
      "[p:26/1:0|n:15916/1:630] train_loss: 1.0 last_train_loss: 1.0 True\n",
      "vaild_loss: 0.9589375 last_vaild_loss: 0.960125 True\n",
      "test_loss: 0.9645\n",
      "\n",
      "layer: 43\n",
      "[p:0/1:0|n:15942/1:630] train_loss: 1.0 last_train_loss: 1.0 True\n",
      "vaild_loss: 0.9588125 last_vaild_loss: 0.960125 True\n",
      "test_loss: 0.96475\n",
      "\n",
      "layer: 44\n",
      "[p:0/1:0|n:15942/1:630] train_loss: 1.0 last_train_loss: 1.0 True\n",
      "vaild_loss: 0.95975 last_vaild_loss: 0.960125 True\n",
      "test_loss: 0.96375\n",
      "\n",
      "layer: 45\n",
      "[p:66/1:0|n:15876/1:630] train_loss: 1.0 last_train_loss: 1.0 True\n",
      "vaild_loss: 0.9595625 last_vaild_loss: 0.960125 True\n",
      "test_loss: 0.96375\n",
      "\n",
      "layer: 46\n",
      "[p:7/1:0|n:15935/1:630] train_loss: 1.0 last_train_loss: 1.0 True\n",
      "vaild_loss: 0.9579375 last_vaild_loss: 0.960125 True\n",
      "test_loss: 0.963\n",
      "\n",
      "layer: 47\n",
      "[p:0/1:0|n:15942/1:630] train_loss: 1.0 last_train_loss: 1.0 True\n",
      "vaild_loss: 0.9594375 last_vaild_loss: 0.960125 True\n",
      "test_loss: 0.964\n",
      "\n",
      "layer: 48\n",
      "[p:63/1:0|n:15879/1:630] train_loss: 1.0 last_train_loss: 1.0 True\n",
      "vaild_loss: 0.9590625 last_vaild_loss: 0.960125 True\n",
      "test_loss: 0.96275\n",
      "\n",
      "layer: 49\n",
      "[p:8/1:0|n:15934/1:630] train_loss: 1.0 last_train_loss: 1.0 True\n",
      "vaild_loss: 0.959875 last_vaild_loss: 0.960125 True\n",
      "test_loss: 0.96475\n",
      "\n",
      "layer: 50\n"
     ]
    },
    {
     "name": "stdout",
     "output_type": "stream",
     "text": [
      "[p:12/1:0|n:15930/1:630] train_loss: 1.0 last_train_loss: 1.0 True\n",
      "vaild_loss: 0.95975 last_vaild_loss: 0.960125 True\n",
      "test_loss: 0.96275\n",
      "\n",
      "layer: 51\n",
      "[p:92/1:0|n:15850/1:630] train_loss: 1.0 last_train_loss: 1.0 True\n",
      "vaild_loss: 0.95875 last_vaild_loss: 0.960125 True\n",
      "test_loss: 0.963\n",
      "\n",
      "layer: 52\n",
      "[p:3/1:0|n:15939/1:630] train_loss: 1.0 last_train_loss: 1.0 True\n",
      "vaild_loss: 0.959375 last_vaild_loss: 0.960125 True\n",
      "test_loss: 0.96375\n",
      "\n",
      "layer: 53\n",
      "[p:22/1:0|n:15920/1:630] train_loss: 1.0 last_train_loss: 1.0 True\n",
      "vaild_loss: 0.9596875 last_vaild_loss: 0.960125 True\n",
      "test_loss: 0.9645\n",
      "\n",
      "layer: 54\n",
      "[p:41/1:0|n:15901/1:630] train_loss: 1.0 last_train_loss: 1.0 True\n",
      "vaild_loss: 0.9586875 last_vaild_loss: 0.960125 True\n",
      "test_loss: 0.964\n",
      "\n",
      "layer: 55\n",
      "[p:0/1:0|n:15942/1:630] train_loss: 1.0 last_train_loss: 1.0 True\n",
      "vaild_loss: 0.958875 last_vaild_loss: 0.960125 True\n",
      "test_loss: 0.964\n",
      "\n",
      "layer: 56\n",
      "[p:1/1:0|n:15941/1:630] train_loss: 1.0 last_train_loss: 1.0 True\n",
      "vaild_loss: 0.9593125 last_vaild_loss: 0.960125 True\n",
      "test_loss: 0.964\n",
      "\n",
      "layer: 57\n",
      "[p:0/1:0|n:15942/1:630] train_loss: 1.0 last_train_loss: 1.0 True\n",
      "vaild_loss: 0.96 last_vaild_loss: 0.960125 True\n",
      "test_loss: 0.9635\n",
      "\n",
      "layer: 58\n",
      "[p:0/1:0|n:15942/1:630] train_loss: 1.0 last_train_loss: 1.0 True\n",
      "vaild_loss: 0.95975 last_vaild_loss: 0.960125 True\n",
      "test_loss: 0.96275\n",
      "\n",
      "layer: 59\n",
      "[p:17/1:0|n:15925/1:630] train_loss: 1.0 last_train_loss: 1.0 True\n",
      "vaild_loss: 0.959375 last_vaild_loss: 0.960125 True\n",
      "test_loss: 0.96375\n",
      "\n",
      "layer: 60\n",
      "[p:38/1:0|n:15904/1:630] train_loss: 1.0 last_train_loss: 1.0 True\n",
      "vaild_loss: 0.958125 last_vaild_loss: 0.960125 True\n",
      "test_loss: 0.96425\n",
      "\n",
      "layer: 61\n",
      "[p:88/1:0|n:15854/1:630] train_loss: 1.0 last_train_loss: 1.0 True\n",
      "vaild_loss: 0.9591875 last_vaild_loss: 0.960125 True\n",
      "test_loss: 0.9655\n",
      "\n",
      "layer: 62\n",
      "[p:6/1:0|n:15936/1:630] train_loss: 1.0 last_train_loss: 1.0 True\n",
      "vaild_loss: 0.9585 last_vaild_loss: 0.960125 True\n",
      "test_loss: 0.9645\n",
      "\n",
      "layer: 63\n",
      "[p:8/1:0|n:15934/1:630] train_loss: 1.0 last_train_loss: 1.0 True\n",
      "vaild_loss: 0.9589375 last_vaild_loss: 0.960125 True\n",
      "test_loss: 0.9655\n",
      "\n",
      "layer: 64\n",
      "[p:8/1:0|n:15934/1:630] train_loss: 1.0 last_train_loss: 1.0 True\n",
      "vaild_loss: 0.95825 last_vaild_loss: 0.960125 True\n",
      "test_loss: 0.96275\n",
      "\n",
      "layer: 65\n",
      "[p:0/1:0|n:15942/1:630] train_loss: 1.0 last_train_loss: 1.0 True\n",
      "vaild_loss: 0.958625 last_vaild_loss: 0.960125 True\n",
      "test_loss: 0.96425\n",
      "\n",
      "layer: 66\n",
      "[p:12/1:0|n:15930/1:630] train_loss: 1.0 last_train_loss: 1.0 True\n",
      "vaild_loss: 0.9583125 last_vaild_loss: 0.960125 True\n",
      "test_loss: 0.96375\n",
      "\n",
      "layer: 67\n",
      "[p:0/1:0|n:15942/1:630] train_loss: 1.0 last_train_loss: 1.0 True\n",
      "vaild_loss: 0.9590625 last_vaild_loss: 0.960125 True\n",
      "test_loss: 0.9625\n",
      "\n",
      "layer: 68\n",
      "[p:6/1:0|n:15936/1:630] train_loss: 1.0 last_train_loss: 1.0 True\n",
      "vaild_loss: 0.9593125 last_vaild_loss: 0.960125 True\n",
      "test_loss: 0.96375\n",
      "\n",
      "layer: 69\n",
      "[p:0/1:0|n:15942/1:630] train_loss: 1.0 last_train_loss: 1.0 True\n",
      "vaild_loss: 0.9578125 last_vaild_loss: 0.960125 True\n",
      "test_loss: 0.9635\n",
      "\n",
      "layer: 70\n",
      "[p:19/1:0|n:15923/1:630] train_loss: 1.0 last_train_loss: 1.0 True\n",
      "vaild_loss: 0.9589375 last_vaild_loss: 0.960125 True\n",
      "test_loss: 0.96425\n",
      "\n",
      "layer: 71\n",
      "[p:0/1:0|n:15942/1:630] train_loss: 1.0 last_train_loss: 1.0 True\n",
      "vaild_loss: 0.95775 last_vaild_loss: 0.960125 True\n",
      "test_loss: 0.96275\n",
      "\n",
      "layer: 72\n",
      "[p:0/1:0|n:15942/1:630] train_loss: 1.0 last_train_loss: 1.0 True\n",
      "vaild_loss: 0.9581875 last_vaild_loss: 0.960125 True\n",
      "test_loss: 0.96325\n",
      "\n",
      "layer: 73\n",
      "[p:35/1:0|n:15907/1:630] train_loss: 1.0 last_train_loss: 1.0 True\n",
      "vaild_loss: 0.959 last_vaild_loss: 0.960125 True\n",
      "test_loss: 0.96375\n",
      "\n",
      "layer: 74\n",
      "[p:0/1:0|n:15942/1:630] train_loss: 1.0 last_train_loss: 1.0 True\n",
      "vaild_loss: 0.96 last_vaild_loss: 0.960125 True\n",
      "test_loss: 0.96275\n",
      "\n",
      "layer: 75\n",
      "[p:0/1:0|n:15942/1:630] train_loss: 1.0 last_train_loss: 1.0 True\n",
      "vaild_loss: 0.9595 last_vaild_loss: 0.960125 True\n",
      "test_loss: 0.96325\n",
      "\n",
      "layer: 76\n",
      "[p:2/1:0|n:15940/1:630] train_loss: 1.0 last_train_loss: 1.0 True\n",
      "vaild_loss: 0.9585 last_vaild_loss: 0.960125 True\n",
      "test_loss: 0.96325\n",
      "\n",
      "layer: 77\n",
      "[p:0/1:0|n:15942/1:630] train_loss: 1.0 last_train_loss: 1.0 True\n",
      "vaild_loss: 0.95975 last_vaild_loss: 0.960125 True\n",
      "test_loss: 0.96375\n",
      "\n",
      "layer: 78\n",
      "[p:0/1:0|n:15942/1:630] train_loss: 1.0 last_train_loss: 1.0 True\n",
      "vaild_loss: 0.95975 last_vaild_loss: 0.960125 True\n",
      "test_loss: 0.9655\n",
      "\n",
      "layer: 79\n",
      "[p:54/1:0|n:15888/1:630] train_loss: 1.0 last_train_loss: 1.0 True\n",
      "vaild_loss: 0.9601875 last_vaild_loss: 0.960125 False\n",
      "test_loss: 0.963\n",
      "79 [p:8/np:3979] \n",
      "train loss ('acc:', 1.0)\n",
      "pass train loss ('acc:', 1.0)\n",
      "pass train loss now ('acc:', 1.0)\n",
      "vaild loss ('acc:', 0.96018749999999997)\n",
      "pass vaild loss ('acc:', 1.0)\n",
      "pass vaild loss now ('acc:', 1.0)\n",
      "test loss ('acc:', 0.96299999999999997)\n",
      "pass test loss ('acc:', 1.0)\n",
      "pass test loss now ('acc:', 1.0)\n",
      "best test loss: ('acc:', 0.96299999999999997)\n",
      "\n",
      "layer: 80\n",
      "[p:1/1:0|n:15887/1:630] train_loss: 1.0 last_train_loss: 1.0 True\n",
      "vaild_loss: 0.9583125 last_vaild_loss: 0.9601875 True\n",
      "test_loss: 0.9645\n",
      "\n",
      "layer: 81\n",
      "[p:8/1:0|n:15880/1:630] train_loss: 1.0 last_train_loss: 1.0 True\n",
      "vaild_loss: 0.9608125 last_vaild_loss: 0.9601875 False\n",
      "test_loss: 0.96375\n",
      "81 [p:1/np:3978] \n",
      "train loss ('acc:', 1.0)\n",
      "pass train loss ('acc:', 1.0)\n",
      "pass train loss now ('acc:', 1.0)\n",
      "vaild loss ('acc:', 0.96081249999999996)\n",
      "pass vaild loss ('acc:', 1.0)\n",
      "pass vaild loss now ('acc:', 1.0)\n",
      "test loss ('acc:', 0.96375)\n",
      "pass test loss ('acc:', 1.0)\n",
      "pass test loss now ('acc:', 1.0)\n",
      "best test loss: ('acc:', 0.96375)\n",
      "\n",
      "layer: 82\n",
      "[p:9/1:0|n:15871/1:630] train_loss: 1.0 last_train_loss: 1.0 True\n",
      "vaild_loss: 0.9598125 last_vaild_loss: 0.9608125 True\n",
      "test_loss: 0.9655\n",
      "\n",
      "layer: 83\n",
      "[p:3/1:0|n:15877/1:630] train_loss: 1.0 last_train_loss: 1.0 True\n",
      "vaild_loss: 0.95975 last_vaild_loss: 0.9608125 True\n",
      "test_loss: 0.964\n",
      "\n",
      "layer: 84\n",
      "[p:0/1:0|n:15880/1:630] train_loss: 1.0 last_train_loss: 1.0 True\n",
      "vaild_loss: 0.960125 last_vaild_loss: 0.9608125 True\n",
      "test_loss: 0.96475\n",
      "\n",
      "layer: 85\n",
      "[p:0/1:0|n:15880/1:630] train_loss: 1.0 last_train_loss: 1.0 True\n",
      "vaild_loss: 0.9591875 last_vaild_loss: 0.9608125 True\n",
      "test_loss: 0.9635\n",
      "\n",
      "layer: 86\n",
      "[p:0/1:0|n:15880/1:630] train_loss: 1.0 last_train_loss: 1.0 True\n",
      "vaild_loss: 0.9601875 last_vaild_loss: 0.9608125 True\n",
      "test_loss: 0.96275\n",
      "\n",
      "layer: 87\n",
      "[p:0/1:0|n:15880/1:630] train_loss: 1.0 last_train_loss: 1.0 True\n",
      "vaild_loss: 0.9580625 last_vaild_loss: 0.9608125 True\n",
      "test_loss: 0.963\n",
      "\n",
      "layer: 88\n",
      "[p:0/1:0|n:15880/1:630] train_loss: 1.0 last_train_loss: 1.0 True\n",
      "vaild_loss: 0.9588125 last_vaild_loss: 0.9608125 True\n",
      "test_loss: 0.9655\n",
      "\n",
      "layer: 89\n",
      "[p:0/1:0|n:15880/1:630] train_loss: 1.0 last_train_loss: 1.0 True\n",
      "vaild_loss: 0.959125 last_vaild_loss: 0.9608125 True\n",
      "test_loss: 0.96475\n",
      "\n",
      "layer: 90\n",
      "[p:0/1:0|n:15880/1:630] train_loss: 1.0 last_train_loss: 1.0 True\n",
      "vaild_loss: 0.9586875 last_vaild_loss: 0.9608125 True\n",
      "test_loss: 0.9635\n",
      "\n",
      "layer: 91\n",
      "[p:0/1:0|n:15880/1:630] train_loss: 1.0 last_train_loss: 1.0 True\n",
      "vaild_loss: 0.95875 last_vaild_loss: 0.9608125 True\n",
      "test_loss: 0.9635\n",
      "\n",
      "layer: 92\n",
      "[p:0/1:0|n:15880/1:630] train_loss: 1.0 last_train_loss: 1.0 True\n",
      "vaild_loss: 0.9595625 last_vaild_loss: 0.9608125 True\n",
      "test_loss: 0.96525\n",
      "\n",
      "layer: 93\n",
      "[p:0/1:0|n:15880/1:630] train_loss: 1.0 last_train_loss: 1.0 True\n",
      "vaild_loss: 0.959625 last_vaild_loss: 0.9608125 True\n",
      "test_loss: 0.96375\n",
      "\n",
      "layer: 94\n",
      "[p:0/1:0|n:15880/1:630] train_loss: 1.0 last_train_loss: 1.0 True\n",
      "vaild_loss: 0.9588125 last_vaild_loss: 0.9608125 True\n",
      "test_loss: 0.96425\n",
      "\n",
      "layer: 95\n",
      "[p:1/1:0|n:15879/1:630] train_loss: 1.0 last_train_loss: 1.0 True\n",
      "vaild_loss: 0.9583125 last_vaild_loss: 0.9608125 True\n",
      "test_loss: 0.9645\n",
      "\n",
      "layer: 96\n",
      "[p:0/1:0|n:15880/1:630] train_loss: 1.0 last_train_loss: 1.0 True\n",
      "vaild_loss: 0.95925 last_vaild_loss: 0.9608125 True\n",
      "test_loss: 0.9635\n",
      "\n",
      "layer: 97\n",
      "[p:0/1:0|n:15880/1:630] train_loss: 1.0 last_train_loss: 1.0 True\n",
      "vaild_loss: 0.9591875 last_vaild_loss: 0.9608125 True\n",
      "test_loss: 0.96475\n",
      "\n",
      "layer: 98\n",
      "[p:0/1:0|n:15880/1:630] train_loss: 1.0 last_train_loss: 1.0 True\n",
      "vaild_loss: 0.9596875 last_vaild_loss: 0.9608125 True\n",
      "test_loss: 0.96375\n",
      "\n",
      "layer: 99\n",
      "[p:0/1:0|n:15880/1:630] train_loss: 1.0 last_train_loss: 1.0 True\n",
      "vaild_loss: 0.958375 last_vaild_loss: 0.9608125 True\n",
      "test_loss: 0.96375\n",
      "\n",
      "layer: 100\n",
      "[p:4/1:0|n:15876/1:630] train_loss: 1.0 last_train_loss: 1.0 True\n",
      "vaild_loss: 0.9599375 last_vaild_loss: 0.9608125 True\n",
      "test_loss: 0.96425\n",
      "\n",
      "layer: 101\n"
     ]
    },
    {
     "name": "stdout",
     "output_type": "stream",
     "text": [
      "[p:7/1:0|n:15873/1:630] train_loss: 1.0 last_train_loss: 1.0 True\n",
      "vaild_loss: 0.959125 last_vaild_loss: 0.9608125 True\n",
      "test_loss: 0.9645\n"
     ]
    }
   ],
   "source": [
    "# 统计信息\n",
    "train_loss_lt = []\n",
    "pass_train_loss_lt = []\n",
    "pass_train_loss_lt_now = []\n",
    "vaild_loss_lt = []\n",
    "pass_vaild_loss_lt = []\n",
    "pass_vaild_loss_lt_now = []\n",
    "test_loss_lt = []\n",
    "pass_test_loss_lt = []\n",
    "pass_test_loss_lt_now = []\n",
    "pass_data_rate_lt = []\n",
    "\n",
    "# 数据\n",
    "X = X_train.copy()\n",
    "y = y_train.copy()\n",
    "\n",
    "X_test = X_sub.copy()\n",
    "test_y = np.array(([0.0] * len(X_test)))\n",
    "all_data_mask = np.array([False] * len(X_test))\n",
    "data_mask = np.array([False] * len(X_test))\n",
    "real_y = y_sub.copy()\n",
    "\n",
    "# 不均衡数据进行layer\n",
    "X_train_np = X\n",
    "y_train_np = y\n",
    "maxlayer = 100\n",
    "layer = 0\n",
    "\n",
    "# 不降低不更新\n",
    "last_train_loss = 0\n",
    "last_vaild_loss = 0\n",
    "\n",
    "enhancedDTree = EnhancedForest_multiclass.EnhancedForest(len(X_train), len(X_test), isLRStacker=True)\n",
    "counter = 0\n",
    "early_stop = 0\n",
    "last_is_early_stop = False\n",
    "early_stop_up = 0\n",
    "\n",
    "while 1:\n",
    "    layer += 1\n",
    "    print()\n",
    "    print(\"layer:\", layer)\n",
    "    X = X_train_np\n",
    "    y = y_train_np\n",
    "    if layer == 1: isFirst = True\n",
    "    else: isFirst = False\n",
    "        \n",
    "    feval=acc_metrix_mult\n",
    "    clf, data_mask, all_false_data_index, p_test = \\\n",
    "        enhancedDTree.TrainModelLayer(X, y, X_test, all_data_mask, test_y, real_y, verbose=False, \\\n",
    "                                      feval=feval, dropout=None, criterion='gini', random_state=1022+layer, \\\n",
    "                                        max_depth = None, min_samples_leaf = 1,\\\n",
    "                                      isFirst=isFirst, num_class=26, kfold=5\\\n",
    "                                     )\n",
    "    train_loss = enhancedDTree.getTrainLoss(feval)\n",
    "    pass_train_loss = enhancedDTree.getPassTrainLoss(feval)\n",
    "    pass_train_loss_now = enhancedDTree.getPassTrainLossNow(feval)\n",
    "    vaild_loss = enhancedDTree.getVaildLoss(feval)\n",
    "    pass_vaild_loss = enhancedDTree.getPassVaildLoss(feval)\n",
    "    pass_vaild_loss_now = enhancedDTree.getPassVaildLossNow(feval)\n",
    "    test_loss = enhancedDTree.getTestLoss(feval)\n",
    "    pass_test_loss = enhancedDTree.getPassTestLoss(feval)\n",
    "    pass_test_loss_now = enhancedDTree.getPassTestLossNow(feval)\n",
    "    \n",
    "    print(\"train_loss:\", train_loss[1], \"last_train_loss:\", last_train_loss, train_loss[1] <= last_train_loss)\n",
    "    print(\"vaild_loss:\", vaild_loss[1], \"last_vaild_loss:\", last_vaild_loss, vaild_loss[1] <= last_vaild_loss)\n",
    "    print(\"test_loss:\", test_loss[1])\n",
    "    if train_loss[1] <= last_train_loss and vaild_loss[1] <= last_vaild_loss: \n",
    "#     if vaild_loss[1] < last_vaild_loss: \n",
    "        if not isFirst: enhancedDTree.remove_last_items()\n",
    "#         early_stop_up += 1\n",
    "        if layer > maxlayer or early_stop > 5 or early_stop_up > 15:\n",
    "            break\n",
    "        continue\n",
    "        \n",
    "    last_train_loss = train_loss[1]\n",
    "    last_vaild_loss = vaild_loss[1]\n",
    "    \n",
    "    X_train_np = enhancedDTree.X_train_np\n",
    "    y_train_np = enhancedDTree.y_train_np\n",
    "    \n",
    "    # 打印信息\n",
    "    pass_data_id = data_mask[data_mask==True]\n",
    "#     all_false_data_index = np.where(all_data_mask == False)[0]\n",
    "    X_test_np = X_test[all_false_data_index]\n",
    "    print(\"%d [p:%d/np:%d] \" % (layer, len(pass_data_id), len(X_test_np) - len(pass_data_id)))#, end=\"\")\n",
    "    if len(pass_data_id) == 0: \n",
    "        if not last_is_early_stop: early_stop = 0\n",
    "        early_stop += 1\n",
    "        last_is_early_stop = True\n",
    "    else:\n",
    "        last_is_early_stop = False\n",
    "        \n",
    "    print(\"train loss\", train_loss)\n",
    "    print(\"pass train loss\", pass_train_loss)\n",
    "    print(\"pass train loss now\", pass_train_loss_now)\n",
    "    print(\"vaild loss\", vaild_loss)\n",
    "    print(\"pass vaild loss\", pass_vaild_loss)\n",
    "    print(\"pass vaild loss now\", pass_vaild_loss_now)\n",
    "    print(\"test loss\", test_loss)\n",
    "    print(\"pass test loss\", pass_test_loss)\n",
    "    print(\"pass test loss now\", pass_test_loss_now)\n",
    "    \n",
    "#     tmp_all_data_mask = all_false_data_index[~data_mask]\n",
    "#     test_y[tmp_all_data_mask] = p_test[~data_mask]\n",
    "    tmp_test_loss = feval(y_sub, test_y)\n",
    "    best_test_y = test_y.copy()\n",
    "    print(\"best test loss:\", tmp_test_loss)\n",
    "    \n",
    "    train_loss_lt.append(train_loss[1])\n",
    "    pass_train_loss_lt.append(pass_train_loss[1])\n",
    "    pass_train_loss_lt_now.append(pass_train_loss_now[1])\n",
    "    vaild_loss_lt.append(vaild_loss[1])\n",
    "    pass_vaild_loss_lt.append(pass_vaild_loss[1])\n",
    "    pass_vaild_loss_lt_now.append(pass_vaild_loss_now[1])\n",
    "    test_loss_lt.append(test_loss[1])\n",
    "    pass_test_loss_lt.append(pass_test_loss[1])\n",
    "    pass_test_loss_lt_now.append(pass_test_loss_now[1])\n",
    "    if len(pass_data_rate_lt) == 0:\n",
    "        pass_data_rate_lt.append(len(data_mask[data_mask==True])/len(X_test))\n",
    "    else:\n",
    "        pass_data_rate_lt.append(pass_data_rate_lt[-1]+len(data_mask[data_mask==True])/len(X_test))\n",
    "    # 打印信息结束\n",
    "    \n",
    "#     if X_train_np.shape[0] < 10 or layer > maxlayer or y_train_np[y_train_np==1].shape[0] <= 10 or early_stop > 5:\n",
    "    if layer > maxlayer or early_stop > 5:\n",
    "        break\n",
    "        \n",
    "    all_data_mask[~all_data_mask] = data_mask"
   ]
  },
  {
   "cell_type": "code",
   "execution_count": 127,
   "metadata": {},
   "outputs": [
    {
     "name": "stdout",
     "output_type": "stream",
     "text": [
      "data acc ('acc:', 0.96274999999999999)\n",
      "data acc ('acc:', 0.96274999999999999)\n"
     ]
    }
   ],
   "source": [
    "# \n",
    "print(\"data acc\", acc_metrix_mult(y_sub, test_y))\n",
    "print(\"data acc\", acc_metrix_mult(y_sub, best_test_y))"
   ]
  },
  {
   "cell_type": "code",
   "execution_count": 161,
   "metadata": {},
   "outputs": [
    {
     "name": "stdout",
     "output_type": "stream",
     "text": [
      "data acc ('acc:', 0.88424999999999998)\n",
      "data acc ('acc:', 0.88424999999999998)\n"
     ]
    }
   ],
   "source": [
    "# \n",
    "print(\"data acc\", acc_metrix_mult(y_sub, test_y))\n",
    "print(\"data acc\", acc_metrix_mult(y_sub, best_test_y))"
   ]
  },
  {
   "cell_type": "code",
   "execution_count": 157,
   "metadata": {},
   "outputs": [
    {
     "data": {
      "image/png": "[encoded data removed]",
      "text/plain": [
       "<matplotlib.figure.Figure at 0x253d3671b00>"
      ]
     },
     "metadata": {},
     "output_type": "display_data"
    }
   ],
   "source": [
    "import matplotlib.pyplot as plt\n",
    "\n",
    "plt.figure(figsize=(10,10))\n",
    "x = range(len(train_loss_lt))\n",
    "\n",
    "plt.subplot(221)\n",
    "plt.plot(x[1:],pass_train_loss_lt[1:], label=\"train-pass\", color=\"blue\")\n",
    "plt.plot(x[1:],pass_vaild_loss_lt[1:], label=\"vaild-pass\", color=\"green\")\n",
    "plt.plot(x[1:],pass_test_loss_lt[1:], label=\"test-pass\", color=\"red\")\n",
    "plt.legend()\n",
    "plt.subplot(222)\n",
    "plt.plot(x[1:],pass_train_loss_lt_now[1:], label=\"train-pass-now\", color=\"blue\")\n",
    "plt.plot(x[1:],pass_vaild_loss_lt_now[1:], label=\"vaild-pass-now\", color=\"green\")\n",
    "plt.plot(x[1:],pass_test_loss_lt_now[1:], label=\"test-pass-now\", color=\"red\")\n",
    "plt.legend()\n",
    "plt.subplot(223)\n",
    "# plt.plot(x,train_loss_lt, label=\"train-loss\", color=\"blue\")\n",
    "plt.plot(x,vaild_loss_lt, label=\"vaild-loss\", color=\"green\")\n",
    "plt.plot(x,test_loss_lt, label=\"test-loss\", color=\"red\")\n",
    "plt.legend()\n",
    "plt.subplot(224)\n",
    "plt.plot(x,pass_data_rate_lt[:], label=\"data-pass-rate\")\n",
    "plt.legend()\n",
    "\n",
    "plt.show()"
   ]
  },
  {
   "cell_type": "code",
   "execution_count": 155,
   "metadata": {},
   "outputs": [
    {
     "data": {
      "image/png": "[encoded data removed]",
      "text/plain": [
       "<matplotlib.figure.Figure at 0x257fe1f67b8>"
      ]
     },
     "metadata": {},
     "output_type": "display_data"
    }
   ],
   "source": [
    "import matplotlib.pyplot as plt\n",
    "\n",
    "plt.figure(figsize=(10,10))\n",
    "x = range(len(train_loss_lt))\n",
    "\n",
    "plt.subplot(221)\n",
    "plt.plot(x[1:],pass_train_loss_lt[1:], label=\"train-pass\", color=\"blue\")\n",
    "plt.plot(x[1:],pass_vaild_loss_lt[1:], label=\"vaild-pass\", color=\"green\")\n",
    "plt.plot(x[1:],pass_test_loss_lt[1:], label=\"test-pass\", color=\"red\")\n",
    "plt.legend()\n",
    "plt.subplot(222)\n",
    "plt.plot(x[1:],pass_train_loss_lt_now[1:], label=\"train-pass-now\", color=\"blue\")\n",
    "plt.plot(x[1:],pass_vaild_loss_lt_now[1:], label=\"vaild-pass-now\", color=\"green\")\n",
    "plt.plot(x[1:],pass_test_loss_lt_now[1:], label=\"test-pass-now\", color=\"red\")\n",
    "plt.legend()\n",
    "plt.subplot(223)\n",
    "# plt.plot(x,train_loss_lt, label=\"train-loss\", color=\"blue\")\n",
    "plt.plot(x,vaild_loss_lt, label=\"vaild-loss\", color=\"green\")\n",
    "plt.plot(x,test_loss_lt, label=\"test-loss\", color=\"red\")\n",
    "plt.legend()\n",
    "plt.subplot(224)\n",
    "plt.plot(x,pass_data_rate_lt[:], label=\"data-pass-rate\")\n",
    "plt.legend()\n",
    "\n",
    "plt.show()"
   ]
  },
  {
   "cell_type": "code",
   "execution_count": 331,
   "metadata": {},
   "outputs": [
    {
     "data": {
      "image/png": "[encoded data removed]",
      "text/plain": [
       "<matplotlib.figure.Figure at 0x1bb00359240>"
      ]
     },
     "metadata": {},
     "output_type": "display_data"
    }
   ],
   "source": [
    "import matplotlib.pyplot as plt\n",
    "\n",
    "plt.figure(figsize=(10,10))\n",
    "x = range(len(train_loss_lt))\n",
    "\n",
    "plt.subplot(221)\n",
    "plt.plot(x[1:],pass_train_loss_lt[1:], label=\"train-pass\", color=\"blue\")\n",
    "plt.plot(x[1:],pass_vaild_loss_lt[1:], label=\"vaild-pass\", color=\"green\")\n",
    "plt.plot(x[1:],pass_test_loss_lt[1:], label=\"test-pass\", color=\"red\")\n",
    "plt.legend()\n",
    "plt.subplot(222)\n",
    "plt.plot(x[1:],pass_train_loss_lt_now[1:], label=\"train-pass-now\", color=\"blue\")\n",
    "plt.plot(x[1:],pass_vaild_loss_lt_now[1:], label=\"vaild-pass-now\", color=\"green\")\n",
    "plt.plot(x[1:],pass_test_loss_lt_now[1:], label=\"test-pass-now\", color=\"red\")\n",
    "plt.legend()\n",
    "plt.subplot(223)\n",
    "# plt.plot(x,train_loss_lt, label=\"train-loss\", color=\"blue\")\n",
    "plt.plot(x,vaild_loss_lt, label=\"vaild-loss\", color=\"green\")\n",
    "plt.plot(x,test_loss_lt, label=\"test-loss\", color=\"red\")\n",
    "plt.legend()\n",
    "plt.subplot(224)\n",
    "plt.plot(x,pass_data_rate_lt[:], label=\"data-pass-rate\")\n",
    "plt.legend()\n",
    "\n",
    "plt.show()"
   ]
  },
  {
   "cell_type": "code",
   "execution_count": 332,
   "metadata": {},
   "outputs": [
    {
     "data": {
      "text/plain": [
       "0.96399999999999997"
      ]
     },
     "execution_count": 332,
     "metadata": {},
     "output_type": "execute_result"
    }
   ],
   "source": [
    "np.max(np.array(test_loss_lt))"
   ]
  },
  {
   "cell_type": "code",
   "execution_count": 307,
   "metadata": {},
   "outputs": [
    {
     "data": {
      "image/png": "[encoded data removed]",
      "text/plain": [
       "<matplotlib.figure.Figure at 0x1bb0cbc32e8>"
      ]
     },
     "metadata": {},
     "output_type": "display_data"
    }
   ],
   "source": [
    "import matplotlib.pyplot as plt\n",
    "\n",
    "plt.figure(figsize=(10,10))\n",
    "x = range(len(train_loss_lt))\n",
    "\n",
    "plt.subplot(221)\n",
    "plt.plot(x[1:],pass_train_loss_lt[1:], label=\"train-pass\", color=\"blue\")\n",
    "plt.plot(x[1:],pass_vaild_loss_lt[1:], label=\"vaild-pass\", color=\"green\")\n",
    "plt.plot(x[1:],pass_test_loss_lt[1:], label=\"test-pass\", color=\"red\")\n",
    "plt.legend()\n",
    "plt.subplot(222)\n",
    "plt.plot(x[1:],pass_train_loss_lt_now[1:], label=\"train-pass-now\", color=\"blue\")\n",
    "plt.plot(x[1:],pass_vaild_loss_lt_now[1:], label=\"vaild-pass-now\", color=\"green\")\n",
    "plt.plot(x[1:],pass_test_loss_lt_now[1:], label=\"test-pass-now\", color=\"red\")\n",
    "plt.legend()\n",
    "plt.subplot(223)\n",
    "plt.plot(x,train_loss_lt, label=\"train-loss\", color=\"blue\")\n",
    "plt.plot(x,vaild_loss_lt, label=\"vaild-loss\", color=\"green\")\n",
    "plt.plot(x,test_loss_lt, label=\"test-loss\", color=\"red\")\n",
    "plt.legend()\n",
    "plt.subplot(224)\n",
    "plt.plot(x,pass_data_rate_lt[:], label=\"data-pass-rate\")\n",
    "plt.legend()\n",
    "\n",
    "plt.show()"
   ]
  },
  {
   "cell_type": "code",
   "execution_count": 160,
   "metadata": {},
   "outputs": [
    {
     "data": {
      "image/png": "[encoded data removed]",
      "text/plain": [
       "<matplotlib.figure.Figure at 0x1ba49d2cf28>"
      ]
     },
     "metadata": {},
     "output_type": "display_data"
    }
   ],
   "source": [
    "import matplotlib.pyplot as plt\n",
    "\n",
    "plt.figure(figsize=(10,10))\n",
    "x = range(len(train_loss_lt))\n",
    "\n",
    "plt.subplot(221)\n",
    "plt.plot(x[1:],pass_train_loss_lt[1:], label=\"train-pass\", color=\"blue\")\n",
    "plt.plot(x[1:],pass_vaild_loss_lt[1:], label=\"vaild-pass\", color=\"green\")\n",
    "plt.plot(x[1:],pass_test_loss_lt[1:], label=\"test-pass\", color=\"red\")\n",
    "plt.legend()\n",
    "plt.subplot(222)\n",
    "plt.plot(x[1:],pass_train_loss_lt_now[1:], label=\"train-pass-now\", color=\"blue\")\n",
    "plt.plot(x[1:],pass_vaild_loss_lt_now[1:], label=\"vaild-pass-now\", color=\"green\")\n",
    "plt.plot(x[1:],pass_test_loss_lt_now[1:], label=\"test-pass-now\", color=\"red\")\n",
    "plt.legend()\n",
    "plt.subplot(223)\n",
    "plt.plot(x,train_loss_lt, label=\"train-loss\", color=\"blue\")\n",
    "plt.plot(x,vaild_loss_lt, label=\"vaild-loss\", color=\"green\")\n",
    "plt.plot(x,test_loss_lt, label=\"test-loss\", color=\"red\")\n",
    "plt.legend()\n",
    "plt.subplot(224)\n",
    "plt.plot(x,pass_data_rate_lt[:], label=\"data-pass-rate\")\n",
    "plt.legend()\n",
    "\n",
    "plt.show()"
   ]
  },
  {
   "cell_type": "code",
   "execution_count": 157,
   "metadata": {},
   "outputs": [
    {
     "data": {
      "image/png": "[encoded data removed]",
      "text/plain": [
       "<matplotlib.figure.Figure at 0x1ba49a331d0>"
      ]
     },
     "metadata": {},
     "output_type": "display_data"
    }
   ],
   "source": [
    "import matplotlib.pyplot as plt\n",
    "\n",
    "plt.figure(figsize=(10,10))\n",
    "x = range(len(train_loss_lt))\n",
    "\n",
    "plt.subplot(221)\n",
    "plt.plot(x[1:],pass_train_loss_lt[1:], label=\"train-pass\", color=\"blue\")\n",
    "plt.plot(x[1:],pass_vaild_loss_lt[1:], label=\"vaild-pass\", color=\"green\")\n",
    "plt.plot(x[1:],pass_test_loss_lt[1:], label=\"test-pass\", color=\"red\")\n",
    "plt.legend()\n",
    "plt.subplot(222)\n",
    "plt.plot(x[1:],pass_train_loss_lt_now[1:], label=\"train-pass-now\", color=\"blue\")\n",
    "plt.plot(x[1:],pass_vaild_loss_lt_now[1:], label=\"vaild-pass-now\", color=\"green\")\n",
    "plt.plot(x[1:],pass_test_loss_lt_now[1:], label=\"test-pass-now\", color=\"red\")\n",
    "plt.legend()\n",
    "plt.subplot(223)\n",
    "plt.plot(x,train_loss_lt, label=\"train-loss\", color=\"blue\")\n",
    "plt.plot(x,vaild_loss_lt, label=\"vaild-loss\", color=\"green\")\n",
    "plt.plot(x,test_loss_lt, label=\"test-loss\", color=\"red\")\n",
    "plt.legend()\n",
    "plt.subplot(224)\n",
    "plt.plot(x,pass_data_rate_lt[:], label=\"data-pass-rate\")\n",
    "plt.legend()\n",
    "\n",
    "plt.show()"
   ]
  },
  {
   "cell_type": "code",
   "execution_count": 201,
   "metadata": {
    "collapsed": true
   },
   "outputs": [
    {
     "data": {
      "text/plain": [
       "[0.99928977272727271,\n",
       " 0.99489795918367352,\n",
       " 1.0,\n",
       " 1.0,\n",
       " 1.0,\n",
       " 0.98958333333333337,\n",
       " 0.99212598425196852,\n",
       " 0.99270072992700731,\n",
       " 1.0,\n",
       " 0.90909090909090906,\n",
       " 1.0,\n",
       " 1.0,\n",
       " 1.0,\n",
       " 1.0,\n",
       " 1.0,\n",
       " 1.0,\n",
       " 1.0,\n",
       " 1.0,\n",
       " 1.0,\n",
       " 1.0,\n",
       " 1.0,\n",
       " 0.94999999999999996,\n",
       " 1.0]"
      ]
     },
     "execution_count": 201,
     "metadata": {},
     "output_type": "execute_result"
    }
   ],
   "source": [
    "pass_test_loss_lt_now[1:]"
   ]
  },
  {
   "cell_type": "code",
   "execution_count": 145,
   "metadata": {
    "collapsed": true
   },
   "outputs": [
    {
     "name": "stdout",
     "output_type": "stream",
     "text": [
      "data auc 0.913834654713\n",
      "data log 0.306926614716\n",
      "data acc 0.861494994165\n"
     ]
    }
   ],
   "source": [
    "print(\"data auc\", metrics.roc_auc_score(y_sub, test_y))\n",
    "print(\"data log\", metrics.log_loss(y_sub, test_y))\n",
    "print(\"data acc\", acc_prob(y_sub, test_y))"
   ]
  },
  {
   "cell_type": "markdown",
   "metadata": {},
   "source": [
    "# Todo list\n",
    "- 树结构设计（完成）\n",
    "- 通过gini对数据分割（完成）\n",
    "- 全局测试集\n",
    "- 输出结果集\n",
    "- 打印信息增加pass data的比例\n",
    "- 防止过拟合\n",
    "- 对pass data的进一步处理\n",
    "- 先进行数据均衡化是不是更快一些"
   ]
  },
  {
   "cell_type": "code",
   "execution_count": null,
   "metadata": {
    "collapsed": true
   },
   "outputs": [],
   "source": []
  }
 ],
 "metadata": {
  "kernelspec": {
   "display_name": "Python 3",
   "language": "python",
   "name": "python3"
  },
  "language_info": {
   "codemirror_mode": {
    "name": "ipython",
    "version": 3
   },
   "file_extension": ".py",
   "mimetype": "text/x-python",
   "name": "python",
   "nbconvert_exporter": "python",
   "pygments_lexer": "ipython3",
   "version": "3.7.3"
  }
 },
 "nbformat": 4,
 "nbformat_minor": 2
}
