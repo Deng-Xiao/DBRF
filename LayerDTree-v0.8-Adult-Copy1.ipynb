{
 "cells": [
  {
   "cell_type": "markdown",
   "metadata": {},
   "source": [
    "EcoForest 0.8\n",
    "\n",
    "> **0.7精华版，0.8是一个里程碑，将在其基础上做最后的修改**\n",
    "\n",
    "- 数据地址：UCI\n",
    "  - Letter: https://archive.ics.uci.edu/ml/datasets/letter+recognition\n",
    "- 数据特点：\n",
    "  - 非常不均衡、缺失值严重、二分类\n",
    "- 包含内容：\n",
    "  1. 数据获取\n",
    "  2. 模型应用\n",
    "  3. 结果分析"
   ]
  },
  {
   "cell_type": "code",
   "execution_count": 1,
   "metadata": {
    "collapsed": true
   },
   "outputs": [],
   "source": [
    "import os\n",
    "import numpy as np\n",
    "import pandas as pd\n",
    "import time\n",
    "import os.path as osp"
   ]
  },
  {
   "cell_type": "markdown",
   "metadata": {},
   "source": [
    "# Stage-1：获取数据"
   ]
  },
  {
   "cell_type": "code",
   "execution_count": 2,
   "metadata": {},
   "outputs": [
    {
     "data": {
      "text/plain": [
       "<module 'DataHelper' from 'C:\\\\github_workspace\\\\ecoForest\\\\DataHelper.py'>"
      ]
     },
     "execution_count": 2,
     "metadata": {},
     "output_type": "execute_result"
    }
   ],
   "source": [
    "import DataHelper\n",
    "import importlib\n",
    "from collections import Counter\n",
    "importlib.reload(DataHelper)"
   ]
  },
  {
   "cell_type": "code",
   "execution_count": 3,
   "metadata": {
    "collapsed": true
   },
   "outputs": [],
   "source": [
    "# X_train,y_train, X_sub, y_sub = DataHelper.get_driver_data()\n",
    "# X_train,y_train, X_sub, y_sub = DataHelper.get_yeast_data()\n",
    "# X_train,y_train, X_sub, y_sub = DataHelper.get_letter_data()"
   ]
  },
  {
   "cell_type": "code",
   "execution_count": 4,
   "metadata": {},
   "outputs": [
    {
     "name": "stdout",
     "output_type": "stream",
     "text": [
      "X.shape: (32561, 14) y.shape: (32561,)\n",
      "X.shape: (16281, 14) y.shape: (16281,)\n"
     ]
    }
   ],
   "source": [
    "X_train,y_train, X_sub, y_sub = DataHelper.get_adult_data()"
   ]
  },
  {
   "cell_type": "code",
   "execution_count": 6,
   "metadata": {
    "collapsed": true
   },
   "outputs": [],
   "source": [
    "# train = pd.read_csv(\"./datasetes/adult/adult_train.csv\")\n",
    "# X_train = train.iloc[:, 1:].values \n",
    "# y_train = train.iloc[:, 0].values\n",
    "# X_train.shape, y_train.shape"
   ]
  },
  {
   "cell_type": "code",
   "execution_count": 7,
   "metadata": {
    "collapsed": true
   },
   "outputs": [],
   "source": [
    "# test = pd.read_csv(\"./datasetes/adult/adult_test.csv\")\n",
    "# X_sub = test.iloc[:, 1:].values \n",
    "# y_sub = test.iloc[:, 0].values\n",
    "# X_sub.shape, y_sub.shape"
   ]
  },
  {
   "cell_type": "code",
   "execution_count": 6,
   "metadata": {},
   "outputs": [
    {
     "data": {
      "text/plain": [
       "Counter({0: 24720, 1: 7841})"
      ]
     },
     "execution_count": 6,
     "metadata": {},
     "output_type": "execute_result"
    }
   ],
   "source": [
    "Counter(y_train)"
   ]
  },
  {
   "cell_type": "code",
   "execution_count": 5,
   "metadata": {},
   "outputs": [
    {
     "data": {
      "text/plain": [
       "Counter({0: 12435, 1: 3846})"
      ]
     },
     "execution_count": 5,
     "metadata": {},
     "output_type": "execute_result"
    }
   ],
   "source": [
    "Counter(y_sub)"
   ]
  },
  {
   "cell_type": "markdown",
   "metadata": {},
   "source": [
    "# Stage-2：模型应用"
   ]
  },
  {
   "cell_type": "code",
   "execution_count": 7,
   "metadata": {},
   "outputs": [
    {
     "name": "stderr",
     "output_type": "stream",
     "text": [
      "c:\\program files\\python36\\lib\\site-packages\\sklearn\\cross_validation.py:41: DeprecationWarning: This module was deprecated in version 0.18 in favor of the model_selection module into which all the refactored classes and functions are moved. Also note that the interface of the new CV iterators are different from that of this module. This module will be removed in 0.20.\n",
      "  \"This module will be removed in 0.20.\", DeprecationWarning)\n"
     ]
    },
    {
     "data": {
      "text/plain": [
       "<module 'ModelUtils' from 'C:\\\\github_workspace\\\\ecoForest\\\\ModelUtils.py'>"
      ]
     },
     "execution_count": 7,
     "metadata": {},
     "output_type": "execute_result"
    }
   ],
   "source": [
    "import ModelUtils\n",
    "import importlib\n",
    "from collections import Counter\n",
    "importlib.reload(ModelUtils)"
   ]
  },
  {
   "cell_type": "code",
   "execution_count": 8,
   "metadata": {
    "collapsed": true
   },
   "outputs": [],
   "source": [
    "from sklearn import metrics\n",
    "def acc_metrix_mult(a, p):\n",
    "#     print(p)\n",
    "    return \"acc\", metrics.accuracy_score(a, p)"
   ]
  },
  {
   "cell_type": "markdown",
   "metadata": {},
   "source": [
    "# DT, RF, GDBT, XGB 算法"
   ]
  },
  {
   "cell_type": "code",
   "execution_count": 12,
   "metadata": {},
   "outputs": [
    {
     "name": "stdout",
     "output_type": "stream",
     "text": [
      "train ('acc', 0.99996928841251809)\n",
      "test ('acc', 0.81358638904244207)\n"
     ]
    },
    {
     "data": {
      "text/plain": [
       "DecisionTreeClassifier(class_weight=None, criterion='gini', max_depth=None,\n",
       "            max_features=None, max_leaf_nodes=None,\n",
       "            min_impurity_decrease=0.0, min_impurity_split=None,\n",
       "            min_samples_leaf=1, min_samples_split=2,\n",
       "            min_weight_fraction_leaf=0.0, presort=False, random_state=None,\n",
       "            splitter='best')"
      ]
     },
     "execution_count": 12,
     "metadata": {},
     "output_type": "execute_result"
    }
   ],
   "source": [
    "ModelUtils.decision_tree(X_train, y_train, X_sub, y_sub, feval=acc_metrix_mult)"
   ]
  },
  {
   "cell_type": "code",
   "execution_count": 85,
   "metadata": {},
   "outputs": [
    {
     "name": "stdout",
     "output_type": "stream",
     "text": [
      "train ('acc', 0.8627499155431344)\n",
      "test ('acc', 0.86002088323813031)\n"
     ]
    },
    {
     "data": {
      "text/plain": [
       "RandomForestClassifier(bootstrap=True, class_weight=None, criterion='gini',\n",
       "            max_depth=None, max_features='auto', max_leaf_nodes=None,\n",
       "            min_impurity_decrease=0.0, min_impurity_split=None,\n",
       "            min_samples_leaf=40, min_samples_split=2,\n",
       "            min_weight_fraction_leaf=0.0, n_estimators=1000, n_jobs=1,\n",
       "            oob_score=False, random_state=None, verbose=0,\n",
       "            warm_start=False)"
      ]
     },
     "execution_count": 85,
     "metadata": {},
     "output_type": "execute_result"
    }
   ],
   "source": [
    "ModelUtils.random_forest(X_train, y_train, X_sub, y_sub, n_estimators=1000, feval=acc_metrix_mult,\\\n",
    "                         max_depth=None, min_samples_leaf=40, min_samples_split=2)"
   ]
  },
  {
   "cell_type": "code",
   "execution_count": 13,
   "metadata": {},
   "outputs": [
    {
     "name": "stdout",
     "output_type": "stream",
     "text": [
      "train ('acc', 0.87586376339793004)\n",
      "test ('acc', 0.87439346477489099)\n"
     ]
    },
    {
     "data": {
      "text/plain": [
       "GradientBoostingClassifier(criterion='friedman_mse', init=None,\n",
       "              learning_rate=0.1, loss='deviance', max_depth=3,\n",
       "              max_features=None, max_leaf_nodes=None,\n",
       "              min_impurity_decrease=0.0, min_impurity_split=None,\n",
       "              min_samples_leaf=1, min_samples_split=2,\n",
       "              min_weight_fraction_leaf=0.0, n_estimators=200,\n",
       "              presort='auto', random_state=None, subsample=1.0, verbose=0,\n",
       "              warm_start=False)"
      ]
     },
     "execution_count": 13,
     "metadata": {},
     "output_type": "execute_result"
    }
   ],
   "source": [
    "ModelUtils.gdbt_model(X_train, y_train, X_sub, y_sub, n_estimators=200, feval=acc_metrix_mult)"
   ]
  },
  {
   "cell_type": "code",
   "execution_count": 14,
   "metadata": {},
   "outputs": [
    {
     "name": "stdout",
     "output_type": "stream",
     "text": [
      "{'objective': 'multi:softmax', 'num_class': 2}\n",
      "[0]\ttrain-acc:0.855318\tvalid-acc:0.85609\n",
      "Multiple eval metrics have been passed: 'valid-acc' will be used for early stopping.\n",
      "\n",
      "Will train until valid-acc hasn't improved in 500 rounds.\n",
      "[100]\ttrain-acc:0.908357\tvalid-acc:0.871814\n",
      "[200]\ttrain-acc:0.930561\tvalid-acc:0.869725\n",
      "[300]\ttrain-acc:0.949203\tvalid-acc:0.865365\n",
      "[400]\ttrain-acc:0.963668\tvalid-acc:0.865303\n",
      "[500]\ttrain-acc:0.972697\tvalid-acc:0.864566\n",
      "Stopping. Best iteration:\n",
      "[31]\ttrain-acc:0.885661\tvalid-acc:0.874332\n",
      "\n",
      "train ('acc', 0.97515432572709682)\n",
      "test ('acc', 0.86339905411215523)\n"
     ]
    },
    {
     "data": {
      "text/plain": [
       "<xgboost.core.Booster at 0x1cb0e86b4e0>"
      ]
     },
     "execution_count": 14,
     "metadata": {},
     "output_type": "execute_result"
    }
   ],
   "source": [
    "ModelUtils.xgb_model(X_train, y_train, X_sub, y_sub, num_class=2, feval=acc_metrix_mult)"
   ]
  },
  {
   "cell_type": "markdown",
   "metadata": {},
   "source": [
    "# BaseLine"
   ]
  },
  {
   "cell_type": "code",
   "execution_count": 9,
   "metadata": {},
   "outputs": [
    {
     "name": "stdout",
     "output_type": "stream",
     "text": [
      "X_train.shape, y_train.shape:(32561, 14)(32561,)\n",
      "X_valid.shape, y_valid.shape:(16281, 14)(16281,)\n",
      "    cross_score: 0.85277\n",
      "    test score ('acc', 0.85467723112830907)\n",
      "train kflod pred: ('acc', 0.85467723112830907)\n",
      "train pred ('acc', 0.99996928841251809)\n",
      "test pred ('acc', 0.85467723112830907)\n"
     ]
    },
    {
     "data": {
      "text/plain": [
       "RandomForestClassifier(bootstrap=True, class_weight=None, criterion='entropy',\n",
       "            max_depth=None, max_features='auto', max_leaf_nodes=None,\n",
       "            min_impurity_decrease=0.0, min_impurity_split=None,\n",
       "            min_samples_leaf=1, min_samples_split=2,\n",
       "            min_weight_fraction_leaf=0.0, n_estimators=200, n_jobs=-1,\n",
       "            oob_score=False, random_state=1023, verbose=0,\n",
       "            warm_start=False)"
      ]
     },
     "execution_count": 9,
     "metadata": {},
     "output_type": "execute_result"
    }
   ],
   "source": [
    "ModelUtils.baseline_1_flod(X_train, y_train, X_sub, y_sub, num_class=2, feval=acc_metrix_mult)"
   ]
  },
  {
   "cell_type": "code",
   "execution_count": 14,
   "metadata": {},
   "outputs": [
    {
     "name": "stdout",
     "output_type": "stream",
     "text": [
      "X_train.shape, y_train.shape:(26048, 14)(26048,)\n",
      "X_valid.shape, y_valid.shape:(6513, 14)(6513,)\n",
      "    cross_score: 0.85567\n",
      "    test score ('acc', 0.85320312020146183)\n",
      "X_train.shape, y_train.shape:(26049, 14)(26049,)\n",
      "X_valid.shape, y_valid.shape:(6512, 14)(6512,)\n",
      "    cross_score: 0.85258\n",
      "    test score ('acc', 0.85633560592101221)\n",
      "X_train.shape, y_train.shape:(26049, 14)(26049,)\n",
      "X_valid.shape, y_valid.shape:(6512, 14)(6512,)\n",
      "    cross_score: 0.85519\n",
      "    test score ('acc', 0.85418586081935999)\n",
      "X_train.shape, y_train.shape:(26049, 14)(26049,)\n",
      "X_valid.shape, y_valid.shape:(6512, 14)(6512,)\n",
      "    cross_score: 0.84874\n",
      "    test score ('acc', 0.85854677231128307)\n",
      "X_train.shape, y_train.shape:(26049, 14)(26049,)\n",
      "X_valid.shape, y_valid.shape:(6512, 14)(6512,)\n",
      "    cross_score: 0.84905\n",
      "    test score ('acc', 0.85541428659173269)\n",
      "train kflod pred: ('acc', 0.85755965725868366)\n",
      "train pred ('acc', 0.99996928841251809)\n",
      "test pred ('acc', 0.85633560592101221)\n",
      "lr train ('acc', 0.85734467614631005)\n",
      "lr test ('acc', 0.85848535102266443)\n",
      "lr coef_ -0.0413213944121\n"
     ]
    },
    {
     "data": {
      "text/plain": [
       "[RandomForestClassifier(bootstrap=True, class_weight=None, criterion='entropy',\n",
       "             max_depth=None, max_features='auto', max_leaf_nodes=None,\n",
       "             min_impurity_decrease=0.0, min_impurity_split=None,\n",
       "             min_samples_leaf=1, min_samples_split=2,\n",
       "             min_weight_fraction_leaf=0.0, n_estimators=200, n_jobs=-1,\n",
       "             oob_score=False, random_state=1023, verbose=0,\n",
       "             warm_start=False),\n",
       " RandomForestClassifier(bootstrap=True, class_weight=None, criterion='entropy',\n",
       "             max_depth=None, max_features='auto', max_leaf_nodes=None,\n",
       "             min_impurity_decrease=0.0, min_impurity_split=None,\n",
       "             min_samples_leaf=1, min_samples_split=2,\n",
       "             min_weight_fraction_leaf=0.0, n_estimators=200, n_jobs=-1,\n",
       "             oob_score=False, random_state=1023, verbose=0,\n",
       "             warm_start=False),\n",
       " RandomForestClassifier(bootstrap=True, class_weight=None, criterion='entropy',\n",
       "             max_depth=None, max_features='auto', max_leaf_nodes=None,\n",
       "             min_impurity_decrease=0.0, min_impurity_split=None,\n",
       "             min_samples_leaf=1, min_samples_split=2,\n",
       "             min_weight_fraction_leaf=0.0, n_estimators=200, n_jobs=-1,\n",
       "             oob_score=False, random_state=1023, verbose=0,\n",
       "             warm_start=False),\n",
       " RandomForestClassifier(bootstrap=True, class_weight=None, criterion='entropy',\n",
       "             max_depth=None, max_features='auto', max_leaf_nodes=None,\n",
       "             min_impurity_decrease=0.0, min_impurity_split=None,\n",
       "             min_samples_leaf=1, min_samples_split=2,\n",
       "             min_weight_fraction_leaf=0.0, n_estimators=200, n_jobs=-1,\n",
       "             oob_score=False, random_state=1023, verbose=0,\n",
       "             warm_start=False),\n",
       " RandomForestClassifier(bootstrap=True, class_weight=None, criterion='entropy',\n",
       "             max_depth=None, max_features='auto', max_leaf_nodes=None,\n",
       "             min_impurity_decrease=0.0, min_impurity_split=None,\n",
       "             min_samples_leaf=1, min_samples_split=2,\n",
       "             min_weight_fraction_leaf=0.0, n_estimators=200, n_jobs=-1,\n",
       "             oob_score=False, random_state=1023, verbose=0,\n",
       "             warm_start=False)]"
      ]
     },
     "execution_count": 14,
     "metadata": {},
     "output_type": "execute_result"
    }
   ],
   "source": [
    "ModelUtils.baseline_model(X_train, y_train, X_sub, y_sub, num_class=2, feval=acc_metrix_mult)"
   ]
  },
  {
   "cell_type": "markdown",
   "metadata": {},
   "source": [
    "# Stage-3：EcoForest"
   ]
  },
  {
   "cell_type": "code",
   "execution_count": 12,
   "metadata": {},
   "outputs": [
    {
     "data": {
      "text/plain": [
       "{'divide': 'ignore', 'invalid': 'ignore', 'over': 'warn', 'under': 'ignore'}"
      ]
     },
     "execution_count": 12,
     "metadata": {},
     "output_type": "execute_result"
    }
   ],
   "source": [
    "import EnhancedForest_multiclass\n",
    "import DecomposerForest\n",
    "import LogUtils\n",
    "import AlgorithmUtils\n",
    "import importlib\n",
    "importlib.reload(DecomposerForest)\n",
    "importlib.reload(LogUtils)\n",
    "importlib.reload(EnhancedForest_multiclass)\n",
    "importlib.reload(AlgorithmUtils)\n",
    "np.seterr(divide='ignore', invalid='ignore')"
   ]
  },
  {
   "cell_type": "code",
   "execution_count": 13,
   "metadata": {},
   "outputs": [
    {
     "name": "stdout",
     "output_type": "stream",
     "text": [
      "\n",
      "2018-01-30 09:23:54 layer: 1\n"
     ]
    },
    {
     "name": "stderr",
     "output_type": "stream",
     "text": [
      "c:\\program files\\python36\\lib\\site-packages\\numpy\\core\\fromnumeric.py:2909: RuntimeWarning: Mean of empty slice.\n",
      "  out=out, **kwargs)\n",
      "c:\\program files\\python36\\lib\\site-packages\\numpy\\core\\fromnumeric.py:2909: RuntimeWarning: Mean of empty slice.\n",
      "  out=out, **kwargs)\n",
      "c:\\program files\\python36\\lib\\site-packages\\numpy\\core\\fromnumeric.py:2909: RuntimeWarning: Mean of empty slice.\n",
      "  out=out, **kwargs)\n"
     ]
    },
    {
     "name": "stdout",
     "output_type": "stream",
     "text": [
      "all data ('acc', 0.87534166641073674)\n",
      "train loss ('acc', 0.87534166641073674)\n",
      "pass train loss (0, 0)\n",
      "pass train loss now (0, 1)\n",
      "vaild loss ('acc', 0.86216639538097728)\n",
      "pass vaild loss (0, 0)\n",
      "pass vaild loss now (0, 1)\n",
      "test loss ('acc', 0.86450463730729066)\n",
      "pass test loss (0, 0)\n",
      "pass test loss now (0, 1)\n",
      "1 [p:0/np:0] \n",
      "\n",
      "2018-01-30 09:24:12 layer: 2\n"
     ]
    },
    {
     "name": "stderr",
     "output_type": "stream",
     "text": [
      "c:\\program files\\python36\\lib\\site-packages\\numpy\\core\\fromnumeric.py:2909: RuntimeWarning: Mean of empty slice.\n",
      "  out=out, **kwargs)\n",
      "c:\\program files\\python36\\lib\\site-packages\\numpy\\core\\fromnumeric.py:2909: RuntimeWarning: Mean of empty slice.\n",
      "  out=out, **kwargs)\n",
      "c:\\program files\\python36\\lib\\site-packages\\numpy\\core\\fromnumeric.py:2909: RuntimeWarning: Mean of empty slice.\n",
      "  out=out, **kwargs)\n"
     ]
    },
    {
     "name": "stdout",
     "output_type": "stream",
     "text": [
      "all data ('acc', 0.87571020546052025)\n",
      "[p:0/1:0|n:32561/1:7841] \n",
      "train loss ('acc', 0.87571020546052025)\n",
      "pass train loss (0, 0)\n",
      "pass train loss now (0, 1)\n",
      "vaild loss ('acc', 0.8618592795061577)\n",
      "pass vaild loss (0, 0)\n",
      "pass vaild loss now (0, 1)\n",
      "test loss ('acc', 0.86444321601867202)\n",
      "pass test loss (0, 0)\n",
      "pass test loss now (0, 1)\n",
      "2 [p:0/np:16281] \n",
      "\n",
      "2018-01-30 09:24:44 layer: 3\n"
     ]
    },
    {
     "name": "stderr",
     "output_type": "stream",
     "text": [
      "c:\\program files\\python36\\lib\\site-packages\\numpy\\core\\fromnumeric.py:2909: RuntimeWarning: Mean of empty slice.\n",
      "  out=out, **kwargs)\n",
      "c:\\program files\\python36\\lib\\site-packages\\numpy\\core\\fromnumeric.py:2909: RuntimeWarning: Mean of empty slice.\n",
      "  out=out, **kwargs)\n",
      "c:\\program files\\python36\\lib\\site-packages\\numpy\\core\\fromnumeric.py:2909: RuntimeWarning: Mean of empty slice.\n",
      "  out=out, **kwargs)\n"
     ]
    },
    {
     "name": "stdout",
     "output_type": "stream",
     "text": [
      "all data ('acc', 0.8758023402229661)\n",
      "[p:0/1:0|n:32561/1:7841] \n",
      "train loss ('acc', 0.8758023402229661)\n",
      "pass train loss (0, 0)\n",
      "pass train loss now (0, 1)\n",
      "vaild loss ('acc', 0.86195141426860356)\n",
      "pass vaild loss (0, 0)\n",
      "pass vaild loss now (0, 1)\n",
      "test loss ('acc', 0.86407468828696021)\n",
      "pass test loss (0, 0)\n",
      "pass test loss now (0, 1)\n",
      "3 [p:0/np:16281] \n",
      "\n",
      "2018-01-30 09:25:22 layer: 4\n"
     ]
    },
    {
     "name": "stderr",
     "output_type": "stream",
     "text": [
      "c:\\program files\\python36\\lib\\site-packages\\numpy\\core\\fromnumeric.py:2909: RuntimeWarning: Mean of empty slice.\n",
      "  out=out, **kwargs)\n",
      "c:\\program files\\python36\\lib\\site-packages\\numpy\\core\\fromnumeric.py:2909: RuntimeWarning: Mean of empty slice.\n",
      "  out=out, **kwargs)\n",
      "c:\\program files\\python36\\lib\\site-packages\\numpy\\core\\fromnumeric.py:2909: RuntimeWarning: Mean of empty slice.\n",
      "  out=out, **kwargs)\n"
     ]
    },
    {
     "name": "stdout",
     "output_type": "stream",
     "text": [
      "all data ('acc', 0.87555664752311047)\n",
      "[p:0/1:0|n:32561/1:7841] \n",
      "train loss ('acc', 0.87555664752311047)\n",
      "pass train loss (0, 0)\n",
      "pass train loss now (0, 1)\n",
      "vaild loss ('acc', 0.86204354903104941)\n",
      "pass vaild loss (0, 0)\n",
      "pass vaild loss now (0, 1)\n",
      "test loss ('acc', 0.86407468828696021)\n",
      "pass test loss (0, 0)\n",
      "pass test loss now (0, 1)\n",
      "4 [p:0/np:16281] \n",
      "\n",
      "2018-01-30 09:26:04 layer: 5\n"
     ]
    },
    {
     "name": "stderr",
     "output_type": "stream",
     "text": [
      "c:\\program files\\python36\\lib\\site-packages\\numpy\\core\\fromnumeric.py:2909: RuntimeWarning: Mean of empty slice.\n",
      "  out=out, **kwargs)\n",
      "c:\\program files\\python36\\lib\\site-packages\\numpy\\core\\fromnumeric.py:2909: RuntimeWarning: Mean of empty slice.\n",
      "  out=out, **kwargs)\n",
      "c:\\program files\\python36\\lib\\site-packages\\numpy\\core\\fromnumeric.py:2909: RuntimeWarning: Mean of empty slice.\n",
      "  out=out, **kwargs)\n"
     ]
    },
    {
     "name": "stdout",
     "output_type": "stream",
     "text": [
      "all data ('acc', 0.87607874451030376)\n",
      "[p:0/1:0|n:32561/1:7841] \n",
      "train loss ('acc', 0.87607874451030376)\n",
      "pass train loss (0, 0)\n",
      "pass train loss now (0, 1)\n",
      "vaild loss ('acc', 0.86192070268112164)\n",
      "pass vaild loss (0, 0)\n",
      "pass vaild loss now (0, 1)\n",
      "test loss ('acc', 0.86413610957557885)\n",
      "pass test loss (0, 0)\n",
      "pass test loss now (0, 1)\n",
      "5 [p:0/np:16281] \n",
      "\n",
      "2018-01-30 09:26:51 layer: 6\n"
     ]
    },
    {
     "name": "stderr",
     "output_type": "stream",
     "text": [
      "c:\\program files\\python36\\lib\\site-packages\\numpy\\core\\fromnumeric.py:2909: RuntimeWarning: Mean of empty slice.\n",
      "  out=out, **kwargs)\n",
      "c:\\program files\\python36\\lib\\site-packages\\numpy\\core\\fromnumeric.py:2909: RuntimeWarning: Mean of empty slice.\n",
      "  out=out, **kwargs)\n",
      "c:\\program files\\python36\\lib\\site-packages\\numpy\\core\\fromnumeric.py:2909: RuntimeWarning: Mean of empty slice.\n",
      "  out=out, **kwargs)\n"
     ]
    },
    {
     "name": "stdout",
     "output_type": "stream",
     "text": [
      "all data ('acc', 0.87537237799821876)\n",
      "[p:0/1:0|n:32561/1:7841] \n",
      "train loss ('acc', 0.87537237799821876)\n",
      "pass train loss (0, 0)\n",
      "pass train loss now (0, 1)\n",
      "vaild loss ('acc', 0.86167500998126589)\n",
      "pass vaild loss (0, 0)\n",
      "pass vaild loss now (0, 1)\n",
      "test loss ('acc', 0.86401326699834158)\n",
      "pass test loss (0, 0)\n",
      "pass test loss now (0, 1)\n",
      "not pass\n",
      "\n",
      "2018-01-30 09:27:42 layer: 7\n"
     ]
    },
    {
     "name": "stderr",
     "output_type": "stream",
     "text": [
      "c:\\program files\\python36\\lib\\site-packages\\numpy\\core\\fromnumeric.py:2909: RuntimeWarning: Mean of empty slice.\n",
      "  out=out, **kwargs)\n",
      "c:\\program files\\python36\\lib\\site-packages\\numpy\\core\\fromnumeric.py:2909: RuntimeWarning: Mean of empty slice.\n",
      "  out=out, **kwargs)\n",
      "c:\\program files\\python36\\lib\\site-packages\\numpy\\core\\fromnumeric.py:2909: RuntimeWarning: Mean of empty slice.\n",
      "  out=out, **kwargs)\n"
     ]
    },
    {
     "name": "stdout",
     "output_type": "stream",
     "text": [
      "all data ('acc', 0.87592518657289398)\n",
      "[p:0/1:0|n:32561/1:7841] \n",
      "train loss ('acc', 0.87592518657289398)\n",
      "pass train loss (0, 0)\n",
      "pass train loss now (0, 1)\n",
      "vaild loss ('acc', 0.86176714474371185)\n",
      "pass vaild loss (0, 0)\n",
      "pass vaild loss now (0, 1)\n",
      "test loss ('acc', 0.86450463730729066)\n",
      "pass test loss (0, 0)\n",
      "pass test loss now (0, 1)\n",
      "not pass\n",
      "\n",
      "2018-01-30 09:28:39 layer: 8\n"
     ]
    },
    {
     "name": "stderr",
     "output_type": "stream",
     "text": [
      "c:\\program files\\python36\\lib\\site-packages\\numpy\\core\\fromnumeric.py:2909: RuntimeWarning: Mean of empty slice.\n",
      "  out=out, **kwargs)\n",
      "c:\\program files\\python36\\lib\\site-packages\\numpy\\core\\fromnumeric.py:2909: RuntimeWarning: Mean of empty slice.\n",
      "  out=out, **kwargs)\n",
      "c:\\program files\\python36\\lib\\site-packages\\numpy\\core\\fromnumeric.py:2909: RuntimeWarning: Mean of empty slice.\n",
      "  out=out, **kwargs)\n"
     ]
    },
    {
     "name": "stdout",
     "output_type": "stream",
     "text": [
      "all data ('acc', 0.87564878228555632)\n",
      "[p:0/1:0|n:32561/1:7841] \n",
      "train loss ('acc', 0.87564878228555632)\n",
      "pass train loss (0, 0)\n",
      "pass train loss now (0, 1)\n",
      "vaild loss ('acc', 0.86139860569392834)\n",
      "pass vaild loss (0, 0)\n",
      "pass vaild loss now (0, 1)\n",
      "test loss ('acc', 0.86413610957557885)\n",
      "pass test loss (0, 0)\n",
      "pass test loss now (0, 1)\n",
      "not pass\n",
      "\n",
      "2018-01-30 09:29:40 layer: 9\n"
     ]
    },
    {
     "name": "stderr",
     "output_type": "stream",
     "text": [
      "c:\\program files\\python36\\lib\\site-packages\\numpy\\core\\fromnumeric.py:2909: RuntimeWarning: Mean of empty slice.\n",
      "  out=out, **kwargs)\n",
      "c:\\program files\\python36\\lib\\site-packages\\numpy\\core\\fromnumeric.py:2909: RuntimeWarning: Mean of empty slice.\n",
      "  out=out, **kwargs)\n",
      "c:\\program files\\python36\\lib\\site-packages\\numpy\\core\\fromnumeric.py:2909: RuntimeWarning: Mean of empty slice.\n",
      "  out=out, **kwargs)\n"
     ]
    },
    {
     "name": "stdout",
     "output_type": "stream",
     "text": [
      "all data ('acc', 0.87549522434814653)\n",
      "[p:0/1:0|n:32561/1:7841] \n",
      "train loss ('acc', 0.87549522434814653)\n",
      "pass train loss (0, 0)\n",
      "pass train loss now (0, 1)\n",
      "vaild loss ('acc', 0.86201283744356749)\n",
      "pass vaild loss (0, 0)\n",
      "pass vaild loss now (0, 1)\n",
      "test loss ('acc', 0.86382900313248567)\n",
      "pass test loss (0, 0)\n",
      "pass test loss now (0, 1)\n",
      "9 [p:0/np:16281] \n",
      "\n",
      "2018-01-30 09:30:52 layer: 10\n"
     ]
    },
    {
     "name": "stderr",
     "output_type": "stream",
     "text": [
      "c:\\program files\\python36\\lib\\site-packages\\numpy\\core\\fromnumeric.py:2909: RuntimeWarning: Mean of empty slice.\n",
      "  out=out, **kwargs)\n",
      "c:\\program files\\python36\\lib\\site-packages\\numpy\\core\\fromnumeric.py:2909: RuntimeWarning: Mean of empty slice.\n",
      "  out=out, **kwargs)\n",
      "c:\\program files\\python36\\lib\\site-packages\\numpy\\core\\fromnumeric.py:2909: RuntimeWarning: Mean of empty slice.\n",
      "  out=out, **kwargs)\n"
     ]
    },
    {
     "name": "stdout",
     "output_type": "stream",
     "text": [
      "all data ('acc', 0.87598660974785791)\n",
      "[p:0/1:0|n:32561/1:7841] \n",
      "train loss ('acc', 0.87598660974785791)\n",
      "pass train loss (0, 0)\n",
      "pass train loss now (0, 1)\n",
      "vaild loss ('acc', 0.86210497220601334)\n",
      "pass vaild loss (0, 0)\n",
      "pass vaild loss now (0, 1)\n",
      "test loss ('acc', 0.86444321601867202)\n",
      "pass test loss (0, 0)\n",
      "pass test loss now (0, 1)\n",
      "10 [p:0/np:16281] \n",
      "\n",
      "2018-01-30 09:32:04 layer: 11\n"
     ]
    },
    {
     "name": "stderr",
     "output_type": "stream",
     "text": [
      "c:\\program files\\python36\\lib\\site-packages\\numpy\\core\\fromnumeric.py:2909: RuntimeWarning: Mean of empty slice.\n",
      "  out=out, **kwargs)\n",
      "c:\\program files\\python36\\lib\\site-packages\\numpy\\core\\fromnumeric.py:2909: RuntimeWarning: Mean of empty slice.\n",
      "  out=out, **kwargs)\n",
      "c:\\program files\\python36\\lib\\site-packages\\numpy\\core\\fromnumeric.py:2909: RuntimeWarning: Mean of empty slice.\n",
      "  out=out, **kwargs)\n"
     ]
    },
    {
     "name": "stdout",
     "output_type": "stream",
     "text": [
      "all data ('acc', 0.87574091704800217)\n",
      "[p:0/1:0|n:32561/1:7841] \n",
      "train loss ('acc', 0.87574091704800217)\n",
      "pass train loss (0, 0)\n",
      "pass train loss now (0, 1)\n",
      "vaild loss ('acc', 0.86204354903104941)\n",
      "pass vaild loss (0, 0)\n",
      "pass vaild loss now (0, 1)\n",
      "test loss ('acc', 0.86425895215281612)\n",
      "pass test loss (0, 0)\n",
      "pass test loss now (0, 1)\n",
      "not pass\n",
      "\n",
      "2018-01-30 09:33:20 layer: 12\n"
     ]
    },
    {
     "name": "stderr",
     "output_type": "stream",
     "text": [
      "c:\\program files\\python36\\lib\\site-packages\\numpy\\core\\fromnumeric.py:2909: RuntimeWarning: Mean of empty slice.\n",
      "  out=out, **kwargs)\n",
      "c:\\program files\\python36\\lib\\site-packages\\numpy\\core\\fromnumeric.py:2909: RuntimeWarning: Mean of empty slice.\n",
      "  out=out, **kwargs)\n",
      "c:\\program files\\python36\\lib\\site-packages\\numpy\\core\\fromnumeric.py:2909: RuntimeWarning: Mean of empty slice.\n",
      "  out=out, **kwargs)\n"
     ]
    },
    {
     "name": "stdout",
     "output_type": "stream",
     "text": [
      "all data ('acc', 0.87595589816037589)\n",
      "[p:0/1:0|n:32561/1:7841] \n",
      "train loss ('acc', 0.87595589816037589)\n",
      "pass train loss (0, 0)\n",
      "pass train loss now (0, 1)\n",
      "vaild loss ('acc', 0.86161358680630207)\n",
      "pass vaild loss (0, 0)\n",
      "pass vaild loss now (0, 1)\n",
      "test loss ('acc', 0.86432037344143475)\n",
      "pass test loss (0, 0)\n",
      "pass test loss now (0, 1)\n",
      "not pass\n",
      "\n",
      "2018-01-30 09:34:37 layer: 13\n"
     ]
    },
    {
     "name": "stderr",
     "output_type": "stream",
     "text": [
      "c:\\program files\\python36\\lib\\site-packages\\numpy\\core\\fromnumeric.py:2909: RuntimeWarning: Mean of empty slice.\n",
      "  out=out, **kwargs)\n",
      "c:\\program files\\python36\\lib\\site-packages\\numpy\\core\\fromnumeric.py:2909: RuntimeWarning: Mean of empty slice.\n",
      "  out=out, **kwargs)\n",
      "c:\\program files\\python36\\lib\\site-packages\\numpy\\core\\fromnumeric.py:2909: RuntimeWarning: Mean of empty slice.\n",
      "  out=out, **kwargs)\n"
     ]
    },
    {
     "name": "stdout",
     "output_type": "stream",
     "text": [
      "all data ('acc', 0.87564878228555632)\n",
      "[p:0/1:0|n:32561/1:7841] \n",
      "train loss ('acc', 0.87564878228555632)\n",
      "pass train loss (0, 0)\n",
      "pass train loss now (0, 1)\n",
      "vaild loss ('acc', 0.86146002886889228)\n",
      "pass vaild loss (0, 0)\n",
      "pass vaild loss now (0, 1)\n",
      "test loss ('acc', 0.86438179473005339)\n",
      "pass test loss (0, 0)\n",
      "pass test loss now (0, 1)\n",
      "not pass\n",
      "\n",
      "2018-01-30 09:36:13 layer: 14\n"
     ]
    },
    {
     "name": "stderr",
     "output_type": "stream",
     "text": [
      "c:\\program files\\python36\\lib\\site-packages\\numpy\\core\\fromnumeric.py:2909: RuntimeWarning: Mean of empty slice.\n",
      "  out=out, **kwargs)\n",
      "c:\\program files\\python36\\lib\\site-packages\\numpy\\core\\fromnumeric.py:2909: RuntimeWarning: Mean of empty slice.\n",
      "  out=out, **kwargs)\n",
      "c:\\program files\\python36\\lib\\site-packages\\numpy\\core\\fromnumeric.py:2909: RuntimeWarning: Mean of empty slice.\n",
      "  out=out, **kwargs)\n"
     ]
    },
    {
     "name": "stdout",
     "output_type": "stream",
     "text": [
      "all data ('acc', 0.87583305181044813)\n",
      "[p:0/1:0|n:32561/1:7841] \n",
      "train loss ('acc', 0.87583305181044813)\n",
      "pass train loss (0, 0)\n",
      "pass train loss now (0, 1)\n",
      "vaild loss ('acc', 0.86176714474371185)\n",
      "pass vaild loss (0, 0)\n",
      "pass vaild loss now (0, 1)\n",
      "test loss ('acc', 0.86413610957557885)\n",
      "pass test loss (0, 0)\n",
      "pass test loss now (0, 1)\n",
      "not pass\n",
      "\n",
      "2018-01-30 09:38:18 layer: 15\n"
     ]
    },
    {
     "name": "stderr",
     "output_type": "stream",
     "text": [
      "c:\\program files\\python36\\lib\\site-packages\\numpy\\core\\fromnumeric.py:2909: RuntimeWarning: Mean of empty slice.\n",
      "  out=out, **kwargs)\n",
      "c:\\program files\\python36\\lib\\site-packages\\numpy\\core\\fromnumeric.py:2909: RuntimeWarning: Mean of empty slice.\n",
      "  out=out, **kwargs)\n",
      "c:\\program files\\python36\\lib\\site-packages\\numpy\\core\\fromnumeric.py:2909: RuntimeWarning: Mean of empty slice.\n",
      "  out=out, **kwargs)\n"
     ]
    },
    {
     "name": "stdout",
     "output_type": "stream",
     "text": [
      "all data ('acc', 0.8758023402229661)\n",
      "[p:0/1:0|n:32561/1:7841] \n",
      "train loss ('acc', 0.8758023402229661)\n",
      "pass train loss (0, 0)\n",
      "pass train loss now (0, 1)\n",
      "vaild loss ('acc', 0.86170572156874792)\n",
      "pass vaild loss (0, 0)\n",
      "pass vaild loss now (0, 1)\n",
      "test loss ('acc', 0.86425895215281612)\n",
      "pass test loss (0, 0)\n",
      "pass test loss now (0, 1)\n",
      "not pass\n",
      "\n",
      "2018-01-30 09:40:17 layer: 16\n"
     ]
    },
    {
     "name": "stderr",
     "output_type": "stream",
     "text": [
      "c:\\program files\\python36\\lib\\site-packages\\numpy\\core\\fromnumeric.py:2909: RuntimeWarning: Mean of empty slice.\n",
      "  out=out, **kwargs)\n",
      "c:\\program files\\python36\\lib\\site-packages\\numpy\\core\\fromnumeric.py:2909: RuntimeWarning: Mean of empty slice.\n",
      "  out=out, **kwargs)\n",
      "c:\\program files\\python36\\lib\\site-packages\\numpy\\core\\fromnumeric.py:2909: RuntimeWarning: Mean of empty slice.\n",
      "  out=out, **kwargs)\n"
     ]
    },
    {
     "name": "stdout",
     "output_type": "stream",
     "text": [
      "all data ('acc', 0.87601732133533983)\n",
      "[p:0/1:0|n:32561/1:7841] \n",
      "train loss ('acc', 0.87601732133533983)\n",
      "pass train loss (0, 0)\n",
      "pass train loss now (0, 1)\n",
      "vaild loss ('acc', 0.86195141426860356)\n",
      "pass vaild loss (0, 0)\n",
      "pass vaild loss now (0, 1)\n",
      "test loss ('acc', 0.86382900313248567)\n",
      "pass test loss (0, 0)\n",
      "pass test loss now (0, 1)\n",
      "16 [p:0/np:16281] \n",
      "\n",
      "2018-01-30 09:42:05 layer: 17\n"
     ]
    },
    {
     "name": "stderr",
     "output_type": "stream",
     "text": [
      "c:\\program files\\python36\\lib\\site-packages\\numpy\\core\\fromnumeric.py:2909: RuntimeWarning: Mean of empty slice.\n",
      "  out=out, **kwargs)\n",
      "c:\\program files\\python36\\lib\\site-packages\\numpy\\core\\fromnumeric.py:2909: RuntimeWarning: Mean of empty slice.\n",
      "  out=out, **kwargs)\n",
      "c:\\program files\\python36\\lib\\site-packages\\numpy\\core\\fromnumeric.py:2909: RuntimeWarning: Mean of empty slice.\n",
      "  out=out, **kwargs)\n"
     ]
    },
    {
     "name": "stdout",
     "output_type": "stream",
     "text": [
      "all data ('acc', 0.87583305181044813)\n",
      "[p:0/1:0|n:32561/1:7841] \n",
      "train loss ('acc', 0.87583305181044813)\n",
      "pass train loss (0, 0)\n",
      "pass train loss now (0, 1)\n",
      "vaild loss ('acc', 0.86222781855594111)\n",
      "pass vaild loss (0, 0)\n",
      "pass vaild loss now (0, 1)\n",
      "test loss ('acc', 0.86419753086419748)\n",
      "pass test loss (0, 0)\n",
      "pass test loss now (0, 1)\n",
      "17 [p:0/np:16281] \n",
      "\n",
      "2018-01-30 09:43:57 layer: 18\n"
     ]
    },
    {
     "name": "stderr",
     "output_type": "stream",
     "text": [
      "c:\\program files\\python36\\lib\\site-packages\\numpy\\core\\fromnumeric.py:2909: RuntimeWarning: Mean of empty slice.\n",
      "  out=out, **kwargs)\n",
      "c:\\program files\\python36\\lib\\site-packages\\numpy\\core\\fromnumeric.py:2909: RuntimeWarning: Mean of empty slice.\n",
      "  out=out, **kwargs)\n",
      "c:\\program files\\python36\\lib\\site-packages\\numpy\\core\\fromnumeric.py:2909: RuntimeWarning: Mean of empty slice.\n",
      "  out=out, **kwargs)\n"
     ]
    },
    {
     "name": "stdout",
     "output_type": "stream",
     "text": [
      "all data ('acc', 0.87549522434814653)\n",
      "[p:0/1:0|n:32561/1:7841] \n",
      "train loss ('acc', 0.87549522434814653)\n",
      "pass train loss (0, 0)\n",
      "pass train loss now (0, 1)\n",
      "vaild loss ('acc', 0.86127575934400047)\n",
      "pass vaild loss (0, 0)\n",
      "pass vaild loss now (0, 1)\n",
      "test loss ('acc', 0.86419753086419748)\n",
      "pass test loss (0, 0)\n",
      "pass test loss now (0, 1)\n",
      "not pass\n",
      "\n",
      "2018-01-30 09:45:47 layer: 19\n"
     ]
    },
    {
     "name": "stderr",
     "output_type": "stream",
     "text": [
      "c:\\program files\\python36\\lib\\site-packages\\numpy\\core\\fromnumeric.py:2909: RuntimeWarning: Mean of empty slice.\n",
      "  out=out, **kwargs)\n",
      "c:\\program files\\python36\\lib\\site-packages\\numpy\\core\\fromnumeric.py:2909: RuntimeWarning: Mean of empty slice.\n",
      "  out=out, **kwargs)\n",
      "c:\\program files\\python36\\lib\\site-packages\\numpy\\core\\fromnumeric.py:2909: RuntimeWarning: Mean of empty slice.\n",
      "  out=out, **kwargs)\n"
     ]
    },
    {
     "name": "stdout",
     "output_type": "stream",
     "text": [
      "all data ('acc', 0.87607874451030376)\n",
      "[p:0/1:0|n:32561/1:7841] \n",
      "train loss ('acc', 0.87607874451030376)\n",
      "pass train loss (0, 0)\n",
      "pass train loss now (0, 1)\n",
      "vaild loss ('acc', 0.86192070268112164)\n",
      "pass vaild loss (0, 0)\n",
      "pass vaild loss now (0, 1)\n",
      "test loss ('acc', 0.86438179473005339)\n",
      "pass test loss (0, 0)\n",
      "pass test loss now (0, 1)\n",
      "19 [p:0/np:16281] \n",
      "\n",
      "2018-01-30 09:48:02 layer: 20\n"
     ]
    },
    {
     "name": "stderr",
     "output_type": "stream",
     "text": [
      "c:\\program files\\python36\\lib\\site-packages\\numpy\\core\\fromnumeric.py:2909: RuntimeWarning: Mean of empty slice.\n",
      "  out=out, **kwargs)\n",
      "c:\\program files\\python36\\lib\\site-packages\\numpy\\core\\fromnumeric.py:2909: RuntimeWarning: Mean of empty slice.\n",
      "  out=out, **kwargs)\n",
      "c:\\program files\\python36\\lib\\site-packages\\numpy\\core\\fromnumeric.py:2909: RuntimeWarning: Mean of empty slice.\n",
      "  out=out, **kwargs)\n"
     ]
    },
    {
     "name": "stdout",
     "output_type": "stream",
     "text": [
      "all data ('acc', 0.8756180706980744)\n",
      "[p:0/1:0|n:32561/1:7841] \n",
      "train loss ('acc', 0.8756180706980744)\n",
      "pass train loss (0, 0)\n",
      "pass train loss now (0, 1)\n",
      "vaild loss ('acc', 0.86167500998126589)\n",
      "pass vaild loss (0, 0)\n",
      "pass vaild loss now (0, 1)\n",
      "test loss ('acc', 0.86407468828696021)\n",
      "pass test loss (0, 0)\n",
      "pass test loss now (0, 1)\n",
      "not pass\n",
      "\n",
      "2018-01-30 09:50:42 layer: 21\n"
     ]
    },
    {
     "name": "stderr",
     "output_type": "stream",
     "text": [
      "c:\\program files\\python36\\lib\\site-packages\\numpy\\core\\fromnumeric.py:2909: RuntimeWarning: Mean of empty slice.\n",
      "  out=out, **kwargs)\n",
      "c:\\program files\\python36\\lib\\site-packages\\numpy\\core\\fromnumeric.py:2909: RuntimeWarning: Mean of empty slice.\n",
      "  out=out, **kwargs)\n",
      "c:\\program files\\python36\\lib\\site-packages\\numpy\\core\\fromnumeric.py:2909: RuntimeWarning: Mean of empty slice.\n",
      "  out=out, **kwargs)\n"
     ]
    },
    {
     "name": "stdout",
     "output_type": "stream",
     "text": [
      "all data ('acc', 0.87604803292282174)\n",
      "[p:0/1:0|n:32561/1:7841] \n",
      "train loss ('acc', 0.87604803292282174)\n",
      "pass train loss (0, 0)\n",
      "pass train loss now (0, 1)\n",
      "vaild loss ('acc', 0.86158287521882004)\n",
      "pass vaild loss (0, 0)\n",
      "pass vaild loss now (0, 1)\n",
      "test loss ('acc', 0.86407468828696021)\n",
      "pass test loss (0, 0)\n",
      "pass test loss now (0, 1)\n",
      "not pass\n",
      "\n",
      "2018-01-30 09:53:22 layer: 22\n"
     ]
    },
    {
     "name": "stderr",
     "output_type": "stream",
     "text": [
      "c:\\program files\\python36\\lib\\site-packages\\numpy\\core\\fromnumeric.py:2909: RuntimeWarning: Mean of empty slice.\n",
      "  out=out, **kwargs)\n",
      "c:\\program files\\python36\\lib\\site-packages\\numpy\\core\\fromnumeric.py:2909: RuntimeWarning: Mean of empty slice.\n",
      "  out=out, **kwargs)\n",
      "c:\\program files\\python36\\lib\\site-packages\\numpy\\core\\fromnumeric.py:2909: RuntimeWarning: Mean of empty slice.\n",
      "  out=out, **kwargs)\n"
     ]
    },
    {
     "name": "stdout",
     "output_type": "stream",
     "text": [
      "all data ('acc', 0.87546451276066461)\n",
      "[p:0/1:0|n:32561/1:7841] \n",
      "train loss ('acc', 0.87546451276066461)\n",
      "pass train loss (0, 0)\n",
      "pass train loss now (0, 1)\n",
      "vaild loss ('acc', 0.86139860569392834)\n",
      "pass vaild loss (0, 0)\n",
      "pass vaild loss now (0, 1)\n",
      "test loss ('acc', 0.86438179473005339)\n",
      "pass test loss (0, 0)\n",
      "pass test loss now (0, 1)\n",
      "not pass\n",
      "\n",
      "2018-01-30 09:55:58 layer: 23\n"
     ]
    },
    {
     "name": "stderr",
     "output_type": "stream",
     "text": [
      "c:\\program files\\python36\\lib\\site-packages\\numpy\\core\\fromnumeric.py:2909: RuntimeWarning: Mean of empty slice.\n",
      "  out=out, **kwargs)\n",
      "c:\\program files\\python36\\lib\\site-packages\\numpy\\core\\fromnumeric.py:2909: RuntimeWarning: Mean of empty slice.\n",
      "  out=out, **kwargs)\n",
      "c:\\program files\\python36\\lib\\site-packages\\numpy\\core\\fromnumeric.py:2909: RuntimeWarning: Mean of empty slice.\n",
      "  out=out, **kwargs)\n"
     ]
    },
    {
     "name": "stdout",
     "output_type": "stream",
     "text": [
      "all data ('acc', 0.87567949387303834)\n",
      "[p:0/1:0|n:32561/1:7841] \n",
      "train loss ('acc', 0.87567949387303834)\n",
      "pass train loss (0, 0)\n",
      "pass train loss now (0, 1)\n",
      "vaild loss ('acc', 0.86216639538097728)\n",
      "pass vaild loss (0, 0)\n",
      "pass vaild loss now (0, 1)\n",
      "test loss ('acc', 0.86481174375038383)\n",
      "pass test loss (0, 0)\n",
      "pass test loss now (0, 1)\n",
      "23 [p:0/np:16281] \n",
      "\n",
      "2018-01-30 09:58:52 layer: 24\n"
     ]
    },
    {
     "name": "stderr",
     "output_type": "stream",
     "text": [
      "c:\\program files\\python36\\lib\\site-packages\\numpy\\core\\fromnumeric.py:2909: RuntimeWarning: Mean of empty slice.\n",
      "  out=out, **kwargs)\n",
      "c:\\program files\\python36\\lib\\site-packages\\numpy\\core\\fromnumeric.py:2909: RuntimeWarning: Mean of empty slice.\n",
      "  out=out, **kwargs)\n",
      "c:\\program files\\python36\\lib\\site-packages\\numpy\\core\\fromnumeric.py:2909: RuntimeWarning: Mean of empty slice.\n",
      "  out=out, **kwargs)\n"
     ]
    },
    {
     "name": "stdout",
     "output_type": "stream",
     "text": [
      "all data ('acc', 0.8756180706980744)\n",
      "[p:0/1:0|n:32561/1:7841] \n",
      "train loss ('acc', 0.8756180706980744)\n",
      "pass train loss (0, 0)\n",
      "pass train loss now (0, 1)\n",
      "vaild loss ('acc', 0.86146002886889228)\n",
      "pass vaild loss (0, 0)\n",
      "pass vaild loss now (0, 1)\n",
      "test loss ('acc', 0.86407468828696021)\n",
      "pass test loss (0, 0)\n",
      "pass test loss now (0, 1)\n",
      "not pass\n",
      "\n",
      "2018-01-30 10:02:02 layer: 25\n"
     ]
    },
    {
     "name": "stderr",
     "output_type": "stream",
     "text": [
      "c:\\program files\\python36\\lib\\site-packages\\numpy\\core\\fromnumeric.py:2909: RuntimeWarning: Mean of empty slice.\n",
      "  out=out, **kwargs)\n",
      "c:\\program files\\python36\\lib\\site-packages\\numpy\\core\\fromnumeric.py:2909: RuntimeWarning: Mean of empty slice.\n",
      "  out=out, **kwargs)\n",
      "c:\\program files\\python36\\lib\\site-packages\\numpy\\core\\fromnumeric.py:2909: RuntimeWarning: Mean of empty slice.\n",
      "  out=out, **kwargs)\n"
     ]
    },
    {
     "name": "stdout",
     "output_type": "stream",
     "text": [
      "all data ('acc', 0.87592518657289398)\n",
      "[p:0/1:0|n:32561/1:7841] \n",
      "train loss ('acc', 0.87592518657289398)\n",
      "pass train loss (0, 0)\n",
      "pass train loss now (0, 1)\n",
      "vaild loss ('acc', 0.86204354903104941)\n",
      "pass vaild loss (0, 0)\n",
      "pass vaild loss now (0, 1)\n",
      "test loss ('acc', 0.86419753086419748)\n",
      "pass test loss (0, 0)\n",
      "pass test loss now (0, 1)\n",
      "25 [p:0/np:16281] \n",
      "\n",
      "2018-01-30 10:05:41 layer: 26\n"
     ]
    },
    {
     "name": "stderr",
     "output_type": "stream",
     "text": [
      "c:\\program files\\python36\\lib\\site-packages\\numpy\\core\\fromnumeric.py:2909: RuntimeWarning: Mean of empty slice.\n",
      "  out=out, **kwargs)\n",
      "c:\\program files\\python36\\lib\\site-packages\\numpy\\core\\fromnumeric.py:2909: RuntimeWarning: Mean of empty slice.\n",
      "  out=out, **kwargs)\n",
      "c:\\program files\\python36\\lib\\site-packages\\numpy\\core\\fromnumeric.py:2909: RuntimeWarning: Mean of empty slice.\n",
      "  out=out, **kwargs)\n"
     ]
    },
    {
     "name": "stdout",
     "output_type": "stream",
     "text": [
      "all data ('acc', 0.87598660974785791)\n",
      "[p:0/1:0|n:32561/1:7841] \n",
      "train loss ('acc', 0.87598660974785791)\n",
      "pass train loss (0, 0)\n",
      "pass train loss now (0, 1)\n",
      "vaild loss ('acc', 0.86222781855594111)\n",
      "pass vaild loss (0, 0)\n",
      "pass vaild loss now (0, 1)\n",
      "test loss ('acc', 0.86395184570972294)\n",
      "pass test loss (0, 0)\n",
      "pass test loss now (0, 1)\n",
      "26 [p:0/np:16281] \n",
      "\n",
      "2018-01-30 10:08:52 layer: 27\n"
     ]
    },
    {
     "name": "stderr",
     "output_type": "stream",
     "text": [
      "c:\\program files\\python36\\lib\\site-packages\\numpy\\core\\fromnumeric.py:2909: RuntimeWarning: Mean of empty slice.\n",
      "  out=out, **kwargs)\n",
      "c:\\program files\\python36\\lib\\site-packages\\numpy\\core\\fromnumeric.py:2909: RuntimeWarning: Mean of empty slice.\n",
      "  out=out, **kwargs)\n",
      "c:\\program files\\python36\\lib\\site-packages\\numpy\\core\\fromnumeric.py:2909: RuntimeWarning: Mean of empty slice.\n",
      "  out=out, **kwargs)\n"
     ]
    },
    {
     "name": "stdout",
     "output_type": "stream",
     "text": [
      "all data ('acc', 0.87589447498541195)\n",
      "[p:0/1:0|n:32561/1:7841] \n",
      "train loss ('acc', 0.87589447498541195)\n",
      "pass train loss (0, 0)\n",
      "pass train loss now (0, 1)\n",
      "vaild loss ('acc', 0.86210497220601334)\n",
      "pass vaild loss (0, 0)\n",
      "pass vaild loss now (0, 1)\n",
      "test loss ('acc', 0.86462747988452793)\n",
      "pass test loss (0, 0)\n",
      "pass test loss now (0, 1)\n",
      "not pass\n",
      "\n",
      "2018-01-30 10:11:57 layer: 28\n"
     ]
    },
    {
     "name": "stderr",
     "output_type": "stream",
     "text": [
      "c:\\program files\\python36\\lib\\site-packages\\numpy\\core\\fromnumeric.py:2909: RuntimeWarning: Mean of empty slice.\n",
      "  out=out, **kwargs)\n",
      "c:\\program files\\python36\\lib\\site-packages\\numpy\\core\\fromnumeric.py:2909: RuntimeWarning: Mean of empty slice.\n",
      "  out=out, **kwargs)\n",
      "c:\\program files\\python36\\lib\\site-packages\\numpy\\core\\fromnumeric.py:2909: RuntimeWarning: Mean of empty slice.\n",
      "  out=out, **kwargs)\n"
     ]
    },
    {
     "name": "stdout",
     "output_type": "stream",
     "text": [
      "all data ('acc', 0.87586376339793004)\n",
      "[p:0/1:0|n:32561/1:7841] \n",
      "train loss ('acc', 0.87586376339793004)\n",
      "pass train loss (0, 0)\n",
      "pass train loss now (0, 1)\n",
      "vaild loss ('acc', 0.86207426061853132)\n",
      "pass vaild loss (0, 0)\n",
      "pass vaild loss now (0, 1)\n",
      "test loss ('acc', 0.86395184570972294)\n",
      "pass test loss (0, 0)\n",
      "pass test loss now (0, 1)\n",
      "not pass\n",
      "\n",
      "2018-01-30 10:15:46 layer: 29\n"
     ]
    },
    {
     "name": "stderr",
     "output_type": "stream",
     "text": [
      "c:\\program files\\python36\\lib\\site-packages\\numpy\\core\\fromnumeric.py:2909: RuntimeWarning: Mean of empty slice.\n",
      "  out=out, **kwargs)\n",
      "c:\\program files\\python36\\lib\\site-packages\\numpy\\core\\fromnumeric.py:2909: RuntimeWarning: Mean of empty slice.\n",
      "  out=out, **kwargs)\n",
      "c:\\program files\\python36\\lib\\site-packages\\numpy\\core\\fromnumeric.py:2909: RuntimeWarning: Mean of empty slice.\n",
      "  out=out, **kwargs)\n"
     ]
    },
    {
     "name": "stdout",
     "output_type": "stream",
     "text": [
      "all data ('acc', 0.87549522434814653)\n",
      "[p:0/1:0|n:32561/1:7841] \n",
      "train loss ('acc', 0.87549522434814653)\n",
      "pass train loss (0, 0)\n",
      "pass train loss now (0, 1)\n",
      "vaild loss ('acc', 0.86170572156874792)\n",
      "pass vaild loss (0, 0)\n",
      "pass vaild loss now (0, 1)\n",
      "test loss ('acc', 0.86401326699834158)\n",
      "pass test loss (0, 0)\n",
      "pass test loss now (0, 1)\n",
      "not pass\n",
      "\n",
      "2018-01-30 10:20:00 layer: 30\n"
     ]
    },
    {
     "name": "stderr",
     "output_type": "stream",
     "text": [
      "c:\\program files\\python36\\lib\\site-packages\\numpy\\core\\fromnumeric.py:2909: RuntimeWarning: Mean of empty slice.\n",
      "  out=out, **kwargs)\n",
      "c:\\program files\\python36\\lib\\site-packages\\numpy\\core\\fromnumeric.py:2909: RuntimeWarning: Mean of empty slice.\n",
      "  out=out, **kwargs)\n",
      "c:\\program files\\python36\\lib\\site-packages\\numpy\\core\\fromnumeric.py:2909: RuntimeWarning: Mean of empty slice.\n",
      "  out=out, **kwargs)\n"
     ]
    },
    {
     "name": "stdout",
     "output_type": "stream",
     "text": [
      "all data ('acc', 0.87626301403519546)\n",
      "[p:0/1:0|n:32561/1:7841] \n",
      "train loss ('acc', 0.87626301403519546)\n",
      "pass train loss (0, 0)\n",
      "pass train loss now (0, 1)\n",
      "vaild loss ('acc', 0.86235066490586898)\n",
      "pass vaild loss (0, 0)\n",
      "pass vaild loss now (0, 1)\n",
      "test loss ('acc', 0.86444321601867202)\n",
      "pass test loss (0, 0)\n",
      "pass test loss now (0, 1)\n",
      "30 [p:0/np:16281] \n",
      "\n",
      "2018-01-30 10:26:19 layer: 31\n"
     ]
    },
    {
     "name": "stderr",
     "output_type": "stream",
     "text": [
      "c:\\program files\\python36\\lib\\site-packages\\numpy\\core\\fromnumeric.py:2909: RuntimeWarning: Mean of empty slice.\n",
      "  out=out, **kwargs)\n",
      "c:\\program files\\python36\\lib\\site-packages\\numpy\\core\\fromnumeric.py:2909: RuntimeWarning: Mean of empty slice.\n",
      "  out=out, **kwargs)\n",
      "c:\\program files\\python36\\lib\\site-packages\\numpy\\core\\fromnumeric.py:2909: RuntimeWarning: Mean of empty slice.\n",
      "  out=out, **kwargs)\n"
     ]
    },
    {
     "name": "stdout",
     "output_type": "stream",
     "text": [
      "all data ('acc', 0.87607874451030376)\n",
      "[p:0/1:0|n:32561/1:7841] \n",
      "train loss ('acc', 0.87607874451030376)\n",
      "pass train loss (0, 0)\n",
      "pass train loss now (0, 1)\n",
      "vaild loss ('acc', 0.86192070268112164)\n",
      "pass vaild loss (0, 0)\n",
      "pass vaild loss now (0, 1)\n",
      "test loss ('acc', 0.86450463730729066)\n",
      "pass test loss (0, 0)\n",
      "pass test loss now (0, 1)\n",
      "not pass\n",
      "\n",
      "2018-01-30 10:32:56 layer: 32\n"
     ]
    },
    {
     "name": "stderr",
     "output_type": "stream",
     "text": [
      "c:\\program files\\python36\\lib\\site-packages\\numpy\\core\\fromnumeric.py:2909: RuntimeWarning: Mean of empty slice.\n",
      "  out=out, **kwargs)\n",
      "c:\\program files\\python36\\lib\\site-packages\\numpy\\core\\fromnumeric.py:2909: RuntimeWarning: Mean of empty slice.\n",
      "  out=out, **kwargs)\n",
      "c:\\program files\\python36\\lib\\site-packages\\numpy\\core\\fromnumeric.py:2909: RuntimeWarning: Mean of empty slice.\n",
      "  out=out, **kwargs)\n"
     ]
    },
    {
     "name": "stdout",
     "output_type": "stream",
     "text": [
      "all data ('acc', 0.87567949387303834)\n",
      "[p:0/1:0|n:32561/1:7841] \n",
      "train loss ('acc', 0.87567949387303834)\n",
      "pass train loss (0, 0)\n",
      "pass train loss now (0, 1)\n",
      "vaild loss ('acc', 0.86198212585608547)\n",
      "pass vaild loss (0, 0)\n",
      "pass vaild loss now (0, 1)\n",
      "test loss ('acc', 0.86389042442110431)\n",
      "pass test loss (0, 0)\n",
      "pass test loss now (0, 1)\n",
      "not pass\n",
      "\n",
      "2018-01-30 10:40:19 layer: 33\n"
     ]
    },
    {
     "name": "stderr",
     "output_type": "stream",
     "text": [
      "c:\\program files\\python36\\lib\\site-packages\\numpy\\core\\fromnumeric.py:2909: RuntimeWarning: Mean of empty slice.\n",
      "  out=out, **kwargs)\n",
      "c:\\program files\\python36\\lib\\site-packages\\numpy\\core\\fromnumeric.py:2909: RuntimeWarning: Mean of empty slice.\n",
      "  out=out, **kwargs)\n",
      "c:\\program files\\python36\\lib\\site-packages\\numpy\\core\\fromnumeric.py:2909: RuntimeWarning: Mean of empty slice.\n",
      "  out=out, **kwargs)\n"
     ]
    },
    {
     "name": "stdout",
     "output_type": "stream",
     "text": [
      "all data ('acc', 0.87589447498541195)\n",
      "[p:0/1:0|n:32561/1:7841] \n",
      "train loss ('acc', 0.87589447498541195)\n",
      "pass train loss (0, 0)\n",
      "pass train loss now (0, 1)\n",
      "vaild loss ('acc', 0.86201283744356749)\n",
      "pass vaild loss (0, 0)\n",
      "pass vaild loss now (0, 1)\n",
      "test loss ('acc', 0.86444321601867202)\n",
      "pass test loss (0, 0)\n",
      "pass test loss now (0, 1)\n",
      "not pass\n",
      "\n",
      "2018-01-30 10:46:07 layer: 34\n"
     ]
    },
    {
     "name": "stderr",
     "output_type": "stream",
     "text": [
      "c:\\program files\\python36\\lib\\site-packages\\numpy\\core\\fromnumeric.py:2909: RuntimeWarning: Mean of empty slice.\n",
      "  out=out, **kwargs)\n",
      "c:\\program files\\python36\\lib\\site-packages\\numpy\\core\\fromnumeric.py:2909: RuntimeWarning: Mean of empty slice.\n",
      "  out=out, **kwargs)\n",
      "c:\\program files\\python36\\lib\\site-packages\\numpy\\core\\fromnumeric.py:2909: RuntimeWarning: Mean of empty slice.\n",
      "  out=out, **kwargs)\n"
     ]
    },
    {
     "name": "stdout",
     "output_type": "stream",
     "text": [
      "all data ('acc', 0.87549522434814653)\n",
      "[p:0/1:0|n:32561/1:7841] \n",
      "train loss ('acc', 0.87549522434814653)\n",
      "pass train loss (0, 0)\n",
      "pass train loss now (0, 1)\n",
      "vaild loss ('acc', 0.8618592795061577)\n",
      "pass vaild loss (0, 0)\n",
      "pass vaild loss now (0, 1)\n",
      "test loss ('acc', 0.86401326699834158)\n",
      "pass test loss (0, 0)\n",
      "pass test loss now (0, 1)\n",
      "not pass\n",
      "\n",
      "2018-01-30 10:51:06 layer: 35\n"
     ]
    },
    {
     "name": "stderr",
     "output_type": "stream",
     "text": [
      "c:\\program files\\python36\\lib\\site-packages\\numpy\\core\\fromnumeric.py:2909: RuntimeWarning: Mean of empty slice.\n",
      "  out=out, **kwargs)\n",
      "c:\\program files\\python36\\lib\\site-packages\\numpy\\core\\fromnumeric.py:2909: RuntimeWarning: Mean of empty slice.\n",
      "  out=out, **kwargs)\n",
      "c:\\program files\\python36\\lib\\site-packages\\numpy\\core\\fromnumeric.py:2909: RuntimeWarning: Mean of empty slice.\n",
      "  out=out, **kwargs)\n"
     ]
    },
    {
     "name": "stdout",
     "output_type": "stream",
     "text": [
      "all data ('acc', 0.87571020546052025)\n",
      "[p:0/1:0|n:32561/1:7841] \n",
      "train loss ('acc', 0.87571020546052025)\n",
      "pass train loss (0, 0)\n",
      "pass train loss now (0, 1)\n",
      "vaild loss ('acc', 0.86201283744356749)\n",
      "pass vaild loss (0, 0)\n",
      "pass vaild loss now (0, 1)\n",
      "test loss ('acc', 0.86413610957557885)\n",
      "pass test loss (0, 0)\n",
      "pass test loss now (0, 1)\n",
      "not pass\n",
      "\n",
      "2018-01-30 10:56:53 layer: 36\n"
     ]
    },
    {
     "name": "stderr",
     "output_type": "stream",
     "text": [
      "c:\\program files\\python36\\lib\\site-packages\\numpy\\core\\fromnumeric.py:2909: RuntimeWarning: Mean of empty slice.\n",
      "  out=out, **kwargs)\n",
      "c:\\program files\\python36\\lib\\site-packages\\numpy\\core\\fromnumeric.py:2909: RuntimeWarning: Mean of empty slice.\n",
      "  out=out, **kwargs)\n",
      "c:\\program files\\python36\\lib\\site-packages\\numpy\\core\\fromnumeric.py:2909: RuntimeWarning: Mean of empty slice.\n",
      "  out=out, **kwargs)\n"
     ]
    },
    {
     "name": "stdout",
     "output_type": "stream",
     "text": [
      "all data ('acc', 0.87549522434814653)\n",
      "[p:0/1:0|n:32561/1:7841] \n",
      "train loss ('acc', 0.87549522434814653)\n",
      "pass train loss (0, 0)\n",
      "pass train loss now (0, 1)\n",
      "vaild loss ('acc', 0.86182856791867568)\n",
      "pass vaild loss (0, 0)\n",
      "pass vaild loss now (0, 1)\n",
      "test loss ('acc', 0.86419753086419748)\n",
      "pass test loss (0, 0)\n",
      "pass test loss now (0, 1)\n",
      "not pass\n",
      "\n",
      "2018-01-30 11:02:44 layer: 37\n"
     ]
    },
    {
     "name": "stderr",
     "output_type": "stream",
     "text": [
      "c:\\program files\\python36\\lib\\site-packages\\numpy\\core\\fromnumeric.py:2909: RuntimeWarning: Mean of empty slice.\n",
      "  out=out, **kwargs)\n",
      "c:\\program files\\python36\\lib\\site-packages\\numpy\\core\\fromnumeric.py:2909: RuntimeWarning: Mean of empty slice.\n",
      "  out=out, **kwargs)\n",
      "c:\\program files\\python36\\lib\\site-packages\\numpy\\core\\fromnumeric.py:2909: RuntimeWarning: Mean of empty slice.\n",
      "  out=out, **kwargs)\n"
     ]
    },
    {
     "name": "stdout",
     "output_type": "stream",
     "text": [
      "all data ('acc', 0.87595589816037589)\n",
      "[p:0/1:0|n:32561/1:7841] \n",
      "train loss ('acc', 0.87595589816037589)\n",
      "pass train loss (0, 0)\n",
      "pass train loss now (0, 1)\n",
      "vaild loss ('acc', 0.86231995331838707)\n",
      "pass vaild loss (0, 0)\n",
      "pass vaild loss now (0, 1)\n",
      "test loss ('acc', 0.86389042442110431)\n",
      "pass test loss (0, 0)\n",
      "pass test loss now (0, 1)\n",
      "not pass\n",
      "\n",
      "2018-01-30 11:09:00 layer: 38\n"
     ]
    },
    {
     "name": "stderr",
     "output_type": "stream",
     "text": [
      "c:\\program files\\python36\\lib\\site-packages\\numpy\\core\\fromnumeric.py:2909: RuntimeWarning: Mean of empty slice.\n",
      "  out=out, **kwargs)\n",
      "c:\\program files\\python36\\lib\\site-packages\\numpy\\core\\fromnumeric.py:2909: RuntimeWarning: Mean of empty slice.\n",
      "  out=out, **kwargs)\n",
      "c:\\program files\\python36\\lib\\site-packages\\numpy\\core\\fromnumeric.py:2909: RuntimeWarning: Mean of empty slice.\n",
      "  out=out, **kwargs)\n"
     ]
    },
    {
     "name": "stdout",
     "output_type": "stream",
     "text": [
      "all data ('acc', 0.87531095482325483)\n",
      "[p:0/1:0|n:32561/1:7841] \n",
      "train loss ('acc', 0.87531095482325483)\n",
      "pass train loss (0, 0)\n",
      "pass train loss now (0, 1)\n",
      "vaild loss ('acc', 0.86204354903104941)\n",
      "pass vaild loss (0, 0)\n",
      "pass vaild loss now (0, 1)\n",
      "test loss ('acc', 0.86444321601867202)\n",
      "pass test loss (0, 0)\n",
      "pass test loss now (0, 1)\n",
      "not pass\n",
      "\n",
      "2018-01-30 11:16:43 layer: 39\n"
     ]
    },
    {
     "name": "stderr",
     "output_type": "stream",
     "text": [
      "c:\\program files\\python36\\lib\\site-packages\\numpy\\core\\fromnumeric.py:2909: RuntimeWarning: Mean of empty slice.\n",
      "  out=out, **kwargs)\n",
      "c:\\program files\\python36\\lib\\site-packages\\numpy\\core\\fromnumeric.py:2909: RuntimeWarning: Mean of empty slice.\n",
      "  out=out, **kwargs)\n",
      "c:\\program files\\python36\\lib\\site-packages\\numpy\\core\\fromnumeric.py:2909: RuntimeWarning: Mean of empty slice.\n",
      "  out=out, **kwargs)\n"
     ]
    },
    {
     "name": "stdout",
     "output_type": "stream",
     "text": [
      "all data ('acc', 0.87552593593562855)\n",
      "[p:0/1:0|n:32561/1:7841] \n",
      "train loss ('acc', 0.87552593593562855)\n",
      "pass train loss (0, 0)\n",
      "pass train loss now (0, 1)\n",
      "vaild loss ('acc', 0.86207426061853132)\n",
      "pass vaild loss (0, 0)\n",
      "pass vaild loss now (0, 1)\n",
      "test loss ('acc', 0.86438179473005339)\n",
      "pass test loss (0, 0)\n",
      "pass test loss now (0, 1)\n",
      "not pass\n",
      "\n",
      "2018-01-30 11:26:14 layer: 40\n"
     ]
    },
    {
     "name": "stderr",
     "output_type": "stream",
     "text": [
      "c:\\program files\\python36\\lib\\site-packages\\numpy\\core\\fromnumeric.py:2909: RuntimeWarning: Mean of empty slice.\n",
      "  out=out, **kwargs)\n",
      "c:\\program files\\python36\\lib\\site-packages\\numpy\\core\\fromnumeric.py:2909: RuntimeWarning: Mean of empty slice.\n",
      "  out=out, **kwargs)\n",
      "c:\\program files\\python36\\lib\\site-packages\\numpy\\core\\fromnumeric.py:2909: RuntimeWarning: Mean of empty slice.\n",
      "  out=out, **kwargs)\n"
     ]
    },
    {
     "name": "stdout",
     "output_type": "stream",
     "text": [
      "all data ('acc', 0.87555664752311047)\n",
      "[p:0/1:0|n:32561/1:7841] \n",
      "train loss ('acc', 0.87555664752311047)\n",
      "pass train loss (0, 0)\n",
      "pass train loss now (0, 1)\n",
      "vaild loss ('acc', 0.86142931728141026)\n",
      "pass vaild loss (0, 0)\n",
      "pass vaild loss now (0, 1)\n",
      "test loss ('acc', 0.86425895215281612)\n",
      "pass test loss (0, 0)\n",
      "pass test loss now (0, 1)\n",
      "not pass\n",
      "\n",
      "2018-01-30 11:35:49 layer: 41\n"
     ]
    },
    {
     "name": "stderr",
     "output_type": "stream",
     "text": [
      "c:\\program files\\python36\\lib\\site-packages\\numpy\\core\\fromnumeric.py:2909: RuntimeWarning: Mean of empty slice.\n",
      "  out=out, **kwargs)\n",
      "c:\\program files\\python36\\lib\\site-packages\\numpy\\core\\fromnumeric.py:2909: RuntimeWarning: Mean of empty slice.\n",
      "  out=out, **kwargs)\n",
      "c:\\program files\\python36\\lib\\site-packages\\numpy\\core\\fromnumeric.py:2909: RuntimeWarning: Mean of empty slice.\n",
      "  out=out, **kwargs)\n"
     ]
    },
    {
     "name": "stdout",
     "output_type": "stream",
     "text": [
      "all data ('acc', 0.87552593593562855)\n",
      "[p:0/1:0|n:32561/1:7841] \n",
      "train loss ('acc', 0.87552593593562855)\n",
      "pass train loss (0, 0)\n",
      "pass train loss now (0, 1)\n",
      "vaild loss ('acc', 0.86219710696845919)\n",
      "pass vaild loss (0, 0)\n",
      "pass vaild loss now (0, 1)\n",
      "test loss ('acc', 0.86407468828696021)\n",
      "pass test loss (0, 0)\n",
      "pass test loss now (0, 1)\n",
      "not pass\n",
      "\n",
      "2018-01-30 11:45:21 layer: 42\n"
     ]
    },
    {
     "name": "stderr",
     "output_type": "stream",
     "text": [
      "c:\\program files\\python36\\lib\\site-packages\\numpy\\core\\fromnumeric.py:2909: RuntimeWarning: Mean of empty slice.\n",
      "  out=out, **kwargs)\n",
      "c:\\program files\\python36\\lib\\site-packages\\numpy\\core\\fromnumeric.py:2909: RuntimeWarning: Mean of empty slice.\n",
      "  out=out, **kwargs)\n",
      "c:\\program files\\python36\\lib\\site-packages\\numpy\\core\\fromnumeric.py:2909: RuntimeWarning: Mean of empty slice.\n",
      "  out=out, **kwargs)\n"
     ]
    },
    {
     "name": "stdout",
     "output_type": "stream",
     "text": [
      "all data ('acc', 0.87571020546052025)\n",
      "[p:0/1:0|n:32561/1:7841] \n",
      "train loss ('acc', 0.87571020546052025)\n",
      "pass train loss (0, 0)\n",
      "pass train loss now (0, 1)\n",
      "vaild loss ('acc', 0.86204354903104941)\n",
      "pass vaild loss (0, 0)\n",
      "pass vaild loss now (0, 1)\n",
      "test loss ('acc', 0.86382900313248567)\n",
      "pass test loss (0, 0)\n",
      "pass test loss now (0, 1)\n",
      "not pass\n",
      "\n",
      "2018-01-30 11:54:15 layer: 43\n"
     ]
    },
    {
     "name": "stderr",
     "output_type": "stream",
     "text": [
      "c:\\program files\\python36\\lib\\site-packages\\numpy\\core\\fromnumeric.py:2909: RuntimeWarning: Mean of empty slice.\n",
      "  out=out, **kwargs)\n",
      "c:\\program files\\python36\\lib\\site-packages\\numpy\\core\\fromnumeric.py:2909: RuntimeWarning: Mean of empty slice.\n",
      "  out=out, **kwargs)\n",
      "c:\\program files\\python36\\lib\\site-packages\\numpy\\core\\fromnumeric.py:2909: RuntimeWarning: Mean of empty slice.\n",
      "  out=out, **kwargs)\n"
     ]
    },
    {
     "name": "stdout",
     "output_type": "stream",
     "text": [
      "all data ('acc', 0.87574091704800217)\n",
      "[p:0/1:0|n:32561/1:7841] \n",
      "train loss ('acc', 0.87574091704800217)\n",
      "pass train loss (0, 0)\n",
      "pass train loss now (0, 1)\n",
      "vaild loss ('acc', 0.8618592795061577)\n",
      "pass vaild loss (0, 0)\n",
      "pass vaild loss now (0, 1)\n",
      "test loss ('acc', 0.86425895215281612)\n",
      "pass test loss (0, 0)\n",
      "pass test loss now (0, 1)\n",
      "not pass\n",
      "\n",
      "2018-01-30 12:03:18 layer: 44\n"
     ]
    },
    {
     "name": "stderr",
     "output_type": "stream",
     "text": [
      "c:\\program files\\python36\\lib\\site-packages\\numpy\\core\\fromnumeric.py:2909: RuntimeWarning: Mean of empty slice.\n",
      "  out=out, **kwargs)\n",
      "c:\\program files\\python36\\lib\\site-packages\\numpy\\core\\fromnumeric.py:2909: RuntimeWarning: Mean of empty slice.\n",
      "  out=out, **kwargs)\n",
      "c:\\program files\\python36\\lib\\site-packages\\numpy\\core\\fromnumeric.py:2909: RuntimeWarning: Mean of empty slice.\n",
      "  out=out, **kwargs)\n"
     ]
    },
    {
     "name": "stdout",
     "output_type": "stream",
     "text": [
      "all data ('acc', 0.87577162863548419)\n",
      "[p:0/1:0|n:32561/1:7841] \n",
      "train loss ('acc', 0.87577162863548419)\n",
      "pass train loss (0, 0)\n",
      "pass train loss now (0, 1)\n",
      "vaild loss ('acc', 0.86207426061853132)\n",
      "pass vaild loss (0, 0)\n",
      "pass vaild loss now (0, 1)\n",
      "test loss ('acc', 0.86456605859590929)\n",
      "pass test loss (0, 0)\n",
      "pass test loss now (0, 1)\n",
      "not pass\n",
      "\n",
      "2018-01-30 12:12:28 layer: 45\n"
     ]
    },
    {
     "name": "stderr",
     "output_type": "stream",
     "text": [
      "c:\\program files\\python36\\lib\\site-packages\\numpy\\core\\fromnumeric.py:2909: RuntimeWarning: Mean of empty slice.\n",
      "  out=out, **kwargs)\n",
      "c:\\program files\\python36\\lib\\site-packages\\numpy\\core\\fromnumeric.py:2909: RuntimeWarning: Mean of empty slice.\n",
      "  out=out, **kwargs)\n",
      "c:\\program files\\python36\\lib\\site-packages\\numpy\\core\\fromnumeric.py:2909: RuntimeWarning: Mean of empty slice.\n",
      "  out=out, **kwargs)\n"
     ]
    },
    {
     "name": "stdout",
     "output_type": "stream",
     "text": [
      "all data ('acc', 0.87589447498541195)\n",
      "[p:0/1:0|n:32561/1:7841] \n",
      "train loss ('acc', 0.87589447498541195)\n",
      "pass train loss (0, 0)\n",
      "pass train loss now (0, 1)\n",
      "vaild loss ('acc', 0.86173643315622983)\n",
      "pass vaild loss (0, 0)\n",
      "pass vaild loss now (0, 1)\n",
      "test loss ('acc', 0.86444321601867202)\n",
      "pass test loss (0, 0)\n",
      "pass test loss now (0, 1)\n",
      "not pass\n",
      "\n",
      "2018-01-30 12:22:17 layer: 46\n"
     ]
    },
    {
     "name": "stderr",
     "output_type": "stream",
     "text": [
      "c:\\program files\\python36\\lib\\site-packages\\numpy\\core\\fromnumeric.py:2909: RuntimeWarning: Mean of empty slice.\n",
      "  out=out, **kwargs)\n",
      "c:\\program files\\python36\\lib\\site-packages\\numpy\\core\\fromnumeric.py:2909: RuntimeWarning: Mean of empty slice.\n",
      "  out=out, **kwargs)\n",
      "c:\\program files\\python36\\lib\\site-packages\\numpy\\core\\fromnumeric.py:2909: RuntimeWarning: Mean of empty slice.\n",
      "  out=out, **kwargs)\n"
     ]
    },
    {
     "name": "stdout",
     "output_type": "stream",
     "text": [
      "all data ('acc', 0.87567949387303834)\n",
      "[p:0/1:0|n:32561/1:7841] \n",
      "train loss ('acc', 0.87567949387303834)\n",
      "pass train loss (0, 0)\n",
      "pass train loss now (0, 1)\n",
      "vaild loss ('acc', 0.86188999109363962)\n",
      "pass vaild loss (0, 0)\n",
      "pass vaild loss now (0, 1)\n",
      "test loss ('acc', 0.86456605859590929)\n",
      "pass test loss (0, 0)\n",
      "pass test loss now (0, 1)\n",
      "not pass\n",
      "\n",
      "2018-01-30 12:27:48 layer: 47\n"
     ]
    },
    {
     "name": "stderr",
     "output_type": "stream",
     "text": [
      "c:\\program files\\python36\\lib\\site-packages\\numpy\\core\\fromnumeric.py:2909: RuntimeWarning: Mean of empty slice.\n",
      "  out=out, **kwargs)\n",
      "c:\\program files\\python36\\lib\\site-packages\\numpy\\core\\fromnumeric.py:2909: RuntimeWarning: Mean of empty slice.\n",
      "  out=out, **kwargs)\n",
      "c:\\program files\\python36\\lib\\site-packages\\numpy\\core\\fromnumeric.py:2909: RuntimeWarning: Mean of empty slice.\n",
      "  out=out, **kwargs)\n"
     ]
    },
    {
     "name": "stdout",
     "output_type": "stream",
     "text": [
      "all data ('acc', 0.87552593593562855)\n",
      "[p:0/1:0|n:32561/1:7841] \n",
      "train loss ('acc', 0.87552593593562855)\n",
      "pass train loss (0, 0)\n",
      "pass train loss now (0, 1)\n",
      "vaild loss ('acc', 0.86161358680630207)\n",
      "pass vaild loss (0, 0)\n",
      "pass vaild loss now (0, 1)\n",
      "test loss ('acc', 0.86401326699834158)\n",
      "pass test loss (0, 0)\n",
      "pass test loss now (0, 1)\n",
      "not pass\n",
      "\n",
      "2018-01-30 12:31:24 layer: 48\n"
     ]
    },
    {
     "name": "stderr",
     "output_type": "stream",
     "text": [
      "c:\\program files\\python36\\lib\\site-packages\\numpy\\core\\fromnumeric.py:2909: RuntimeWarning: Mean of empty slice.\n",
      "  out=out, **kwargs)\n",
      "c:\\program files\\python36\\lib\\site-packages\\numpy\\core\\fromnumeric.py:2909: RuntimeWarning: Mean of empty slice.\n",
      "  out=out, **kwargs)\n",
      "c:\\program files\\python36\\lib\\site-packages\\numpy\\core\\fromnumeric.py:2909: RuntimeWarning: Mean of empty slice.\n",
      "  out=out, **kwargs)\n"
     ]
    },
    {
     "name": "stdout",
     "output_type": "stream",
     "text": [
      "all data ('acc', 0.87577162863548419)\n",
      "[p:0/1:0|n:32561/1:7841] \n",
      "train loss ('acc', 0.87577162863548419)\n",
      "pass train loss (0, 0)\n",
      "pass train loss now (0, 1)\n",
      "vaild loss ('acc', 0.86198212585608547)\n",
      "pass vaild loss (0, 0)\n",
      "pass vaild loss now (0, 1)\n",
      "test loss ('acc', 0.86389042442110431)\n",
      "pass test loss (0, 0)\n",
      "pass test loss now (0, 1)\n",
      "not pass\n",
      "\n",
      "2018-01-30 12:35:13 layer: 49\n"
     ]
    },
    {
     "name": "stderr",
     "output_type": "stream",
     "text": [
      "c:\\program files\\python36\\lib\\site-packages\\numpy\\core\\fromnumeric.py:2909: RuntimeWarning: Mean of empty slice.\n",
      "  out=out, **kwargs)\n",
      "c:\\program files\\python36\\lib\\site-packages\\numpy\\core\\fromnumeric.py:2909: RuntimeWarning: Mean of empty slice.\n",
      "  out=out, **kwargs)\n",
      "c:\\program files\\python36\\lib\\site-packages\\numpy\\core\\fromnumeric.py:2909: RuntimeWarning: Mean of empty slice.\n",
      "  out=out, **kwargs)\n"
     ]
    },
    {
     "name": "stdout",
     "output_type": "stream",
     "text": [
      "all data ('acc', 0.87589447498541195)\n",
      "[p:0/1:0|n:32561/1:7841] \n",
      "train loss ('acc', 0.87589447498541195)\n",
      "pass train loss (0, 0)\n",
      "pass train loss now (0, 1)\n",
      "vaild loss ('acc', 0.86207426061853132)\n",
      "pass vaild loss (0, 0)\n",
      "pass vaild loss now (0, 1)\n",
      "test loss ('acc', 0.86462747988452793)\n",
      "pass test loss (0, 0)\n",
      "pass test loss now (0, 1)\n",
      "not pass\n",
      "\n",
      "2018-01-30 12:39:14 layer: 50\n"
     ]
    },
    {
     "name": "stderr",
     "output_type": "stream",
     "text": [
      "c:\\program files\\python36\\lib\\site-packages\\numpy\\core\\fromnumeric.py:2909: RuntimeWarning: Mean of empty slice.\n",
      "  out=out, **kwargs)\n",
      "c:\\program files\\python36\\lib\\site-packages\\numpy\\core\\fromnumeric.py:2909: RuntimeWarning: Mean of empty slice.\n",
      "  out=out, **kwargs)\n",
      "c:\\program files\\python36\\lib\\site-packages\\numpy\\core\\fromnumeric.py:2909: RuntimeWarning: Mean of empty slice.\n",
      "  out=out, **kwargs)\n"
     ]
    },
    {
     "name": "stdout",
     "output_type": "stream",
     "text": [
      "all data ('acc', 0.87552593593562855)\n",
      "[p:0/1:0|n:32561/1:7841] \n",
      "train loss ('acc', 0.87552593593562855)\n",
      "pass train loss (0, 0)\n",
      "pass train loss now (0, 1)\n",
      "vaild loss ('acc', 0.86179785633119377)\n",
      "pass vaild loss (0, 0)\n",
      "pass vaild loss now (0, 1)\n",
      "test loss ('acc', 0.86413610957557885)\n",
      "pass test loss (0, 0)\n",
      "pass test loss now (0, 1)\n",
      "not pass\n",
      "\n",
      "2018-01-30 12:43:20 layer: 51\n"
     ]
    },
    {
     "name": "stderr",
     "output_type": "stream",
     "text": [
      "c:\\program files\\python36\\lib\\site-packages\\numpy\\core\\fromnumeric.py:2909: RuntimeWarning: Mean of empty slice.\n",
      "  out=out, **kwargs)\n",
      "c:\\program files\\python36\\lib\\site-packages\\numpy\\core\\fromnumeric.py:2909: RuntimeWarning: Mean of empty slice.\n",
      "  out=out, **kwargs)\n",
      "c:\\program files\\python36\\lib\\site-packages\\numpy\\core\\fromnumeric.py:2909: RuntimeWarning: Mean of empty slice.\n",
      "  out=out, **kwargs)\n"
     ]
    },
    {
     "name": "stdout",
     "output_type": "stream",
     "text": [
      "all data ('acc', 0.87549522434814653)\n",
      "[p:0/1:0|n:32561/1:7841] \n",
      "train loss ('acc', 0.87549522434814653)\n",
      "pass train loss (0, 0)\n",
      "pass train loss now (0, 1)\n",
      "vaild loss ('acc', 0.86213568379349526)\n",
      "pass vaild loss (0, 0)\n",
      "pass vaild loss now (0, 1)\n",
      "test loss ('acc', 0.86438179473005339)\n",
      "pass test loss (0, 0)\n",
      "pass test loss now (0, 1)\n",
      "not pass\n",
      "\n",
      "2018-01-30 12:47:36 layer: 52\n"
     ]
    },
    {
     "name": "stderr",
     "output_type": "stream",
     "text": [
      "c:\\program files\\python36\\lib\\site-packages\\numpy\\core\\fromnumeric.py:2909: RuntimeWarning: Mean of empty slice.\n",
      "  out=out, **kwargs)\n",
      "c:\\program files\\python36\\lib\\site-packages\\numpy\\core\\fromnumeric.py:2909: RuntimeWarning: Mean of empty slice.\n",
      "  out=out, **kwargs)\n",
      "c:\\program files\\python36\\lib\\site-packages\\numpy\\core\\fromnumeric.py:2909: RuntimeWarning: Mean of empty slice.\n",
      "  out=out, **kwargs)\n"
     ]
    },
    {
     "name": "stdout",
     "output_type": "stream",
     "text": [
      "all data ('acc', 0.87586376339793004)\n",
      "[p:0/1:0|n:32561/1:7841] \n",
      "train loss ('acc', 0.87586376339793004)\n",
      "pass train loss (0, 0)\n",
      "pass train loss now (0, 1)\n",
      "vaild loss ('acc', 0.86158287521882004)\n",
      "pass vaild loss (0, 0)\n",
      "pass vaild loss now (0, 1)\n",
      "test loss ('acc', 0.86462747988452793)\n",
      "pass test loss (0, 0)\n",
      "pass test loss now (0, 1)\n",
      "not pass\n",
      "\n",
      "2018-01-30 12:52:01 layer: 53\n"
     ]
    },
    {
     "name": "stderr",
     "output_type": "stream",
     "text": [
      "c:\\program files\\python36\\lib\\site-packages\\numpy\\core\\fromnumeric.py:2909: RuntimeWarning: Mean of empty slice.\n",
      "  out=out, **kwargs)\n",
      "c:\\program files\\python36\\lib\\site-packages\\numpy\\core\\fromnumeric.py:2909: RuntimeWarning: Mean of empty slice.\n",
      "  out=out, **kwargs)\n",
      "c:\\program files\\python36\\lib\\site-packages\\numpy\\core\\fromnumeric.py:2909: RuntimeWarning: Mean of empty slice.\n",
      "  out=out, **kwargs)\n"
     ]
    },
    {
     "name": "stdout",
     "output_type": "stream",
     "text": [
      "all data ('acc', 0.87595589816037589)\n",
      "[p:0/1:0|n:32561/1:7841] \n",
      "train loss ('acc', 0.87595589816037589)\n",
      "pass train loss (0, 0)\n",
      "pass train loss now (0, 1)\n",
      "vaild loss ('acc', 0.86195141426860356)\n",
      "pass vaild loss (0, 0)\n",
      "pass vaild loss now (0, 1)\n",
      "test loss ('acc', 0.86395184570972294)\n",
      "pass test loss (0, 0)\n",
      "pass test loss now (0, 1)\n",
      "not pass\n",
      "\n",
      "2018-01-30 12:56:35 layer: 54\n"
     ]
    },
    {
     "name": "stderr",
     "output_type": "stream",
     "text": [
      "c:\\program files\\python36\\lib\\site-packages\\numpy\\core\\fromnumeric.py:2909: RuntimeWarning: Mean of empty slice.\n",
      "  out=out, **kwargs)\n",
      "c:\\program files\\python36\\lib\\site-packages\\numpy\\core\\fromnumeric.py:2909: RuntimeWarning: Mean of empty slice.\n",
      "  out=out, **kwargs)\n",
      "c:\\program files\\python36\\lib\\site-packages\\numpy\\core\\fromnumeric.py:2909: RuntimeWarning: Mean of empty slice.\n",
      "  out=out, **kwargs)\n"
     ]
    },
    {
     "name": "stdout",
     "output_type": "stream",
     "text": [
      "all data ('acc', 0.87531095482325483)\n",
      "[p:0/1:0|n:32561/1:7841] \n",
      "train loss ('acc', 0.87531095482325483)\n",
      "pass train loss (0, 0)\n",
      "pass train loss now (0, 1)\n",
      "vaild loss ('acc', 0.86198212585608547)\n",
      "pass vaild loss (0, 0)\n",
      "pass vaild loss now (0, 1)\n",
      "test loss ('acc', 0.86395184570972294)\n",
      "pass test loss (0, 0)\n",
      "pass test loss now (0, 1)\n",
      "not pass\n",
      "\n",
      "2018-01-30 13:01:24 layer: 55\n"
     ]
    },
    {
     "name": "stderr",
     "output_type": "stream",
     "text": [
      "c:\\program files\\python36\\lib\\site-packages\\numpy\\core\\fromnumeric.py:2909: RuntimeWarning: Mean of empty slice.\n",
      "  out=out, **kwargs)\n",
      "c:\\program files\\python36\\lib\\site-packages\\numpy\\core\\fromnumeric.py:2909: RuntimeWarning: Mean of empty slice.\n",
      "  out=out, **kwargs)\n",
      "c:\\program files\\python36\\lib\\site-packages\\numpy\\core\\fromnumeric.py:2909: RuntimeWarning: Mean of empty slice.\n",
      "  out=out, **kwargs)\n"
     ]
    },
    {
     "name": "stdout",
     "output_type": "stream",
     "text": [
      "all data ('acc', 0.87607874451030376)\n",
      "[p:0/1:0|n:32561/1:7841] \n",
      "train loss ('acc', 0.87607874451030376)\n",
      "pass train loss (0, 0)\n",
      "pass train loss now (0, 1)\n",
      "vaild loss ('acc', 0.86204354903104941)\n",
      "pass vaild loss (0, 0)\n",
      "pass vaild loss now (0, 1)\n",
      "test loss ('acc', 0.86425895215281612)\n",
      "pass test loss (0, 0)\n",
      "pass test loss now (0, 1)\n",
      "not pass\n",
      "\n",
      "2018-01-30 13:06:20 layer: 56\n"
     ]
    },
    {
     "name": "stderr",
     "output_type": "stream",
     "text": [
      "c:\\program files\\python36\\lib\\site-packages\\numpy\\core\\fromnumeric.py:2909: RuntimeWarning: Mean of empty slice.\n",
      "  out=out, **kwargs)\n",
      "c:\\program files\\python36\\lib\\site-packages\\numpy\\core\\fromnumeric.py:2909: RuntimeWarning: Mean of empty slice.\n",
      "  out=out, **kwargs)\n",
      "c:\\program files\\python36\\lib\\site-packages\\numpy\\core\\fromnumeric.py:2909: RuntimeWarning: Mean of empty slice.\n",
      "  out=out, **kwargs)\n"
     ]
    },
    {
     "name": "stdout",
     "output_type": "stream",
     "text": [
      "all data ('acc', 0.87543380117318259)\n",
      "[p:0/1:0|n:32561/1:7841] \n",
      "train loss ('acc', 0.87543380117318259)\n",
      "pass train loss (0, 0)\n",
      "pass train loss now (0, 1)\n",
      "vaild loss ('acc', 0.86182856791867568)\n",
      "pass vaild loss (0, 0)\n",
      "pass vaild loss now (0, 1)\n",
      "test loss ('acc', 0.86419753086419748)\n",
      "pass test loss (0, 0)\n",
      "pass test loss now (0, 1)\n",
      "not pass\n",
      "\n",
      "2018-01-30 13:11:33 layer: 57\n"
     ]
    },
    {
     "name": "stderr",
     "output_type": "stream",
     "text": [
      "c:\\program files\\python36\\lib\\site-packages\\numpy\\core\\fromnumeric.py:2909: RuntimeWarning: Mean of empty slice.\n",
      "  out=out, **kwargs)\n",
      "c:\\program files\\python36\\lib\\site-packages\\numpy\\core\\fromnumeric.py:2909: RuntimeWarning: Mean of empty slice.\n",
      "  out=out, **kwargs)\n",
      "c:\\program files\\python36\\lib\\site-packages\\numpy\\core\\fromnumeric.py:2909: RuntimeWarning: Mean of empty slice.\n",
      "  out=out, **kwargs)\n"
     ]
    },
    {
     "name": "stdout",
     "output_type": "stream",
     "text": [
      "all data ('acc', 0.8758023402229661)\n",
      "[p:0/1:0|n:32561/1:7841] \n",
      "train loss ('acc', 0.8758023402229661)\n",
      "pass train loss (0, 0)\n",
      "pass train loss now (0, 1)\n",
      "vaild loss ('acc', 0.86146002886889228)\n",
      "pass vaild loss (0, 0)\n",
      "pass vaild loss now (0, 1)\n",
      "test loss ('acc', 0.86413610957557885)\n",
      "pass test loss (0, 0)\n",
      "pass test loss now (0, 1)\n",
      "not pass\n",
      "\n",
      "2018-01-30 13:16:59 layer: 58\n"
     ]
    },
    {
     "name": "stderr",
     "output_type": "stream",
     "text": [
      "c:\\program files\\python36\\lib\\site-packages\\numpy\\core\\fromnumeric.py:2909: RuntimeWarning: Mean of empty slice.\n",
      "  out=out, **kwargs)\n",
      "c:\\program files\\python36\\lib\\site-packages\\numpy\\core\\fromnumeric.py:2909: RuntimeWarning: Mean of empty slice.\n",
      "  out=out, **kwargs)\n",
      "c:\\program files\\python36\\lib\\site-packages\\numpy\\core\\fromnumeric.py:2909: RuntimeWarning: Mean of empty slice.\n",
      "  out=out, **kwargs)\n"
     ]
    },
    {
     "name": "stdout",
     "output_type": "stream",
     "text": [
      "all data ('acc', 0.87555664752311047)\n",
      "[p:0/1:0|n:32561/1:7841] \n",
      "train loss ('acc', 0.87555664752311047)\n",
      "pass train loss (0, 0)\n",
      "pass train loss now (0, 1)\n",
      "vaild loss ('acc', 0.86219710696845919)\n",
      "pass vaild loss (0, 0)\n",
      "pass vaild loss now (0, 1)\n",
      "test loss ('acc', 0.86450463730729066)\n",
      "pass test loss (0, 0)\n",
      "pass test loss now (0, 1)\n",
      "not pass\n",
      "\n",
      "2018-01-30 13:22:39 layer: 59\n"
     ]
    },
    {
     "name": "stderr",
     "output_type": "stream",
     "text": [
      "c:\\program files\\python36\\lib\\site-packages\\numpy\\core\\fromnumeric.py:2909: RuntimeWarning: Mean of empty slice.\n",
      "  out=out, **kwargs)\n",
      "c:\\program files\\python36\\lib\\site-packages\\numpy\\core\\fromnumeric.py:2909: RuntimeWarning: Mean of empty slice.\n",
      "  out=out, **kwargs)\n",
      "c:\\program files\\python36\\lib\\site-packages\\numpy\\core\\fromnumeric.py:2909: RuntimeWarning: Mean of empty slice.\n",
      "  out=out, **kwargs)\n"
     ]
    },
    {
     "name": "stdout",
     "output_type": "stream",
     "text": [
      "all data ('acc', 0.87577162863548419)\n",
      "[p:0/1:0|n:32561/1:7841] \n",
      "train loss ('acc', 0.87577162863548419)\n",
      "pass train loss (0, 0)\n",
      "pass train loss now (0, 1)\n",
      "vaild loss ('acc', 0.86136789410644632)\n",
      "pass vaild loss (0, 0)\n",
      "pass vaild loss now (0, 1)\n",
      "test loss ('acc', 0.86401326699834158)\n",
      "pass test loss (0, 0)\n",
      "pass test loss now (0, 1)\n",
      "not pass\n",
      "\n",
      "2018-01-30 13:28:36 layer: 60\n"
     ]
    },
    {
     "name": "stderr",
     "output_type": "stream",
     "text": [
      "c:\\program files\\python36\\lib\\site-packages\\numpy\\core\\fromnumeric.py:2909: RuntimeWarning: Mean of empty slice.\n",
      "  out=out, **kwargs)\n",
      "c:\\program files\\python36\\lib\\site-packages\\numpy\\core\\fromnumeric.py:2909: RuntimeWarning: Mean of empty slice.\n",
      "  out=out, **kwargs)\n",
      "c:\\program files\\python36\\lib\\site-packages\\numpy\\core\\fromnumeric.py:2909: RuntimeWarning: Mean of empty slice.\n",
      "  out=out, **kwargs)\n"
     ]
    },
    {
     "name": "stdout",
     "output_type": "stream",
     "text": [
      "all data ('acc', 0.8752802432357728)\n",
      "[p:0/1:0|n:32561/1:7841] \n",
      "train loss ('acc', 0.8752802432357728)\n",
      "pass train loss (0, 0)\n",
      "pass train loss now (0, 1)\n",
      "vaild loss ('acc', 0.86198212585608547)\n",
      "pass vaild loss (0, 0)\n",
      "pass vaild loss now (0, 1)\n",
      "test loss ('acc', 0.86444321601867202)\n",
      "pass test loss (0, 0)\n",
      "pass test loss now (0, 1)\n",
      "not pass\n",
      "\n",
      "2018-01-30 13:34:45 layer: 61\n"
     ]
    },
    {
     "name": "stderr",
     "output_type": "stream",
     "text": [
      "c:\\program files\\python36\\lib\\site-packages\\numpy\\core\\fromnumeric.py:2909: RuntimeWarning: Mean of empty slice.\n",
      "  out=out, **kwargs)\n",
      "c:\\program files\\python36\\lib\\site-packages\\numpy\\core\\fromnumeric.py:2909: RuntimeWarning: Mean of empty slice.\n",
      "  out=out, **kwargs)\n",
      "c:\\program files\\python36\\lib\\site-packages\\numpy\\core\\fromnumeric.py:2909: RuntimeWarning: Mean of empty slice.\n",
      "  out=out, **kwargs)\n"
     ]
    },
    {
     "name": "stdout",
     "output_type": "stream",
     "text": [
      "all data ('acc', 0.87583305181044813)\n",
      "[p:0/1:0|n:32561/1:7841] \n",
      "train loss ('acc', 0.87583305181044813)\n",
      "pass train loss (0, 0)\n",
      "pass train loss now (0, 1)\n",
      "vaild loss ('acc', 0.86235066490586898)\n",
      "pass vaild loss (0, 0)\n",
      "pass vaild loss now (0, 1)\n",
      "test loss ('acc', 0.86425895215281612)\n",
      "pass test loss (0, 0)\n",
      "pass test loss now (0, 1)\n",
      "61 [p:0/np:16281] \n",
      "\n",
      "2018-01-30 13:43:11 layer: 62\n"
     ]
    },
    {
     "name": "stderr",
     "output_type": "stream",
     "text": [
      "c:\\program files\\python36\\lib\\site-packages\\numpy\\core\\fromnumeric.py:2909: RuntimeWarning: Mean of empty slice.\n",
      "  out=out, **kwargs)\n",
      "c:\\program files\\python36\\lib\\site-packages\\numpy\\core\\fromnumeric.py:2909: RuntimeWarning: Mean of empty slice.\n",
      "  out=out, **kwargs)\n",
      "c:\\program files\\python36\\lib\\site-packages\\numpy\\core\\fromnumeric.py:2909: RuntimeWarning: Mean of empty slice.\n",
      "  out=out, **kwargs)\n"
     ]
    },
    {
     "name": "stdout",
     "output_type": "stream",
     "text": [
      "all data ('acc', 0.87574091704800217)\n",
      "[p:0/1:0|n:32561/1:7841] \n",
      "train loss ('acc', 0.87574091704800217)\n",
      "pass train loss (0, 0)\n",
      "pass train loss now (0, 1)\n",
      "vaild loss ('acc', 0.86235066490586898)\n",
      "pass vaild loss (0, 0)\n",
      "pass vaild loss now (0, 1)\n",
      "test loss ('acc', 0.86432037344143475)\n",
      "pass test loss (0, 0)\n",
      "pass test loss now (0, 1)\n",
      "62 [p:0/np:16281] \n",
      "\n",
      "2018-01-30 14:00:12 layer: 63\n"
     ]
    },
    {
     "name": "stderr",
     "output_type": "stream",
     "text": [
      "c:\\program files\\python36\\lib\\site-packages\\numpy\\core\\fromnumeric.py:2909: RuntimeWarning: Mean of empty slice.\n",
      "  out=out, **kwargs)\n",
      "c:\\program files\\python36\\lib\\site-packages\\numpy\\core\\fromnumeric.py:2909: RuntimeWarning: Mean of empty slice.\n",
      "  out=out, **kwargs)\n",
      "c:\\program files\\python36\\lib\\site-packages\\numpy\\core\\fromnumeric.py:2909: RuntimeWarning: Mean of empty slice.\n",
      "  out=out, **kwargs)\n"
     ]
    },
    {
     "name": "stdout",
     "output_type": "stream",
     "text": [
      "all data ('acc', 0.87577162863548419)\n",
      "[p:0/1:0|n:32561/1:7841] \n",
      "train loss ('acc', 0.87577162863548419)\n",
      "pass train loss (0, 0)\n",
      "pass train loss now (0, 1)\n",
      "vaild loss ('acc', 0.86164429839378398)\n",
      "pass vaild loss (0, 0)\n",
      "pass vaild loss now (0, 1)\n",
      "test loss ('acc', 0.86389042442110431)\n",
      "pass test loss (0, 0)\n",
      "pass test loss now (0, 1)\n",
      "63 [p:0/np:16281] \n",
      "\n",
      "2018-01-30 14:17:39 layer: 64\n"
     ]
    },
    {
     "name": "stderr",
     "output_type": "stream",
     "text": [
      "c:\\program files\\python36\\lib\\site-packages\\numpy\\core\\fromnumeric.py:2909: RuntimeWarning: Mean of empty slice.\n",
      "  out=out, **kwargs)\n",
      "c:\\program files\\python36\\lib\\site-packages\\numpy\\core\\fromnumeric.py:2909: RuntimeWarning: Mean of empty slice.\n",
      "  out=out, **kwargs)\n",
      "c:\\program files\\python36\\lib\\site-packages\\numpy\\core\\fromnumeric.py:2909: RuntimeWarning: Mean of empty slice.\n",
      "  out=out, **kwargs)\n"
     ]
    },
    {
     "name": "stdout",
     "output_type": "stream",
     "text": [
      "all data ('acc', 0.87589447498541195)\n",
      "[p:0/1:0|n:32561/1:7841] \n",
      "train loss ('acc', 0.87589447498541195)\n",
      "pass train loss (0, 0)\n",
      "pass train loss now (0, 1)\n",
      "vaild loss ('acc', 0.86244279966831483)\n",
      "pass vaild loss (0, 0)\n",
      "pass vaild loss now (0, 1)\n",
      "test loss ('acc', 0.86456605859590929)\n",
      "pass test loss (0, 0)\n",
      "pass test loss now (0, 1)\n",
      "64 [p:0/np:16281] \n",
      "\n",
      "2018-01-30 14:35:43 layer: 65\n"
     ]
    },
    {
     "name": "stderr",
     "output_type": "stream",
     "text": [
      "c:\\program files\\python36\\lib\\site-packages\\numpy\\core\\fromnumeric.py:2909: RuntimeWarning: Mean of empty slice.\n",
      "  out=out, **kwargs)\n",
      "c:\\program files\\python36\\lib\\site-packages\\numpy\\core\\fromnumeric.py:2909: RuntimeWarning: Mean of empty slice.\n",
      "  out=out, **kwargs)\n",
      "c:\\program files\\python36\\lib\\site-packages\\numpy\\core\\fromnumeric.py:2909: RuntimeWarning: Mean of empty slice.\n",
      "  out=out, **kwargs)\n"
     ]
    },
    {
     "name": "stdout",
     "output_type": "stream",
     "text": [
      "all data ('acc', 0.87610945609778568)\n",
      "[p:0/1:0|n:32561/1:7841] \n",
      "train loss ('acc', 0.87610945609778568)\n",
      "pass train loss (0, 0)\n",
      "pass train loss now (0, 1)\n",
      "vaild loss ('acc', 0.86210497220601334)\n",
      "pass vaild loss (0, 0)\n",
      "pass vaild loss now (0, 1)\n",
      "test loss ('acc', 0.86413610957557885)\n",
      "pass test loss (0, 0)\n",
      "pass test loss now (0, 1)\n",
      "65 [p:0/np:16281] \n",
      "\n",
      "2018-01-30 14:52:24 layer: 66\n"
     ]
    },
    {
     "name": "stderr",
     "output_type": "stream",
     "text": [
      "c:\\program files\\python36\\lib\\site-packages\\numpy\\core\\fromnumeric.py:2909: RuntimeWarning: Mean of empty slice.\n",
      "  out=out, **kwargs)\n",
      "c:\\program files\\python36\\lib\\site-packages\\numpy\\core\\fromnumeric.py:2909: RuntimeWarning: Mean of empty slice.\n",
      "  out=out, **kwargs)\n",
      "c:\\program files\\python36\\lib\\site-packages\\numpy\\core\\fromnumeric.py:2909: RuntimeWarning: Mean of empty slice.\n",
      "  out=out, **kwargs)\n"
     ]
    },
    {
     "name": "stdout",
     "output_type": "stream",
     "text": [
      "all data ('acc', 0.87604803292282174)\n",
      "[p:0/1:0|n:32561/1:7841] \n",
      "train loss ('acc', 0.87604803292282174)\n",
      "pass train loss (0, 0)\n",
      "pass train loss now (0, 1)\n",
      "vaild loss ('acc', 0.86231995331838707)\n",
      "pass vaild loss (0, 0)\n",
      "pass vaild loss now (0, 1)\n",
      "test loss ('acc', 0.86444321601867202)\n",
      "pass test loss (0, 0)\n",
      "pass test loss now (0, 1)\n",
      "66 [p:0/np:16281] \n",
      "\n",
      "2018-01-30 15:08:24 layer: 67\n"
     ]
    },
    {
     "name": "stderr",
     "output_type": "stream",
     "text": [
      "c:\\program files\\python36\\lib\\site-packages\\numpy\\core\\fromnumeric.py:2909: RuntimeWarning: Mean of empty slice.\n",
      "  out=out, **kwargs)\n",
      "c:\\program files\\python36\\lib\\site-packages\\numpy\\core\\fromnumeric.py:2909: RuntimeWarning: Mean of empty slice.\n",
      "  out=out, **kwargs)\n",
      "c:\\program files\\python36\\lib\\site-packages\\numpy\\core\\fromnumeric.py:2909: RuntimeWarning: Mean of empty slice.\n",
      "  out=out, **kwargs)\n"
     ]
    },
    {
     "name": "stdout",
     "output_type": "stream",
     "text": [
      "all data ('acc', 0.87571020546052025)\n",
      "[p:0/1:0|n:32561/1:7841] \n",
      "train loss ('acc', 0.87571020546052025)\n",
      "pass train loss (0, 0)\n",
      "pass train loss now (0, 1)\n",
      "vaild loss ('acc', 0.86155216363133813)\n",
      "pass vaild loss (0, 0)\n",
      "pass vaild loss now (0, 1)\n",
      "test loss ('acc', 0.86395184570972294)\n",
      "pass test loss (0, 0)\n",
      "pass test loss now (0, 1)\n",
      "not pass\n",
      "\n",
      "2018-01-30 15:23:35 layer: 68\n"
     ]
    },
    {
     "name": "stderr",
     "output_type": "stream",
     "text": [
      "c:\\program files\\python36\\lib\\site-packages\\numpy\\core\\fromnumeric.py:2909: RuntimeWarning: Mean of empty slice.\n",
      "  out=out, **kwargs)\n",
      "c:\\program files\\python36\\lib\\site-packages\\numpy\\core\\fromnumeric.py:2909: RuntimeWarning: Mean of empty slice.\n",
      "  out=out, **kwargs)\n",
      "c:\\program files\\python36\\lib\\site-packages\\numpy\\core\\fromnumeric.py:2909: RuntimeWarning: Mean of empty slice.\n",
      "  out=out, **kwargs)\n"
     ]
    },
    {
     "name": "stdout",
     "output_type": "stream",
     "text": [
      "all data ('acc', 0.87577162863548419)\n",
      "[p:0/1:0|n:32561/1:7841] \n",
      "train loss ('acc', 0.87577162863548419)\n",
      "pass train loss (0, 0)\n",
      "pass train loss now (0, 1)\n",
      "vaild loss ('acc', 0.86164429839378398)\n",
      "pass vaild loss (0, 0)\n",
      "pass vaild loss now (0, 1)\n",
      "test loss ('acc', 0.86450463730729066)\n",
      "pass test loss (0, 0)\n",
      "pass test loss now (0, 1)\n",
      "not pass\n",
      "\n",
      "2018-01-30 15:36:59 layer: 69\n"
     ]
    },
    {
     "name": "stderr",
     "output_type": "stream",
     "text": [
      "c:\\program files\\python36\\lib\\site-packages\\numpy\\core\\fromnumeric.py:2909: RuntimeWarning: Mean of empty slice.\n",
      "  out=out, **kwargs)\n",
      "c:\\program files\\python36\\lib\\site-packages\\numpy\\core\\fromnumeric.py:2909: RuntimeWarning: Mean of empty slice.\n",
      "  out=out, **kwargs)\n",
      "c:\\program files\\python36\\lib\\site-packages\\numpy\\core\\fromnumeric.py:2909: RuntimeWarning: Mean of empty slice.\n",
      "  out=out, **kwargs)\n"
     ]
    },
    {
     "name": "stdout",
     "output_type": "stream",
     "text": [
      "all data ('acc', 0.87635514879764131)\n",
      "[p:0/1:0|n:32561/1:7841] \n",
      "train loss ('acc', 0.87635514879764131)\n",
      "pass train loss (0, 0)\n",
      "pass train loss now (0, 1)\n",
      "vaild loss ('acc', 0.86188999109363962)\n",
      "pass vaild loss (0, 0)\n",
      "pass vaild loss now (0, 1)\n",
      "test loss ('acc', 0.86450463730729066)\n",
      "pass test loss (0, 0)\n",
      "pass test loss now (0, 1)\n",
      "69 [p:0/np:16281] \n",
      "STATUS_BREAK\n"
     ]
    }
   ],
   "source": [
    "decoForest = DecomposerForest.DecomposerForest(X_train, y_train, X_sub, y_sub, num_class=2, flag=\"adult\", isLRStacker=True)\n",
    "# decoForest.set_parameter(criterion=\"gini\", dropout=-1, min_samples_leaf=10)\n",
    "decoForest.set_parameter(criterion=\"gini\", dropout=None, min_samples_leaf=10)\n",
    "decoForest.fit(n_estimators=500, kfold=3, feval=acc_metrix_mult)"
   ]
  },
  {
   "cell_type": "code",
   "execution_count": 11,
   "metadata": {
    "collapsed": true
   },
   "outputs": [
    {
     "data": {
      "text/plain": [
       "(0.86481174375038383,\n",
       " [(0, 0.86450463730729066),\n",
       "  (1, 0.86444321601867202),\n",
       "  (2, 0.86407468828696021),\n",
       "  (3, 0.86407468828696021),\n",
       "  (4, 0.86413610957557885),\n",
       "  (5, 0.86382900313248567),\n",
       "  (6, 0.86444321601867202),\n",
       "  (7, 0.86382900313248567),\n",
       "  (8, 0.86419753086419748),\n",
       "  (9, 0.86438179473005339),\n",
       "  (10, 0.86481174375038383),\n",
       "  (11, 0.86419753086419748),\n",
       "  (12, 0.86395184570972294),\n",
       "  (13, 0.86444321601867202),\n",
       "  (14, 0.86425895215281612),\n",
       "  (15, 0.86432037344143475),\n",
       "  (16, 0.86389042442110431),\n",
       "  (17, 0.86456605859590929),\n",
       "  (18, 0.86413610957557885),\n",
       "  (19, 0.86444321601867202),\n",
       "  (20, 0.86450463730729066)])"
      ]
     },
     "execution_count": 11,
     "metadata": {},
     "output_type": "execute_result"
    }
   ],
   "source": [
    "# 0123\n",
    "np.max(np.array(decoForest.test_loss_lt)),list(enumerate(decoForest.test_loss_lt) )"
   ]
  },
  {
   "cell_type": "code",
   "execution_count": 86,
   "metadata": {
    "collapsed": true
   },
   "outputs": [
    {
     "data": {
      "text/plain": [
       "(0.86542595663657018,\n",
       " [(0, 0.86481174375038383),\n",
       "  (1, 0.86456605859590929),\n",
       "  (2, 0.86389042442110431),\n",
       "  (3, 0.86481174375038383),\n",
       "  (4, 0.86499600761623974),\n",
       "  (5, 0.86432037344143475),\n",
       "  (6, 0.86542595663657018)])"
      ]
     },
     "execution_count": 86,
     "metadata": {},
     "output_type": "execute_result"
    }
   ],
   "source": [
    "# 0123\n",
    "np.max(np.array(decoForest.test_loss_lt)),list(enumerate(decoForest.test_loss_lt) )"
   ]
  },
  {
   "cell_type": "code",
   "execution_count": 72,
   "metadata": {},
   "outputs": [
    {
     "data": {
      "image/png": "[encoded data removed]",
      "text/plain": [
       "<matplotlib.figure.Figure at 0x19bbf396588>"
      ]
     },
     "metadata": {},
     "output_type": "display_data"
    }
   ],
   "source": [
    "# 0123\n",
    "import matplotlib.pyplot as plt\n",
    "\n",
    "plt.figure(figsize=(10,10))\n",
    "x = range(len(decoForest.train_loss_lt))\n",
    "\n",
    "plt.subplot(221)\n",
    "plt.plot(x[1:],decoForest.pass_train_loss_lt[1:], label=\"train-pass\", color=\"blue\")\n",
    "plt.plot(x[1:],decoForest.pass_vaild_loss_lt[1:], label=\"vaild-pass\", color=\"green\")\n",
    "plt.plot(x[1:],decoForest.pass_test_loss_lt[1:], label=\"test-pass\", color=\"red\")\n",
    "plt.legend()\n",
    "plt.subplot(222)\n",
    "plt.plot(x[1:],decoForest.pass_train_loss_lt_now[1:], label=\"train-pass-now\", color=\"blue\")\n",
    "plt.plot(x[1:],decoForest.pass_vaild_loss_lt_now[1:], label=\"vaild-pass-now\", color=\"green\")\n",
    "plt.plot(x[1:],decoForest.pass_test_loss_lt_now[1:], label=\"test-pass-now\", color=\"red\")\n",
    "plt.legend()\n",
    "plt.subplot(223)\n",
    "plt.plot(x,decoForest.train_loss_lt, label=\"train-loss\", color=\"blue\")\n",
    "plt.plot(x,decoForest.vaild_loss_lt, label=\"vaild-loss\", color=\"green\")\n",
    "plt.plot(x,decoForest.test_loss_lt, label=\"test-loss\", color=\"red\")\n",
    "plt.legend()\n",
    "plt.subplot(224)\n",
    "plt.plot(x,decoForest.pass_data_rate_lt[:], label=\"data-pass-rate\")\n",
    "plt.legend()\n",
    "\n",
    "plt.show()"
   ]
  },
  {
   "cell_type": "code",
   "execution_count": null,
   "metadata": {},
   "outputs": [],
   "source": [
    "# 0123\n",
    "import matplotlib.pyplot as plt\n",
    "\n",
    "plt.figure(figsize=(10,10))\n",
    "x = range(len(decoForest.train_loss_lt))\n",
    "\n",
    "plt.subplot(221)\n",
    "plt.plot(x[1:],decoForest.pass_train_loss_lt[1:], label=\"train-pass\", color=\"blue\")\n",
    "plt.plot(x[1:],decoForest.pass_vaild_loss_lt[1:], label=\"vaild-pass\", color=\"green\")\n",
    "plt.plot(x[1:],decoForest.pass_test_loss_lt[1:], label=\"test-pass\", color=\"red\")\n",
    "plt.legend()\n",
    "plt.subplot(222)\n",
    "plt.plot(x[1:],decoForest.pass_train_loss_lt_now[1:], label=\"train-pass-now\", color=\"blue\")\n",
    "plt.plot(x[1:],decoForest.pass_vaild_loss_lt_now[1:], label=\"vaild-pass-now\", color=\"green\")\n",
    "plt.plot(x[1:],decoForest.pass_test_loss_lt_now[1:], label=\"test-pass-now\", color=\"red\")\n",
    "plt.legend()\n",
    "plt.subplot(223)\n",
    "plt.plot(x,decoForest.train_loss_lt, label=\"train-loss\", color=\"blue\")\n",
    "plt.plot(x,decoForest.vaild_loss_lt, label=\"vaild-loss\", color=\"green\")\n",
    "plt.plot(x,decoForest.test_loss_lt, label=\"test-loss\", color=\"red\")\n",
    "plt.legend()\n",
    "plt.subplot(224)\n",
    "plt.plot(x,decoForest.pass_data_rate_lt[:], label=\"data-pass-rate\")\n",
    "plt.legend()\n",
    "\n",
    "plt.show()"
   ]
  },
  {
   "cell_type": "code",
   "execution_count": 26,
   "metadata": {},
   "outputs": [
    {
     "data": {
      "image/png": "[encoded data removed]",
      "text/plain": [
       "<matplotlib.figure.Figure at 0x1cb937b4d68>"
      ]
     },
     "metadata": {},
     "output_type": "display_data"
    }
   ],
   "source": [
    "import matplotlib.pyplot as plt\n",
    "\n",
    "plt.figure(figsize=(10,10))\n",
    "x = range(len(decoForest.train_loss_lt))\n",
    "\n",
    "plt.subplot(221)\n",
    "plt.plot(x[1:],decoForest.pass_train_loss_lt[1:], label=\"train-pass\", color=\"blue\")\n",
    "plt.plot(x[1:],decoForest.pass_vaild_loss_lt[1:], label=\"vaild-pass\", color=\"green\")\n",
    "plt.plot(x[1:],decoForest.pass_test_loss_lt[1:], label=\"test-pass\", color=\"red\")\n",
    "plt.legend()\n",
    "plt.subplot(222)\n",
    "plt.plot(x[1:],decoForest.pass_train_loss_lt_now[1:], label=\"train-pass-now\", color=\"blue\")\n",
    "plt.plot(x[1:],decoForest.pass_vaild_loss_lt_now[1:], label=\"vaild-pass-now\", color=\"green\")\n",
    "plt.plot(x[1:],decoForest.pass_test_loss_lt_now[1:], label=\"test-pass-now\", color=\"red\")\n",
    "plt.legend()\n",
    "plt.subplot(223)\n",
    "# plt.plot(x,decoForest.train_loss_lt, label=\"train-loss\", color=\"blue\")\n",
    "plt.plot(x,decoForest.vaild_loss_lt, label=\"vaild-loss\", color=\"green\")\n",
    "plt.plot(x,decoForest.test_loss_lt, label=\"test-loss\", color=\"red\")\n",
    "plt.legend()\n",
    "plt.subplot(224)\n",
    "plt.plot(x,decoForest.pass_data_rate_lt[:], label=\"data-pass-rate\")\n",
    "plt.legend()\n",
    "\n",
    "plt.show()"
   ]
  },
  {
   "cell_type": "code",
   "execution_count": 15,
   "metadata": {},
   "outputs": [
    {
     "data": {
      "text/plain": [
       "(0.86026656839260485,\n",
       " [(0, 0.85946809164056259),\n",
       "  (1, 0.85995946194951167),\n",
       "  (2, 0.85873103617713897),\n",
       "  (3, 0.86014372581536758),\n",
       "  (4, 0.86020514710398621),\n",
       "  (5, 0.86026656839260485)])"
      ]
     },
     "execution_count": 15,
     "metadata": {},
     "output_type": "execute_result"
    }
   ],
   "source": [
    "# n=200, criterion=\"gini\", dropout=None, True-lr, kfold=3\n",
    "np.max(np.array(decoForest.test_loss_lt)),list(enumerate(decoForest.test_loss_lt) )"
   ]
  },
  {
   "cell_type": "code",
   "execution_count": 30,
   "metadata": {},
   "outputs": [
    {
     "data": {
      "text/plain": [
       "(0.85639702720963085,\n",
       " [(0, 0.85639702720963085),\n",
       "  (1, 0.85621276334377494),\n",
       "  (2, 0.85633560592101221),\n",
       "  (3, 0.85615134205515631),\n",
       "  (4, 0.85627418463239358)])"
      ]
     },
     "execution_count": 30,
     "metadata": {},
     "output_type": "execute_result"
    }
   ],
   "source": [
    "# n=500, criterion=\"gini\", dropout=None, True-lr, kfold=20\n",
    "np.max(np.array(decoForest.test_loss_lt)),list(enumerate(decoForest.test_loss_lt) )"
   ]
  },
  {
   "cell_type": "code",
   "execution_count": 27,
   "metadata": {
    "collapsed": true
   },
   "outputs": [
    {
     "data": {
      "text/plain": [
       "(0.85903814262023215,\n",
       " [(0, 0.85780971684785945),\n",
       "  (1, 0.85817824457957126),\n",
       "  (2, 0.85891530004299488),\n",
       "  (3, 0.8584239297340458),\n",
       "  (4, 0.85793255942509672),\n",
       "  (5, 0.85793255942509672),\n",
       "  (6, 0.85799398071371535),\n",
       "  (7, 0.85848535102266443),\n",
       "  (8, 0.85811682329095262),\n",
       "  (9, 0.85830108715680853),\n",
       "  (10, 0.85823966586818989),\n",
       "  (11, 0.85756403169338491),\n",
       "  (12, 0.85768687427062218),\n",
       "  (13, 0.85823966586818989),\n",
       "  (14, 0.85854677231128307),\n",
       "  (15, 0.85903814262023215),\n",
       "  (16, 0.8586081935999017),\n",
       "  (17, 0.85805540200233399)])"
      ]
     },
     "execution_count": 27,
     "metadata": {},
     "output_type": "execute_result"
    }
   ],
   "source": [
    "# n=500, criterion=\"gini\", dropout=None, True-lr\n",
    "np.max(np.array(decoForest.test_loss_lt)),list(enumerate(decoForest.test_loss_lt) )"
   ]
  },
  {
   "cell_type": "code",
   "execution_count": 24,
   "metadata": {
    "collapsed": true
   },
   "outputs": [
    {
     "data": {
      "text/plain": [
       "(0.85909956390885078,\n",
       " [(0, 0.85817824457957126),\n",
       "  (1, 0.85750261040476627),\n",
       "  (2, 0.85854677231128307),\n",
       "  (3, 0.85836250844542716),\n",
       "  (4, 0.85780971684785945),\n",
       "  (5, 0.85811682329095262),\n",
       "  (6, 0.85774829555924081),\n",
       "  (7, 0.8584239297340458),\n",
       "  (8, 0.85762545298200354),\n",
       "  (9, 0.85909956390885078),\n",
       "  (10, 0.85774829555924081),\n",
       "  (11, 0.85903814262023215),\n",
       "  (12, 0.85873103617713897),\n",
       "  (13, 0.85768687427062218),\n",
       "  (14, 0.85848535102266443)])"
      ]
     },
     "execution_count": 24,
     "metadata": {},
     "output_type": "execute_result"
    }
   ],
   "source": [
    "# n=200, criterion=\"gini\", dropout=None, True-lr\n",
    "np.max(np.array(decoForest.test_loss_lt)),list(enumerate(decoForest.test_loss_lt) )"
   ]
  },
  {
   "cell_type": "code",
   "execution_count": 21,
   "metadata": {
    "collapsed": true
   },
   "outputs": [
    {
     "data": {
      "text/plain": [
       "(0.85879245746575761,\n",
       " [(0, 0.85817824457957126),\n",
       "  (1, 0.85750261040476627),\n",
       "  (2, 0.85836250844542716),\n",
       "  (3, 0.85793255942509672),\n",
       "  (4, 0.85756403169338491),\n",
       "  (5, 0.85879245746575761),\n",
       "  (6, 0.85688839751857993),\n",
       "  (7, 0.85787113813647808),\n",
       "  (8, 0.8584239297340458),\n",
       "  (9, 0.85836250844542716),\n",
       "  (10, 0.85799398071371535),\n",
       "  (11, 0.85811682329095262),\n",
       "  (12, 0.85787113813647808),\n",
       "  (13, 0.85756403169338491)])"
      ]
     },
     "execution_count": 21,
     "metadata": {},
     "output_type": "execute_result"
    }
   ],
   "source": [
    "# n=200, criterion=\"gini\", dropout=-1, True-lr\n",
    "np.max(np.array(decoForest.test_loss_lt)),list(enumerate(decoForest.test_loss_lt) )"
   ]
  },
  {
   "cell_type": "markdown",
   "metadata": {},
   "source": [
    "# Todo list\n",
    "- 树结构设计（完成）\n",
    "- 通过gini对数据分割（完成）\n",
    "- 全局测试集\n",
    "- 输出结果集\n",
    "- 打印信息增加pass data的比例\n",
    "- 防止过拟合\n",
    "- 对pass data的进一步处理\n",
    "- 先进行数据均衡化是不是更快一些"
   ]
  },
  {
   "cell_type": "code",
   "execution_count": null,
   "metadata": {
    "collapsed": true
   },
   "outputs": [],
   "source": []
  }
 ],
 "metadata": {
  "kernelspec": {
   "display_name": "Python 3",
   "language": "python",
   "name": "python3"
  },
  "language_info": {
   "codemirror_mode": {
    "name": "ipython",
    "version": 3
   },
   "file_extension": ".py",
   "mimetype": "text/x-python",
   "name": "python",
   "nbconvert_exporter": "python",
   "pygments_lexer": "ipython3",
   "version": "3.6.1"
  }
 },
 "nbformat": 4,
 "nbformat_minor": 2
}
