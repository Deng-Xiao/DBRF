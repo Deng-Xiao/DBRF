{
 "cells": [
  {
   "cell_type": "code",
   "execution_count": 3,
   "metadata": {},
   "outputs": [
    {
     "name": "stdout",
     "output_type": "stream",
     "text": [
      "We have 492 fraud data points and 284315 nonfraudulent data points.\n",
      "X and y sizes, respectively: 284807 284807\n",
      "Train and test sizes, respectively: 185124 185124 | 99683 99683\n",
      "Total number of frauds: 492 0.001727485630620034\n",
      "Number of frauds on y_test: 182 0.0018257877471584924\n",
      "Number of frauds on y_train: 310 0.0016745532724012013\n",
      "\n",
      "layer: 1\n"
     ]
    },
    {
     "name": "stderr",
     "output_type": "stream",
     "text": [
      "C:\\github_workspace\\ecoForest\\EnhancedForest.py:100: RuntimeWarning: invalid value encountered in true_divide\n",
      "  node_id_freq = node_id_cnt_m/node_id_cnt_a\n",
      "C:\\github_workspace\\ecoForest\\EnhancedForest.py:101: RuntimeWarning: divide by zero encountered in true_divide\n",
      "  node_id_lift = node_id_freq/node_id_y_prob\n",
      "C:\\github_workspace\\ecoForest\\EnhancedForest.py:106: RuntimeWarning: invalid value encountered in true_divide\n",
      "  node_id_score = 2*node_id_freq*node_id_lift/(node_id_freq+node_id_lift)\n",
      "C:\\github_workspace\\ecoForest\\EnhancedForest.py:100: RuntimeWarning: invalid value encountered in true_divide\n",
      "  node_id_freq = node_id_cnt_m/node_id_cnt_a\n",
      "C:\\github_workspace\\ecoForest\\EnhancedForest.py:101: RuntimeWarning: divide by zero encountered in true_divide\n",
      "  node_id_lift = node_id_freq/node_id_y_prob\n",
      "C:\\github_workspace\\ecoForest\\EnhancedForest.py:106: RuntimeWarning: invalid value encountered in true_divide\n",
      "  node_id_score = 2*node_id_freq*node_id_lift/(node_id_freq+node_id_lift)\n",
      "C:\\github_workspace\\ecoForest\\EnhancedForest.py:100: RuntimeWarning: invalid value encountered in true_divide\n",
      "  node_id_freq = node_id_cnt_m/node_id_cnt_a\n",
      "C:\\github_workspace\\ecoForest\\EnhancedForest.py:101: RuntimeWarning: divide by zero encountered in true_divide\n",
      "  node_id_lift = node_id_freq/node_id_y_prob\n",
      "C:\\github_workspace\\ecoForest\\EnhancedForest.py:106: RuntimeWarning: invalid value encountered in true_divide\n",
      "  node_id_score = 2*node_id_freq*node_id_lift/(node_id_freq+node_id_lift)\n"
     ]
    },
    {
     "name": "stdout",
     "output_type": "stream",
     "text": [
      "[train - p:0/1:0|n:185124/1:310] \n",
      "<class 'numpy.ndarray'> (185124,)\n",
      "<class 'numpy.ndarray'> (185124,)\n",
      "test loss: y_true 99683 99683, y_pred:99683 99683\n",
      "<class 'numpy.ndarray'> (99683,)\n",
      "1 [test - now p:0/1:0 | all p:0/1:0 | np:99683/1:182] \n",
      "(0,) (99683,) 99683\n",
      "train loss ('roc', 0.99762633189707395)\n",
      "pass train loss (0, 0)\n",
      "pass train loss now (0, 0)\n",
      "vaild loss ('roc', 0.96746496128452775)\n",
      "pass vaild loss (0, 0)\n",
      "pass vaild loss now (0, 0)\n",
      "test loss ('roc', 0.97517621171403535)\n",
      "pass test loss (0, 0)\n",
      "pass test loss now (0, 0)\n",
      "2018-03-23 12:50:43\n",
      "best test loss: 0.975176211714\n",
      "\n",
      "layer: 2\n"
     ]
    },
    {
     "name": "stderr",
     "output_type": "stream",
     "text": [
      "C:\\github_workspace\\ecoForest\\EnhancedForest.py:100: RuntimeWarning: invalid value encountered in true_divide\n",
      "  node_id_freq = node_id_cnt_m/node_id_cnt_a\n",
      "C:\\github_workspace\\ecoForest\\EnhancedForest.py:101: RuntimeWarning: divide by zero encountered in true_divide\n",
      "  node_id_lift = node_id_freq/node_id_y_prob\n",
      "C:\\github_workspace\\ecoForest\\EnhancedForest.py:106: RuntimeWarning: invalid value encountered in true_divide\n",
      "  node_id_score = 2*node_id_freq*node_id_lift/(node_id_freq+node_id_lift)\n",
      "C:\\github_workspace\\ecoForest\\EnhancedForest.py:100: RuntimeWarning: invalid value encountered in true_divide\n",
      "  node_id_freq = node_id_cnt_m/node_id_cnt_a\n",
      "C:\\github_workspace\\ecoForest\\EnhancedForest.py:101: RuntimeWarning: divide by zero encountered in true_divide\n",
      "  node_id_lift = node_id_freq/node_id_y_prob\n",
      "C:\\github_workspace\\ecoForest\\EnhancedForest.py:106: RuntimeWarning: invalid value encountered in true_divide\n",
      "  node_id_score = 2*node_id_freq*node_id_lift/(node_id_freq+node_id_lift)\n",
      "C:\\github_workspace\\ecoForest\\EnhancedForest.py:100: RuntimeWarning: invalid value encountered in true_divide\n",
      "  node_id_freq = node_id_cnt_m/node_id_cnt_a\n",
      "C:\\github_workspace\\ecoForest\\EnhancedForest.py:101: RuntimeWarning: divide by zero encountered in true_divide\n",
      "  node_id_lift = node_id_freq/node_id_y_prob\n",
      "C:\\github_workspace\\ecoForest\\EnhancedForest.py:106: RuntimeWarning: invalid value encountered in true_divide\n",
      "  node_id_score = 2*node_id_freq*node_id_lift/(node_id_freq+node_id_lift)\n"
     ]
    },
    {
     "name": "stdout",
     "output_type": "stream",
     "text": [
      "[train - p:175099/1:4|n:10025/1:306] <class 'numpy.ndarray'> (185124,)\n",
      "<class 'numpy.ndarray'> (175099,)\n",
      "<class 'numpy.ndarray'> (175099,)\n",
      "<class 'numpy.ndarray'> (185124,)\n",
      "<class 'numpy.ndarray'> (175099,)\n",
      "<class 'numpy.ndarray'> (175099,)\n",
      "test loss: y_true 5520 99683, y_pred:5520 99683\n",
      "<class 'numpy.ndarray'> (99683,)\n",
      "<class 'numpy.ndarray'> (94163,)\n",
      "<class 'numpy.ndarray'> (94163,)\n",
      "2 [train - now p:175099/1:4 | all p:175099/1:4 | np:10025/1:306] \n",
      "2 [test - now p:94163/1:18 | all p:94163/1:18 | np:5520/1:164] \n",
      "(94163,) (5520,) 99683\n",
      "train loss ('roc', 0.99693404039702338)\n",
      "pass train loss ('roc', 0.87548473685713468)\n",
      "pass train loss now ('roc', 0.87548473685713468)\n",
      "vaild loss ('roc', 0.96208948700646546)\n",
      "pass vaild loss ('roc', 0.11587352580027983)\n",
      "pass vaild loss now ('roc', 0.11587352580027983)\n",
      "test loss ('roc', 0.97195196337416001)\n",
      "pass test loss ('roc', 0.76126955464679191)\n",
      "pass test loss now ('roc', 0.76126955464679191)\n",
      "2018-03-23 12:51:28\n",
      "best test loss: 0.975176211714"
     ]
    },
    {
     "name": "stderr",
     "output_type": "stream",
     "text": [
      "C:\\github_workspace\\ecoForest\\EnhancedForest.py:100: RuntimeWarning: invalid value encountered in true_divide\n",
      "  node_id_freq = node_id_cnt_m/node_id_cnt_a\n",
      "C:\\github_workspace\\ecoForest\\EnhancedForest.py:101: RuntimeWarning: divide by zero encountered in true_divide\n",
      "  node_id_lift = node_id_freq/node_id_y_prob\n",
      "C:\\github_workspace\\ecoForest\\EnhancedForest.py:106: RuntimeWarning: invalid value encountered in true_divide\n",
      "  node_id_score = 2*node_id_freq*node_id_lift/(node_id_freq+node_id_lift)\n",
      "C:\\github_workspace\\ecoForest\\EnhancedForest.py:100: RuntimeWarning: invalid value encountered in true_divide\n",
      "  node_id_freq = node_id_cnt_m/node_id_cnt_a\n",
      "C:\\github_workspace\\ecoForest\\EnhancedForest.py:101: RuntimeWarning: divide by zero encountered in true_divide\n",
      "  node_id_lift = node_id_freq/node_id_y_prob\n",
      "C:\\github_workspace\\ecoForest\\EnhancedForest.py:106: RuntimeWarning: invalid value encountered in true_divide\n",
      "  node_id_score = 2*node_id_freq*node_id_lift/(node_id_freq+node_id_lift)\n",
      "C:\\github_workspace\\ecoForest\\EnhancedForest.py:100: RuntimeWarning: invalid value encountered in true_divide\n",
      "  node_id_freq = node_id_cnt_m/node_id_cnt_a\n",
      "C:\\github_workspace\\ecoForest\\EnhancedForest.py:101: RuntimeWarning: divide by zero encountered in true_divide\n",
      "  node_id_lift = node_id_freq/node_id_y_prob\n",
      "C:\\github_workspace\\ecoForest\\EnhancedForest.py:106: RuntimeWarning: invalid value encountered in true_divide\n",
      "  node_id_score = 2*node_id_freq*node_id_lift/(node_id_freq+node_id_lift)\n"
     ]
    },
    {
     "name": "stdout",
     "output_type": "stream",
     "text": [
      "\n",
      "\n",
      "layer: 3\n",
      "[train - p:1011/1:0|n:9014/1:306] <class 'numpy.ndarray'> (185124,)\n",
      "<class 'numpy.ndarray'> (176110,)\n",
      "<class 'numpy.ndarray'> (185124,)\n",
      "<class 'numpy.ndarray'> (176110,)\n",
      "test loss: y_true 5028 99683, y_pred:5028 99683\n",
      "<class 'numpy.ndarray'> (99683,)\n",
      "<class 'numpy.ndarray'> (94655,)\n",
      "3 [train - now p:1011/1:0 | all p:176110/1:4 | np:9014/1:306] \n",
      "3 [test - now p:492/1:0 | all p:94655/1:18 | np:5028/1:164] \n",
      "(94655,) (5028,) 99683\n",
      "train loss ('roc', 0.99758864797632629)\n",
      "pass train loss ('roc', 0.87055949257833354)\n",
      "pass train loss now ('mean', 0.0014105551496223976, {0})\n",
      "vaild loss ('roc', 0.9845260378612567)\n",
      "pass vaild loss ('roc', 0.11521682963669608)\n",
      "pass vaild loss now ('mean', 0.0014161243180197255, {0})\n",
      "test loss ('roc', 0.97204639061002318)\n",
      "pass test loss ('roc', 0.75751145018450616)\n",
      "pass test loss now ('mean', 0.0014739184474823145, {0})\n",
      "2018-03-23 12:51:31\n",
      "best test loss: 0.975176211714\n",
      "\n",
      "layer: 4\n"
     ]
    },
    {
     "name": "stderr",
     "output_type": "stream",
     "text": [
      "C:\\github_workspace\\ecoForest\\EnhancedForest.py:100: RuntimeWarning: invalid value encountered in true_divide\n",
      "  node_id_freq = node_id_cnt_m/node_id_cnt_a\n",
      "C:\\github_workspace\\ecoForest\\EnhancedForest.py:101: RuntimeWarning: divide by zero encountered in true_divide\n",
      "  node_id_lift = node_id_freq/node_id_y_prob\n",
      "C:\\github_workspace\\ecoForest\\EnhancedForest.py:106: RuntimeWarning: invalid value encountered in true_divide\n",
      "  node_id_score = 2*node_id_freq*node_id_lift/(node_id_freq+node_id_lift)\n",
      "C:\\github_workspace\\ecoForest\\EnhancedForest.py:100: RuntimeWarning: invalid value encountered in true_divide\n",
      "  node_id_freq = node_id_cnt_m/node_id_cnt_a\n",
      "C:\\github_workspace\\ecoForest\\EnhancedForest.py:101: RuntimeWarning: divide by zero encountered in true_divide\n",
      "  node_id_lift = node_id_freq/node_id_y_prob\n",
      "C:\\github_workspace\\ecoForest\\EnhancedForest.py:106: RuntimeWarning: invalid value encountered in true_divide\n",
      "  node_id_score = 2*node_id_freq*node_id_lift/(node_id_freq+node_id_lift)\n",
      "C:\\github_workspace\\ecoForest\\EnhancedForest.py:100: RuntimeWarning: invalid value encountered in true_divide\n",
      "  node_id_freq = node_id_cnt_m/node_id_cnt_a\n",
      "C:\\github_workspace\\ecoForest\\EnhancedForest.py:101: RuntimeWarning: divide by zero encountered in true_divide\n",
      "  node_id_lift = node_id_freq/node_id_y_prob\n",
      "C:\\github_workspace\\ecoForest\\EnhancedForest.py:106: RuntimeWarning: invalid value encountered in true_divide\n",
      "  node_id_score = 2*node_id_freq*node_id_lift/(node_id_freq+node_id_lift)\n"
     ]
    },
    {
     "name": "stdout",
     "output_type": "stream",
     "text": [
      "[train - p:606/1:0|n:8408/1:306] <class 'numpy.ndarray'> (185124,)\n",
      "<class 'numpy.ndarray'> (176716,)\n",
      "<class 'numpy.ndarray'> (185124,)\n",
      "<class 'numpy.ndarray'> (176716,)\n",
      "test loss: y_true 4748 99683, y_pred:4748 99683\n",
      "<class 'numpy.ndarray'> (99683,)\n",
      "<class 'numpy.ndarray'> (94935,)\n",
      "4 [train - now p:606/1:0 | all p:176716/1:4 | np:8408/1:306] \n",
      "4 [test - now p:280/1:0 | all p:94935/1:18 | np:4748/1:164] \n",
      "(94935,) (4748,) 99683\n",
      "train loss ('roc', 0.99760299544406816)\n",
      "pass train loss ('roc', 0.86765895921046676)\n",
      "pass train loss now ('mean', 0.00159511214177663, {0})\n",
      "vaild loss ('roc', 0.98446081099148686)\n",
      "pass vaild loss ('roc', 0.11483444814160892)\n",
      "pass vaild loss now ('mean', 0.0016195236102113958, {0})\n",
      "test loss ('roc', 0.97195997036199633)\n",
      "pass test loss ('roc', 0.75540091752677485)\n",
      "pass test loss now ('mean', 0.0016658151540713897, {0})\n",
      "2018-03-23 12:51:36\n",
      "best test loss: 0.975176211714\n",
      "\n",
      "layer: 5\n"
     ]
    },
    {
     "name": "stderr",
     "output_type": "stream",
     "text": [
      "C:\\github_workspace\\ecoForest\\EnhancedForest.py:100: RuntimeWarning: invalid value encountered in true_divide\n",
      "  node_id_freq = node_id_cnt_m/node_id_cnt_a\n",
      "C:\\github_workspace\\ecoForest\\EnhancedForest.py:101: RuntimeWarning: divide by zero encountered in true_divide\n",
      "  node_id_lift = node_id_freq/node_id_y_prob\n",
      "C:\\github_workspace\\ecoForest\\EnhancedForest.py:106: RuntimeWarning: invalid value encountered in true_divide\n",
      "  node_id_score = 2*node_id_freq*node_id_lift/(node_id_freq+node_id_lift)\n",
      "C:\\github_workspace\\ecoForest\\EnhancedForest.py:100: RuntimeWarning: invalid value encountered in true_divide\n",
      "  node_id_freq = node_id_cnt_m/node_id_cnt_a\n",
      "C:\\github_workspace\\ecoForest\\EnhancedForest.py:101: RuntimeWarning: divide by zero encountered in true_divide\n",
      "  node_id_lift = node_id_freq/node_id_y_prob\n",
      "C:\\github_workspace\\ecoForest\\EnhancedForest.py:106: RuntimeWarning: invalid value encountered in true_divide\n",
      "  node_id_score = 2*node_id_freq*node_id_lift/(node_id_freq+node_id_lift)\n",
      "C:\\github_workspace\\ecoForest\\EnhancedForest.py:100: RuntimeWarning: invalid value encountered in true_divide\n",
      "  node_id_freq = node_id_cnt_m/node_id_cnt_a\n",
      "C:\\github_workspace\\ecoForest\\EnhancedForest.py:101: RuntimeWarning: divide by zero encountered in true_divide\n",
      "  node_id_lift = node_id_freq/node_id_y_prob\n",
      "C:\\github_workspace\\ecoForest\\EnhancedForest.py:106: RuntimeWarning: invalid value encountered in true_divide\n",
      "  node_id_score = 2*node_id_freq*node_id_lift/(node_id_freq+node_id_lift)\n"
     ]
    },
    {
     "name": "stdout",
     "output_type": "stream",
     "text": [
      "[train - p:406/1:0|n:8002/1:306] <class 'numpy.ndarray'> (185124,)\n",
      "<class 'numpy.ndarray'> (177122,)\n",
      "<class 'numpy.ndarray'> (185124,)\n",
      "<class 'numpy.ndarray'> (177122,)\n",
      "test loss: y_true 4573 99683, y_pred:4573 99683\n",
      "<class 'numpy.ndarray'> (99683,)\n",
      "<class 'numpy.ndarray'> (95110,)\n",
      "5 [train - now p:406/1:0 | all p:177122/1:4 | np:8002/1:306] \n",
      "5 [test - now p:175/1:0 | all p:95110/1:20 | np:4573/1:164] \n",
      "(95110,) (4573,) 99683\n",
      "train loss ('roc', 0.99760161655118296)\n",
      "pass train loss ('roc', 0.86568982260413962)\n",
      "pass train loss now ('mean', 0.0016579384127415248, {0})\n",
      "vaild loss ('roc', 0.9847513035774067)\n",
      "pass vaild loss ('roc', 0.11457404103479037)\n",
      "pass vaild loss now ('mean', 0.0016901491717676291, {0})\n",
      "test loss ('roc', 0.97193512108940094)\n",
      "pass test loss ('roc', 0.75404754226316506)\n",
      "pass test loss now ('mean', 0.0017140419772533715, {0})\n",
      "2018-03-23 12:51:39\n",
      "best test loss: 0.975176211714\n",
      "\n",
      "layer: 6\n"
     ]
    },
    {
     "name": "stderr",
     "output_type": "stream",
     "text": [
      "C:\\github_workspace\\ecoForest\\EnhancedForest.py:100: RuntimeWarning: invalid value encountered in true_divide\n",
      "  node_id_freq = node_id_cnt_m/node_id_cnt_a\n",
      "C:\\github_workspace\\ecoForest\\EnhancedForest.py:101: RuntimeWarning: divide by zero encountered in true_divide\n",
      "  node_id_lift = node_id_freq/node_id_y_prob\n",
      "C:\\github_workspace\\ecoForest\\EnhancedForest.py:106: RuntimeWarning: invalid value encountered in true_divide\n",
      "  node_id_score = 2*node_id_freq*node_id_lift/(node_id_freq+node_id_lift)\n",
      "C:\\github_workspace\\ecoForest\\EnhancedForest.py:100: RuntimeWarning: invalid value encountered in true_divide\n",
      "  node_id_freq = node_id_cnt_m/node_id_cnt_a\n",
      "C:\\github_workspace\\ecoForest\\EnhancedForest.py:101: RuntimeWarning: divide by zero encountered in true_divide\n",
      "  node_id_lift = node_id_freq/node_id_y_prob\n",
      "C:\\github_workspace\\ecoForest\\EnhancedForest.py:106: RuntimeWarning: invalid value encountered in true_divide\n",
      "  node_id_score = 2*node_id_freq*node_id_lift/(node_id_freq+node_id_lift)\n",
      "C:\\github_workspace\\ecoForest\\EnhancedForest.py:100: RuntimeWarning: invalid value encountered in true_divide\n",
      "  node_id_freq = node_id_cnt_m/node_id_cnt_a\n",
      "C:\\github_workspace\\ecoForest\\EnhancedForest.py:101: RuntimeWarning: divide by zero encountered in true_divide\n",
      "  node_id_lift = node_id_freq/node_id_y_prob\n",
      "C:\\github_workspace\\ecoForest\\EnhancedForest.py:106: RuntimeWarning: invalid value encountered in true_divide\n",
      "  node_id_score = 2*node_id_freq*node_id_lift/(node_id_freq+node_id_lift)\n"
     ]
    },
    {
     "name": "stdout",
     "output_type": "stream",
     "text": [
      "[train - p:267/1:0|n:7735/1:306] <class 'numpy.ndarray'> (185124,)\n",
      "<class 'numpy.ndarray'> (177389,)\n",
      "<class 'numpy.ndarray'> (185124,)\n",
      "<class 'numpy.ndarray'> (177389,)\n",
      "test loss: y_true 4443 99683, y_pred:4443 99683\n",
      "<class 'numpy.ndarray'> (99683,)\n",
      "<class 'numpy.ndarray'> (95240,)\n",
      "6 [train - now p:267/1:0 | all p:177389/1:4 | np:7735/1:306] \n",
      "6 [test - now p:130/1:0 | all p:95240/1:18 | np:4443/1:164] \n",
      "(95240,) (4443,) 99683\n",
      "train loss ('roc', 0.99760257653990048)\n",
      "pass train loss ('roc', 0.86440087944301935)\n",
      "pass train loss now ('mean', 0.0017423247019617294, {0})\n",
      "vaild loss ('roc', 0.9846997260017657)\n",
      "pass vaild loss ('roc', 0.11440158412492601)\n",
      "pass vaild loss now ('mean', 0.0017841445671071684, {0})\n",
      "test loss ('roc', 0.97201110464293738)\n",
      "pass test loss ('roc', 0.75304318096424971)\n",
      "pass test loss now ('mean', 0.001787400308725088, {0})\n",
      "2018-03-23 12:51:41\n",
      "best test loss: 0.975176211714\n",
      "\n",
      "layer: 7\n"
     ]
    },
    {
     "name": "stderr",
     "output_type": "stream",
     "text": [
      "C:\\github_workspace\\ecoForest\\EnhancedForest.py:100: RuntimeWarning: invalid value encountered in true_divide\n",
      "  node_id_freq = node_id_cnt_m/node_id_cnt_a\n",
      "C:\\github_workspace\\ecoForest\\EnhancedForest.py:101: RuntimeWarning: divide by zero encountered in true_divide\n",
      "  node_id_lift = node_id_freq/node_id_y_prob\n",
      "C:\\github_workspace\\ecoForest\\EnhancedForest.py:106: RuntimeWarning: invalid value encountered in true_divide\n",
      "  node_id_score = 2*node_id_freq*node_id_lift/(node_id_freq+node_id_lift)\n",
      "C:\\github_workspace\\ecoForest\\EnhancedForest.py:100: RuntimeWarning: invalid value encountered in true_divide\n",
      "  node_id_freq = node_id_cnt_m/node_id_cnt_a\n",
      "C:\\github_workspace\\ecoForest\\EnhancedForest.py:101: RuntimeWarning: divide by zero encountered in true_divide\n",
      "  node_id_lift = node_id_freq/node_id_y_prob\n",
      "C:\\github_workspace\\ecoForest\\EnhancedForest.py:106: RuntimeWarning: invalid value encountered in true_divide\n",
      "  node_id_score = 2*node_id_freq*node_id_lift/(node_id_freq+node_id_lift)\n",
      "C:\\github_workspace\\ecoForest\\EnhancedForest.py:100: RuntimeWarning: invalid value encountered in true_divide\n",
      "  node_id_freq = node_id_cnt_m/node_id_cnt_a\n",
      "C:\\github_workspace\\ecoForest\\EnhancedForest.py:101: RuntimeWarning: divide by zero encountered in true_divide\n",
      "  node_id_lift = node_id_freq/node_id_y_prob\n",
      "C:\\github_workspace\\ecoForest\\EnhancedForest.py:106: RuntimeWarning: invalid value encountered in true_divide\n",
      "  node_id_score = 2*node_id_freq*node_id_lift/(node_id_freq+node_id_lift)\n"
     ]
    },
    {
     "name": "stdout",
     "output_type": "stream",
     "text": [
      "[train - p:276/1:0|n:7459/1:306] <class 'numpy.ndarray'> (185124,)\n",
      "<class 'numpy.ndarray'> (177665,)\n",
      "<class 'numpy.ndarray'> (185124,)\n",
      "<class 'numpy.ndarray'> (177665,)\n",
      "test loss: y_true 4282 99683, y_pred:4282 99683\n",
      "<class 'numpy.ndarray'> (99683,)\n",
      "<class 'numpy.ndarray'> (95401,)\n",
      "7 [train - now p:276/1:0 | all p:177665/1:4 | np:7459/1:306] \n",
      "7 [test - now p:161/1:0 | all p:95401/1:18 | np:4282/1:164] \n",
      "(95401,) (4282,) 99683\n",
      "train loss ('roc', 0.99760739393782838)\n",
      "pass train loss ('roc', 0.86307349390130639)\n",
      "pass train loss now ('mean', 0.0019744126996694873, {0})\n",
      "vaild loss ('roc', 0.98508747417193987)\n",
      "pass vaild loss ('roc', 0.11423230196835546)\n",
      "pass vaild loss now ('mean', 0.0019853886862848803, {0})\n",
      "test loss ('roc', 0.97211028085089657)\n",
      "pass test loss ('roc', 0.75180587735760041)\n",
      "pass test loss now ('mean', 0.0019717234440797772, {0})\n",
      "2018-03-23 12:51:44\n",
      "best test loss: 0.975176211714\n",
      "\n",
      "layer: 8\n"
     ]
    },
    {
     "name": "stderr",
     "output_type": "stream",
     "text": [
      "C:\\github_workspace\\ecoForest\\EnhancedForest.py:100: RuntimeWarning: invalid value encountered in true_divide\n",
      "  node_id_freq = node_id_cnt_m/node_id_cnt_a\n",
      "C:\\github_workspace\\ecoForest\\EnhancedForest.py:101: RuntimeWarning: divide by zero encountered in true_divide\n",
      "  node_id_lift = node_id_freq/node_id_y_prob\n",
      "C:\\github_workspace\\ecoForest\\EnhancedForest.py:106: RuntimeWarning: invalid value encountered in true_divide\n",
      "  node_id_score = 2*node_id_freq*node_id_lift/(node_id_freq+node_id_lift)\n",
      "C:\\github_workspace\\ecoForest\\EnhancedForest.py:100: RuntimeWarning: invalid value encountered in true_divide\n",
      "  node_id_freq = node_id_cnt_m/node_id_cnt_a\n",
      "C:\\github_workspace\\ecoForest\\EnhancedForest.py:101: RuntimeWarning: divide by zero encountered in true_divide\n",
      "  node_id_lift = node_id_freq/node_id_y_prob\n",
      "C:\\github_workspace\\ecoForest\\EnhancedForest.py:106: RuntimeWarning: invalid value encountered in true_divide\n",
      "  node_id_score = 2*node_id_freq*node_id_lift/(node_id_freq+node_id_lift)\n",
      "C:\\github_workspace\\ecoForest\\EnhancedForest.py:100: RuntimeWarning: invalid value encountered in true_divide\n",
      "  node_id_freq = node_id_cnt_m/node_id_cnt_a\n",
      "C:\\github_workspace\\ecoForest\\EnhancedForest.py:101: RuntimeWarning: divide by zero encountered in true_divide\n",
      "  node_id_lift = node_id_freq/node_id_y_prob\n",
      "C:\\github_workspace\\ecoForest\\EnhancedForest.py:106: RuntimeWarning: invalid value encountered in true_divide\n",
      "  node_id_score = 2*node_id_freq*node_id_lift/(node_id_freq+node_id_lift)\n"
     ]
    },
    {
     "name": "stdout",
     "output_type": "stream",
     "text": [
      "[train - p:159/1:0|n:7300/1:306] <class 'numpy.ndarray'> (185124,)\n",
      "<class 'numpy.ndarray'> (177824,)\n",
      "<class 'numpy.ndarray'> (185124,)\n",
      "<class 'numpy.ndarray'> (177824,)\n",
      "test loss: y_true 4190 99683, y_pred:4190 99683\n",
      "<class 'numpy.ndarray'> (99683,)\n",
      "<class 'numpy.ndarray'> (95493,)\n",
      "8 [train - now p:159/1:0 | all p:177824/1:4 | np:7300/1:306] \n",
      "8 [test - now p:92/1:0 | all p:95493/1:18 | np:4190/1:164] \n",
      "(95493,) (4190,) 99683\n",
      "train loss ('roc', 0.99760683539893813)\n",
      "pass train loss ('roc', 0.86230598357889998)\n",
      "pass train loss now ('mean', 0.0021183800958557903, {0})\n",
      "vaild loss ('roc', 0.9847366244771989)\n",
      "pass vaild loss ('roc', 0.11413297154425824)\n",
      "pass vaild loss now ('mean', 0.0021159237821159731, {0})\n",
      "test loss ('roc', 0.97196521631954447)\n",
      "pass test loss ('roc', 0.75109249076256146)\n",
      "pass test loss now ('mean', 0.0022139714793882152, {0})\n",
      "2018-03-23 12:51:50\n",
      "best test loss: 0.975176211714\n",
      "\n",
      "layer: 9\n"
     ]
    },
    {
     "name": "stderr",
     "output_type": "stream",
     "text": [
      "C:\\github_workspace\\ecoForest\\EnhancedForest.py:100: RuntimeWarning: invalid value encountered in true_divide\n",
      "  node_id_freq = node_id_cnt_m/node_id_cnt_a\n",
      "C:\\github_workspace\\ecoForest\\EnhancedForest.py:101: RuntimeWarning: divide by zero encountered in true_divide\n",
      "  node_id_lift = node_id_freq/node_id_y_prob\n",
      "C:\\github_workspace\\ecoForest\\EnhancedForest.py:106: RuntimeWarning: invalid value encountered in true_divide\n",
      "  node_id_score = 2*node_id_freq*node_id_lift/(node_id_freq+node_id_lift)\n",
      "C:\\github_workspace\\ecoForest\\EnhancedForest.py:100: RuntimeWarning: invalid value encountered in true_divide\n",
      "  node_id_freq = node_id_cnt_m/node_id_cnt_a\n",
      "C:\\github_workspace\\ecoForest\\EnhancedForest.py:101: RuntimeWarning: divide by zero encountered in true_divide\n",
      "  node_id_lift = node_id_freq/node_id_y_prob\n",
      "C:\\github_workspace\\ecoForest\\EnhancedForest.py:106: RuntimeWarning: invalid value encountered in true_divide\n",
      "  node_id_score = 2*node_id_freq*node_id_lift/(node_id_freq+node_id_lift)\n",
      "C:\\github_workspace\\ecoForest\\EnhancedForest.py:100: RuntimeWarning: invalid value encountered in true_divide\n",
      "  node_id_freq = node_id_cnt_m/node_id_cnt_a\n",
      "C:\\github_workspace\\ecoForest\\EnhancedForest.py:101: RuntimeWarning: divide by zero encountered in true_divide\n",
      "  node_id_lift = node_id_freq/node_id_y_prob\n",
      "C:\\github_workspace\\ecoForest\\EnhancedForest.py:106: RuntimeWarning: invalid value encountered in true_divide\n",
      "  node_id_score = 2*node_id_freq*node_id_lift/(node_id_freq+node_id_lift)\n"
     ]
    },
    {
     "name": "stdout",
     "output_type": "stream",
     "text": [
      "[train - p:132/1:0|n:7168/1:306] <class 'numpy.ndarray'> (185124,)\n",
      "<class 'numpy.ndarray'> (177956,)\n",
      "<class 'numpy.ndarray'> (185124,)\n",
      "<class 'numpy.ndarray'> (177956,)\n",
      "test loss: y_true 4122 99683, y_pred:4122 99683\n",
      "<class 'numpy.ndarray'> (99683,)\n",
      "<class 'numpy.ndarray'> (95561,)\n",
      "9 [train - now p:132/1:0 | all p:177956/1:4 | np:7168/1:306] \n",
      "9 [test - now p:68/1:0 | all p:95561/1:18 | np:4122/1:164] \n",
      "(95561,) (4122,) 99683\n",
      "train loss ('roc', 0.99762074650817201)\n",
      "pass train loss ('roc', 0.8616733725948571)\n",
      "pass train loss now ('mean', 0.0017176237365768338, {0})\n",
      "vaild loss ('roc', 0.98458037322266811)\n",
      "pass vaild loss ('roc', 0.11406095463945334)\n",
      "pass vaild loss now ('mean', 0.0017507075591456957, {0})\n",
      "test loss ('roc', 0.97202330839681217)\n",
      "pass test loss ('roc', 0.75058001807214203)\n",
      "pass test loss now ('mean', 0.0017805077043697689, {0})\n",
      "2018-03-23 12:51:53\n",
      "best test loss: 0.975176211714\n",
      "\n",
      "layer: 10\n"
     ]
    },
    {
     "name": "stderr",
     "output_type": "stream",
     "text": [
      "C:\\github_workspace\\ecoForest\\EnhancedForest.py:100: RuntimeWarning: invalid value encountered in true_divide\n",
      "  node_id_freq = node_id_cnt_m/node_id_cnt_a\n",
      "C:\\github_workspace\\ecoForest\\EnhancedForest.py:101: RuntimeWarning: divide by zero encountered in true_divide\n",
      "  node_id_lift = node_id_freq/node_id_y_prob\n",
      "C:\\github_workspace\\ecoForest\\EnhancedForest.py:106: RuntimeWarning: invalid value encountered in true_divide\n",
      "  node_id_score = 2*node_id_freq*node_id_lift/(node_id_freq+node_id_lift)\n",
      "C:\\github_workspace\\ecoForest\\EnhancedForest.py:100: RuntimeWarning: invalid value encountered in true_divide\n",
      "  node_id_freq = node_id_cnt_m/node_id_cnt_a\n",
      "C:\\github_workspace\\ecoForest\\EnhancedForest.py:101: RuntimeWarning: divide by zero encountered in true_divide\n",
      "  node_id_lift = node_id_freq/node_id_y_prob\n",
      "C:\\github_workspace\\ecoForest\\EnhancedForest.py:106: RuntimeWarning: invalid value encountered in true_divide\n",
      "  node_id_score = 2*node_id_freq*node_id_lift/(node_id_freq+node_id_lift)\n",
      "C:\\github_workspace\\ecoForest\\EnhancedForest.py:100: RuntimeWarning: invalid value encountered in true_divide\n",
      "  node_id_freq = node_id_cnt_m/node_id_cnt_a\n",
      "C:\\github_workspace\\ecoForest\\EnhancedForest.py:101: RuntimeWarning: divide by zero encountered in true_divide\n",
      "  node_id_lift = node_id_freq/node_id_y_prob\n",
      "C:\\github_workspace\\ecoForest\\EnhancedForest.py:106: RuntimeWarning: invalid value encountered in true_divide\n",
      "  node_id_score = 2*node_id_freq*node_id_lift/(node_id_freq+node_id_lift)\n"
     ]
    },
    {
     "name": "stdout",
     "output_type": "stream",
     "text": [
      "[train - p:136/1:0|n:7032/1:306] <class 'numpy.ndarray'> (185124,)\n",
      "<class 'numpy.ndarray'> (178092,)\n",
      "<class 'numpy.ndarray'> (185124,)\n",
      "<class 'numpy.ndarray'> (178092,)\n",
      "test loss: y_true 4042 99683, y_pred:4042 99683\n",
      "<class 'numpy.ndarray'> (99683,)\n",
      "<class 'numpy.ndarray'> (95641,)\n",
      "10 [train - now p:136/1:0 | all p:178092/1:4 | np:7032/1:306] \n",
      "10 [test - now p:80/1:0 | all p:95641/1:18 | np:4042/1:164] \n",
      "(95641,) (4042,) 99683\n",
      "train loss ('roc', 0.9976189138024385)\n",
      "pass train loss ('roc', 0.8610167445307938)\n",
      "pass train loss now ('mean', 0.002109150673118627, {0})\n",
      "vaild loss ('roc', 0.98493502796359844)\n",
      "pass vaild loss ('roc', 0.11398508040968509)\n",
      "pass vaild loss now ('mean', 0.0021214423604328319, {0})\n",
      "test loss ('roc', 0.97208388540133939)\n",
      "pass test loss ('roc', 0.74996078349351092)\n",
      "pass test loss now ('mean', 0.0022367771983658495, {0})\n",
      "2018-03-23 12:51:59\n",
      "best test loss: 0.975176211714\n",
      "\n",
      "layer: 11\n"
     ]
    },
    {
     "name": "stderr",
     "output_type": "stream",
     "text": [
      "C:\\github_workspace\\ecoForest\\EnhancedForest.py:100: RuntimeWarning: invalid value encountered in true_divide\n",
      "  node_id_freq = node_id_cnt_m/node_id_cnt_a\n",
      "C:\\github_workspace\\ecoForest\\EnhancedForest.py:101: RuntimeWarning: divide by zero encountered in true_divide\n",
      "  node_id_lift = node_id_freq/node_id_y_prob\n",
      "C:\\github_workspace\\ecoForest\\EnhancedForest.py:106: RuntimeWarning: invalid value encountered in true_divide\n",
      "  node_id_score = 2*node_id_freq*node_id_lift/(node_id_freq+node_id_lift)\n",
      "C:\\github_workspace\\ecoForest\\EnhancedForest.py:100: RuntimeWarning: invalid value encountered in true_divide\n",
      "  node_id_freq = node_id_cnt_m/node_id_cnt_a\n",
      "C:\\github_workspace\\ecoForest\\EnhancedForest.py:101: RuntimeWarning: divide by zero encountered in true_divide\n",
      "  node_id_lift = node_id_freq/node_id_y_prob\n",
      "C:\\github_workspace\\ecoForest\\EnhancedForest.py:106: RuntimeWarning: invalid value encountered in true_divide\n",
      "  node_id_score = 2*node_id_freq*node_id_lift/(node_id_freq+node_id_lift)\n",
      "C:\\github_workspace\\ecoForest\\EnhancedForest.py:100: RuntimeWarning: invalid value encountered in true_divide\n",
      "  node_id_freq = node_id_cnt_m/node_id_cnt_a\n",
      "C:\\github_workspace\\ecoForest\\EnhancedForest.py:101: RuntimeWarning: divide by zero encountered in true_divide\n",
      "  node_id_lift = node_id_freq/node_id_y_prob\n",
      "C:\\github_workspace\\ecoForest\\EnhancedForest.py:106: RuntimeWarning: invalid value encountered in true_divide\n",
      "  node_id_score = 2*node_id_freq*node_id_lift/(node_id_freq+node_id_lift)\n"
     ]
    },
    {
     "name": "stdout",
     "output_type": "stream",
     "text": [
      "[train - p:126/1:0|n:6906/1:306] <class 'numpy.ndarray'> (185124,)\n",
      "<class 'numpy.ndarray'> (178218,)\n",
      "<class 'numpy.ndarray'> (185124,)\n",
      "<class 'numpy.ndarray'> (178218,)\n",
      "test loss: y_true 3977 99683, y_pred:3977 99683\n",
      "<class 'numpy.ndarray'> (99683,)\n",
      "<class 'numpy.ndarray'> (95706,)\n",
      "11 [train - now p:126/1:0 | all p:178218/1:4 | np:6906/1:306] \n",
      "11 [test - now p:65/1:0 | all p:95706/1:18 | np:3977/1:164] \n",
      "(95706,) (3977,) 99683\n",
      "train loss ('roc', 0.99762531954533529)\n",
      "pass train loss ('roc', 0.86040799263806433)\n",
      "pass train loss now ('mean', 0.0022211372863315025, {0})\n",
      "vaild loss ('roc', 0.98501275214103656)\n",
      "pass vaild loss ('roc', 0.11391010246108611)\n",
      "pass vaild loss now ('mean', 0.0021978337467691788, {0})\n",
      "test loss ('roc', 0.97213546144712659)\n",
      "pass test loss ('roc', 0.74945714776728067)\n",
      "pass test loss now ('mean', 0.0020378754913338904, {0})\n",
      "2018-03-23 12:52:01\n",
      "best test loss: 0.975176211714\n",
      "\n",
      "layer: 12\n"
     ]
    },
    {
     "name": "stderr",
     "output_type": "stream",
     "text": [
      "C:\\github_workspace\\ecoForest\\EnhancedForest.py:100: RuntimeWarning: invalid value encountered in true_divide\n",
      "  node_id_freq = node_id_cnt_m/node_id_cnt_a\n",
      "C:\\github_workspace\\ecoForest\\EnhancedForest.py:101: RuntimeWarning: divide by zero encountered in true_divide\n",
      "  node_id_lift = node_id_freq/node_id_y_prob\n",
      "C:\\github_workspace\\ecoForest\\EnhancedForest.py:106: RuntimeWarning: invalid value encountered in true_divide\n",
      "  node_id_score = 2*node_id_freq*node_id_lift/(node_id_freq+node_id_lift)\n",
      "C:\\github_workspace\\ecoForest\\EnhancedForest.py:100: RuntimeWarning: invalid value encountered in true_divide\n",
      "  node_id_freq = node_id_cnt_m/node_id_cnt_a\n",
      "C:\\github_workspace\\ecoForest\\EnhancedForest.py:101: RuntimeWarning: divide by zero encountered in true_divide\n",
      "  node_id_lift = node_id_freq/node_id_y_prob\n",
      "C:\\github_workspace\\ecoForest\\EnhancedForest.py:106: RuntimeWarning: invalid value encountered in true_divide\n",
      "  node_id_score = 2*node_id_freq*node_id_lift/(node_id_freq+node_id_lift)\n",
      "C:\\github_workspace\\ecoForest\\EnhancedForest.py:100: RuntimeWarning: invalid value encountered in true_divide\n",
      "  node_id_freq = node_id_cnt_m/node_id_cnt_a\n",
      "C:\\github_workspace\\ecoForest\\EnhancedForest.py:101: RuntimeWarning: divide by zero encountered in true_divide\n",
      "  node_id_lift = node_id_freq/node_id_y_prob\n",
      "C:\\github_workspace\\ecoForest\\EnhancedForest.py:106: RuntimeWarning: invalid value encountered in true_divide\n",
      "  node_id_score = 2*node_id_freq*node_id_lift/(node_id_freq+node_id_lift)\n"
     ]
    },
    {
     "name": "stdout",
     "output_type": "stream",
     "text": [
      "[train - p:102/1:0|n:6804/1:306] <class 'numpy.ndarray'> (185124,)\n",
      "<class 'numpy.ndarray'> (178320,)\n",
      "<class 'numpy.ndarray'> (185124,)\n",
      "<class 'numpy.ndarray'> (178320,)\n",
      "test loss: y_true 3910 99683, y_pred:3910 99683\n",
      "<class 'numpy.ndarray'> (99683,)\n",
      "<class 'numpy.ndarray'> (95773,)\n",
      "12 [train - now p:102/1:0 | all p:178320/1:4 | np:6804/1:306] \n",
      "12 [test - now p:67/1:0 | all p:95773/1:18 | np:3910/1:164] \n",
      "(95773,) (3910,) 99683\n",
      "train loss ('roc', 0.99759814313745954)\n",
      "pass train loss ('roc', 0.85991722559949757)\n",
      "pass train loss now ('mean', 0.0024204019953559912, {0})\n",
      "vaild loss ('roc', 0.98505825560624671)\n",
      "pass vaild loss ('roc', 0.11385055182933668)\n",
      "pass vaild loss now ('mean', 0.0023648985216485965, {0})\n",
      "test loss ('roc', 0.97207444267775311)\n",
      "pass test loss ('roc', 0.74893681211889129)\n",
      "pass test loss now ('mean', 0.002480121214879203, {0})\n",
      "2018-03-23 12:52:07\n",
      "best test loss: 0.975176211714\n",
      "\n",
      "layer: 13\n"
     ]
    },
    {
     "name": "stderr",
     "output_type": "stream",
     "text": [
      "C:\\github_workspace\\ecoForest\\EnhancedForest.py:100: RuntimeWarning: invalid value encountered in true_divide\n",
      "  node_id_freq = node_id_cnt_m/node_id_cnt_a\n",
      "C:\\github_workspace\\ecoForest\\EnhancedForest.py:101: RuntimeWarning: divide by zero encountered in true_divide\n",
      "  node_id_lift = node_id_freq/node_id_y_prob\n",
      "C:\\github_workspace\\ecoForest\\EnhancedForest.py:106: RuntimeWarning: invalid value encountered in true_divide\n",
      "  node_id_score = 2*node_id_freq*node_id_lift/(node_id_freq+node_id_lift)\n",
      "C:\\github_workspace\\ecoForest\\EnhancedForest.py:100: RuntimeWarning: invalid value encountered in true_divide\n",
      "  node_id_freq = node_id_cnt_m/node_id_cnt_a\n",
      "C:\\github_workspace\\ecoForest\\EnhancedForest.py:101: RuntimeWarning: divide by zero encountered in true_divide\n",
      "  node_id_lift = node_id_freq/node_id_y_prob\n",
      "C:\\github_workspace\\ecoForest\\EnhancedForest.py:106: RuntimeWarning: invalid value encountered in true_divide\n",
      "  node_id_score = 2*node_id_freq*node_id_lift/(node_id_freq+node_id_lift)\n",
      "C:\\github_workspace\\ecoForest\\EnhancedForest.py:100: RuntimeWarning: invalid value encountered in true_divide\n",
      "  node_id_freq = node_id_cnt_m/node_id_cnt_a\n",
      "C:\\github_workspace\\ecoForest\\EnhancedForest.py:101: RuntimeWarning: divide by zero encountered in true_divide\n",
      "  node_id_lift = node_id_freq/node_id_y_prob\n",
      "C:\\github_workspace\\ecoForest\\EnhancedForest.py:106: RuntimeWarning: invalid value encountered in true_divide\n",
      "  node_id_score = 2*node_id_freq*node_id_lift/(node_id_freq+node_id_lift)\n"
     ]
    },
    {
     "name": "stdout",
     "output_type": "stream",
     "text": [
      "[train - p:118/1:0|n:6686/1:306] <class 'numpy.ndarray'> (185124,)\n",
      "<class 'numpy.ndarray'> (178438,)\n",
      "<class 'numpy.ndarray'> (185124,)\n",
      "<class 'numpy.ndarray'> (178438,)\n",
      "test loss: y_true 3854 99683, y_pred:3854 99683\n",
      "<class 'numpy.ndarray'> (99683,)\n",
      "<class 'numpy.ndarray'> (95829,)\n",
      "13 [train - now p:118/1:0 | all p:178438/1:4 | np:6686/1:306] \n",
      "13 [test - now p:56/1:0 | all p:95829/1:18 | np:3854/1:164] \n",
      "(95829,) (3854,) 99683\n",
      "train loss ('roc', 0.9976301369432633)\n",
      "pass train loss ('roc', 0.85934995572592665)\n",
      "pass train loss now ('mean', 0.0029425781453841027, {0})\n",
      "vaild loss ('roc', 0.98502778032805072)\n",
      "pass vaild loss ('roc', 0.11378226683255431)\n",
      "pass vaild loss now ('mean', 0.0027828446817912199, {0})\n",
      "test loss ('roc', 0.97190999571377656)\n",
      "pass test loss ('roc', 0.74850718834186281)\n",
      "pass test loss now ('mean', 0.0030764798875025515, {0})\n",
      "2018-03-23 12:52:10\n",
      "best test loss: 0.975176211714\n",
      "\n",
      "layer: 14\n"
     ]
    },
    {
     "name": "stderr",
     "output_type": "stream",
     "text": [
      "C:\\github_workspace\\ecoForest\\EnhancedForest.py:100: RuntimeWarning: invalid value encountered in true_divide\n",
      "  node_id_freq = node_id_cnt_m/node_id_cnt_a\n",
      "C:\\github_workspace\\ecoForest\\EnhancedForest.py:101: RuntimeWarning: divide by zero encountered in true_divide\n",
      "  node_id_lift = node_id_freq/node_id_y_prob\n",
      "C:\\github_workspace\\ecoForest\\EnhancedForest.py:106: RuntimeWarning: invalid value encountered in true_divide\n",
      "  node_id_score = 2*node_id_freq*node_id_lift/(node_id_freq+node_id_lift)\n",
      "C:\\github_workspace\\ecoForest\\EnhancedForest.py:100: RuntimeWarning: invalid value encountered in true_divide\n",
      "  node_id_freq = node_id_cnt_m/node_id_cnt_a\n",
      "C:\\github_workspace\\ecoForest\\EnhancedForest.py:101: RuntimeWarning: divide by zero encountered in true_divide\n",
      "  node_id_lift = node_id_freq/node_id_y_prob\n",
      "C:\\github_workspace\\ecoForest\\EnhancedForest.py:106: RuntimeWarning: invalid value encountered in true_divide\n",
      "  node_id_score = 2*node_id_freq*node_id_lift/(node_id_freq+node_id_lift)\n",
      "C:\\github_workspace\\ecoForest\\EnhancedForest.py:100: RuntimeWarning: invalid value encountered in true_divide\n",
      "  node_id_freq = node_id_cnt_m/node_id_cnt_a\n",
      "C:\\github_workspace\\ecoForest\\EnhancedForest.py:101: RuntimeWarning: divide by zero encountered in true_divide\n",
      "  node_id_lift = node_id_freq/node_id_y_prob\n",
      "C:\\github_workspace\\ecoForest\\EnhancedForest.py:106: RuntimeWarning: invalid value encountered in true_divide\n",
      "  node_id_score = 2*node_id_freq*node_id_lift/(node_id_freq+node_id_lift)\n"
     ]
    },
    {
     "name": "stdout",
     "output_type": "stream",
     "text": [
      "[train - p:67/1:0|n:6619/1:306] <class 'numpy.ndarray'> (185124,)\n",
      "<class 'numpy.ndarray'> (178505,)\n",
      "<class 'numpy.ndarray'> (185124,)\n",
      "<class 'numpy.ndarray'> (178505,)\n",
      "test loss: y_true 3800 99683, y_pred:3800 99683\n",
      "<class 'numpy.ndarray'> (99683,)\n",
      "<class 'numpy.ndarray'> (95883,)\n",
      "14 [train - now p:67/1:0 | all p:178505/1:4 | np:6619/1:306] \n",
      "14 [test - now p:54/1:0 | all p:95883/1:18 | np:3800/1:164] \n",
      "(95883,) (3800,) 99683\n",
      "train loss ('roc', 0.99761807599410324)\n",
      "pass train loss ('roc', 0.85902740040672043)\n",
      "pass train loss now ('mean', 0.002612754096737844, {0})\n",
      "vaild loss ('roc', 0.98531675438636301)\n",
      "pass vaild loss ('roc', 0.11373955888202308)\n",
      "pass vaild loss now ('mean', 0.0026977471223287291, {0})\n",
      "test loss ('roc', 0.972081621356503)\n",
      "pass test loss ('roc', 0.74808903724566367)\n",
      "pass test loss now ('mean', 0.0026824868718570041, {0})\n",
      "2018-03-23 12:52:12\n",
      "best test loss: 0.975176211714\n",
      "\n",
      "layer: 15\n"
     ]
    },
    {
     "name": "stderr",
     "output_type": "stream",
     "text": [
      "C:\\github_workspace\\ecoForest\\EnhancedForest.py:100: RuntimeWarning: invalid value encountered in true_divide\n",
      "  node_id_freq = node_id_cnt_m/node_id_cnt_a\n",
      "C:\\github_workspace\\ecoForest\\EnhancedForest.py:101: RuntimeWarning: divide by zero encountered in true_divide\n",
      "  node_id_lift = node_id_freq/node_id_y_prob\n",
      "C:\\github_workspace\\ecoForest\\EnhancedForest.py:106: RuntimeWarning: invalid value encountered in true_divide\n",
      "  node_id_score = 2*node_id_freq*node_id_lift/(node_id_freq+node_id_lift)\n",
      "C:\\github_workspace\\ecoForest\\EnhancedForest.py:100: RuntimeWarning: invalid value encountered in true_divide\n",
      "  node_id_freq = node_id_cnt_m/node_id_cnt_a\n",
      "C:\\github_workspace\\ecoForest\\EnhancedForest.py:101: RuntimeWarning: divide by zero encountered in true_divide\n",
      "  node_id_lift = node_id_freq/node_id_y_prob\n",
      "C:\\github_workspace\\ecoForest\\EnhancedForest.py:106: RuntimeWarning: invalid value encountered in true_divide\n",
      "  node_id_score = 2*node_id_freq*node_id_lift/(node_id_freq+node_id_lift)\n",
      "C:\\github_workspace\\ecoForest\\EnhancedForest.py:100: RuntimeWarning: invalid value encountered in true_divide\n",
      "  node_id_freq = node_id_cnt_m/node_id_cnt_a\n",
      "C:\\github_workspace\\ecoForest\\EnhancedForest.py:101: RuntimeWarning: divide by zero encountered in true_divide\n",
      "  node_id_lift = node_id_freq/node_id_y_prob\n",
      "C:\\github_workspace\\ecoForest\\EnhancedForest.py:106: RuntimeWarning: invalid value encountered in true_divide\n",
      "  node_id_score = 2*node_id_freq*node_id_lift/(node_id_freq+node_id_lift)\n"
     ]
    },
    {
     "name": "stdout",
     "output_type": "stream",
     "text": [
      "[train - p:104/1:0|n:6515/1:306] <class 'numpy.ndarray'> (185124,)\n",
      "<class 'numpy.ndarray'> (178609,)\n",
      "<class 'numpy.ndarray'> (185124,)\n",
      "<class 'numpy.ndarray'> (178609,)\n",
      "test loss: y_true 3746 99683, y_pred:3746 99683\n",
      "<class 'numpy.ndarray'> (99683,)\n",
      "<class 'numpy.ndarray'> (95937,)\n",
      "15 [train - now p:104/1:0 | all p:178609/1:4 | np:6515/1:306] \n",
      "15 [test - now p:54/1:0 | all p:95937/1:18 | np:3746/1:164] \n",
      "(95937,) (3746,) 99683\n",
      "train loss ('roc', 0.99761439312829603)\n",
      "pass train loss ('roc', 0.85852719688698531)\n",
      "pass train loss now ('mean', 0.0024944631579338775, {0})\n",
      "vaild loss ('roc', 0.98522664635446888)\n",
      "pass vaild loss ('roc', 0.11367892836146803)\n",
      "pass vaild loss now ('mean', 0.0024431995406674306, {0})\n",
      "test loss ('roc', 0.97206720877839747)\n",
      "pass test loss ('roc', 0.74767135696669995)\n",
      "pass test loss now ('mean', 0.0024061231809510393, {0})\n",
      "2018-03-23 12:52:15\n",
      "best test loss: 0.975176211714\n",
      "\n",
      "layer: 16\n"
     ]
    },
    {
     "name": "stderr",
     "output_type": "stream",
     "text": [
      "C:\\github_workspace\\ecoForest\\EnhancedForest.py:100: RuntimeWarning: invalid value encountered in true_divide\n",
      "  node_id_freq = node_id_cnt_m/node_id_cnt_a\n",
      "C:\\github_workspace\\ecoForest\\EnhancedForest.py:101: RuntimeWarning: divide by zero encountered in true_divide\n",
      "  node_id_lift = node_id_freq/node_id_y_prob\n",
      "C:\\github_workspace\\ecoForest\\EnhancedForest.py:106: RuntimeWarning: invalid value encountered in true_divide\n",
      "  node_id_score = 2*node_id_freq*node_id_lift/(node_id_freq+node_id_lift)\n",
      "C:\\github_workspace\\ecoForest\\EnhancedForest.py:100: RuntimeWarning: invalid value encountered in true_divide\n",
      "  node_id_freq = node_id_cnt_m/node_id_cnt_a\n",
      "C:\\github_workspace\\ecoForest\\EnhancedForest.py:101: RuntimeWarning: divide by zero encountered in true_divide\n",
      "  node_id_lift = node_id_freq/node_id_y_prob\n",
      "C:\\github_workspace\\ecoForest\\EnhancedForest.py:106: RuntimeWarning: invalid value encountered in true_divide\n",
      "  node_id_score = 2*node_id_freq*node_id_lift/(node_id_freq+node_id_lift)\n",
      "C:\\github_workspace\\ecoForest\\EnhancedForest.py:100: RuntimeWarning: invalid value encountered in true_divide\n",
      "  node_id_freq = node_id_cnt_m/node_id_cnt_a\n",
      "C:\\github_workspace\\ecoForest\\EnhancedForest.py:101: RuntimeWarning: divide by zero encountered in true_divide\n",
      "  node_id_lift = node_id_freq/node_id_y_prob\n",
      "C:\\github_workspace\\ecoForest\\EnhancedForest.py:106: RuntimeWarning: invalid value encountered in true_divide\n",
      "  node_id_score = 2*node_id_freq*node_id_lift/(node_id_freq+node_id_lift)\n"
     ]
    },
    {
     "name": "stdout",
     "output_type": "stream",
     "text": [
      "[train - p:92/1:0|n:6423/1:306] <class 'numpy.ndarray'> (185124,)\n",
      "<class 'numpy.ndarray'> (178701,)\n",
      "<class 'numpy.ndarray'> (185124,)\n",
      "<class 'numpy.ndarray'> (178701,)\n",
      "test loss: y_true 3704 99683, y_pred:3704 99683\n",
      "<class 'numpy.ndarray'> (99683,)\n",
      "<class 'numpy.ndarray'> (95979,)\n",
      "16 [train - now p:92/1:0 | all p:178701/1:4 | np:6423/1:306] \n",
      "16 [test - now p:42/1:0 | all p:95979/1:18 | np:3704/1:164] \n",
      "(95979,) (3704,) 99683\n",
      "train loss ('roc', 0.99760011547791561)\n",
      "pass train loss ('roc', 0.85808519449123377)\n",
      "pass train loss now ('mean', 0.0028461663959695473, {0})\n",
      "vaild loss ('roc', 0.98525465184350991)\n",
      "pass vaild loss ('roc', 0.11362040213321993)\n",
      "pass vaild loss now ('mean', 0.0028862768650153824, {0})\n",
      "test loss ('roc', 0.97197670220554411)\n",
      "pass test loss ('roc', 0.7473452756849136)\n",
      "pass test loss now ('mean', 0.002843162635305054, {0})\n",
      "2018-03-23 12:52:19\n",
      "best test loss: 0.975176211714\n",
      "\n",
      "layer: 17\n"
     ]
    },
    {
     "name": "stderr",
     "output_type": "stream",
     "text": [
      "C:\\github_workspace\\ecoForest\\EnhancedForest.py:100: RuntimeWarning: invalid value encountered in true_divide\n",
      "  node_id_freq = node_id_cnt_m/node_id_cnt_a\n",
      "C:\\github_workspace\\ecoForest\\EnhancedForest.py:101: RuntimeWarning: divide by zero encountered in true_divide\n",
      "  node_id_lift = node_id_freq/node_id_y_prob\n",
      "C:\\github_workspace\\ecoForest\\EnhancedForest.py:106: RuntimeWarning: invalid value encountered in true_divide\n",
      "  node_id_score = 2*node_id_freq*node_id_lift/(node_id_freq+node_id_lift)\n",
      "C:\\github_workspace\\ecoForest\\EnhancedForest.py:100: RuntimeWarning: invalid value encountered in true_divide\n",
      "  node_id_freq = node_id_cnt_m/node_id_cnt_a\n",
      "C:\\github_workspace\\ecoForest\\EnhancedForest.py:101: RuntimeWarning: divide by zero encountered in true_divide\n",
      "  node_id_lift = node_id_freq/node_id_y_prob\n",
      "C:\\github_workspace\\ecoForest\\EnhancedForest.py:106: RuntimeWarning: invalid value encountered in true_divide\n",
      "  node_id_score = 2*node_id_freq*node_id_lift/(node_id_freq+node_id_lift)\n",
      "C:\\github_workspace\\ecoForest\\EnhancedForest.py:100: RuntimeWarning: invalid value encountered in true_divide\n",
      "  node_id_freq = node_id_cnt_m/node_id_cnt_a\n",
      "C:\\github_workspace\\ecoForest\\EnhancedForest.py:101: RuntimeWarning: divide by zero encountered in true_divide\n",
      "  node_id_lift = node_id_freq/node_id_y_prob\n",
      "C:\\github_workspace\\ecoForest\\EnhancedForest.py:106: RuntimeWarning: invalid value encountered in true_divide\n",
      "  node_id_score = 2*node_id_freq*node_id_lift/(node_id_freq+node_id_lift)\n"
     ]
    },
    {
     "name": "stdout",
     "output_type": "stream",
     "text": [
      "[train - p:71/1:0|n:6352/1:306] <class 'numpy.ndarray'> (185124,)\n",
      "<class 'numpy.ndarray'> (178772,)\n",
      "<class 'numpy.ndarray'> (185124,)\n",
      "<class 'numpy.ndarray'> (178772,)\n",
      "test loss: y_true 3682 99683, y_pred:3682 99683\n",
      "<class 'numpy.ndarray'> (99683,)\n",
      "<class 'numpy.ndarray'> (96001,)\n",
      "17 [train - now p:71/1:0 | all p:178772/1:4 | np:6352/1:306] \n",
      "17 [test - now p:22/1:0 | all p:96001/1:18 | np:3682/1:164] \n",
      "(96001,) (3682,) 99683\n",
      "train loss ('roc', 0.99761074517116943)\n",
      "pass train loss ('roc', 0.85774439497001698)\n",
      "pass train loss now ('mean', 0.0024673663546132328, {0})\n",
      "vaild loss ('roc', 0.98501833752993839)\n",
      "pass vaild loss ('roc', 0.11357527633580954)\n",
      "pass vaild loss now ('mean', 0.0024663222276753386, {0})\n",
      "test loss ('roc', 0.97195604969898697)\n",
      "pass test loss ('roc', 0.74717397872539926)\n",
      "pass test loss now ('mean', 0.0028703724328011521, {0})\n",
      "2018-03-23 12:52:23\n",
      "best test loss: 0.975176211714\n",
      "\n",
      "layer: 18\n"
     ]
    },
    {
     "name": "stderr",
     "output_type": "stream",
     "text": [
      "C:\\github_workspace\\ecoForest\\EnhancedForest.py:100: RuntimeWarning: invalid value encountered in true_divide\n",
      "  node_id_freq = node_id_cnt_m/node_id_cnt_a\n",
      "C:\\github_workspace\\ecoForest\\EnhancedForest.py:101: RuntimeWarning: divide by zero encountered in true_divide\n",
      "  node_id_lift = node_id_freq/node_id_y_prob\n",
      "C:\\github_workspace\\ecoForest\\EnhancedForest.py:106: RuntimeWarning: invalid value encountered in true_divide\n",
      "  node_id_score = 2*node_id_freq*node_id_lift/(node_id_freq+node_id_lift)\n",
      "C:\\github_workspace\\ecoForest\\EnhancedForest.py:100: RuntimeWarning: invalid value encountered in true_divide\n",
      "  node_id_freq = node_id_cnt_m/node_id_cnt_a\n",
      "C:\\github_workspace\\ecoForest\\EnhancedForest.py:101: RuntimeWarning: divide by zero encountered in true_divide\n",
      "  node_id_lift = node_id_freq/node_id_y_prob\n",
      "C:\\github_workspace\\ecoForest\\EnhancedForest.py:106: RuntimeWarning: invalid value encountered in true_divide\n",
      "  node_id_score = 2*node_id_freq*node_id_lift/(node_id_freq+node_id_lift)\n",
      "C:\\github_workspace\\ecoForest\\EnhancedForest.py:100: RuntimeWarning: invalid value encountered in true_divide\n",
      "  node_id_freq = node_id_cnt_m/node_id_cnt_a\n",
      "C:\\github_workspace\\ecoForest\\EnhancedForest.py:101: RuntimeWarning: divide by zero encountered in true_divide\n",
      "  node_id_lift = node_id_freq/node_id_y_prob\n",
      "C:\\github_workspace\\ecoForest\\EnhancedForest.py:106: RuntimeWarning: invalid value encountered in true_divide\n",
      "  node_id_score = 2*node_id_freq*node_id_lift/(node_id_freq+node_id_lift)\n"
     ]
    },
    {
     "name": "stdout",
     "output_type": "stream",
     "text": [
      "[train - p:79/1:0|n:6273/1:306] <class 'numpy.ndarray'> (185124,)\n",
      "<class 'numpy.ndarray'> (178851,)\n",
      "<class 'numpy.ndarray'> (185124,)\n",
      "<class 'numpy.ndarray'> (178851,)\n",
      "test loss: y_true 3627 99683, y_pred:3627 99683\n",
      "<class 'numpy.ndarray'> (99683,)\n",
      "<class 'numpy.ndarray'> (96056,)\n",
      "18 [train - now p:79/1:0 | all p:178851/1:4 | np:6273/1:306] \n",
      "18 [test - now p:55/1:0 | all p:96056/1:18 | np:3627/1:164] \n",
      "(96056,) (3627,) 99683\n",
      "train loss ('roc', 0.99761629565139076)\n",
      "pass train loss ('roc', 0.85736551353950585)\n",
      "pass train loss now ('mean', 0.0032961122040429274, {0})\n",
      "vaild loss ('roc', 0.98526440881974797)\n",
      "pass vaild loss ('roc', 0.11352510805325225)\n",
      "pass vaild loss now ('mean', 0.0033886895125180387, {0})\n",
      "test loss ('roc', 0.97189757107747865)\n",
      "pass test loss ('roc', 0.74674955052513936)\n",
      "pass test loss now ('mean', 0.003090553481822053, {0})\n",
      "2018-03-23 12:52:28\n",
      "best test loss: 0.975176211714\n",
      "\n",
      "layer: 19\n"
     ]
    },
    {
     "name": "stderr",
     "output_type": "stream",
     "text": [
      "C:\\github_workspace\\ecoForest\\EnhancedForest.py:100: RuntimeWarning: invalid value encountered in true_divide\n",
      "  node_id_freq = node_id_cnt_m/node_id_cnt_a\n",
      "C:\\github_workspace\\ecoForest\\EnhancedForest.py:101: RuntimeWarning: divide by zero encountered in true_divide\n",
      "  node_id_lift = node_id_freq/node_id_y_prob\n",
      "C:\\github_workspace\\ecoForest\\EnhancedForest.py:106: RuntimeWarning: invalid value encountered in true_divide\n",
      "  node_id_score = 2*node_id_freq*node_id_lift/(node_id_freq+node_id_lift)\n",
      "C:\\github_workspace\\ecoForest\\EnhancedForest.py:100: RuntimeWarning: invalid value encountered in true_divide\n",
      "  node_id_freq = node_id_cnt_m/node_id_cnt_a\n",
      "C:\\github_workspace\\ecoForest\\EnhancedForest.py:101: RuntimeWarning: divide by zero encountered in true_divide\n",
      "  node_id_lift = node_id_freq/node_id_y_prob\n",
      "C:\\github_workspace\\ecoForest\\EnhancedForest.py:106: RuntimeWarning: invalid value encountered in true_divide\n",
      "  node_id_score = 2*node_id_freq*node_id_lift/(node_id_freq+node_id_lift)\n",
      "C:\\github_workspace\\ecoForest\\EnhancedForest.py:100: RuntimeWarning: invalid value encountered in true_divide\n",
      "  node_id_freq = node_id_cnt_m/node_id_cnt_a\n",
      "C:\\github_workspace\\ecoForest\\EnhancedForest.py:101: RuntimeWarning: divide by zero encountered in true_divide\n",
      "  node_id_lift = node_id_freq/node_id_y_prob\n",
      "C:\\github_workspace\\ecoForest\\EnhancedForest.py:106: RuntimeWarning: invalid value encountered in true_divide\n",
      "  node_id_score = 2*node_id_freq*node_id_lift/(node_id_freq+node_id_lift)\n"
     ]
    },
    {
     "name": "stdout",
     "output_type": "stream",
     "text": [
      "[train - p:90/1:0|n:6183/1:306] <class 'numpy.ndarray'> (185124,)\n",
      "<class 'numpy.ndarray'> (178941,)\n",
      "<class 'numpy.ndarray'> (185124,)\n",
      "<class 'numpy.ndarray'> (178941,)\n",
      "test loss: y_true 3577 99683, y_pred:3577 99683\n",
      "<class 'numpy.ndarray'> (99683,)\n",
      "<class 'numpy.ndarray'> (96106,)\n",
      "19 [train - now p:90/1:0 | all p:178941/1:4 | np:6183/1:306] \n",
      "19 [test - now p:50/1:0 | all p:96106/1:18 | np:3577/1:164] \n",
      "(96106,) (3577,) 99683\n",
      "train loss ('roc', 0.99762175885991045)\n",
      "pass train loss ('roc', 0.85693707841307276)\n",
      "pass train loss now ('mean', 0.0035780789610088959, {0})\n",
      "vaild loss ('roc', 0.98499987956505186)\n",
      "pass vaild loss ('roc', 0.11347359685252352)\n",
      "pass vaild loss now ('mean', 0.0038440736355318792, {0})\n",
      "test loss ('roc', 0.97192716932217027)\n",
      "pass test loss ('roc', 0.7463673345729378)\n",
      "pass test loss now ('mean', 0.0037686412823893221, {0})\n",
      "2018-03-23 12:52:31\n",
      "best test loss: 0.975176211714\n",
      "\n",
      "layer: 20\n"
     ]
    },
    {
     "name": "stderr",
     "output_type": "stream",
     "text": [
      "C:\\github_workspace\\ecoForest\\EnhancedForest.py:100: RuntimeWarning: invalid value encountered in true_divide\n",
      "  node_id_freq = node_id_cnt_m/node_id_cnt_a\n",
      "C:\\github_workspace\\ecoForest\\EnhancedForest.py:101: RuntimeWarning: divide by zero encountered in true_divide\n",
      "  node_id_lift = node_id_freq/node_id_y_prob\n",
      "C:\\github_workspace\\ecoForest\\EnhancedForest.py:106: RuntimeWarning: invalid value encountered in true_divide\n",
      "  node_id_score = 2*node_id_freq*node_id_lift/(node_id_freq+node_id_lift)\n",
      "C:\\github_workspace\\ecoForest\\EnhancedForest.py:100: RuntimeWarning: invalid value encountered in true_divide\n",
      "  node_id_freq = node_id_cnt_m/node_id_cnt_a\n",
      "C:\\github_workspace\\ecoForest\\EnhancedForest.py:101: RuntimeWarning: divide by zero encountered in true_divide\n",
      "  node_id_lift = node_id_freq/node_id_y_prob\n",
      "C:\\github_workspace\\ecoForest\\EnhancedForest.py:106: RuntimeWarning: invalid value encountered in true_divide\n",
      "  node_id_score = 2*node_id_freq*node_id_lift/(node_id_freq+node_id_lift)\n",
      "C:\\github_workspace\\ecoForest\\EnhancedForest.py:100: RuntimeWarning: invalid value encountered in true_divide\n",
      "  node_id_freq = node_id_cnt_m/node_id_cnt_a\n",
      "C:\\github_workspace\\ecoForest\\EnhancedForest.py:101: RuntimeWarning: divide by zero encountered in true_divide\n",
      "  node_id_lift = node_id_freq/node_id_y_prob\n",
      "C:\\github_workspace\\ecoForest\\EnhancedForest.py:106: RuntimeWarning: invalid value encountered in true_divide\n",
      "  node_id_score = 2*node_id_freq*node_id_lift/(node_id_freq+node_id_lift)\n"
     ]
    },
    {
     "name": "stdout",
     "output_type": "stream",
     "text": [
      "[train - p:80/1:0|n:6103/1:306] <class 'numpy.ndarray'> (185124,)\n",
      "<class 'numpy.ndarray'> (179021,)\n",
      "<class 'numpy.ndarray'> (185124,)\n",
      "<class 'numpy.ndarray'> (179021,)\n",
      "test loss: y_true 3533 99683, y_pred:3533 99683\n",
      "<class 'numpy.ndarray'> (99683,)\n",
      "<class 'numpy.ndarray'> (96150,)\n",
      "20 [train - now p:80/1:0 | all p:179021/1:4 | np:6103/1:306] \n",
      "20 [test - now p:44/1:0 | all p:96150/1:19 | np:3533/1:164] \n",
      "(96150,) (3533,) 99683\n",
      "train loss ('roc', 0.9976262620797125)\n",
      "pass train loss ('roc', 0.85655412614444437)\n",
      "pass train loss now ('mean', 0.0037973129317725495, {0})\n",
      "vaild loss ('roc', 0.98517294807647937)\n",
      "pass vaild loss ('roc', 0.11342847327348798)\n",
      "pass vaild loss now ('mean', 0.0040206745921618058, {0})\n",
      "test loss ('roc', 0.9718717830545851)\n",
      "pass test loss ('roc', 0.74602803090195424)\n",
      "pass test loss now ('mean', 0.0037746313809047093, {0})\n",
      "2018-03-23 12:52:34\n",
      "best test loss: 0.975176211714\n",
      "\n",
      "layer: 21\n"
     ]
    },
    {
     "name": "stderr",
     "output_type": "stream",
     "text": [
      "C:\\github_workspace\\ecoForest\\EnhancedForest.py:100: RuntimeWarning: invalid value encountered in true_divide\n",
      "  node_id_freq = node_id_cnt_m/node_id_cnt_a\n",
      "C:\\github_workspace\\ecoForest\\EnhancedForest.py:101: RuntimeWarning: divide by zero encountered in true_divide\n",
      "  node_id_lift = node_id_freq/node_id_y_prob\n",
      "C:\\github_workspace\\ecoForest\\EnhancedForest.py:106: RuntimeWarning: invalid value encountered in true_divide\n",
      "  node_id_score = 2*node_id_freq*node_id_lift/(node_id_freq+node_id_lift)\n",
      "C:\\github_workspace\\ecoForest\\EnhancedForest.py:100: RuntimeWarning: invalid value encountered in true_divide\n",
      "  node_id_freq = node_id_cnt_m/node_id_cnt_a\n",
      "C:\\github_workspace\\ecoForest\\EnhancedForest.py:101: RuntimeWarning: divide by zero encountered in true_divide\n",
      "  node_id_lift = node_id_freq/node_id_y_prob\n",
      "C:\\github_workspace\\ecoForest\\EnhancedForest.py:106: RuntimeWarning: invalid value encountered in true_divide\n",
      "  node_id_score = 2*node_id_freq*node_id_lift/(node_id_freq+node_id_lift)\n",
      "C:\\github_workspace\\ecoForest\\EnhancedForest.py:100: RuntimeWarning: invalid value encountered in true_divide\n",
      "  node_id_freq = node_id_cnt_m/node_id_cnt_a\n",
      "C:\\github_workspace\\ecoForest\\EnhancedForest.py:101: RuntimeWarning: divide by zero encountered in true_divide\n",
      "  node_id_lift = node_id_freq/node_id_y_prob\n",
      "C:\\github_workspace\\ecoForest\\EnhancedForest.py:106: RuntimeWarning: invalid value encountered in true_divide\n",
      "  node_id_score = 2*node_id_freq*node_id_lift/(node_id_freq+node_id_lift)\n"
     ]
    },
    {
     "name": "stdout",
     "output_type": "stream",
     "text": [
      "[train - p:69/1:0|n:6034/1:306] <class 'numpy.ndarray'> (185124,)\n",
      "<class 'numpy.ndarray'> (179090,)\n",
      "<class 'numpy.ndarray'> (185124,)\n",
      "<class 'numpy.ndarray'> (179090,)\n",
      "test loss: y_true 3497 99683, y_pred:3497 99683\n",
      "<class 'numpy.ndarray'> (99683,)\n",
      "<class 'numpy.ndarray'> (96186,)\n",
      "21 [train - now p:69/1:0 | all p:179090/1:4 | np:6034/1:306] \n",
      "21 [test - now p:36/1:0 | all p:96186/1:19 | np:3497/1:164] \n",
      "(96186,) (3497,) 99683\n",
      "train loss ('roc', 0.99761807599410324)\n",
      "pass train loss ('roc', 0.85622550059747837)\n",
      "pass train loss now ('mean', 0.0033666763910254302, {0})\n",
      "vaild loss ('roc', 0.98488735143301875)\n",
      "pass vaild loss ('roc', 0.11339035435489096)\n",
      "pass vaild loss now ('mean', 0.0032903461470887969, {0})\n",
      "test loss ('roc', 0.97195731977291955)\n",
      "pass test loss ('roc', 0.7457493368087329)\n",
      "pass test loss now ('mean', 0.0037857456492209679, {0})\n",
      "2018-03-23 12:52:36\n",
      "best test loss: 0.975176211714\n",
      "\n",
      "layer: 22\n"
     ]
    },
    {
     "name": "stderr",
     "output_type": "stream",
     "text": [
      "C:\\github_workspace\\ecoForest\\EnhancedForest.py:100: RuntimeWarning: invalid value encountered in true_divide\n",
      "  node_id_freq = node_id_cnt_m/node_id_cnt_a\n",
      "C:\\github_workspace\\ecoForest\\EnhancedForest.py:101: RuntimeWarning: divide by zero encountered in true_divide\n",
      "  node_id_lift = node_id_freq/node_id_y_prob\n",
      "C:\\github_workspace\\ecoForest\\EnhancedForest.py:106: RuntimeWarning: invalid value encountered in true_divide\n",
      "  node_id_score = 2*node_id_freq*node_id_lift/(node_id_freq+node_id_lift)\n",
      "C:\\github_workspace\\ecoForest\\EnhancedForest.py:100: RuntimeWarning: invalid value encountered in true_divide\n",
      "  node_id_freq = node_id_cnt_m/node_id_cnt_a\n",
      "C:\\github_workspace\\ecoForest\\EnhancedForest.py:101: RuntimeWarning: divide by zero encountered in true_divide\n",
      "  node_id_lift = node_id_freq/node_id_y_prob\n",
      "C:\\github_workspace\\ecoForest\\EnhancedForest.py:106: RuntimeWarning: invalid value encountered in true_divide\n",
      "  node_id_score = 2*node_id_freq*node_id_lift/(node_id_freq+node_id_lift)\n",
      "C:\\github_workspace\\ecoForest\\EnhancedForest.py:100: RuntimeWarning: invalid value encountered in true_divide\n",
      "  node_id_freq = node_id_cnt_m/node_id_cnt_a\n",
      "C:\\github_workspace\\ecoForest\\EnhancedForest.py:101: RuntimeWarning: divide by zero encountered in true_divide\n",
      "  node_id_lift = node_id_freq/node_id_y_prob\n",
      "C:\\github_workspace\\ecoForest\\EnhancedForest.py:106: RuntimeWarning: invalid value encountered in true_divide\n",
      "  node_id_score = 2*node_id_freq*node_id_lift/(node_id_freq+node_id_lift)\n"
     ]
    },
    {
     "name": "stdout",
     "output_type": "stream",
     "text": [
      "[train - p:83/1:0|n:5951/1:306] <class 'numpy.ndarray'> (185124,)\n",
      "<class 'numpy.ndarray'> (179173,)\n",
      "<class 'numpy.ndarray'> (185124,)\n",
      "<class 'numpy.ndarray'> (179173,)\n",
      "test loss: y_true 3463 99683, y_pred:3463 99683\n",
      "<class 'numpy.ndarray'> (99683,)\n",
      "<class 'numpy.ndarray'> (96220,)\n",
      "22 [train - now p:83/1:0 | all p:179173/1:4 | np:5951/1:306] \n",
      "22 [test - now p:34/1:0 | all p:96220/1:18 | np:3463/1:164] \n",
      "(96220,) (3463,) 99683\n",
      "train loss ('roc', 0.99763652523181978)\n",
      "pass train loss ('roc', 0.85583164498322817)\n",
      "pass train loss now ('mean', 0.002890893066636245, {0})\n",
      "vaild loss ('roc', 0.98525494856729534)\n",
      "pass vaild loss ('roc', 0.11333922162874156)\n",
      "pass vaild loss now ('mean', 0.0031440990723510011, {0})\n",
      "test loss ('roc', 0.97212684703262686)\n",
      "pass test loss ('roc', 0.74548808179086135)\n",
      "pass test loss now ('mean', 0.0030192121450396338, {0})\n",
      "2018-03-23 12:52:38\n",
      "best test loss: 0.975176211714\n",
      "\n",
      "layer: 23\n"
     ]
    },
    {
     "name": "stderr",
     "output_type": "stream",
     "text": [
      "C:\\github_workspace\\ecoForest\\EnhancedForest.py:100: RuntimeWarning: invalid value encountered in true_divide\n",
      "  node_id_freq = node_id_cnt_m/node_id_cnt_a\n",
      "C:\\github_workspace\\ecoForest\\EnhancedForest.py:101: RuntimeWarning: divide by zero encountered in true_divide\n",
      "  node_id_lift = node_id_freq/node_id_y_prob\n",
      "C:\\github_workspace\\ecoForest\\EnhancedForest.py:106: RuntimeWarning: invalid value encountered in true_divide\n",
      "  node_id_score = 2*node_id_freq*node_id_lift/(node_id_freq+node_id_lift)\n",
      "C:\\github_workspace\\ecoForest\\EnhancedForest.py:100: RuntimeWarning: invalid value encountered in true_divide\n",
      "  node_id_freq = node_id_cnt_m/node_id_cnt_a\n",
      "C:\\github_workspace\\ecoForest\\EnhancedForest.py:101: RuntimeWarning: divide by zero encountered in true_divide\n",
      "  node_id_lift = node_id_freq/node_id_y_prob\n",
      "C:\\github_workspace\\ecoForest\\EnhancedForest.py:106: RuntimeWarning: invalid value encountered in true_divide\n",
      "  node_id_score = 2*node_id_freq*node_id_lift/(node_id_freq+node_id_lift)\n",
      "C:\\github_workspace\\ecoForest\\EnhancedForest.py:100: RuntimeWarning: invalid value encountered in true_divide\n",
      "  node_id_freq = node_id_cnt_m/node_id_cnt_a\n",
      "C:\\github_workspace\\ecoForest\\EnhancedForest.py:101: RuntimeWarning: divide by zero encountered in true_divide\n",
      "  node_id_lift = node_id_freq/node_id_y_prob\n",
      "C:\\github_workspace\\ecoForest\\EnhancedForest.py:106: RuntimeWarning: invalid value encountered in true_divide\n",
      "  node_id_score = 2*node_id_freq*node_id_lift/(node_id_freq+node_id_lift)\n"
     ]
    },
    {
     "name": "stdout",
     "output_type": "stream",
     "text": [
      "[train - p:113/1:0|n:5838/1:306] <class 'numpy.ndarray'> (185124,)\n",
      "<class 'numpy.ndarray'> (179286,)\n",
      "<class 'numpy.ndarray'> (185124,)\n",
      "<class 'numpy.ndarray'> (179286,)\n",
      "test loss: y_true 3388 99683, y_pred:3388 99683\n",
      "<class 'numpy.ndarray'> (99683,)\n",
      "<class 'numpy.ndarray'> (96295,)\n",
      "23 [train - now p:113/1:0 | all p:179286/1:4 | np:5838/1:306] \n",
      "23 [test - now p:75/1:0 | all p:96295/1:18 | np:3388/1:164] \n",
      "(96295,) (3388,) 99683\n",
      "train loss ('roc', 0.99762851368961369)\n",
      "pass train loss ('roc', 0.85529222119342707)\n",
      "pass train loss now ('mean', 0.0041038397602769705, {0})\n",
      "vaild loss ('roc', 0.98509915112561297)\n",
      "pass vaild loss ('roc', 0.11326778483060204)\n",
      "pass vaild loss now ('mean', 0.0041269868438406337, {0})\n",
      "test loss ('roc', 0.97216202255850093)\n",
      "pass test loss ('roc', 0.74490849897229394)\n",
      "pass test loss now ('mean', 0.0045808585672528863, {0})\n",
      "2018-03-23 12:52:41\n",
      "best test loss: 0.975176211714\n",
      "\n",
      "layer: 24\n"
     ]
    },
    {
     "name": "stderr",
     "output_type": "stream",
     "text": [
      "C:\\github_workspace\\ecoForest\\EnhancedForest.py:100: RuntimeWarning: invalid value encountered in true_divide\n",
      "  node_id_freq = node_id_cnt_m/node_id_cnt_a\n",
      "C:\\github_workspace\\ecoForest\\EnhancedForest.py:101: RuntimeWarning: divide by zero encountered in true_divide\n",
      "  node_id_lift = node_id_freq/node_id_y_prob\n",
      "C:\\github_workspace\\ecoForest\\EnhancedForest.py:106: RuntimeWarning: invalid value encountered in true_divide\n",
      "  node_id_score = 2*node_id_freq*node_id_lift/(node_id_freq+node_id_lift)\n",
      "C:\\github_workspace\\ecoForest\\EnhancedForest.py:100: RuntimeWarning: invalid value encountered in true_divide\n",
      "  node_id_freq = node_id_cnt_m/node_id_cnt_a\n",
      "C:\\github_workspace\\ecoForest\\EnhancedForest.py:101: RuntimeWarning: divide by zero encountered in true_divide\n",
      "  node_id_lift = node_id_freq/node_id_y_prob\n",
      "C:\\github_workspace\\ecoForest\\EnhancedForest.py:106: RuntimeWarning: invalid value encountered in true_divide\n",
      "  node_id_score = 2*node_id_freq*node_id_lift/(node_id_freq+node_id_lift)\n",
      "C:\\github_workspace\\ecoForest\\EnhancedForest.py:100: RuntimeWarning: invalid value encountered in true_divide\n",
      "  node_id_freq = node_id_cnt_m/node_id_cnt_a\n",
      "C:\\github_workspace\\ecoForest\\EnhancedForest.py:101: RuntimeWarning: divide by zero encountered in true_divide\n",
      "  node_id_lift = node_id_freq/node_id_y_prob\n",
      "C:\\github_workspace\\ecoForest\\EnhancedForest.py:106: RuntimeWarning: invalid value encountered in true_divide\n",
      "  node_id_score = 2*node_id_freq*node_id_lift/(node_id_freq+node_id_lift)\n"
     ]
    },
    {
     "name": "stdout",
     "output_type": "stream",
     "text": [
      "[train - p:110/1:0|n:5728/1:306] <class 'numpy.ndarray'> (185124,)\n",
      "<class 'numpy.ndarray'> (179396,)\n",
      "<class 'numpy.ndarray'> (185124,)\n",
      "<class 'numpy.ndarray'> (179396,)\n",
      "test loss: y_true 3319 99683, y_pred:3319 99683\n",
      "<class 'numpy.ndarray'> (99683,)\n",
      "<class 'numpy.ndarray'> (96364,)\n",
      "24 [train - now p:110/1:0 | all p:179396/1:4 | np:5728/1:306] \n",
      "24 [test - now p:69/1:0 | all p:96364/1:18 | np:3319/1:164] \n",
      "(96364,) (3319,) 99683\n",
      "train loss ('roc', 0.99762996239986002)\n",
      "pass train loss ('roc', 0.85476777113806635)\n",
      "pass train loss now ('mean', 0.0044699434394424213, {0})\n",
      "vaild loss ('roc', 0.98545274115178394)\n",
      "pass vaild loss ('roc', 0.11319972462540133)\n",
      "pass vaild loss now ('mean', 0.0045044595475656228, {0})\n",
      "test loss ('roc', 0.97188796269207511)\n",
      "pass test loss ('roc', 0.74437674861667569)\n",
      "pass test loss now ('mean', 0.0047064560542991818, {0})\n",
      "2018-03-23 12:52:43\n",
      "best test loss: 0.975176211714\n",
      "\n",
      "layer: 25\n"
     ]
    },
    {
     "name": "stderr",
     "output_type": "stream",
     "text": [
      "C:\\github_workspace\\ecoForest\\EnhancedForest.py:100: RuntimeWarning: invalid value encountered in true_divide\n",
      "  node_id_freq = node_id_cnt_m/node_id_cnt_a\n",
      "C:\\github_workspace\\ecoForest\\EnhancedForest.py:101: RuntimeWarning: divide by zero encountered in true_divide\n",
      "  node_id_lift = node_id_freq/node_id_y_prob\n",
      "C:\\github_workspace\\ecoForest\\EnhancedForest.py:106: RuntimeWarning: invalid value encountered in true_divide\n",
      "  node_id_score = 2*node_id_freq*node_id_lift/(node_id_freq+node_id_lift)\n",
      "C:\\github_workspace\\ecoForest\\EnhancedForest.py:100: RuntimeWarning: invalid value encountered in true_divide\n",
      "  node_id_freq = node_id_cnt_m/node_id_cnt_a\n",
      "C:\\github_workspace\\ecoForest\\EnhancedForest.py:101: RuntimeWarning: divide by zero encountered in true_divide\n",
      "  node_id_lift = node_id_freq/node_id_y_prob\n",
      "C:\\github_workspace\\ecoForest\\EnhancedForest.py:106: RuntimeWarning: invalid value encountered in true_divide\n",
      "  node_id_score = 2*node_id_freq*node_id_lift/(node_id_freq+node_id_lift)\n",
      "C:\\github_workspace\\ecoForest\\EnhancedForest.py:100: RuntimeWarning: invalid value encountered in true_divide\n",
      "  node_id_freq = node_id_cnt_m/node_id_cnt_a\n",
      "C:\\github_workspace\\ecoForest\\EnhancedForest.py:101: RuntimeWarning: divide by zero encountered in true_divide\n",
      "  node_id_lift = node_id_freq/node_id_y_prob\n",
      "C:\\github_workspace\\ecoForest\\EnhancedForest.py:106: RuntimeWarning: invalid value encountered in true_divide\n",
      "  node_id_score = 2*node_id_freq*node_id_lift/(node_id_freq+node_id_lift)\n"
     ]
    },
    {
     "name": "stdout",
     "output_type": "stream",
     "text": [
      "[train - p:108/1:0|n:5620/1:306] <class 'numpy.ndarray'> (185124,)\n",
      "<class 'numpy.ndarray'> (179504,)\n",
      "<class 'numpy.ndarray'> (185124,)\n",
      "<class 'numpy.ndarray'> (179504,)\n",
      "test loss: y_true 3267 99683, y_pred:3267 99683\n",
      "<class 'numpy.ndarray'> (99683,)\n",
      "<class 'numpy.ndarray'> (96416,)\n",
      "25 [train - now p:108/1:0 | all p:179504/1:4 | np:5620/1:306] \n",
      "25 [test - now p:52/1:0 | all p:96416/1:18 | np:3267/1:164] \n",
      "(96416,) (3267,) 99683\n",
      "train loss ('roc', 0.99763170783389188)\n",
      "pass train loss ('roc', 0.8542534818941504)\n",
      "pass train loss now ('mean', 0.0043838073594497347, {0})\n",
      "vaild loss ('roc', 0.98509932566901615)\n",
      "pass vaild loss ('roc', 0.11313161559888578)\n",
      "pass vaild loss now ('mean', 0.004555818306169755, {0})\n",
      "test loss ('roc', 0.97198200338369778)\n",
      "pass test loss ('roc', 0.7439752092597588)\n",
      "pass test loss now ('mean', 0.0051057742017763105, {0})\n",
      "2018-03-23 12:52:45\n",
      "best test loss: 0.975176211714\n",
      "\n",
      "layer: 26\n"
     ]
    },
    {
     "name": "stderr",
     "output_type": "stream",
     "text": [
      "C:\\github_workspace\\ecoForest\\EnhancedForest.py:100: RuntimeWarning: invalid value encountered in true_divide\n",
      "  node_id_freq = node_id_cnt_m/node_id_cnt_a\n",
      "C:\\github_workspace\\ecoForest\\EnhancedForest.py:101: RuntimeWarning: divide by zero encountered in true_divide\n",
      "  node_id_lift = node_id_freq/node_id_y_prob\n",
      "C:\\github_workspace\\ecoForest\\EnhancedForest.py:106: RuntimeWarning: invalid value encountered in true_divide\n",
      "  node_id_score = 2*node_id_freq*node_id_lift/(node_id_freq+node_id_lift)\n",
      "C:\\github_workspace\\ecoForest\\EnhancedForest.py:100: RuntimeWarning: invalid value encountered in true_divide\n",
      "  node_id_freq = node_id_cnt_m/node_id_cnt_a\n",
      "C:\\github_workspace\\ecoForest\\EnhancedForest.py:101: RuntimeWarning: divide by zero encountered in true_divide\n",
      "  node_id_lift = node_id_freq/node_id_y_prob\n",
      "C:\\github_workspace\\ecoForest\\EnhancedForest.py:106: RuntimeWarning: invalid value encountered in true_divide\n",
      "  node_id_score = 2*node_id_freq*node_id_lift/(node_id_freq+node_id_lift)\n",
      "C:\\github_workspace\\ecoForest\\EnhancedForest.py:100: RuntimeWarning: invalid value encountered in true_divide\n",
      "  node_id_freq = node_id_cnt_m/node_id_cnt_a\n",
      "C:\\github_workspace\\ecoForest\\EnhancedForest.py:101: RuntimeWarning: divide by zero encountered in true_divide\n",
      "  node_id_lift = node_id_freq/node_id_y_prob\n",
      "C:\\github_workspace\\ecoForest\\EnhancedForest.py:106: RuntimeWarning: invalid value encountered in true_divide\n",
      "  node_id_score = 2*node_id_freq*node_id_lift/(node_id_freq+node_id_lift)\n"
     ]
    },
    {
     "name": "stdout",
     "output_type": "stream",
     "text": [
      "[train - p:106/1:0|n:5514/1:306] <class 'numpy.ndarray'> (185124,)\n",
      "<class 'numpy.ndarray'> (179610,)\n",
      "<class 'numpy.ndarray'> (185124,)\n",
      "<class 'numpy.ndarray'> (179610,)\n",
      "test loss: y_true 3213 99683, y_pred:3213 99683\n",
      "<class 'numpy.ndarray'> (99683,)\n",
      "<class 'numpy.ndarray'> (96470,)\n",
      "26 [train - now p:106/1:0 | all p:179610/1:4 | np:5514/1:306] \n",
      "26 [test - now p:54/1:0 | all p:96470/1:18 | np:3213/1:164] \n",
      "(96470,) (3213,) 99683\n",
      "train loss ('roc', 0.99763186492295475)\n",
      "pass train loss ('roc', 0.8537493179515161)\n",
      "pass train loss now ('mean', 0.0045797438783310969, {0})\n",
      "vaild loss ('roc', 0.98523220556186031)\n",
      "pass vaild loss ('roc', 0.11306484749952676)\n",
      "pass vaild loss now ('mean', 0.0047215889635850482, {0})\n",
      "test loss ('roc', 0.97204859943425381)\n",
      "pass test loss ('roc', 0.74355868434270123)\n",
      "pass test loss now ('mean', 0.0044267875217771811, {0})\n",
      "2018-03-23 12:52:47\n",
      "best test loss: 0.975176211714\n",
      "\n",
      "layer: 27\n"
     ]
    },
    {
     "name": "stderr",
     "output_type": "stream",
     "text": [
      "C:\\github_workspace\\ecoForest\\EnhancedForest.py:100: RuntimeWarning: invalid value encountered in true_divide\n",
      "  node_id_freq = node_id_cnt_m/node_id_cnt_a\n",
      "C:\\github_workspace\\ecoForest\\EnhancedForest.py:101: RuntimeWarning: divide by zero encountered in true_divide\n",
      "  node_id_lift = node_id_freq/node_id_y_prob\n",
      "C:\\github_workspace\\ecoForest\\EnhancedForest.py:106: RuntimeWarning: invalid value encountered in true_divide\n",
      "  node_id_score = 2*node_id_freq*node_id_lift/(node_id_freq+node_id_lift)\n",
      "C:\\github_workspace\\ecoForest\\EnhancedForest.py:100: RuntimeWarning: invalid value encountered in true_divide\n",
      "  node_id_freq = node_id_cnt_m/node_id_cnt_a\n",
      "C:\\github_workspace\\ecoForest\\EnhancedForest.py:101: RuntimeWarning: divide by zero encountered in true_divide\n",
      "  node_id_lift = node_id_freq/node_id_y_prob\n",
      "C:\\github_workspace\\ecoForest\\EnhancedForest.py:106: RuntimeWarning: invalid value encountered in true_divide\n",
      "  node_id_score = 2*node_id_freq*node_id_lift/(node_id_freq+node_id_lift)\n",
      "C:\\github_workspace\\ecoForest\\EnhancedForest.py:100: RuntimeWarning: invalid value encountered in true_divide\n",
      "  node_id_freq = node_id_cnt_m/node_id_cnt_a\n",
      "C:\\github_workspace\\ecoForest\\EnhancedForest.py:101: RuntimeWarning: divide by zero encountered in true_divide\n",
      "  node_id_lift = node_id_freq/node_id_y_prob\n",
      "C:\\github_workspace\\ecoForest\\EnhancedForest.py:106: RuntimeWarning: invalid value encountered in true_divide\n",
      "  node_id_score = 2*node_id_freq*node_id_lift/(node_id_freq+node_id_lift)\n"
     ]
    },
    {
     "name": "stdout",
     "output_type": "stream",
     "text": [
      "[train - p:87/1:0|n:5427/1:306] <class 'numpy.ndarray'> (185124,)\n",
      "<class 'numpy.ndarray'> (179697,)\n",
      "<class 'numpy.ndarray'> (185124,)\n",
      "<class 'numpy.ndarray'> (179697,)\n",
      "test loss: y_true 3175 99683, y_pred:3175 99683\n",
      "<class 'numpy.ndarray'> (99683,)\n",
      "<class 'numpy.ndarray'> (96508,)\n",
      "27 [train - now p:87/1:0 | all p:179697/1:4 | np:5427/1:306] \n",
      "27 [test - now p:38/1:0 | all p:96508/1:18 | np:3175/1:164] \n",
      "(96508,) (3175,) 99683\n",
      "train loss ('roc', 0.99763383726341071)\n",
      "pass train loss ('roc', 0.8533359674556048)\n",
      "pass train loss now ('mean', 0.0041246751735300128, {0})\n",
      "vaild loss ('roc', 0.98515033597859669)\n",
      "pass vaild loss ('roc', 0.1130101061254473)\n",
      "pass vaild loss now ('mean', 0.0037389073832380087, {0})\n",
      "test loss ('roc', 0.97203805229855211)\n",
      "pass test loss ('roc', 0.74326585368662257)\n",
      "pass test loss now ('mean', 0.0045607932962849901, {0})\n",
      "2018-03-23 12:52:49\n",
      "best test loss: 0.975176211714\n",
      "\n",
      "layer: 28\n"
     ]
    },
    {
     "name": "stderr",
     "output_type": "stream",
     "text": [
      "C:\\github_workspace\\ecoForest\\EnhancedForest.py:100: RuntimeWarning: invalid value encountered in true_divide\n",
      "  node_id_freq = node_id_cnt_m/node_id_cnt_a\n",
      "C:\\github_workspace\\ecoForest\\EnhancedForest.py:101: RuntimeWarning: divide by zero encountered in true_divide\n",
      "  node_id_lift = node_id_freq/node_id_y_prob\n",
      "C:\\github_workspace\\ecoForest\\EnhancedForest.py:106: RuntimeWarning: invalid value encountered in true_divide\n",
      "  node_id_score = 2*node_id_freq*node_id_lift/(node_id_freq+node_id_lift)\n",
      "C:\\github_workspace\\ecoForest\\EnhancedForest.py:100: RuntimeWarning: invalid value encountered in true_divide\n",
      "  node_id_freq = node_id_cnt_m/node_id_cnt_a\n",
      "C:\\github_workspace\\ecoForest\\EnhancedForest.py:101: RuntimeWarning: divide by zero encountered in true_divide\n",
      "  node_id_lift = node_id_freq/node_id_y_prob\n",
      "C:\\github_workspace\\ecoForest\\EnhancedForest.py:106: RuntimeWarning: invalid value encountered in true_divide\n",
      "  node_id_score = 2*node_id_freq*node_id_lift/(node_id_freq+node_id_lift)\n",
      "C:\\github_workspace\\ecoForest\\EnhancedForest.py:100: RuntimeWarning: invalid value encountered in true_divide\n",
      "  node_id_freq = node_id_cnt_m/node_id_cnt_a\n",
      "C:\\github_workspace\\ecoForest\\EnhancedForest.py:101: RuntimeWarning: divide by zero encountered in true_divide\n",
      "  node_id_lift = node_id_freq/node_id_y_prob\n",
      "C:\\github_workspace\\ecoForest\\EnhancedForest.py:106: RuntimeWarning: invalid value encountered in true_divide\n",
      "  node_id_score = 2*node_id_freq*node_id_lift/(node_id_freq+node_id_lift)\n"
     ]
    },
    {
     "name": "stdout",
     "output_type": "stream",
     "text": [
      "[train - p:67/1:0|n:5360/1:306] <class 'numpy.ndarray'> (185124,)\n",
      "<class 'numpy.ndarray'> (179764,)\n",
      "<class 'numpy.ndarray'> (185124,)\n",
      "<class 'numpy.ndarray'> (179764,)\n",
      "test loss: y_true 3144 99683, y_pred:3144 99683\n",
      "<class 'numpy.ndarray'> (99683,)\n",
      "<class 'numpy.ndarray'> (96539,)\n",
      "28 [train - now p:67/1:0 | all p:179764/1:4 | np:5360/1:306] \n",
      "28 [test - now p:31/1:0 | all p:96539/1:18 | np:3144/1:164] \n",
      "(96539,) (3144,) 99683\n",
      "train loss ('roc', 0.99764523494763868)\n",
      "pass train loss ('roc', 0.85301791277258565)\n",
      "pass train loss now ('mean', 0.0042824045711062934, {0})\n",
      "vaild loss ('roc', 0.98540247265166681)\n",
      "pass vaild loss ('roc', 0.11296798509123274)\n",
      "pass vaild loss now ('mean', 0.0043846598925228056, {0})\n",
      "test loss ('roc', 0.97210216342184874)\n",
      "pass test loss ('roc', 0.74302713629388661)\n",
      "pass test loss now ('mean', 0.0043500321159312214, {0})\n",
      "2018-03-23 12:52:52\n",
      "best test loss: 0.975176211714\n",
      "\n",
      "layer: 29\n"
     ]
    },
    {
     "name": "stderr",
     "output_type": "stream",
     "text": [
      "C:\\github_workspace\\ecoForest\\EnhancedForest.py:100: RuntimeWarning: invalid value encountered in true_divide\n",
      "  node_id_freq = node_id_cnt_m/node_id_cnt_a\n",
      "C:\\github_workspace\\ecoForest\\EnhancedForest.py:101: RuntimeWarning: divide by zero encountered in true_divide\n",
      "  node_id_lift = node_id_freq/node_id_y_prob\n",
      "C:\\github_workspace\\ecoForest\\EnhancedForest.py:106: RuntimeWarning: invalid value encountered in true_divide\n",
      "  node_id_score = 2*node_id_freq*node_id_lift/(node_id_freq+node_id_lift)\n",
      "C:\\github_workspace\\ecoForest\\EnhancedForest.py:100: RuntimeWarning: invalid value encountered in true_divide\n",
      "  node_id_freq = node_id_cnt_m/node_id_cnt_a\n",
      "C:\\github_workspace\\ecoForest\\EnhancedForest.py:101: RuntimeWarning: divide by zero encountered in true_divide\n",
      "  node_id_lift = node_id_freq/node_id_y_prob\n",
      "C:\\github_workspace\\ecoForest\\EnhancedForest.py:106: RuntimeWarning: invalid value encountered in true_divide\n",
      "  node_id_score = 2*node_id_freq*node_id_lift/(node_id_freq+node_id_lift)\n",
      "C:\\github_workspace\\ecoForest\\EnhancedForest.py:100: RuntimeWarning: invalid value encountered in true_divide\n",
      "  node_id_freq = node_id_cnt_m/node_id_cnt_a\n",
      "C:\\github_workspace\\ecoForest\\EnhancedForest.py:101: RuntimeWarning: divide by zero encountered in true_divide\n",
      "  node_id_lift = node_id_freq/node_id_y_prob\n",
      "C:\\github_workspace\\ecoForest\\EnhancedForest.py:106: RuntimeWarning: invalid value encountered in true_divide\n",
      "  node_id_score = 2*node_id_freq*node_id_lift/(node_id_freq+node_id_lift)\n"
     ]
    },
    {
     "name": "stdout",
     "output_type": "stream",
     "text": [
      "[train - p:68/1:0|n:5292/1:306] <class 'numpy.ndarray'> (185124,)\n",
      "<class 'numpy.ndarray'> (179832,)\n",
      "<class 'numpy.ndarray'> (185124,)\n",
      "<class 'numpy.ndarray'> (179832,)\n",
      "test loss: y_true 3119 99683, y_pred:3119 99683\n",
      "<class 'numpy.ndarray'> (99683,)\n",
      "<class 'numpy.ndarray'> (96564,)\n",
      "29 [train - now p:68/1:0 | all p:179832/1:4 | np:5292/1:306] \n",
      "29 [test - now p:25/1:0 | all p:96564/1:18 | np:3119/1:164] \n",
      "(96564,) (3119,) 99683\n",
      "train loss ('roc', 0.99764249461620869)\n",
      "pass train loss ('roc', 0.85269535333763369)\n",
      "pass train loss now ('mean', 0.0048260132033278004, {0})\n",
      "vaild loss ('roc', 0.98535037144581628)\n",
      "pass vaild loss ('roc', 0.11292526747781213)\n",
      "pass vaild loss now ('mean', 0.0054268753951599554, {0})\n",
      "test loss ('roc', 0.97198697323821692)\n",
      "pass test loss ('roc', 0.74283473393224186)\n",
      "pass test loss now ('mean', 0.0052342456029910158, {0})\n",
      "2018-03-23 12:52:54\n",
      "best test loss: 0.975176211714\n",
      "\n",
      "layer: 30\n"
     ]
    },
    {
     "name": "stderr",
     "output_type": "stream",
     "text": [
      "C:\\github_workspace\\ecoForest\\EnhancedForest.py:100: RuntimeWarning: invalid value encountered in true_divide\n",
      "  node_id_freq = node_id_cnt_m/node_id_cnt_a\n",
      "C:\\github_workspace\\ecoForest\\EnhancedForest.py:101: RuntimeWarning: divide by zero encountered in true_divide\n",
      "  node_id_lift = node_id_freq/node_id_y_prob\n",
      "C:\\github_workspace\\ecoForest\\EnhancedForest.py:106: RuntimeWarning: invalid value encountered in true_divide\n",
      "  node_id_score = 2*node_id_freq*node_id_lift/(node_id_freq+node_id_lift)\n",
      "C:\\github_workspace\\ecoForest\\EnhancedForest.py:100: RuntimeWarning: invalid value encountered in true_divide\n",
      "  node_id_freq = node_id_cnt_m/node_id_cnt_a\n",
      "C:\\github_workspace\\ecoForest\\EnhancedForest.py:101: RuntimeWarning: divide by zero encountered in true_divide\n",
      "  node_id_lift = node_id_freq/node_id_y_prob\n",
      "C:\\github_workspace\\ecoForest\\EnhancedForest.py:106: RuntimeWarning: invalid value encountered in true_divide\n",
      "  node_id_score = 2*node_id_freq*node_id_lift/(node_id_freq+node_id_lift)\n",
      "C:\\github_workspace\\ecoForest\\EnhancedForest.py:100: RuntimeWarning: invalid value encountered in true_divide\n",
      "  node_id_freq = node_id_cnt_m/node_id_cnt_a\n",
      "C:\\github_workspace\\ecoForest\\EnhancedForest.py:101: RuntimeWarning: divide by zero encountered in true_divide\n",
      "  node_id_lift = node_id_freq/node_id_y_prob\n",
      "C:\\github_workspace\\ecoForest\\EnhancedForest.py:106: RuntimeWarning: invalid value encountered in true_divide\n",
      "  node_id_score = 2*node_id_freq*node_id_lift/(node_id_freq+node_id_lift)\n"
     ]
    },
    {
     "name": "stdout",
     "output_type": "stream",
     "text": [
      "[train - p:58/1:0|n:5234/1:306] <class 'numpy.ndarray'> (185124,)\n",
      "<class 'numpy.ndarray'> (179890,)\n",
      "<class 'numpy.ndarray'> (185124,)\n",
      "<class 'numpy.ndarray'> (179890,)\n",
      "test loss: y_true 3091 99683, y_pred:3091 99683\n",
      "<class 'numpy.ndarray'> (99683,)\n",
      "<class 'numpy.ndarray'> (96592,)\n",
      "30 [train - now p:58/1:0 | all p:179890/1:4 | np:5234/1:306] \n",
      "30 [test - now p:28/1:0 | all p:96592/1:18 | np:3091/1:164] \n",
      "(96592,) (3091,) 99683\n",
      "train loss ('roc', 0.99763521615629602)\n",
      "pass train loss ('roc', 0.85242042182270994)\n",
      "pass train loss now ('mean', 0.005340301522538368, {0})\n",
      "vaild loss ('roc', 0.98527617304512261)\n",
      "pass vaild loss ('roc', 0.11288885738745649)\n",
      "pass vaild loss now ('mean', 0.0068792168974352533, {0})\n",
      "test loss ('roc', 0.97196449845166932)\n",
      "pass test loss ('roc', 0.74261936154888719)\n",
      "pass test loss now ('mean', 0.0052856300709286002, {0})\n",
      "2018-03-23 12:52:56\n",
      "best test loss: 0.975176211714\n",
      "\n",
      "layer: 31\n"
     ]
    },
    {
     "name": "stderr",
     "output_type": "stream",
     "text": [
      "C:\\github_workspace\\ecoForest\\EnhancedForest.py:100: RuntimeWarning: invalid value encountered in true_divide\n",
      "  node_id_freq = node_id_cnt_m/node_id_cnt_a\n",
      "C:\\github_workspace\\ecoForest\\EnhancedForest.py:101: RuntimeWarning: divide by zero encountered in true_divide\n",
      "  node_id_lift = node_id_freq/node_id_y_prob\n",
      "C:\\github_workspace\\ecoForest\\EnhancedForest.py:106: RuntimeWarning: invalid value encountered in true_divide\n",
      "  node_id_score = 2*node_id_freq*node_id_lift/(node_id_freq+node_id_lift)\n",
      "C:\\github_workspace\\ecoForest\\EnhancedForest.py:100: RuntimeWarning: invalid value encountered in true_divide\n",
      "  node_id_freq = node_id_cnt_m/node_id_cnt_a\n",
      "C:\\github_workspace\\ecoForest\\EnhancedForest.py:101: RuntimeWarning: divide by zero encountered in true_divide\n",
      "  node_id_lift = node_id_freq/node_id_y_prob\n",
      "C:\\github_workspace\\ecoForest\\EnhancedForest.py:106: RuntimeWarning: invalid value encountered in true_divide\n",
      "  node_id_score = 2*node_id_freq*node_id_lift/(node_id_freq+node_id_lift)\n",
      "C:\\github_workspace\\ecoForest\\EnhancedForest.py:100: RuntimeWarning: invalid value encountered in true_divide\n",
      "  node_id_freq = node_id_cnt_m/node_id_cnt_a\n",
      "C:\\github_workspace\\ecoForest\\EnhancedForest.py:101: RuntimeWarning: divide by zero encountered in true_divide\n",
      "  node_id_lift = node_id_freq/node_id_y_prob\n",
      "C:\\github_workspace\\ecoForest\\EnhancedForest.py:106: RuntimeWarning: invalid value encountered in true_divide\n",
      "  node_id_score = 2*node_id_freq*node_id_lift/(node_id_freq+node_id_lift)\n"
     ]
    },
    {
     "name": "stdout",
     "output_type": "stream",
     "text": [
      "[train - p:65/1:0|n:5169/1:306] <class 'numpy.ndarray'> (185124,)\n",
      "<class 'numpy.ndarray'> (179955,)\n",
      "<class 'numpy.ndarray'> (185124,)\n",
      "<class 'numpy.ndarray'> (179955,)\n",
      "test loss: y_true 3048 99683, y_pred:3048 99683\n",
      "<class 'numpy.ndarray'> (99683,)\n",
      "<class 'numpy.ndarray'> (96635,)\n",
      "31 [train - now p:65/1:0 | all p:179955/1:4 | np:5169/1:306] \n",
      "31 [test - now p:43/1:0 | all p:96635/1:18 | np:3048/1:164] \n",
      "(96635,) (3048,) 99683\n",
      "train loss ('roc', 0.99764156953617189)\n",
      "pass train loss ('roc', 0.85211251951920242)\n",
      "pass train loss now ('mean', 0.0052700151177656916, {0})\n",
      "vaild loss ('roc', 0.98547676705123233)\n",
      "pass vaild loss ('roc', 0.11284808086645809)\n",
      "pass vaild loss now ('mean', 0.0054452245222755408, {0})\n",
      "test loss ('roc', 0.97210636018788699)\n",
      "pass test loss ('roc', 0.74228885415840096)\n",
      "pass test loss now ('mean', 0.0054532734409433329, {0})\n",
      "2018-03-23 12:52:58\n",
      "best test loss: 0.975176211714\n",
      "\n",
      "layer: 32\n"
     ]
    },
    {
     "name": "stderr",
     "output_type": "stream",
     "text": [
      "C:\\github_workspace\\ecoForest\\EnhancedForest.py:100: RuntimeWarning: invalid value encountered in true_divide\n",
      "  node_id_freq = node_id_cnt_m/node_id_cnt_a\n",
      "C:\\github_workspace\\ecoForest\\EnhancedForest.py:101: RuntimeWarning: divide by zero encountered in true_divide\n",
      "  node_id_lift = node_id_freq/node_id_y_prob\n",
      "C:\\github_workspace\\ecoForest\\EnhancedForest.py:106: RuntimeWarning: invalid value encountered in true_divide\n",
      "  node_id_score = 2*node_id_freq*node_id_lift/(node_id_freq+node_id_lift)\n",
      "C:\\github_workspace\\ecoForest\\EnhancedForest.py:100: RuntimeWarning: invalid value encountered in true_divide\n",
      "  node_id_freq = node_id_cnt_m/node_id_cnt_a\n",
      "C:\\github_workspace\\ecoForest\\EnhancedForest.py:101: RuntimeWarning: divide by zero encountered in true_divide\n",
      "  node_id_lift = node_id_freq/node_id_y_prob\n",
      "C:\\github_workspace\\ecoForest\\EnhancedForest.py:106: RuntimeWarning: invalid value encountered in true_divide\n",
      "  node_id_score = 2*node_id_freq*node_id_lift/(node_id_freq+node_id_lift)\n",
      "C:\\github_workspace\\ecoForest\\EnhancedForest.py:100: RuntimeWarning: invalid value encountered in true_divide\n",
      "  node_id_freq = node_id_cnt_m/node_id_cnt_a\n",
      "C:\\github_workspace\\ecoForest\\EnhancedForest.py:101: RuntimeWarning: divide by zero encountered in true_divide\n",
      "  node_id_lift = node_id_freq/node_id_y_prob\n",
      "C:\\github_workspace\\ecoForest\\EnhancedForest.py:106: RuntimeWarning: invalid value encountered in true_divide\n",
      "  node_id_score = 2*node_id_freq*node_id_lift/(node_id_freq+node_id_lift)\n"
     ]
    },
    {
     "name": "stdout",
     "output_type": "stream",
     "text": [
      "[train - p:63/1:0|n:5106/1:306] <class 'numpy.ndarray'> (185124,)\n",
      "<class 'numpy.ndarray'> (180018,)\n",
      "<class 'numpy.ndarray'> (185124,)\n",
      "<class 'numpy.ndarray'> (180018,)\n",
      "test loss: y_true 3031 99683, y_pred:3031 99683\n",
      "<class 'numpy.ndarray'> (99683,)\n",
      "<class 'numpy.ndarray'> (96652,)\n",
      "32 [train - now p:63/1:0 | all p:180018/1:4 | np:5106/1:306] \n",
      "32 [test - now p:17/1:0 | all p:96652/1:18 | np:3031/1:164] \n",
      "(96652,) (3031,) 99683\n",
      "train loss ('roc', 0.99764350696794712)\n",
      "pass train loss ('roc', 0.85181430333196306)\n",
      "pass train loss now ('mean', 0.00508921991863858, {0})\n",
      "vaild loss ('roc', 0.985597716902469)\n",
      "pass vaild loss ('roc', 0.11280858710989147)\n",
      "pass vaild loss now ('mean', 0.0049291595033629761, {0})\n",
      "test loss ('roc', 0.97196212396562132)\n",
      "pass test loss ('roc', 0.7421582695761556)\n",
      "pass test loss now ('mean', 0.0055708353515317105, {0})\n",
      "2018-03-23 12:53:00\n",
      "best test loss: 0.975176211714\n",
      "\n",
      "layer: 33\n"
     ]
    },
    {
     "name": "stderr",
     "output_type": "stream",
     "text": [
      "C:\\github_workspace\\ecoForest\\EnhancedForest.py:100: RuntimeWarning: invalid value encountered in true_divide\n",
      "  node_id_freq = node_id_cnt_m/node_id_cnt_a\n",
      "C:\\github_workspace\\ecoForest\\EnhancedForest.py:101: RuntimeWarning: divide by zero encountered in true_divide\n",
      "  node_id_lift = node_id_freq/node_id_y_prob\n",
      "C:\\github_workspace\\ecoForest\\EnhancedForest.py:106: RuntimeWarning: invalid value encountered in true_divide\n",
      "  node_id_score = 2*node_id_freq*node_id_lift/(node_id_freq+node_id_lift)\n",
      "C:\\github_workspace\\ecoForest\\EnhancedForest.py:100: RuntimeWarning: invalid value encountered in true_divide\n",
      "  node_id_freq = node_id_cnt_m/node_id_cnt_a\n",
      "C:\\github_workspace\\ecoForest\\EnhancedForest.py:101: RuntimeWarning: divide by zero encountered in true_divide\n",
      "  node_id_lift = node_id_freq/node_id_y_prob\n",
      "C:\\github_workspace\\ecoForest\\EnhancedForest.py:106: RuntimeWarning: invalid value encountered in true_divide\n",
      "  node_id_score = 2*node_id_freq*node_id_lift/(node_id_freq+node_id_lift)\n",
      "C:\\github_workspace\\ecoForest\\EnhancedForest.py:100: RuntimeWarning: invalid value encountered in true_divide\n",
      "  node_id_freq = node_id_cnt_m/node_id_cnt_a\n",
      "C:\\github_workspace\\ecoForest\\EnhancedForest.py:101: RuntimeWarning: divide by zero encountered in true_divide\n",
      "  node_id_lift = node_id_freq/node_id_y_prob\n",
      "C:\\github_workspace\\ecoForest\\EnhancedForest.py:106: RuntimeWarning: invalid value encountered in true_divide\n",
      "  node_id_score = 2*node_id_freq*node_id_lift/(node_id_freq+node_id_lift)\n"
     ]
    },
    {
     "name": "stdout",
     "output_type": "stream",
     "text": [
      "[train - p:54/1:0|n:5052/1:306] <class 'numpy.ndarray'> (185124,)\n",
      "<class 'numpy.ndarray'> (180072,)\n",
      "<class 'numpy.ndarray'> (185124,)\n",
      "<class 'numpy.ndarray'> (180072,)\n",
      "test loss: y_true 2999 99683, y_pred:2999 99683\n",
      "<class 'numpy.ndarray'> (99683,)\n",
      "<class 'numpy.ndarray'> (96684,)\n",
      "33 [train - now p:54/1:0 | all p:180072/1:4 | np:5052/1:306] \n",
      "33 [test - now p:32/1:0 | all p:96684/1:18 | np:2999/1:164] \n",
      "(96684,) (2999,) 99683\n",
      "train loss ('roc', 0.9976310271146196)\n",
      "pass train loss ('roc', 0.85155885554346133)\n",
      "pass train loss now ('mean', 0.0055790444991717361, {0})\n",
      "vaild loss ('roc', 0.98527540505414857)\n",
      "pass vaild loss ('roc', 0.11277475731390363)\n",
      "pass vaild loss now ('mean', 0.0048600364799810019, {0})\n",
      "test loss ('roc', 0.97206477907174382)\n",
      "pass test loss ('roc', 0.74191258790290504)\n",
      "pass test loss now ('mean', 0.005493691040504076, {0})\n",
      "2018-03-23 12:53:02\n",
      "best test loss: 0.975176211714\n",
      "\n",
      "layer: 34\n"
     ]
    },
    {
     "name": "stderr",
     "output_type": "stream",
     "text": [
      "C:\\github_workspace\\ecoForest\\EnhancedForest.py:100: RuntimeWarning: invalid value encountered in true_divide\n",
      "  node_id_freq = node_id_cnt_m/node_id_cnt_a\n",
      "C:\\github_workspace\\ecoForest\\EnhancedForest.py:101: RuntimeWarning: divide by zero encountered in true_divide\n",
      "  node_id_lift = node_id_freq/node_id_y_prob\n",
      "C:\\github_workspace\\ecoForest\\EnhancedForest.py:106: RuntimeWarning: invalid value encountered in true_divide\n",
      "  node_id_score = 2*node_id_freq*node_id_lift/(node_id_freq+node_id_lift)\n",
      "C:\\github_workspace\\ecoForest\\EnhancedForest.py:100: RuntimeWarning: invalid value encountered in true_divide\n",
      "  node_id_freq = node_id_cnt_m/node_id_cnt_a\n",
      "C:\\github_workspace\\ecoForest\\EnhancedForest.py:101: RuntimeWarning: divide by zero encountered in true_divide\n",
      "  node_id_lift = node_id_freq/node_id_y_prob\n",
      "C:\\github_workspace\\ecoForest\\EnhancedForest.py:106: RuntimeWarning: invalid value encountered in true_divide\n",
      "  node_id_score = 2*node_id_freq*node_id_lift/(node_id_freq+node_id_lift)\n",
      "C:\\github_workspace\\ecoForest\\EnhancedForest.py:100: RuntimeWarning: invalid value encountered in true_divide\n",
      "  node_id_freq = node_id_cnt_m/node_id_cnt_a\n",
      "C:\\github_workspace\\ecoForest\\EnhancedForest.py:101: RuntimeWarning: divide by zero encountered in true_divide\n",
      "  node_id_lift = node_id_freq/node_id_y_prob\n",
      "C:\\github_workspace\\ecoForest\\EnhancedForest.py:106: RuntimeWarning: invalid value encountered in true_divide\n",
      "  node_id_score = 2*node_id_freq*node_id_lift/(node_id_freq+node_id_lift)\n"
     ]
    },
    {
     "name": "stdout",
     "output_type": "stream",
     "text": [
      "[train - p:51/1:0|n:5001/1:306] <class 'numpy.ndarray'> (185124,)\n",
      "<class 'numpy.ndarray'> (180123,)\n",
      "<class 'numpy.ndarray'> (185124,)\n",
      "<class 'numpy.ndarray'> (180123,)\n",
      "test loss: y_true 2972 99683, y_pred:2972 99683\n",
      "<class 'numpy.ndarray'> (99683,)\n",
      "<class 'numpy.ndarray'> (96711,)\n",
      "34 [train - now p:51/1:0 | all p:180123/1:4 | np:5001/1:306] \n",
      "34 [test - now p:27/1:0 | all p:96711/1:18 | np:2972/1:164] \n",
      "(96711,) (2972,) 99683\n",
      "train loss ('roc', 0.99763600160161026)\n",
      "pass train loss ('roc', 0.85131773993859616)\n",
      "pass train loss now ('mean', 0.0049818481707071078, {0})\n",
      "vaild loss ('roc', 0.98551123064619117)\n",
      "pass vaild loss ('roc', 0.11274282557642448)\n",
      "pass vaild loss now ('mean', 0.0051354705665001546, {0})\n",
      "test loss ('roc', 0.97211685210298271)\n",
      "pass test loss ('roc', 0.74170599503353685)\n",
      "pass test loss now ('mean', 0.0045239774762821667, {0})\n",
      "2018-03-23 12:53:04\n",
      "best test loss: 0.975176211714\n",
      "\n",
      "layer: 35\n"
     ]
    },
    {
     "name": "stderr",
     "output_type": "stream",
     "text": [
      "C:\\github_workspace\\ecoForest\\EnhancedForest.py:100: RuntimeWarning: invalid value encountered in true_divide\n",
      "  node_id_freq = node_id_cnt_m/node_id_cnt_a\n",
      "C:\\github_workspace\\ecoForest\\EnhancedForest.py:101: RuntimeWarning: divide by zero encountered in true_divide\n",
      "  node_id_lift = node_id_freq/node_id_y_prob\n",
      "C:\\github_workspace\\ecoForest\\EnhancedForest.py:106: RuntimeWarning: invalid value encountered in true_divide\n",
      "  node_id_score = 2*node_id_freq*node_id_lift/(node_id_freq+node_id_lift)\n",
      "C:\\github_workspace\\ecoForest\\EnhancedForest.py:100: RuntimeWarning: invalid value encountered in true_divide\n",
      "  node_id_freq = node_id_cnt_m/node_id_cnt_a\n",
      "C:\\github_workspace\\ecoForest\\EnhancedForest.py:101: RuntimeWarning: divide by zero encountered in true_divide\n",
      "  node_id_lift = node_id_freq/node_id_y_prob\n",
      "C:\\github_workspace\\ecoForest\\EnhancedForest.py:106: RuntimeWarning: invalid value encountered in true_divide\n",
      "  node_id_score = 2*node_id_freq*node_id_lift/(node_id_freq+node_id_lift)\n",
      "C:\\github_workspace\\ecoForest\\EnhancedForest.py:100: RuntimeWarning: invalid value encountered in true_divide\n",
      "  node_id_freq = node_id_cnt_m/node_id_cnt_a\n",
      "C:\\github_workspace\\ecoForest\\EnhancedForest.py:101: RuntimeWarning: divide by zero encountered in true_divide\n",
      "  node_id_lift = node_id_freq/node_id_y_prob\n",
      "C:\\github_workspace\\ecoForest\\EnhancedForest.py:106: RuntimeWarning: invalid value encountered in true_divide\n",
      "  node_id_score = 2*node_id_freq*node_id_lift/(node_id_freq+node_id_lift)\n"
     ]
    },
    {
     "name": "stdout",
     "output_type": "stream",
     "text": [
      "[train - p:53/1:0|n:4948/1:306] <class 'numpy.ndarray'> (185124,)\n",
      "<class 'numpy.ndarray'> (180176,)\n",
      "<class 'numpy.ndarray'> (185124,)\n",
      "<class 'numpy.ndarray'> (180176,)\n",
      "test loss: y_true 2943 99683, y_pred:2943 99683\n",
      "<class 'numpy.ndarray'> (99683,)\n",
      "<class 'numpy.ndarray'> (96740,)\n",
      "35 [train - now p:53/1:0 | all p:180176/1:4 | np:4948/1:306] \n",
      "35 [test - now p:29/1:0 | all p:96740/1:18 | np:2943/1:164] \n",
      "(96740,) (2943,) 99683\n",
      "train loss ('roc', 0.99763635068841661)\n",
      "pass train loss ('roc', 0.85106731345603093)\n",
      "pass train loss now ('mean', 0.0050106911011647097, {0})\n",
      "vaild loss ('roc', 0.98547300564089368)\n",
      "pass vaild loss ('roc', 0.11270966076859891)\n",
      "pass vaild loss now ('mean', 0.0058016435029025005, {0})\n",
      "test loss ('roc', 0.97189199379629621)\n",
      "pass test loss ('roc', 0.74148361053098344)\n",
      "pass test loss now ('mean', 0.0056887580051851461, {0})\n",
      "2018-03-23 12:53:07\n",
      "best test loss: 0.975176211714\n",
      "\n",
      "layer: 36\n"
     ]
    },
    {
     "name": "stderr",
     "output_type": "stream",
     "text": [
      "C:\\github_workspace\\ecoForest\\EnhancedForest.py:100: RuntimeWarning: invalid value encountered in true_divide\n",
      "  node_id_freq = node_id_cnt_m/node_id_cnt_a\n",
      "C:\\github_workspace\\ecoForest\\EnhancedForest.py:101: RuntimeWarning: divide by zero encountered in true_divide\n",
      "  node_id_lift = node_id_freq/node_id_y_prob\n",
      "C:\\github_workspace\\ecoForest\\EnhancedForest.py:106: RuntimeWarning: invalid value encountered in true_divide\n",
      "  node_id_score = 2*node_id_freq*node_id_lift/(node_id_freq+node_id_lift)\n"
     ]
    },
    {
     "ename": "KeyboardInterrupt",
     "evalue": "",
     "output_type": "error",
     "traceback": [
      "\u001b[1;31m---------------------------------------------------------------------------\u001b[0m",
      "\u001b[1;31mKeyboardInterrupt\u001b[0m                         Traceback (most recent call last)",
      "\u001b[1;32m<ipython-input-3-ac39900f8e66>\u001b[0m in \u001b[0;36m<module>\u001b[1;34m()\u001b[0m\n\u001b[0;32m    194\u001b[0m     \u001b[1;32melse\u001b[0m\u001b[1;33m:\u001b[0m \u001b[0misFirst\u001b[0m \u001b[1;33m=\u001b[0m \u001b[1;32mFalse\u001b[0m\u001b[1;33m\u001b[0m\u001b[0m\n\u001b[0;32m    195\u001b[0m \u001b[1;33m\u001b[0m\u001b[0m\n\u001b[1;32m--> 196\u001b[1;33m     \u001b[0mclf\u001b[0m\u001b[1;33m,\u001b[0m \u001b[0mnow_pass_data_mask\u001b[0m\u001b[1;33m,\u001b[0m \u001b[0mp_test\u001b[0m \u001b[1;33m=\u001b[0m         \u001b[0menhancedDTree\u001b[0m\u001b[1;33m.\u001b[0m\u001b[0mTrainModelLayer\u001b[0m\u001b[1;33m(\u001b[0m\u001b[0mX\u001b[0m\u001b[1;33m,\u001b[0m \u001b[0my\u001b[0m\u001b[1;33m,\u001b[0m \u001b[0mX_test\u001b[0m\u001b[1;33m,\u001b[0m \u001b[0mall_pass_data_mask\u001b[0m\u001b[1;33m,\u001b[0m \u001b[0mtest_y\u001b[0m\u001b[1;33m,\u001b[0m \u001b[0mreal_y\u001b[0m\u001b[1;33m,\u001b[0m \u001b[0mverbose\u001b[0m\u001b[1;33m=\u001b[0m\u001b[1;32mFalse\u001b[0m\u001b[1;33m,\u001b[0m                                       \u001b[0mfeval\u001b[0m\u001b[1;33m=\u001b[0m\u001b[0mroc_metrix_mult\u001b[0m\u001b[1;33m,\u001b[0m \u001b[0mdropout\u001b[0m\u001b[1;33m=\u001b[0m\u001b[1;36m0.8\u001b[0m\u001b[1;33m,\u001b[0m \u001b[0mcriterion\u001b[0m\u001b[1;33m=\u001b[0m\u001b[1;34m'gini'\u001b[0m\u001b[1;33m,\u001b[0m \u001b[0mrandom_state\u001b[0m\u001b[1;33m=\u001b[0m\u001b[0mlayer\u001b[0m\u001b[1;33m,\u001b[0m                                       \u001b[0misFirst\u001b[0m\u001b[1;33m=\u001b[0m\u001b[0misFirst\u001b[0m\u001b[1;33m,\u001b[0m \u001b[0mmin_samples_leaf\u001b[0m\u001b[1;33m=\u001b[0m\u001b[1;36m10\u001b[0m                                     \u001b[1;33m)\u001b[0m\u001b[1;33m\u001b[0m\u001b[0m\n\u001b[0m\u001b[0;32m    197\u001b[0m     \u001b[0mfeval\u001b[0m\u001b[1;33m=\u001b[0m\u001b[0mroc_metrix_mult\u001b[0m\u001b[1;33m\u001b[0m\u001b[0m\n\u001b[0;32m    198\u001b[0m     \u001b[0mtrain_loss\u001b[0m \u001b[1;33m=\u001b[0m \u001b[0menhancedDTree\u001b[0m\u001b[1;33m.\u001b[0m\u001b[0mgetTrainLoss\u001b[0m\u001b[1;33m(\u001b[0m\u001b[0mfeval\u001b[0m\u001b[1;33m)\u001b[0m\u001b[1;33m\u001b[0m\u001b[0m\n",
      "\u001b[1;32mC:\\github_workspace\\ecoForest\\EnhancedForest.py\u001b[0m in \u001b[0;36mTrainModelLayer\u001b[1;34m(self, X, y, X_test, all_pass_data_mask, y_test, real_y, verbose, feval, max_depth, random_state, min_samples_leaf, criterion, dropout, isFirst, num_class, kfold, n_estimators)\u001b[0m\n\u001b[0;32m    434\u001b[0m         \"\"\"\n\u001b[0;32m    435\u001b[0m \u001b[1;33m\u001b[0m\u001b[0m\n\u001b[1;32m--> 436\u001b[1;33m         \u001b[0mself\u001b[0m\u001b[1;33m.\u001b[0m\u001b[0mfit\u001b[0m\u001b[1;33m(\u001b[0m\u001b[0mX\u001b[0m\u001b[1;33m,\u001b[0m \u001b[0my\u001b[0m\u001b[1;33m,\u001b[0m \u001b[0mX_test\u001b[0m\u001b[1;33m,\u001b[0m \u001b[0mreal_y\u001b[0m\u001b[1;33m,\u001b[0m \u001b[0mverbose\u001b[0m\u001b[1;33m,\u001b[0m \u001b[0mfeval\u001b[0m\u001b[1;33m,\u001b[0m \u001b[0mmax_depth\u001b[0m\u001b[1;33m,\u001b[0m \u001b[0mrandom_state\u001b[0m\u001b[1;33m,\u001b[0m \u001b[0mmin_samples_leaf\u001b[0m\u001b[1;33m,\u001b[0m \u001b[0mcriterion\u001b[0m\u001b[1;33m)\u001b[0m\u001b[1;33m\u001b[0m\u001b[0m\n\u001b[0m\u001b[0;32m    437\u001b[0m         \u001b[1;32mif\u001b[0m \u001b[0misFirst\u001b[0m\u001b[1;33m:\u001b[0m\u001b[1;33m\u001b[0m\u001b[0m\n\u001b[0;32m    438\u001b[0m             \u001b[0mprint\u001b[0m\u001b[1;33m(\u001b[0m\u001b[1;34m\"[train - p:0/1:0|n:%d/1:%d] \"\u001b[0m \u001b[1;33m%\u001b[0m \u001b[1;33m(\u001b[0m\u001b[0mlen\u001b[0m\u001b[1;33m(\u001b[0m\u001b[0mX\u001b[0m\u001b[1;33m)\u001b[0m\u001b[1;33m,\u001b[0m \u001b[0mlen\u001b[0m\u001b[1;33m(\u001b[0m\u001b[0mnp\u001b[0m\u001b[1;33m.\u001b[0m\u001b[0mwhere\u001b[0m\u001b[1;33m(\u001b[0m\u001b[0my\u001b[0m \u001b[1;33m==\u001b[0m \u001b[1;36m1\u001b[0m\u001b[1;33m)\u001b[0m\u001b[1;33m[\u001b[0m\u001b[1;36m0\u001b[0m\u001b[1;33m]\u001b[0m\u001b[1;33m)\u001b[0m\u001b[1;33m)\u001b[0m\u001b[1;33m)\u001b[0m\u001b[1;33m\u001b[0m\u001b[0m\n",
      "\u001b[1;32mC:\\github_workspace\\ecoForest\\EnhancedForest.py\u001b[0m in \u001b[0;36mfit\u001b[1;34m(self, X, y, X_test, real_y, verbose, feval, max_depth, random_state, min_samples_leaf, criterion)\u001b[0m\n\u001b[0;32m    151\u001b[0m     \u001b[1;31m#                                  n_estimators=2, n_jobs=8, oob_score=True, verbose=1, boostrap=False,\u001b[0m\u001b[1;33m\u001b[0m\u001b[1;33m\u001b[0m\u001b[0m\n\u001b[0;32m    152\u001b[0m                                      criterion=criterion)\n\u001b[1;32m--> 153\u001b[1;33m             \u001b[0mclf\u001b[0m \u001b[1;33m=\u001b[0m \u001b[0mclf\u001b[0m\u001b[1;33m.\u001b[0m\u001b[0mfit\u001b[0m\u001b[1;33m(\u001b[0m\u001b[0mX_train\u001b[0m\u001b[1;33m,\u001b[0m \u001b[0my_train\u001b[0m\u001b[1;33m)\u001b[0m\u001b[1;33m\u001b[0m\u001b[0m\n\u001b[0m\u001b[0;32m    154\u001b[0m             \u001b[1;31m# cross_score = cross_val_score(clf, X_valid, y_valid, cv=3, scoring='roc_auc')\u001b[0m\u001b[1;33m\u001b[0m\u001b[1;33m\u001b[0m\u001b[0m\n\u001b[0;32m    155\u001b[0m             \u001b[1;31m# if verbose:\u001b[0m\u001b[1;33m\u001b[0m\u001b[1;33m\u001b[0m\u001b[0m\n",
      "\u001b[1;32mc:\\program files\\python36\\lib\\site-packages\\sklearn\\ensemble\\forest.py\u001b[0m in \u001b[0;36mfit\u001b[1;34m(self, X, y, sample_weight)\u001b[0m\n\u001b[0;32m    325\u001b[0m                     \u001b[0mt\u001b[0m\u001b[1;33m,\u001b[0m \u001b[0mself\u001b[0m\u001b[1;33m,\u001b[0m \u001b[0mX\u001b[0m\u001b[1;33m,\u001b[0m \u001b[0my\u001b[0m\u001b[1;33m,\u001b[0m \u001b[0msample_weight\u001b[0m\u001b[1;33m,\u001b[0m \u001b[0mi\u001b[0m\u001b[1;33m,\u001b[0m \u001b[0mlen\u001b[0m\u001b[1;33m(\u001b[0m\u001b[0mtrees\u001b[0m\u001b[1;33m)\u001b[0m\u001b[1;33m,\u001b[0m\u001b[1;33m\u001b[0m\u001b[0m\n\u001b[0;32m    326\u001b[0m                     verbose=self.verbose, class_weight=self.class_weight)\n\u001b[1;32m--> 327\u001b[1;33m                 for i, t in enumerate(trees))\n\u001b[0m\u001b[0;32m    328\u001b[0m \u001b[1;33m\u001b[0m\u001b[0m\n\u001b[0;32m    329\u001b[0m             \u001b[1;31m# Collect newly grown trees\u001b[0m\u001b[1;33m\u001b[0m\u001b[1;33m\u001b[0m\u001b[0m\n",
      "\u001b[1;32mc:\\program files\\python36\\lib\\site-packages\\sklearn\\externals\\joblib\\parallel.py\u001b[0m in \u001b[0;36m__call__\u001b[1;34m(self, iterable)\u001b[0m\n\u001b[0;32m    787\u001b[0m                 \u001b[1;31m# consumption.\u001b[0m\u001b[1;33m\u001b[0m\u001b[1;33m\u001b[0m\u001b[0m\n\u001b[0;32m    788\u001b[0m                 \u001b[0mself\u001b[0m\u001b[1;33m.\u001b[0m\u001b[0m_iterating\u001b[0m \u001b[1;33m=\u001b[0m \u001b[1;32mFalse\u001b[0m\u001b[1;33m\u001b[0m\u001b[0m\n\u001b[1;32m--> 789\u001b[1;33m             \u001b[0mself\u001b[0m\u001b[1;33m.\u001b[0m\u001b[0mretrieve\u001b[0m\u001b[1;33m(\u001b[0m\u001b[1;33m)\u001b[0m\u001b[1;33m\u001b[0m\u001b[0m\n\u001b[0m\u001b[0;32m    790\u001b[0m             \u001b[1;31m# Make sure that we get a last message telling us we are done\u001b[0m\u001b[1;33m\u001b[0m\u001b[1;33m\u001b[0m\u001b[0m\n\u001b[0;32m    791\u001b[0m             \u001b[0melapsed_time\u001b[0m \u001b[1;33m=\u001b[0m \u001b[0mtime\u001b[0m\u001b[1;33m.\u001b[0m\u001b[0mtime\u001b[0m\u001b[1;33m(\u001b[0m\u001b[1;33m)\u001b[0m \u001b[1;33m-\u001b[0m \u001b[0mself\u001b[0m\u001b[1;33m.\u001b[0m\u001b[0m_start_time\u001b[0m\u001b[1;33m\u001b[0m\u001b[0m\n",
      "\u001b[1;32mc:\\program files\\python36\\lib\\site-packages\\sklearn\\externals\\joblib\\parallel.py\u001b[0m in \u001b[0;36mretrieve\u001b[1;34m(self)\u001b[0m\n\u001b[0;32m    697\u001b[0m             \u001b[1;32mtry\u001b[0m\u001b[1;33m:\u001b[0m\u001b[1;33m\u001b[0m\u001b[0m\n\u001b[0;32m    698\u001b[0m                 \u001b[1;32mif\u001b[0m \u001b[0mgetattr\u001b[0m\u001b[1;33m(\u001b[0m\u001b[0mself\u001b[0m\u001b[1;33m.\u001b[0m\u001b[0m_backend\u001b[0m\u001b[1;33m,\u001b[0m \u001b[1;34m'supports_timeout'\u001b[0m\u001b[1;33m,\u001b[0m \u001b[1;32mFalse\u001b[0m\u001b[1;33m)\u001b[0m\u001b[1;33m:\u001b[0m\u001b[1;33m\u001b[0m\u001b[0m\n\u001b[1;32m--> 699\u001b[1;33m                     \u001b[0mself\u001b[0m\u001b[1;33m.\u001b[0m\u001b[0m_output\u001b[0m\u001b[1;33m.\u001b[0m\u001b[0mextend\u001b[0m\u001b[1;33m(\u001b[0m\u001b[0mjob\u001b[0m\u001b[1;33m.\u001b[0m\u001b[0mget\u001b[0m\u001b[1;33m(\u001b[0m\u001b[0mtimeout\u001b[0m\u001b[1;33m=\u001b[0m\u001b[0mself\u001b[0m\u001b[1;33m.\u001b[0m\u001b[0mtimeout\u001b[0m\u001b[1;33m)\u001b[0m\u001b[1;33m)\u001b[0m\u001b[1;33m\u001b[0m\u001b[0m\n\u001b[0m\u001b[0;32m    700\u001b[0m                 \u001b[1;32melse\u001b[0m\u001b[1;33m:\u001b[0m\u001b[1;33m\u001b[0m\u001b[0m\n\u001b[0;32m    701\u001b[0m                     \u001b[0mself\u001b[0m\u001b[1;33m.\u001b[0m\u001b[0m_output\u001b[0m\u001b[1;33m.\u001b[0m\u001b[0mextend\u001b[0m\u001b[1;33m(\u001b[0m\u001b[0mjob\u001b[0m\u001b[1;33m.\u001b[0m\u001b[0mget\u001b[0m\u001b[1;33m(\u001b[0m\u001b[1;33m)\u001b[0m\u001b[1;33m)\u001b[0m\u001b[1;33m\u001b[0m\u001b[0m\n",
      "\u001b[1;32mc:\\program files\\python36\\lib\\multiprocessing\\pool.py\u001b[0m in \u001b[0;36mget\u001b[1;34m(self, timeout)\u001b[0m\n\u001b[0;32m    600\u001b[0m \u001b[1;33m\u001b[0m\u001b[0m\n\u001b[0;32m    601\u001b[0m     \u001b[1;32mdef\u001b[0m \u001b[0mget\u001b[0m\u001b[1;33m(\u001b[0m\u001b[0mself\u001b[0m\u001b[1;33m,\u001b[0m \u001b[0mtimeout\u001b[0m\u001b[1;33m=\u001b[0m\u001b[1;32mNone\u001b[0m\u001b[1;33m)\u001b[0m\u001b[1;33m:\u001b[0m\u001b[1;33m\u001b[0m\u001b[0m\n\u001b[1;32m--> 602\u001b[1;33m         \u001b[0mself\u001b[0m\u001b[1;33m.\u001b[0m\u001b[0mwait\u001b[0m\u001b[1;33m(\u001b[0m\u001b[0mtimeout\u001b[0m\u001b[1;33m)\u001b[0m\u001b[1;33m\u001b[0m\u001b[0m\n\u001b[0m\u001b[0;32m    603\u001b[0m         \u001b[1;32mif\u001b[0m \u001b[1;32mnot\u001b[0m \u001b[0mself\u001b[0m\u001b[1;33m.\u001b[0m\u001b[0mready\u001b[0m\u001b[1;33m(\u001b[0m\u001b[1;33m)\u001b[0m\u001b[1;33m:\u001b[0m\u001b[1;33m\u001b[0m\u001b[0m\n\u001b[0;32m    604\u001b[0m             \u001b[1;32mraise\u001b[0m \u001b[0mTimeoutError\u001b[0m\u001b[1;33m\u001b[0m\u001b[0m\n",
      "\u001b[1;32mc:\\program files\\python36\\lib\\multiprocessing\\pool.py\u001b[0m in \u001b[0;36mwait\u001b[1;34m(self, timeout)\u001b[0m\n\u001b[0;32m    597\u001b[0m \u001b[1;33m\u001b[0m\u001b[0m\n\u001b[0;32m    598\u001b[0m     \u001b[1;32mdef\u001b[0m \u001b[0mwait\u001b[0m\u001b[1;33m(\u001b[0m\u001b[0mself\u001b[0m\u001b[1;33m,\u001b[0m \u001b[0mtimeout\u001b[0m\u001b[1;33m=\u001b[0m\u001b[1;32mNone\u001b[0m\u001b[1;33m)\u001b[0m\u001b[1;33m:\u001b[0m\u001b[1;33m\u001b[0m\u001b[0m\n\u001b[1;32m--> 599\u001b[1;33m         \u001b[0mself\u001b[0m\u001b[1;33m.\u001b[0m\u001b[0m_event\u001b[0m\u001b[1;33m.\u001b[0m\u001b[0mwait\u001b[0m\u001b[1;33m(\u001b[0m\u001b[0mtimeout\u001b[0m\u001b[1;33m)\u001b[0m\u001b[1;33m\u001b[0m\u001b[0m\n\u001b[0m\u001b[0;32m    600\u001b[0m \u001b[1;33m\u001b[0m\u001b[0m\n\u001b[0;32m    601\u001b[0m     \u001b[1;32mdef\u001b[0m \u001b[0mget\u001b[0m\u001b[1;33m(\u001b[0m\u001b[0mself\u001b[0m\u001b[1;33m,\u001b[0m \u001b[0mtimeout\u001b[0m\u001b[1;33m=\u001b[0m\u001b[1;32mNone\u001b[0m\u001b[1;33m)\u001b[0m\u001b[1;33m:\u001b[0m\u001b[1;33m\u001b[0m\u001b[0m\n",
      "\u001b[1;32mc:\\program files\\python36\\lib\\threading.py\u001b[0m in \u001b[0;36mwait\u001b[1;34m(self, timeout)\u001b[0m\n\u001b[0;32m    549\u001b[0m             \u001b[0msignaled\u001b[0m \u001b[1;33m=\u001b[0m \u001b[0mself\u001b[0m\u001b[1;33m.\u001b[0m\u001b[0m_flag\u001b[0m\u001b[1;33m\u001b[0m\u001b[0m\n\u001b[0;32m    550\u001b[0m             \u001b[1;32mif\u001b[0m \u001b[1;32mnot\u001b[0m \u001b[0msignaled\u001b[0m\u001b[1;33m:\u001b[0m\u001b[1;33m\u001b[0m\u001b[0m\n\u001b[1;32m--> 551\u001b[1;33m                 \u001b[0msignaled\u001b[0m \u001b[1;33m=\u001b[0m \u001b[0mself\u001b[0m\u001b[1;33m.\u001b[0m\u001b[0m_cond\u001b[0m\u001b[1;33m.\u001b[0m\u001b[0mwait\u001b[0m\u001b[1;33m(\u001b[0m\u001b[0mtimeout\u001b[0m\u001b[1;33m)\u001b[0m\u001b[1;33m\u001b[0m\u001b[0m\n\u001b[0m\u001b[0;32m    552\u001b[0m             \u001b[1;32mreturn\u001b[0m \u001b[0msignaled\u001b[0m\u001b[1;33m\u001b[0m\u001b[0m\n\u001b[0;32m    553\u001b[0m \u001b[1;33m\u001b[0m\u001b[0m\n",
      "\u001b[1;32mc:\\program files\\python36\\lib\\threading.py\u001b[0m in \u001b[0;36mwait\u001b[1;34m(self, timeout)\u001b[0m\n\u001b[0;32m    293\u001b[0m         \u001b[1;32mtry\u001b[0m\u001b[1;33m:\u001b[0m    \u001b[1;31m# restore state no matter what (e.g., KeyboardInterrupt)\u001b[0m\u001b[1;33m\u001b[0m\u001b[0m\n\u001b[0;32m    294\u001b[0m             \u001b[1;32mif\u001b[0m \u001b[0mtimeout\u001b[0m \u001b[1;32mis\u001b[0m \u001b[1;32mNone\u001b[0m\u001b[1;33m:\u001b[0m\u001b[1;33m\u001b[0m\u001b[0m\n\u001b[1;32m--> 295\u001b[1;33m                 \u001b[0mwaiter\u001b[0m\u001b[1;33m.\u001b[0m\u001b[0macquire\u001b[0m\u001b[1;33m(\u001b[0m\u001b[1;33m)\u001b[0m\u001b[1;33m\u001b[0m\u001b[0m\n\u001b[0m\u001b[0;32m    296\u001b[0m                 \u001b[0mgotit\u001b[0m \u001b[1;33m=\u001b[0m \u001b[1;32mTrue\u001b[0m\u001b[1;33m\u001b[0m\u001b[0m\n\u001b[0;32m    297\u001b[0m             \u001b[1;32melse\u001b[0m\u001b[1;33m:\u001b[0m\u001b[1;33m\u001b[0m\u001b[0m\n",
      "\u001b[1;31mKeyboardInterrupt\u001b[0m: "
     ]
    }
   ],
   "source": [
    "\n",
    "# coding: utf-8\n",
    "\n",
    "# In[1]:\n",
    "\n",
    "\n",
    "import pandas as pd\n",
    "\n",
    "\n",
    "# In[2]:\n",
    "\n",
    "\n",
    "df = pd.read_csv(\"./datasetes/credit/creditcard.csv\", low_memory=False)\n",
    "# df = pd.read_csv('creditcard.csv', low_memory=False)\n",
    "df = df.sample(frac=1, random_state=1).reset_index(drop=True)\n",
    "df.head()\n",
    "\n",
    "\n",
    "# In[3]:\n",
    "\n",
    "\n",
    "frauds = df.loc[df['Class'] == 1]\n",
    "non_frauds = df.loc[df['Class'] == 0]\n",
    "print(\"We have\", len(frauds), \"fraud data points and\", len(non_frauds), \"nonfraudulent data points.\")\n",
    "\n",
    "\n",
    "# In[4]:\n",
    "\n",
    "\n",
    "from sklearn import datasets, linear_model\n",
    "from sklearn.preprocessing import PolynomialFeatures\n",
    "from sklearn.model_selection import train_test_split\n",
    "\n",
    "\n",
    "# In[5]:\n",
    "\n",
    "\n",
    "X = df.iloc[:,:-1]\n",
    "y = df['Class']\n",
    "\n",
    "print(\"X and y sizes, respectively:\", len(X), len(y))\n",
    "\n",
    "X_train, X_test, y_train, y_test = train_test_split(X, y, test_size=0.35, random_state=500)\n",
    "print(\"Train and test sizes, respectively:\", len(X_train), len(y_train), \"|\", len(X_test), len(y_test))\n",
    "print(\"Total number of frauds:\", len(y.loc[df['Class'] == 1]), len(y.loc[df['Class'] == 1])/len(y))\n",
    "print(\"Number of frauds on y_test:\", len(y_test.loc[df['Class'] == 1]), len(y_test.loc[df['Class'] == 1]) / len(y_test))\n",
    "print(\"Number of frauds on y_train:\", len(y_train.loc[df['Class'] == 1]), len(y_train.loc[df['Class'] == 1])/len(y_train))\n",
    "\n",
    "X_train = X_train.values\n",
    "X_test = X_test.values\n",
    "y_train = y_train.values\n",
    "y_test = y_test.values\n",
    "\n",
    "\n",
    "# In[6]:\n",
    "\n",
    "\n",
    "X_train[0], y_train[0]\n",
    "\n",
    "\n",
    "# In[7]:\n",
    "\n",
    "\n",
    "X_test[0], y_test[0]\n",
    "\n",
    "\n",
    "# In[ ]:\n",
    "\n",
    "\n",
    "\n",
    "\n",
    "\n",
    "# In[ ]:\n",
    "\n",
    "\n",
    "\n",
    "\n",
    "\n",
    "# In[50]:\n",
    "\n",
    "\n",
    "(99683-176)/176\n",
    "\n",
    "\n",
    "# In[ ]:\n",
    "\n",
    "\n",
    "\n",
    "\n",
    "\n",
    "# In[258]:\n",
    "\n",
    "\n",
    "import EnhancedForest\n",
    "import EnhancedDTree\n",
    "import time\n",
    "import datetime\n",
    "import importlib\n",
    "import numpy as np\n",
    "importlib.reload(EnhancedForest)\n",
    "importlib.reload(EnhancedDTree)\n",
    "\n",
    "\n",
    "# In[259]:\n",
    "\n",
    "\n",
    "from sklearn import metrics\n",
    "def acc_metrix_mult(a, p):\n",
    "#     print(p)\n",
    "    return \"acc\", metrics.accuracy_score(a, p)\n",
    "def roc_metrix_mult(a, p, labels=[0,1]):\n",
    "# #     print(p)\n",
    "    if len(set(a)) == 1:\n",
    "#         return \"acc\", metrics.accuracy_score(a, p)\n",
    "        return \"mean\", np.mean(p), set(a)\n",
    "#         return \"acc\", len(a) - len(np.where(a == p)[0])\n",
    "#     if type(p) == np.float64 or type(p) == float or type(p) == np.int64 or type(p) == int:\n",
    "    if len(p.shape) == 1:\n",
    "        print(type(p), p.shape)\n",
    "        return \"roc\", metrics.roc_auc_score(a, p)\n",
    "#     elif len(p[0]) == 2:\n",
    "    elif len(p.shape) == 2:\n",
    "        p = [i[1] for i in p]\n",
    "        return \"roc\", metrics.roc_auc_score(a, p)\n",
    "    else:\n",
    "        print(type(p), p.shape, \"error\")\n",
    "def confusion_matrix_mult(a, p):\n",
    "    if len(set(a)) == 1:\n",
    "        return len(a), len(a) - len(np.where(a == p)[0])\n",
    "    return metrics.confusion_matrix(a, p)\n",
    "\n",
    "\n",
    "# In[ ]:\n",
    "\n",
    "\n",
    "\n",
    "\n",
    "\n",
    "# In[ ]:\n",
    "\n",
    "\n",
    "### stackplot\n",
    "pass_data_len = []\n",
    "pass_data_pos_len = []\n",
    "### stackplot\n",
    "\n",
    "# 统计信息\n",
    "train_loss_lt = []\n",
    "pass_train_loss_lt = []\n",
    "pass_train_loss_lt_now = []\n",
    "vaild_loss_lt = []\n",
    "pass_vaild_loss_lt = []\n",
    "pass_vaild_loss_lt_now = []\n",
    "test_loss_lt = []\n",
    "pass_test_loss_lt = []\n",
    "pass_test_loss_lt_now = []\n",
    "pass_data_rate_lt = []\n",
    "pass_data_rate_train_lt = []\n",
    "\n",
    "# 数据\n",
    "X = X_train.copy()\n",
    "y = y_train.copy()\n",
    "\n",
    "X_test = X_test.copy()\n",
    "test_y = np.array(([0.0] * len(X_test)))\n",
    "all_pass_data_mask = np.array([False] * len(X_test))\n",
    "# data_mask = np.array([False] * len(X_test))\n",
    "real_y = y_test.copy()\n",
    "\n",
    "# 不均衡数据进行layer\n",
    "X_train_np = X\n",
    "y_train_np = y\n",
    "maxlayer = 100\n",
    "maxlayer = 10\n",
    "layer = 0\n",
    "\n",
    "# 不降低不更新\n",
    "last_train_loss = 0\n",
    "last_vaild_loss = 0\n",
    "\n",
    "enhancedDTree = EnhancedForest.EnhancedForest(len(X_train), len(X_test), isLRStacker=False)\n",
    "counter = 0\n",
    "early_stop = 0\n",
    "early_stop_up = 0\n",
    "tmp_test_loss = 0\n",
    "\n",
    "while 1:\n",
    "    layer += 1\n",
    "    print()\n",
    "    print(\"layer:\", layer)\n",
    "    X = X_train_np\n",
    "    y = y_train_np\n",
    "    if layer == 1: isFirst = True\n",
    "    else: isFirst = False\n",
    "        \n",
    "    clf, now_pass_data_mask, p_test =         enhancedDTree.TrainModelLayer(X, y, X_test, all_pass_data_mask, test_y, real_y, verbose=False,                                       feval=roc_metrix_mult, dropout=0.8, criterion='gini', random_state=layer,                                       isFirst=isFirst, min_samples_leaf=10                                     )\n",
    "    feval=roc_metrix_mult\n",
    "    train_loss = enhancedDTree.getTrainLoss(feval)\n",
    "    pass_train_loss = enhancedDTree.getPassTrainLoss(feval)\n",
    "    pass_train_loss_now = enhancedDTree.getPassTrainLossNow(feval)\n",
    "    vaild_loss = enhancedDTree.getVaildLoss(feval)\n",
    "    pass_vaild_loss = enhancedDTree.getPassVaildLoss(feval)\n",
    "    pass_vaild_loss_now = enhancedDTree.getPassVaildLossNow(feval)\n",
    "    test_loss = enhancedDTree.getTestLoss(feval)\n",
    "    pass_test_loss = enhancedDTree.getPassTestLoss(feval)\n",
    "    pass_test_loss_now = enhancedDTree.getPassTestLossNow(feval)\n",
    "    \n",
    "#     if train_loss[1] < last_train_loss and vaild_loss[1] < last_vaild_loss: \n",
    "# #     if vaild_loss[1] < last_vaild_loss: \n",
    "#         if not isFirst: enhancedDTree.remove_last_items()\n",
    "# #         early_stop_up += 1\n",
    "#         if layer > maxlayer or early_stop > 5 or early_stop_up > 15:\n",
    "#             break\n",
    "#         continue\n",
    "        \n",
    "    last_train_loss = train_loss[1]\n",
    "    last_vaild_loss = vaild_loss[1]\n",
    "    \n",
    "    \n",
    "    # 打印信息\n",
    "#     all_false_data_index = np.where(all_pass_data_mask == False)[0]\n",
    "#     X_test_np = X_test[all_np_data_index]\n",
    "    \n",
    "    X_train_np = enhancedDTree.X_train_np\n",
    "    y_train_np = enhancedDTree.y_train_np\n",
    "    X_train_pass_lt = enhancedDTree.pass_data_x_list\n",
    "    y_train_pass_lt = enhancedDTree.pass_data_y_list\n",
    "    y_train_pass_all = np.array([i for j in y_train_pass_lt for i in j])\n",
    "    if layer != 1:\n",
    "        print(\"%d [train - now p:%d/1:%d | all p:%d/1:%d | np:%d/1:%d] \" % (layer,  \n",
    "                                    len(y_train_pass_lt[-1]), len(np.where(y_train_pass_lt[-1] == 1)[0]), \n",
    "                                    len(y_train_pass_all), len(np.where(y_train_pass_all == 1)[0]), \n",
    "                                    len(y_train_np), len(np.where(y_train_np == 1)[0]) ))\n",
    "    \n",
    "    now_pass_test_data_id = np.where(now_pass_data_mask==True)[0]\n",
    "    now_np_test_data_id = np.where(now_pass_data_mask==False)[0]\n",
    "    last_pass_test_data_id = np.where(all_pass_data_mask==True)[0]\n",
    "    all_pass_test_data_id = np.hstack((now_pass_test_data_id, last_pass_test_data_id))\n",
    "    now_test_y = real_y[~all_pass_data_mask]\n",
    "    print(\"%d [test - now p:%d/1:%d | all p:%d/1:%d | np:%d/1:%d] \" % (layer,  \n",
    "                                    len(now_pass_test_data_id), len(np.where(now_test_y[now_pass_test_data_id] == 1)[0]), \n",
    "                                    len(all_pass_test_data_id), len(np.where(real_y[all_pass_test_data_id] == 1)[0]), \n",
    "                                    len(now_np_test_data_id), len(np.where(now_test_y[now_np_test_data_id] == 1)[0]) ))\n",
    "    \n",
    "    print(all_pass_test_data_id.shape, now_np_test_data_id.shape, all_pass_test_data_id.shape[0] + now_np_test_data_id.shape[0])\n",
    "#     print(np.where(now_test_y[now_np_test_data_id] == 1)[0], len(np.where(now_test_y[now_np_test_data_id] == 1)[0]))\n",
    "\n",
    "    #len(pass_data_id),\n",
    "#                                       len(np.where(real_y[data_mask] == 1)[0]), \\\n",
    "#                                       len(X_test_np) - len(pass_data_id), \\\n",
    "#                                       len(np.where(real_y[np_data_id] == 1)[0])   ))#, end=\"\")\n",
    "    ### stackplot\n",
    "#     pass_data_len.append(len(pass_data_id))\n",
    "#     pass_data_pos_len.append(len(np.where(y_train_np == 1)[0]))\n",
    "    ### stackplot\n",
    "    if len(now_pass_test_data_id) == 0: early_stop += 1\n",
    "        \n",
    "    print(\"train loss\", train_loss)\n",
    "    print(\"pass train loss\", pass_train_loss)\n",
    "    print(\"pass train loss now\", pass_train_loss_now)\n",
    "    print(\"vaild loss\", vaild_loss)\n",
    "    print(\"pass vaild loss\", pass_vaild_loss)\n",
    "    print(\"pass vaild loss now\", pass_vaild_loss_now)\n",
    "    print(\"test loss\", test_loss)\n",
    "    print(\"pass test loss\", pass_test_loss)\n",
    "    print(\"pass test loss now\", pass_test_loss_now)\n",
    "    \n",
    "    ts = time.time()\n",
    "    tm = datetime.datetime.fromtimestamp(ts).strftime('%Y-%m-%d %H:%M:%S')\n",
    "    print(tm)\n",
    "    \n",
    "    \n",
    "#     tmp_all_data_mask = all_false_data_index[~now_pass_data_mask]\n",
    "#     test_y[tmp_all_data_mask] = p_test[~now_pass_data_mask]\n",
    "    if tmp_test_loss < metrics.roc_auc_score(y_test, test_y):\n",
    "        tmp_test_loss =  metrics.roc_auc_score(y_test, test_y)\n",
    "#     tmp_test_loss = metrics.accuracy_score(y_sub, test_y)\n",
    "        best_test_y = test_y.copy()\n",
    "    print(\"best test loss:\", tmp_test_loss)\n",
    "    \n",
    "    train_loss_lt.append(train_loss[1])\n",
    "    pass_train_loss_lt.append(pass_train_loss[1])\n",
    "    pass_train_loss_lt_now.append(pass_train_loss_now[1])\n",
    "    vaild_loss_lt.append(vaild_loss[1])\n",
    "    pass_vaild_loss_lt.append(pass_vaild_loss[1])\n",
    "    pass_vaild_loss_lt_now.append(pass_vaild_loss_now[1])\n",
    "    test_loss_lt.append(test_loss[1])\n",
    "    pass_test_loss_lt.append(pass_test_loss[1])\n",
    "    pass_test_loss_lt_now.append(pass_test_loss_now[1])\n",
    "    \n",
    "    \n",
    "#     if len(pass_data_rate_lt) == 0:\n",
    "#         pass_data_rate_lt.append(len(now_pass_data_mask[now_pass_data_mask==True])/len(X_test))\n",
    "#         pass_data_rate_train_lt.append(0)\n",
    "#     else:\n",
    "#         pass_data_rate_lt.append(pass_data_rate_lt[-1]+len(now_pass_data_mask[now_pass_data_mask==True])/len(X_test))\n",
    "#         pass_data_rate_train_lt.append(pass_data_rate_train_lt[-1]+len(enhancedDTree.pass_data_y_list[-1])/len(X_train))\n",
    "    # 打印信息结束\n",
    "    \n",
    "#     if X_train_np.shape[0] < 10 or layer > maxlayer or y_train_np[y_train_np==1].shape[0] <= 10 or early_stop > 5:\n",
    "#     if layer > maxlayer or early_stop > 5:\n",
    "#         break\n",
    "        \n",
    "    all_pass_data_mask[~all_pass_data_mask] = now_pass_data_mask\n",
    "    \n",
    "#     if layer == 2: break\n",
    "    if layer > 100: break\n"
   ]
  },
  {
   "cell_type": "code",
   "execution_count": 12,
   "metadata": {},
   "outputs": [
    {
     "data": {
      "text/plain": [
       "10"
      ]
     },
     "execution_count": 12,
     "metadata": {},
     "output_type": "execute_result"
    }
   ],
   "source": [
    "10"
   ]
  },
  {
   "cell_type": "code",
   "execution_count": 13,
   "metadata": {},
   "outputs": [
    {
     "data": {
      "text/plain": [
       "20"
      ]
     },
     "execution_count": 13,
     "metadata": {},
     "output_type": "execute_result"
    }
   ],
   "source": [
    "20"
   ]
  },
  {
   "cell_type": "code",
   "execution_count": 14,
   "metadata": {},
   "outputs": [
    {
     "data": {
      "text/plain": [
       "30"
      ]
     },
     "execution_count": 14,
     "metadata": {},
     "output_type": "execute_result"
    }
   ],
   "source": [
    "30"
   ]
  },
  {
   "cell_type": "code",
   "execution_count": 21,
   "metadata": {},
   "outputs": [
    {
     "ename": "NameError",
     "evalue": "name '_5' is not defined",
     "output_type": "error",
     "traceback": [
      "\u001b[1;31m---------------------------------------------------------------------------\u001b[0m",
      "\u001b[1;31mNameError\u001b[0m                                 Traceback (most recent call last)",
      "\u001b[1;32m<ipython-input-21-3e045bdb7718>\u001b[0m in \u001b[0;36m<module>\u001b[1;34m()\u001b[0m\n\u001b[1;32m----> 1\u001b[1;33m \u001b[0m_5\u001b[0m\u001b[1;33m\u001b[0m\u001b[0m\n\u001b[0m",
      "\u001b[1;31mNameError\u001b[0m: name '_5' is not defined"
     ]
    }
   ],
   "source": [
    "_5"
   ]
  },
  {
   "cell_type": "code",
   "execution_count": 118,
   "metadata": {},
   "outputs": [
    {
     "data": {
      "text/plain": [
       "(6.7999999999999998, 5.5999999999999996)"
      ]
     },
     "execution_count": 118,
     "metadata": {},
     "output_type": "execute_result"
    }
   ],
   "source": [
    "np.mean(np.array([5,7,7,7,8])), np.mean(np.array([8,1,10,2,7]))"
   ]
  },
  {
   "cell_type": "code",
   "execution_count": 150,
   "metadata": {},
   "outputs": [
    {
     "data": {
      "text/plain": [
       "(6.5999999999999996, 5.2000000000000002)"
      ]
     },
     "execution_count": 150,
     "metadata": {},
     "output_type": "execute_result"
    }
   ],
   "source": [
    "np.mean(np.array([5,7,6,7,8])), np.mean(np.array([3,8,6,2,7]))"
   ]
  },
  {
   "cell_type": "code",
   "execution_count": 149,
   "metadata": {},
   "outputs": [
    {
     "data": {
      "text/plain": [
       "(5.0, 4.4000000000000004)"
      ]
     },
     "execution_count": 149,
     "metadata": {},
     "output_type": "execute_result"
    }
   ],
   "source": [
    "np.mean(np.array([5,3,2,7,8])), np.mean(np.array([3,8,6,2,3]))"
   ]
  },
  {
   "cell_type": "code",
   "execution_count": null,
   "metadata": {
    "collapsed": true
   },
   "outputs": [],
   "source": []
  },
  {
   "cell_type": "code",
   "execution_count": null,
   "metadata": {
    "collapsed": true
   },
   "outputs": [],
   "source": []
  },
  {
   "cell_type": "code",
   "execution_count": 127,
   "metadata": {
    "scrolled": false
   },
   "outputs": [
    {
     "data": {
      "image/png": "[encoded data removed]",
      "text/plain": [
       "<matplotlib.figure.Figure at 0x24624b9db38>"
      ]
     },
     "metadata": {},
     "output_type": "display_data"
    }
   ],
   "source": [
    "train_gcforest_auc = []\n",
    "test_gcforest_auc = []\n",
    "for line in test_str.split(\"\\n\"):\n",
    "    if line.startswith(\"rxz\"):\n",
    "        train_gcforest_auc.append(line.split(\" \")[2])\n",
    "        test_gcforest_auc.append(line.split(\" \")[4])\n",
    "#         print(line.split(\" \")[2], line.split(\" \")[4])\n",
    "        \n",
    "plt.figure(figsize=(5,5))\n",
    "plt.plot(list(range(len(test_gcforest_auc))),train_gcforest_auc[:], label=\"vaild-auc\", color=\"blue\")\n",
    "# plt.plot(list(range(20)),vaild_auc[:-1], label=\"vaild-auc\", color=\"green\")\n",
    "plt.plot(list(range(len(test_gcforest_auc))),test_gcforest_auc[:], label=\"test-auc\", color=\"red\")\n",
    "plt.legend()\n",
    "plt.savefig(\"./output/gcforest_1.pdf\", bbox_inches ='tight' )\n",
    "plt.show()"
   ]
  },
  {
   "cell_type": "code",
   "execution_count": null,
   "metadata": {
    "collapsed": true
   },
   "outputs": [],
   "source": []
  },
  {
   "cell_type": "code",
   "execution_count": null,
   "metadata": {
    "collapsed": true
   },
   "outputs": [],
   "source": []
  },
  {
   "cell_type": "code",
   "execution_count": null,
   "metadata": {
    "collapsed": true
   },
   "outputs": [],
   "source": []
  },
  {
   "cell_type": "code",
   "execution_count": 26,
   "metadata": {},
   "outputs": [
    {
     "name": "stdout",
     "output_type": "stream",
     "text": [
      "0 0.968086907515\n",
      "1 0.964491825197\n",
      "2 0.962330683959\n",
      "3 0.960110594725\n",
      "4 0.963845385175\n",
      "5 0.965859694822\n",
      "6 0.96032982053\n",
      "7 0.973263922136\n",
      "8 0.962367101949\n",
      "9 0.958123287954\n",
      "10 0.95751036684\n",
      "11 0.965249286246\n"
     ]
    }
   ],
   "source": [
    "str = '''\n",
    "train_avg_acc: 0.956979964512 test_avg_acc: 0.968086907515\n",
    "train_avg_acc: 0.961189436494 test_avg_acc: 0.964491825197\n",
    "train_avg_acc: 0.956283030157 test_avg_acc: 0.962330683959\n",
    "train_avg_acc: 0.962690710486 test_avg_acc: 0.960110594725\n",
    "train_avg_acc: 0.954813549246 test_avg_acc: 0.963845385175\n",
    "train_avg_acc: 0.959164279204 test_avg_acc: 0.965859694822\n",
    "train_avg_acc: 0.959177195416 test_avg_acc: 0.96032982053\n",
    "train_avg_acc: 0.965607269663 test_avg_acc: 0.973263922136\n",
    "train_avg_acc: 0.962932453099 test_avg_acc: 0.962367101949\n",
    "train_avg_acc: 0.961088672587 test_avg_acc: 0.958123287954\n",
    "train_avg_acc: 0.957572609183 test_avg_acc: 0.95751036684\n",
    "train_avg_acc: 0.955802145627 test_avg_acc: 0.965249286246\n",
    "'''\n",
    "for index, line in enumerate(str.split(\"\\n\")[1:-1]):\n",
    "    print(index, line.split(\" \")[-1])"
   ]
  },
  {
   "cell_type": "code",
   "execution_count": 37,
   "metadata": {},
   "outputs": [
    {
     "name": "stdout",
     "output_type": "stream",
     "text": [
      "0 0.973421687407\n",
      "1 0.966320980152\n",
      "2 0.959875244503\n",
      "3 0.96658971123\n",
      "4 0.967833472544\n"
     ]
    }
   ],
   "source": [
    "str = '''\n",
    "rxz, train_avg_acc: 0.964823063607 test_avg_acc: 0.973421687407\n",
    "rxz, train_avg_acc: 0.964208225742 test_avg_acc: 0.966320980152\n",
    "rxz, train_avg_acc: 0.951432434074 test_avg_acc: 0.959875244503\n",
    "rxz, train_avg_acc: 0.960919967661 test_avg_acc: 0.96658971123\n",
    "rxz, train_avg_acc: 0.959001552389 test_avg_acc: 0.967833472544\n",
    "'''\n",
    "for index, line in enumerate(str.split(\"\\n\")[1:-1]):\n",
    "    print(index, line.split(\" \")[-1])"
   ]
  },
  {
   "cell_type": "code",
   "execution_count": null,
   "metadata": {
    "collapsed": true
   },
   "outputs": [],
   "source": []
  },
  {
   "cell_type": "code",
   "execution_count": 96,
   "metadata": {},
   "outputs": [
    {
     "data": {
      "image/png": "[encoded data removed]",
      "text/plain": [
       "<matplotlib.figure.Figure at 0x246243ca048>"
      ]
     },
     "metadata": {},
     "output_type": "display_data"
    }
   ],
   "source": [
    "# DBRF - 1\n",
    "train_auc = [0.99808222181185136,0.99767468041975593,0.99753003630153703,0.99751546192737117,0.99752017459925713,0.9975173644504659,0.9975045355103318,0.99747596275523054,0.99748074524447772,0.99749151457245422]\n",
    "vaild_auc = [0.96642982290477231,0.96478448951465423,0.97043721726150478,0.96584054692128141,0.96999050832973488,0.97039815444787214,0.96962195993391087,0.97031779466504597,0.97035217971547327,0.96927015897762248]\n",
    "test_auc = [0.97407881261561124,0.97610968844423784,0.97618125434931302,0.97619158060259148,0.97620113376738937,0.97619036574926465,0.9762023486207162,0.97615612897368853,0.97618810170442816,0.97618307662930326]\n",
    "\n",
    "import matplotlib.pyplot as plt\n",
    "\n",
    "plt.figure(figsize=(5,5))\n",
    "plt.plot(list(range(10)),train_auc[:], label=\"train-auc\", color=\"blue\")\n",
    "plt.plot(list(range(10)),vaild_auc[:], label=\"vaild-auc\", color=\"green\")\n",
    "plt.plot(list(range(10)),test_auc[:], label=\"test-auc\", color=\"red\")\n",
    "plt.legend()\n",
    "plt.savefig(\"./output/dbrf_1.pdf\")\n",
    "plt.show()"
   ]
  },
  {
   "cell_type": "code",
   "execution_count": 151,
   "metadata": {},
   "outputs": [
    {
     "data": {
      "image/png": "[encoded data removed]",
      "text/plain": [
       "<matplotlib.figure.Figure at 0x246246e6828>"
      ]
     },
     "metadata": {},
     "output_type": "display_data"
    }
   ],
   "source": [
    "log = \"\"\"\n",
    "2018-03-23 22:53:18\n",
    "\n",
    "layer: 1\n",
    "index_train: <generator object _BaseKFold.split at 0x000001B2AA4C7D58>\n",
    "[train - p:0/1:0|n:185124/1:310] \n",
    "test loss: y_true 99683 99683, y_pred:99683 99683\n",
    "1 [test - now p:0/1:0 | all p:0/1:0 | np:99683/1:182] \n",
    "(0,) (99683,) 99683\n",
    "train loss ('roc', 0.99763046857572923)\n",
    "pass train loss (0, 0)\n",
    "pass train loss now (0, 0)\n",
    "vaild loss ('roc', 0.96105448826143258)\n",
    "pass vaild loss (0, 0)\n",
    "pass vaild loss now (0, 0)\n",
    "test loss ('roc', 0.97212193239871347)\n",
    "pass test loss (0, 0)\n",
    "pass test loss now (0, 0)\n",
    "2018-03-23 22:53:48\n",
    "best test loss: 0.972121932399\n",
    "\n",
    "layer: 2\n",
    "index_train: <generator object _BaseKFold.split at 0x000001B2AAAE5D00>\n",
    "[train - p:180543/1:19|n:4581/1:291] test loss: y_true 2399 99683, y_pred:2399 99683\n",
    "2 [train - now p:180543/1:19 | all p:180543/1:19 | np:4581/1:291] \n",
    "2 [test - now p:97284/1:21 | all p:97284/1:21 | np:2399/1:161] \n",
    "(97284,) (2399,) 99683\n",
    "train loss ('roc', 0.99842807956526125)\n",
    "pass train loss ('roc', 0.98997421541267583)\n",
    "pass train loss now ('roc', 0.98997421541267583)\n",
    "vaild loss ('roc', 0.95977547783874773)\n",
    "pass vaild loss ('roc', 0.49672284425806046)\n",
    "pass vaild loss now ('roc', 0.49672284425806046)\n",
    "test loss ('roc', 0.9766042994101003)\n",
    "pass test loss ('roc', 0.81682458410505043)\n",
    "pass test loss now ('roc', 0.81682458410505043)\n",
    "2018-03-23 22:54:25\n",
    "best test loss: 0.97660429941\n",
    "\n",
    "layer: 3\n",
    "index_train: <generator object _BaseKFold.split at 0x000001B2AAAE5938>\n",
    "[train - p:911/1:0|n:3670/1:291] test loss: y_true 1973 99683, y_pred:1973 99683\n",
    "3 [train - now p:911/1:0 | all p:181454/1:19 | np:3670/1:291] \n",
    "3 [test - now p:426/1:0 | all p:97710/1:22 | np:1973/1:161] \n",
    "(97710,) (1973,) 99683\n",
    "train loss ('roc', 0.99831363145579322)\n",
    "pass train loss ('roc', 0.98846708912717773)\n",
    "pass train loss now ('mean', 0.0043501324445967549, {0})\n",
    "vaild loss ('roc', 0.96713072812176992)\n",
    "pass vaild loss ('roc', 0.49442398539131743)\n",
    "pass vaild loss now ('mean', 0.0044179740749123644, {0})\n",
    "test loss ('roc', 0.97656376748546669)\n",
    "pass test loss ('roc', 0.81357505280362519)\n",
    "pass test loss now ('mean', 0.0047968679062005857, {0})\n",
    "2018-03-23 22:54:27\n",
    "best test loss: 0.97660429941\n",
    "\n",
    "layer: 4\n",
    "index_train: <generator object _BaseKFold.split at 0x000001B2AA4C7D58>\n",
    "[train - p:284/1:0|n:3386/1:291] test loss: y_true 1833 99683, y_pred:1833 99683\n",
    "4 [train - now p:284/1:0 | all p:181738/1:19 | np:3386/1:291] \n",
    "4 [test - now p:140/1:0 | all p:97850/1:21 | np:1833/1:161] \n",
    "(97850,) (1833,) 99683\n",
    "train loss ('roc', 0.99828277218211015)\n",
    "pass train loss ('roc', 0.98774829037661105)\n",
    "pass train loss now ('mean', 0.0067937099005262189, {0})\n",
    "vaild loss ('roc', 0.96724107446126317)\n",
    "pass vaild loss ('roc', 0.49367009967094944)\n",
    "pass vaild loss now ('mean', 0.0071648496844543968, {0})\n",
    "test loss ('roc', 0.97656420925031295)\n",
    "pass test loss ('roc', 0.81251104332194812)\n",
    "pass test loss now ('mean', 0.0061199597683098701, {0})\n",
    "2018-03-23 22:54:28\n",
    "best test loss: 0.97660429941\n",
    "\n",
    "layer: 5\n",
    "index_train: <generator object _BaseKFold.split at 0x000001B2AA4C7D58>\n",
    "[train - p:188/1:0|n:3198/1:291] test loss: y_true 1731 99683, y_pred:1731 99683\n",
    "5 [train - now p:188/1:0 | all p:181926/1:19 | np:3198/1:291] \n",
    "5 [test - now p:102/1:0 | all p:97952/1:21 | np:1731/1:161] \n",
    "(97952,) (1731,) 99683\n",
    "train loss ('roc', 0.99826954179214877)\n",
    "pass train loss ('roc', 0.98719299306499297)\n",
    "pass train loss now ('mean', 0.0078420180074129046, {0})\n",
    "vaild loss ('roc', 0.96486131479356563)\n",
    "pass vaild loss ('roc', 0.4931749393053072)\n",
    "pass vaild loss now ('mean', 0.0083762939330641311, {0})\n",
    "test loss ('roc', 0.97654101659589032)\n",
    "pass test loss ('roc', 0.81169103027350153)\n",
    "pass test loss now ('mean', 0.0082542135134889127, {0})\n",
    "2018-03-23 22:54:30\n",
    "best test loss: 0.97660429941\n",
    "\n",
    "layer: 6\n",
    "index_train: <generator object _BaseKFold.split at 0x000001B2AAAE5938>\n",
    "[train - p:113/1:0|n:3085/1:291] test loss: y_true 1684 99683, y_pred:1684 99683\n",
    "6 [train - now p:113/1:0 | all p:182039/1:19 | np:3085/1:291] \n",
    "6 [test - now p:47/1:0 | all p:97999/1:21 | np:1684/1:161] \n",
    "(97999,) (1684,) 99683\n",
    "train loss ('roc', 0.99826329313831486)\n",
    "pass train loss ('roc', 0.98681087676889179)\n",
    "pass train loss now ('mean', 0.0098230797683200033, {0})\n",
    "vaild loss ('roc', 0.96723377854701009)\n",
    "pass vaild loss ('roc', 0.49287252991284936)\n",
    "pass vaild loss now ('mean', 0.010470424563697421, {0})\n",
    "test loss ('roc', 0.97658110675567789)\n",
    "pass test loss ('roc', 0.81130652264988534)\n",
    "pass test loss now ('mean', 0.0086545621261391731, {0})\n",
    "2018-03-23 22:54:31\n",
    "best test loss: 0.97660429941\n",
    "\n",
    "layer: 7\n",
    "index_train: <generator object _BaseKFold.split at 0x000001B2AA4C7D58>\n",
    "[train - p:130/1:0|n:2955/1:291] test loss: y_true 1624 99683, y_pred:1624 99683\n",
    "7 [train - now p:130/1:0 | all p:182169/1:19 | np:2955/1:291] \n",
    "7 [test - now p:60/1:0 | all p:98059/1:21 | np:1624/1:161] \n",
    "(98059,) (1624,) 99683\n",
    "train loss ('roc', 0.99826474184856118)\n",
    "pass train loss ('roc', 0.98637646820867708)\n",
    "pass train loss now ('mean', 0.009089745810468992, {0})\n",
    "vaild loss ('roc', 0.96746342530257967)\n",
    "pass vaild loss ('roc', 0.49252250169755984)\n",
    "pass vaild loss now ('mean', 0.0096719963550885701, {0})\n",
    "test loss ('roc', 0.97655791410125536)\n",
    "pass test loss ('roc', 0.81081339694326493)\n",
    "pass test loss now ('mean', 0.0086837913804403942, {0})\n",
    "2018-03-23 22:54:33\n",
    "best test loss: 0.97660429941\n",
    "\n",
    "layer: 8\n",
    "index_train: <generator object _BaseKFold.split at 0x000001B2AA4C7D58>\n",
    "[train - p:58/1:0|n:2897/1:291] test loss: y_true 1594 99683, y_pred:1594 99683\n",
    "8 [train - now p:58/1:0 | all p:182227/1:19 | np:2897/1:291] \n",
    "8 [test - now p:30/1:0 | all p:98089/1:21 | np:1594/1:161] \n",
    "(98089,) (1594,) 99683\n",
    "train loss ('roc', 0.99824182429972308)\n",
    "pass train loss ('roc', 0.98615203214833713)\n",
    "pass train loss now ('mean', 0.012003849744333401, {0})\n",
    "vaild loss ('roc', 0.96745106762963429)\n",
    "pass vaild loss ('roc', 0.49236572315271843)\n",
    "pass vaild loss now ('mean', 0.012104222535884508, {0})\n",
    "test loss ('roc', 0.97661528831064814)\n",
    "pass test loss ('roc', 0.81056584643891405)\n",
    "pass test loss now ('mean', 0.017335229120836466, {0})\n",
    "2018-03-23 22:54:34\n",
    "best test loss: 0.976615288311\n",
    "\n",
    "layer: 9\n",
    "index_train: <generator object _BaseKFold.split at 0x000001B2AA4C7D58>\n",
    "[train - p:56/1:0|n:2841/1:291] test loss: y_true 1563 99683, y_pred:1563 99683\n",
    "9 [train - now p:56/1:0 | all p:182283/1:19 | np:2841/1:291] \n",
    "9 [test - now p:31/1:0 | all p:98120/1:21 | np:1563/1:161] \n",
    "(98120,) (1563,) 99683\n",
    "train loss ('roc', 0.99825189545408688)\n",
    "pass train loss ('roc', 0.98594635427615696)\n",
    "pass train loss now ('mean', 0.010665980481662585, {0})\n",
    "vaild loss ('roc', 0.96756720881011316)\n",
    "pass vaild loss ('roc', 0.49221993198991865)\n",
    "pass vaild loss now ('mean', 0.012490082956298306, {0})\n",
    "test loss ('roc', 0.97658049932901447)\n",
    "pass test loss ('roc', 0.81031261422498857)\n",
    "pass test loss now ('mean', 0.011605980619479881, {0})\n",
    "2018-03-23 22:54:36\n",
    "best test loss: 0.976615288311\n",
    "\n",
    "layer: 10\n",
    "index_train: <generator object _BaseKFold.split at 0x000001B2AA4C7D58>\n",
    "[train - p:55/1:0|n:2786/1:291] test loss: y_true 1540 99683, y_pred:1540 99683\n",
    "10 [train - now p:55/1:0 | all p:182338/1:19 | np:2786/1:291] \n",
    "10 [test - now p:23/1:0 | all p:98143/1:21 | np:1540/1:161] \n",
    "(98143,) (1540,) 99683\n",
    "train loss ('roc', 0.99826235060393764)\n",
    "pass train loss ('roc', 0.98574332264934128)\n",
    "pass train loss now ('mean', 0.011632172548539174, {0})\n",
    "vaild loss ('roc', 0.96733570316729955)\n",
    "pass vaild loss ('roc', 0.49207202182640541)\n",
    "pass vaild loss now ('mean', 0.015029346807323575, {0})\n",
    "test loss ('roc', 0.97659424925985061)\n",
    "pass test loss ('roc', 0.81012364587913388)\n",
    "pass test loss now ('mean', 0.01039501464270246, {0})\n",
    "2018-03-23 22:54:37\n",
    "best test loss: 0.976615288311\n",
    "\n",
    "layer: 11\n",
    "index_train: <generator object _BaseKFold.split at 0x000001B2AA4C7D58>\n",
    "[train - p:30/1:0|n:2756/1:291] test loss: y_true 1519 99683, y_pred:1519 99683\n",
    "11 [train - now p:30/1:0 | all p:182368/1:19 | np:2756/1:291] \n",
    "11 [test - now p:21/1:0 | all p:98164/1:21 | np:1519/1:161] \n",
    "(98164,) (1519,) 99683\n",
    "train loss ('roc', 0.99825847574038695)\n",
    "pass train loss ('roc', 0.98562732943277365)\n",
    "pass train loss now ('mean', 0.011388062916698064, {0})\n",
    "vaild loss ('roc', 0.96722327103413819)\n",
    "pass vaild loss ('roc', 0.49199106629248535)\n",
    "pass vaild loss now ('mean', 0.012864624382281172, {0})\n",
    "test loss ('roc', 0.97654714608313065)\n",
    "pass test loss ('roc', 0.80995078609783688)\n",
    "pass test loss now ('mean', 0.01135173553904641, {0})\n",
    "2018-03-23 22:54:42\n",
    "best test loss: 0.976615288311\n",
    "\n",
    "layer: 12\n",
    "index_train: <generator object _BaseKFold.split at 0x000001B2AA4C7D58>\n",
    "[train - p:21/1:0|n:2735/1:291] test loss: y_true 1492 99683, y_pred:1492 99683\n",
    "12 [train - now p:21/1:0 | all p:182389/1:19 | np:2735/1:291] \n",
    "12 [test - now p:27/1:0 | all p:98191/1:21 | np:1492/1:161] \n",
    "(98191,) (1492,) 99683\n",
    "train loss ('roc', 0.99825542123083122)\n",
    "pass train loss ('roc', 0.9855516402455391)\n",
    "pass train loss now ('mean', 0.0093481711388831192, {0})\n",
    "vaild loss ('roc', 0.96748217126408176)\n",
    "pass vaild loss ('roc', 0.49193441326626319)\n",
    "pass vaild loss now ('mean', 0.0093264283416548185, {0})\n",
    "test loss ('roc', 0.97657470116540879)\n",
    "pass test loss ('roc', 0.80973287348962197)\n",
    "pass test loss now ('mean', 0.010828723043412956, {0})\n",
    "2018-03-23 22:54:48\n",
    "best test loss: 0.976615288311\n",
    "\n",
    "layer: 13\n",
    "index_train: <generator object _BaseKFold.split at 0x000001B2AAAE5D00>\n",
    "[train - p:20/1:0|n:2715/1:291] test loss: y_true 1485 99683, y_pred:1485 99683\n",
    "13 [train - now p:20/1:0 | all p:182409/1:19 | np:2715/1:291] \n",
    "13 [test - now p:7/1:0 | all p:98198/1:21 | np:1485/1:161] \n",
    "(98198,) (1485,) 99683\n",
    "train loss ('roc', 0.99825680012371631)\n",
    "pass train loss ('roc', 0.98548137161259408)\n",
    "pass train loss now ('mean', 0.0099389249597698053, {0})\n",
    "vaild loss ('roc', 0.9672849546728236)\n",
    "pass vaild loss ('roc', 0.49188047013196129)\n",
    "pass vaild loss now ('mean', 0.0073524747499121596, {0})\n",
    "test loss ('roc', 0.97661037367673476)\n",
    "pass test loss ('roc', 0.80967659479938325)\n",
    "pass test loss now ('mean', 0.0082286733601234976, {0})\n",
    "2018-03-23 22:54:54\n",
    "best test loss: 0.976615288311\n",
    "\n",
    "layer: 14\n",
    "index_train: <generator object _BaseKFold.split at 0x000001B2AAAE5938>\n",
    "[train - p:24/1:0|n:2691/1:291] test loss: y_true 1471 99683, y_pred:1471 99683\n",
    "14 [train - now p:24/1:0 | all p:182433/1:19 | np:2691/1:291] \n",
    "14 [test - now p:14/1:1 | all p:98212/1:21 | np:1471/1:160] \n",
    "(98212,) (1471,) 99683\n",
    "train loss ('roc', 0.99825191290842719)\n",
    "pass train loss ('roc', 0.985395569245897)\n",
    "pass train loss now ('mean', 0.0099967715367796223, {0})\n",
    "vaild loss ('roc', 0.9675723578405071)\n",
    "pass vaild loss ('roc', 0.49181575398471838)\n",
    "pass vaild loss now ('mean', 0.011682218995804253, {0})\n",
    "test loss ('roc', 0.97660904838219631)\n",
    "pass test loss ('roc', 0.81816237535760916)\n",
    "pass test loss now ('roc', 0.38461538461538458)\n",
    "2018-03-23 22:54:55\n",
    "best test loss: 0.976615288311\n",
    "\n",
    "layer: 15\n",
    "index_train: <generator object _BaseKFold.split at 0x000001B2AAAE5938>\n",
    "[train - p:29/1:0|n:2662/1:291] test loss: y_true 1458 99683, y_pred:1458 99683\n",
    "15 [train - now p:29/1:0 | all p:182462/1:19 | np:2662/1:291] \n",
    "15 [test - now p:13/1:0 | all p:98225/1:22 | np:1458/1:160] \n",
    "(98225,) (1458,) 99683\n",
    "train loss ('roc', 0.99824615297612207)\n",
    "pass train loss ('roc', 0.9852871134661525)\n",
    "pass train loss now ('mean', 0.011128490814126949, {0})\n",
    "vaild loss ('roc', 0.96753374883972276)\n",
    "pass vaild loss ('roc', 0.49173757802364804)\n",
    "pass vaild loss now ('mean', 0.012638935145342501, {0})\n",
    "test loss ('roc', 0.97657182969390888)\n",
    "pass test loss ('roc', 0.81806101091153482)\n",
    "pass test loss now ('mean', 0.0097981557468392617, {0})\n",
    "2018-03-23 22:54:57\n",
    "best test loss: 0.976615288311\n",
    "\n",
    "layer: 16\n",
    "index_train: <generator object _BaseKFold.split at 0x000001B2AAAE5518>\n",
    "[train - p:36/1:0|n:2626/1:291] test loss: y_true 1447 99683, y_pred:1447 99683\n",
    "16 [train - now p:36/1:0 | all p:182498/1:19 | np:2626/1:291] \n",
    "16 [test - now p:11/1:0 | all p:98236/1:22 | np:1447/1:160] \n",
    "(98236,) (1447,) 99683\n",
    "train loss ('roc', 0.99825852810340787)\n",
    "pass train loss ('roc', 0.98516022463724018)\n",
    "pass train loss now ('mean', 0.011466177328143107, {0})\n",
    "vaild loss ('roc', 0.96754703159270505)\n",
    "pass vaild loss ('roc', 0.49164056657132282)\n",
    "pass vaild loss now ('mean', 0.011168343219476301, {0})\n",
    "test loss ('roc', 0.97656879256059159)\n",
    "pass test loss ('roc', 0.81797262749061894)\n",
    "pass test loss now ('mean', 0.01422076063671638, {0})\n",
    "2018-03-23 22:54:59\n",
    "best test loss: 0.976615288311\n",
    "\n",
    "layer: 17\n",
    "index_train: <generator object _BaseKFold.split at 0x000001B2AA4C7D58>\n",
    "[train - p:16/1:0|n:2610/1:291] test loss: y_true 1434 99683, y_pred:1434 99683\n",
    "17 [train - now p:16/1:0 | all p:182514/1:19 | np:2610/1:291] \n",
    "17 [test - now p:13/1:0 | all p:98249/1:22 | np:1434/1:160] \n",
    "(98249,) (1434,) 99683\n",
    "train loss ('roc', 0.99824971366154713)\n",
    "pass train loss ('roc', 0.98510240367075674)\n",
    "pass train loss now ('mean', 0.010460074507388742, {0})\n",
    "vaild loss ('roc', 0.96743417182820612)\n",
    "pass vaild loss ('roc', 0.49159746265579013)\n",
    "pass vaild loss now ('mean', 0.012867589182566383, {0})\n",
    "test loss ('roc', 0.9765867392574662)\n",
    "pass test loss ('roc', 0.817868073673504)\n",
    "pass test loss now ('mean', 0.011779189036446298, {0})\n",
    "2018-03-23 22:55:00\n",
    "best test loss: 0.976615288311\n",
    "\n",
    "layer: 18\n",
    "index_train: <generator object _BaseKFold.split at 0x000001B2AAAE5D00>\n",
    "[train - p:13/1:0|n:2597/1:291] test loss: y_true 1428 99683, y_pred:1428 99683\n",
    "18 [train - now p:13/1:0 | all p:182527/1:19 | np:2597/1:291] \n",
    "18 [test - now p:6/1:0 | all p:98255/1:22 | np:1428/1:160] \n",
    "(98255,) (1428,) 99683\n",
    "train loss ('roc', 0.99825220963221262)\n",
    "pass train loss ('roc', 0.98504578890846028)\n",
    "pass train loss now ('mean', 0.015976405741249661, {0})\n",
    "vaild loss ('roc', 0.96729038297266279)\n",
    "pass vaild loss ('roc', 0.49156244628930468)\n",
    "pass vaild loss now ('mean', 0.013953502841626898, {0})\n",
    "test loss ('roc', 0.97661324514823478)\n",
    "pass test loss ('roc', 0.81781904433151975)\n",
    "pass test loss now ('mean', 0.014700216348621226, {0})\n",
    "2018-03-23 22:55:02\n",
    "best test loss: 0.976615288311\n",
    "\n",
    "layer: 19\n",
    "index_train: <generator object _BaseKFold.split at 0x000001B2AA4C7D58>\n",
    "[train - p:21/1:0|n:2576/1:291] test loss: y_true 1420 99683, y_pred:1420 99683\n",
    "19 [train - now p:21/1:0 | all p:182548/1:19 | np:2576/1:291] \n",
    "19 [test - now p:8/1:0 | all p:98263/1:22 | np:1420/1:160] \n",
    "(98263,) (1420,) 99683\n",
    "train loss ('roc', 0.99825297762318665)\n",
    "pass train loss ('roc', 0.98496360059295551)\n",
    "pass train loss now ('mean', 0.01282666799155144, {0})\n",
    "vaild loss ('roc', 0.96764069158285382)\n",
    "pass vaild loss ('roc', 0.49150589192604144)\n",
    "pass vaild loss now ('mean', 0.015180551336102077, {0})\n",
    "test loss ('roc', 0.97660606646948489)\n",
    "pass test loss ('roc', 0.81775614883991221)\n",
    "pass test loss now ('mean', 0.008661082105496043, {0})\n",
    "2018-03-23 22:55:03\n",
    "best test loss: 0.976615288311\n",
    "\n",
    "layer: 20\n",
    "index_train: <generator object _BaseKFold.split at 0x000001B2AA4C7D58>\n",
    "[train - p:28/1:0|n:2548/1:291] test loss: y_true 1409 99683, y_pred:1409 99683\n",
    "20 [train - now p:28/1:0 | all p:182576/1:19 | np:2548/1:291] \n",
    "20 [test - now p:11/1:0 | all p:98274/1:22 | np:1409/1:160] \n",
    "(98274,) (1409,) 99683\n",
    "train loss ('roc', 0.99825987208761235)\n",
    "pass train loss ('roc', 0.9848430901033649)\n",
    "pass train loss now ('mean', 0.014346187896795135, {0})\n",
    "vaild loss ('roc', 0.96763549018943895)\n",
    "pass vaild loss ('roc', 0.49143050634798124)\n",
    "pass vaild loss now ('mean', 0.015649295417009799, {0})\n",
    "test loss ('roc', 0.97660855139674452)\n",
    "pass test loss ('roc', 0.81766690846913126)\n",
    "pass test loss now ('mean', 0.016219693288865498, {0})\n",
    "2018-03-23 22:55:05\n",
    "best test loss: 0.976615288311\n",
    "Wall time: 1min 46s\n",
    "\"\"\"\n",
    "\n",
    "train_auc = []\n",
    "vaild_auc = []\n",
    "test_auc = []\n",
    "# train_auc = [0.9997]\n",
    "# vaild_auc = [0.9410]\n",
    "# test_auc = [0.9560]\n",
    "for line in log.split(\"\\n\"):\n",
    "    if line.startswith(\"train loss ('roc', \"):\n",
    "#         print(line.split(\" \")[-1][:-1])\n",
    "        train_auc.append((line.split(\" \")[-1][:-1]))\n",
    "    if line.startswith(\"vaild loss ('roc', \"):\n",
    "#         print(line.split(\" \")[-1][:-1])\n",
    "        vaild_auc.append((line.split(\" \")[-1][:-1]))\n",
    "    if line.startswith(\"test loss ('roc', \"):\n",
    "#         print(line.split(\" \")[-1][:-1])\n",
    "        test_auc.append((line.split(\" \")[-1][:-1]))\n",
    "# train_auc[0] = 0.9997\n",
    "# vaild_auc[0] = 0.9410\n",
    "# test_auc[0] = 0.9560\n",
    "        \n",
    "plt.figure(figsize=(10,5))\n",
    "\n",
    "plt.subplot(121)\n",
    "# plt.plot(list(range(20)),train_auc[:-1], label=\"train-auc\", color=\"blue\")\n",
    "plt.plot(list(range(10)),vaild_auc[:10], label=\"vaild-auc\", color=\"green\")\n",
    "plt.plot(list(range(10)),test_auc[:10], label=\"test-auc\", color=\"red\")\n",
    "plt.legend()\n",
    "\n",
    "# plt.figure(figsize=(5,5))\n",
    "plt.subplot(122)\n",
    "plt.plot(list(range(10)),train_gcforest_auc[:10], label=\"vaild-auc\", color=\"green\")\n",
    "plt.plot(list(range(10)),test_gcforest_auc[:10], label=\"test-auc\", color=\"red\")\n",
    "plt.legend()\n",
    "\n",
    "plt.savefig(\"./output/dbrf_gcforest.pdf\", bbox_inches ='tight' )\n",
    "plt.show()"
   ]
  },
  {
   "cell_type": "code",
   "execution_count": null,
   "metadata": {},
   "outputs": [],
   "source": [
    "log = \"\"\"\n",
    "2018-03-23 20:06:18\n",
    "\n",
    "layer: 1\n",
    "index_train: <generator object _BaseKFold.split at 0x000001B2AA4D4E60>\n",
    "[train - p:0/1:0|n:185124/1:310] \n",
    "<class 'numpy.ndarray'> (185124,)\n",
    "<class 'numpy.ndarray'> (185124,)\n",
    "test loss: y_true 99683 99683, y_pred:99683 99683\n",
    "<class 'numpy.ndarray'> (99683,)\n",
    "1 [test - now p:0/1:0 | all p:0/1:0 | np:99683/1:182] \n",
    "(0,) (99683,) 99683\n",
    "train loss ('roc', 0.99808222181185136)\n",
    "pass train loss (0, 0)\n",
    "pass train loss now (0, 0)\n",
    "vaild loss ('roc', 0.96642982290477231)\n",
    "pass vaild loss (0, 0)\n",
    "pass vaild loss now (0, 0)\n",
    "test loss ('roc', 0.97407881261561124)\n",
    "pass test loss (0, 0)\n",
    "pass test loss now (0, 0)\n",
    "2018-03-23 20:06:59\n",
    "best test loss: 0.974078812616\n",
    "\n",
    "layer: 2\n",
    "index_train: <generator object _BaseKFold.split at 0x000001B2AA4257D8>\n",
    "[train - p:181182/1:22|n:3942/1:288] <class 'numpy.ndarray'> (185124,)\n",
    "<class 'numpy.ndarray'> (181182,)\n",
    "<class 'numpy.ndarray'> (181182,)\n",
    "<class 'numpy.ndarray'> (185124,)\n",
    "<class 'numpy.ndarray'> (181182,)\n",
    "<class 'numpy.ndarray'> (181182,)\n",
    "test loss: y_true 2112 99683, y_pred:2112 99683\n",
    "<class 'numpy.ndarray'> (99683,)\n",
    "<class 'numpy.ndarray'> (97571,)\n",
    "<class 'numpy.ndarray'> (97571,)\n",
    "2 [train - now p:181182/1:22 | all p:181182/1:22 | np:3942/1:288] \n",
    "2 [test - now p:97571/1:21 | all p:97571/1:21 | np:2112/1:161] \n",
    "(97571,) (2112,) 99683\n",
    "train loss ('roc', 0.99767468041975593)\n",
    "pass train loss ('roc', 0.98073174893113069)\n",
    "pass train loss now ('roc', 0.98073174893113069)\n",
    "vaild loss ('roc', 0.96478448951465423)\n",
    "pass vaild loss ('roc', 0.60869246672956101)\n",
    "pass vaild loss now ('roc', 0.60869246672956101)\n",
    "test loss ('roc', 0.97610968844423784)\n",
    "pass test loss ('roc', 0.81036098703961335)\n",
    "pass test loss now ('roc', 0.81036098703961335)\n",
    "2018-03-23 20:07:48\n",
    "best test loss: 0.976109688444\n",
    "\n",
    "layer: 3\n",
    "index_train: <generator object _BaseKFold.split at 0x000001B2AA4257D8>\n",
    "[train - p:387/1:0|n:3555/1:288] <class 'numpy.ndarray'> (185124,)\n",
    "<class 'numpy.ndarray'> (181569,)\n",
    "<class 'numpy.ndarray'> (185124,)\n",
    "<class 'numpy.ndarray'> (181569,)\n",
    "test loss: y_true 1934 99683, y_pred:1934 99683\n",
    "<class 'numpy.ndarray'> (99683,)\n",
    "<class 'numpy.ndarray'> (97749,)\n",
    "3 [train - now p:387/1:0 | all p:181569/1:22 | np:3555/1:288] \n",
    "3 [test - now p:178/1:0 | all p:97749/1:21 | np:1934/1:161] \n",
    "(97749,) (1934,) 99683\n",
    "train loss ('roc', 0.99753003630153703)\n",
    "pass train loss ('roc', 0.97990853357783136)\n",
    "pass train loss now ('mean', 0.0041736193446811742, {0})\n",
    "vaild loss ('roc', 0.97043721726150478)\n",
    "pass vaild loss ('roc', 0.60762327010736517)\n",
    "pass vaild loss now ('mean', 0.0045669334021786927, {0})\n",
    "test loss ('roc', 0.97618125434931302)\n",
    "pass test loss ('roc', 0.80902290516730591)\n",
    "pass test loss now ('mean', 0.0040671392984069736, {0})\n",
    "2018-03-23 20:07:50\n",
    "best test loss: 0.976181254349\n",
    "\n",
    "layer: 4\n",
    "index_train: <generator object _BaseKFold.split at 0x000001B2AA4D4E60>\n",
    "[train - p:168/1:0|n:3387/1:288] <class 'numpy.ndarray'> (185124,)\n",
    "<class 'numpy.ndarray'> (181737,)\n",
    "<class 'numpy.ndarray'> (185124,)\n",
    "<class 'numpy.ndarray'> (181737,)\n",
    "test loss: y_true 1860 99683, y_pred:1860 99683\n",
    "<class 'numpy.ndarray'> (99683,)\n",
    "<class 'numpy.ndarray'> (97823,)\n",
    "4 [train - now p:168/1:0 | all p:181737/1:22 | np:3387/1:288] \n",
    "4 [test - now p:74/1:0 | all p:97823/1:21 | np:1860/1:161] \n",
    "(97823,) (1860,) 99683\n",
    "train loss ('roc', 0.99751546192737117)\n",
    "pass train loss ('roc', 0.9795153749752985)\n",
    "pass train loss now ('mean', 0.0047614299255824962, {0})\n",
    "vaild loss ('roc', 0.96584054692128141)\n",
    "pass vaild loss ('roc', 0.60716806787852107)\n",
    "pass vaild loss now ('mean', 0.0055184031297022115, {0})\n",
    "test loss ('roc', 0.97619158060259148)\n",
    "pass test loss ('roc', 0.8084521594163524)\n",
    "pass test loss now ('mean', 0.0052604624340379432, {0})\n",
    "2018-03-23 20:07:52\n",
    "best test loss: 0.976191580603\n",
    "\n",
    "layer: 5\n",
    "index_train: <generator object _BaseKFold.split at 0x000001B2AAB89D00>\n",
    "[train - p:159/1:0|n:3228/1:288] <class 'numpy.ndarray'> (185124,)\n",
    "<class 'numpy.ndarray'> (181896,)\n",
    "<class 'numpy.ndarray'> (185124,)\n",
    "<class 'numpy.ndarray'> (181896,)\n",
    "test loss: y_true 1785 99683, y_pred:1785 99683\n",
    "<class 'numpy.ndarray'> (99683,)\n",
    "<class 'numpy.ndarray'> (97898,)\n",
    "5 [train - now p:159/1:0 | all p:181896/1:22 | np:3228/1:288] \n",
    "5 [test - now p:75/1:0 | all p:97898/1:22 | np:1785/1:161] \n",
    "(97898,) (1785,) 99683\n",
    "train loss ('roc', 0.99752017459925713)\n",
    "pass train loss ('roc', 0.97912115980394021)\n",
    "pass train loss now ('mean', 0.0050579586608843919, {0})\n",
    "vaild loss ('roc', 0.96999050832973488)\n",
    "pass vaild loss ('roc', 0.60670849049341857)\n",
    "pass vaild loss now ('mean', 0.0053285028737832252, {0})\n",
    "test loss ('roc', 0.97620113376738937)\n",
    "pass test loss ('roc', 0.80787207656645832)\n",
    "pass test loss now ('mean', 0.0050324438669951746, {0})\n",
    "2018-03-23 20:07:55\n",
    "best test loss: 0.976201133767\n",
    "\n",
    "layer: 6\n",
    "index_train: <generator object _BaseKFold.split at 0x000001B2AAB89D00>\n",
    "[train - p:79/1:0|n:3149/1:288] <class 'numpy.ndarray'> (185124,)\n",
    "<class 'numpy.ndarray'> (181975,)\n",
    "<class 'numpy.ndarray'> (185124,)\n",
    "<class 'numpy.ndarray'> (181975,)\n",
    "test loss: y_true 1733 99683, y_pred:1733 99683\n",
    "<class 'numpy.ndarray'> (99683,)\n",
    "<class 'numpy.ndarray'> (97950,)\n",
    "6 [train - now p:79/1:0 | all p:181975/1:22 | np:3149/1:288] \n",
    "6 [test - now p:52/1:0 | all p:97950/1:21 | np:1733/1:161] \n",
    "(97950,) (1733,) 99683\n",
    "train loss ('roc', 0.9975173644504659)\n",
    "pass train loss ('roc', 0.9789353694235724)\n",
    "pass train loss now ('mean', 0.0049727512533396323, {0})\n",
    "vaild loss ('roc', 0.97039815444787214)\n",
    "pass vaild loss ('roc', 0.60650302800473455)\n",
    "pass vaild loss now ('mean', 0.0057336127315574968, {0})\n",
    "test loss ('roc', 0.97619036574926465)\n",
    "pass test loss ('roc', 0.80745914557145149)\n",
    "pass test loss now ('mean', 0.0052277366158449004, {0})\n",
    "2018-03-23 20:07:57\n",
    "best test loss: 0.976201133767\n",
    "\n",
    "layer: 7\n",
    "index_train: <generator object _BaseKFold.split at 0x000001B2AC56D8E0>\n",
    "[train - p:52/1:0|n:3097/1:288] <class 'numpy.ndarray'> (185124,)\n",
    "<class 'numpy.ndarray'> (182027,)\n",
    "<class 'numpy.ndarray'> (185124,)\n",
    "<class 'numpy.ndarray'> (182027,)\n",
    "test loss: y_true 1718 99683, y_pred:1718 99683\n",
    "<class 'numpy.ndarray'> (99683,)\n",
    "<class 'numpy.ndarray'> (97965,)\n",
    "7 [train - now p:52/1:0 | all p:182027/1:22 | np:3097/1:288] \n",
    "7 [test - now p:15/1:0 | all p:97965/1:21 | np:1718/1:161] \n",
    "(97965,) (1718,) 99683\n",
    "train loss ('roc', 0.9975045355103318)\n",
    "pass train loss ('roc', 0.97878330015908654)\n",
    "pass train loss now ('mean', 0.0064259852545779919, {0})\n",
    "vaild loss ('roc', 0.96962195993391087)\n",
    "pass vaild loss ('roc', 0.60633848720439754)\n",
    "pass vaild loss now ('mean', 0.0083426062876304202, {0})\n",
    "test loss ('roc', 0.9762023486207162)\n",
    "pass test loss ('roc', 0.80733645659521669)\n",
    "pass test loss now ('mean', 0.0077235586229524259, {0})\n",
    "2018-03-23 20:07:59\n",
    "best test loss: 0.976202348621\n",
    "\n",
    "layer: 8\n",
    "index_train: <generator object _BaseKFold.split at 0x000001B2AA4257D8>\n",
    "[train - p:40/1:0|n:3057/1:288] <class 'numpy.ndarray'> (185124,)\n",
    "<class 'numpy.ndarray'> (182067,)\n",
    "<class 'numpy.ndarray'> (185124,)\n",
    "<class 'numpy.ndarray'> (182067,)\n",
    "test loss: y_true 1697 99683, y_pred:1697 99683\n",
    "<class 'numpy.ndarray'> (99683,)\n",
    "<class 'numpy.ndarray'> (97986,)\n",
    "8 [train - now p:40/1:0 | all p:182067/1:22 | np:3057/1:288] \n",
    "8 [test - now p:21/1:0 | all p:97986/1:21 | np:1697/1:161] \n",
    "(97986,) (1697,) 99683\n",
    "train loss ('roc', 0.99747596275523054)\n",
    "pass train loss ('roc', 0.97863914766329008)\n",
    "pass train loss now ('mean', 0.0086176324252749056, {0})\n",
    "vaild loss ('roc', 0.97031779466504597)\n",
    "pass vaild loss ('roc', 0.60620800551312237)\n",
    "pass vaild loss now ('mean', 0.010502572773076663, {0})\n",
    "test loss ('roc', 0.97615612897368853)\n",
    "pass test loss ('roc', 0.80716533844691862)\n",
    "pass test loss now ('mean', 0.0077333860718512854, {0})\n",
    "2018-03-23 20:08:02\n",
    "best test loss: 0.976202348621\n",
    "\n",
    "layer: 9\n",
    "index_train: <generator object _BaseKFold.split at 0x000001B2AA4257D8>\n",
    "[train - p:38/1:0|n:3019/1:288] <class 'numpy.ndarray'> (185124,)\n",
    "<class 'numpy.ndarray'> (182105,)\n",
    "<class 'numpy.ndarray'> (185124,)\n",
    "<class 'numpy.ndarray'> (182105,)\n",
    "test loss: y_true 1682 99683, y_pred:1682 99683\n",
    "<class 'numpy.ndarray'> (99683,)\n",
    "<class 'numpy.ndarray'> (98001,)\n",
    "9 [train - now p:38/1:0 | all p:182105/1:22 | np:3019/1:288] \n",
    "9 [test - now p:15/1:0 | all p:98001/1:21 | np:1682/1:161] \n",
    "(98001,) (1682,) 99683\n",
    "train loss ('roc', 0.99748074524447772)\n",
    "pass train loss ('roc', 0.97851878738617204)\n",
    "pass train loss now ('mean', 0.0071587523681147618, {0})\n",
    "vaild loss ('roc', 0.97035217971547327)\n",
    "pass vaild loss ('roc', 0.6060864850345471)\n",
    "pass vaild loss now ('mean', 0.0079258904479885765, {0})\n",
    "test loss ('roc', 0.97618810170442816)\n",
    "pass test loss ('roc', 0.8070422535211268)\n",
    "pass test loss now ('mean', 0.008844286065621685, {0})\n",
    "2018-03-23 20:08:04\n",
    "best test loss: 0.976202348621\n",
    "\n",
    "layer: 10\n",
    "index_train: <generator object _BaseKFold.split at 0x000001B2AAB89F68>\n",
    "[train - p:32/1:0|n:2987/1:288] <class 'numpy.ndarray'> (185124,)\n",
    "<class 'numpy.ndarray'> (182137,)\n",
    "<class 'numpy.ndarray'> (185124,)\n",
    "<class 'numpy.ndarray'> (182137,)\n",
    "test loss: y_true 1670 99683, y_pred:1670 99683\n",
    "<class 'numpy.ndarray'> (99683,)\n",
    "<class 'numpy.ndarray'> (98013,)\n",
    "10 [train - now p:32/1:0 | all p:182137/1:22 | np:2987/1:288] \n",
    "10 [test - now p:12/1:0 | all p:98013/1:21 | np:1670/1:161] \n",
    "(98013,) (1670,) 99683\n",
    "train loss ('roc', 0.99749151457245422)\n",
    "pass train loss ('roc', 0.97841623549555345)\n",
    "pass train loss now ('mean', 0.0073763103101077265, {0})\n",
    "vaild loss ('roc', 0.96927015897762248)\n",
    "pass vaild loss ('roc', 0.60598472992839192)\n",
    "pass vaild loss now ('mean', 0.0079044270080267827, {0})\n",
    "test loss ('roc', 0.97618307662930326)\n",
    "pass test loss ('roc', 0.80694536774624936)\n",
    "pass test loss now ('mean', 0.0056920655450489232, {0})\n",
    "2018-03-23 20:08:06\n",
    "best test loss: 0.976202348621\n",
    "Wall time: 1min 48s\n",
    "\"\"\"\n",
    "\n",
    "# train_auc = []\n",
    "# vaild_auc = []\n",
    "# test_auc = []\n",
    "train_auc = [0.9997]\n",
    "vaild_auc = [0.9410]\n",
    "test_auc = [0.9560]\n",
    "for line in log.split(\"\\n\"):\n",
    "    if line.startswith(\"train loss ('roc', \"):\n",
    "#         print(line.split(\" \")[-1][:-1])\n",
    "        train_auc.append((line.split(\" \")[-1][:-1]))\n",
    "    if line.startswith(\"vaild loss ('roc', \"):\n",
    "#         print(line.split(\" \")[-1][:-1])\n",
    "        vaild_auc.append((line.split(\" \")[-1][:-1]))\n",
    "    if line.startswith(\"test loss ('roc', \"):\n",
    "#         print(line.split(\" \")[-1][:-1])\n",
    "        test_auc.append((line.split(\" \")[-1][:-1]))\n",
    "# train_auc[0] = 0.9997\n",
    "# vaild_auc[0] = 0.9410\n",
    "# test_auc[0] = 0.9560\n",
    "        \n",
    "plt.figure(figsize=(5,5))\n",
    "plt.plot(list(range(11)),train_auc[:], label=\"train-auc\", color=\"blue\")\n",
    "plt.plot(list(range(11)),vaild_auc[:], label=\"vaild-auc\", color=\"green\")\n",
    "plt.plot(list(range(11)),test_auc[:], label=\"test-auc\", color=\"red\")\n",
    "plt.legend()\n",
    "plt.savefig(\"./output/dbrf_3.pdf\", bbox_inches ='tight' )\n",
    "plt.show()"
   ]
  },
  {
   "cell_type": "code",
   "execution_count": 108,
   "metadata": {},
   "outputs": [
    {
     "data": {
      "text/plain": [
       "[0.956,\n",
       " '0.97212193239871347',\n",
       " '0.9766042994101003',\n",
       " '0.97656376748546669',\n",
       " '0.97656420925031295',\n",
       " '0.97654101659589032',\n",
       " '0.97658110675567789',\n",
       " '0.97655791410125536',\n",
       " '0.97661528831064814',\n",
       " '0.97658049932901447',\n",
       " '0.97659424925985061',\n",
       " '0.97654714608313065',\n",
       " '0.97657470116540879',\n",
       " '0.97661037367673476',\n",
       " '0.97660904838219631',\n",
       " '0.97657182969390888',\n",
       " '0.97656879256059159',\n",
       " '0.9765867392574662',\n",
       " '0.97661324514823478',\n",
       " '0.97660606646948489',\n",
       " '0.97660855139674452']"
      ]
     },
     "execution_count": 108,
     "metadata": {},
     "output_type": "execute_result"
    }
   ],
   "source": [
    "test_auc"
   ]
  },
  {
   "cell_type": "code",
   "execution_count": null,
   "metadata": {
    "collapsed": true
   },
   "outputs": [],
   "source": []
  },
  {
   "cell_type": "code",
   "execution_count": null,
   "metadata": {
    "collapsed": true
   },
   "outputs": [],
   "source": []
  },
  {
   "cell_type": "code",
   "execution_count": null,
   "metadata": {
    "collapsed": true
   },
   "outputs": [],
   "source": []
  },
  {
   "cell_type": "code",
   "execution_count": 45,
   "metadata": {
    "scrolled": true
   },
   "outputs": [
    {
     "data": {
      "text/plain": [
       "(array([ 0.9564,  0.9561,  0.9564,  0.9618,  0.9591]),\n",
       " 0.0022078043391568834,\n",
       " 0.95796000000000014,\n",
       " 0.96179999999999999,\n",
       " 0.95609999999999995)"
      ]
     },
     "execution_count": 45,
     "metadata": {},
     "output_type": "execute_result"
    }
   ],
   "source": [
    "test_1 = np.array([0.9564, 0.9561, 0.9564, 0.9618, 0.9591])\n",
    "test_1, np.std(test_1), np.average(test_1), np.max(test_1), np.min(test_1)"
   ]
  },
  {
   "cell_type": "code",
   "execution_count": 46,
   "metadata": {},
   "outputs": [
    {
     "data": {
      "text/plain": [
       "(array([149, 158, 157, 167, 172]),\n",
       " 8.0647380614623803,\n",
       " 160.59999999999999,\n",
       " 172,\n",
       " 149)"
      ]
     },
     "execution_count": 46,
     "metadata": {},
     "output_type": "execute_result"
    }
   ],
   "source": [
    "test_1 = np.array([(37-35)*60+48-19, (41-38)*60+2-24, (43-41)*60+51-14, (48-45)*60+24-37, (52-49)*60+38-46])\n",
    "test_1, np.std(test_1), np.average(test_1), np.max(test_1), np.min(test_1)"
   ]
  },
  {
   "cell_type": "code",
   "execution_count": null,
   "metadata": {
    "collapsed": true
   },
   "outputs": [],
   "source": [
    "### 2"
   ]
  },
  {
   "cell_type": "code",
   "execution_count": 61,
   "metadata": {
    "scrolled": false
   },
   "outputs": [
    {
     "data": {
      "text/plain": [
       "(array([ 0.9742,  0.9691,  0.9722,  0.9717,  0.9636]),\n",
       " 0.0036609288438864637,\n",
       " 0.97015999999999991,\n",
       " 0.97419999999999995,\n",
       " 0.96360000000000001)"
      ]
     },
     "execution_count": 61,
     "metadata": {},
     "output_type": "execute_result"
    }
   ],
   "source": [
    "test_1 = np.array([0.9742, 0.9691, 0.9722, 0.9717, 0.9636])\n",
    "test_1, np.std(test_1), np.average(test_1), np.max(test_1), np.min(test_1)"
   ]
  },
  {
   "cell_type": "code",
   "execution_count": 60,
   "metadata": {},
   "outputs": [
    {
     "data": {
      "text/plain": [
       "(array([166, 145, 150, 156, 144]),\n",
       " 8.1092539730853161,\n",
       " 152.19999999999999,\n",
       " 166,\n",
       " 144)"
      ]
     },
     "execution_count": 60,
     "metadata": {},
     "output_type": "execute_result"
    }
   ],
   "source": [
    "test_1 = np.array([(3-0)*60+5-19, (6-4)*60+53-28, (10-8)*60+33-3, (13-10)*60+34-58, (16-14)*60+43-19])\n",
    "test_1, np.std(test_1), np.average(test_1), np.max(test_1), np.min(test_1)"
   ]
  },
  {
   "cell_type": "code",
   "execution_count": null,
   "metadata": {
    "collapsed": true
   },
   "outputs": [],
   "source": [
    "### 3"
   ]
  },
  {
   "cell_type": "code",
   "execution_count": 76,
   "metadata": {
    "scrolled": false
   },
   "outputs": [
    {
     "data": {
      "text/plain": [
       "(array([ 0.9573,  0.9521,  0.9553,  0.955 ,  0.9544]),\n",
       " 0.0016726027621644351,\n",
       " 0.95482,\n",
       " 0.95730000000000004,\n",
       " 0.95209999999999995)"
      ]
     },
     "execution_count": 76,
     "metadata": {},
     "output_type": "execute_result"
    }
   ],
   "source": [
    "test_1 = np.array([0.9573, 0.9521, 0.9553, 0.9550, 0.9544])\n",
    "test_1, np.std(test_1), np.average(test_1), np.max(test_1), np.min(test_1)"
   ]
  },
  {
   "cell_type": "code",
   "execution_count": 84,
   "metadata": {},
   "outputs": [
    {
     "data": {
      "text/plain": [
       "(array([148, 142, 149, 156, 147]),\n",
       " 4.4988887516807976,\n",
       " 148.40000000000001,\n",
       " 156,\n",
       " 142)"
      ]
     },
     "execution_count": 84,
     "metadata": {},
     "output_type": "execute_result"
    }
   ],
   "source": [
    "test_1 = np.array([(57-54)*60+1-33, (60-57)*60+1-39, (2-0)*60+54-25, (9-7)*60+41-5, (16-13)*60+6-39])\n",
    "test_1, np.std(test_1), np.average(test_1), np.max(test_1), np.min(test_1)"
   ]
  },
  {
   "cell_type": "code",
   "execution_count": null,
   "metadata": {
    "collapsed": true
   },
   "outputs": [],
   "source": []
  },
  {
   "cell_type": "code",
   "execution_count": 47,
   "metadata": {
    "collapsed": true
   },
   "outputs": [],
   "source": [
    "#DBRF"
   ]
  },
  {
   "cell_type": "code",
   "execution_count": 50,
   "metadata": {},
   "outputs": [
    {
     "data": {
      "text/plain": [
       "(array([ 0.9762,  0.9761,  0.9758,  0.9761,  0.9767]),\n",
       " 0.00029257477676656311,\n",
       " 0.97617999999999994,\n",
       " 0.97670000000000001,\n",
       " 0.9758)"
      ]
     },
     "execution_count": 50,
     "metadata": {},
     "output_type": "execute_result"
    }
   ],
   "source": [
    "test_1 = np.array([0.9762, 0.9761, 0.9758, 0.9761, 0.9767])\n",
    "test_1, np.std(test_1), np.average(test_1), np.max(test_1), np.min(test_1)"
   ]
  },
  {
   "cell_type": "code",
   "execution_count": 51,
   "metadata": {
    "scrolled": true
   },
   "outputs": [
    {
     "data": {
      "text/plain": [
       "(array([108, 101, 100,  99,  79]),\n",
       " 9.7283092056122484,\n",
       " 97.400000000000006,\n",
       " 108,\n",
       " 79)"
      ]
     },
     "execution_count": 51,
     "metadata": {},
     "output_type": "execute_result"
    }
   ],
   "source": [
    "test_1 = np.array([(8-6)*60+6-18, (1)*60+41, (1)*60+40, (1)*60+39, (1)*60+19])\n",
    "test_1, np.std(test_1), np.average(test_1), np.max(test_1), np.min(test_1)"
   ]
  },
  {
   "cell_type": "code",
   "execution_count": null,
   "metadata": {
    "collapsed": true
   },
   "outputs": [],
   "source": [
    "#2"
   ]
  },
  {
   "cell_type": "code",
   "execution_count": 64,
   "metadata": {},
   "outputs": [
    {
     "data": {
      "text/plain": [
       "(array([ 0.9845,  0.9846,  0.9846,  0.9851,  0.985 ]),\n",
       " 0.00024166091947186484,\n",
       " 0.98475999999999997,\n",
       " 0.98509999999999998,\n",
       " 0.98450000000000004)"
      ]
     },
     "execution_count": 64,
     "metadata": {},
     "output_type": "execute_result"
    }
   ],
   "source": [
    "test_1 = np.array([0.9845, 0.9846, 0.9846, 0.9851, 0.9850])\n",
    "test_1, np.std(test_1), np.average(test_1), np.max(test_1), np.min(test_1)"
   ]
  },
  {
   "cell_type": "code",
   "execution_count": 65,
   "metadata": {
    "scrolled": true
   },
   "outputs": [
    {
     "data": {
      "text/plain": [
       "(array([82, 80, 86, 78, 79]), 2.8284271247461903, 81.0, 86, 78)"
      ]
     },
     "execution_count": 65,
     "metadata": {},
     "output_type": "execute_result"
    }
   ],
   "source": [
    "test_1 = np.array([(1)*60+22, (1)*60+20, (1)*60+26, (1)*60+18, (1)*60+19])\n",
    "test_1, np.std(test_1), np.average(test_1), np.max(test_1), np.min(test_1)"
   ]
  },
  {
   "cell_type": "code",
   "execution_count": null,
   "metadata": {
    "collapsed": true
   },
   "outputs": [],
   "source": [
    "#3"
   ]
  },
  {
   "cell_type": "code",
   "execution_count": 68,
   "metadata": {},
   "outputs": [
    {
     "data": {
      "text/plain": [
       "(array([ 0.973 ,  0.9729,  0.9731,  0.9728,  0.9731]),\n",
       " 0.00011661903789689316,\n",
       " 0.97297999999999996,\n",
       " 0.97309999999999997,\n",
       " 0.9728)"
      ]
     },
     "execution_count": 68,
     "metadata": {},
     "output_type": "execute_result"
    }
   ],
   "source": [
    "test_1 = np.array([0.9730, 0.9729, 0.9731, 0.9728, 0.9731])\n",
    "test_1, np.std(test_1), np.average(test_1), np.max(test_1), np.min(test_1)"
   ]
  },
  {
   "cell_type": "code",
   "execution_count": 69,
   "metadata": {
    "scrolled": true
   },
   "outputs": [
    {
     "data": {
      "text/plain": [
       "(array([77, 78, 79, 77, 78]), 0.74833147735478822, 77.799999999999997, 79, 77)"
      ]
     },
     "execution_count": 69,
     "metadata": {},
     "output_type": "execute_result"
    }
   ],
   "source": [
    "test_1 = np.array([(1)*60+17, (1)*60+18, (1)*60+19, (1)*60+17, (1)*60+18])\n",
    "test_1, np.std(test_1), np.average(test_1), np.max(test_1), np.min(test_1)"
   ]
  },
  {
   "cell_type": "code",
   "execution_count": null,
   "metadata": {
    "collapsed": true
   },
   "outputs": [],
   "source": []
  },
  {
   "cell_type": "code",
   "execution_count": 143,
   "metadata": {},
   "outputs": [
    {
     "data": {
      "text/plain": [
       "(array([683, 729, 731, 728, 691]),\n",
       " 20.915066339842195,\n",
       " 712.39999999999998,\n",
       " 731,\n",
       " 683)"
      ]
     },
     "execution_count": 143,
     "metadata": {},
     "output_type": "execute_result"
    }
   ],
   "source": [
    "test_1 = np.array([683, 729, 731, 728, 691])\n",
    "test_1, np.std(test_1), np.average(test_1), np.max(test_1), np.min(test_1)"
   ]
  },
  {
   "cell_type": "code",
   "execution_count": 144,
   "metadata": {},
   "outputs": [
    {
     "data": {
      "text/plain": [
       "(array([698, 749, 737, 659, 742]), 33.982348359111384, 717.0, 749, 659)"
      ]
     },
     "execution_count": 144,
     "metadata": {},
     "output_type": "execute_result"
    }
   ],
   "source": [
    "test_1 = np.array([698, 749, 737, 659, 742])\n",
    "test_1, np.std(test_1), np.average(test_1), np.max(test_1), np.min(test_1)"
   ]
  },
  {
   "cell_type": "code",
   "execution_count": 144,
   "metadata": {},
   "outputs": [
    {
     "data": {
      "text/plain": [
       "(array([698, 749, 737, 659, 742]), 33.982348359111384, 717.0, 749, 659)"
      ]
     },
     "execution_count": 144,
     "metadata": {},
     "output_type": "execute_result"
    }
   ],
   "source": [
    "test_1 = np.array([698, 749, 737, 659, 742])\n",
    "test_1, np.std(test_1), np.average(test_1), np.max(test_1), np.min(test_1)"
   ]
  },
  {
   "cell_type": "code",
   "execution_count": 145,
   "metadata": {},
   "outputs": [
    {
     "data": {
      "text/plain": [
       "(array([685, 739, 757, 729, 712]),\n",
       " 24.507957891264628,\n",
       " 724.39999999999998,\n",
       " 757,\n",
       " 685)"
      ]
     },
     "execution_count": 145,
     "metadata": {},
     "output_type": "execute_result"
    }
   ],
   "source": [
    "test_1 = np.array([685, 739, 757, 729, 712])\n",
    "test_1, np.std(test_1), np.average(test_1), np.max(test_1), np.min(test_1)"
   ]
  },
  {
   "cell_type": "code",
   "execution_count": null,
   "metadata": {
    "collapsed": true
   },
   "outputs": [],
   "source": []
  },
  {
   "cell_type": "code",
   "execution_count": null,
   "metadata": {
    "collapsed": true
   },
   "outputs": [],
   "source": []
  },
  {
   "cell_type": "code",
   "execution_count": 27,
   "metadata": {},
   "outputs": [
    {
     "name": "stdout",
     "output_type": "stream",
     "text": [
      "IPython will make a temporary file named: C:\\Users\\rxz\\AppData\\Local\\Temp\\ipython_edit_b2gbd3ey\\ipython_edit_8gyrib4g.py\n"
     ]
    }
   ],
   "source": [
    "%ed 1-2"
   ]
  },
  {
   "cell_type": "code",
   "execution_count": 28,
   "metadata": {
    "collapsed": true
   },
   "outputs": [],
   "source": [
    "%magic"
   ]
  },
  {
   "cell_type": "code",
   "execution_count": 29,
   "metadata": {},
   "outputs": [
    {
     "name": "stderr",
     "output_type": "stream",
     "text": [
      "ERROR:root:Line magic function `%last` not found.\n"
     ]
    }
   ],
   "source": [
    "%last"
   ]
  },
  {
   "cell_type": "code",
   "execution_count": 30,
   "metadata": {
    "collapsed": true
   },
   "outputs": [],
   "source": [
    "from IPython.display import display"
   ]
  },
  {
   "cell_type": "code",
   "execution_count": 36,
   "metadata": {},
   "outputs": [
    {
     "data": {
      "text/plain": [
       "'a'"
      ]
     },
     "metadata": {},
     "output_type": "display_data"
    }
   ],
   "source": [
    "display(\"a\")"
   ]
  },
  {
   "cell_type": "code",
   "execution_count": 33,
   "metadata": {},
   "outputs": [
    {
     "data": {
      "text/plain": [
       "'a'"
      ]
     },
     "execution_count": 33,
     "metadata": {},
     "output_type": "execute_result"
    }
   ],
   "source": [
    "\"a\""
   ]
  },
  {
   "cell_type": "code",
   "execution_count": 34,
   "metadata": {},
   "outputs": [
    {
     "data": {
      "text/plain": [
       "'a'"
      ]
     },
     "execution_count": 34,
     "metadata": {},
     "output_type": "execute_result"
    }
   ],
   "source": [
    "_33"
   ]
  },
  {
   "cell_type": "code",
   "execution_count": null,
   "metadata": {
    "collapsed": true
   },
   "outputs": [],
   "source": []
  }
 ],
 "metadata": {
  "kernelspec": {
   "display_name": "Python 3",
   "language": "python",
   "name": "python3"
  },
  "language_info": {
   "codemirror_mode": {
    "name": "ipython",
    "version": 3
   },
   "file_extension": ".py",
   "mimetype": "text/x-python",
   "name": "python",
   "nbconvert_exporter": "python",
   "pygments_lexer": "ipython3",
   "version": "3.7.3"
  }
 },
 "nbformat": 4,
 "nbformat_minor": 2
}
